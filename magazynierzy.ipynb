{
 "cells": [
  {
   "cell_type": "code",
   "execution_count": 128,
   "id": "ee77eb01-546f-4514-8dd7-9fe74a7bf5c9",
   "metadata": {},
   "outputs": [],
   "source": [
    "import pandas as pd\n",
    "pd.set_option('display.max_columns', None)\n",
    "\n",
    "import plotly.express as px\n",
    "import plotly.graph_objects as go\n",
    "from datetime import datetime\n",
    "import numpy as np\n",
    "import missingno as msno\n",
    "import matplotlib.pyplot as plt\n",
    "import seaborn as sns\n",
    "from tqdm import tqdm\n",
    "import warnings\n",
    "warnings.filterwarnings(\"ignore\")\n",
    "\n",
    "sns.set(rc={'figure.figsize':(15,8)})\n",
    "\n",
    "path_to_catalog=r'C:\\Users\\kgrzebien\\Desktop\\python_tasks\\kupony\\magazynierzy\\\\'\n"
   ]
  },
  {
   "cell_type": "code",
   "execution_count": 96,
   "id": "75a000d0-f158-4d13-b844-e232053a2662",
   "metadata": {},
   "outputs": [],
   "source": [
    "def func_name_workers_filia(list_of_workers,\n",
    "                            name_of_file_with_workers):\n",
    "    \n",
    "    df=pd.read_excel(name_of_file_with_workers)\n",
    "    df=df.rename(columns={'PELNANAZWA':'pracownik_nazwisko',\n",
    "                         'NUMER':'KOD_OPER'})\n",
    "    for i in df.index:\n",
    "        if df.loc[i, 'pracownik_nazwisko'].split(' ')>1:\n",
    "            if df.loc[i, 'pracownik_nazwisko'].split(' ')[1] in ['PAWEŁ', 'MICHAŁ']:\n",
    "                df.loc[i, 'pracownik_nazwisko']=df.loc[i, 'pracownik_nazwisko'].split(' ')[1]+' '+df.loc[i, 'pracownik_nazwisko'].split(' ')[0]\n",
    "            else: continue\n",
    "        else: continue\n",
    "    df['pracownik_nazwisko_cut']=df['pracownik_nazwisko'].apply(lambda x: x.split(' ')[0][0]+'. '+x.split(' ')[1] if len(x.split(' '))>1 else x)\n",
    "    \n",
    "    if type(list_of_workers[0])==type(0):\n",
    "        df=df.loc[df['pracownik_nazwisko'].isin(list_of_workers)]\n",
    "    else:\n",
    "        df=df.loc[df['KOD_OPER'].isin(list_of_workers)]\n",
    "    return df.reset_index().drop('index', axis=1)\n",
    "\n",
    "\n",
    "def func_name_of_working_magaz(name_of_file_with_workers):\n",
    "    df=pd.read_excel('../magazynierzy/'+name_of_file_with_workers+'.xlsx')\n",
    "    df=df[['Lista magazynierów KUPONY']]\n",
    "    df=df.rename(columns={'Lista magazynierów KUPONY':'pracownik_nazwisko'})\n",
    "    df['pracownik_nazwisko']=df['pracownik_nazwisko'].str.upper()\n",
    "    df['pracownik_nazwisko']=df['pracownik_nazwisko'].apply(lambda x: x.split(' ')[1][0]+'. '+x.split(' ')[0] if len(x.split(' '))>1 else x)\n",
    "    return df['pracownik_nazwisko'].unique()\n",
    "    \n",
    "    \n",
    "def func_kod_magaz_oper(list_of_workers):\n",
    "    df=pd.read_csv('../../słowniki/ZBMAGAZ.csv',encoding='Cp1250',\n",
    "              sep=\"|\")\n",
    "    df=df.loc[df['IS_DELETED']=='N'].loc[df['KOD_MAGAZ'].isin(list_of_workers)].loc[df['KOD_MAGAZ']!=0][['KOD_MAGAZ','NAZW_IMIE','KOD_OPER']]\n",
    "    df=df.sort_values(by='KOD_MAGAZ').reset_index().drop('index', axis=1)\n",
    "    df=df.rename(columns={'NAZW_IMIE':'pracownik_nazwisko'})\n",
    "    for i in df.index:\n",
    "        if len(df.loc[i, 'pracownik_nazwisko'].split(' '))>1:\n",
    "            if df.loc[i, 'pracownik_nazwisko'] in ['ŻUKOWSKI MICHAŁ', 'MIKOCIAK PAWEŁ']:\n",
    "                df.loc[i, 'pracownik_nazwisko']=df.loc[i, 'pracownik_nazwisko'].split(' ')[1]+' '+df.loc[i, 'pracownik_nazwisko'].split(' ')[0]\n",
    "            else: continue\n",
    "        else: continue\n",
    "    df['pracownik_nazwisko']=df['pracownik_nazwisko'].apply(lambda x: x.split(' ')[0][0]+'. '+x.split(' ')[1] if len(x.split(' '))>1 else x)\n",
    "    return df"
   ]
  },
  {
   "cell_type": "code",
   "execution_count": 3,
   "id": "c2da41bb-cc88-4a0a-b4bb-17f927642253",
   "metadata": {},
   "outputs": [],
   "source": [
    "def func_read_data(path, jaki_dokument):\n",
    "    df=pd.read_csv('../magazynierzy/'+path+'.csv',\n",
    "              encoding='Cp1250',\n",
    "              sep=\"|\")\n",
    "    df['jaki_doument']=jaki_dokument\n",
    "    return df\n",
    "\n",
    "def func_add_time(df):\n",
    "    \n",
    "    # df['date_start']=df['Z_DNIA']+' '+df['CZAS_POCZ_1']\n",
    "    # df['date_start']=pd.to_datetime(df['date_start'], format='%y/%m/%d %H:%M:%S')\n",
    "    # df['date_start']=df['date_start'].dt.floor('Min')\n",
    "    # df['date_finish']=df['Z_DNIA']+' '+df['CZAS_KON_1']\n",
    "    # df['date_finish']=pd.to_datetime(df['date_finish'], format='%y/%m/%d %H:%M:%S')\n",
    "    # df['date_finish']=df['date_finish'].dt.floor('Min')\n",
    "    df['Z_DNIA']=pd.to_datetime(df['Z_DNIA'], format='%y/%m/%d')\n",
    "    \n",
    "    df['year']=df['Z_DNIA'].apply(lambda x: x.year)\n",
    "    df['month']=df['Z_DNIA'].apply(lambda x: x.month)\n",
    "    df['day_of_year']=df['Z_DNIA'].apply(lambda x: x.timetuple().tm_yday)\n",
    "    df['week']=df['Z_DNIA'].apply(lambda x: x.isocalendar()[1])\n",
    "    df['week_day']=df['Z_DNIA'].apply(lambda x: x.isocalendar()[2])\n",
    "    df['year_month']=df['year'].astype(str)+'-'+df['month'].astype(str)+'-'+'01'\n",
    "    df['year_month']=df['year_month'].apply(lambda x: x[:5]+'0'+x[5:] if len(x)==9 else x)\n",
    "    df['year_month']=pd.to_datetime(df['year_month'], format='%Y-%m-%d')\n",
    "    df['year_week']=df['year'].astype(str)+'--'+df['week'].astype(str)\n",
    "    df['year_week']=df['year_week'].apply(lambda x: x[:6]+'0'+x[6:] if len(x)==7 else x)\n",
    "    df['year_day']=df['year'].astype(str)+'--'+df['day_of_year'].astype(str)\n",
    "    df['year_day']=df['year_day'].apply(lambda x: x[:6]+'0'+x[6:] if len(x)<9 else x)\n",
    "    return df"
   ]
  },
  {
   "cell_type": "code",
   "execution_count": 69,
   "id": "5bb0fb28-7bb5-48c5-9128-3ef069112bf0",
   "metadata": {},
   "outputs": [
    {
     "data": {
      "text/plain": [
       "array(['D. CIEŚLAWSKI', 'K. GRZYBOWSKI', 'G. HOWANIEC', 'A. KASTELIK',\n",
       "       'P. MIKOCIAK', 'M. MIESZCZAK', 'K. OŻGA', 'M. PROCHOWNIK',\n",
       "       'M. PTAK', 'P. PUCHACZ', 'M. ŻYKOWSKI'], dtype=object)"
      ]
     },
     "execution_count": 69,
     "metadata": {},
     "output_type": "execute_result"
    }
   ],
   "source": [
    "arr_working_magaz"
   ]
  },
  {
   "cell_type": "code",
   "execution_count": 101,
   "id": "bbd9c0a1-ffa2-4b27-8f8f-6684f8b377e4",
   "metadata": {},
   "outputs": [],
   "source": [
    "arr_working_magaz=func_name_of_working_magaz('Lista magazynierów_Kupony_19.07.22')"
   ]
  },
  {
   "cell_type": "code",
   "execution_count": 102,
   "id": "0c0a604a-7533-482e-b6ad-63555ffd1b14",
   "metadata": {},
   "outputs": [
    {
     "name": "stdout",
     "output_type": "stream",
     "text": [
      "CPU times: total: 32.9 s\n",
      "Wall time: 33 s\n"
     ]
    }
   ],
   "source": [
    "%%time\n",
    "df_lkw=func_read_data('LKW', 'LKW')\n",
    "df_f60lkw=func_read_data('F60LKW', 'F60LKW')\n",
    "df_f60lkr=func_read_data('F60LKR', 'F60LKR')\n",
    "#df_f60lkp=func_read_data('dokumenty_F60LKP', 'F60LKP')\n",
    "\n",
    "df_lkw=func_add_time(df_lkw)\n",
    "df_f60lkw=func_add_time(df_f60lkw)\n",
    "df_f60lkr=func_add_time(df_f60lkr)"
   ]
  },
  {
   "cell_type": "code",
   "execution_count": 103,
   "id": "6076859e-9eb7-447d-bebf-288b8769f053",
   "metadata": {},
   "outputs": [],
   "source": [
    "df_magaz_oper_lkw=func_kod_magaz_oper(df_lkw['KOD_MAGAZ_2'].unique())\n",
    "df_magaz_oper_f60lkw=func_kod_magaz_oper(df_f60lkw['KOD_MAGAZ_2'].unique())\n",
    "df_magaz_oper_f60lkr=func_kod_magaz_oper(df_f60lkr['KOD_MAGAZ_2'].unique())"
   ]
  },
  {
   "cell_type": "code",
   "execution_count": 104,
   "id": "ac977ba6-7a3d-40e9-84a5-01d60c7dba53",
   "metadata": {},
   "outputs": [],
   "source": [
    "\n",
    "def func_pivot_table(df, year1, year2, month, kod_dokumentu):\n",
    "    df_table_pivot=pd.DataFrame(columns=['MAGAZYNIER_NAZWISKO','month',\n",
    "                                         'LICZBA_POZYCJI_'+str(year1),'LICZBA_POZYCJI_'+str(year2), 'LICZBA_POZYCJI_DYNAMIKA',\n",
    "                                        'kod_dokumentu'])\n",
    "    \n",
    "    df=df.loc[df['KOD_MAGAZ_2']!=0]\n",
    "    df=df.groupby(['KOD_MAGAZ_2','year','month']).agg({'NR_DOKUM':'count'}).reset_index()\n",
    "    df=df.merge(func_kod_magaz_oper(df_lkw['KOD_MAGAZ_2'].unique()),\n",
    "              how='left',\n",
    "              left_on='KOD_MAGAZ_2',\n",
    "             right_on='KOD_MAGAZ')       \n",
    "    \n",
    "    for magazynier in tqdm(df['pracownik_nazwisko'].unique()):\n",
    "        for mc in month:\n",
    "            try:\n",
    "                val1=df.loc[df['year']==year1].loc[df['month']==mc].loc[df['pracownik_nazwisko']==magazynier]['NR_DOKUM'].values[0]\n",
    "            except:\n",
    "                val1=0\n",
    "            try:\n",
    "                val2=df.loc[df['year']==year2].loc[df['month']==mc].loc[df['pracownik_nazwisko']==magazynier]['NR_DOKUM'].values[0]\n",
    "            except:\n",
    "                val2=0\n",
    "            try:\n",
    "                val_dyn=round((val2-val1)/val1, 2)\n",
    "            except:\n",
    "                val_dyn=0\n",
    "\n",
    "            df_table_pivot=df_table_pivot.append({'MAGAZYNIER_NAZWISKO':magazynier,\n",
    "                                                   'month':mc,\n",
    "                                                    'LICZBA_POZYCJI_'+str(year1):val1,\n",
    "                                                    'LICZBA_POZYCJI_'+str(year2):val2, \n",
    "                                                    'LICZBA_POZYCJI_DYNAMIKA':val_dyn,\n",
    "                                                 'kod_dokumentu':kod_dokumentu},\n",
    "                                                ignore_index=True)\n",
    "                \n",
    "                \n",
    "                \n",
    "        df_table_pivot=df_table_pivot.fillna(0)\n",
    "        df_table_pivot.replace([np.inf, -np.inf], 0, inplace=True)\n",
    "        \n",
    "        val1=df_table_pivot.loc[df_table_pivot['MAGAZYNIER_NAZWISKO']==magazynier]['LICZBA_POZYCJI_'+str(year1)].sum()\n",
    "        val2=df_table_pivot.loc[df_table_pivot['MAGAZYNIER_NAZWISKO']==magazynier]['LICZBA_POZYCJI_'+str(year2)].sum()\n",
    "        try:\n",
    "            val_dyn=(val2-val1)/val1#*100\n",
    "            val_dyn=round(val_dyn, 2)\n",
    "        except:\n",
    "            val_dyn=0\n",
    "            \n",
    "        df_table_pivot=df_table_pivot.append({'MAGAZYNIER_NAZWISKO':magazynier,\n",
    "                                               'month':'suma',\n",
    "                                                'LICZBA_POZYCJI_'+str(year1):val1,\n",
    "                                                'LICZBA_POZYCJI_'+str(year2):val2, \n",
    "                                                'LICZBA_POZYCJI_DYNAMIKA':val_dyn,\n",
    "                                             'kod_dokumentu':kod_dokumentu},\n",
    "                                                ignore_index=True)   \n",
    "        \n",
    "        \n",
    "    df_table_pivot=df_table_pivot.fillna(0)\n",
    "    df_table_pivot.replace([np.inf, -np.inf], 0, inplace=True)\n",
    "    return df_table_pivot\n",
    "\n",
    "\n",
    "def func_add_pivot_tables(arr_df, col_group, col_change_name):\n",
    "    for i in range(len(arr_df)):\n",
    "        for col_name in col_change_name:\n",
    "            arr_df[i]=arr_df[i].rename(columns={col_name:col_name+'_'+arr_df[i]['kod_dokumentu'].values[0]})\n",
    "        arr_df[i]=arr_df[i].drop('kod_dokumentu', axis=1)\n",
    "            \n",
    "    df_to_return=arr_df[0]\n",
    "    \n",
    "    for i in range(len(arr_df)-1):\n",
    "        df_to_return=df_to_return.merge(arr_df[i+1], how='outer', on=col_group)\n",
    "        \n",
    "    df_to_return=df_to_return.fillna(0)\n",
    "    return df_to_return\n",
    "\n",
    "def func_add_col_with_sum(df, year1, year2, col_to_sum, arr_domukent):\n",
    "    for col_name in col_to_sum:\n",
    "        df['SUMA_'+col_name+'_'+str(year1)]=0\n",
    "        df['SUMA_'+col_name+'_'+str(year2)]=0\n",
    "        \n",
    "    for col_name in col_to_sum:\n",
    "        for dok in arr_domukent:\n",
    "            df['SUMA_'+col_name+'_'+str(year1)]+=df[col_name+'_'+str(year1)+'_'+dok]\n",
    "            df['SUMA_'+col_name+'_'+str(year2)]+=df[col_name+'_'+str(year2)+'_'+dok]\n",
    "            \n",
    "    for col_name in col_to_sum:\n",
    "        df['SUMA_'+col_name+'_DYNAMIKA']=round((df['SUMA_'+col_name+'_'+str(year2)]-df['SUMA_'+col_name+'_'+str(year1)])/df['SUMA_'+col_name+'_'+str(year1)], 2)\n",
    "        \n",
    "    df=df.fillna(0)\n",
    "    df.replace([np.inf, -np.inf], 0, inplace=True)\n",
    "    return df"
   ]
  },
  {
   "cell_type": "code",
   "execution_count": 46,
   "id": "7ec7a788-a644-4fd0-9cec-552b98b66049",
   "metadata": {},
   "outputs": [
    {
     "data": {
      "text/html": [
       "<div>\n",
       "<style scoped>\n",
       "    .dataframe tbody tr th:only-of-type {\n",
       "        vertical-align: middle;\n",
       "    }\n",
       "\n",
       "    .dataframe tbody tr th {\n",
       "        vertical-align: top;\n",
       "    }\n",
       "\n",
       "    .dataframe thead th {\n",
       "        text-align: right;\n",
       "    }\n",
       "</style>\n",
       "<table border=\"1\" class=\"dataframe\">\n",
       "  <thead>\n",
       "    <tr style=\"text-align: right;\">\n",
       "      <th></th>\n",
       "      <th>NR_DOKUM</th>\n",
       "      <th>KOD_KONTR</th>\n",
       "      <th>Z_DNIA</th>\n",
       "      <th>CZAS_POCZ_1</th>\n",
       "      <th>CZAS_KON_1</th>\n",
       "      <th>NR_PZWZ</th>\n",
       "      <th>DATA_PZWZ</th>\n",
       "      <th>STATUS</th>\n",
       "      <th>KOD_OPER</th>\n",
       "      <th>KOD_MAGAZ_1</th>\n",
       "      <th>WAGA</th>\n",
       "      <th>KOD_STAN</th>\n",
       "      <th>POMYLKI</th>\n",
       "      <th>ILOSC</th>\n",
       "      <th>KOD_MAGAZ_2</th>\n",
       "      <th>CZAS_POCZ_2</th>\n",
       "      <th>CZAS_KON_2</th>\n",
       "      <th>KOD_NAKL</th>\n",
       "      <th>jaki_doument</th>\n",
       "      <th>year</th>\n",
       "      <th>month</th>\n",
       "      <th>day_of_year</th>\n",
       "      <th>week</th>\n",
       "      <th>week_day</th>\n",
       "      <th>year_month</th>\n",
       "      <th>year_week</th>\n",
       "      <th>year_day</th>\n",
       "    </tr>\n",
       "  </thead>\n",
       "  <tbody>\n",
       "    <tr>\n",
       "      <th>0</th>\n",
       "      <td>LW20/418</td>\n",
       "      <td>60XXXX</td>\n",
       "      <td>2020-01-02</td>\n",
       "      <td>14:17:50</td>\n",
       "      <td>14:30:30</td>\n",
       "      <td>WZ0000535991</td>\n",
       "      <td>20/01/02</td>\n",
       "      <td>Z</td>\n",
       "      <td>1683</td>\n",
       "      <td>670</td>\n",
       "      <td>47,14</td>\n",
       "      <td>1</td>\n",
       "      <td>0</td>\n",
       "      <td>24,9</td>\n",
       "      <td>670</td>\n",
       "      <td>14:26:15</td>\n",
       "      <td>14:26:36</td>\n",
       "      <td>2210006156757</td>\n",
       "      <td>LKW</td>\n",
       "      <td>2020</td>\n",
       "      <td>1</td>\n",
       "      <td>2</td>\n",
       "      <td>1</td>\n",
       "      <td>4</td>\n",
       "      <td>2020-01-01</td>\n",
       "      <td>2020--01</td>\n",
       "      <td>2020--02</td>\n",
       "    </tr>\n",
       "    <tr>\n",
       "      <th>1</th>\n",
       "      <td>LW20/418</td>\n",
       "      <td>60XXXX</td>\n",
       "      <td>2020-01-02</td>\n",
       "      <td>14:17:50</td>\n",
       "      <td>14:30:30</td>\n",
       "      <td>WZ0000535991</td>\n",
       "      <td>20/01/02</td>\n",
       "      <td>Z</td>\n",
       "      <td>1683</td>\n",
       "      <td>670</td>\n",
       "      <td>47,14</td>\n",
       "      <td>1</td>\n",
       "      <td>0</td>\n",
       "      <td>1</td>\n",
       "      <td>0</td>\n",
       "      <td></td>\n",
       "      <td></td>\n",
       "      <td>2210006156757</td>\n",
       "      <td>LKW</td>\n",
       "      <td>2020</td>\n",
       "      <td>1</td>\n",
       "      <td>2</td>\n",
       "      <td>1</td>\n",
       "      <td>4</td>\n",
       "      <td>2020-01-01</td>\n",
       "      <td>2020--01</td>\n",
       "      <td>2020--02</td>\n",
       "    </tr>\n",
       "    <tr>\n",
       "      <th>2</th>\n",
       "      <td>LW20/419</td>\n",
       "      <td>60XXXX</td>\n",
       "      <td>2020-01-02</td>\n",
       "      <td>14:17:55</td>\n",
       "      <td>14:21:46</td>\n",
       "      <td>WZ0000535992</td>\n",
       "      <td>20/01/02</td>\n",
       "      <td>Z</td>\n",
       "      <td>1683</td>\n",
       "      <td>670</td>\n",
       "      <td>26,01</td>\n",
       "      <td>1</td>\n",
       "      <td>0</td>\n",
       "      <td>20,5</td>\n",
       "      <td>670</td>\n",
       "      <td>14:19:27</td>\n",
       "      <td>14:20:26</td>\n",
       "      <td>2210006156740</td>\n",
       "      <td>LKW</td>\n",
       "      <td>2020</td>\n",
       "      <td>1</td>\n",
       "      <td>2</td>\n",
       "      <td>1</td>\n",
       "      <td>4</td>\n",
       "      <td>2020-01-01</td>\n",
       "      <td>2020--01</td>\n",
       "      <td>2020--02</td>\n",
       "    </tr>\n",
       "    <tr>\n",
       "      <th>3</th>\n",
       "      <td>LW20/419</td>\n",
       "      <td>60XXXX</td>\n",
       "      <td>2020-01-02</td>\n",
       "      <td>14:17:55</td>\n",
       "      <td>14:21:46</td>\n",
       "      <td>WZ0000535992</td>\n",
       "      <td>20/01/02</td>\n",
       "      <td>Z</td>\n",
       "      <td>1683</td>\n",
       "      <td>670</td>\n",
       "      <td>26,01</td>\n",
       "      <td>1</td>\n",
       "      <td>0</td>\n",
       "      <td>26,5</td>\n",
       "      <td>670</td>\n",
       "      <td>14:20:26</td>\n",
       "      <td>14:21:05</td>\n",
       "      <td>2210006156740</td>\n",
       "      <td>LKW</td>\n",
       "      <td>2020</td>\n",
       "      <td>1</td>\n",
       "      <td>2</td>\n",
       "      <td>1</td>\n",
       "      <td>4</td>\n",
       "      <td>2020-01-01</td>\n",
       "      <td>2020--01</td>\n",
       "      <td>2020--02</td>\n",
       "    </tr>\n",
       "    <tr>\n",
       "      <th>4</th>\n",
       "      <td>LW20/419</td>\n",
       "      <td>60XXXX</td>\n",
       "      <td>2020-01-02</td>\n",
       "      <td>14:17:55</td>\n",
       "      <td>14:21:46</td>\n",
       "      <td>WZ0000535992</td>\n",
       "      <td>20/01/02</td>\n",
       "      <td>Z</td>\n",
       "      <td>1683</td>\n",
       "      <td>670</td>\n",
       "      <td>26,01</td>\n",
       "      <td>1</td>\n",
       "      <td>0</td>\n",
       "      <td>23,3</td>\n",
       "      <td>670</td>\n",
       "      <td>14:19:09</td>\n",
       "      <td>14:19:27</td>\n",
       "      <td>2210006156740</td>\n",
       "      <td>LKW</td>\n",
       "      <td>2020</td>\n",
       "      <td>1</td>\n",
       "      <td>2</td>\n",
       "      <td>1</td>\n",
       "      <td>4</td>\n",
       "      <td>2020-01-01</td>\n",
       "      <td>2020--01</td>\n",
       "      <td>2020--02</td>\n",
       "    </tr>\n",
       "    <tr>\n",
       "      <th>...</th>\n",
       "      <td>...</td>\n",
       "      <td>...</td>\n",
       "      <td>...</td>\n",
       "      <td>...</td>\n",
       "      <td>...</td>\n",
       "      <td>...</td>\n",
       "      <td>...</td>\n",
       "      <td>...</td>\n",
       "      <td>...</td>\n",
       "      <td>...</td>\n",
       "      <td>...</td>\n",
       "      <td>...</td>\n",
       "      <td>...</td>\n",
       "      <td>...</td>\n",
       "      <td>...</td>\n",
       "      <td>...</td>\n",
       "      <td>...</td>\n",
       "      <td>...</td>\n",
       "      <td>...</td>\n",
       "      <td>...</td>\n",
       "      <td>...</td>\n",
       "      <td>...</td>\n",
       "      <td>...</td>\n",
       "      <td>...</td>\n",
       "      <td>...</td>\n",
       "      <td>...</td>\n",
       "      <td>...</td>\n",
       "    </tr>\n",
       "    <tr>\n",
       "      <th>86178</th>\n",
       "      <td>LW22/205533</td>\n",
       "      <td>60XXXX</td>\n",
       "      <td>2022-07-21</td>\n",
       "      <td>06:00:59</td>\n",
       "      <td>06:17:31</td>\n",
       "      <td>WZ0001499763</td>\n",
       "      <td>22/07/21</td>\n",
       "      <td>Z</td>\n",
       "      <td>2053</td>\n",
       "      <td>682</td>\n",
       "      <td>18,69</td>\n",
       "      <td>1</td>\n",
       "      <td>0</td>\n",
       "      <td>20</td>\n",
       "      <td>682</td>\n",
       "      <td>06:10:51</td>\n",
       "      <td>06:11:08</td>\n",
       "      <td>2210016806406</td>\n",
       "      <td>LKW</td>\n",
       "      <td>2022</td>\n",
       "      <td>7</td>\n",
       "      <td>202</td>\n",
       "      <td>29</td>\n",
       "      <td>4</td>\n",
       "      <td>2022-07-01</td>\n",
       "      <td>2022--29</td>\n",
       "      <td>2022--202</td>\n",
       "    </tr>\n",
       "    <tr>\n",
       "      <th>86179</th>\n",
       "      <td>LW22/205533</td>\n",
       "      <td>60XXXX</td>\n",
       "      <td>2022-07-21</td>\n",
       "      <td>06:00:59</td>\n",
       "      <td>06:17:31</td>\n",
       "      <td>WZ0001499763</td>\n",
       "      <td>22/07/21</td>\n",
       "      <td>Z</td>\n",
       "      <td>2053</td>\n",
       "      <td>682</td>\n",
       "      <td>18,69</td>\n",
       "      <td>1</td>\n",
       "      <td>0</td>\n",
       "      <td>1</td>\n",
       "      <td>0</td>\n",
       "      <td></td>\n",
       "      <td></td>\n",
       "      <td>2210016806406</td>\n",
       "      <td>LKW</td>\n",
       "      <td>2022</td>\n",
       "      <td>7</td>\n",
       "      <td>202</td>\n",
       "      <td>29</td>\n",
       "      <td>4</td>\n",
       "      <td>2022-07-01</td>\n",
       "      <td>2022--29</td>\n",
       "      <td>2022--202</td>\n",
       "    </tr>\n",
       "    <tr>\n",
       "      <th>86180</th>\n",
       "      <td>LW22/205959</td>\n",
       "      <td>60XXXX</td>\n",
       "      <td>2022-07-21</td>\n",
       "      <td>12:21:40</td>\n",
       "      <td>12:24:10</td>\n",
       "      <td>WZ0001500171</td>\n",
       "      <td>22/07/21</td>\n",
       "      <td>Z</td>\n",
       "      <td>896</td>\n",
       "      <td>499</td>\n",
       "      <td>0</td>\n",
       "      <td>1</td>\n",
       "      <td>0</td>\n",
       "      <td>1</td>\n",
       "      <td>0</td>\n",
       "      <td></td>\n",
       "      <td></td>\n",
       "      <td>2210016814319</td>\n",
       "      <td>LKW</td>\n",
       "      <td>2022</td>\n",
       "      <td>7</td>\n",
       "      <td>202</td>\n",
       "      <td>29</td>\n",
       "      <td>4</td>\n",
       "      <td>2022-07-01</td>\n",
       "      <td>2022--29</td>\n",
       "      <td>2022--202</td>\n",
       "    </tr>\n",
       "    <tr>\n",
       "      <th>86181</th>\n",
       "      <td>LW22/205959</td>\n",
       "      <td>60XXXX</td>\n",
       "      <td>2022-07-21</td>\n",
       "      <td>12:21:40</td>\n",
       "      <td>12:24:10</td>\n",
       "      <td>WZ0001500171</td>\n",
       "      <td>22/07/21</td>\n",
       "      <td>Z</td>\n",
       "      <td>896</td>\n",
       "      <td>499</td>\n",
       "      <td>0</td>\n",
       "      <td>1</td>\n",
       "      <td>0</td>\n",
       "      <td>24</td>\n",
       "      <td>499</td>\n",
       "      <td>12:23:42</td>\n",
       "      <td>12:23:47</td>\n",
       "      <td>2210016814319</td>\n",
       "      <td>LKW</td>\n",
       "      <td>2022</td>\n",
       "      <td>7</td>\n",
       "      <td>202</td>\n",
       "      <td>29</td>\n",
       "      <td>4</td>\n",
       "      <td>2022-07-01</td>\n",
       "      <td>2022--29</td>\n",
       "      <td>2022--202</td>\n",
       "    </tr>\n",
       "    <tr>\n",
       "      <th>86182</th>\n",
       "      <td>LW22/205727</td>\n",
       "      <td>60XXXX</td>\n",
       "      <td>2022-07-21</td>\n",
       "      <td>09:05:46</td>\n",
       "      <td>09:18:42</td>\n",
       "      <td>WZ0001499912</td>\n",
       "      <td>22/07/21</td>\n",
       "      <td>Z</td>\n",
       "      <td>2053</td>\n",
       "      <td>682</td>\n",
       "      <td>8,88</td>\n",
       "      <td>1</td>\n",
       "      <td>0</td>\n",
       "      <td>24</td>\n",
       "      <td>682</td>\n",
       "      <td>09:14:50</td>\n",
       "      <td>09:14:59</td>\n",
       "      <td>2210016810700</td>\n",
       "      <td>LKW</td>\n",
       "      <td>2022</td>\n",
       "      <td>7</td>\n",
       "      <td>202</td>\n",
       "      <td>29</td>\n",
       "      <td>4</td>\n",
       "      <td>2022-07-01</td>\n",
       "      <td>2022--29</td>\n",
       "      <td>2022--202</td>\n",
       "    </tr>\n",
       "  </tbody>\n",
       "</table>\n",
       "<p>86183 rows × 27 columns</p>\n",
       "</div>"
      ],
      "text/plain": [
       "          NR_DOKUM KOD_KONTR     Z_DNIA CZAS_POCZ_1 CZAS_KON_1       NR_PZWZ  \\\n",
       "0         LW20/418    60XXXX 2020-01-02    14:17:50   14:30:30  WZ0000535991   \n",
       "1         LW20/418    60XXXX 2020-01-02    14:17:50   14:30:30  WZ0000535991   \n",
       "2         LW20/419    60XXXX 2020-01-02    14:17:55   14:21:46  WZ0000535992   \n",
       "3         LW20/419    60XXXX 2020-01-02    14:17:55   14:21:46  WZ0000535992   \n",
       "4         LW20/419    60XXXX 2020-01-02    14:17:55   14:21:46  WZ0000535992   \n",
       "...            ...       ...        ...         ...        ...           ...   \n",
       "86178  LW22/205533    60XXXX 2022-07-21    06:00:59   06:17:31  WZ0001499763   \n",
       "86179  LW22/205533    60XXXX 2022-07-21    06:00:59   06:17:31  WZ0001499763   \n",
       "86180  LW22/205959    60XXXX 2022-07-21    12:21:40   12:24:10  WZ0001500171   \n",
       "86181  LW22/205959    60XXXX 2022-07-21    12:21:40   12:24:10  WZ0001500171   \n",
       "86182  LW22/205727    60XXXX 2022-07-21    09:05:46   09:18:42  WZ0001499912   \n",
       "\n",
       "      DATA_PZWZ STATUS  KOD_OPER  KOD_MAGAZ_1   WAGA  KOD_STAN  POMYLKI ILOSC  \\\n",
       "0      20/01/02      Z      1683          670  47,14         1        0  24,9   \n",
       "1      20/01/02      Z      1683          670  47,14         1        0     1   \n",
       "2      20/01/02      Z      1683          670  26,01         1        0  20,5   \n",
       "3      20/01/02      Z      1683          670  26,01         1        0  26,5   \n",
       "4      20/01/02      Z      1683          670  26,01         1        0  23,3   \n",
       "...         ...    ...       ...          ...    ...       ...      ...   ...   \n",
       "86178  22/07/21      Z      2053          682  18,69         1        0    20   \n",
       "86179  22/07/21      Z      2053          682  18,69         1        0     1   \n",
       "86180  22/07/21      Z       896          499      0         1        0     1   \n",
       "86181  22/07/21      Z       896          499      0         1        0    24   \n",
       "86182  22/07/21      Z      2053          682   8,88         1        0    24   \n",
       "\n",
       "       KOD_MAGAZ_2 CZAS_POCZ_2 CZAS_KON_2       KOD_NAKL jaki_doument  year  \\\n",
       "0              670    14:26:15   14:26:36  2210006156757          LKW  2020   \n",
       "1                0                         2210006156757          LKW  2020   \n",
       "2              670    14:19:27   14:20:26  2210006156740          LKW  2020   \n",
       "3              670    14:20:26   14:21:05  2210006156740          LKW  2020   \n",
       "4              670    14:19:09   14:19:27  2210006156740          LKW  2020   \n",
       "...            ...         ...        ...            ...          ...   ...   \n",
       "86178          682    06:10:51   06:11:08  2210016806406          LKW  2022   \n",
       "86179            0                         2210016806406          LKW  2022   \n",
       "86180            0                         2210016814319          LKW  2022   \n",
       "86181          499    12:23:42   12:23:47  2210016814319          LKW  2022   \n",
       "86182          682    09:14:50   09:14:59  2210016810700          LKW  2022   \n",
       "\n",
       "       month  day_of_year  week  week_day year_month year_week   year_day  \n",
       "0          1            2     1         4 2020-01-01  2020--01   2020--02  \n",
       "1          1            2     1         4 2020-01-01  2020--01   2020--02  \n",
       "2          1            2     1         4 2020-01-01  2020--01   2020--02  \n",
       "3          1            2     1         4 2020-01-01  2020--01   2020--02  \n",
       "4          1            2     1         4 2020-01-01  2020--01   2020--02  \n",
       "...      ...          ...   ...       ...        ...       ...        ...  \n",
       "86178      7          202    29         4 2022-07-01  2022--29  2022--202  \n",
       "86179      7          202    29         4 2022-07-01  2022--29  2022--202  \n",
       "86180      7          202    29         4 2022-07-01  2022--29  2022--202  \n",
       "86181      7          202    29         4 2022-07-01  2022--29  2022--202  \n",
       "86182      7          202    29         4 2022-07-01  2022--29  2022--202  \n",
       "\n",
       "[86183 rows x 27 columns]"
      ]
     },
     "execution_count": 46,
     "metadata": {},
     "output_type": "execute_result"
    }
   ],
   "source": [
    "df_lkw"
   ]
  },
  {
   "cell_type": "code",
   "execution_count": 105,
   "id": "97166843-68a5-4efc-994a-83421dae2627",
   "metadata": {},
   "outputs": [
    {
     "name": "stderr",
     "output_type": "stream",
     "text": [
      "100%|██████████████████████████████████████████████████████████████████████████████████| 66/66 [00:17<00:00,  3.67it/s]\n"
     ]
    }
   ],
   "source": [
    "df_lkw_pivot=func_pivot_table(df_lkw, 2021, 2022, [1,2,3,4,5,6], 'LKW')\n",
    "df_lkw_pivot=df_lkw_pivot.loc[df_lkw_pivot['MAGAZYNIER_NAZWISKO'].isin(df_lkw_pivot.loc[df_lkw_pivot['month']=='suma'].\\\n",
    "                                                                       loc[(df_lkw_pivot['LICZBA_POZYCJI_2021']!=0) |\\\n",
    "                                                                           (df_lkw_pivot['LICZBA_POZYCJI_2022']!=0)]['MAGAZYNIER_NAZWISKO'].unique())]"
   ]
  },
  {
   "cell_type": "code",
   "execution_count": 106,
   "id": "0211f528-cedb-4d52-b543-74585e32390b",
   "metadata": {},
   "outputs": [
    {
     "name": "stderr",
     "output_type": "stream",
     "text": [
      "100%|██████████████████████████████████████████████████████████████████████████████████| 14/14 [00:03<00:00,  3.79it/s]\n"
     ]
    }
   ],
   "source": [
    "df_f60lkw_pivot=func_pivot_table(df_f60lkw, 2021, 2022, [1,2,3,4,5,6], 'F60LKW')\n",
    "df_f60lkw_pivot=df_f60lkw_pivot.loc[df_f60lkw_pivot['MAGAZYNIER_NAZWISKO'].isin(df_f60lkw_pivot.loc[df_f60lkw_pivot['month']=='suma'].\\\n",
    "                                                                                                   loc[(df_f60lkw_pivot['LICZBA_POZYCJI_2021']!=0) |\\\n",
    "                                                                                                       (df_f60lkw_pivot['LICZBA_POZYCJI_2022']!=0)]['MAGAZYNIER_NAZWISKO'].unique())]"
   ]
  },
  {
   "cell_type": "code",
   "execution_count": 107,
   "id": "d175660d-c94b-4d4b-9651-b3f5b676ab1b",
   "metadata": {},
   "outputs": [
    {
     "name": "stderr",
     "output_type": "stream",
     "text": [
      "100%|██████████████████████████████████████████████████████████████████████████████████| 20/20 [00:05<00:00,  3.67it/s]\n"
     ]
    }
   ],
   "source": [
    "df_f60lkr_pivot=func_pivot_table(df_f60lkr, 2021, 2022, [1,2,3,4,5,6], 'F60LKR')\n",
    "df_f60lkr_pivot=df_f60lkr_pivot.loc[df_f60lkr_pivot['MAGAZYNIER_NAZWISKO'].isin(df_f60lkr_pivot.loc[df_f60lkr_pivot['month']=='suma'].\\\n",
    "                                                                                                   loc[(df_f60lkr_pivot['LICZBA_POZYCJI_2021']!=0) |\\\n",
    "                                                                                                       (df_f60lkr_pivot['LICZBA_POZYCJI_2022']!=0)]['MAGAZYNIER_NAZWISKO'].unique())]"
   ]
  },
  {
   "cell_type": "code",
   "execution_count": 108,
   "id": "793d1851-2eef-4fe1-92bc-3f979098387e",
   "metadata": {},
   "outputs": [],
   "source": [
    "df_pivot=func_add_pivot_tables([df_lkw_pivot, df_f60lkw_pivot, df_f60lkr_pivot],\n",
    "                              ['MAGAZYNIER_NAZWISKO','month'],\n",
    "                              ['LICZBA_POZYCJI_2021','LICZBA_POZYCJI_2022','LICZBA_POZYCJI_DYNAMIKA'])\n",
    "df_pivot=func_add_col_with_sum(df_pivot, 2021, 2022,\n",
    "                              ['LICZBA_POZYCJI'],\n",
    "                              ['LKW', 'F60LKW', 'F60LKR'])\n",
    "df_pivot=df_pivot.loc[df_pivot['MAGAZYNIER_NAZWISKO'].isin(arr_working_magaz)]"
   ]
  },
  {
   "cell_type": "code",
   "execution_count": 109,
   "id": "cb3c0fd3-743b-4fa0-8b99-eb879b6b6f22",
   "metadata": {},
   "outputs": [],
   "source": [
    "df_pivot.to_excel(path_to_catalog+'df_pivot_magazynierzy_lkw_f60lkw_f60lkr.xlsx')"
   ]
  },
  {
   "cell_type": "code",
   "execution_count": null,
   "id": "3a4cbcb8-dddd-41bb-a955-38a31adaa7af",
   "metadata": {},
   "outputs": [],
   "source": []
  },
  {
   "cell_type": "code",
   "execution_count": null,
   "id": "cba3d1f9-43e5-4194-b31d-550f3b0849b7",
   "metadata": {},
   "outputs": [],
   "source": []
  },
  {
   "cell_type": "code",
   "execution_count": 124,
   "id": "0789b455-83ea-4faf-a498-47d4c41749b9",
   "metadata": {},
   "outputs": [],
   "source": [
    "df1=df_lkw.groupby(['KOD_MAGAZ_2','year_month']).agg({'NR_DOKUM':'count'}).reset_index()\n",
    "df2=df_f60lkw.groupby(['KOD_MAGAZ_2','year_month']).agg({'NR_DOKUM':'count'}).reset_index()\n",
    "df3=df_f60lkr.groupby(['KOD_MAGAZ_2','year_month']).agg({'NR_DOKUM':'count'}).reset_index()\n",
    "\n",
    "df1=pd.concat([df1, df2]).groupby(['KOD_MAGAZ_2','year_month']).sum().reset_index()\n",
    "df1=pd.concat([df1, df3]).groupby(['KOD_MAGAZ_2','year_month']).sum().reset_index()\n",
    "\n",
    "df1=df1.merge(func_kod_magaz_oper(df_lkw['KOD_MAGAZ_2'].unique()),\n",
    "              how='left',\n",
    "              left_on='KOD_MAGAZ_2',\n",
    "             right_on='KOD_MAGAZ')  \n",
    "df1=df1[['year_month','NR_DOKUM','pracownik_nazwisko']]\n",
    "df1=df1.loc[df1['pracownik_nazwisko'].isin(arr_working_magaz)]"
   ]
  },
  {
   "cell_type": "code",
   "execution_count": 140,
   "id": "30dce3a9-87ba-4cad-924b-48b34e173e40",
   "metadata": {},
   "outputs": [
    {
     "data": {
      "application/vnd.plotly.v1+json": {
       "config": {
        "plotlyServerURL": "https://plot.ly"
       },
       "data": [
        {
         "alignmentgroup": "True",
         "hovertemplate": "year_month=%{x}<br>NR_DOKUM=%{y}<br>pracownik_nazwisko=%{marker.color}<extra></extra>",
         "legendgroup": "",
         "marker": {
          "color": [
           5,
           5,
           5,
           4,
           5,
           5,
           6,
           6,
           6,
           6,
           6,
           6,
           6,
           6,
           7,
           7,
           7,
           7,
           7,
           7,
           7,
           8,
           8,
           8,
           8,
           10,
           10,
           11,
           11,
           11,
           11
          ],
          "coloraxis": "coloraxis",
          "pattern": {
           "shape": ""
          }
         },
         "name": "",
         "offsetgroup": "",
         "orientation": "v",
         "showlegend": false,
         "textposition": "auto",
         "type": "bar",
         "x": [
          "2020-01-01T00:00:00",
          "2020-02-01T00:00:00",
          "2020-03-01T00:00:00",
          "2020-04-01T00:00:00",
          "2020-05-01T00:00:00",
          "2020-06-01T00:00:00",
          "2020-07-01T00:00:00",
          "2020-08-01T00:00:00",
          "2020-09-01T00:00:00",
          "2020-10-01T00:00:00",
          "2020-11-01T00:00:00",
          "2020-12-01T00:00:00",
          "2021-01-01T00:00:00",
          "2021-02-01T00:00:00",
          "2021-03-01T00:00:00",
          "2021-04-01T00:00:00",
          "2021-05-01T00:00:00",
          "2021-06-01T00:00:00",
          "2021-07-01T00:00:00",
          "2021-08-01T00:00:00",
          "2021-09-01T00:00:00",
          "2021-10-01T00:00:00",
          "2021-11-01T00:00:00",
          "2021-12-01T00:00:00",
          "2022-01-01T00:00:00",
          "2022-02-01T00:00:00",
          "2022-03-01T00:00:00",
          "2022-04-01T00:00:00",
          "2022-05-01T00:00:00",
          "2022-06-01T00:00:00",
          "2022-07-01T00:00:00"
         ],
         "xaxis": "x",
         "y": [
          6829,
          7661,
          5712,
          2238,
          5162,
          7167,
          6439,
          8516,
          6665,
          6614,
          6272,
          5334,
          7007,
          7978,
          12256,
          7271,
          10020,
          7964,
          6946,
          8979,
          8953,
          11347,
          15604,
          11101,
          7526,
          9395,
          14439,
          13620,
          12056,
          11773,
          9259
         ],
         "yaxis": "y"
        }
       ],
       "layout": {
        "autosize": true,
        "barmode": "relative",
        "coloraxis": {
         "colorbar": {
          "title": {
           "text": "pracownik_nazwisko"
          }
         },
         "colorscale": [
          [
           0,
           "rgb(232, 245, 171)"
          ],
          [
           0.09090909090909091,
           "rgb(220, 219, 137)"
          ],
          [
           0.18181818181818182,
           "rgb(209, 193, 107)"
          ],
          [
           0.2727272727272727,
           "rgb(199, 168, 83)"
          ],
          [
           0.36363636363636365,
           "rgb(186, 143, 66)"
          ],
          [
           0.45454545454545453,
           "rgb(170, 121, 60)"
          ],
          [
           0.5454545454545454,
           "rgb(151, 103, 58)"
          ],
          [
           0.6363636363636364,
           "rgb(129, 87, 56)"
          ],
          [
           0.7272727272727273,
           "rgb(104, 72, 53)"
          ],
          [
           0.8181818181818182,
           "rgb(80, 59, 46)"
          ],
          [
           0.9090909090909091,
           "rgb(57, 45, 37)"
          ],
          [
           1,
           "rgb(34, 30, 27)"
          ]
         ]
        },
        "legend": {
         "tracegroupgap": 0
        },
        "margin": {
         "t": 60
        },
        "template": {
         "data": {
          "bar": [
           {
            "error_x": {
             "color": "#2a3f5f"
            },
            "error_y": {
             "color": "#2a3f5f"
            },
            "marker": {
             "line": {
              "color": "#E5ECF6",
              "width": 0.5
             },
             "pattern": {
              "fillmode": "overlay",
              "size": 10,
              "solidity": 0.2
             }
            },
            "type": "bar"
           }
          ],
          "barpolar": [
           {
            "marker": {
             "line": {
              "color": "#E5ECF6",
              "width": 0.5
             },
             "pattern": {
              "fillmode": "overlay",
              "size": 10,
              "solidity": 0.2
             }
            },
            "type": "barpolar"
           }
          ],
          "carpet": [
           {
            "aaxis": {
             "endlinecolor": "#2a3f5f",
             "gridcolor": "white",
             "linecolor": "white",
             "minorgridcolor": "white",
             "startlinecolor": "#2a3f5f"
            },
            "baxis": {
             "endlinecolor": "#2a3f5f",
             "gridcolor": "white",
             "linecolor": "white",
             "minorgridcolor": "white",
             "startlinecolor": "#2a3f5f"
            },
            "type": "carpet"
           }
          ],
          "choropleth": [
           {
            "colorbar": {
             "outlinewidth": 0,
             "ticks": ""
            },
            "type": "choropleth"
           }
          ],
          "contour": [
           {
            "colorbar": {
             "outlinewidth": 0,
             "ticks": ""
            },
            "colorscale": [
             [
              0,
              "#0d0887"
             ],
             [
              0.1111111111111111,
              "#46039f"
             ],
             [
              0.2222222222222222,
              "#7201a8"
             ],
             [
              0.3333333333333333,
              "#9c179e"
             ],
             [
              0.4444444444444444,
              "#bd3786"
             ],
             [
              0.5555555555555556,
              "#d8576b"
             ],
             [
              0.6666666666666666,
              "#ed7953"
             ],
             [
              0.7777777777777778,
              "#fb9f3a"
             ],
             [
              0.8888888888888888,
              "#fdca26"
             ],
             [
              1,
              "#f0f921"
             ]
            ],
            "type": "contour"
           }
          ],
          "contourcarpet": [
           {
            "colorbar": {
             "outlinewidth": 0,
             "ticks": ""
            },
            "type": "contourcarpet"
           }
          ],
          "heatmap": [
           {
            "colorbar": {
             "outlinewidth": 0,
             "ticks": ""
            },
            "colorscale": [
             [
              0,
              "#0d0887"
             ],
             [
              0.1111111111111111,
              "#46039f"
             ],
             [
              0.2222222222222222,
              "#7201a8"
             ],
             [
              0.3333333333333333,
              "#9c179e"
             ],
             [
              0.4444444444444444,
              "#bd3786"
             ],
             [
              0.5555555555555556,
              "#d8576b"
             ],
             [
              0.6666666666666666,
              "#ed7953"
             ],
             [
              0.7777777777777778,
              "#fb9f3a"
             ],
             [
              0.8888888888888888,
              "#fdca26"
             ],
             [
              1,
              "#f0f921"
             ]
            ],
            "type": "heatmap"
           }
          ],
          "heatmapgl": [
           {
            "colorbar": {
             "outlinewidth": 0,
             "ticks": ""
            },
            "colorscale": [
             [
              0,
              "#0d0887"
             ],
             [
              0.1111111111111111,
              "#46039f"
             ],
             [
              0.2222222222222222,
              "#7201a8"
             ],
             [
              0.3333333333333333,
              "#9c179e"
             ],
             [
              0.4444444444444444,
              "#bd3786"
             ],
             [
              0.5555555555555556,
              "#d8576b"
             ],
             [
              0.6666666666666666,
              "#ed7953"
             ],
             [
              0.7777777777777778,
              "#fb9f3a"
             ],
             [
              0.8888888888888888,
              "#fdca26"
             ],
             [
              1,
              "#f0f921"
             ]
            ],
            "type": "heatmapgl"
           }
          ],
          "histogram": [
           {
            "marker": {
             "pattern": {
              "fillmode": "overlay",
              "size": 10,
              "solidity": 0.2
             }
            },
            "type": "histogram"
           }
          ],
          "histogram2d": [
           {
            "colorbar": {
             "outlinewidth": 0,
             "ticks": ""
            },
            "colorscale": [
             [
              0,
              "#0d0887"
             ],
             [
              0.1111111111111111,
              "#46039f"
             ],
             [
              0.2222222222222222,
              "#7201a8"
             ],
             [
              0.3333333333333333,
              "#9c179e"
             ],
             [
              0.4444444444444444,
              "#bd3786"
             ],
             [
              0.5555555555555556,
              "#d8576b"
             ],
             [
              0.6666666666666666,
              "#ed7953"
             ],
             [
              0.7777777777777778,
              "#fb9f3a"
             ],
             [
              0.8888888888888888,
              "#fdca26"
             ],
             [
              1,
              "#f0f921"
             ]
            ],
            "type": "histogram2d"
           }
          ],
          "histogram2dcontour": [
           {
            "colorbar": {
             "outlinewidth": 0,
             "ticks": ""
            },
            "colorscale": [
             [
              0,
              "#0d0887"
             ],
             [
              0.1111111111111111,
              "#46039f"
             ],
             [
              0.2222222222222222,
              "#7201a8"
             ],
             [
              0.3333333333333333,
              "#9c179e"
             ],
             [
              0.4444444444444444,
              "#bd3786"
             ],
             [
              0.5555555555555556,
              "#d8576b"
             ],
             [
              0.6666666666666666,
              "#ed7953"
             ],
             [
              0.7777777777777778,
              "#fb9f3a"
             ],
             [
              0.8888888888888888,
              "#fdca26"
             ],
             [
              1,
              "#f0f921"
             ]
            ],
            "type": "histogram2dcontour"
           }
          ],
          "mesh3d": [
           {
            "colorbar": {
             "outlinewidth": 0,
             "ticks": ""
            },
            "type": "mesh3d"
           }
          ],
          "parcoords": [
           {
            "line": {
             "colorbar": {
              "outlinewidth": 0,
              "ticks": ""
             }
            },
            "type": "parcoords"
           }
          ],
          "pie": [
           {
            "automargin": true,
            "type": "pie"
           }
          ],
          "scatter": [
           {
            "fillpattern": {
             "fillmode": "overlay",
             "size": 10,
             "solidity": 0.2
            },
            "type": "scatter"
           }
          ],
          "scatter3d": [
           {
            "line": {
             "colorbar": {
              "outlinewidth": 0,
              "ticks": ""
             }
            },
            "marker": {
             "colorbar": {
              "outlinewidth": 0,
              "ticks": ""
             }
            },
            "type": "scatter3d"
           }
          ],
          "scattercarpet": [
           {
            "marker": {
             "colorbar": {
              "outlinewidth": 0,
              "ticks": ""
             }
            },
            "type": "scattercarpet"
           }
          ],
          "scattergeo": [
           {
            "marker": {
             "colorbar": {
              "outlinewidth": 0,
              "ticks": ""
             }
            },
            "type": "scattergeo"
           }
          ],
          "scattergl": [
           {
            "marker": {
             "colorbar": {
              "outlinewidth": 0,
              "ticks": ""
             }
            },
            "type": "scattergl"
           }
          ],
          "scattermapbox": [
           {
            "marker": {
             "colorbar": {
              "outlinewidth": 0,
              "ticks": ""
             }
            },
            "type": "scattermapbox"
           }
          ],
          "scatterpolar": [
           {
            "marker": {
             "colorbar": {
              "outlinewidth": 0,
              "ticks": ""
             }
            },
            "type": "scatterpolar"
           }
          ],
          "scatterpolargl": [
           {
            "marker": {
             "colorbar": {
              "outlinewidth": 0,
              "ticks": ""
             }
            },
            "type": "scatterpolargl"
           }
          ],
          "scatterternary": [
           {
            "marker": {
             "colorbar": {
              "outlinewidth": 0,
              "ticks": ""
             }
            },
            "type": "scatterternary"
           }
          ],
          "surface": [
           {
            "colorbar": {
             "outlinewidth": 0,
             "ticks": ""
            },
            "colorscale": [
             [
              0,
              "#0d0887"
             ],
             [
              0.1111111111111111,
              "#46039f"
             ],
             [
              0.2222222222222222,
              "#7201a8"
             ],
             [
              0.3333333333333333,
              "#9c179e"
             ],
             [
              0.4444444444444444,
              "#bd3786"
             ],
             [
              0.5555555555555556,
              "#d8576b"
             ],
             [
              0.6666666666666666,
              "#ed7953"
             ],
             [
              0.7777777777777778,
              "#fb9f3a"
             ],
             [
              0.8888888888888888,
              "#fdca26"
             ],
             [
              1,
              "#f0f921"
             ]
            ],
            "type": "surface"
           }
          ],
          "table": [
           {
            "cells": {
             "fill": {
              "color": "#EBF0F8"
             },
             "line": {
              "color": "white"
             }
            },
            "header": {
             "fill": {
              "color": "#C8D4E3"
             },
             "line": {
              "color": "white"
             }
            },
            "type": "table"
           }
          ]
         },
         "layout": {
          "annotationdefaults": {
           "arrowcolor": "#2a3f5f",
           "arrowhead": 0,
           "arrowwidth": 1
          },
          "autotypenumbers": "strict",
          "coloraxis": {
           "colorbar": {
            "outlinewidth": 0,
            "ticks": ""
           }
          },
          "colorscale": {
           "diverging": [
            [
             0,
             "#8e0152"
            ],
            [
             0.1,
             "#c51b7d"
            ],
            [
             0.2,
             "#de77ae"
            ],
            [
             0.3,
             "#f1b6da"
            ],
            [
             0.4,
             "#fde0ef"
            ],
            [
             0.5,
             "#f7f7f7"
            ],
            [
             0.6,
             "#e6f5d0"
            ],
            [
             0.7,
             "#b8e186"
            ],
            [
             0.8,
             "#7fbc41"
            ],
            [
             0.9,
             "#4d9221"
            ],
            [
             1,
             "#276419"
            ]
           ],
           "sequential": [
            [
             0,
             "#0d0887"
            ],
            [
             0.1111111111111111,
             "#46039f"
            ],
            [
             0.2222222222222222,
             "#7201a8"
            ],
            [
             0.3333333333333333,
             "#9c179e"
            ],
            [
             0.4444444444444444,
             "#bd3786"
            ],
            [
             0.5555555555555556,
             "#d8576b"
            ],
            [
             0.6666666666666666,
             "#ed7953"
            ],
            [
             0.7777777777777778,
             "#fb9f3a"
            ],
            [
             0.8888888888888888,
             "#fdca26"
            ],
            [
             1,
             "#f0f921"
            ]
           ],
           "sequentialminus": [
            [
             0,
             "#0d0887"
            ],
            [
             0.1111111111111111,
             "#46039f"
            ],
            [
             0.2222222222222222,
             "#7201a8"
            ],
            [
             0.3333333333333333,
             "#9c179e"
            ],
            [
             0.4444444444444444,
             "#bd3786"
            ],
            [
             0.5555555555555556,
             "#d8576b"
            ],
            [
             0.6666666666666666,
             "#ed7953"
            ],
            [
             0.7777777777777778,
             "#fb9f3a"
            ],
            [
             0.8888888888888888,
             "#fdca26"
            ],
            [
             1,
             "#f0f921"
            ]
           ]
          },
          "colorway": [
           "#636efa",
           "#EF553B",
           "#00cc96",
           "#ab63fa",
           "#FFA15A",
           "#19d3f3",
           "#FF6692",
           "#B6E880",
           "#FF97FF",
           "#FECB52"
          ],
          "font": {
           "color": "#2a3f5f"
          },
          "geo": {
           "bgcolor": "white",
           "lakecolor": "white",
           "landcolor": "#E5ECF6",
           "showlakes": true,
           "showland": true,
           "subunitcolor": "white"
          },
          "hoverlabel": {
           "align": "left"
          },
          "hovermode": "closest",
          "mapbox": {
           "style": "light"
          },
          "paper_bgcolor": "white",
          "plot_bgcolor": "#E5ECF6",
          "polar": {
           "angularaxis": {
            "gridcolor": "white",
            "linecolor": "white",
            "ticks": ""
           },
           "bgcolor": "#E5ECF6",
           "radialaxis": {
            "gridcolor": "white",
            "linecolor": "white",
            "ticks": ""
           }
          },
          "scene": {
           "xaxis": {
            "backgroundcolor": "#E5ECF6",
            "gridcolor": "white",
            "gridwidth": 2,
            "linecolor": "white",
            "showbackground": true,
            "ticks": "",
            "zerolinecolor": "white"
           },
           "yaxis": {
            "backgroundcolor": "#E5ECF6",
            "gridcolor": "white",
            "gridwidth": 2,
            "linecolor": "white",
            "showbackground": true,
            "ticks": "",
            "zerolinecolor": "white"
           },
           "zaxis": {
            "backgroundcolor": "#E5ECF6",
            "gridcolor": "white",
            "gridwidth": 2,
            "linecolor": "white",
            "showbackground": true,
            "ticks": "",
            "zerolinecolor": "white"
           }
          },
          "shapedefaults": {
           "line": {
            "color": "#2a3f5f"
           }
          },
          "ternary": {
           "aaxis": {
            "gridcolor": "white",
            "linecolor": "white",
            "ticks": ""
           },
           "baxis": {
            "gridcolor": "white",
            "linecolor": "white",
            "ticks": ""
           },
           "bgcolor": "#E5ECF6",
           "caxis": {
            "gridcolor": "white",
            "linecolor": "white",
            "ticks": ""
           }
          },
          "title": {
           "x": 0.05
          },
          "xaxis": {
           "automargin": true,
           "gridcolor": "white",
           "linecolor": "white",
           "ticks": "",
           "title": {
            "standoff": 15
           },
           "zerolinecolor": "white",
           "zerolinewidth": 2
          },
          "yaxis": {
           "automargin": true,
           "gridcolor": "white",
           "linecolor": "white",
           "ticks": "",
           "title": {
            "standoff": 15
           },
           "zerolinecolor": "white",
           "zerolinewidth": 2
          }
         }
        },
        "xaxis": {
         "anchor": "y",
         "autorange": true,
         "domain": [
          0,
          1
         ],
         "range": [
          "2019-12-18",
          "2022-07-15"
         ],
         "title": {
          "text": "year_month"
         },
         "type": "date"
        },
        "yaxis": {
         "anchor": "x",
         "autorange": true,
         "domain": [
          0,
          1
         ],
         "range": [
          0,
          16425.263157894737
         ],
         "title": {
          "text": "NR_DOKUM"
         },
         "type": "linear"
        }
       }
      },
      "image/png": "[encoded data removed]",
      "text/html": [
       "<div>                            <div id=\"6e99188b-a652-49b4-8102-e52e78dc56b8\" class=\"plotly-graph-div\" style=\"height:525px; width:100%;\"></div>            <script type=\"text/javascript\">                require([\"plotly\"], function(Plotly) {                    window.PLOTLYENV=window.PLOTLYENV || {};                                    if (document.getElementById(\"6e99188b-a652-49b4-8102-e52e78dc56b8\")) {                    Plotly.newPlot(                        \"6e99188b-a652-49b4-8102-e52e78dc56b8\",                        [{\"alignmentgroup\":\"True\",\"hovertemplate\":\"year_month=%{x}<br>NR_DOKUM=%{y}<br>pracownik_nazwisko=%{marker.color}<extra></extra>\",\"legendgroup\":\"\",\"marker\":{\"color\":[5,5,5,4,5,5,6,6,6,6,6,6,6,6,7,7,7,7,7,7,7,8,8,8,8,10,10,11,11,11,11],\"coloraxis\":\"coloraxis\",\"pattern\":{\"shape\":\"\"}},\"name\":\"\",\"offsetgroup\":\"\",\"orientation\":\"v\",\"showlegend\":false,\"textposition\":\"auto\",\"x\":[\"2020-01-01T00:00:00\",\"2020-02-01T00:00:00\",\"2020-03-01T00:00:00\",\"2020-04-01T00:00:00\",\"2020-05-01T00:00:00\",\"2020-06-01T00:00:00\",\"2020-07-01T00:00:00\",\"2020-08-01T00:00:00\",\"2020-09-01T00:00:00\",\"2020-10-01T00:00:00\",\"2020-11-01T00:00:00\",\"2020-12-01T00:00:00\",\"2021-01-01T00:00:00\",\"2021-02-01T00:00:00\",\"2021-03-01T00:00:00\",\"2021-04-01T00:00:00\",\"2021-05-01T00:00:00\",\"2021-06-01T00:00:00\",\"2021-07-01T00:00:00\",\"2021-08-01T00:00:00\",\"2021-09-01T00:00:00\",\"2021-10-01T00:00:00\",\"2021-11-01T00:00:00\",\"2021-12-01T00:00:00\",\"2022-01-01T00:00:00\",\"2022-02-01T00:00:00\",\"2022-03-01T00:00:00\",\"2022-04-01T00:00:00\",\"2022-05-01T00:00:00\",\"2022-06-01T00:00:00\",\"2022-07-01T00:00:00\"],\"xaxis\":\"x\",\"y\":[6829,7661,5712,2238,5162,7167,6439,8516,6665,6614,6272,5334,7007,7978,12256,7271,10020,7964,6946,8979,8953,11347,15604,11101,7526,9395,14439,13620,12056,11773,9259],\"yaxis\":\"y\",\"type\":\"bar\"}],                        {\"template\":{\"data\":{\"histogram2dcontour\":[{\"type\":\"histogram2dcontour\",\"colorbar\":{\"outlinewidth\":0,\"ticks\":\"\"},\"colorscale\":[[0.0,\"#0d0887\"],[0.1111111111111111,\"#46039f\"],[0.2222222222222222,\"#7201a8\"],[0.3333333333333333,\"#9c179e\"],[0.4444444444444444,\"#bd3786\"],[0.5555555555555556,\"#d8576b\"],[0.6666666666666666,\"#ed7953\"],[0.7777777777777778,\"#fb9f3a\"],[0.8888888888888888,\"#fdca26\"],[1.0,\"#f0f921\"]]}],\"choropleth\":[{\"type\":\"choropleth\",\"colorbar\":{\"outlinewidth\":0,\"ticks\":\"\"}}],\"histogram2d\":[{\"type\":\"histogram2d\",\"colorbar\":{\"outlinewidth\":0,\"ticks\":\"\"},\"colorscale\":[[0.0,\"#0d0887\"],[0.1111111111111111,\"#46039f\"],[0.2222222222222222,\"#7201a8\"],[0.3333333333333333,\"#9c179e\"],[0.4444444444444444,\"#bd3786\"],[0.5555555555555556,\"#d8576b\"],[0.6666666666666666,\"#ed7953\"],[0.7777777777777778,\"#fb9f3a\"],[0.8888888888888888,\"#fdca26\"],[1.0,\"#f0f921\"]]}],\"heatmap\":[{\"type\":\"heatmap\",\"colorbar\":{\"outlinewidth\":0,\"ticks\":\"\"},\"colorscale\":[[0.0,\"#0d0887\"],[0.1111111111111111,\"#46039f\"],[0.2222222222222222,\"#7201a8\"],[0.3333333333333333,\"#9c179e\"],[0.4444444444444444,\"#bd3786\"],[0.5555555555555556,\"#d8576b\"],[0.6666666666666666,\"#ed7953\"],[0.7777777777777778,\"#fb9f3a\"],[0.8888888888888888,\"#fdca26\"],[1.0,\"#f0f921\"]]}],\"heatmapgl\":[{\"type\":\"heatmapgl\",\"colorbar\":{\"outlinewidth\":0,\"ticks\":\"\"},\"colorscale\":[[0.0,\"#0d0887\"],[0.1111111111111111,\"#46039f\"],[0.2222222222222222,\"#7201a8\"],[0.3333333333333333,\"#9c179e\"],[0.4444444444444444,\"#bd3786\"],[0.5555555555555556,\"#d8576b\"],[0.6666666666666666,\"#ed7953\"],[0.7777777777777778,\"#fb9f3a\"],[0.8888888888888888,\"#fdca26\"],[1.0,\"#f0f921\"]]}],\"contourcarpet\":[{\"type\":\"contourcarpet\",\"colorbar\":{\"outlinewidth\":0,\"ticks\":\"\"}}],\"contour\":[{\"type\":\"contour\",\"colorbar\":{\"outlinewidth\":0,\"ticks\":\"\"},\"colorscale\":[[0.0,\"#0d0887\"],[0.1111111111111111,\"#46039f\"],[0.2222222222222222,\"#7201a8\"],[0.3333333333333333,\"#9c179e\"],[0.4444444444444444,\"#bd3786\"],[0.5555555555555556,\"#d8576b\"],[0.6666666666666666,\"#ed7953\"],[0.7777777777777778,\"#fb9f3a\"],[0.8888888888888888,\"#fdca26\"],[1.0,\"#f0f921\"]]}],\"surface\":[{\"type\":\"surface\",\"colorbar\":{\"outlinewidth\":0,\"ticks\":\"\"},\"colorscale\":[[0.0,\"#0d0887\"],[0.1111111111111111,\"#46039f\"],[0.2222222222222222,\"#7201a8\"],[0.3333333333333333,\"#9c179e\"],[0.4444444444444444,\"#bd3786\"],[0.5555555555555556,\"#d8576b\"],[0.6666666666666666,\"#ed7953\"],[0.7777777777777778,\"#fb9f3a\"],[0.8888888888888888,\"#fdca26\"],[1.0,\"#f0f921\"]]}],\"mesh3d\":[{\"type\":\"mesh3d\",\"colorbar\":{\"outlinewidth\":0,\"ticks\":\"\"}}],\"scatter\":[{\"fillpattern\":{\"fillmode\":\"overlay\",\"size\":10,\"solidity\":0.2},\"type\":\"scatter\"}],\"parcoords\":[{\"type\":\"parcoords\",\"line\":{\"colorbar\":{\"outlinewidth\":0,\"ticks\":\"\"}}}],\"scatterpolargl\":[{\"type\":\"scatterpolargl\",\"marker\":{\"colorbar\":{\"outlinewidth\":0,\"ticks\":\"\"}}}],\"bar\":[{\"error_x\":{\"color\":\"#2a3f5f\"},\"error_y\":{\"color\":\"#2a3f5f\"},\"marker\":{\"line\":{\"color\":\"#E5ECF6\",\"width\":0.5},\"pattern\":{\"fillmode\":\"overlay\",\"size\":10,\"solidity\":0.2}},\"type\":\"bar\"}],\"scattergeo\":[{\"type\":\"scattergeo\",\"marker\":{\"colorbar\":{\"outlinewidth\":0,\"ticks\":\"\"}}}],\"scatterpolar\":[{\"type\":\"scatterpolar\",\"marker\":{\"colorbar\":{\"outlinewidth\":0,\"ticks\":\"\"}}}],\"histogram\":[{\"marker\":{\"pattern\":{\"fillmode\":\"overlay\",\"size\":10,\"solidity\":0.2}},\"type\":\"histogram\"}],\"scattergl\":[{\"type\":\"scattergl\",\"marker\":{\"colorbar\":{\"outlinewidth\":0,\"ticks\":\"\"}}}],\"scatter3d\":[{\"type\":\"scatter3d\",\"line\":{\"colorbar\":{\"outlinewidth\":0,\"ticks\":\"\"}},\"marker\":{\"colorbar\":{\"outlinewidth\":0,\"ticks\":\"\"}}}],\"scattermapbox\":[{\"type\":\"scattermapbox\",\"marker\":{\"colorbar\":{\"outlinewidth\":0,\"ticks\":\"\"}}}],\"scatterternary\":[{\"type\":\"scatterternary\",\"marker\":{\"colorbar\":{\"outlinewidth\":0,\"ticks\":\"\"}}}],\"scattercarpet\":[{\"type\":\"scattercarpet\",\"marker\":{\"colorbar\":{\"outlinewidth\":0,\"ticks\":\"\"}}}],\"carpet\":[{\"aaxis\":{\"endlinecolor\":\"#2a3f5f\",\"gridcolor\":\"white\",\"linecolor\":\"white\",\"minorgridcolor\":\"white\",\"startlinecolor\":\"#2a3f5f\"},\"baxis\":{\"endlinecolor\":\"#2a3f5f\",\"gridcolor\":\"white\",\"linecolor\":\"white\",\"minorgridcolor\":\"white\",\"startlinecolor\":\"#2a3f5f\"},\"type\":\"carpet\"}],\"table\":[{\"cells\":{\"fill\":{\"color\":\"#EBF0F8\"},\"line\":{\"color\":\"white\"}},\"header\":{\"fill\":{\"color\":\"#C8D4E3\"},\"line\":{\"color\":\"white\"}},\"type\":\"table\"}],\"barpolar\":[{\"marker\":{\"line\":{\"color\":\"#E5ECF6\",\"width\":0.5},\"pattern\":{\"fillmode\":\"overlay\",\"size\":10,\"solidity\":0.2}},\"type\":\"barpolar\"}],\"pie\":[{\"automargin\":true,\"type\":\"pie\"}]},\"layout\":{\"autotypenumbers\":\"strict\",\"colorway\":[\"#636efa\",\"#EF553B\",\"#00cc96\",\"#ab63fa\",\"#FFA15A\",\"#19d3f3\",\"#FF6692\",\"#B6E880\",\"#FF97FF\",\"#FECB52\"],\"font\":{\"color\":\"#2a3f5f\"},\"hovermode\":\"closest\",\"hoverlabel\":{\"align\":\"left\"},\"paper_bgcolor\":\"white\",\"plot_bgcolor\":\"#E5ECF6\",\"polar\":{\"bgcolor\":\"#E5ECF6\",\"angularaxis\":{\"gridcolor\":\"white\",\"linecolor\":\"white\",\"ticks\":\"\"},\"radialaxis\":{\"gridcolor\":\"white\",\"linecolor\":\"white\",\"ticks\":\"\"}},\"ternary\":{\"bgcolor\":\"#E5ECF6\",\"aaxis\":{\"gridcolor\":\"white\",\"linecolor\":\"white\",\"ticks\":\"\"},\"baxis\":{\"gridcolor\":\"white\",\"linecolor\":\"white\",\"ticks\":\"\"},\"caxis\":{\"gridcolor\":\"white\",\"linecolor\":\"white\",\"ticks\":\"\"}},\"coloraxis\":{\"colorbar\":{\"outlinewidth\":0,\"ticks\":\"\"}},\"colorscale\":{\"sequential\":[[0.0,\"#0d0887\"],[0.1111111111111111,\"#46039f\"],[0.2222222222222222,\"#7201a8\"],[0.3333333333333333,\"#9c179e\"],[0.4444444444444444,\"#bd3786\"],[0.5555555555555556,\"#d8576b\"],[0.6666666666666666,\"#ed7953\"],[0.7777777777777778,\"#fb9f3a\"],[0.8888888888888888,\"#fdca26\"],[1.0,\"#f0f921\"]],\"sequentialminus\":[[0.0,\"#0d0887\"],[0.1111111111111111,\"#46039f\"],[0.2222222222222222,\"#7201a8\"],[0.3333333333333333,\"#9c179e\"],[0.4444444444444444,\"#bd3786\"],[0.5555555555555556,\"#d8576b\"],[0.6666666666666666,\"#ed7953\"],[0.7777777777777778,\"#fb9f3a\"],[0.8888888888888888,\"#fdca26\"],[1.0,\"#f0f921\"]],\"diverging\":[[0,\"#8e0152\"],[0.1,\"#c51b7d\"],[0.2,\"#de77ae\"],[0.3,\"#f1b6da\"],[0.4,\"#fde0ef\"],[0.5,\"#f7f7f7\"],[0.6,\"#e6f5d0\"],[0.7,\"#b8e186\"],[0.8,\"#7fbc41\"],[0.9,\"#4d9221\"],[1,\"#276419\"]]},\"xaxis\":{\"gridcolor\":\"white\",\"linecolor\":\"white\",\"ticks\":\"\",\"title\":{\"standoff\":15},\"zerolinecolor\":\"white\",\"automargin\":true,\"zerolinewidth\":2},\"yaxis\":{\"gridcolor\":\"white\",\"linecolor\":\"white\",\"ticks\":\"\",\"title\":{\"standoff\":15},\"zerolinecolor\":\"white\",\"automargin\":true,\"zerolinewidth\":2},\"scene\":{\"xaxis\":{\"backgroundcolor\":\"#E5ECF6\",\"gridcolor\":\"white\",\"linecolor\":\"white\",\"showbackground\":true,\"ticks\":\"\",\"zerolinecolor\":\"white\",\"gridwidth\":2},\"yaxis\":{\"backgroundcolor\":\"#E5ECF6\",\"gridcolor\":\"white\",\"linecolor\":\"white\",\"showbackground\":true,\"ticks\":\"\",\"zerolinecolor\":\"white\",\"gridwidth\":2},\"zaxis\":{\"backgroundcolor\":\"#E5ECF6\",\"gridcolor\":\"white\",\"linecolor\":\"white\",\"showbackground\":true,\"ticks\":\"\",\"zerolinecolor\":\"white\",\"gridwidth\":2}},\"shapedefaults\":{\"line\":{\"color\":\"#2a3f5f\"}},\"annotationdefaults\":{\"arrowcolor\":\"#2a3f5f\",\"arrowhead\":0,\"arrowwidth\":1},\"geo\":{\"bgcolor\":\"white\",\"landcolor\":\"#E5ECF6\",\"subunitcolor\":\"white\",\"showland\":true,\"showlakes\":true,\"lakecolor\":\"white\"},\"title\":{\"x\":0.05},\"mapbox\":{\"style\":\"light\"}}},\"xaxis\":{\"anchor\":\"y\",\"domain\":[0.0,1.0],\"title\":{\"text\":\"year_month\"}},\"yaxis\":{\"anchor\":\"x\",\"domain\":[0.0,1.0],\"title\":{\"text\":\"NR_DOKUM\"}},\"coloraxis\":{\"colorbar\":{\"title\":{\"text\":\"pracownik_nazwisko\"}},\"colorscale\":[[0.0,\"rgb(232, 245, 171)\"],[0.09090909090909091,\"rgb(220, 219, 137)\"],[0.18181818181818182,\"rgb(209, 193, 107)\"],[0.2727272727272727,\"rgb(199, 168, 83)\"],[0.36363636363636365,\"rgb(186, 143, 66)\"],[0.45454545454545453,\"rgb(170, 121, 60)\"],[0.5454545454545454,\"rgb(151, 103, 58)\"],[0.6363636363636364,\"rgb(129, 87, 56)\"],[0.7272727272727273,\"rgb(104, 72, 53)\"],[0.8181818181818182,\"rgb(80, 59, 46)\"],[0.9090909090909091,\"rgb(57, 45, 37)\"],[1.0,\"rgb(34, 30, 27)\"]]},\"legend\":{\"tracegroupgap\":0},\"margin\":{\"t\":60},\"barmode\":\"relative\"},                        {\"responsive\": true}                    ).then(function(){\n",
       "                            \n",
       "var gd = document.getElementById('6e99188b-a652-49b4-8102-e52e78dc56b8');\n",
       "var x = new MutationObserver(function (mutations, observer) {{\n",
       "        var display = window.getComputedStyle(gd).display;\n",
       "        if (!display || display === 'none') {{\n",
       "            console.log([gd, 'removed!']);\n",
       "            Plotly.purge(gd);\n",
       "            observer.disconnect();\n",
       "        }}\n",
       "}});\n",
       "\n",
       "// Listen for the removal of the full notebook cells\n",
       "var notebookContainer = gd.closest('#notebook-container');\n",
       "if (notebookContainer) {{\n",
       "    x.observe(notebookContainer, {childList: true});\n",
       "}}\n",
       "\n",
       "// Listen for the clearing of the current output cell\n",
       "var outputEl = gd.closest('.output');\n",
       "if (outputEl) {{\n",
       "    x.observe(outputEl, {childList: true});\n",
       "}}\n",
       "\n",
       "                        })                };                });            </script>        </div>"
      ]
     },
     "metadata": {},
     "output_type": "display_data"
    }
   ],
   "source": [
    "px.bar(df1.groupby('year_month').agg({'NR_DOKUM':'sum',\n",
    "                                      'pracownik_nazwisko':'nunique'}).reset_index(),\n",
    "        x='year_month',\n",
    "        y='NR_DOKUM',\n",
    "        color='pracownik_nazwisko',\n",
    "      color_continuous_scale='turbid')"
   ]
  },
  {
   "cell_type": "code",
   "execution_count": null,
   "id": "09273b9b-c55d-445f-93bb-d5de7be5f37e",
   "metadata": {},
   "outputs": [],
   "source": []
  }
 ],
 "metadata": {
  "kernelspec": {
   "display_name": "Python 3 (ipykernel)",
   "language": "python",
   "name": "python3"
  },
  "language_info": {
   "codemirror_mode": {
    "name": "ipython",
    "version": 3
   },
   "file_extension": ".py",
   "mimetype": "text/x-python",
   "name": "python",
   "nbconvert_exporter": "python",
   "pygments_lexer": "ipython3",
   "version": "3.9.13"
  }
 },
 "nbformat": 4,
 "nbformat_minor": 5
}
