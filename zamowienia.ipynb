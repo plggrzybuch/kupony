{
 "cells": [
  {
   "cell_type": "code",
   "execution_count": 1,
   "id": "54e638bf-5760-4a67-89b1-ec4c357cb022",
   "metadata": {},
   "outputs": [],
   "source": [
    "import pandas as pd\n",
    "pd.set_option('display.max_columns', None)\n",
    "\n",
    "import plotly.express as px\n",
    "import plotly.graph_objects as go\n",
    "from datetime import datetime\n",
    "import numpy as np\n",
    "import missingno as msno\n",
    "import matplotlib.pyplot as plt\n",
    "import seaborn as sns\n",
    "from tqdm import tqdm\n",
    "import warnings\n",
    "warnings.filterwarnings(\"ignore\")\n",
    "\n",
    "sns.set(rc={'figure.figsize':(15,8)})\n",
    "\n",
    "path_to_catalog=r'C:\\Users\\kgrzebien\\Desktop\\python_tasks\\kupony\\zamawiajace\\\\'\n"
   ]
  },
  {
   "cell_type": "code",
   "execution_count": 2,
   "id": "0c2b3959-c19e-440a-89dd-49faaf57ad12",
   "metadata": {},
   "outputs": [],
   "source": [
    "def func_read_data(path, file):\n",
    "    df=pd.read_csv(path+file+'.csv',\n",
    "              encoding='Cp1250',\n",
    "              sep=\"|\")\n",
    "    if 'IS_DELETED' in df.columns:\n",
    "        df=df.loc[df['IS_DELETED']=='N']\n",
    "    return df\n",
    "\n",
    "\n",
    "def func_str_to_float(s):\n",
    "    s=s.astype(str)\n",
    "    s=s.apply(lambda x: x.replace(',','.'))\n",
    "    s=s.astype(float)\n",
    "    return s\n",
    "\n",
    "def func_date(df, min_date, col_date):\n",
    "    df[col_date]=pd.to_datetime(df[col_date], format='%y/%m/%d')\n",
    "    \n",
    "    df=df.loc[df[col_date]>=np.datetime64(min_date)].reset_index().drop('index', axis=1)\n",
    "    df['year']=df[col_date].apply(lambda x: x.year)\n",
    "    df['month']=df[col_date].apply(lambda x: x.month)\n",
    "    df['day_of_year']=df[col_date].apply(lambda x: x.timetuple().tm_yday)\n",
    "    df['week']=df[col_date].apply(lambda x: x.isocalendar()[1])\n",
    "    df['week_day']=df[col_date].apply(lambda x: x.isocalendar()[2])\n",
    "    df['year_month']=df['year'].astype(str)+'-'+df['month'].astype(str)+'-'+'01'\n",
    "    df['year_month']=df['year_month'].apply(lambda x: x[:5]+'0'+x[5:] if len(x)==9 else x)\n",
    "    df['year_month']=pd.to_datetime(df['year_month'], format='%Y-%m-%d')\n",
    "    df['year_week']=df['year'].astype(str)+'--'+df['week'].astype(str)\n",
    "    df['year_week']=df['year_week'].apply(lambda x: x[:6]+'0'+x[6:] if len(x)==7 else x)\n",
    "    df['year_day']=df['year'].astype(str)+'--'+df['day_of_year'].astype(str)\n",
    "    df['year_day']=df['year_day'].apply(lambda x: x[:6]+'0'+x[6:] if len(x)<9 else x)\n",
    "    \n",
    "    return df\n",
    "\n",
    "def func_add_name_workers(df, name_of_file_with_workers):\n",
    "    df_pracownicy=pd.read_excel(name_of_file_with_workers)\n",
    "    df_pracownicy['NUMER']=df_pracownicy['NUMER']#.astype(str)\n",
    "    df_pracownicy=df_pracownicy.rename(columns={'PELNANAZWA':'NAZWISKO'})\n",
    "    df_pracownicy['NAZWISKO']=df_pracownicy['NAZWISKO'].apply(lambda x: x.split(' ')[0][0]+'. '+x.split(' ')[1] if len(x.split(' '))>1 else x)\n",
    "    df=df.merge(df_pracownicy, how='left', left_on='KOD_OPER', right_on='NUMER')\n",
    "    df=df.drop('NUMER', axis=1)\n",
    "    return df\n",
    "\n",
    "def func_typ_dokumentu(df):\n",
    "    df['TYP_DOKUM']=df['TYP_DOKUM'].apply(lambda x: x if x=='M' else 'V')\n",
    "    return df"
   ]
  },
  {
   "cell_type": "code",
   "execution_count": 83,
   "id": "fda4cefe-fa9d-4da9-bb3d-d981c5cc87b2",
   "metadata": {},
   "outputs": [],
   "source": [
    "def func_read_rcp(df_ewid_rcp,\n",
    "                  df_zad_rcp):\n",
    "    df_ewid_rcp=func_date_rcp(df_ewid_rcp)\n",
    "    df_rcp=df_ewid_rcp[['ID_ZAD','DATA','ROZ_DNIA','ZAK_DNIA','GODZ_PL','DATA_ROZ','GODZ_ROZ','DATA_ZAK','GODZ_ZAK','KOD_OPER', 'date_start', 'date_finish','KOD_GR_RCP']].\\\n",
    "                merge(df_zad_rcp[['ID_ZAD','ZADANIE']].drop_duplicates(),\n",
    "                      how='left', on='ID_ZAD')\n",
    "            \n",
    "    \n",
    "    return df_rcp\n",
    "    \n",
    "def func_date_rcp(df):\n",
    "    df=df.loc[df['GODZ_ROZ']!=' '].loc[df['GODZ_ZAK']!=' '].reset_index().drop('index', axis=1)\n",
    "    df['date_start']=df['DATA']+' '+df['GODZ_ROZ']\n",
    "    df['date_start']=pd.to_datetime(df['date_start'], format='%y/%m/%d %H:%M:%S')\n",
    "    df['date_start']=df['date_start'].dt.floor('Min')\n",
    "    df['date_finish']=df['DATA']+' '+df['GODZ_ZAK']\n",
    "    df['date_finish']=pd.to_datetime(df['date_finish'], format='%y/%m/%d %H:%M:%S')\n",
    "    df['date_finish']=df['date_finish'].dt.floor('Min')\n",
    "    df['DATA']=pd.to_datetime(df['DATA'], format='%y/%m/%d')\n",
    "    return df\n",
    "\n",
    "df_grup_rcp=func_read_data('../../RCP_tables/',\n",
    "                           'GRUP_RCP')\n",
    "df_zad_rcp=func_read_data('../../RCP_tables/',\n",
    "                           'ZAD_RCP')\n",
    "df_ewid_rcp=func_read_data('../../RCP_tables/',\n",
    "                           'EWID_RCP')\n",
    "\n",
    "df_rcp=func_read_rcp(df_ewid_rcp, df_zad_rcp)\n",
    "df_rcp=func_add_name_workers(df_rcp, '../../pracownicy.xlsx')"
   ]
  },
  {
   "cell_type": "code",
   "execution_count": 4,
   "id": "f8627c1b-0d8f-4981-b857-c153cf5acf79",
   "metadata": {},
   "outputs": [],
   "source": [
    "def func_minutes_in_work_day_rcp(df, tnaca1_numer):\n",
    "    step=np.datetime64('2000-01-01 00:02:00')-np.datetime64('2000-01-01 00:01:00')\n",
    "    \n",
    "    df_with_minutes=pd.DataFrame(columns=['NAZWISKO', 'DATA', 'ile_minut_czynnosc', 'ile_minut_dzien', 'procent_wykorzystania', 'zadanie'])\n",
    "    \n",
    "    for day in (df.loc[df['NAZWISKO']==tnaca1_numer]['DATA'].unique()):\n",
    "        arr_time_day=np.array([], dtype='datetime64')\n",
    "        arr_time_activity=np.array([], dtype='int')\n",
    "        arr_zadanie=[]\n",
    "        arr_zadanie_group=[]\n",
    "        try:\n",
    "            for i in (df.loc[df['NAZWISKO']==tnaca1_numer].loc[df['DATA']==day].index):\n",
    "                arr_tmp=np.arange(df.loc[i,'date_start'],\n",
    "                                  df.loc[i,'date_finish'],\n",
    "                                 step)\n",
    "                arr_time_day=np.append(arr_time_day, arr_tmp)\n",
    "                arr_time_activity=np.append(arr_time_activity, [len(arr_tmp)])\n",
    "                arr_zadanie=np.append(arr_zadanie, [df.loc[i,'ZADANIE']])\n",
    "\n",
    "            if len(arr_time_day)==0:\n",
    "                display(day)\n",
    "            ile_minut_maksymalnie=(arr_time_day.max()-arr_time_day.min())/np.timedelta64(1,'m')+1\n",
    "            for time_activity, zadanie in zip(arr_time_activity, arr_zadanie ):\n",
    "                df_with_minutes=df_with_minutes.append({'NAZWISKO':tnaca1_numer,\n",
    "                                                        'DATA':day,\n",
    "                                                        'ile_minut_czynnosc':time_activity,\n",
    "                                                        'ile_minut_dzien':ile_minut_maksymalnie,\n",
    "                                                       'procent_wykorzystania':time_activity/ile_minut_maksymalnie*100, \n",
    "                                                        'zadanie':zadanie},\n",
    "                                                       ignore_index=True)\n",
    "        except:\n",
    "            pass\n",
    "        \n",
    "    \n",
    "    return df_with_minutes"
   ]
  },
  {
   "cell_type": "code",
   "execution_count": 9,
   "id": "639ec3c0-7f04-455a-aed1-f609cf6f8a9a",
   "metadata": {},
   "outputs": [
    {
     "name": "stderr",
     "output_type": "stream",
     "text": [
      "100%|████████████████████████████████████████████████████████████████████████████████████| 8/8 [10:00<00:00, 75.09s/it]\n"
     ]
    }
   ],
   "source": [
    "df_with_minutes_rcp=pd.DataFrame()\n",
    "#flaga=0\n",
    "for oper in tqdm(arr_kupony_obsluga_nazwiska):\n",
    "    try:\n",
    "        if oper == 0:\n",
    "            continue\n",
    "\n",
    "        df_with_minutes_tmp=func_minutes_in_work_day_rcp(df_rcp,\n",
    "                                                             oper)\n",
    "        df_with_minutes_rcp=df_with_minutes_rcp.append(df_with_minutes_tmp,\n",
    "                                                          ignore_index=True)\n",
    "    except:\n",
    "        print(oper)\n",
    "        continue"
   ]
  },
  {
   "cell_type": "code",
   "execution_count": 113,
   "id": "f33f284c-3f66-4731-ae5a-5712d64ed6cc",
   "metadata": {},
   "outputs": [],
   "source": [
    "df_with_minutes_rcp=func_date(df_with_minutes_rcp, '2020-01-01', 'DATA')"
   ]
  },
  {
   "cell_type": "code",
   "execution_count": 114,
   "id": "fb716c7d-7bef-4d3c-ad4b-b696423e17ba",
   "metadata": {},
   "outputs": [],
   "source": [
    "df_zamowienia=func_read_data('../zamawiajace/',\n",
    "                             'zamowienia')\n",
    "df_zamowienia=func_date(df_zamowienia, '2020-01-01', 'Z_DNIA')\n",
    "df_zamowienia=func_add_name_workers(df_zamowienia, '../../pracownicy.xlsx')\n",
    "df_zamowienia=func_typ_dokumentu(df_zamowienia)\n",
    "df_zamowienia['WARTOSC_B_N13']=func_str_to_float(df_zamowienia['WARTOSC_B_N13'])\n",
    "df_zamowienia['WARTOSC_B_ZAMOW1']=func_str_to_float(df_zamowienia['WARTOSC_B_ZAMOW1'])\n",
    "df_zamowienia['FAKTURA_KD']=df_zamowienia['FAKTURA_KD'].apply(lambda x: 'nie_pusta' if x!='' else 'pusta')"
   ]
  },
  {
   "cell_type": "code",
   "execution_count": 115,
   "id": "a0b0f1fd-9055-44c3-899a-54805b7744e7",
   "metadata": {},
   "outputs": [
    {
     "data": {
      "text/plain": [
       "array(['M. PSZCZÓŁKA', 'I. PAŁOSZ', 'J. SEMIK', 'B. DURAJ',\n",
       "       'E. KUBIENIEC', 'I. DRABEK', 'R. KASPEREK', 'A. BUŁAWA'],\n",
       "      dtype=object)"
      ]
     },
     "execution_count": 115,
     "metadata": {},
     "output_type": "execute_result"
    }
   ],
   "source": [
    "# for i in ['B. DURAJ','E. KUBIENIEC','I. PAŁOSZ','A. BUŁAWA']:\n",
    "#     display(i, df_rcp.loc[df_rcp['NAZWISKO']==i].groupby('ZADANIE').agg({'DATA':'nunique'}))\n",
    "arr_kupony_obsluga_nazwiska=df_rcp.loc[df_rcp['ZADANIE']=='KUPONY-OBSŁUGA']['NAZWISKO'].unique()\n",
    "#arr_kupony_obsluga_nazwiska=np.delete(arr_kupony_obsluga_nazwiska, np.where(arr_kupony_obsluga_nazwiska=='E. KUBIENIEC'))\n",
    "arr_kupony_obsluga_nazwiska"
   ]
  },
  {
   "cell_type": "code",
   "execution_count": 116,
   "id": "1a280aec-3d9d-45d8-b5f9-305c8a37615d",
   "metadata": {},
   "outputs": [],
   "source": [
    "df_zamowienia.loc[df_zamowienia.loc[df_zamowienia['NAZWISKO'].isin(arr_kupony_obsluga_nazwiska)].index, 'czy_z_kuponow']='tak'\n",
    "df_zamowienia['czy_z_kuponow']=df_zamowienia['czy_z_kuponow'].fillna('nie')"
   ]
  },
  {
   "cell_type": "code",
   "execution_count": 11,
   "id": "9a1ce2d8-2ae3-44ef-957d-88f88f222bb9",
   "metadata": {},
   "outputs": [
    {
     "data": {
      "text/html": [
       "<div>\n",
       "<style scoped>\n",
       "    .dataframe tbody tr th:only-of-type {\n",
       "        vertical-align: middle;\n",
       "    }\n",
       "\n",
       "    .dataframe tbody tr th {\n",
       "        vertical-align: top;\n",
       "    }\n",
       "\n",
       "    .dataframe thead th {\n",
       "        text-align: right;\n",
       "    }\n",
       "</style>\n",
       "<table border=\"1\" class=\"dataframe\">\n",
       "  <thead>\n",
       "    <tr style=\"text-align: right;\">\n",
       "      <th></th>\n",
       "      <th>FAKTURA</th>\n",
       "      <th>proc</th>\n",
       "    </tr>\n",
       "    <tr>\n",
       "      <th>czy_z_kuponow</th>\n",
       "      <th></th>\n",
       "      <th></th>\n",
       "    </tr>\n",
       "  </thead>\n",
       "  <tbody>\n",
       "    <tr>\n",
       "      <th>nie</th>\n",
       "      <td>110219</td>\n",
       "      <td>67.487356</td>\n",
       "    </tr>\n",
       "    <tr>\n",
       "      <th>tak</th>\n",
       "      <td>53099</td>\n",
       "      <td>32.512644</td>\n",
       "    </tr>\n",
       "  </tbody>\n",
       "</table>\n",
       "</div>"
      ],
      "text/plain": [
       "               FAKTURA       proc\n",
       "czy_z_kuponow                    \n",
       "nie             110219  67.487356\n",
       "tak              53099  32.512644"
      ]
     },
     "execution_count": 11,
     "metadata": {},
     "output_type": "execute_result"
    }
   ],
   "source": [
    "tmp=df_zamowienia.groupby(['czy_z_kuponow']).agg({'FAKTURA':'nunique'})\n",
    "tmp['proc']=tmp['FAKTURA']/tmp['FAKTURA'].sum()*100\n",
    "tmp"
   ]
  },
  {
   "cell_type": "code",
   "execution_count": 17,
   "id": "5e2b5091-5452-4bae-a139-e51fe71f7d5f",
   "metadata": {},
   "outputs": [
    {
     "data": {
      "application/vnd.plotly.v1+json": {
       "config": {
        "plotlyServerURL": "https://plot.ly"
       },
       "data": [
        {
         "hovertemplate": "czy_z_kuponow=nie<br>year_month=%{x}<br>FAKTURA=%{y}<extra></extra>",
         "legendgroup": "nie",
         "line": {
          "color": "#636efa",
          "dash": "solid"
         },
         "marker": {
          "symbol": "circle"
         },
         "mode": "lines",
         "name": "nie",
         "orientation": "v",
         "showlegend": true,
         "type": "scatter",
         "x": [
          "2020-01-01T00:00:00",
          "2020-02-01T00:00:00",
          "2020-03-01T00:00:00",
          "2020-04-01T00:00:00",
          "2020-05-01T00:00:00",
          "2020-06-01T00:00:00",
          "2020-07-01T00:00:00",
          "2020-08-01T00:00:00",
          "2020-09-01T00:00:00",
          "2020-10-01T00:00:00",
          "2020-11-01T00:00:00",
          "2020-12-01T00:00:00",
          "2021-01-01T00:00:00",
          "2021-02-01T00:00:00",
          "2021-03-01T00:00:00",
          "2021-04-01T00:00:00",
          "2021-05-01T00:00:00",
          "2021-06-01T00:00:00",
          "2021-07-01T00:00:00",
          "2021-08-01T00:00:00",
          "2021-09-01T00:00:00",
          "2021-10-01T00:00:00",
          "2021-11-01T00:00:00",
          "2021-12-01T00:00:00",
          "2022-01-01T00:00:00",
          "2022-02-01T00:00:00",
          "2022-03-01T00:00:00",
          "2022-04-01T00:00:00",
          "2022-05-01T00:00:00",
          "2022-06-01T00:00:00",
          "2022-07-01T00:00:00"
         ],
         "xaxis": "x",
         "y": [
          2184,
          2360,
          1735,
          790,
          2832,
          3322,
          3429,
          3617,
          3751,
          4214,
          4835,
          4831,
          2717,
          4163,
          6027,
          3229,
          4273,
          3700,
          3635,
          4355,
          3923,
          4349,
          6179,
          4802,
          3638,
          3782,
          5272,
          4686,
          3716,
          3407,
          2845
         ],
         "yaxis": "y"
        },
        {
         "hovertemplate": "czy_z_kuponow=tak<br>year_month=%{x}<br>FAKTURA=%{y}<extra></extra>",
         "legendgroup": "tak",
         "line": {
          "color": "#EF553B",
          "dash": "solid"
         },
         "marker": {
          "symbol": "circle"
         },
         "mode": "lines",
         "name": "tak",
         "orientation": "v",
         "showlegend": true,
         "type": "scatter",
         "x": [
          "2020-01-01T00:00:00",
          "2020-02-01T00:00:00",
          "2020-03-01T00:00:00",
          "2020-04-01T00:00:00",
          "2020-05-01T00:00:00",
          "2020-06-01T00:00:00",
          "2020-07-01T00:00:00",
          "2020-08-01T00:00:00",
          "2020-09-01T00:00:00",
          "2020-10-01T00:00:00",
          "2020-11-01T00:00:00",
          "2020-12-01T00:00:00",
          "2021-01-01T00:00:00",
          "2021-02-01T00:00:00",
          "2021-03-01T00:00:00",
          "2021-04-01T00:00:00",
          "2021-05-01T00:00:00",
          "2021-06-01T00:00:00",
          "2021-07-01T00:00:00",
          "2021-08-01T00:00:00",
          "2021-09-01T00:00:00",
          "2021-10-01T00:00:00",
          "2021-11-01T00:00:00",
          "2021-12-01T00:00:00",
          "2022-01-01T00:00:00",
          "2022-02-01T00:00:00",
          "2022-03-01T00:00:00",
          "2022-04-01T00:00:00",
          "2022-05-01T00:00:00",
          "2022-06-01T00:00:00",
          "2022-07-01T00:00:00"
         ],
         "xaxis": "x",
         "y": [
          1114,
          1315,
          1185,
          709,
          1137,
          1599,
          1657,
          1449,
          1748,
          1751,
          1798,
          1640,
          1144,
          1529,
          2252,
          1553,
          1568,
          1485,
          1606,
          1531,
          1476,
          1796,
          1925,
          1547,
          1229,
          1366,
          1986,
          1549,
          1448,
          1405,
          1223
         ],
         "yaxis": "y"
        }
       ],
       "layout": {
        "autosize": true,
        "legend": {
         "title": {
          "text": "czy_z_kuponow"
         },
         "tracegroupgap": 0
        },
        "margin": {
         "t": 60
        },
        "template": {
         "data": {
          "bar": [
           {
            "error_x": {
             "color": "#2a3f5f"
            },
            "error_y": {
             "color": "#2a3f5f"
            },
            "marker": {
             "line": {
              "color": "#E5ECF6",
              "width": 0.5
             },
             "pattern": {
              "fillmode": "overlay",
              "size": 10,
              "solidity": 0.2
             }
            },
            "type": "bar"
           }
          ],
          "barpolar": [
           {
            "marker": {
             "line": {
              "color": "#E5ECF6",
              "width": 0.5
             },
             "pattern": {
              "fillmode": "overlay",
              "size": 10,
              "solidity": 0.2
             }
            },
            "type": "barpolar"
           }
          ],
          "carpet": [
           {
            "aaxis": {
             "endlinecolor": "#2a3f5f",
             "gridcolor": "white",
             "linecolor": "white",
             "minorgridcolor": "white",
             "startlinecolor": "#2a3f5f"
            },
            "baxis": {
             "endlinecolor": "#2a3f5f",
             "gridcolor": "white",
             "linecolor": "white",
             "minorgridcolor": "white",
             "startlinecolor": "#2a3f5f"
            },
            "type": "carpet"
           }
          ],
          "choropleth": [
           {
            "colorbar": {
             "outlinewidth": 0,
             "ticks": ""
            },
            "type": "choropleth"
           }
          ],
          "contour": [
           {
            "colorbar": {
             "outlinewidth": 0,
             "ticks": ""
            },
            "colorscale": [
             [
              0,
              "#0d0887"
             ],
             [
              0.1111111111111111,
              "#46039f"
             ],
             [
              0.2222222222222222,
              "#7201a8"
             ],
             [
              0.3333333333333333,
              "#9c179e"
             ],
             [
              0.4444444444444444,
              "#bd3786"
             ],
             [
              0.5555555555555556,
              "#d8576b"
             ],
             [
              0.6666666666666666,
              "#ed7953"
             ],
             [
              0.7777777777777778,
              "#fb9f3a"
             ],
             [
              0.8888888888888888,
              "#fdca26"
             ],
             [
              1,
              "#f0f921"
             ]
            ],
            "type": "contour"
           }
          ],
          "contourcarpet": [
           {
            "colorbar": {
             "outlinewidth": 0,
             "ticks": ""
            },
            "type": "contourcarpet"
           }
          ],
          "heatmap": [
           {
            "colorbar": {
             "outlinewidth": 0,
             "ticks": ""
            },
            "colorscale": [
             [
              0,
              "#0d0887"
             ],
             [
              0.1111111111111111,
              "#46039f"
             ],
             [
              0.2222222222222222,
              "#7201a8"
             ],
             [
              0.3333333333333333,
              "#9c179e"
             ],
             [
              0.4444444444444444,
              "#bd3786"
             ],
             [
              0.5555555555555556,
              "#d8576b"
             ],
             [
              0.6666666666666666,
              "#ed7953"
             ],
             [
              0.7777777777777778,
              "#fb9f3a"
             ],
             [
              0.8888888888888888,
              "#fdca26"
             ],
             [
              1,
              "#f0f921"
             ]
            ],
            "type": "heatmap"
           }
          ],
          "heatmapgl": [
           {
            "colorbar": {
             "outlinewidth": 0,
             "ticks": ""
            },
            "colorscale": [
             [
              0,
              "#0d0887"
             ],
             [
              0.1111111111111111,
              "#46039f"
             ],
             [
              0.2222222222222222,
              "#7201a8"
             ],
             [
              0.3333333333333333,
              "#9c179e"
             ],
             [
              0.4444444444444444,
              "#bd3786"
             ],
             [
              0.5555555555555556,
              "#d8576b"
             ],
             [
              0.6666666666666666,
              "#ed7953"
             ],
             [
              0.7777777777777778,
              "#fb9f3a"
             ],
             [
              0.8888888888888888,
              "#fdca26"
             ],
             [
              1,
              "#f0f921"
             ]
            ],
            "type": "heatmapgl"
           }
          ],
          "histogram": [
           {
            "marker": {
             "pattern": {
              "fillmode": "overlay",
              "size": 10,
              "solidity": 0.2
             }
            },
            "type": "histogram"
           }
          ],
          "histogram2d": [
           {
            "colorbar": {
             "outlinewidth": 0,
             "ticks": ""
            },
            "colorscale": [
             [
              0,
              "#0d0887"
             ],
             [
              0.1111111111111111,
              "#46039f"
             ],
             [
              0.2222222222222222,
              "#7201a8"
             ],
             [
              0.3333333333333333,
              "#9c179e"
             ],
             [
              0.4444444444444444,
              "#bd3786"
             ],
             [
              0.5555555555555556,
              "#d8576b"
             ],
             [
              0.6666666666666666,
              "#ed7953"
             ],
             [
              0.7777777777777778,
              "#fb9f3a"
             ],
             [
              0.8888888888888888,
              "#fdca26"
             ],
             [
              1,
              "#f0f921"
             ]
            ],
            "type": "histogram2d"
           }
          ],
          "histogram2dcontour": [
           {
            "colorbar": {
             "outlinewidth": 0,
             "ticks": ""
            },
            "colorscale": [
             [
              0,
              "#0d0887"
             ],
             [
              0.1111111111111111,
              "#46039f"
             ],
             [
              0.2222222222222222,
              "#7201a8"
             ],
             [
              0.3333333333333333,
              "#9c179e"
             ],
             [
              0.4444444444444444,
              "#bd3786"
             ],
             [
              0.5555555555555556,
              "#d8576b"
             ],
             [
              0.6666666666666666,
              "#ed7953"
             ],
             [
              0.7777777777777778,
              "#fb9f3a"
             ],
             [
              0.8888888888888888,
              "#fdca26"
             ],
             [
              1,
              "#f0f921"
             ]
            ],
            "type": "histogram2dcontour"
           }
          ],
          "mesh3d": [
           {
            "colorbar": {
             "outlinewidth": 0,
             "ticks": ""
            },
            "type": "mesh3d"
           }
          ],
          "parcoords": [
           {
            "line": {
             "colorbar": {
              "outlinewidth": 0,
              "ticks": ""
             }
            },
            "type": "parcoords"
           }
          ],
          "pie": [
           {
            "automargin": true,
            "type": "pie"
           }
          ],
          "scatter": [
           {
            "fillpattern": {
             "fillmode": "overlay",
             "size": 10,
             "solidity": 0.2
            },
            "type": "scatter"
           }
          ],
          "scatter3d": [
           {
            "line": {
             "colorbar": {
              "outlinewidth": 0,
              "ticks": ""
             }
            },
            "marker": {
             "colorbar": {
              "outlinewidth": 0,
              "ticks": ""
             }
            },
            "type": "scatter3d"
           }
          ],
          "scattercarpet": [
           {
            "marker": {
             "colorbar": {
              "outlinewidth": 0,
              "ticks": ""
             }
            },
            "type": "scattercarpet"
           }
          ],
          "scattergeo": [
           {
            "marker": {
             "colorbar": {
              "outlinewidth": 0,
              "ticks": ""
             }
            },
            "type": "scattergeo"
           }
          ],
          "scattergl": [
           {
            "marker": {
             "colorbar": {
              "outlinewidth": 0,
              "ticks": ""
             }
            },
            "type": "scattergl"
           }
          ],
          "scattermapbox": [
           {
            "marker": {
             "colorbar": {
              "outlinewidth": 0,
              "ticks": ""
             }
            },
            "type": "scattermapbox"
           }
          ],
          "scatterpolar": [
           {
            "marker": {
             "colorbar": {
              "outlinewidth": 0,
              "ticks": ""
             }
            },
            "type": "scatterpolar"
           }
          ],
          "scatterpolargl": [
           {
            "marker": {
             "colorbar": {
              "outlinewidth": 0,
              "ticks": ""
             }
            },
            "type": "scatterpolargl"
           }
          ],
          "scatterternary": [
           {
            "marker": {
             "colorbar": {
              "outlinewidth": 0,
              "ticks": ""
             }
            },
            "type": "scatterternary"
           }
          ],
          "surface": [
           {
            "colorbar": {
             "outlinewidth": 0,
             "ticks": ""
            },
            "colorscale": [
             [
              0,
              "#0d0887"
             ],
             [
              0.1111111111111111,
              "#46039f"
             ],
             [
              0.2222222222222222,
              "#7201a8"
             ],
             [
              0.3333333333333333,
              "#9c179e"
             ],
             [
              0.4444444444444444,
              "#bd3786"
             ],
             [
              0.5555555555555556,
              "#d8576b"
             ],
             [
              0.6666666666666666,
              "#ed7953"
             ],
             [
              0.7777777777777778,
              "#fb9f3a"
             ],
             [
              0.8888888888888888,
              "#fdca26"
             ],
             [
              1,
              "#f0f921"
             ]
            ],
            "type": "surface"
           }
          ],
          "table": [
           {
            "cells": {
             "fill": {
              "color": "#EBF0F8"
             },
             "line": {
              "color": "white"
             }
            },
            "header": {
             "fill": {
              "color": "#C8D4E3"
             },
             "line": {
              "color": "white"
             }
            },
            "type": "table"
           }
          ]
         },
         "layout": {
          "annotationdefaults": {
           "arrowcolor": "#2a3f5f",
           "arrowhead": 0,
           "arrowwidth": 1
          },
          "autotypenumbers": "strict",
          "coloraxis": {
           "colorbar": {
            "outlinewidth": 0,
            "ticks": ""
           }
          },
          "colorscale": {
           "diverging": [
            [
             0,
             "#8e0152"
            ],
            [
             0.1,
             "#c51b7d"
            ],
            [
             0.2,
             "#de77ae"
            ],
            [
             0.3,
             "#f1b6da"
            ],
            [
             0.4,
             "#fde0ef"
            ],
            [
             0.5,
             "#f7f7f7"
            ],
            [
             0.6,
             "#e6f5d0"
            ],
            [
             0.7,
             "#b8e186"
            ],
            [
             0.8,
             "#7fbc41"
            ],
            [
             0.9,
             "#4d9221"
            ],
            [
             1,
             "#276419"
            ]
           ],
           "sequential": [
            [
             0,
             "#0d0887"
            ],
            [
             0.1111111111111111,
             "#46039f"
            ],
            [
             0.2222222222222222,
             "#7201a8"
            ],
            [
             0.3333333333333333,
             "#9c179e"
            ],
            [
             0.4444444444444444,
             "#bd3786"
            ],
            [
             0.5555555555555556,
             "#d8576b"
            ],
            [
             0.6666666666666666,
             "#ed7953"
            ],
            [
             0.7777777777777778,
             "#fb9f3a"
            ],
            [
             0.8888888888888888,
             "#fdca26"
            ],
            [
             1,
             "#f0f921"
            ]
           ],
           "sequentialminus": [
            [
             0,
             "#0d0887"
            ],
            [
             0.1111111111111111,
             "#46039f"
            ],
            [
             0.2222222222222222,
             "#7201a8"
            ],
            [
             0.3333333333333333,
             "#9c179e"
            ],
            [
             0.4444444444444444,
             "#bd3786"
            ],
            [
             0.5555555555555556,
             "#d8576b"
            ],
            [
             0.6666666666666666,
             "#ed7953"
            ],
            [
             0.7777777777777778,
             "#fb9f3a"
            ],
            [
             0.8888888888888888,
             "#fdca26"
            ],
            [
             1,
             "#f0f921"
            ]
           ]
          },
          "colorway": [
           "#636efa",
           "#EF553B",
           "#00cc96",
           "#ab63fa",
           "#FFA15A",
           "#19d3f3",
           "#FF6692",
           "#B6E880",
           "#FF97FF",
           "#FECB52"
          ],
          "font": {
           "color": "#2a3f5f"
          },
          "geo": {
           "bgcolor": "white",
           "lakecolor": "white",
           "landcolor": "#E5ECF6",
           "showlakes": true,
           "showland": true,
           "subunitcolor": "white"
          },
          "hoverlabel": {
           "align": "left"
          },
          "hovermode": "closest",
          "mapbox": {
           "style": "light"
          },
          "paper_bgcolor": "white",
          "plot_bgcolor": "#E5ECF6",
          "polar": {
           "angularaxis": {
            "gridcolor": "white",
            "linecolor": "white",
            "ticks": ""
           },
           "bgcolor": "#E5ECF6",
           "radialaxis": {
            "gridcolor": "white",
            "linecolor": "white",
            "ticks": ""
           }
          },
          "scene": {
           "xaxis": {
            "backgroundcolor": "#E5ECF6",
            "gridcolor": "white",
            "gridwidth": 2,
            "linecolor": "white",
            "showbackground": true,
            "ticks": "",
            "zerolinecolor": "white"
           },
           "yaxis": {
            "backgroundcolor": "#E5ECF6",
            "gridcolor": "white",
            "gridwidth": 2,
            "linecolor": "white",
            "showbackground": true,
            "ticks": "",
            "zerolinecolor": "white"
           },
           "zaxis": {
            "backgroundcolor": "#E5ECF6",
            "gridcolor": "white",
            "gridwidth": 2,
            "linecolor": "white",
            "showbackground": true,
            "ticks": "",
            "zerolinecolor": "white"
           }
          },
          "shapedefaults": {
           "line": {
            "color": "#2a3f5f"
           }
          },
          "ternary": {
           "aaxis": {
            "gridcolor": "white",
            "linecolor": "white",
            "ticks": ""
           },
           "baxis": {
            "gridcolor": "white",
            "linecolor": "white",
            "ticks": ""
           },
           "bgcolor": "#E5ECF6",
           "caxis": {
            "gridcolor": "white",
            "linecolor": "white",
            "ticks": ""
           }
          },
          "title": {
           "x": 0.05
          },
          "xaxis": {
           "automargin": true,
           "gridcolor": "white",
           "linecolor": "white",
           "ticks": "",
           "title": {
            "standoff": 15
           },
           "zerolinecolor": "white",
           "zerolinewidth": 2
          },
          "yaxis": {
           "automargin": true,
           "gridcolor": "white",
           "linecolor": "white",
           "ticks": "",
           "title": {
            "standoff": 15
           },
           "zerolinecolor": "white",
           "zerolinewidth": 2
          }
         }
        },
        "xaxis": {
         "anchor": "y",
         "autorange": true,
         "domain": [
          0,
          1
         ],
         "range": [
          "2020-01-01",
          "2022-07-01"
         ],
         "title": {
          "text": "year_month"
         },
         "type": "date"
        },
        "yaxis": {
         "anchor": "x",
         "autorange": true,
         "domain": [
          0,
          1
         ],
         "range": [
          405.1111111111111,
          6482.888888888889
         ],
         "title": {
          "text": "FAKTURA"
         },
         "type": "linear"
        }
       }
      },
      "image/png": "[encoded data removed]",
      "text/html": [
       "<div>                            <div id=\"d3936fde-127e-4f8b-be82-24d71bd1ab5f\" class=\"plotly-graph-div\" style=\"height:525px; width:100%;\"></div>            <script type=\"text/javascript\">                require([\"plotly\"], function(Plotly) {                    window.PLOTLYENV=window.PLOTLYENV || {};                                    if (document.getElementById(\"d3936fde-127e-4f8b-be82-24d71bd1ab5f\")) {                    Plotly.newPlot(                        \"d3936fde-127e-4f8b-be82-24d71bd1ab5f\",                        [{\"hovertemplate\":\"czy_z_kuponow=nie<br>year_month=%{x}<br>FAKTURA=%{y}<extra></extra>\",\"legendgroup\":\"nie\",\"line\":{\"color\":\"#636efa\",\"dash\":\"solid\"},\"marker\":{\"symbol\":\"circle\"},\"mode\":\"lines\",\"name\":\"nie\",\"orientation\":\"v\",\"showlegend\":true,\"x\":[\"2020-01-01T00:00:00\",\"2020-02-01T00:00:00\",\"2020-03-01T00:00:00\",\"2020-04-01T00:00:00\",\"2020-05-01T00:00:00\",\"2020-06-01T00:00:00\",\"2020-07-01T00:00:00\",\"2020-08-01T00:00:00\",\"2020-09-01T00:00:00\",\"2020-10-01T00:00:00\",\"2020-11-01T00:00:00\",\"2020-12-01T00:00:00\",\"2021-01-01T00:00:00\",\"2021-02-01T00:00:00\",\"2021-03-01T00:00:00\",\"2021-04-01T00:00:00\",\"2021-05-01T00:00:00\",\"2021-06-01T00:00:00\",\"2021-07-01T00:00:00\",\"2021-08-01T00:00:00\",\"2021-09-01T00:00:00\",\"2021-10-01T00:00:00\",\"2021-11-01T00:00:00\",\"2021-12-01T00:00:00\",\"2022-01-01T00:00:00\",\"2022-02-01T00:00:00\",\"2022-03-01T00:00:00\",\"2022-04-01T00:00:00\",\"2022-05-01T00:00:00\",\"2022-06-01T00:00:00\",\"2022-07-01T00:00:00\"],\"xaxis\":\"x\",\"y\":[2184,2360,1735,790,2832,3322,3429,3617,3751,4214,4835,4831,2717,4163,6027,3229,4273,3700,3635,4355,3923,4349,6179,4802,3638,3782,5272,4686,3716,3407,2845],\"yaxis\":\"y\",\"type\":\"scatter\"},{\"hovertemplate\":\"czy_z_kuponow=tak<br>year_month=%{x}<br>FAKTURA=%{y}<extra></extra>\",\"legendgroup\":\"tak\",\"line\":{\"color\":\"#EF553B\",\"dash\":\"solid\"},\"marker\":{\"symbol\":\"circle\"},\"mode\":\"lines\",\"name\":\"tak\",\"orientation\":\"v\",\"showlegend\":true,\"x\":[\"2020-01-01T00:00:00\",\"2020-02-01T00:00:00\",\"2020-03-01T00:00:00\",\"2020-04-01T00:00:00\",\"2020-05-01T00:00:00\",\"2020-06-01T00:00:00\",\"2020-07-01T00:00:00\",\"2020-08-01T00:00:00\",\"2020-09-01T00:00:00\",\"2020-10-01T00:00:00\",\"2020-11-01T00:00:00\",\"2020-12-01T00:00:00\",\"2021-01-01T00:00:00\",\"2021-02-01T00:00:00\",\"2021-03-01T00:00:00\",\"2021-04-01T00:00:00\",\"2021-05-01T00:00:00\",\"2021-06-01T00:00:00\",\"2021-07-01T00:00:00\",\"2021-08-01T00:00:00\",\"2021-09-01T00:00:00\",\"2021-10-01T00:00:00\",\"2021-11-01T00:00:00\",\"2021-12-01T00:00:00\",\"2022-01-01T00:00:00\",\"2022-02-01T00:00:00\",\"2022-03-01T00:00:00\",\"2022-04-01T00:00:00\",\"2022-05-01T00:00:00\",\"2022-06-01T00:00:00\",\"2022-07-01T00:00:00\"],\"xaxis\":\"x\",\"y\":[1114,1315,1185,709,1137,1599,1657,1449,1748,1751,1798,1640,1144,1529,2252,1553,1568,1485,1606,1531,1476,1796,1925,1547,1229,1366,1986,1549,1448,1405,1223],\"yaxis\":\"y\",\"type\":\"scatter\"}],                        {\"template\":{\"data\":{\"histogram2dcontour\":[{\"type\":\"histogram2dcontour\",\"colorbar\":{\"outlinewidth\":0,\"ticks\":\"\"},\"colorscale\":[[0.0,\"#0d0887\"],[0.1111111111111111,\"#46039f\"],[0.2222222222222222,\"#7201a8\"],[0.3333333333333333,\"#9c179e\"],[0.4444444444444444,\"#bd3786\"],[0.5555555555555556,\"#d8576b\"],[0.6666666666666666,\"#ed7953\"],[0.7777777777777778,\"#fb9f3a\"],[0.8888888888888888,\"#fdca26\"],[1.0,\"#f0f921\"]]}],\"choropleth\":[{\"type\":\"choropleth\",\"colorbar\":{\"outlinewidth\":0,\"ticks\":\"\"}}],\"histogram2d\":[{\"type\":\"histogram2d\",\"colorbar\":{\"outlinewidth\":0,\"ticks\":\"\"},\"colorscale\":[[0.0,\"#0d0887\"],[0.1111111111111111,\"#46039f\"],[0.2222222222222222,\"#7201a8\"],[0.3333333333333333,\"#9c179e\"],[0.4444444444444444,\"#bd3786\"],[0.5555555555555556,\"#d8576b\"],[0.6666666666666666,\"#ed7953\"],[0.7777777777777778,\"#fb9f3a\"],[0.8888888888888888,\"#fdca26\"],[1.0,\"#f0f921\"]]}],\"heatmap\":[{\"type\":\"heatmap\",\"colorbar\":{\"outlinewidth\":0,\"ticks\":\"\"},\"colorscale\":[[0.0,\"#0d0887\"],[0.1111111111111111,\"#46039f\"],[0.2222222222222222,\"#7201a8\"],[0.3333333333333333,\"#9c179e\"],[0.4444444444444444,\"#bd3786\"],[0.5555555555555556,\"#d8576b\"],[0.6666666666666666,\"#ed7953\"],[0.7777777777777778,\"#fb9f3a\"],[0.8888888888888888,\"#fdca26\"],[1.0,\"#f0f921\"]]}],\"heatmapgl\":[{\"type\":\"heatmapgl\",\"colorbar\":{\"outlinewidth\":0,\"ticks\":\"\"},\"colorscale\":[[0.0,\"#0d0887\"],[0.1111111111111111,\"#46039f\"],[0.2222222222222222,\"#7201a8\"],[0.3333333333333333,\"#9c179e\"],[0.4444444444444444,\"#bd3786\"],[0.5555555555555556,\"#d8576b\"],[0.6666666666666666,\"#ed7953\"],[0.7777777777777778,\"#fb9f3a\"],[0.8888888888888888,\"#fdca26\"],[1.0,\"#f0f921\"]]}],\"contourcarpet\":[{\"type\":\"contourcarpet\",\"colorbar\":{\"outlinewidth\":0,\"ticks\":\"\"}}],\"contour\":[{\"type\":\"contour\",\"colorbar\":{\"outlinewidth\":0,\"ticks\":\"\"},\"colorscale\":[[0.0,\"#0d0887\"],[0.1111111111111111,\"#46039f\"],[0.2222222222222222,\"#7201a8\"],[0.3333333333333333,\"#9c179e\"],[0.4444444444444444,\"#bd3786\"],[0.5555555555555556,\"#d8576b\"],[0.6666666666666666,\"#ed7953\"],[0.7777777777777778,\"#fb9f3a\"],[0.8888888888888888,\"#fdca26\"],[1.0,\"#f0f921\"]]}],\"surface\":[{\"type\":\"surface\",\"colorbar\":{\"outlinewidth\":0,\"ticks\":\"\"},\"colorscale\":[[0.0,\"#0d0887\"],[0.1111111111111111,\"#46039f\"],[0.2222222222222222,\"#7201a8\"],[0.3333333333333333,\"#9c179e\"],[0.4444444444444444,\"#bd3786\"],[0.5555555555555556,\"#d8576b\"],[0.6666666666666666,\"#ed7953\"],[0.7777777777777778,\"#fb9f3a\"],[0.8888888888888888,\"#fdca26\"],[1.0,\"#f0f921\"]]}],\"mesh3d\":[{\"type\":\"mesh3d\",\"colorbar\":{\"outlinewidth\":0,\"ticks\":\"\"}}],\"scatter\":[{\"fillpattern\":{\"fillmode\":\"overlay\",\"size\":10,\"solidity\":0.2},\"type\":\"scatter\"}],\"parcoords\":[{\"type\":\"parcoords\",\"line\":{\"colorbar\":{\"outlinewidth\":0,\"ticks\":\"\"}}}],\"scatterpolargl\":[{\"type\":\"scatterpolargl\",\"marker\":{\"colorbar\":{\"outlinewidth\":0,\"ticks\":\"\"}}}],\"bar\":[{\"error_x\":{\"color\":\"#2a3f5f\"},\"error_y\":{\"color\":\"#2a3f5f\"},\"marker\":{\"line\":{\"color\":\"#E5ECF6\",\"width\":0.5},\"pattern\":{\"fillmode\":\"overlay\",\"size\":10,\"solidity\":0.2}},\"type\":\"bar\"}],\"scattergeo\":[{\"type\":\"scattergeo\",\"marker\":{\"colorbar\":{\"outlinewidth\":0,\"ticks\":\"\"}}}],\"scatterpolar\":[{\"type\":\"scatterpolar\",\"marker\":{\"colorbar\":{\"outlinewidth\":0,\"ticks\":\"\"}}}],\"histogram\":[{\"marker\":{\"pattern\":{\"fillmode\":\"overlay\",\"size\":10,\"solidity\":0.2}},\"type\":\"histogram\"}],\"scattergl\":[{\"type\":\"scattergl\",\"marker\":{\"colorbar\":{\"outlinewidth\":0,\"ticks\":\"\"}}}],\"scatter3d\":[{\"type\":\"scatter3d\",\"line\":{\"colorbar\":{\"outlinewidth\":0,\"ticks\":\"\"}},\"marker\":{\"colorbar\":{\"outlinewidth\":0,\"ticks\":\"\"}}}],\"scattermapbox\":[{\"type\":\"scattermapbox\",\"marker\":{\"colorbar\":{\"outlinewidth\":0,\"ticks\":\"\"}}}],\"scatterternary\":[{\"type\":\"scatterternary\",\"marker\":{\"colorbar\":{\"outlinewidth\":0,\"ticks\":\"\"}}}],\"scattercarpet\":[{\"type\":\"scattercarpet\",\"marker\":{\"colorbar\":{\"outlinewidth\":0,\"ticks\":\"\"}}}],\"carpet\":[{\"aaxis\":{\"endlinecolor\":\"#2a3f5f\",\"gridcolor\":\"white\",\"linecolor\":\"white\",\"minorgridcolor\":\"white\",\"startlinecolor\":\"#2a3f5f\"},\"baxis\":{\"endlinecolor\":\"#2a3f5f\",\"gridcolor\":\"white\",\"linecolor\":\"white\",\"minorgridcolor\":\"white\",\"startlinecolor\":\"#2a3f5f\"},\"type\":\"carpet\"}],\"table\":[{\"cells\":{\"fill\":{\"color\":\"#EBF0F8\"},\"line\":{\"color\":\"white\"}},\"header\":{\"fill\":{\"color\":\"#C8D4E3\"},\"line\":{\"color\":\"white\"}},\"type\":\"table\"}],\"barpolar\":[{\"marker\":{\"line\":{\"color\":\"#E5ECF6\",\"width\":0.5},\"pattern\":{\"fillmode\":\"overlay\",\"size\":10,\"solidity\":0.2}},\"type\":\"barpolar\"}],\"pie\":[{\"automargin\":true,\"type\":\"pie\"}]},\"layout\":{\"autotypenumbers\":\"strict\",\"colorway\":[\"#636efa\",\"#EF553B\",\"#00cc96\",\"#ab63fa\",\"#FFA15A\",\"#19d3f3\",\"#FF6692\",\"#B6E880\",\"#FF97FF\",\"#FECB52\"],\"font\":{\"color\":\"#2a3f5f\"},\"hovermode\":\"closest\",\"hoverlabel\":{\"align\":\"left\"},\"paper_bgcolor\":\"white\",\"plot_bgcolor\":\"#E5ECF6\",\"polar\":{\"bgcolor\":\"#E5ECF6\",\"angularaxis\":{\"gridcolor\":\"white\",\"linecolor\":\"white\",\"ticks\":\"\"},\"radialaxis\":{\"gridcolor\":\"white\",\"linecolor\":\"white\",\"ticks\":\"\"}},\"ternary\":{\"bgcolor\":\"#E5ECF6\",\"aaxis\":{\"gridcolor\":\"white\",\"linecolor\":\"white\",\"ticks\":\"\"},\"baxis\":{\"gridcolor\":\"white\",\"linecolor\":\"white\",\"ticks\":\"\"},\"caxis\":{\"gridcolor\":\"white\",\"linecolor\":\"white\",\"ticks\":\"\"}},\"coloraxis\":{\"colorbar\":{\"outlinewidth\":0,\"ticks\":\"\"}},\"colorscale\":{\"sequential\":[[0.0,\"#0d0887\"],[0.1111111111111111,\"#46039f\"],[0.2222222222222222,\"#7201a8\"],[0.3333333333333333,\"#9c179e\"],[0.4444444444444444,\"#bd3786\"],[0.5555555555555556,\"#d8576b\"],[0.6666666666666666,\"#ed7953\"],[0.7777777777777778,\"#fb9f3a\"],[0.8888888888888888,\"#fdca26\"],[1.0,\"#f0f921\"]],\"sequentialminus\":[[0.0,\"#0d0887\"],[0.1111111111111111,\"#46039f\"],[0.2222222222222222,\"#7201a8\"],[0.3333333333333333,\"#9c179e\"],[0.4444444444444444,\"#bd3786\"],[0.5555555555555556,\"#d8576b\"],[0.6666666666666666,\"#ed7953\"],[0.7777777777777778,\"#fb9f3a\"],[0.8888888888888888,\"#fdca26\"],[1.0,\"#f0f921\"]],\"diverging\":[[0,\"#8e0152\"],[0.1,\"#c51b7d\"],[0.2,\"#de77ae\"],[0.3,\"#f1b6da\"],[0.4,\"#fde0ef\"],[0.5,\"#f7f7f7\"],[0.6,\"#e6f5d0\"],[0.7,\"#b8e186\"],[0.8,\"#7fbc41\"],[0.9,\"#4d9221\"],[1,\"#276419\"]]},\"xaxis\":{\"gridcolor\":\"white\",\"linecolor\":\"white\",\"ticks\":\"\",\"title\":{\"standoff\":15},\"zerolinecolor\":\"white\",\"automargin\":true,\"zerolinewidth\":2},\"yaxis\":{\"gridcolor\":\"white\",\"linecolor\":\"white\",\"ticks\":\"\",\"title\":{\"standoff\":15},\"zerolinecolor\":\"white\",\"automargin\":true,\"zerolinewidth\":2},\"scene\":{\"xaxis\":{\"backgroundcolor\":\"#E5ECF6\",\"gridcolor\":\"white\",\"linecolor\":\"white\",\"showbackground\":true,\"ticks\":\"\",\"zerolinecolor\":\"white\",\"gridwidth\":2},\"yaxis\":{\"backgroundcolor\":\"#E5ECF6\",\"gridcolor\":\"white\",\"linecolor\":\"white\",\"showbackground\":true,\"ticks\":\"\",\"zerolinecolor\":\"white\",\"gridwidth\":2},\"zaxis\":{\"backgroundcolor\":\"#E5ECF6\",\"gridcolor\":\"white\",\"linecolor\":\"white\",\"showbackground\":true,\"ticks\":\"\",\"zerolinecolor\":\"white\",\"gridwidth\":2}},\"shapedefaults\":{\"line\":{\"color\":\"#2a3f5f\"}},\"annotationdefaults\":{\"arrowcolor\":\"#2a3f5f\",\"arrowhead\":0,\"arrowwidth\":1},\"geo\":{\"bgcolor\":\"white\",\"landcolor\":\"#E5ECF6\",\"subunitcolor\":\"white\",\"showland\":true,\"showlakes\":true,\"lakecolor\":\"white\"},\"title\":{\"x\":0.05},\"mapbox\":{\"style\":\"light\"}}},\"xaxis\":{\"anchor\":\"y\",\"domain\":[0.0,1.0],\"title\":{\"text\":\"year_month\"}},\"yaxis\":{\"anchor\":\"x\",\"domain\":[0.0,1.0],\"title\":{\"text\":\"FAKTURA\"}},\"legend\":{\"title\":{\"text\":\"czy_z_kuponow\"},\"tracegroupgap\":0},\"margin\":{\"t\":60}},                        {\"responsive\": true}                    ).then(function(){\n",
       "                            \n",
       "var gd = document.getElementById('d3936fde-127e-4f8b-be82-24d71bd1ab5f');\n",
       "var x = new MutationObserver(function (mutations, observer) {{\n",
       "        var display = window.getComputedStyle(gd).display;\n",
       "        if (!display || display === 'none') {{\n",
       "            console.log([gd, 'removed!']);\n",
       "            Plotly.purge(gd);\n",
       "            observer.disconnect();\n",
       "        }}\n",
       "}});\n",
       "\n",
       "// Listen for the removal of the full notebook cells\n",
       "var notebookContainer = gd.closest('#notebook-container');\n",
       "if (notebookContainer) {{\n",
       "    x.observe(notebookContainer, {childList: true});\n",
       "}}\n",
       "\n",
       "// Listen for the clearing of the current output cell\n",
       "var outputEl = gd.closest('.output');\n",
       "if (outputEl) {{\n",
       "    x.observe(outputEl, {childList: true});\n",
       "}}\n",
       "\n",
       "                        })                };                });            </script>        </div>"
      ]
     },
     "metadata": {},
     "output_type": "display_data"
    }
   ],
   "source": [
    "tmp=df_zamowienia.groupby(['czy_z_kuponow','year_month']).agg({'FAKTURA':'nunique',\n",
    "                                                          'NAZWISKO':'nunique'}).reset_index()\n",
    "px.line(tmp,\n",
    "      x='year_month',\n",
    "      y='FAKTURA',\n",
    "      color='czy_z_kuponow')"
   ]
  },
  {
   "cell_type": "code",
   "execution_count": 119,
   "id": "bb606179-10ae-4f22-b299-08863a7d46de",
   "metadata": {},
   "outputs": [
    {
     "data": {
      "application/vnd.plotly.v1+json": {
       "config": {
        "plotlyServerURL": "https://plot.ly"
       },
       "data": [
        {
         "alignmentgroup": "True",
         "hovertemplate": "year_month=%{x}<br>FAKTURA=%{y}<br>NAZWISKO=%{marker.color}<extra></extra>",
         "legendgroup": "",
         "marker": {
          "color": [
           6,
           6,
           6,
           5,
           5,
           7,
           8,
           8,
           7,
           6,
           8,
           8,
           7,
           8,
           8,
           8,
           7,
           8,
           6,
           5,
           5,
           6,
           5,
           5,
           5,
           5,
           5,
           5,
           5,
           5,
           5
          ],
          "coloraxis": "coloraxis",
          "pattern": {
           "shape": ""
          }
         },
         "name": "",
         "offsetgroup": "",
         "orientation": "v",
         "showlegend": false,
         "textposition": "auto",
         "type": "bar",
         "x": [
          "2020-01-01T00:00:00",
          "2020-02-01T00:00:00",
          "2020-03-01T00:00:00",
          "2020-04-01T00:00:00",
          "2020-05-01T00:00:00",
          "2020-06-01T00:00:00",
          "2020-07-01T00:00:00",
          "2020-08-01T00:00:00",
          "2020-09-01T00:00:00",
          "2020-10-01T00:00:00",
          "2020-11-01T00:00:00",
          "2020-12-01T00:00:00",
          "2021-01-01T00:00:00",
          "2021-02-01T00:00:00",
          "2021-03-01T00:00:00",
          "2021-04-01T00:00:00",
          "2021-05-01T00:00:00",
          "2021-06-01T00:00:00",
          "2021-07-01T00:00:00",
          "2021-08-01T00:00:00",
          "2021-09-01T00:00:00",
          "2021-10-01T00:00:00",
          "2021-11-01T00:00:00",
          "2021-12-01T00:00:00",
          "2022-01-01T00:00:00",
          "2022-02-01T00:00:00",
          "2022-03-01T00:00:00",
          "2022-04-01T00:00:00",
          "2022-05-01T00:00:00",
          "2022-06-01T00:00:00",
          "2022-07-01T00:00:00"
         ],
         "xaxis": "x",
         "y": [
          1236,
          1438,
          1476,
          845,
          1405,
          1807,
          1843,
          1767,
          2073,
          1983,
          2014,
          1960,
          1315,
          1669,
          2630,
          1754,
          1797,
          1631,
          1780,
          1825,
          1681,
          1922,
          2106,
          1881,
          1305,
          1502,
          2267,
          1718,
          1574,
          1513,
          1382
         ],
         "yaxis": "y"
        }
       ],
       "layout": {
        "autosize": true,
        "barmode": "relative",
        "coloraxis": {
         "colorbar": {
          "title": {
           "text": "NAZWISKO"
          }
         },
         "colorscale": [
          [
           0,
           "rgb(232, 245, 171)"
          ],
          [
           0.09090909090909091,
           "rgb(220, 219, 137)"
          ],
          [
           0.18181818181818182,
           "rgb(209, 193, 107)"
          ],
          [
           0.2727272727272727,
           "rgb(199, 168, 83)"
          ],
          [
           0.36363636363636365,
           "rgb(186, 143, 66)"
          ],
          [
           0.45454545454545453,
           "rgb(170, 121, 60)"
          ],
          [
           0.5454545454545454,
           "rgb(151, 103, 58)"
          ],
          [
           0.6363636363636364,
           "rgb(129, 87, 56)"
          ],
          [
           0.7272727272727273,
           "rgb(104, 72, 53)"
          ],
          [
           0.8181818181818182,
           "rgb(80, 59, 46)"
          ],
          [
           0.9090909090909091,
           "rgb(57, 45, 37)"
          ],
          [
           1,
           "rgb(34, 30, 27)"
          ]
         ]
        },
        "legend": {
         "tracegroupgap": 0
        },
        "margin": {
         "t": 60
        },
        "template": {
         "data": {
          "bar": [
           {
            "error_x": {
             "color": "#2a3f5f"
            },
            "error_y": {
             "color": "#2a3f5f"
            },
            "marker": {
             "line": {
              "color": "#E5ECF6",
              "width": 0.5
             },
             "pattern": {
              "fillmode": "overlay",
              "size": 10,
              "solidity": 0.2
             }
            },
            "type": "bar"
           }
          ],
          "barpolar": [
           {
            "marker": {
             "line": {
              "color": "#E5ECF6",
              "width": 0.5
             },
             "pattern": {
              "fillmode": "overlay",
              "size": 10,
              "solidity": 0.2
             }
            },
            "type": "barpolar"
           }
          ],
          "carpet": [
           {
            "aaxis": {
             "endlinecolor": "#2a3f5f",
             "gridcolor": "white",
             "linecolor": "white",
             "minorgridcolor": "white",
             "startlinecolor": "#2a3f5f"
            },
            "baxis": {
             "endlinecolor": "#2a3f5f",
             "gridcolor": "white",
             "linecolor": "white",
             "minorgridcolor": "white",
             "startlinecolor": "#2a3f5f"
            },
            "type": "carpet"
           }
          ],
          "choropleth": [
           {
            "colorbar": {
             "outlinewidth": 0,
             "ticks": ""
            },
            "type": "choropleth"
           }
          ],
          "contour": [
           {
            "colorbar": {
             "outlinewidth": 0,
             "ticks": ""
            },
            "colorscale": [
             [
              0,
              "#0d0887"
             ],
             [
              0.1111111111111111,
              "#46039f"
             ],
             [
              0.2222222222222222,
              "#7201a8"
             ],
             [
              0.3333333333333333,
              "#9c179e"
             ],
             [
              0.4444444444444444,
              "#bd3786"
             ],
             [
              0.5555555555555556,
              "#d8576b"
             ],
             [
              0.6666666666666666,
              "#ed7953"
             ],
             [
              0.7777777777777778,
              "#fb9f3a"
             ],
             [
              0.8888888888888888,
              "#fdca26"
             ],
             [
              1,
              "#f0f921"
             ]
            ],
            "type": "contour"
           }
          ],
          "contourcarpet": [
           {
            "colorbar": {
             "outlinewidth": 0,
             "ticks": ""
            },
            "type": "contourcarpet"
           }
          ],
          "heatmap": [
           {
            "colorbar": {
             "outlinewidth": 0,
             "ticks": ""
            },
            "colorscale": [
             [
              0,
              "#0d0887"
             ],
             [
              0.1111111111111111,
              "#46039f"
             ],
             [
              0.2222222222222222,
              "#7201a8"
             ],
             [
              0.3333333333333333,
              "#9c179e"
             ],
             [
              0.4444444444444444,
              "#bd3786"
             ],
             [
              0.5555555555555556,
              "#d8576b"
             ],
             [
              0.6666666666666666,
              "#ed7953"
             ],
             [
              0.7777777777777778,
              "#fb9f3a"
             ],
             [
              0.8888888888888888,
              "#fdca26"
             ],
             [
              1,
              "#f0f921"
             ]
            ],
            "type": "heatmap"
           }
          ],
          "heatmapgl": [
           {
            "colorbar": {
             "outlinewidth": 0,
             "ticks": ""
            },
            "colorscale": [
             [
              0,
              "#0d0887"
             ],
             [
              0.1111111111111111,
              "#46039f"
             ],
             [
              0.2222222222222222,
              "#7201a8"
             ],
             [
              0.3333333333333333,
              "#9c179e"
             ],
             [
              0.4444444444444444,
              "#bd3786"
             ],
             [
              0.5555555555555556,
              "#d8576b"
             ],
             [
              0.6666666666666666,
              "#ed7953"
             ],
             [
              0.7777777777777778,
              "#fb9f3a"
             ],
             [
              0.8888888888888888,
              "#fdca26"
             ],
             [
              1,
              "#f0f921"
             ]
            ],
            "type": "heatmapgl"
           }
          ],
          "histogram": [
           {
            "marker": {
             "pattern": {
              "fillmode": "overlay",
              "size": 10,
              "solidity": 0.2
             }
            },
            "type": "histogram"
           }
          ],
          "histogram2d": [
           {
            "colorbar": {
             "outlinewidth": 0,
             "ticks": ""
            },
            "colorscale": [
             [
              0,
              "#0d0887"
             ],
             [
              0.1111111111111111,
              "#46039f"
             ],
             [
              0.2222222222222222,
              "#7201a8"
             ],
             [
              0.3333333333333333,
              "#9c179e"
             ],
             [
              0.4444444444444444,
              "#bd3786"
             ],
             [
              0.5555555555555556,
              "#d8576b"
             ],
             [
              0.6666666666666666,
              "#ed7953"
             ],
             [
              0.7777777777777778,
              "#fb9f3a"
             ],
             [
              0.8888888888888888,
              "#fdca26"
             ],
             [
              1,
              "#f0f921"
             ]
            ],
            "type": "histogram2d"
           }
          ],
          "histogram2dcontour": [
           {
            "colorbar": {
             "outlinewidth": 0,
             "ticks": ""
            },
            "colorscale": [
             [
              0,
              "#0d0887"
             ],
             [
              0.1111111111111111,
              "#46039f"
             ],
             [
              0.2222222222222222,
              "#7201a8"
             ],
             [
              0.3333333333333333,
              "#9c179e"
             ],
             [
              0.4444444444444444,
              "#bd3786"
             ],
             [
              0.5555555555555556,
              "#d8576b"
             ],
             [
              0.6666666666666666,
              "#ed7953"
             ],
             [
              0.7777777777777778,
              "#fb9f3a"
             ],
             [
              0.8888888888888888,
              "#fdca26"
             ],
             [
              1,
              "#f0f921"
             ]
            ],
            "type": "histogram2dcontour"
           }
          ],
          "mesh3d": [
           {
            "colorbar": {
             "outlinewidth": 0,
             "ticks": ""
            },
            "type": "mesh3d"
           }
          ],
          "parcoords": [
           {
            "line": {
             "colorbar": {
              "outlinewidth": 0,
              "ticks": ""
             }
            },
            "type": "parcoords"
           }
          ],
          "pie": [
           {
            "automargin": true,
            "type": "pie"
           }
          ],
          "scatter": [
           {
            "fillpattern": {
             "fillmode": "overlay",
             "size": 10,
             "solidity": 0.2
            },
            "type": "scatter"
           }
          ],
          "scatter3d": [
           {
            "line": {
             "colorbar": {
              "outlinewidth": 0,
              "ticks": ""
             }
            },
            "marker": {
             "colorbar": {
              "outlinewidth": 0,
              "ticks": ""
             }
            },
            "type": "scatter3d"
           }
          ],
          "scattercarpet": [
           {
            "marker": {
             "colorbar": {
              "outlinewidth": 0,
              "ticks": ""
             }
            },
            "type": "scattercarpet"
           }
          ],
          "scattergeo": [
           {
            "marker": {
             "colorbar": {
              "outlinewidth": 0,
              "ticks": ""
             }
            },
            "type": "scattergeo"
           }
          ],
          "scattergl": [
           {
            "marker": {
             "colorbar": {
              "outlinewidth": 0,
              "ticks": ""
             }
            },
            "type": "scattergl"
           }
          ],
          "scattermapbox": [
           {
            "marker": {
             "colorbar": {
              "outlinewidth": 0,
              "ticks": ""
             }
            },
            "type": "scattermapbox"
           }
          ],
          "scatterpolar": [
           {
            "marker": {
             "colorbar": {
              "outlinewidth": 0,
              "ticks": ""
             }
            },
            "type": "scatterpolar"
           }
          ],
          "scatterpolargl": [
           {
            "marker": {
             "colorbar": {
              "outlinewidth": 0,
              "ticks": ""
             }
            },
            "type": "scatterpolargl"
           }
          ],
          "scatterternary": [
           {
            "marker": {
             "colorbar": {
              "outlinewidth": 0,
              "ticks": ""
             }
            },
            "type": "scatterternary"
           }
          ],
          "surface": [
           {
            "colorbar": {
             "outlinewidth": 0,
             "ticks": ""
            },
            "colorscale": [
             [
              0,
              "#0d0887"
             ],
             [
              0.1111111111111111,
              "#46039f"
             ],
             [
              0.2222222222222222,
              "#7201a8"
             ],
             [
              0.3333333333333333,
              "#9c179e"
             ],
             [
              0.4444444444444444,
              "#bd3786"
             ],
             [
              0.5555555555555556,
              "#d8576b"
             ],
             [
              0.6666666666666666,
              "#ed7953"
             ],
             [
              0.7777777777777778,
              "#fb9f3a"
             ],
             [
              0.8888888888888888,
              "#fdca26"
             ],
             [
              1,
              "#f0f921"
             ]
            ],
            "type": "surface"
           }
          ],
          "table": [
           {
            "cells": {
             "fill": {
              "color": "#EBF0F8"
             },
             "line": {
              "color": "white"
             }
            },
            "header": {
             "fill": {
              "color": "#C8D4E3"
             },
             "line": {
              "color": "white"
             }
            },
            "type": "table"
           }
          ]
         },
         "layout": {
          "annotationdefaults": {
           "arrowcolor": "#2a3f5f",
           "arrowhead": 0,
           "arrowwidth": 1
          },
          "autotypenumbers": "strict",
          "coloraxis": {
           "colorbar": {
            "outlinewidth": 0,
            "ticks": ""
           }
          },
          "colorscale": {
           "diverging": [
            [
             0,
             "#8e0152"
            ],
            [
             0.1,
             "#c51b7d"
            ],
            [
             0.2,
             "#de77ae"
            ],
            [
             0.3,
             "#f1b6da"
            ],
            [
             0.4,
             "#fde0ef"
            ],
            [
             0.5,
             "#f7f7f7"
            ],
            [
             0.6,
             "#e6f5d0"
            ],
            [
             0.7,
             "#b8e186"
            ],
            [
             0.8,
             "#7fbc41"
            ],
            [
             0.9,
             "#4d9221"
            ],
            [
             1,
             "#276419"
            ]
           ],
           "sequential": [
            [
             0,
             "#0d0887"
            ],
            [
             0.1111111111111111,
             "#46039f"
            ],
            [
             0.2222222222222222,
             "#7201a8"
            ],
            [
             0.3333333333333333,
             "#9c179e"
            ],
            [
             0.4444444444444444,
             "#bd3786"
            ],
            [
             0.5555555555555556,
             "#d8576b"
            ],
            [
             0.6666666666666666,
             "#ed7953"
            ],
            [
             0.7777777777777778,
             "#fb9f3a"
            ],
            [
             0.8888888888888888,
             "#fdca26"
            ],
            [
             1,
             "#f0f921"
            ]
           ],
           "sequentialminus": [
            [
             0,
             "#0d0887"
            ],
            [
             0.1111111111111111,
             "#46039f"
            ],
            [
             0.2222222222222222,
             "#7201a8"
            ],
            [
             0.3333333333333333,
             "#9c179e"
            ],
            [
             0.4444444444444444,
             "#bd3786"
            ],
            [
             0.5555555555555556,
             "#d8576b"
            ],
            [
             0.6666666666666666,
             "#ed7953"
            ],
            [
             0.7777777777777778,
             "#fb9f3a"
            ],
            [
             0.8888888888888888,
             "#fdca26"
            ],
            [
             1,
             "#f0f921"
            ]
           ]
          },
          "colorway": [
           "#636efa",
           "#EF553B",
           "#00cc96",
           "#ab63fa",
           "#FFA15A",
           "#19d3f3",
           "#FF6692",
           "#B6E880",
           "#FF97FF",
           "#FECB52"
          ],
          "font": {
           "color": "#2a3f5f"
          },
          "geo": {
           "bgcolor": "white",
           "lakecolor": "white",
           "landcolor": "#E5ECF6",
           "showlakes": true,
           "showland": true,
           "subunitcolor": "white"
          },
          "hoverlabel": {
           "align": "left"
          },
          "hovermode": "closest",
          "mapbox": {
           "style": "light"
          },
          "paper_bgcolor": "white",
          "plot_bgcolor": "#E5ECF6",
          "polar": {
           "angularaxis": {
            "gridcolor": "white",
            "linecolor": "white",
            "ticks": ""
           },
           "bgcolor": "#E5ECF6",
           "radialaxis": {
            "gridcolor": "white",
            "linecolor": "white",
            "ticks": ""
           }
          },
          "scene": {
           "xaxis": {
            "backgroundcolor": "#E5ECF6",
            "gridcolor": "white",
            "gridwidth": 2,
            "linecolor": "white",
            "showbackground": true,
            "ticks": "",
            "zerolinecolor": "white"
           },
           "yaxis": {
            "backgroundcolor": "#E5ECF6",
            "gridcolor": "white",
            "gridwidth": 2,
            "linecolor": "white",
            "showbackground": true,
            "ticks": "",
            "zerolinecolor": "white"
           },
           "zaxis": {
            "backgroundcolor": "#E5ECF6",
            "gridcolor": "white",
            "gridwidth": 2,
            "linecolor": "white",
            "showbackground": true,
            "ticks": "",
            "zerolinecolor": "white"
           }
          },
          "shapedefaults": {
           "line": {
            "color": "#2a3f5f"
           }
          },
          "ternary": {
           "aaxis": {
            "gridcolor": "white",
            "linecolor": "white",
            "ticks": ""
           },
           "baxis": {
            "gridcolor": "white",
            "linecolor": "white",
            "ticks": ""
           },
           "bgcolor": "#E5ECF6",
           "caxis": {
            "gridcolor": "white",
            "linecolor": "white",
            "ticks": ""
           }
          },
          "title": {
           "x": 0.05
          },
          "xaxis": {
           "automargin": true,
           "gridcolor": "white",
           "linecolor": "white",
           "ticks": "",
           "title": {
            "standoff": 15
           },
           "zerolinecolor": "white",
           "zerolinewidth": 2
          },
          "yaxis": {
           "automargin": true,
           "gridcolor": "white",
           "linecolor": "white",
           "ticks": "",
           "title": {
            "standoff": 15
           },
           "zerolinecolor": "white",
           "zerolinewidth": 2
          }
         }
        },
        "xaxis": {
         "anchor": "y",
         "autorange": true,
         "domain": [
          0,
          1
         ],
         "range": [
          "2019-12-18",
          "2022-07-15"
         ],
         "title": {
          "text": "year_month"
         },
         "type": "date"
        },
        "yaxis": {
         "anchor": "x",
         "autorange": true,
         "domain": [
          0,
          1
         ],
         "range": [
          0,
          2768.421052631579
         ],
         "title": {
          "text": "FAKTURA"
         },
         "type": "linear"
        }
       }
      },
      "image/png": "[encoded data removed]",
      "text/html": [
       "<div>                            <div id=\"135b492c-a7fd-42ff-9fa7-9ebf1e5d1fa7\" class=\"plotly-graph-div\" style=\"height:525px; width:100%;\"></div>            <script type=\"text/javascript\">                require([\"plotly\"], function(Plotly) {                    window.PLOTLYENV=window.PLOTLYENV || {};                                    if (document.getElementById(\"135b492c-a7fd-42ff-9fa7-9ebf1e5d1fa7\")) {                    Plotly.newPlot(                        \"135b492c-a7fd-42ff-9fa7-9ebf1e5d1fa7\",                        [{\"alignmentgroup\":\"True\",\"hovertemplate\":\"year_month=%{x}<br>FAKTURA=%{y}<br>NAZWISKO=%{marker.color}<extra></extra>\",\"legendgroup\":\"\",\"marker\":{\"color\":[6,6,6,5,5,7,8,8,7,6,8,8,7,8,8,8,7,8,6,5,5,6,5,5,5,5,5,5,5,5,5],\"coloraxis\":\"coloraxis\",\"pattern\":{\"shape\":\"\"}},\"name\":\"\",\"offsetgroup\":\"\",\"orientation\":\"v\",\"showlegend\":false,\"textposition\":\"auto\",\"x\":[\"2020-01-01T00:00:00\",\"2020-02-01T00:00:00\",\"2020-03-01T00:00:00\",\"2020-04-01T00:00:00\",\"2020-05-01T00:00:00\",\"2020-06-01T00:00:00\",\"2020-07-01T00:00:00\",\"2020-08-01T00:00:00\",\"2020-09-01T00:00:00\",\"2020-10-01T00:00:00\",\"2020-11-01T00:00:00\",\"2020-12-01T00:00:00\",\"2021-01-01T00:00:00\",\"2021-02-01T00:00:00\",\"2021-03-01T00:00:00\",\"2021-04-01T00:00:00\",\"2021-05-01T00:00:00\",\"2021-06-01T00:00:00\",\"2021-07-01T00:00:00\",\"2021-08-01T00:00:00\",\"2021-09-01T00:00:00\",\"2021-10-01T00:00:00\",\"2021-11-01T00:00:00\",\"2021-12-01T00:00:00\",\"2022-01-01T00:00:00\",\"2022-02-01T00:00:00\",\"2022-03-01T00:00:00\",\"2022-04-01T00:00:00\",\"2022-05-01T00:00:00\",\"2022-06-01T00:00:00\",\"2022-07-01T00:00:00\"],\"xaxis\":\"x\",\"y\":[1236,1438,1476,845,1405,1807,1843,1767,2073,1983,2014,1960,1315,1669,2630,1754,1797,1631,1780,1825,1681,1922,2106,1881,1305,1502,2267,1718,1574,1513,1382],\"yaxis\":\"y\",\"type\":\"bar\"}],                        {\"template\":{\"data\":{\"histogram2dcontour\":[{\"type\":\"histogram2dcontour\",\"colorbar\":{\"outlinewidth\":0,\"ticks\":\"\"},\"colorscale\":[[0.0,\"#0d0887\"],[0.1111111111111111,\"#46039f\"],[0.2222222222222222,\"#7201a8\"],[0.3333333333333333,\"#9c179e\"],[0.4444444444444444,\"#bd3786\"],[0.5555555555555556,\"#d8576b\"],[0.6666666666666666,\"#ed7953\"],[0.7777777777777778,\"#fb9f3a\"],[0.8888888888888888,\"#fdca26\"],[1.0,\"#f0f921\"]]}],\"choropleth\":[{\"type\":\"choropleth\",\"colorbar\":{\"outlinewidth\":0,\"ticks\":\"\"}}],\"histogram2d\":[{\"type\":\"histogram2d\",\"colorbar\":{\"outlinewidth\":0,\"ticks\":\"\"},\"colorscale\":[[0.0,\"#0d0887\"],[0.1111111111111111,\"#46039f\"],[0.2222222222222222,\"#7201a8\"],[0.3333333333333333,\"#9c179e\"],[0.4444444444444444,\"#bd3786\"],[0.5555555555555556,\"#d8576b\"],[0.6666666666666666,\"#ed7953\"],[0.7777777777777778,\"#fb9f3a\"],[0.8888888888888888,\"#fdca26\"],[1.0,\"#f0f921\"]]}],\"heatmap\":[{\"type\":\"heatmap\",\"colorbar\":{\"outlinewidth\":0,\"ticks\":\"\"},\"colorscale\":[[0.0,\"#0d0887\"],[0.1111111111111111,\"#46039f\"],[0.2222222222222222,\"#7201a8\"],[0.3333333333333333,\"#9c179e\"],[0.4444444444444444,\"#bd3786\"],[0.5555555555555556,\"#d8576b\"],[0.6666666666666666,\"#ed7953\"],[0.7777777777777778,\"#fb9f3a\"],[0.8888888888888888,\"#fdca26\"],[1.0,\"#f0f921\"]]}],\"heatmapgl\":[{\"type\":\"heatmapgl\",\"colorbar\":{\"outlinewidth\":0,\"ticks\":\"\"},\"colorscale\":[[0.0,\"#0d0887\"],[0.1111111111111111,\"#46039f\"],[0.2222222222222222,\"#7201a8\"],[0.3333333333333333,\"#9c179e\"],[0.4444444444444444,\"#bd3786\"],[0.5555555555555556,\"#d8576b\"],[0.6666666666666666,\"#ed7953\"],[0.7777777777777778,\"#fb9f3a\"],[0.8888888888888888,\"#fdca26\"],[1.0,\"#f0f921\"]]}],\"contourcarpet\":[{\"type\":\"contourcarpet\",\"colorbar\":{\"outlinewidth\":0,\"ticks\":\"\"}}],\"contour\":[{\"type\":\"contour\",\"colorbar\":{\"outlinewidth\":0,\"ticks\":\"\"},\"colorscale\":[[0.0,\"#0d0887\"],[0.1111111111111111,\"#46039f\"],[0.2222222222222222,\"#7201a8\"],[0.3333333333333333,\"#9c179e\"],[0.4444444444444444,\"#bd3786\"],[0.5555555555555556,\"#d8576b\"],[0.6666666666666666,\"#ed7953\"],[0.7777777777777778,\"#fb9f3a\"],[0.8888888888888888,\"#fdca26\"],[1.0,\"#f0f921\"]]}],\"surface\":[{\"type\":\"surface\",\"colorbar\":{\"outlinewidth\":0,\"ticks\":\"\"},\"colorscale\":[[0.0,\"#0d0887\"],[0.1111111111111111,\"#46039f\"],[0.2222222222222222,\"#7201a8\"],[0.3333333333333333,\"#9c179e\"],[0.4444444444444444,\"#bd3786\"],[0.5555555555555556,\"#d8576b\"],[0.6666666666666666,\"#ed7953\"],[0.7777777777777778,\"#fb9f3a\"],[0.8888888888888888,\"#fdca26\"],[1.0,\"#f0f921\"]]}],\"mesh3d\":[{\"type\":\"mesh3d\",\"colorbar\":{\"outlinewidth\":0,\"ticks\":\"\"}}],\"scatter\":[{\"fillpattern\":{\"fillmode\":\"overlay\",\"size\":10,\"solidity\":0.2},\"type\":\"scatter\"}],\"parcoords\":[{\"type\":\"parcoords\",\"line\":{\"colorbar\":{\"outlinewidth\":0,\"ticks\":\"\"}}}],\"scatterpolargl\":[{\"type\":\"scatterpolargl\",\"marker\":{\"colorbar\":{\"outlinewidth\":0,\"ticks\":\"\"}}}],\"bar\":[{\"error_x\":{\"color\":\"#2a3f5f\"},\"error_y\":{\"color\":\"#2a3f5f\"},\"marker\":{\"line\":{\"color\":\"#E5ECF6\",\"width\":0.5},\"pattern\":{\"fillmode\":\"overlay\",\"size\":10,\"solidity\":0.2}},\"type\":\"bar\"}],\"scattergeo\":[{\"type\":\"scattergeo\",\"marker\":{\"colorbar\":{\"outlinewidth\":0,\"ticks\":\"\"}}}],\"scatterpolar\":[{\"type\":\"scatterpolar\",\"marker\":{\"colorbar\":{\"outlinewidth\":0,\"ticks\":\"\"}}}],\"histogram\":[{\"marker\":{\"pattern\":{\"fillmode\":\"overlay\",\"size\":10,\"solidity\":0.2}},\"type\":\"histogram\"}],\"scattergl\":[{\"type\":\"scattergl\",\"marker\":{\"colorbar\":{\"outlinewidth\":0,\"ticks\":\"\"}}}],\"scatter3d\":[{\"type\":\"scatter3d\",\"line\":{\"colorbar\":{\"outlinewidth\":0,\"ticks\":\"\"}},\"marker\":{\"colorbar\":{\"outlinewidth\":0,\"ticks\":\"\"}}}],\"scattermapbox\":[{\"type\":\"scattermapbox\",\"marker\":{\"colorbar\":{\"outlinewidth\":0,\"ticks\":\"\"}}}],\"scatterternary\":[{\"type\":\"scatterternary\",\"marker\":{\"colorbar\":{\"outlinewidth\":0,\"ticks\":\"\"}}}],\"scattercarpet\":[{\"type\":\"scattercarpet\",\"marker\":{\"colorbar\":{\"outlinewidth\":0,\"ticks\":\"\"}}}],\"carpet\":[{\"aaxis\":{\"endlinecolor\":\"#2a3f5f\",\"gridcolor\":\"white\",\"linecolor\":\"white\",\"minorgridcolor\":\"white\",\"startlinecolor\":\"#2a3f5f\"},\"baxis\":{\"endlinecolor\":\"#2a3f5f\",\"gridcolor\":\"white\",\"linecolor\":\"white\",\"minorgridcolor\":\"white\",\"startlinecolor\":\"#2a3f5f\"},\"type\":\"carpet\"}],\"table\":[{\"cells\":{\"fill\":{\"color\":\"#EBF0F8\"},\"line\":{\"color\":\"white\"}},\"header\":{\"fill\":{\"color\":\"#C8D4E3\"},\"line\":{\"color\":\"white\"}},\"type\":\"table\"}],\"barpolar\":[{\"marker\":{\"line\":{\"color\":\"#E5ECF6\",\"width\":0.5},\"pattern\":{\"fillmode\":\"overlay\",\"size\":10,\"solidity\":0.2}},\"type\":\"barpolar\"}],\"pie\":[{\"automargin\":true,\"type\":\"pie\"}]},\"layout\":{\"autotypenumbers\":\"strict\",\"colorway\":[\"#636efa\",\"#EF553B\",\"#00cc96\",\"#ab63fa\",\"#FFA15A\",\"#19d3f3\",\"#FF6692\",\"#B6E880\",\"#FF97FF\",\"#FECB52\"],\"font\":{\"color\":\"#2a3f5f\"},\"hovermode\":\"closest\",\"hoverlabel\":{\"align\":\"left\"},\"paper_bgcolor\":\"white\",\"plot_bgcolor\":\"#E5ECF6\",\"polar\":{\"bgcolor\":\"#E5ECF6\",\"angularaxis\":{\"gridcolor\":\"white\",\"linecolor\":\"white\",\"ticks\":\"\"},\"radialaxis\":{\"gridcolor\":\"white\",\"linecolor\":\"white\",\"ticks\":\"\"}},\"ternary\":{\"bgcolor\":\"#E5ECF6\",\"aaxis\":{\"gridcolor\":\"white\",\"linecolor\":\"white\",\"ticks\":\"\"},\"baxis\":{\"gridcolor\":\"white\",\"linecolor\":\"white\",\"ticks\":\"\"},\"caxis\":{\"gridcolor\":\"white\",\"linecolor\":\"white\",\"ticks\":\"\"}},\"coloraxis\":{\"colorbar\":{\"outlinewidth\":0,\"ticks\":\"\"}},\"colorscale\":{\"sequential\":[[0.0,\"#0d0887\"],[0.1111111111111111,\"#46039f\"],[0.2222222222222222,\"#7201a8\"],[0.3333333333333333,\"#9c179e\"],[0.4444444444444444,\"#bd3786\"],[0.5555555555555556,\"#d8576b\"],[0.6666666666666666,\"#ed7953\"],[0.7777777777777778,\"#fb9f3a\"],[0.8888888888888888,\"#fdca26\"],[1.0,\"#f0f921\"]],\"sequentialminus\":[[0.0,\"#0d0887\"],[0.1111111111111111,\"#46039f\"],[0.2222222222222222,\"#7201a8\"],[0.3333333333333333,\"#9c179e\"],[0.4444444444444444,\"#bd3786\"],[0.5555555555555556,\"#d8576b\"],[0.6666666666666666,\"#ed7953\"],[0.7777777777777778,\"#fb9f3a\"],[0.8888888888888888,\"#fdca26\"],[1.0,\"#f0f921\"]],\"diverging\":[[0,\"#8e0152\"],[0.1,\"#c51b7d\"],[0.2,\"#de77ae\"],[0.3,\"#f1b6da\"],[0.4,\"#fde0ef\"],[0.5,\"#f7f7f7\"],[0.6,\"#e6f5d0\"],[0.7,\"#b8e186\"],[0.8,\"#7fbc41\"],[0.9,\"#4d9221\"],[1,\"#276419\"]]},\"xaxis\":{\"gridcolor\":\"white\",\"linecolor\":\"white\",\"ticks\":\"\",\"title\":{\"standoff\":15},\"zerolinecolor\":\"white\",\"automargin\":true,\"zerolinewidth\":2},\"yaxis\":{\"gridcolor\":\"white\",\"linecolor\":\"white\",\"ticks\":\"\",\"title\":{\"standoff\":15},\"zerolinecolor\":\"white\",\"automargin\":true,\"zerolinewidth\":2},\"scene\":{\"xaxis\":{\"backgroundcolor\":\"#E5ECF6\",\"gridcolor\":\"white\",\"linecolor\":\"white\",\"showbackground\":true,\"ticks\":\"\",\"zerolinecolor\":\"white\",\"gridwidth\":2},\"yaxis\":{\"backgroundcolor\":\"#E5ECF6\",\"gridcolor\":\"white\",\"linecolor\":\"white\",\"showbackground\":true,\"ticks\":\"\",\"zerolinecolor\":\"white\",\"gridwidth\":2},\"zaxis\":{\"backgroundcolor\":\"#E5ECF6\",\"gridcolor\":\"white\",\"linecolor\":\"white\",\"showbackground\":true,\"ticks\":\"\",\"zerolinecolor\":\"white\",\"gridwidth\":2}},\"shapedefaults\":{\"line\":{\"color\":\"#2a3f5f\"}},\"annotationdefaults\":{\"arrowcolor\":\"#2a3f5f\",\"arrowhead\":0,\"arrowwidth\":1},\"geo\":{\"bgcolor\":\"white\",\"landcolor\":\"#E5ECF6\",\"subunitcolor\":\"white\",\"showland\":true,\"showlakes\":true,\"lakecolor\":\"white\"},\"title\":{\"x\":0.05},\"mapbox\":{\"style\":\"light\"}}},\"xaxis\":{\"anchor\":\"y\",\"domain\":[0.0,1.0],\"title\":{\"text\":\"year_month\"}},\"yaxis\":{\"anchor\":\"x\",\"domain\":[0.0,1.0],\"title\":{\"text\":\"FAKTURA\"}},\"coloraxis\":{\"colorbar\":{\"title\":{\"text\":\"NAZWISKO\"}},\"colorscale\":[[0.0,\"rgb(232, 245, 171)\"],[0.09090909090909091,\"rgb(220, 219, 137)\"],[0.18181818181818182,\"rgb(209, 193, 107)\"],[0.2727272727272727,\"rgb(199, 168, 83)\"],[0.36363636363636365,\"rgb(186, 143, 66)\"],[0.45454545454545453,\"rgb(170, 121, 60)\"],[0.5454545454545454,\"rgb(151, 103, 58)\"],[0.6363636363636364,\"rgb(129, 87, 56)\"],[0.7272727272727273,\"rgb(104, 72, 53)\"],[0.8181818181818182,\"rgb(80, 59, 46)\"],[0.9090909090909091,\"rgb(57, 45, 37)\"],[1.0,\"rgb(34, 30, 27)\"]]},\"legend\":{\"tracegroupgap\":0},\"margin\":{\"t\":60},\"barmode\":\"relative\"},                        {\"responsive\": true}                    ).then(function(){\n",
       "                            \n",
       "var gd = document.getElementById('135b492c-a7fd-42ff-9fa7-9ebf1e5d1fa7');\n",
       "var x = new MutationObserver(function (mutations, observer) {{\n",
       "        var display = window.getComputedStyle(gd).display;\n",
       "        if (!display || display === 'none') {{\n",
       "            console.log([gd, 'removed!']);\n",
       "            Plotly.purge(gd);\n",
       "            observer.disconnect();\n",
       "        }}\n",
       "}});\n",
       "\n",
       "// Listen for the removal of the full notebook cells\n",
       "var notebookContainer = gd.closest('#notebook-container');\n",
       "if (notebookContainer) {{\n",
       "    x.observe(notebookContainer, {childList: true});\n",
       "}}\n",
       "\n",
       "// Listen for the clearing of the current output cell\n",
       "var outputEl = gd.closest('.output');\n",
       "if (outputEl) {{\n",
       "    x.observe(outputEl, {childList: true});\n",
       "}}\n",
       "\n",
       "                        })                };                });            </script>        </div>"
      ]
     },
     "metadata": {},
     "output_type": "display_data"
    }
   ],
   "source": [
    "tmp=df_zamowienia.groupby(['czy_z_kuponow','year_month']).agg({'FAKTURA':'nunique',\n",
    "                                                          'NAZWISKO':'nunique'}).reset_index()\n",
    "fig=px.bar(tmp.loc[tmp['czy_z_kuponow']=='tak'],\n",
    "      x='year_month',\n",
    "      y='FAKTURA',\n",
    "      color='NAZWISKO',\n",
    "      color_continuous_scale='turbid')\n",
    "fig.write_html(path_to_catalog+'faktury_per_mc_plus_ela.html')\n",
    "fig.show()"
   ]
  },
  {
   "cell_type": "code",
   "execution_count": 20,
   "id": "a5e3e6b8-1edb-4e5d-9a5f-46ab823d1134",
   "metadata": {},
   "outputs": [
    {
     "data": {
      "application/vnd.plotly.v1+json": {
       "config": {
        "plotlyServerURL": "https://plot.ly"
       },
       "data": [
        {
         "alignmentgroup": "True",
         "hovertemplate": "year_week=%{x}<br>FAKTURA=%{y}<br>NAZWISKO=%{marker.color}<extra></extra>",
         "legendgroup": "",
         "marker": {
          "color": [
           5,
           4,
           5,
           4,
           4,
           5,
           4,
           4,
           4,
           5,
           5,
           3,
           2,
           3,
           3,
           3,
           4,
           4,
           3,
           4,
           3,
           4,
           4,
           6,
           4,
           5,
           5,
           5,
           5,
           6,
           6,
           5,
           4,
           5,
           6,
           5,
           5,
           4,
           5,
           6,
           4,
           5,
           5,
           3,
           6,
           4,
           5,
           6,
           5,
           5,
           7,
           4,
           5,
           4,
           4,
           5,
           6,
           5,
           4,
           5,
           5,
           6,
           7,
           5,
           5,
           5,
           6,
           6,
           4,
           5,
           5,
           6,
           4,
           5,
           5,
           5,
           4,
           4,
           4,
           4,
           5,
           4,
           3,
           2,
           3,
           4,
           4,
           4,
           4,
           4,
           4,
           4,
           4,
           5,
           5,
           3,
           4,
           4,
           4,
           4,
           4,
           4,
           4,
           4,
           4,
           4,
           4,
           4,
           4,
           4,
           4,
           4,
           4,
           4,
           4,
           3,
           4,
           4,
           4,
           4,
           4,
           4,
           4,
           4,
           4,
           4,
           4,
           4,
           4,
           3,
           3,
           4,
           4,
           3,
           2
          ],
          "coloraxis": "coloraxis",
          "pattern": {
           "shape": ""
          }
         },
         "name": "",
         "offsetgroup": "",
         "orientation": "v",
         "showlegend": false,
         "textposition": "auto",
         "type": "bar",
         "x": [
          "2020--01",
          "2020--02",
          "2020--03",
          "2020--04",
          "2020--05",
          "2020--06",
          "2020--07",
          "2020--08",
          "2020--09",
          "2020--10",
          "2020--11",
          "2020--12",
          "2020--13",
          "2020--14",
          "2020--15",
          "2020--16",
          "2020--17",
          "2020--18",
          "2020--19",
          "2020--20",
          "2020--21",
          "2020--22",
          "2020--23",
          "2020--24",
          "2020--25",
          "2020--26",
          "2020--27",
          "2020--28",
          "2020--29",
          "2020--30",
          "2020--31",
          "2020--32",
          "2020--33",
          "2020--34",
          "2020--35",
          "2020--36",
          "2020--37",
          "2020--38",
          "2020--39",
          "2020--40",
          "2020--41",
          "2020--42",
          "2020--43",
          "2020--44",
          "2020--45",
          "2020--46",
          "2020--47",
          "2020--48",
          "2020--49",
          "2020--50",
          "2020--51",
          "2020--52",
          "2020--53",
          "2021--01",
          "2021--02",
          "2021--03",
          "2021--04",
          "2021--05",
          "2021--06",
          "2021--07",
          "2021--08",
          "2021--09",
          "2021--10",
          "2021--11",
          "2021--12",
          "2021--13",
          "2021--14",
          "2021--15",
          "2021--16",
          "2021--17",
          "2021--18",
          "2021--19",
          "2021--20",
          "2021--21",
          "2021--22",
          "2021--23",
          "2021--24",
          "2021--25",
          "2021--26",
          "2021--27",
          "2021--28",
          "2021--29",
          "2021--30",
          "2021--31",
          "2021--32",
          "2021--33",
          "2021--34",
          "2021--35",
          "2021--36",
          "2021--37",
          "2021--38",
          "2021--39",
          "2021--40",
          "2021--41",
          "2021--42",
          "2021--43",
          "2021--44",
          "2021--45",
          "2021--46",
          "2021--47",
          "2021--48",
          "2021--49",
          "2021--50",
          "2021--51",
          "2021--52",
          "2022--01",
          "2022--02",
          "2022--03",
          "2022--04",
          "2022--05",
          "2022--06",
          "2022--07",
          "2022--08",
          "2022--09",
          "2022--10",
          "2022--11",
          "2022--12",
          "2022--13",
          "2022--14",
          "2022--15",
          "2022--16",
          "2022--17",
          "2022--18",
          "2022--19",
          "2022--20",
          "2022--21",
          "2022--22",
          "2022--23",
          "2022--24",
          "2022--25",
          "2022--26",
          "2022--27",
          "2022--28",
          "2022--29",
          "2022--30"
         ],
         "xaxis": "x",
         "y": [
          58,
          224,
          281,
          267,
          284,
          287,
          312,
          377,
          339,
          360,
          368,
          225,
          168,
          155,
          87,
          132,
          232,
          167,
          253,
          265,
          288,
          331,
          311,
          318,
          387,
          418,
          429,
          446,
          339,
          248,
          360,
          267,
          328,
          405,
          356,
          293,
          432,
          400,
          449,
          432,
          395,
          369,
          387,
          435,
          466,
          347,
          345,
          491,
          550,
          515,
          463,
          125,
          136,
          214,
          259,
          309,
          362,
          387,
          338,
          376,
          428,
          562,
          433,
          525,
          531,
          243,
          246,
          423,
          457,
          385,
          316,
          355,
          390,
          437,
          218,
          401,
          359,
          343,
          350,
          406,
          392,
          401,
          291,
          310,
          304,
          362,
          385,
          324,
          313,
          364,
          324,
          383,
          436,
          438,
          434,
          426,
          319,
          349,
          463,
          542,
          528,
          517,
          447,
          165,
          142,
          128,
          350,
          353,
          306,
          325,
          332,
          384,
          344,
          344,
          398,
          427,
          497,
          478,
          498,
          256,
          317,
          393,
          183,
          377,
          399,
          334,
          307,
          376,
          215,
          361,
          360,
          335,
          373,
          344,
          112
         ],
         "yaxis": "y"
        }
       ],
       "layout": {
        "autosize": true,
        "barmode": "relative",
        "coloraxis": {
         "colorbar": {
          "title": {
           "text": "NAZWISKO"
          }
         },
         "colorscale": [
          [
           0,
           "rgb(232, 245, 171)"
          ],
          [
           0.09090909090909091,
           "rgb(220, 219, 137)"
          ],
          [
           0.18181818181818182,
           "rgb(209, 193, 107)"
          ],
          [
           0.2727272727272727,
           "rgb(199, 168, 83)"
          ],
          [
           0.36363636363636365,
           "rgb(186, 143, 66)"
          ],
          [
           0.45454545454545453,
           "rgb(170, 121, 60)"
          ],
          [
           0.5454545454545454,
           "rgb(151, 103, 58)"
          ],
          [
           0.6363636363636364,
           "rgb(129, 87, 56)"
          ],
          [
           0.7272727272727273,
           "rgb(104, 72, 53)"
          ],
          [
           0.8181818181818182,
           "rgb(80, 59, 46)"
          ],
          [
           0.9090909090909091,
           "rgb(57, 45, 37)"
          ],
          [
           1,
           "rgb(34, 30, 27)"
          ]
         ]
        },
        "legend": {
         "tracegroupgap": 0
        },
        "margin": {
         "t": 60
        },
        "template": {
         "data": {
          "bar": [
           {
            "error_x": {
             "color": "#2a3f5f"
            },
            "error_y": {
             "color": "#2a3f5f"
            },
            "marker": {
             "line": {
              "color": "#E5ECF6",
              "width": 0.5
             },
             "pattern": {
              "fillmode": "overlay",
              "size": 10,
              "solidity": 0.2
             }
            },
            "type": "bar"
           }
          ],
          "barpolar": [
           {
            "marker": {
             "line": {
              "color": "#E5ECF6",
              "width": 0.5
             },
             "pattern": {
              "fillmode": "overlay",
              "size": 10,
              "solidity": 0.2
             }
            },
            "type": "barpolar"
           }
          ],
          "carpet": [
           {
            "aaxis": {
             "endlinecolor": "#2a3f5f",
             "gridcolor": "white",
             "linecolor": "white",
             "minorgridcolor": "white",
             "startlinecolor": "#2a3f5f"
            },
            "baxis": {
             "endlinecolor": "#2a3f5f",
             "gridcolor": "white",
             "linecolor": "white",
             "minorgridcolor": "white",
             "startlinecolor": "#2a3f5f"
            },
            "type": "carpet"
           }
          ],
          "choropleth": [
           {
            "colorbar": {
             "outlinewidth": 0,
             "ticks": ""
            },
            "type": "choropleth"
           }
          ],
          "contour": [
           {
            "colorbar": {
             "outlinewidth": 0,
             "ticks": ""
            },
            "colorscale": [
             [
              0,
              "#0d0887"
             ],
             [
              0.1111111111111111,
              "#46039f"
             ],
             [
              0.2222222222222222,
              "#7201a8"
             ],
             [
              0.3333333333333333,
              "#9c179e"
             ],
             [
              0.4444444444444444,
              "#bd3786"
             ],
             [
              0.5555555555555556,
              "#d8576b"
             ],
             [
              0.6666666666666666,
              "#ed7953"
             ],
             [
              0.7777777777777778,
              "#fb9f3a"
             ],
             [
              0.8888888888888888,
              "#fdca26"
             ],
             [
              1,
              "#f0f921"
             ]
            ],
            "type": "contour"
           }
          ],
          "contourcarpet": [
           {
            "colorbar": {
             "outlinewidth": 0,
             "ticks": ""
            },
            "type": "contourcarpet"
           }
          ],
          "heatmap": [
           {
            "colorbar": {
             "outlinewidth": 0,
             "ticks": ""
            },
            "colorscale": [
             [
              0,
              "#0d0887"
             ],
             [
              0.1111111111111111,
              "#46039f"
             ],
             [
              0.2222222222222222,
              "#7201a8"
             ],
             [
              0.3333333333333333,
              "#9c179e"
             ],
             [
              0.4444444444444444,
              "#bd3786"
             ],
             [
              0.5555555555555556,
              "#d8576b"
             ],
             [
              0.6666666666666666,
              "#ed7953"
             ],
             [
              0.7777777777777778,
              "#fb9f3a"
             ],
             [
              0.8888888888888888,
              "#fdca26"
             ],
             [
              1,
              "#f0f921"
             ]
            ],
            "type": "heatmap"
           }
          ],
          "heatmapgl": [
           {
            "colorbar": {
             "outlinewidth": 0,
             "ticks": ""
            },
            "colorscale": [
             [
              0,
              "#0d0887"
             ],
             [
              0.1111111111111111,
              "#46039f"
             ],
             [
              0.2222222222222222,
              "#7201a8"
             ],
             [
              0.3333333333333333,
              "#9c179e"
             ],
             [
              0.4444444444444444,
              "#bd3786"
             ],
             [
              0.5555555555555556,
              "#d8576b"
             ],
             [
              0.6666666666666666,
              "#ed7953"
             ],
             [
              0.7777777777777778,
              "#fb9f3a"
             ],
             [
              0.8888888888888888,
              "#fdca26"
             ],
             [
              1,
              "#f0f921"
             ]
            ],
            "type": "heatmapgl"
           }
          ],
          "histogram": [
           {
            "marker": {
             "pattern": {
              "fillmode": "overlay",
              "size": 10,
              "solidity": 0.2
             }
            },
            "type": "histogram"
           }
          ],
          "histogram2d": [
           {
            "colorbar": {
             "outlinewidth": 0,
             "ticks": ""
            },
            "colorscale": [
             [
              0,
              "#0d0887"
             ],
             [
              0.1111111111111111,
              "#46039f"
             ],
             [
              0.2222222222222222,
              "#7201a8"
             ],
             [
              0.3333333333333333,
              "#9c179e"
             ],
             [
              0.4444444444444444,
              "#bd3786"
             ],
             [
              0.5555555555555556,
              "#d8576b"
             ],
             [
              0.6666666666666666,
              "#ed7953"
             ],
             [
              0.7777777777777778,
              "#fb9f3a"
             ],
             [
              0.8888888888888888,
              "#fdca26"
             ],
             [
              1,
              "#f0f921"
             ]
            ],
            "type": "histogram2d"
           }
          ],
          "histogram2dcontour": [
           {
            "colorbar": {
             "outlinewidth": 0,
             "ticks": ""
            },
            "colorscale": [
             [
              0,
              "#0d0887"
             ],
             [
              0.1111111111111111,
              "#46039f"
             ],
             [
              0.2222222222222222,
              "#7201a8"
             ],
             [
              0.3333333333333333,
              "#9c179e"
             ],
             [
              0.4444444444444444,
              "#bd3786"
             ],
             [
              0.5555555555555556,
              "#d8576b"
             ],
             [
              0.6666666666666666,
              "#ed7953"
             ],
             [
              0.7777777777777778,
              "#fb9f3a"
             ],
             [
              0.8888888888888888,
              "#fdca26"
             ],
             [
              1,
              "#f0f921"
             ]
            ],
            "type": "histogram2dcontour"
           }
          ],
          "mesh3d": [
           {
            "colorbar": {
             "outlinewidth": 0,
             "ticks": ""
            },
            "type": "mesh3d"
           }
          ],
          "parcoords": [
           {
            "line": {
             "colorbar": {
              "outlinewidth": 0,
              "ticks": ""
             }
            },
            "type": "parcoords"
           }
          ],
          "pie": [
           {
            "automargin": true,
            "type": "pie"
           }
          ],
          "scatter": [
           {
            "fillpattern": {
             "fillmode": "overlay",
             "size": 10,
             "solidity": 0.2
            },
            "type": "scatter"
           }
          ],
          "scatter3d": [
           {
            "line": {
             "colorbar": {
              "outlinewidth": 0,
              "ticks": ""
             }
            },
            "marker": {
             "colorbar": {
              "outlinewidth": 0,
              "ticks": ""
             }
            },
            "type": "scatter3d"
           }
          ],
          "scattercarpet": [
           {
            "marker": {
             "colorbar": {
              "outlinewidth": 0,
              "ticks": ""
             }
            },
            "type": "scattercarpet"
           }
          ],
          "scattergeo": [
           {
            "marker": {
             "colorbar": {
              "outlinewidth": 0,
              "ticks": ""
             }
            },
            "type": "scattergeo"
           }
          ],
          "scattergl": [
           {
            "marker": {
             "colorbar": {
              "outlinewidth": 0,
              "ticks": ""
             }
            },
            "type": "scattergl"
           }
          ],
          "scattermapbox": [
           {
            "marker": {
             "colorbar": {
              "outlinewidth": 0,
              "ticks": ""
             }
            },
            "type": "scattermapbox"
           }
          ],
          "scatterpolar": [
           {
            "marker": {
             "colorbar": {
              "outlinewidth": 0,
              "ticks": ""
             }
            },
            "type": "scatterpolar"
           }
          ],
          "scatterpolargl": [
           {
            "marker": {
             "colorbar": {
              "outlinewidth": 0,
              "ticks": ""
             }
            },
            "type": "scatterpolargl"
           }
          ],
          "scatterternary": [
           {
            "marker": {
             "colorbar": {
              "outlinewidth": 0,
              "ticks": ""
             }
            },
            "type": "scatterternary"
           }
          ],
          "surface": [
           {
            "colorbar": {
             "outlinewidth": 0,
             "ticks": ""
            },
            "colorscale": [
             [
              0,
              "#0d0887"
             ],
             [
              0.1111111111111111,
              "#46039f"
             ],
             [
              0.2222222222222222,
              "#7201a8"
             ],
             [
              0.3333333333333333,
              "#9c179e"
             ],
             [
              0.4444444444444444,
              "#bd3786"
             ],
             [
              0.5555555555555556,
              "#d8576b"
             ],
             [
              0.6666666666666666,
              "#ed7953"
             ],
             [
              0.7777777777777778,
              "#fb9f3a"
             ],
             [
              0.8888888888888888,
              "#fdca26"
             ],
             [
              1,
              "#f0f921"
             ]
            ],
            "type": "surface"
           }
          ],
          "table": [
           {
            "cells": {
             "fill": {
              "color": "#EBF0F8"
             },
             "line": {
              "color": "white"
             }
            },
            "header": {
             "fill": {
              "color": "#C8D4E3"
             },
             "line": {
              "color": "white"
             }
            },
            "type": "table"
           }
          ]
         },
         "layout": {
          "annotationdefaults": {
           "arrowcolor": "#2a3f5f",
           "arrowhead": 0,
           "arrowwidth": 1
          },
          "autotypenumbers": "strict",
          "coloraxis": {
           "colorbar": {
            "outlinewidth": 0,
            "ticks": ""
           }
          },
          "colorscale": {
           "diverging": [
            [
             0,
             "#8e0152"
            ],
            [
             0.1,
             "#c51b7d"
            ],
            [
             0.2,
             "#de77ae"
            ],
            [
             0.3,
             "#f1b6da"
            ],
            [
             0.4,
             "#fde0ef"
            ],
            [
             0.5,
             "#f7f7f7"
            ],
            [
             0.6,
             "#e6f5d0"
            ],
            [
             0.7,
             "#b8e186"
            ],
            [
             0.8,
             "#7fbc41"
            ],
            [
             0.9,
             "#4d9221"
            ],
            [
             1,
             "#276419"
            ]
           ],
           "sequential": [
            [
             0,
             "#0d0887"
            ],
            [
             0.1111111111111111,
             "#46039f"
            ],
            [
             0.2222222222222222,
             "#7201a8"
            ],
            [
             0.3333333333333333,
             "#9c179e"
            ],
            [
             0.4444444444444444,
             "#bd3786"
            ],
            [
             0.5555555555555556,
             "#d8576b"
            ],
            [
             0.6666666666666666,
             "#ed7953"
            ],
            [
             0.7777777777777778,
             "#fb9f3a"
            ],
            [
             0.8888888888888888,
             "#fdca26"
            ],
            [
             1,
             "#f0f921"
            ]
           ],
           "sequentialminus": [
            [
             0,
             "#0d0887"
            ],
            [
             0.1111111111111111,
             "#46039f"
            ],
            [
             0.2222222222222222,
             "#7201a8"
            ],
            [
             0.3333333333333333,
             "#9c179e"
            ],
            [
             0.4444444444444444,
             "#bd3786"
            ],
            [
             0.5555555555555556,
             "#d8576b"
            ],
            [
             0.6666666666666666,
             "#ed7953"
            ],
            [
             0.7777777777777778,
             "#fb9f3a"
            ],
            [
             0.8888888888888888,
             "#fdca26"
            ],
            [
             1,
             "#f0f921"
            ]
           ]
          },
          "colorway": [
           "#636efa",
           "#EF553B",
           "#00cc96",
           "#ab63fa",
           "#FFA15A",
           "#19d3f3",
           "#FF6692",
           "#B6E880",
           "#FF97FF",
           "#FECB52"
          ],
          "font": {
           "color": "#2a3f5f"
          },
          "geo": {
           "bgcolor": "white",
           "lakecolor": "white",
           "landcolor": "#E5ECF6",
           "showlakes": true,
           "showland": true,
           "subunitcolor": "white"
          },
          "hoverlabel": {
           "align": "left"
          },
          "hovermode": "closest",
          "mapbox": {
           "style": "light"
          },
          "paper_bgcolor": "white",
          "plot_bgcolor": "#E5ECF6",
          "polar": {
           "angularaxis": {
            "gridcolor": "white",
            "linecolor": "white",
            "ticks": ""
           },
           "bgcolor": "#E5ECF6",
           "radialaxis": {
            "gridcolor": "white",
            "linecolor": "white",
            "ticks": ""
           }
          },
          "scene": {
           "xaxis": {
            "backgroundcolor": "#E5ECF6",
            "gridcolor": "white",
            "gridwidth": 2,
            "linecolor": "white",
            "showbackground": true,
            "ticks": "",
            "zerolinecolor": "white"
           },
           "yaxis": {
            "backgroundcolor": "#E5ECF6",
            "gridcolor": "white",
            "gridwidth": 2,
            "linecolor": "white",
            "showbackground": true,
            "ticks": "",
            "zerolinecolor": "white"
           },
           "zaxis": {
            "backgroundcolor": "#E5ECF6",
            "gridcolor": "white",
            "gridwidth": 2,
            "linecolor": "white",
            "showbackground": true,
            "ticks": "",
            "zerolinecolor": "white"
           }
          },
          "shapedefaults": {
           "line": {
            "color": "#2a3f5f"
           }
          },
          "ternary": {
           "aaxis": {
            "gridcolor": "white",
            "linecolor": "white",
            "ticks": ""
           },
           "baxis": {
            "gridcolor": "white",
            "linecolor": "white",
            "ticks": ""
           },
           "bgcolor": "#E5ECF6",
           "caxis": {
            "gridcolor": "white",
            "linecolor": "white",
            "ticks": ""
           }
          },
          "title": {
           "x": 0.05
          },
          "xaxis": {
           "automargin": true,
           "gridcolor": "white",
           "linecolor": "white",
           "ticks": "",
           "title": {
            "standoff": 15
           },
           "zerolinecolor": "white",
           "zerolinewidth": 2
          },
          "yaxis": {
           "automargin": true,
           "gridcolor": "white",
           "linecolor": "white",
           "ticks": "",
           "title": {
            "standoff": 15
           },
           "zerolinecolor": "white",
           "zerolinewidth": 2
          }
         }
        },
        "xaxis": {
         "anchor": "y",
         "autorange": true,
         "domain": [
          0,
          1
         ],
         "range": [
          -0.5,
          134.5
         ],
         "title": {
          "text": "year_week"
         },
         "type": "category"
        },
        "yaxis": {
         "anchor": "x",
         "autorange": true,
         "domain": [
          0,
          1
         ],
         "range": [
          0,
          591.578947368421
         ],
         "title": {
          "text": "FAKTURA"
         },
         "type": "linear"
        }
       }
      },
      "image/png": "[encoded data removed]",
      "text/html": [
       "<div>                            <div id=\"a5f4a86f-70a7-4ae2-ad65-adee65259beb\" class=\"plotly-graph-div\" style=\"height:525px; width:100%;\"></div>            <script type=\"text/javascript\">                require([\"plotly\"], function(Plotly) {                    window.PLOTLYENV=window.PLOTLYENV || {};                                    if (document.getElementById(\"a5f4a86f-70a7-4ae2-ad65-adee65259beb\")) {                    Plotly.newPlot(                        \"a5f4a86f-70a7-4ae2-ad65-adee65259beb\",                        [{\"alignmentgroup\":\"True\",\"hovertemplate\":\"year_week=%{x}<br>FAKTURA=%{y}<br>NAZWISKO=%{marker.color}<extra></extra>\",\"legendgroup\":\"\",\"marker\":{\"color\":[5,4,5,4,4,5,4,4,4,5,5,3,2,3,3,3,4,4,3,4,3,4,4,6,4,5,5,5,5,6,6,5,4,5,6,5,5,4,5,6,4,5,5,3,6,4,5,6,5,5,7,4,5,4,4,5,6,5,4,5,5,6,7,5,5,5,6,6,4,5,5,6,4,5,5,5,4,4,4,4,5,4,3,2,3,4,4,4,4,4,4,4,4,5,5,3,4,4,4,4,4,4,4,4,4,4,4,4,4,4,4,4,4,4,4,3,4,4,4,4,4,4,4,4,4,4,4,4,4,3,3,4,4,3,2],\"coloraxis\":\"coloraxis\",\"pattern\":{\"shape\":\"\"}},\"name\":\"\",\"offsetgroup\":\"\",\"orientation\":\"v\",\"showlegend\":false,\"textposition\":\"auto\",\"x\":[\"2020--01\",\"2020--02\",\"2020--03\",\"2020--04\",\"2020--05\",\"2020--06\",\"2020--07\",\"2020--08\",\"2020--09\",\"2020--10\",\"2020--11\",\"2020--12\",\"2020--13\",\"2020--14\",\"2020--15\",\"2020--16\",\"2020--17\",\"2020--18\",\"2020--19\",\"2020--20\",\"2020--21\",\"2020--22\",\"2020--23\",\"2020--24\",\"2020--25\",\"2020--26\",\"2020--27\",\"2020--28\",\"2020--29\",\"2020--30\",\"2020--31\",\"2020--32\",\"2020--33\",\"2020--34\",\"2020--35\",\"2020--36\",\"2020--37\",\"2020--38\",\"2020--39\",\"2020--40\",\"2020--41\",\"2020--42\",\"2020--43\",\"2020--44\",\"2020--45\",\"2020--46\",\"2020--47\",\"2020--48\",\"2020--49\",\"2020--50\",\"2020--51\",\"2020--52\",\"2020--53\",\"2021--01\",\"2021--02\",\"2021--03\",\"2021--04\",\"2021--05\",\"2021--06\",\"2021--07\",\"2021--08\",\"2021--09\",\"2021--10\",\"2021--11\",\"2021--12\",\"2021--13\",\"2021--14\",\"2021--15\",\"2021--16\",\"2021--17\",\"2021--18\",\"2021--19\",\"2021--20\",\"2021--21\",\"2021--22\",\"2021--23\",\"2021--24\",\"2021--25\",\"2021--26\",\"2021--27\",\"2021--28\",\"2021--29\",\"2021--30\",\"2021--31\",\"2021--32\",\"2021--33\",\"2021--34\",\"2021--35\",\"2021--36\",\"2021--37\",\"2021--38\",\"2021--39\",\"2021--40\",\"2021--41\",\"2021--42\",\"2021--43\",\"2021--44\",\"2021--45\",\"2021--46\",\"2021--47\",\"2021--48\",\"2021--49\",\"2021--50\",\"2021--51\",\"2021--52\",\"2022--01\",\"2022--02\",\"2022--03\",\"2022--04\",\"2022--05\",\"2022--06\",\"2022--07\",\"2022--08\",\"2022--09\",\"2022--10\",\"2022--11\",\"2022--12\",\"2022--13\",\"2022--14\",\"2022--15\",\"2022--16\",\"2022--17\",\"2022--18\",\"2022--19\",\"2022--20\",\"2022--21\",\"2022--22\",\"2022--23\",\"2022--24\",\"2022--25\",\"2022--26\",\"2022--27\",\"2022--28\",\"2022--29\",\"2022--30\"],\"xaxis\":\"x\",\"y\":[58,224,281,267,284,287,312,377,339,360,368,225,168,155,87,132,232,167,253,265,288,331,311,318,387,418,429,446,339,248,360,267,328,405,356,293,432,400,449,432,395,369,387,435,466,347,345,491,550,515,463,125,136,214,259,309,362,387,338,376,428,562,433,525,531,243,246,423,457,385,316,355,390,437,218,401,359,343,350,406,392,401,291,310,304,362,385,324,313,364,324,383,436,438,434,426,319,349,463,542,528,517,447,165,142,128,350,353,306,325,332,384,344,344,398,427,497,478,498,256,317,393,183,377,399,334,307,376,215,361,360,335,373,344,112],\"yaxis\":\"y\",\"type\":\"bar\"}],                        {\"template\":{\"data\":{\"histogram2dcontour\":[{\"type\":\"histogram2dcontour\",\"colorbar\":{\"outlinewidth\":0,\"ticks\":\"\"},\"colorscale\":[[0.0,\"#0d0887\"],[0.1111111111111111,\"#46039f\"],[0.2222222222222222,\"#7201a8\"],[0.3333333333333333,\"#9c179e\"],[0.4444444444444444,\"#bd3786\"],[0.5555555555555556,\"#d8576b\"],[0.6666666666666666,\"#ed7953\"],[0.7777777777777778,\"#fb9f3a\"],[0.8888888888888888,\"#fdca26\"],[1.0,\"#f0f921\"]]}],\"choropleth\":[{\"type\":\"choropleth\",\"colorbar\":{\"outlinewidth\":0,\"ticks\":\"\"}}],\"histogram2d\":[{\"type\":\"histogram2d\",\"colorbar\":{\"outlinewidth\":0,\"ticks\":\"\"},\"colorscale\":[[0.0,\"#0d0887\"],[0.1111111111111111,\"#46039f\"],[0.2222222222222222,\"#7201a8\"],[0.3333333333333333,\"#9c179e\"],[0.4444444444444444,\"#bd3786\"],[0.5555555555555556,\"#d8576b\"],[0.6666666666666666,\"#ed7953\"],[0.7777777777777778,\"#fb9f3a\"],[0.8888888888888888,\"#fdca26\"],[1.0,\"#f0f921\"]]}],\"heatmap\":[{\"type\":\"heatmap\",\"colorbar\":{\"outlinewidth\":0,\"ticks\":\"\"},\"colorscale\":[[0.0,\"#0d0887\"],[0.1111111111111111,\"#46039f\"],[0.2222222222222222,\"#7201a8\"],[0.3333333333333333,\"#9c179e\"],[0.4444444444444444,\"#bd3786\"],[0.5555555555555556,\"#d8576b\"],[0.6666666666666666,\"#ed7953\"],[0.7777777777777778,\"#fb9f3a\"],[0.8888888888888888,\"#fdca26\"],[1.0,\"#f0f921\"]]}],\"heatmapgl\":[{\"type\":\"heatmapgl\",\"colorbar\":{\"outlinewidth\":0,\"ticks\":\"\"},\"colorscale\":[[0.0,\"#0d0887\"],[0.1111111111111111,\"#46039f\"],[0.2222222222222222,\"#7201a8\"],[0.3333333333333333,\"#9c179e\"],[0.4444444444444444,\"#bd3786\"],[0.5555555555555556,\"#d8576b\"],[0.6666666666666666,\"#ed7953\"],[0.7777777777777778,\"#fb9f3a\"],[0.8888888888888888,\"#fdca26\"],[1.0,\"#f0f921\"]]}],\"contourcarpet\":[{\"type\":\"contourcarpet\",\"colorbar\":{\"outlinewidth\":0,\"ticks\":\"\"}}],\"contour\":[{\"type\":\"contour\",\"colorbar\":{\"outlinewidth\":0,\"ticks\":\"\"},\"colorscale\":[[0.0,\"#0d0887\"],[0.1111111111111111,\"#46039f\"],[0.2222222222222222,\"#7201a8\"],[0.3333333333333333,\"#9c179e\"],[0.4444444444444444,\"#bd3786\"],[0.5555555555555556,\"#d8576b\"],[0.6666666666666666,\"#ed7953\"],[0.7777777777777778,\"#fb9f3a\"],[0.8888888888888888,\"#fdca26\"],[1.0,\"#f0f921\"]]}],\"surface\":[{\"type\":\"surface\",\"colorbar\":{\"outlinewidth\":0,\"ticks\":\"\"},\"colorscale\":[[0.0,\"#0d0887\"],[0.1111111111111111,\"#46039f\"],[0.2222222222222222,\"#7201a8\"],[0.3333333333333333,\"#9c179e\"],[0.4444444444444444,\"#bd3786\"],[0.5555555555555556,\"#d8576b\"],[0.6666666666666666,\"#ed7953\"],[0.7777777777777778,\"#fb9f3a\"],[0.8888888888888888,\"#fdca26\"],[1.0,\"#f0f921\"]]}],\"mesh3d\":[{\"type\":\"mesh3d\",\"colorbar\":{\"outlinewidth\":0,\"ticks\":\"\"}}],\"scatter\":[{\"fillpattern\":{\"fillmode\":\"overlay\",\"size\":10,\"solidity\":0.2},\"type\":\"scatter\"}],\"parcoords\":[{\"type\":\"parcoords\",\"line\":{\"colorbar\":{\"outlinewidth\":0,\"ticks\":\"\"}}}],\"scatterpolargl\":[{\"type\":\"scatterpolargl\",\"marker\":{\"colorbar\":{\"outlinewidth\":0,\"ticks\":\"\"}}}],\"bar\":[{\"error_x\":{\"color\":\"#2a3f5f\"},\"error_y\":{\"color\":\"#2a3f5f\"},\"marker\":{\"line\":{\"color\":\"#E5ECF6\",\"width\":0.5},\"pattern\":{\"fillmode\":\"overlay\",\"size\":10,\"solidity\":0.2}},\"type\":\"bar\"}],\"scattergeo\":[{\"type\":\"scattergeo\",\"marker\":{\"colorbar\":{\"outlinewidth\":0,\"ticks\":\"\"}}}],\"scatterpolar\":[{\"type\":\"scatterpolar\",\"marker\":{\"colorbar\":{\"outlinewidth\":0,\"ticks\":\"\"}}}],\"histogram\":[{\"marker\":{\"pattern\":{\"fillmode\":\"overlay\",\"size\":10,\"solidity\":0.2}},\"type\":\"histogram\"}],\"scattergl\":[{\"type\":\"scattergl\",\"marker\":{\"colorbar\":{\"outlinewidth\":0,\"ticks\":\"\"}}}],\"scatter3d\":[{\"type\":\"scatter3d\",\"line\":{\"colorbar\":{\"outlinewidth\":0,\"ticks\":\"\"}},\"marker\":{\"colorbar\":{\"outlinewidth\":0,\"ticks\":\"\"}}}],\"scattermapbox\":[{\"type\":\"scattermapbox\",\"marker\":{\"colorbar\":{\"outlinewidth\":0,\"ticks\":\"\"}}}],\"scatterternary\":[{\"type\":\"scatterternary\",\"marker\":{\"colorbar\":{\"outlinewidth\":0,\"ticks\":\"\"}}}],\"scattercarpet\":[{\"type\":\"scattercarpet\",\"marker\":{\"colorbar\":{\"outlinewidth\":0,\"ticks\":\"\"}}}],\"carpet\":[{\"aaxis\":{\"endlinecolor\":\"#2a3f5f\",\"gridcolor\":\"white\",\"linecolor\":\"white\",\"minorgridcolor\":\"white\",\"startlinecolor\":\"#2a3f5f\"},\"baxis\":{\"endlinecolor\":\"#2a3f5f\",\"gridcolor\":\"white\",\"linecolor\":\"white\",\"minorgridcolor\":\"white\",\"startlinecolor\":\"#2a3f5f\"},\"type\":\"carpet\"}],\"table\":[{\"cells\":{\"fill\":{\"color\":\"#EBF0F8\"},\"line\":{\"color\":\"white\"}},\"header\":{\"fill\":{\"color\":\"#C8D4E3\"},\"line\":{\"color\":\"white\"}},\"type\":\"table\"}],\"barpolar\":[{\"marker\":{\"line\":{\"color\":\"#E5ECF6\",\"width\":0.5},\"pattern\":{\"fillmode\":\"overlay\",\"size\":10,\"solidity\":0.2}},\"type\":\"barpolar\"}],\"pie\":[{\"automargin\":true,\"type\":\"pie\"}]},\"layout\":{\"autotypenumbers\":\"strict\",\"colorway\":[\"#636efa\",\"#EF553B\",\"#00cc96\",\"#ab63fa\",\"#FFA15A\",\"#19d3f3\",\"#FF6692\",\"#B6E880\",\"#FF97FF\",\"#FECB52\"],\"font\":{\"color\":\"#2a3f5f\"},\"hovermode\":\"closest\",\"hoverlabel\":{\"align\":\"left\"},\"paper_bgcolor\":\"white\",\"plot_bgcolor\":\"#E5ECF6\",\"polar\":{\"bgcolor\":\"#E5ECF6\",\"angularaxis\":{\"gridcolor\":\"white\",\"linecolor\":\"white\",\"ticks\":\"\"},\"radialaxis\":{\"gridcolor\":\"white\",\"linecolor\":\"white\",\"ticks\":\"\"}},\"ternary\":{\"bgcolor\":\"#E5ECF6\",\"aaxis\":{\"gridcolor\":\"white\",\"linecolor\":\"white\",\"ticks\":\"\"},\"baxis\":{\"gridcolor\":\"white\",\"linecolor\":\"white\",\"ticks\":\"\"},\"caxis\":{\"gridcolor\":\"white\",\"linecolor\":\"white\",\"ticks\":\"\"}},\"coloraxis\":{\"colorbar\":{\"outlinewidth\":0,\"ticks\":\"\"}},\"colorscale\":{\"sequential\":[[0.0,\"#0d0887\"],[0.1111111111111111,\"#46039f\"],[0.2222222222222222,\"#7201a8\"],[0.3333333333333333,\"#9c179e\"],[0.4444444444444444,\"#bd3786\"],[0.5555555555555556,\"#d8576b\"],[0.6666666666666666,\"#ed7953\"],[0.7777777777777778,\"#fb9f3a\"],[0.8888888888888888,\"#fdca26\"],[1.0,\"#f0f921\"]],\"sequentialminus\":[[0.0,\"#0d0887\"],[0.1111111111111111,\"#46039f\"],[0.2222222222222222,\"#7201a8\"],[0.3333333333333333,\"#9c179e\"],[0.4444444444444444,\"#bd3786\"],[0.5555555555555556,\"#d8576b\"],[0.6666666666666666,\"#ed7953\"],[0.7777777777777778,\"#fb9f3a\"],[0.8888888888888888,\"#fdca26\"],[1.0,\"#f0f921\"]],\"diverging\":[[0,\"#8e0152\"],[0.1,\"#c51b7d\"],[0.2,\"#de77ae\"],[0.3,\"#f1b6da\"],[0.4,\"#fde0ef\"],[0.5,\"#f7f7f7\"],[0.6,\"#e6f5d0\"],[0.7,\"#b8e186\"],[0.8,\"#7fbc41\"],[0.9,\"#4d9221\"],[1,\"#276419\"]]},\"xaxis\":{\"gridcolor\":\"white\",\"linecolor\":\"white\",\"ticks\":\"\",\"title\":{\"standoff\":15},\"zerolinecolor\":\"white\",\"automargin\":true,\"zerolinewidth\":2},\"yaxis\":{\"gridcolor\":\"white\",\"linecolor\":\"white\",\"ticks\":\"\",\"title\":{\"standoff\":15},\"zerolinecolor\":\"white\",\"automargin\":true,\"zerolinewidth\":2},\"scene\":{\"xaxis\":{\"backgroundcolor\":\"#E5ECF6\",\"gridcolor\":\"white\",\"linecolor\":\"white\",\"showbackground\":true,\"ticks\":\"\",\"zerolinecolor\":\"white\",\"gridwidth\":2},\"yaxis\":{\"backgroundcolor\":\"#E5ECF6\",\"gridcolor\":\"white\",\"linecolor\":\"white\",\"showbackground\":true,\"ticks\":\"\",\"zerolinecolor\":\"white\",\"gridwidth\":2},\"zaxis\":{\"backgroundcolor\":\"#E5ECF6\",\"gridcolor\":\"white\",\"linecolor\":\"white\",\"showbackground\":true,\"ticks\":\"\",\"zerolinecolor\":\"white\",\"gridwidth\":2}},\"shapedefaults\":{\"line\":{\"color\":\"#2a3f5f\"}},\"annotationdefaults\":{\"arrowcolor\":\"#2a3f5f\",\"arrowhead\":0,\"arrowwidth\":1},\"geo\":{\"bgcolor\":\"white\",\"landcolor\":\"#E5ECF6\",\"subunitcolor\":\"white\",\"showland\":true,\"showlakes\":true,\"lakecolor\":\"white\"},\"title\":{\"x\":0.05},\"mapbox\":{\"style\":\"light\"}}},\"xaxis\":{\"anchor\":\"y\",\"domain\":[0.0,1.0],\"title\":{\"text\":\"year_week\"}},\"yaxis\":{\"anchor\":\"x\",\"domain\":[0.0,1.0],\"title\":{\"text\":\"FAKTURA\"}},\"coloraxis\":{\"colorbar\":{\"title\":{\"text\":\"NAZWISKO\"}},\"colorscale\":[[0.0,\"rgb(232, 245, 171)\"],[0.09090909090909091,\"rgb(220, 219, 137)\"],[0.18181818181818182,\"rgb(209, 193, 107)\"],[0.2727272727272727,\"rgb(199, 168, 83)\"],[0.36363636363636365,\"rgb(186, 143, 66)\"],[0.45454545454545453,\"rgb(170, 121, 60)\"],[0.5454545454545454,\"rgb(151, 103, 58)\"],[0.6363636363636364,\"rgb(129, 87, 56)\"],[0.7272727272727273,\"rgb(104, 72, 53)\"],[0.8181818181818182,\"rgb(80, 59, 46)\"],[0.9090909090909091,\"rgb(57, 45, 37)\"],[1.0,\"rgb(34, 30, 27)\"]]},\"legend\":{\"tracegroupgap\":0},\"margin\":{\"t\":60},\"barmode\":\"relative\"},                        {\"responsive\": true}                    ).then(function(){\n",
       "                            \n",
       "var gd = document.getElementById('a5f4a86f-70a7-4ae2-ad65-adee65259beb');\n",
       "var x = new MutationObserver(function (mutations, observer) {{\n",
       "        var display = window.getComputedStyle(gd).display;\n",
       "        if (!display || display === 'none') {{\n",
       "            console.log([gd, 'removed!']);\n",
       "            Plotly.purge(gd);\n",
       "            observer.disconnect();\n",
       "        }}\n",
       "}});\n",
       "\n",
       "// Listen for the removal of the full notebook cells\n",
       "var notebookContainer = gd.closest('#notebook-container');\n",
       "if (notebookContainer) {{\n",
       "    x.observe(notebookContainer, {childList: true});\n",
       "}}\n",
       "\n",
       "// Listen for the clearing of the current output cell\n",
       "var outputEl = gd.closest('.output');\n",
       "if (outputEl) {{\n",
       "    x.observe(outputEl, {childList: true});\n",
       "}}\n",
       "\n",
       "                        })                };                });            </script>        </div>"
      ]
     },
     "metadata": {},
     "output_type": "display_data"
    }
   ],
   "source": [
    "tmp=df_zamowienia.groupby(['czy_z_kuponow','year_week']).agg({'FAKTURA':'nunique',\n",
    "                                                          'NAZWISKO':'nunique'}).reset_index()\n",
    "px.bar(tmp.loc[tmp['czy_z_kuponow']=='tak'],\n",
    "      x='year_week',\n",
    "      y='FAKTURA',\n",
    "      color='NAZWISKO',\n",
    "      color_continuous_scale='turbid')"
   ]
  },
  {
   "cell_type": "code",
   "execution_count": 21,
   "id": "17cbcc7e-662c-4013-b201-c0193f65adbc",
   "metadata": {},
   "outputs": [
    {
     "data": {
      "application/vnd.plotly.v1+json": {
       "config": {
        "plotlyServerURL": "https://plot.ly"
       },
       "data": [
        {
         "alignmentgroup": "True",
         "hovertemplate": "year_week=%{x}<br>faktury_per_osoba=%{y}<br>NAZWISKO=%{marker.color}<extra></extra>",
         "legendgroup": "",
         "marker": {
          "color": [
           5,
           4,
           5,
           4,
           4,
           5,
           4,
           4,
           4,
           5,
           5,
           3,
           2,
           3,
           3,
           3,
           4,
           4,
           3,
           4,
           3,
           4,
           4,
           6,
           4,
           5,
           5,
           5,
           5,
           6,
           6,
           5,
           4,
           5,
           6,
           5,
           5,
           4,
           5,
           6,
           4,
           5,
           5,
           3,
           6,
           4,
           5,
           6,
           5,
           5,
           7,
           4,
           5,
           4,
           4,
           5,
           6,
           5,
           4,
           5,
           5,
           6,
           7,
           5,
           5,
           5,
           6,
           6,
           4,
           5,
           5,
           6,
           4,
           5,
           5,
           5,
           4,
           4,
           4,
           4,
           5,
           4,
           3,
           2,
           3,
           4,
           4,
           4,
           4,
           4,
           4,
           4,
           4,
           5,
           5,
           3,
           4,
           4,
           4,
           4,
           4,
           4,
           4,
           4,
           4,
           4,
           4,
           4,
           4,
           4,
           4,
           4,
           4,
           4,
           4,
           3,
           4,
           4,
           4,
           4,
           4,
           4,
           4,
           4,
           4,
           4,
           4,
           4,
           4,
           3,
           3,
           4,
           4,
           3,
           2
          ],
          "coloraxis": "coloraxis",
          "pattern": {
           "shape": ""
          }
         },
         "name": "",
         "offsetgroup": "",
         "orientation": "v",
         "showlegend": false,
         "textposition": "auto",
         "type": "bar",
         "x": [
          "2020--01",
          "2020--02",
          "2020--03",
          "2020--04",
          "2020--05",
          "2020--06",
          "2020--07",
          "2020--08",
          "2020--09",
          "2020--10",
          "2020--11",
          "2020--12",
          "2020--13",
          "2020--14",
          "2020--15",
          "2020--16",
          "2020--17",
          "2020--18",
          "2020--19",
          "2020--20",
          "2020--21",
          "2020--22",
          "2020--23",
          "2020--24",
          "2020--25",
          "2020--26",
          "2020--27",
          "2020--28",
          "2020--29",
          "2020--30",
          "2020--31",
          "2020--32",
          "2020--33",
          "2020--34",
          "2020--35",
          "2020--36",
          "2020--37",
          "2020--38",
          "2020--39",
          "2020--40",
          "2020--41",
          "2020--42",
          "2020--43",
          "2020--44",
          "2020--45",
          "2020--46",
          "2020--47",
          "2020--48",
          "2020--49",
          "2020--50",
          "2020--51",
          "2020--52",
          "2020--53",
          "2021--01",
          "2021--02",
          "2021--03",
          "2021--04",
          "2021--05",
          "2021--06",
          "2021--07",
          "2021--08",
          "2021--09",
          "2021--10",
          "2021--11",
          "2021--12",
          "2021--13",
          "2021--14",
          "2021--15",
          "2021--16",
          "2021--17",
          "2021--18",
          "2021--19",
          "2021--20",
          "2021--21",
          "2021--22",
          "2021--23",
          "2021--24",
          "2021--25",
          "2021--26",
          "2021--27",
          "2021--28",
          "2021--29",
          "2021--30",
          "2021--31",
          "2021--32",
          "2021--33",
          "2021--34",
          "2021--35",
          "2021--36",
          "2021--37",
          "2021--38",
          "2021--39",
          "2021--40",
          "2021--41",
          "2021--42",
          "2021--43",
          "2021--44",
          "2021--45",
          "2021--46",
          "2021--47",
          "2021--48",
          "2021--49",
          "2021--50",
          "2021--51",
          "2021--52",
          "2022--01",
          "2022--02",
          "2022--03",
          "2022--04",
          "2022--05",
          "2022--06",
          "2022--07",
          "2022--08",
          "2022--09",
          "2022--10",
          "2022--11",
          "2022--12",
          "2022--13",
          "2022--14",
          "2022--15",
          "2022--16",
          "2022--17",
          "2022--18",
          "2022--19",
          "2022--20",
          "2022--21",
          "2022--22",
          "2022--23",
          "2022--24",
          "2022--25",
          "2022--26",
          "2022--27",
          "2022--28",
          "2022--29",
          "2022--30"
         ],
         "xaxis": "x",
         "y": [
          11.6,
          56,
          56.2,
          66.75,
          71,
          57.4,
          78,
          94.25,
          84.75,
          72,
          73.6,
          75,
          84,
          51.666666666666664,
          29,
          44,
          58,
          41.75,
          84.33333333333333,
          66.25,
          96,
          82.75,
          77.75,
          53,
          96.75,
          83.6,
          85.8,
          89.2,
          67.8,
          41.333333333333336,
          60,
          53.4,
          82,
          81,
          59.333333333333336,
          58.6,
          86.4,
          100,
          89.8,
          72,
          98.75,
          73.8,
          77.4,
          145,
          77.66666666666667,
          86.75,
          69,
          81.83333333333333,
          110,
          103,
          66.14285714285714,
          31.25,
          27.2,
          53.5,
          64.75,
          61.8,
          60.333333333333336,
          77.4,
          84.5,
          75.2,
          85.6,
          93.66666666666667,
          61.857142857142854,
          105,
          106.2,
          48.6,
          41,
          70.5,
          114.25,
          77,
          63.2,
          59.166666666666664,
          97.5,
          87.4,
          43.6,
          80.2,
          89.75,
          85.75,
          87.5,
          101.5,
          78.4,
          100.25,
          97,
          155,
          101.33333333333333,
          90.5,
          96.25,
          81,
          78.25,
          91,
          81,
          95.75,
          109,
          87.6,
          86.8,
          142,
          79.75,
          87.25,
          115.75,
          135.5,
          132,
          129.25,
          111.75,
          41.25,
          35.5,
          32,
          87.5,
          88.25,
          76.5,
          81.25,
          83,
          96,
          86,
          86,
          99.5,
          142.33333333333334,
          124.25,
          119.5,
          124.5,
          64,
          79.25,
          98.25,
          45.75,
          94.25,
          99.75,
          83.5,
          76.75,
          94,
          53.75,
          120.33333333333333,
          120,
          83.75,
          93.25,
          114.66666666666667,
          56
         ],
         "yaxis": "y"
        }
       ],
       "layout": {
        "autosize": true,
        "barmode": "relative",
        "coloraxis": {
         "colorbar": {
          "title": {
           "text": "NAZWISKO"
          }
         },
         "colorscale": [
          [
           0,
           "rgb(232, 245, 171)"
          ],
          [
           0.09090909090909091,
           "rgb(220, 219, 137)"
          ],
          [
           0.18181818181818182,
           "rgb(209, 193, 107)"
          ],
          [
           0.2727272727272727,
           "rgb(199, 168, 83)"
          ],
          [
           0.36363636363636365,
           "rgb(186, 143, 66)"
          ],
          [
           0.45454545454545453,
           "rgb(170, 121, 60)"
          ],
          [
           0.5454545454545454,
           "rgb(151, 103, 58)"
          ],
          [
           0.6363636363636364,
           "rgb(129, 87, 56)"
          ],
          [
           0.7272727272727273,
           "rgb(104, 72, 53)"
          ],
          [
           0.8181818181818182,
           "rgb(80, 59, 46)"
          ],
          [
           0.9090909090909091,
           "rgb(57, 45, 37)"
          ],
          [
           1,
           "rgb(34, 30, 27)"
          ]
         ]
        },
        "legend": {
         "tracegroupgap": 0
        },
        "margin": {
         "t": 60
        },
        "template": {
         "data": {
          "bar": [
           {
            "error_x": {
             "color": "#2a3f5f"
            },
            "error_y": {
             "color": "#2a3f5f"
            },
            "marker": {
             "line": {
              "color": "#E5ECF6",
              "width": 0.5
             },
             "pattern": {
              "fillmode": "overlay",
              "size": 10,
              "solidity": 0.2
             }
            },
            "type": "bar"
           }
          ],
          "barpolar": [
           {
            "marker": {
             "line": {
              "color": "#E5ECF6",
              "width": 0.5
             },
             "pattern": {
              "fillmode": "overlay",
              "size": 10,
              "solidity": 0.2
             }
            },
            "type": "barpolar"
           }
          ],
          "carpet": [
           {
            "aaxis": {
             "endlinecolor": "#2a3f5f",
             "gridcolor": "white",
             "linecolor": "white",
             "minorgridcolor": "white",
             "startlinecolor": "#2a3f5f"
            },
            "baxis": {
             "endlinecolor": "#2a3f5f",
             "gridcolor": "white",
             "linecolor": "white",
             "minorgridcolor": "white",
             "startlinecolor": "#2a3f5f"
            },
            "type": "carpet"
           }
          ],
          "choropleth": [
           {
            "colorbar": {
             "outlinewidth": 0,
             "ticks": ""
            },
            "type": "choropleth"
           }
          ],
          "contour": [
           {
            "colorbar": {
             "outlinewidth": 0,
             "ticks": ""
            },
            "colorscale": [
             [
              0,
              "#0d0887"
             ],
             [
              0.1111111111111111,
              "#46039f"
             ],
             [
              0.2222222222222222,
              "#7201a8"
             ],
             [
              0.3333333333333333,
              "#9c179e"
             ],
             [
              0.4444444444444444,
              "#bd3786"
             ],
             [
              0.5555555555555556,
              "#d8576b"
             ],
             [
              0.6666666666666666,
              "#ed7953"
             ],
             [
              0.7777777777777778,
              "#fb9f3a"
             ],
             [
              0.8888888888888888,
              "#fdca26"
             ],
             [
              1,
              "#f0f921"
             ]
            ],
            "type": "contour"
           }
          ],
          "contourcarpet": [
           {
            "colorbar": {
             "outlinewidth": 0,
             "ticks": ""
            },
            "type": "contourcarpet"
           }
          ],
          "heatmap": [
           {
            "colorbar": {
             "outlinewidth": 0,
             "ticks": ""
            },
            "colorscale": [
             [
              0,
              "#0d0887"
             ],
             [
              0.1111111111111111,
              "#46039f"
             ],
             [
              0.2222222222222222,
              "#7201a8"
             ],
             [
              0.3333333333333333,
              "#9c179e"
             ],
             [
              0.4444444444444444,
              "#bd3786"
             ],
             [
              0.5555555555555556,
              "#d8576b"
             ],
             [
              0.6666666666666666,
              "#ed7953"
             ],
             [
              0.7777777777777778,
              "#fb9f3a"
             ],
             [
              0.8888888888888888,
              "#fdca26"
             ],
             [
              1,
              "#f0f921"
             ]
            ],
            "type": "heatmap"
           }
          ],
          "heatmapgl": [
           {
            "colorbar": {
             "outlinewidth": 0,
             "ticks": ""
            },
            "colorscale": [
             [
              0,
              "#0d0887"
             ],
             [
              0.1111111111111111,
              "#46039f"
             ],
             [
              0.2222222222222222,
              "#7201a8"
             ],
             [
              0.3333333333333333,
              "#9c179e"
             ],
             [
              0.4444444444444444,
              "#bd3786"
             ],
             [
              0.5555555555555556,
              "#d8576b"
             ],
             [
              0.6666666666666666,
              "#ed7953"
             ],
             [
              0.7777777777777778,
              "#fb9f3a"
             ],
             [
              0.8888888888888888,
              "#fdca26"
             ],
             [
              1,
              "#f0f921"
             ]
            ],
            "type": "heatmapgl"
           }
          ],
          "histogram": [
           {
            "marker": {
             "pattern": {
              "fillmode": "overlay",
              "size": 10,
              "solidity": 0.2
             }
            },
            "type": "histogram"
           }
          ],
          "histogram2d": [
           {
            "colorbar": {
             "outlinewidth": 0,
             "ticks": ""
            },
            "colorscale": [
             [
              0,
              "#0d0887"
             ],
             [
              0.1111111111111111,
              "#46039f"
             ],
             [
              0.2222222222222222,
              "#7201a8"
             ],
             [
              0.3333333333333333,
              "#9c179e"
             ],
             [
              0.4444444444444444,
              "#bd3786"
             ],
             [
              0.5555555555555556,
              "#d8576b"
             ],
             [
              0.6666666666666666,
              "#ed7953"
             ],
             [
              0.7777777777777778,
              "#fb9f3a"
             ],
             [
              0.8888888888888888,
              "#fdca26"
             ],
             [
              1,
              "#f0f921"
             ]
            ],
            "type": "histogram2d"
           }
          ],
          "histogram2dcontour": [
           {
            "colorbar": {
             "outlinewidth": 0,
             "ticks": ""
            },
            "colorscale": [
             [
              0,
              "#0d0887"
             ],
             [
              0.1111111111111111,
              "#46039f"
             ],
             [
              0.2222222222222222,
              "#7201a8"
             ],
             [
              0.3333333333333333,
              "#9c179e"
             ],
             [
              0.4444444444444444,
              "#bd3786"
             ],
             [
              0.5555555555555556,
              "#d8576b"
             ],
             [
              0.6666666666666666,
              "#ed7953"
             ],
             [
              0.7777777777777778,
              "#fb9f3a"
             ],
             [
              0.8888888888888888,
              "#fdca26"
             ],
             [
              1,
              "#f0f921"
             ]
            ],
            "type": "histogram2dcontour"
           }
          ],
          "mesh3d": [
           {
            "colorbar": {
             "outlinewidth": 0,
             "ticks": ""
            },
            "type": "mesh3d"
           }
          ],
          "parcoords": [
           {
            "line": {
             "colorbar": {
              "outlinewidth": 0,
              "ticks": ""
             }
            },
            "type": "parcoords"
           }
          ],
          "pie": [
           {
            "automargin": true,
            "type": "pie"
           }
          ],
          "scatter": [
           {
            "fillpattern": {
             "fillmode": "overlay",
             "size": 10,
             "solidity": 0.2
            },
            "type": "scatter"
           }
          ],
          "scatter3d": [
           {
            "line": {
             "colorbar": {
              "outlinewidth": 0,
              "ticks": ""
             }
            },
            "marker": {
             "colorbar": {
              "outlinewidth": 0,
              "ticks": ""
             }
            },
            "type": "scatter3d"
           }
          ],
          "scattercarpet": [
           {
            "marker": {
             "colorbar": {
              "outlinewidth": 0,
              "ticks": ""
             }
            },
            "type": "scattercarpet"
           }
          ],
          "scattergeo": [
           {
            "marker": {
             "colorbar": {
              "outlinewidth": 0,
              "ticks": ""
             }
            },
            "type": "scattergeo"
           }
          ],
          "scattergl": [
           {
            "marker": {
             "colorbar": {
              "outlinewidth": 0,
              "ticks": ""
             }
            },
            "type": "scattergl"
           }
          ],
          "scattermapbox": [
           {
            "marker": {
             "colorbar": {
              "outlinewidth": 0,
              "ticks": ""
             }
            },
            "type": "scattermapbox"
           }
          ],
          "scatterpolar": [
           {
            "marker": {
             "colorbar": {
              "outlinewidth": 0,
              "ticks": ""
             }
            },
            "type": "scatterpolar"
           }
          ],
          "scatterpolargl": [
           {
            "marker": {
             "colorbar": {
              "outlinewidth": 0,
              "ticks": ""
             }
            },
            "type": "scatterpolargl"
           }
          ],
          "scatterternary": [
           {
            "marker": {
             "colorbar": {
              "outlinewidth": 0,
              "ticks": ""
             }
            },
            "type": "scatterternary"
           }
          ],
          "surface": [
           {
            "colorbar": {
             "outlinewidth": 0,
             "ticks": ""
            },
            "colorscale": [
             [
              0,
              "#0d0887"
             ],
             [
              0.1111111111111111,
              "#46039f"
             ],
             [
              0.2222222222222222,
              "#7201a8"
             ],
             [
              0.3333333333333333,
              "#9c179e"
             ],
             [
              0.4444444444444444,
              "#bd3786"
             ],
             [
              0.5555555555555556,
              "#d8576b"
             ],
             [
              0.6666666666666666,
              "#ed7953"
             ],
             [
              0.7777777777777778,
              "#fb9f3a"
             ],
             [
              0.8888888888888888,
              "#fdca26"
             ],
             [
              1,
              "#f0f921"
             ]
            ],
            "type": "surface"
           }
          ],
          "table": [
           {
            "cells": {
             "fill": {
              "color": "#EBF0F8"
             },
             "line": {
              "color": "white"
             }
            },
            "header": {
             "fill": {
              "color": "#C8D4E3"
             },
             "line": {
              "color": "white"
             }
            },
            "type": "table"
           }
          ]
         },
         "layout": {
          "annotationdefaults": {
           "arrowcolor": "#2a3f5f",
           "arrowhead": 0,
           "arrowwidth": 1
          },
          "autotypenumbers": "strict",
          "coloraxis": {
           "colorbar": {
            "outlinewidth": 0,
            "ticks": ""
           }
          },
          "colorscale": {
           "diverging": [
            [
             0,
             "#8e0152"
            ],
            [
             0.1,
             "#c51b7d"
            ],
            [
             0.2,
             "#de77ae"
            ],
            [
             0.3,
             "#f1b6da"
            ],
            [
             0.4,
             "#fde0ef"
            ],
            [
             0.5,
             "#f7f7f7"
            ],
            [
             0.6,
             "#e6f5d0"
            ],
            [
             0.7,
             "#b8e186"
            ],
            [
             0.8,
             "#7fbc41"
            ],
            [
             0.9,
             "#4d9221"
            ],
            [
             1,
             "#276419"
            ]
           ],
           "sequential": [
            [
             0,
             "#0d0887"
            ],
            [
             0.1111111111111111,
             "#46039f"
            ],
            [
             0.2222222222222222,
             "#7201a8"
            ],
            [
             0.3333333333333333,
             "#9c179e"
            ],
            [
             0.4444444444444444,
             "#bd3786"
            ],
            [
             0.5555555555555556,
             "#d8576b"
            ],
            [
             0.6666666666666666,
             "#ed7953"
            ],
            [
             0.7777777777777778,
             "#fb9f3a"
            ],
            [
             0.8888888888888888,
             "#fdca26"
            ],
            [
             1,
             "#f0f921"
            ]
           ],
           "sequentialminus": [
            [
             0,
             "#0d0887"
            ],
            [
             0.1111111111111111,
             "#46039f"
            ],
            [
             0.2222222222222222,
             "#7201a8"
            ],
            [
             0.3333333333333333,
             "#9c179e"
            ],
            [
             0.4444444444444444,
             "#bd3786"
            ],
            [
             0.5555555555555556,
             "#d8576b"
            ],
            [
             0.6666666666666666,
             "#ed7953"
            ],
            [
             0.7777777777777778,
             "#fb9f3a"
            ],
            [
             0.8888888888888888,
             "#fdca26"
            ],
            [
             1,
             "#f0f921"
            ]
           ]
          },
          "colorway": [
           "#636efa",
           "#EF553B",
           "#00cc96",
           "#ab63fa",
           "#FFA15A",
           "#19d3f3",
           "#FF6692",
           "#B6E880",
           "#FF97FF",
           "#FECB52"
          ],
          "font": {
           "color": "#2a3f5f"
          },
          "geo": {
           "bgcolor": "white",
           "lakecolor": "white",
           "landcolor": "#E5ECF6",
           "showlakes": true,
           "showland": true,
           "subunitcolor": "white"
          },
          "hoverlabel": {
           "align": "left"
          },
          "hovermode": "closest",
          "mapbox": {
           "style": "light"
          },
          "paper_bgcolor": "white",
          "plot_bgcolor": "#E5ECF6",
          "polar": {
           "angularaxis": {
            "gridcolor": "white",
            "linecolor": "white",
            "ticks": ""
           },
           "bgcolor": "#E5ECF6",
           "radialaxis": {
            "gridcolor": "white",
            "linecolor": "white",
            "ticks": ""
           }
          },
          "scene": {
           "xaxis": {
            "backgroundcolor": "#E5ECF6",
            "gridcolor": "white",
            "gridwidth": 2,
            "linecolor": "white",
            "showbackground": true,
            "ticks": "",
            "zerolinecolor": "white"
           },
           "yaxis": {
            "backgroundcolor": "#E5ECF6",
            "gridcolor": "white",
            "gridwidth": 2,
            "linecolor": "white",
            "showbackground": true,
            "ticks": "",
            "zerolinecolor": "white"
           },
           "zaxis": {
            "backgroundcolor": "#E5ECF6",
            "gridcolor": "white",
            "gridwidth": 2,
            "linecolor": "white",
            "showbackground": true,
            "ticks": "",
            "zerolinecolor": "white"
           }
          },
          "shapedefaults": {
           "line": {
            "color": "#2a3f5f"
           }
          },
          "ternary": {
           "aaxis": {
            "gridcolor": "white",
            "linecolor": "white",
            "ticks": ""
           },
           "baxis": {
            "gridcolor": "white",
            "linecolor": "white",
            "ticks": ""
           },
           "bgcolor": "#E5ECF6",
           "caxis": {
            "gridcolor": "white",
            "linecolor": "white",
            "ticks": ""
           }
          },
          "title": {
           "x": 0.05
          },
          "xaxis": {
           "automargin": true,
           "gridcolor": "white",
           "linecolor": "white",
           "ticks": "",
           "title": {
            "standoff": 15
           },
           "zerolinecolor": "white",
           "zerolinewidth": 2
          },
          "yaxis": {
           "automargin": true,
           "gridcolor": "white",
           "linecolor": "white",
           "ticks": "",
           "title": {
            "standoff": 15
           },
           "zerolinecolor": "white",
           "zerolinewidth": 2
          }
         }
        },
        "xaxis": {
         "anchor": "y",
         "autorange": true,
         "domain": [
          0,
          1
         ],
         "range": [
          -0.5,
          134.5
         ],
         "title": {
          "text": "year_week"
         },
         "type": "category"
        },
        "yaxis": {
         "anchor": "x",
         "autorange": true,
         "domain": [
          0,
          1
         ],
         "range": [
          0,
          163.1578947368421
         ],
         "title": {
          "text": "faktury_per_osoba"
         },
         "type": "linear"
        }
       }
      },
      "image/png": "[encoded data removed]",
      "text/html": [
       "<div>                            <div id=\"040dd975-4e01-4b25-bf8c-495cf9577408\" class=\"plotly-graph-div\" style=\"height:525px; width:100%;\"></div>            <script type=\"text/javascript\">                require([\"plotly\"], function(Plotly) {                    window.PLOTLYENV=window.PLOTLYENV || {};                                    if (document.getElementById(\"040dd975-4e01-4b25-bf8c-495cf9577408\")) {                    Plotly.newPlot(                        \"040dd975-4e01-4b25-bf8c-495cf9577408\",                        [{\"alignmentgroup\":\"True\",\"hovertemplate\":\"year_week=%{x}<br>faktury_per_osoba=%{y}<br>NAZWISKO=%{marker.color}<extra></extra>\",\"legendgroup\":\"\",\"marker\":{\"color\":[5,4,5,4,4,5,4,4,4,5,5,3,2,3,3,3,4,4,3,4,3,4,4,6,4,5,5,5,5,6,6,5,4,5,6,5,5,4,5,6,4,5,5,3,6,4,5,6,5,5,7,4,5,4,4,5,6,5,4,5,5,6,7,5,5,5,6,6,4,5,5,6,4,5,5,5,4,4,4,4,5,4,3,2,3,4,4,4,4,4,4,4,4,5,5,3,4,4,4,4,4,4,4,4,4,4,4,4,4,4,4,4,4,4,4,3,4,4,4,4,4,4,4,4,4,4,4,4,4,3,3,4,4,3,2],\"coloraxis\":\"coloraxis\",\"pattern\":{\"shape\":\"\"}},\"name\":\"\",\"offsetgroup\":\"\",\"orientation\":\"v\",\"showlegend\":false,\"textposition\":\"auto\",\"x\":[\"2020--01\",\"2020--02\",\"2020--03\",\"2020--04\",\"2020--05\",\"2020--06\",\"2020--07\",\"2020--08\",\"2020--09\",\"2020--10\",\"2020--11\",\"2020--12\",\"2020--13\",\"2020--14\",\"2020--15\",\"2020--16\",\"2020--17\",\"2020--18\",\"2020--19\",\"2020--20\",\"2020--21\",\"2020--22\",\"2020--23\",\"2020--24\",\"2020--25\",\"2020--26\",\"2020--27\",\"2020--28\",\"2020--29\",\"2020--30\",\"2020--31\",\"2020--32\",\"2020--33\",\"2020--34\",\"2020--35\",\"2020--36\",\"2020--37\",\"2020--38\",\"2020--39\",\"2020--40\",\"2020--41\",\"2020--42\",\"2020--43\",\"2020--44\",\"2020--45\",\"2020--46\",\"2020--47\",\"2020--48\",\"2020--49\",\"2020--50\",\"2020--51\",\"2020--52\",\"2020--53\",\"2021--01\",\"2021--02\",\"2021--03\",\"2021--04\",\"2021--05\",\"2021--06\",\"2021--07\",\"2021--08\",\"2021--09\",\"2021--10\",\"2021--11\",\"2021--12\",\"2021--13\",\"2021--14\",\"2021--15\",\"2021--16\",\"2021--17\",\"2021--18\",\"2021--19\",\"2021--20\",\"2021--21\",\"2021--22\",\"2021--23\",\"2021--24\",\"2021--25\",\"2021--26\",\"2021--27\",\"2021--28\",\"2021--29\",\"2021--30\",\"2021--31\",\"2021--32\",\"2021--33\",\"2021--34\",\"2021--35\",\"2021--36\",\"2021--37\",\"2021--38\",\"2021--39\",\"2021--40\",\"2021--41\",\"2021--42\",\"2021--43\",\"2021--44\",\"2021--45\",\"2021--46\",\"2021--47\",\"2021--48\",\"2021--49\",\"2021--50\",\"2021--51\",\"2021--52\",\"2022--01\",\"2022--02\",\"2022--03\",\"2022--04\",\"2022--05\",\"2022--06\",\"2022--07\",\"2022--08\",\"2022--09\",\"2022--10\",\"2022--11\",\"2022--12\",\"2022--13\",\"2022--14\",\"2022--15\",\"2022--16\",\"2022--17\",\"2022--18\",\"2022--19\",\"2022--20\",\"2022--21\",\"2022--22\",\"2022--23\",\"2022--24\",\"2022--25\",\"2022--26\",\"2022--27\",\"2022--28\",\"2022--29\",\"2022--30\"],\"xaxis\":\"x\",\"y\":[11.6,56.0,56.2,66.75,71.0,57.4,78.0,94.25,84.75,72.0,73.6,75.0,84.0,51.666666666666664,29.0,44.0,58.0,41.75,84.33333333333333,66.25,96.0,82.75,77.75,53.0,96.75,83.6,85.8,89.2,67.8,41.333333333333336,60.0,53.4,82.0,81.0,59.333333333333336,58.6,86.4,100.0,89.8,72.0,98.75,73.8,77.4,145.0,77.66666666666667,86.75,69.0,81.83333333333333,110.0,103.0,66.14285714285714,31.25,27.2,53.5,64.75,61.8,60.333333333333336,77.4,84.5,75.2,85.6,93.66666666666667,61.857142857142854,105.0,106.2,48.6,41.0,70.5,114.25,77.0,63.2,59.166666666666664,97.5,87.4,43.6,80.2,89.75,85.75,87.5,101.5,78.4,100.25,97.0,155.0,101.33333333333333,90.5,96.25,81.0,78.25,91.0,81.0,95.75,109.0,87.6,86.8,142.0,79.75,87.25,115.75,135.5,132.0,129.25,111.75,41.25,35.5,32.0,87.5,88.25,76.5,81.25,83.0,96.0,86.0,86.0,99.5,142.33333333333334,124.25,119.5,124.5,64.0,79.25,98.25,45.75,94.25,99.75,83.5,76.75,94.0,53.75,120.33333333333333,120.0,83.75,93.25,114.66666666666667,56.0],\"yaxis\":\"y\",\"type\":\"bar\"}],                        {\"template\":{\"data\":{\"histogram2dcontour\":[{\"type\":\"histogram2dcontour\",\"colorbar\":{\"outlinewidth\":0,\"ticks\":\"\"},\"colorscale\":[[0.0,\"#0d0887\"],[0.1111111111111111,\"#46039f\"],[0.2222222222222222,\"#7201a8\"],[0.3333333333333333,\"#9c179e\"],[0.4444444444444444,\"#bd3786\"],[0.5555555555555556,\"#d8576b\"],[0.6666666666666666,\"#ed7953\"],[0.7777777777777778,\"#fb9f3a\"],[0.8888888888888888,\"#fdca26\"],[1.0,\"#f0f921\"]]}],\"choropleth\":[{\"type\":\"choropleth\",\"colorbar\":{\"outlinewidth\":0,\"ticks\":\"\"}}],\"histogram2d\":[{\"type\":\"histogram2d\",\"colorbar\":{\"outlinewidth\":0,\"ticks\":\"\"},\"colorscale\":[[0.0,\"#0d0887\"],[0.1111111111111111,\"#46039f\"],[0.2222222222222222,\"#7201a8\"],[0.3333333333333333,\"#9c179e\"],[0.4444444444444444,\"#bd3786\"],[0.5555555555555556,\"#d8576b\"],[0.6666666666666666,\"#ed7953\"],[0.7777777777777778,\"#fb9f3a\"],[0.8888888888888888,\"#fdca26\"],[1.0,\"#f0f921\"]]}],\"heatmap\":[{\"type\":\"heatmap\",\"colorbar\":{\"outlinewidth\":0,\"ticks\":\"\"},\"colorscale\":[[0.0,\"#0d0887\"],[0.1111111111111111,\"#46039f\"],[0.2222222222222222,\"#7201a8\"],[0.3333333333333333,\"#9c179e\"],[0.4444444444444444,\"#bd3786\"],[0.5555555555555556,\"#d8576b\"],[0.6666666666666666,\"#ed7953\"],[0.7777777777777778,\"#fb9f3a\"],[0.8888888888888888,\"#fdca26\"],[1.0,\"#f0f921\"]]}],\"heatmapgl\":[{\"type\":\"heatmapgl\",\"colorbar\":{\"outlinewidth\":0,\"ticks\":\"\"},\"colorscale\":[[0.0,\"#0d0887\"],[0.1111111111111111,\"#46039f\"],[0.2222222222222222,\"#7201a8\"],[0.3333333333333333,\"#9c179e\"],[0.4444444444444444,\"#bd3786\"],[0.5555555555555556,\"#d8576b\"],[0.6666666666666666,\"#ed7953\"],[0.7777777777777778,\"#fb9f3a\"],[0.8888888888888888,\"#fdca26\"],[1.0,\"#f0f921\"]]}],\"contourcarpet\":[{\"type\":\"contourcarpet\",\"colorbar\":{\"outlinewidth\":0,\"ticks\":\"\"}}],\"contour\":[{\"type\":\"contour\",\"colorbar\":{\"outlinewidth\":0,\"ticks\":\"\"},\"colorscale\":[[0.0,\"#0d0887\"],[0.1111111111111111,\"#46039f\"],[0.2222222222222222,\"#7201a8\"],[0.3333333333333333,\"#9c179e\"],[0.4444444444444444,\"#bd3786\"],[0.5555555555555556,\"#d8576b\"],[0.6666666666666666,\"#ed7953\"],[0.7777777777777778,\"#fb9f3a\"],[0.8888888888888888,\"#fdca26\"],[1.0,\"#f0f921\"]]}],\"surface\":[{\"type\":\"surface\",\"colorbar\":{\"outlinewidth\":0,\"ticks\":\"\"},\"colorscale\":[[0.0,\"#0d0887\"],[0.1111111111111111,\"#46039f\"],[0.2222222222222222,\"#7201a8\"],[0.3333333333333333,\"#9c179e\"],[0.4444444444444444,\"#bd3786\"],[0.5555555555555556,\"#d8576b\"],[0.6666666666666666,\"#ed7953\"],[0.7777777777777778,\"#fb9f3a\"],[0.8888888888888888,\"#fdca26\"],[1.0,\"#f0f921\"]]}],\"mesh3d\":[{\"type\":\"mesh3d\",\"colorbar\":{\"outlinewidth\":0,\"ticks\":\"\"}}],\"scatter\":[{\"fillpattern\":{\"fillmode\":\"overlay\",\"size\":10,\"solidity\":0.2},\"type\":\"scatter\"}],\"parcoords\":[{\"type\":\"parcoords\",\"line\":{\"colorbar\":{\"outlinewidth\":0,\"ticks\":\"\"}}}],\"scatterpolargl\":[{\"type\":\"scatterpolargl\",\"marker\":{\"colorbar\":{\"outlinewidth\":0,\"ticks\":\"\"}}}],\"bar\":[{\"error_x\":{\"color\":\"#2a3f5f\"},\"error_y\":{\"color\":\"#2a3f5f\"},\"marker\":{\"line\":{\"color\":\"#E5ECF6\",\"width\":0.5},\"pattern\":{\"fillmode\":\"overlay\",\"size\":10,\"solidity\":0.2}},\"type\":\"bar\"}],\"scattergeo\":[{\"type\":\"scattergeo\",\"marker\":{\"colorbar\":{\"outlinewidth\":0,\"ticks\":\"\"}}}],\"scatterpolar\":[{\"type\":\"scatterpolar\",\"marker\":{\"colorbar\":{\"outlinewidth\":0,\"ticks\":\"\"}}}],\"histogram\":[{\"marker\":{\"pattern\":{\"fillmode\":\"overlay\",\"size\":10,\"solidity\":0.2}},\"type\":\"histogram\"}],\"scattergl\":[{\"type\":\"scattergl\",\"marker\":{\"colorbar\":{\"outlinewidth\":0,\"ticks\":\"\"}}}],\"scatter3d\":[{\"type\":\"scatter3d\",\"line\":{\"colorbar\":{\"outlinewidth\":0,\"ticks\":\"\"}},\"marker\":{\"colorbar\":{\"outlinewidth\":0,\"ticks\":\"\"}}}],\"scattermapbox\":[{\"type\":\"scattermapbox\",\"marker\":{\"colorbar\":{\"outlinewidth\":0,\"ticks\":\"\"}}}],\"scatterternary\":[{\"type\":\"scatterternary\",\"marker\":{\"colorbar\":{\"outlinewidth\":0,\"ticks\":\"\"}}}],\"scattercarpet\":[{\"type\":\"scattercarpet\",\"marker\":{\"colorbar\":{\"outlinewidth\":0,\"ticks\":\"\"}}}],\"carpet\":[{\"aaxis\":{\"endlinecolor\":\"#2a3f5f\",\"gridcolor\":\"white\",\"linecolor\":\"white\",\"minorgridcolor\":\"white\",\"startlinecolor\":\"#2a3f5f\"},\"baxis\":{\"endlinecolor\":\"#2a3f5f\",\"gridcolor\":\"white\",\"linecolor\":\"white\",\"minorgridcolor\":\"white\",\"startlinecolor\":\"#2a3f5f\"},\"type\":\"carpet\"}],\"table\":[{\"cells\":{\"fill\":{\"color\":\"#EBF0F8\"},\"line\":{\"color\":\"white\"}},\"header\":{\"fill\":{\"color\":\"#C8D4E3\"},\"line\":{\"color\":\"white\"}},\"type\":\"table\"}],\"barpolar\":[{\"marker\":{\"line\":{\"color\":\"#E5ECF6\",\"width\":0.5},\"pattern\":{\"fillmode\":\"overlay\",\"size\":10,\"solidity\":0.2}},\"type\":\"barpolar\"}],\"pie\":[{\"automargin\":true,\"type\":\"pie\"}]},\"layout\":{\"autotypenumbers\":\"strict\",\"colorway\":[\"#636efa\",\"#EF553B\",\"#00cc96\",\"#ab63fa\",\"#FFA15A\",\"#19d3f3\",\"#FF6692\",\"#B6E880\",\"#FF97FF\",\"#FECB52\"],\"font\":{\"color\":\"#2a3f5f\"},\"hovermode\":\"closest\",\"hoverlabel\":{\"align\":\"left\"},\"paper_bgcolor\":\"white\",\"plot_bgcolor\":\"#E5ECF6\",\"polar\":{\"bgcolor\":\"#E5ECF6\",\"angularaxis\":{\"gridcolor\":\"white\",\"linecolor\":\"white\",\"ticks\":\"\"},\"radialaxis\":{\"gridcolor\":\"white\",\"linecolor\":\"white\",\"ticks\":\"\"}},\"ternary\":{\"bgcolor\":\"#E5ECF6\",\"aaxis\":{\"gridcolor\":\"white\",\"linecolor\":\"white\",\"ticks\":\"\"},\"baxis\":{\"gridcolor\":\"white\",\"linecolor\":\"white\",\"ticks\":\"\"},\"caxis\":{\"gridcolor\":\"white\",\"linecolor\":\"white\",\"ticks\":\"\"}},\"coloraxis\":{\"colorbar\":{\"outlinewidth\":0,\"ticks\":\"\"}},\"colorscale\":{\"sequential\":[[0.0,\"#0d0887\"],[0.1111111111111111,\"#46039f\"],[0.2222222222222222,\"#7201a8\"],[0.3333333333333333,\"#9c179e\"],[0.4444444444444444,\"#bd3786\"],[0.5555555555555556,\"#d8576b\"],[0.6666666666666666,\"#ed7953\"],[0.7777777777777778,\"#fb9f3a\"],[0.8888888888888888,\"#fdca26\"],[1.0,\"#f0f921\"]],\"sequentialminus\":[[0.0,\"#0d0887\"],[0.1111111111111111,\"#46039f\"],[0.2222222222222222,\"#7201a8\"],[0.3333333333333333,\"#9c179e\"],[0.4444444444444444,\"#bd3786\"],[0.5555555555555556,\"#d8576b\"],[0.6666666666666666,\"#ed7953\"],[0.7777777777777778,\"#fb9f3a\"],[0.8888888888888888,\"#fdca26\"],[1.0,\"#f0f921\"]],\"diverging\":[[0,\"#8e0152\"],[0.1,\"#c51b7d\"],[0.2,\"#de77ae\"],[0.3,\"#f1b6da\"],[0.4,\"#fde0ef\"],[0.5,\"#f7f7f7\"],[0.6,\"#e6f5d0\"],[0.7,\"#b8e186\"],[0.8,\"#7fbc41\"],[0.9,\"#4d9221\"],[1,\"#276419\"]]},\"xaxis\":{\"gridcolor\":\"white\",\"linecolor\":\"white\",\"ticks\":\"\",\"title\":{\"standoff\":15},\"zerolinecolor\":\"white\",\"automargin\":true,\"zerolinewidth\":2},\"yaxis\":{\"gridcolor\":\"white\",\"linecolor\":\"white\",\"ticks\":\"\",\"title\":{\"standoff\":15},\"zerolinecolor\":\"white\",\"automargin\":true,\"zerolinewidth\":2},\"scene\":{\"xaxis\":{\"backgroundcolor\":\"#E5ECF6\",\"gridcolor\":\"white\",\"linecolor\":\"white\",\"showbackground\":true,\"ticks\":\"\",\"zerolinecolor\":\"white\",\"gridwidth\":2},\"yaxis\":{\"backgroundcolor\":\"#E5ECF6\",\"gridcolor\":\"white\",\"linecolor\":\"white\",\"showbackground\":true,\"ticks\":\"\",\"zerolinecolor\":\"white\",\"gridwidth\":2},\"zaxis\":{\"backgroundcolor\":\"#E5ECF6\",\"gridcolor\":\"white\",\"linecolor\":\"white\",\"showbackground\":true,\"ticks\":\"\",\"zerolinecolor\":\"white\",\"gridwidth\":2}},\"shapedefaults\":{\"line\":{\"color\":\"#2a3f5f\"}},\"annotationdefaults\":{\"arrowcolor\":\"#2a3f5f\",\"arrowhead\":0,\"arrowwidth\":1},\"geo\":{\"bgcolor\":\"white\",\"landcolor\":\"#E5ECF6\",\"subunitcolor\":\"white\",\"showland\":true,\"showlakes\":true,\"lakecolor\":\"white\"},\"title\":{\"x\":0.05},\"mapbox\":{\"style\":\"light\"}}},\"xaxis\":{\"anchor\":\"y\",\"domain\":[0.0,1.0],\"title\":{\"text\":\"year_week\"}},\"yaxis\":{\"anchor\":\"x\",\"domain\":[0.0,1.0],\"title\":{\"text\":\"faktury_per_osoba\"}},\"coloraxis\":{\"colorbar\":{\"title\":{\"text\":\"NAZWISKO\"}},\"colorscale\":[[0.0,\"rgb(232, 245, 171)\"],[0.09090909090909091,\"rgb(220, 219, 137)\"],[0.18181818181818182,\"rgb(209, 193, 107)\"],[0.2727272727272727,\"rgb(199, 168, 83)\"],[0.36363636363636365,\"rgb(186, 143, 66)\"],[0.45454545454545453,\"rgb(170, 121, 60)\"],[0.5454545454545454,\"rgb(151, 103, 58)\"],[0.6363636363636364,\"rgb(129, 87, 56)\"],[0.7272727272727273,\"rgb(104, 72, 53)\"],[0.8181818181818182,\"rgb(80, 59, 46)\"],[0.9090909090909091,\"rgb(57, 45, 37)\"],[1.0,\"rgb(34, 30, 27)\"]]},\"legend\":{\"tracegroupgap\":0},\"margin\":{\"t\":60},\"barmode\":\"relative\"},                        {\"responsive\": true}                    ).then(function(){\n",
       "                            \n",
       "var gd = document.getElementById('040dd975-4e01-4b25-bf8c-495cf9577408');\n",
       "var x = new MutationObserver(function (mutations, observer) {{\n",
       "        var display = window.getComputedStyle(gd).display;\n",
       "        if (!display || display === 'none') {{\n",
       "            console.log([gd, 'removed!']);\n",
       "            Plotly.purge(gd);\n",
       "            observer.disconnect();\n",
       "        }}\n",
       "}});\n",
       "\n",
       "// Listen for the removal of the full notebook cells\n",
       "var notebookContainer = gd.closest('#notebook-container');\n",
       "if (notebookContainer) {{\n",
       "    x.observe(notebookContainer, {childList: true});\n",
       "}}\n",
       "\n",
       "// Listen for the clearing of the current output cell\n",
       "var outputEl = gd.closest('.output');\n",
       "if (outputEl) {{\n",
       "    x.observe(outputEl, {childList: true});\n",
       "}}\n",
       "\n",
       "                        })                };                });            </script>        </div>"
      ]
     },
     "metadata": {},
     "output_type": "display_data"
    }
   ],
   "source": [
    "tmp=df_zamowienia.groupby(['czy_z_kuponow','year_week']).agg({'FAKTURA':'nunique',\n",
    "                                                          'NAZWISKO':'nunique'}).reset_index()\n",
    "tmp['faktury_per_osoba']=tmp['FAKTURA']/tmp['NAZWISKO']\n",
    "px.bar(tmp.loc[tmp['czy_z_kuponow']=='tak'],\n",
    "      x='year_week',\n",
    "      y='faktury_per_osoba',\n",
    "      color='NAZWISKO',\n",
    "      color_continuous_scale='turbid')"
   ]
  },
  {
   "cell_type": "code",
   "execution_count": 121,
   "id": "e0a348fc-90eb-4112-b0aa-1c84b7d1b636",
   "metadata": {},
   "outputs": [
    {
     "data": {
      "application/vnd.plotly.v1+json": {
       "config": {
        "plotlyServerURL": "https://plot.ly"
       },
       "data": [
        {
         "alignmentgroup": "True",
         "hovertemplate": "year=2020<br>NAZWISKO=%{x}<br>FAKTURA=%{y}<extra></extra>",
         "legendgroup": "",
         "marker": {
          "color": "#636efa"
         },
         "name": "",
         "notched": false,
         "offsetgroup": "",
         "orientation": "v",
         "showlegend": false,
         "type": "box",
         "x": [
          5,
          5,
          4,
          4,
          4,
          4,
          6,
          4,
          4,
          4,
          4,
          4,
          4,
          5,
          5,
          4,
          5,
          5,
          4,
          4,
          5,
          4,
          5,
          6,
          5,
          5,
          5,
          4,
          4,
          5,
          5,
          5,
          4,
          5,
          5,
          5,
          5,
          5,
          5,
          5,
          4,
          4,
          5,
          5,
          5,
          5,
          5,
          5,
          5,
          6,
          5,
          4,
          4,
          3,
          3,
          3,
          3,
          3,
          3,
          3,
          3,
          3,
          3,
          3,
          3,
          3,
          2,
          2,
          3,
          1,
          3,
          3,
          2,
          3,
          3,
          3,
          2,
          2,
          2,
          4,
          4,
          3,
          3,
          4,
          4,
          3,
          4,
          3,
          4,
          3,
          5,
          3,
          5,
          4,
          4,
          4,
          4,
          4,
          4,
          4,
          4,
          3,
          4,
          4,
          4,
          5,
          3,
          4,
          5,
          5,
          5,
          4,
          3,
          4,
          5,
          5,
          5,
          5,
          5,
          6,
          5,
          5,
          4,
          4
         ],
         "x0": " ",
         "xaxis": "x",
         "y": [
          30,
          46,
          73,
          48,
          49,
          54,
          96,
          55,
          56,
          52,
          24,
          90,
          67,
          62,
          66,
          46,
          98,
          63,
          53,
          52,
          56,
          75,
          50,
          58,
          56,
          61,
          89,
          82,
          66,
          60,
          58,
          98,
          83,
          74,
          82,
          62,
          94,
          92,
          66,
          69,
          63,
          100,
          83,
          84,
          62,
          75,
          119,
          86,
          77,
          74,
          79,
          85,
          65,
          45,
          54,
          43,
          67,
          51,
          48,
          56,
          40,
          43,
          40,
          44,
          38,
          43,
          50,
          32,
          24,
          18,
          29,
          30,
          26,
          47,
          36,
          49,
          52,
          37,
          58,
          66,
          65,
          53,
          48,
          72,
          68,
          81,
          53,
          49,
          72,
          72,
          70,
          85,
          58,
          90,
          78,
          65,
          68,
          56,
          87,
          79,
          66,
          67,
          69,
          116,
          82,
          60,
          61,
          65,
          112,
          82,
          82,
          48,
          118,
          84,
          77,
          94,
          81,
          124,
          91,
          97,
          90,
          78,
          90,
          75
         ],
         "y0": " ",
         "yaxis": "y"
        },
        {
         "alignmentgroup": "True",
         "hovertemplate": "year=2021<br>NAZWISKO=%{x}<br>FAKTURA=%{y}<extra></extra>",
         "legendgroup": "",
         "marker": {
          "color": "#636efa"
         },
         "name": "",
         "notched": false,
         "offsetgroup": "",
         "orientation": "v",
         "showlegend": false,
         "type": "box",
         "x": [
          5,
          5,
          5,
          4,
          5,
          5,
          5,
          4,
          5,
          6,
          5,
          5,
          5,
          5,
          6,
          5,
          5,
          6,
          5,
          6,
          4,
          5,
          5,
          6,
          4,
          5,
          5,
          5,
          5,
          5,
          5,
          5,
          5,
          6,
          6,
          3,
          5,
          4,
          5,
          5,
          5,
          5,
          6,
          6,
          1,
          6,
          5,
          6,
          6,
          4,
          4,
          4,
          6,
          5,
          5,
          4,
          3,
          5,
          5,
          5,
          5,
          6,
          6,
          5,
          4,
          3,
          4,
          5,
          5,
          6,
          4,
          6,
          5,
          6,
          6,
          5,
          5,
          5,
          5,
          5,
          5,
          5,
          6,
          3,
          6,
          5,
          5,
          5,
          6,
          4,
          6,
          5,
          7,
          5,
          5,
          5,
          5,
          5,
          5,
          5,
          5,
          5,
          5,
          5,
          4,
          5,
          5,
          3,
          5,
          6,
          5,
          4,
          4,
          5,
          4,
          4,
          4,
          3,
          4,
          4,
          4,
          4,
          4,
          3,
          5,
          5
         ],
         "x0": " ",
         "xaxis": "x2",
         "y": [
          43,
          61,
          67,
          69,
          120,
          66,
          48,
          30,
          41,
          78,
          62,
          78,
          79,
          64,
          93,
          83,
          74,
          78,
          81,
          101,
          80,
          77,
          82,
          79,
          91,
          81,
          73,
          80,
          47,
          76,
          97,
          89,
          70,
          75,
          115,
          91,
          85,
          98,
          82,
          117,
          122,
          90,
          104,
          185,
          1,
          144,
          103,
          115,
          86,
          89,
          6,
          140,
          113,
          119,
          113,
          92,
          5,
          153,
          132,
          122,
          145,
          85,
          110,
          83,
          56,
          42,
          64,
          71,
          93,
          83,
          113,
          100,
          82,
          75,
          67,
          129,
          109,
          98,
          98,
          76,
          134,
          91,
          92,
          66,
          71,
          77,
          90,
          87,
          75,
          96,
          75,
          87,
          64,
          91,
          111,
          89,
          92,
          79,
          81,
          123,
          93,
          79,
          78,
          126,
          104,
          87,
          63,
          25,
          119,
          78,
          118,
          72,
          53,
          88,
          99,
          68,
          98,
          52,
          83,
          69,
          83,
          68,
          40,
          102,
          86,
          80
         ],
         "y0": " ",
         "yaxis": "y2"
        },
        {
         "alignmentgroup": "True",
         "hovertemplate": "year=2022<br>NAZWISKO=%{x}<br>FAKTURA=%{y}<extra></extra>",
         "legendgroup": "",
         "marker": {
          "color": "#636efa"
         },
         "name": "",
         "notched": false,
         "offsetgroup": "",
         "orientation": "v",
         "showlegend": false,
         "type": "box",
         "x": [
          5,
          4,
          5,
          4,
          4,
          4,
          4,
          3,
          4,
          4,
          5,
          5,
          5,
          5,
          5,
          5,
          5,
          5,
          5,
          5,
          5,
          5,
          4,
          4,
          4,
          4,
          3,
          3,
          4,
          4,
          4,
          5,
          4,
          5,
          5,
          5,
          5,
          4,
          5,
          5,
          5,
          4,
          5,
          5,
          5,
          5,
          5,
          3,
          4,
          4,
          4,
          4,
          4,
          5,
          5,
          5,
          5,
          4,
          5,
          5,
          4,
          5,
          4,
          5,
          5,
          5,
          5,
          4,
          5,
          5,
          4,
          4,
          3,
          5,
          5,
          4,
          5,
          5,
          5,
          5,
          2,
          2,
          5,
          5,
          5,
          5,
          4,
          4,
          4,
          4,
          4,
          4,
          4,
          4,
          4,
          5,
          4,
          5,
          5,
          5,
          4,
          4,
          3,
          4,
          3,
          5,
          4,
          5,
          4,
          5,
          4,
          5,
          5,
          2,
          3,
          3,
          3,
          3,
          3,
          3,
          3,
          3,
          3
         ],
         "x0": " ",
         "xaxis": "x3",
         "y": [
          48,
          39,
          53,
          97,
          85,
          60,
          45,
          63,
          79,
          84,
          65,
          75,
          60,
          87,
          61,
          80,
          60,
          60,
          104,
          65,
          70,
          82,
          48,
          85,
          90,
          72,
          59,
          68,
          106,
          75,
          79,
          73,
          61,
          101,
          79,
          91,
          57,
          55,
          86,
          89,
          66,
          80,
          63,
          99,
          122,
          80,
          83,
          73,
          111,
          89,
          99,
          107,
          80,
          140,
          123,
          105,
          94,
          107,
          167,
          113,
          97,
          80,
          111,
          151,
          130,
          97,
          100,
          89,
          116,
          74,
          55,
          49,
          81,
          74,
          73,
          92,
          109,
          75,
          96,
          80,
          66,
          38,
          95,
          59,
          36,
          72,
          99,
          80,
          60,
          72,
          102,
          84,
          71,
          76,
          66,
          107,
          84,
          65,
          69,
          54,
          101,
          84,
          74,
          60,
          46,
          104,
          78,
          60,
          82,
          94,
          85,
          88,
          57,
          23,
          102,
          71,
          74,
          59,
          55,
          79,
          90,
          60,
          72
         ],
         "y0": " ",
         "yaxis": "y3"
        }
       ],
       "layout": {
        "annotations": [
         {
          "font": {},
          "showarrow": false,
          "text": "year=2020",
          "x": 0.15999999999999998,
          "xanchor": "center",
          "xref": "paper",
          "y": 1,
          "yanchor": "bottom",
          "yref": "paper"
         },
         {
          "font": {},
          "showarrow": false,
          "text": "year=2021",
          "x": 0.49999999999999994,
          "xanchor": "center",
          "xref": "paper",
          "y": 1,
          "yanchor": "bottom",
          "yref": "paper"
         },
         {
          "font": {},
          "showarrow": false,
          "text": "year=2022",
          "x": 0.8399999999999999,
          "xanchor": "center",
          "xref": "paper",
          "y": 1,
          "yanchor": "bottom",
          "yref": "paper"
         }
        ],
        "autosize": true,
        "boxmode": "group",
        "legend": {
         "tracegroupgap": 0
        },
        "margin": {
         "t": 60
        },
        "template": {
         "data": {
          "bar": [
           {
            "error_x": {
             "color": "#2a3f5f"
            },
            "error_y": {
             "color": "#2a3f5f"
            },
            "marker": {
             "line": {
              "color": "#E5ECF6",
              "width": 0.5
             },
             "pattern": {
              "fillmode": "overlay",
              "size": 10,
              "solidity": 0.2
             }
            },
            "type": "bar"
           }
          ],
          "barpolar": [
           {
            "marker": {
             "line": {
              "color": "#E5ECF6",
              "width": 0.5
             },
             "pattern": {
              "fillmode": "overlay",
              "size": 10,
              "solidity": 0.2
             }
            },
            "type": "barpolar"
           }
          ],
          "carpet": [
           {
            "aaxis": {
             "endlinecolor": "#2a3f5f",
             "gridcolor": "white",
             "linecolor": "white",
             "minorgridcolor": "white",
             "startlinecolor": "#2a3f5f"
            },
            "baxis": {
             "endlinecolor": "#2a3f5f",
             "gridcolor": "white",
             "linecolor": "white",
             "minorgridcolor": "white",
             "startlinecolor": "#2a3f5f"
            },
            "type": "carpet"
           }
          ],
          "choropleth": [
           {
            "colorbar": {
             "outlinewidth": 0,
             "ticks": ""
            },
            "type": "choropleth"
           }
          ],
          "contour": [
           {
            "colorbar": {
             "outlinewidth": 0,
             "ticks": ""
            },
            "colorscale": [
             [
              0,
              "#0d0887"
             ],
             [
              0.1111111111111111,
              "#46039f"
             ],
             [
              0.2222222222222222,
              "#7201a8"
             ],
             [
              0.3333333333333333,
              "#9c179e"
             ],
             [
              0.4444444444444444,
              "#bd3786"
             ],
             [
              0.5555555555555556,
              "#d8576b"
             ],
             [
              0.6666666666666666,
              "#ed7953"
             ],
             [
              0.7777777777777778,
              "#fb9f3a"
             ],
             [
              0.8888888888888888,
              "#fdca26"
             ],
             [
              1,
              "#f0f921"
             ]
            ],
            "type": "contour"
           }
          ],
          "contourcarpet": [
           {
            "colorbar": {
             "outlinewidth": 0,
             "ticks": ""
            },
            "type": "contourcarpet"
           }
          ],
          "heatmap": [
           {
            "colorbar": {
             "outlinewidth": 0,
             "ticks": ""
            },
            "colorscale": [
             [
              0,
              "#0d0887"
             ],
             [
              0.1111111111111111,
              "#46039f"
             ],
             [
              0.2222222222222222,
              "#7201a8"
             ],
             [
              0.3333333333333333,
              "#9c179e"
             ],
             [
              0.4444444444444444,
              "#bd3786"
             ],
             [
              0.5555555555555556,
              "#d8576b"
             ],
             [
              0.6666666666666666,
              "#ed7953"
             ],
             [
              0.7777777777777778,
              "#fb9f3a"
             ],
             [
              0.8888888888888888,
              "#fdca26"
             ],
             [
              1,
              "#f0f921"
             ]
            ],
            "type": "heatmap"
           }
          ],
          "heatmapgl": [
           {
            "colorbar": {
             "outlinewidth": 0,
             "ticks": ""
            },
            "colorscale": [
             [
              0,
              "#0d0887"
             ],
             [
              0.1111111111111111,
              "#46039f"
             ],
             [
              0.2222222222222222,
              "#7201a8"
             ],
             [
              0.3333333333333333,
              "#9c179e"
             ],
             [
              0.4444444444444444,
              "#bd3786"
             ],
             [
              0.5555555555555556,
              "#d8576b"
             ],
             [
              0.6666666666666666,
              "#ed7953"
             ],
             [
              0.7777777777777778,
              "#fb9f3a"
             ],
             [
              0.8888888888888888,
              "#fdca26"
             ],
             [
              1,
              "#f0f921"
             ]
            ],
            "type": "heatmapgl"
           }
          ],
          "histogram": [
           {
            "marker": {
             "pattern": {
              "fillmode": "overlay",
              "size": 10,
              "solidity": 0.2
             }
            },
            "type": "histogram"
           }
          ],
          "histogram2d": [
           {
            "colorbar": {
             "outlinewidth": 0,
             "ticks": ""
            },
            "colorscale": [
             [
              0,
              "#0d0887"
             ],
             [
              0.1111111111111111,
              "#46039f"
             ],
             [
              0.2222222222222222,
              "#7201a8"
             ],
             [
              0.3333333333333333,
              "#9c179e"
             ],
             [
              0.4444444444444444,
              "#bd3786"
             ],
             [
              0.5555555555555556,
              "#d8576b"
             ],
             [
              0.6666666666666666,
              "#ed7953"
             ],
             [
              0.7777777777777778,
              "#fb9f3a"
             ],
             [
              0.8888888888888888,
              "#fdca26"
             ],
             [
              1,
              "#f0f921"
             ]
            ],
            "type": "histogram2d"
           }
          ],
          "histogram2dcontour": [
           {
            "colorbar": {
             "outlinewidth": 0,
             "ticks": ""
            },
            "colorscale": [
             [
              0,
              "#0d0887"
             ],
             [
              0.1111111111111111,
              "#46039f"
             ],
             [
              0.2222222222222222,
              "#7201a8"
             ],
             [
              0.3333333333333333,
              "#9c179e"
             ],
             [
              0.4444444444444444,
              "#bd3786"
             ],
             [
              0.5555555555555556,
              "#d8576b"
             ],
             [
              0.6666666666666666,
              "#ed7953"
             ],
             [
              0.7777777777777778,
              "#fb9f3a"
             ],
             [
              0.8888888888888888,
              "#fdca26"
             ],
             [
              1,
              "#f0f921"
             ]
            ],
            "type": "histogram2dcontour"
           }
          ],
          "mesh3d": [
           {
            "colorbar": {
             "outlinewidth": 0,
             "ticks": ""
            },
            "type": "mesh3d"
           }
          ],
          "parcoords": [
           {
            "line": {
             "colorbar": {
              "outlinewidth": 0,
              "ticks": ""
             }
            },
            "type": "parcoords"
           }
          ],
          "pie": [
           {
            "automargin": true,
            "type": "pie"
           }
          ],
          "scatter": [
           {
            "fillpattern": {
             "fillmode": "overlay",
             "size": 10,
             "solidity": 0.2
            },
            "type": "scatter"
           }
          ],
          "scatter3d": [
           {
            "line": {
             "colorbar": {
              "outlinewidth": 0,
              "ticks": ""
             }
            },
            "marker": {
             "colorbar": {
              "outlinewidth": 0,
              "ticks": ""
             }
            },
            "type": "scatter3d"
           }
          ],
          "scattercarpet": [
           {
            "marker": {
             "colorbar": {
              "outlinewidth": 0,
              "ticks": ""
             }
            },
            "type": "scattercarpet"
           }
          ],
          "scattergeo": [
           {
            "marker": {
             "colorbar": {
              "outlinewidth": 0,
              "ticks": ""
             }
            },
            "type": "scattergeo"
           }
          ],
          "scattergl": [
           {
            "marker": {
             "colorbar": {
              "outlinewidth": 0,
              "ticks": ""
             }
            },
            "type": "scattergl"
           }
          ],
          "scattermapbox": [
           {
            "marker": {
             "colorbar": {
              "outlinewidth": 0,
              "ticks": ""
             }
            },
            "type": "scattermapbox"
           }
          ],
          "scatterpolar": [
           {
            "marker": {
             "colorbar": {
              "outlinewidth": 0,
              "ticks": ""
             }
            },
            "type": "scatterpolar"
           }
          ],
          "scatterpolargl": [
           {
            "marker": {
             "colorbar": {
              "outlinewidth": 0,
              "ticks": ""
             }
            },
            "type": "scatterpolargl"
           }
          ],
          "scatterternary": [
           {
            "marker": {
             "colorbar": {
              "outlinewidth": 0,
              "ticks": ""
             }
            },
            "type": "scatterternary"
           }
          ],
          "surface": [
           {
            "colorbar": {
             "outlinewidth": 0,
             "ticks": ""
            },
            "colorscale": [
             [
              0,
              "#0d0887"
             ],
             [
              0.1111111111111111,
              "#46039f"
             ],
             [
              0.2222222222222222,
              "#7201a8"
             ],
             [
              0.3333333333333333,
              "#9c179e"
             ],
             [
              0.4444444444444444,
              "#bd3786"
             ],
             [
              0.5555555555555556,
              "#d8576b"
             ],
             [
              0.6666666666666666,
              "#ed7953"
             ],
             [
              0.7777777777777778,
              "#fb9f3a"
             ],
             [
              0.8888888888888888,
              "#fdca26"
             ],
             [
              1,
              "#f0f921"
             ]
            ],
            "type": "surface"
           }
          ],
          "table": [
           {
            "cells": {
             "fill": {
              "color": "#EBF0F8"
             },
             "line": {
              "color": "white"
             }
            },
            "header": {
             "fill": {
              "color": "#C8D4E3"
             },
             "line": {
              "color": "white"
             }
            },
            "type": "table"
           }
          ]
         },
         "layout": {
          "annotationdefaults": {
           "arrowcolor": "#2a3f5f",
           "arrowhead": 0,
           "arrowwidth": 1
          },
          "autotypenumbers": "strict",
          "coloraxis": {
           "colorbar": {
            "outlinewidth": 0,
            "ticks": ""
           }
          },
          "colorscale": {
           "diverging": [
            [
             0,
             "#8e0152"
            ],
            [
             0.1,
             "#c51b7d"
            ],
            [
             0.2,
             "#de77ae"
            ],
            [
             0.3,
             "#f1b6da"
            ],
            [
             0.4,
             "#fde0ef"
            ],
            [
             0.5,
             "#f7f7f7"
            ],
            [
             0.6,
             "#e6f5d0"
            ],
            [
             0.7,
             "#b8e186"
            ],
            [
             0.8,
             "#7fbc41"
            ],
            [
             0.9,
             "#4d9221"
            ],
            [
             1,
             "#276419"
            ]
           ],
           "sequential": [
            [
             0,
             "#0d0887"
            ],
            [
             0.1111111111111111,
             "#46039f"
            ],
            [
             0.2222222222222222,
             "#7201a8"
            ],
            [
             0.3333333333333333,
             "#9c179e"
            ],
            [
             0.4444444444444444,
             "#bd3786"
            ],
            [
             0.5555555555555556,
             "#d8576b"
            ],
            [
             0.6666666666666666,
             "#ed7953"
            ],
            [
             0.7777777777777778,
             "#fb9f3a"
            ],
            [
             0.8888888888888888,
             "#fdca26"
            ],
            [
             1,
             "#f0f921"
            ]
           ],
           "sequentialminus": [
            [
             0,
             "#0d0887"
            ],
            [
             0.1111111111111111,
             "#46039f"
            ],
            [
             0.2222222222222222,
             "#7201a8"
            ],
            [
             0.3333333333333333,
             "#9c179e"
            ],
            [
             0.4444444444444444,
             "#bd3786"
            ],
            [
             0.5555555555555556,
             "#d8576b"
            ],
            [
             0.6666666666666666,
             "#ed7953"
            ],
            [
             0.7777777777777778,
             "#fb9f3a"
            ],
            [
             0.8888888888888888,
             "#fdca26"
            ],
            [
             1,
             "#f0f921"
            ]
           ]
          },
          "colorway": [
           "#636efa",
           "#EF553B",
           "#00cc96",
           "#ab63fa",
           "#FFA15A",
           "#19d3f3",
           "#FF6692",
           "#B6E880",
           "#FF97FF",
           "#FECB52"
          ],
          "font": {
           "color": "#2a3f5f"
          },
          "geo": {
           "bgcolor": "white",
           "lakecolor": "white",
           "landcolor": "#E5ECF6",
           "showlakes": true,
           "showland": true,
           "subunitcolor": "white"
          },
          "hoverlabel": {
           "align": "left"
          },
          "hovermode": "closest",
          "mapbox": {
           "style": "light"
          },
          "paper_bgcolor": "white",
          "plot_bgcolor": "#E5ECF6",
          "polar": {
           "angularaxis": {
            "gridcolor": "white",
            "linecolor": "white",
            "ticks": ""
           },
           "bgcolor": "#E5ECF6",
           "radialaxis": {
            "gridcolor": "white",
            "linecolor": "white",
            "ticks": ""
           }
          },
          "scene": {
           "xaxis": {
            "backgroundcolor": "#E5ECF6",
            "gridcolor": "white",
            "gridwidth": 2,
            "linecolor": "white",
            "showbackground": true,
            "ticks": "",
            "zerolinecolor": "white"
           },
           "yaxis": {
            "backgroundcolor": "#E5ECF6",
            "gridcolor": "white",
            "gridwidth": 2,
            "linecolor": "white",
            "showbackground": true,
            "ticks": "",
            "zerolinecolor": "white"
           },
           "zaxis": {
            "backgroundcolor": "#E5ECF6",
            "gridcolor": "white",
            "gridwidth": 2,
            "linecolor": "white",
            "showbackground": true,
            "ticks": "",
            "zerolinecolor": "white"
           }
          },
          "shapedefaults": {
           "line": {
            "color": "#2a3f5f"
           }
          },
          "ternary": {
           "aaxis": {
            "gridcolor": "white",
            "linecolor": "white",
            "ticks": ""
           },
           "baxis": {
            "gridcolor": "white",
            "linecolor": "white",
            "ticks": ""
           },
           "bgcolor": "#E5ECF6",
           "caxis": {
            "gridcolor": "white",
            "linecolor": "white",
            "ticks": ""
           }
          },
          "title": {
           "x": 0.05
          },
          "xaxis": {
           "automargin": true,
           "gridcolor": "white",
           "linecolor": "white",
           "ticks": "",
           "title": {
            "standoff": 15
           },
           "zerolinecolor": "white",
           "zerolinewidth": 2
          },
          "yaxis": {
           "automargin": true,
           "gridcolor": "white",
           "linecolor": "white",
           "ticks": "",
           "title": {
            "standoff": 15
           },
           "zerolinecolor": "white",
           "zerolinewidth": 2
          }
         }
        },
        "xaxis": {
         "anchor": "y",
         "autorange": true,
         "domain": [
          0,
          0.31999999999999995
         ],
         "range": [
          0.4577600772387159,
          7.5
         ],
         "title": {
          "text": "NAZWISKO"
         },
         "type": "linear"
        },
        "xaxis2": {
         "anchor": "y2",
         "autorange": true,
         "domain": [
          0.33999999999999997,
          0.6599999999999999
         ],
         "matches": "x",
         "range": [
          0.4577600772387159,
          7.5
         ],
         "title": {
          "text": "NAZWISKO"
         },
         "type": "linear"
        },
        "xaxis3": {
         "anchor": "y3",
         "autorange": true,
         "domain": [
          0.6799999999999999,
          0.9999999999999999
         ],
         "matches": "x",
         "range": [
          0.4577600772387159,
          7.5
         ],
         "title": {
          "text": "NAZWISKO"
         },
         "type": "linear"
        },
        "yaxis": {
         "anchor": "x",
         "autorange": true,
         "domain": [
          0,
          1
         ],
         "range": [
          -9.222222222222221,
          195.22222222222223
         ],
         "title": {
          "text": "FAKTURA"
         },
         "type": "linear"
        },
        "yaxis2": {
         "anchor": "x2",
         "autorange": true,
         "domain": [
          0,
          1
         ],
         "matches": "y",
         "range": [
          -9.222222222222221,
          195.22222222222223
         ],
         "showticklabels": false,
         "type": "linear"
        },
        "yaxis3": {
         "anchor": "x3",
         "autorange": true,
         "domain": [
          0,
          1
         ],
         "matches": "y",
         "range": [
          -9.222222222222221,
          195.22222222222223
         ],
         "showticklabels": false,
         "type": "linear"
        }
       }
      },
      "image/png": "[encoded data removed]",
      "text/html": [
       "<div>                            <div id=\"c02ef4ca-fa01-4502-b32a-226582ff9a6e\" class=\"plotly-graph-div\" style=\"height:525px; width:100%;\"></div>            <script type=\"text/javascript\">                require([\"plotly\"], function(Plotly) {                    window.PLOTLYENV=window.PLOTLYENV || {};                                    if (document.getElementById(\"c02ef4ca-fa01-4502-b32a-226582ff9a6e\")) {                    Plotly.newPlot(                        \"c02ef4ca-fa01-4502-b32a-226582ff9a6e\",                        [{\"alignmentgroup\":\"True\",\"hovertemplate\":\"year=2020<br>NAZWISKO=%{x}<br>FAKTURA=%{y}<extra></extra>\",\"legendgroup\":\"\",\"marker\":{\"color\":\"#636efa\"},\"name\":\"\",\"notched\":false,\"offsetgroup\":\"\",\"orientation\":\"v\",\"showlegend\":false,\"x\":[5,5,4,4,4,4,6,4,4,4,4,4,4,5,5,4,5,5,4,4,5,4,5,6,5,5,5,4,4,5,5,5,4,5,5,5,5,5,5,5,4,4,5,5,5,5,5,5,5,6,5,4,4,3,3,3,3,3,3,3,3,3,3,3,3,3,2,2,3,1,3,3,2,3,3,3,2,2,2,4,4,3,3,4,4,3,4,3,4,3,5,3,5,4,4,4,4,4,4,4,4,3,4,4,4,5,3,4,5,5,5,4,3,4,5,5,5,5,5,6,5,5,4,4],\"x0\":\" \",\"xaxis\":\"x\",\"y\":[30,46,73,48,49,54,96,55,56,52,24,90,67,62,66,46,98,63,53,52,56,75,50,58,56,61,89,82,66,60,58,98,83,74,82,62,94,92,66,69,63,100,83,84,62,75,119,86,77,74,79,85,65,45,54,43,67,51,48,56,40,43,40,44,38,43,50,32,24,18,29,30,26,47,36,49,52,37,58,66,65,53,48,72,68,81,53,49,72,72,70,85,58,90,78,65,68,56,87,79,66,67,69,116,82,60,61,65,112,82,82,48,118,84,77,94,81,124,91,97,90,78,90,75],\"y0\":\" \",\"yaxis\":\"y\",\"type\":\"box\"},{\"alignmentgroup\":\"True\",\"hovertemplate\":\"year=2021<br>NAZWISKO=%{x}<br>FAKTURA=%{y}<extra></extra>\",\"legendgroup\":\"\",\"marker\":{\"color\":\"#636efa\"},\"name\":\"\",\"notched\":false,\"offsetgroup\":\"\",\"orientation\":\"v\",\"showlegend\":false,\"x\":[5,5,5,4,5,5,5,4,5,6,5,5,5,5,6,5,5,6,5,6,4,5,5,6,4,5,5,5,5,5,5,5,5,6,6,3,5,4,5,5,5,5,6,6,1,6,5,6,6,4,4,4,6,5,5,4,3,5,5,5,5,6,6,5,4,3,4,5,5,6,4,6,5,6,6,5,5,5,5,5,5,5,6,3,6,5,5,5,6,4,6,5,7,5,5,5,5,5,5,5,5,5,5,5,4,5,5,3,5,6,5,4,4,5,4,4,4,3,4,4,4,4,4,3,5,5],\"x0\":\" \",\"xaxis\":\"x2\",\"y\":[43,61,67,69,120,66,48,30,41,78,62,78,79,64,93,83,74,78,81,101,80,77,82,79,91,81,73,80,47,76,97,89,70,75,115,91,85,98,82,117,122,90,104,185,1,144,103,115,86,89,6,140,113,119,113,92,5,153,132,122,145,85,110,83,56,42,64,71,93,83,113,100,82,75,67,129,109,98,98,76,134,91,92,66,71,77,90,87,75,96,75,87,64,91,111,89,92,79,81,123,93,79,78,126,104,87,63,25,119,78,118,72,53,88,99,68,98,52,83,69,83,68,40,102,86,80],\"y0\":\" \",\"yaxis\":\"y2\",\"type\":\"box\"},{\"alignmentgroup\":\"True\",\"hovertemplate\":\"year=2022<br>NAZWISKO=%{x}<br>FAKTURA=%{y}<extra></extra>\",\"legendgroup\":\"\",\"marker\":{\"color\":\"#636efa\"},\"name\":\"\",\"notched\":false,\"offsetgroup\":\"\",\"orientation\":\"v\",\"showlegend\":false,\"x\":[5,4,5,4,4,4,4,3,4,4,5,5,5,5,5,5,5,5,5,5,5,5,4,4,4,4,3,3,4,4,4,5,4,5,5,5,5,4,5,5,5,4,5,5,5,5,5,3,4,4,4,4,4,5,5,5,5,4,5,5,4,5,4,5,5,5,5,4,5,5,4,4,3,5,5,4,5,5,5,5,2,2,5,5,5,5,4,4,4,4,4,4,4,4,4,5,4,5,5,5,4,4,3,4,3,5,4,5,4,5,4,5,5,2,3,3,3,3,3,3,3,3,3],\"x0\":\" \",\"xaxis\":\"x3\",\"y\":[48,39,53,97,85,60,45,63,79,84,65,75,60,87,61,80,60,60,104,65,70,82,48,85,90,72,59,68,106,75,79,73,61,101,79,91,57,55,86,89,66,80,63,99,122,80,83,73,111,89,99,107,80,140,123,105,94,107,167,113,97,80,111,151,130,97,100,89,116,74,55,49,81,74,73,92,109,75,96,80,66,38,95,59,36,72,99,80,60,72,102,84,71,76,66,107,84,65,69,54,101,84,74,60,46,104,78,60,82,94,85,88,57,23,102,71,74,59,55,79,90,60,72],\"y0\":\" \",\"yaxis\":\"y3\",\"type\":\"box\"}],                        {\"template\":{\"data\":{\"histogram2dcontour\":[{\"type\":\"histogram2dcontour\",\"colorbar\":{\"outlinewidth\":0,\"ticks\":\"\"},\"colorscale\":[[0.0,\"#0d0887\"],[0.1111111111111111,\"#46039f\"],[0.2222222222222222,\"#7201a8\"],[0.3333333333333333,\"#9c179e\"],[0.4444444444444444,\"#bd3786\"],[0.5555555555555556,\"#d8576b\"],[0.6666666666666666,\"#ed7953\"],[0.7777777777777778,\"#fb9f3a\"],[0.8888888888888888,\"#fdca26\"],[1.0,\"#f0f921\"]]}],\"choropleth\":[{\"type\":\"choropleth\",\"colorbar\":{\"outlinewidth\":0,\"ticks\":\"\"}}],\"histogram2d\":[{\"type\":\"histogram2d\",\"colorbar\":{\"outlinewidth\":0,\"ticks\":\"\"},\"colorscale\":[[0.0,\"#0d0887\"],[0.1111111111111111,\"#46039f\"],[0.2222222222222222,\"#7201a8\"],[0.3333333333333333,\"#9c179e\"],[0.4444444444444444,\"#bd3786\"],[0.5555555555555556,\"#d8576b\"],[0.6666666666666666,\"#ed7953\"],[0.7777777777777778,\"#fb9f3a\"],[0.8888888888888888,\"#fdca26\"],[1.0,\"#f0f921\"]]}],\"heatmap\":[{\"type\":\"heatmap\",\"colorbar\":{\"outlinewidth\":0,\"ticks\":\"\"},\"colorscale\":[[0.0,\"#0d0887\"],[0.1111111111111111,\"#46039f\"],[0.2222222222222222,\"#7201a8\"],[0.3333333333333333,\"#9c179e\"],[0.4444444444444444,\"#bd3786\"],[0.5555555555555556,\"#d8576b\"],[0.6666666666666666,\"#ed7953\"],[0.7777777777777778,\"#fb9f3a\"],[0.8888888888888888,\"#fdca26\"],[1.0,\"#f0f921\"]]}],\"heatmapgl\":[{\"type\":\"heatmapgl\",\"colorbar\":{\"outlinewidth\":0,\"ticks\":\"\"},\"colorscale\":[[0.0,\"#0d0887\"],[0.1111111111111111,\"#46039f\"],[0.2222222222222222,\"#7201a8\"],[0.3333333333333333,\"#9c179e\"],[0.4444444444444444,\"#bd3786\"],[0.5555555555555556,\"#d8576b\"],[0.6666666666666666,\"#ed7953\"],[0.7777777777777778,\"#fb9f3a\"],[0.8888888888888888,\"#fdca26\"],[1.0,\"#f0f921\"]]}],\"contourcarpet\":[{\"type\":\"contourcarpet\",\"colorbar\":{\"outlinewidth\":0,\"ticks\":\"\"}}],\"contour\":[{\"type\":\"contour\",\"colorbar\":{\"outlinewidth\":0,\"ticks\":\"\"},\"colorscale\":[[0.0,\"#0d0887\"],[0.1111111111111111,\"#46039f\"],[0.2222222222222222,\"#7201a8\"],[0.3333333333333333,\"#9c179e\"],[0.4444444444444444,\"#bd3786\"],[0.5555555555555556,\"#d8576b\"],[0.6666666666666666,\"#ed7953\"],[0.7777777777777778,\"#fb9f3a\"],[0.8888888888888888,\"#fdca26\"],[1.0,\"#f0f921\"]]}],\"surface\":[{\"type\":\"surface\",\"colorbar\":{\"outlinewidth\":0,\"ticks\":\"\"},\"colorscale\":[[0.0,\"#0d0887\"],[0.1111111111111111,\"#46039f\"],[0.2222222222222222,\"#7201a8\"],[0.3333333333333333,\"#9c179e\"],[0.4444444444444444,\"#bd3786\"],[0.5555555555555556,\"#d8576b\"],[0.6666666666666666,\"#ed7953\"],[0.7777777777777778,\"#fb9f3a\"],[0.8888888888888888,\"#fdca26\"],[1.0,\"#f0f921\"]]}],\"mesh3d\":[{\"type\":\"mesh3d\",\"colorbar\":{\"outlinewidth\":0,\"ticks\":\"\"}}],\"scatter\":[{\"fillpattern\":{\"fillmode\":\"overlay\",\"size\":10,\"solidity\":0.2},\"type\":\"scatter\"}],\"parcoords\":[{\"type\":\"parcoords\",\"line\":{\"colorbar\":{\"outlinewidth\":0,\"ticks\":\"\"}}}],\"scatterpolargl\":[{\"type\":\"scatterpolargl\",\"marker\":{\"colorbar\":{\"outlinewidth\":0,\"ticks\":\"\"}}}],\"bar\":[{\"error_x\":{\"color\":\"#2a3f5f\"},\"error_y\":{\"color\":\"#2a3f5f\"},\"marker\":{\"line\":{\"color\":\"#E5ECF6\",\"width\":0.5},\"pattern\":{\"fillmode\":\"overlay\",\"size\":10,\"solidity\":0.2}},\"type\":\"bar\"}],\"scattergeo\":[{\"type\":\"scattergeo\",\"marker\":{\"colorbar\":{\"outlinewidth\":0,\"ticks\":\"\"}}}],\"scatterpolar\":[{\"type\":\"scatterpolar\",\"marker\":{\"colorbar\":{\"outlinewidth\":0,\"ticks\":\"\"}}}],\"histogram\":[{\"marker\":{\"pattern\":{\"fillmode\":\"overlay\",\"size\":10,\"solidity\":0.2}},\"type\":\"histogram\"}],\"scattergl\":[{\"type\":\"scattergl\",\"marker\":{\"colorbar\":{\"outlinewidth\":0,\"ticks\":\"\"}}}],\"scatter3d\":[{\"type\":\"scatter3d\",\"line\":{\"colorbar\":{\"outlinewidth\":0,\"ticks\":\"\"}},\"marker\":{\"colorbar\":{\"outlinewidth\":0,\"ticks\":\"\"}}}],\"scattermapbox\":[{\"type\":\"scattermapbox\",\"marker\":{\"colorbar\":{\"outlinewidth\":0,\"ticks\":\"\"}}}],\"scatterternary\":[{\"type\":\"scatterternary\",\"marker\":{\"colorbar\":{\"outlinewidth\":0,\"ticks\":\"\"}}}],\"scattercarpet\":[{\"type\":\"scattercarpet\",\"marker\":{\"colorbar\":{\"outlinewidth\":0,\"ticks\":\"\"}}}],\"carpet\":[{\"aaxis\":{\"endlinecolor\":\"#2a3f5f\",\"gridcolor\":\"white\",\"linecolor\":\"white\",\"minorgridcolor\":\"white\",\"startlinecolor\":\"#2a3f5f\"},\"baxis\":{\"endlinecolor\":\"#2a3f5f\",\"gridcolor\":\"white\",\"linecolor\":\"white\",\"minorgridcolor\":\"white\",\"startlinecolor\":\"#2a3f5f\"},\"type\":\"carpet\"}],\"table\":[{\"cells\":{\"fill\":{\"color\":\"#EBF0F8\"},\"line\":{\"color\":\"white\"}},\"header\":{\"fill\":{\"color\":\"#C8D4E3\"},\"line\":{\"color\":\"white\"}},\"type\":\"table\"}],\"barpolar\":[{\"marker\":{\"line\":{\"color\":\"#E5ECF6\",\"width\":0.5},\"pattern\":{\"fillmode\":\"overlay\",\"size\":10,\"solidity\":0.2}},\"type\":\"barpolar\"}],\"pie\":[{\"automargin\":true,\"type\":\"pie\"}]},\"layout\":{\"autotypenumbers\":\"strict\",\"colorway\":[\"#636efa\",\"#EF553B\",\"#00cc96\",\"#ab63fa\",\"#FFA15A\",\"#19d3f3\",\"#FF6692\",\"#B6E880\",\"#FF97FF\",\"#FECB52\"],\"font\":{\"color\":\"#2a3f5f\"},\"hovermode\":\"closest\",\"hoverlabel\":{\"align\":\"left\"},\"paper_bgcolor\":\"white\",\"plot_bgcolor\":\"#E5ECF6\",\"polar\":{\"bgcolor\":\"#E5ECF6\",\"angularaxis\":{\"gridcolor\":\"white\",\"linecolor\":\"white\",\"ticks\":\"\"},\"radialaxis\":{\"gridcolor\":\"white\",\"linecolor\":\"white\",\"ticks\":\"\"}},\"ternary\":{\"bgcolor\":\"#E5ECF6\",\"aaxis\":{\"gridcolor\":\"white\",\"linecolor\":\"white\",\"ticks\":\"\"},\"baxis\":{\"gridcolor\":\"white\",\"linecolor\":\"white\",\"ticks\":\"\"},\"caxis\":{\"gridcolor\":\"white\",\"linecolor\":\"white\",\"ticks\":\"\"}},\"coloraxis\":{\"colorbar\":{\"outlinewidth\":0,\"ticks\":\"\"}},\"colorscale\":{\"sequential\":[[0.0,\"#0d0887\"],[0.1111111111111111,\"#46039f\"],[0.2222222222222222,\"#7201a8\"],[0.3333333333333333,\"#9c179e\"],[0.4444444444444444,\"#bd3786\"],[0.5555555555555556,\"#d8576b\"],[0.6666666666666666,\"#ed7953\"],[0.7777777777777778,\"#fb9f3a\"],[0.8888888888888888,\"#fdca26\"],[1.0,\"#f0f921\"]],\"sequentialminus\":[[0.0,\"#0d0887\"],[0.1111111111111111,\"#46039f\"],[0.2222222222222222,\"#7201a8\"],[0.3333333333333333,\"#9c179e\"],[0.4444444444444444,\"#bd3786\"],[0.5555555555555556,\"#d8576b\"],[0.6666666666666666,\"#ed7953\"],[0.7777777777777778,\"#fb9f3a\"],[0.8888888888888888,\"#fdca26\"],[1.0,\"#f0f921\"]],\"diverging\":[[0,\"#8e0152\"],[0.1,\"#c51b7d\"],[0.2,\"#de77ae\"],[0.3,\"#f1b6da\"],[0.4,\"#fde0ef\"],[0.5,\"#f7f7f7\"],[0.6,\"#e6f5d0\"],[0.7,\"#b8e186\"],[0.8,\"#7fbc41\"],[0.9,\"#4d9221\"],[1,\"#276419\"]]},\"xaxis\":{\"gridcolor\":\"white\",\"linecolor\":\"white\",\"ticks\":\"\",\"title\":{\"standoff\":15},\"zerolinecolor\":\"white\",\"automargin\":true,\"zerolinewidth\":2},\"yaxis\":{\"gridcolor\":\"white\",\"linecolor\":\"white\",\"ticks\":\"\",\"title\":{\"standoff\":15},\"zerolinecolor\":\"white\",\"automargin\":true,\"zerolinewidth\":2},\"scene\":{\"xaxis\":{\"backgroundcolor\":\"#E5ECF6\",\"gridcolor\":\"white\",\"linecolor\":\"white\",\"showbackground\":true,\"ticks\":\"\",\"zerolinecolor\":\"white\",\"gridwidth\":2},\"yaxis\":{\"backgroundcolor\":\"#E5ECF6\",\"gridcolor\":\"white\",\"linecolor\":\"white\",\"showbackground\":true,\"ticks\":\"\",\"zerolinecolor\":\"white\",\"gridwidth\":2},\"zaxis\":{\"backgroundcolor\":\"#E5ECF6\",\"gridcolor\":\"white\",\"linecolor\":\"white\",\"showbackground\":true,\"ticks\":\"\",\"zerolinecolor\":\"white\",\"gridwidth\":2}},\"shapedefaults\":{\"line\":{\"color\":\"#2a3f5f\"}},\"annotationdefaults\":{\"arrowcolor\":\"#2a3f5f\",\"arrowhead\":0,\"arrowwidth\":1},\"geo\":{\"bgcolor\":\"white\",\"landcolor\":\"#E5ECF6\",\"subunitcolor\":\"white\",\"showland\":true,\"showlakes\":true,\"lakecolor\":\"white\"},\"title\":{\"x\":0.05},\"mapbox\":{\"style\":\"light\"}}},\"xaxis\":{\"anchor\":\"y\",\"domain\":[0.0,0.31999999999999995],\"title\":{\"text\":\"NAZWISKO\"}},\"yaxis\":{\"anchor\":\"x\",\"domain\":[0.0,1.0],\"title\":{\"text\":\"FAKTURA\"}},\"xaxis2\":{\"anchor\":\"y2\",\"domain\":[0.33999999999999997,0.6599999999999999],\"matches\":\"x\",\"title\":{\"text\":\"NAZWISKO\"}},\"yaxis2\":{\"anchor\":\"x2\",\"domain\":[0.0,1.0],\"matches\":\"y\",\"showticklabels\":false},\"xaxis3\":{\"anchor\":\"y3\",\"domain\":[0.6799999999999999,0.9999999999999999],\"matches\":\"x\",\"title\":{\"text\":\"NAZWISKO\"}},\"yaxis3\":{\"anchor\":\"x3\",\"domain\":[0.0,1.0],\"matches\":\"y\",\"showticklabels\":false},\"annotations\":[{\"font\":{},\"showarrow\":false,\"text\":\"year=2020\",\"x\":0.15999999999999998,\"xanchor\":\"center\",\"xref\":\"paper\",\"y\":1.0,\"yanchor\":\"bottom\",\"yref\":\"paper\"},{\"font\":{},\"showarrow\":false,\"text\":\"year=2021\",\"x\":0.49999999999999994,\"xanchor\":\"center\",\"xref\":\"paper\",\"y\":1.0,\"yanchor\":\"bottom\",\"yref\":\"paper\"},{\"font\":{},\"showarrow\":false,\"text\":\"year=2022\",\"x\":0.8399999999999999,\"xanchor\":\"center\",\"xref\":\"paper\",\"y\":1.0,\"yanchor\":\"bottom\",\"yref\":\"paper\"}],\"legend\":{\"tracegroupgap\":0},\"margin\":{\"t\":60},\"boxmode\":\"group\"},                        {\"responsive\": true}                    ).then(function(){\n",
       "                            \n",
       "var gd = document.getElementById('c02ef4ca-fa01-4502-b32a-226582ff9a6e');\n",
       "var x = new MutationObserver(function (mutations, observer) {{\n",
       "        var display = window.getComputedStyle(gd).display;\n",
       "        if (!display || display === 'none') {{\n",
       "            console.log([gd, 'removed!']);\n",
       "            Plotly.purge(gd);\n",
       "            observer.disconnect();\n",
       "        }}\n",
       "}});\n",
       "\n",
       "// Listen for the removal of the full notebook cells\n",
       "var notebookContainer = gd.closest('#notebook-container');\n",
       "if (notebookContainer) {{\n",
       "    x.observe(notebookContainer, {childList: true});\n",
       "}}\n",
       "\n",
       "// Listen for the clearing of the current output cell\n",
       "var outputEl = gd.closest('.output');\n",
       "if (outputEl) {{\n",
       "    x.observe(outputEl, {childList: true});\n",
       "}}\n",
       "\n",
       "                        })                };                });            </script>        </div>"
      ]
     },
     "metadata": {},
     "output_type": "display_data"
    },
    {
     "data": {
      "application/vnd.plotly.v1+json": {
       "config": {
        "plotlyServerURL": "https://plot.ly"
       },
       "data": [
        {
         "alignmentgroup": "True",
         "hovertemplate": "year=2020<br>NAZWISKO=%{x}<br>faktury_per_osoba=%{y}<extra></extra>",
         "legendgroup": "",
         "marker": {
          "color": "#636efa"
         },
         "name": "",
         "notched": false,
         "offsetgroup": "",
         "orientation": "v",
         "showlegend": false,
         "type": "box",
         "x": [
          5,
          5,
          4,
          4,
          4,
          4,
          6,
          4,
          4,
          4,
          4,
          4,
          4,
          5,
          5,
          4,
          5,
          5,
          4,
          4,
          5,
          4,
          5,
          6,
          5,
          5,
          5,
          4,
          4,
          5,
          5,
          5,
          4,
          5,
          5,
          5,
          5,
          5,
          5,
          5,
          4,
          4,
          5,
          5,
          5,
          5,
          5,
          5,
          5,
          6,
          5,
          4,
          4,
          3,
          3,
          3,
          3,
          3,
          3,
          3,
          3,
          3,
          3,
          3,
          3,
          3,
          2,
          2,
          3,
          1,
          3,
          3,
          2,
          3,
          3,
          3,
          2,
          2,
          2,
          4,
          4,
          3,
          3,
          4,
          4,
          3,
          4,
          3,
          4,
          3,
          5,
          3,
          5,
          4,
          4,
          4,
          4,
          4,
          4,
          4,
          4,
          3,
          4,
          4,
          4,
          5,
          3,
          4,
          5,
          5,
          5,
          4,
          3,
          4,
          5,
          5,
          5,
          5,
          5,
          6,
          5,
          5,
          4,
          4
         ],
         "x0": " ",
         "xaxis": "x",
         "y": [
          6,
          9.2,
          18.25,
          12,
          12.25,
          13.5,
          16,
          13.75,
          14,
          13,
          6,
          22.5,
          16.75,
          12.4,
          13.2,
          11.5,
          19.6,
          12.6,
          13.25,
          13,
          11.2,
          18.75,
          10,
          9.666666666666666,
          11.2,
          12.2,
          17.8,
          20.5,
          16.5,
          12,
          11.6,
          19.6,
          20.75,
          14.8,
          16.4,
          12.4,
          18.8,
          18.4,
          13.2,
          13.8,
          15.75,
          25,
          16.6,
          16.8,
          12.4,
          15,
          23.8,
          17.2,
          15.4,
          12.333333333333334,
          15.8,
          21.25,
          16.25,
          15,
          18,
          14.333333333333334,
          22.333333333333332,
          17,
          16,
          18.666666666666668,
          13.333333333333334,
          14.333333333333334,
          13.333333333333334,
          14.666666666666666,
          12.666666666666666,
          14.333333333333334,
          25,
          16,
          8,
          18,
          9.666666666666666,
          10,
          13,
          15.666666666666666,
          12,
          16.333333333333332,
          26,
          18.5,
          29,
          16.5,
          16.25,
          17.666666666666668,
          16,
          18,
          17,
          27,
          13.25,
          16.333333333333332,
          18,
          24,
          14,
          28.333333333333332,
          11.6,
          22.5,
          19.5,
          16.25,
          17,
          14,
          21.75,
          19.75,
          16.5,
          22.333333333333332,
          17.25,
          29,
          20.5,
          12,
          20.333333333333332,
          16.25,
          22.4,
          16.4,
          16.4,
          12,
          39.333333333333336,
          21,
          15.4,
          18.8,
          16.2,
          24.8,
          18.2,
          16.166666666666668,
          18,
          15.6,
          22.5,
          18.75
         ],
         "y0": " ",
         "yaxis": "y"
        },
        {
         "alignmentgroup": "True",
         "hovertemplate": "year=2021<br>NAZWISKO=%{x}<br>faktury_per_osoba=%{y}<extra></extra>",
         "legendgroup": "",
         "marker": {
          "color": "#636efa"
         },
         "name": "",
         "notched": false,
         "offsetgroup": "",
         "orientation": "v",
         "showlegend": false,
         "type": "box",
         "x": [
          5,
          5,
          5,
          4,
          5,
          5,
          5,
          4,
          5,
          6,
          5,
          5,
          5,
          5,
          6,
          5,
          5,
          6,
          5,
          6,
          4,
          5,
          5,
          6,
          4,
          5,
          5,
          5,
          5,
          5,
          5,
          5,
          5,
          6,
          6,
          3,
          5,
          4,
          5,
          5,
          5,
          5,
          6,
          6,
          1,
          6,
          5,
          6,
          6,
          4,
          4,
          4,
          6,
          5,
          5,
          4,
          3,
          5,
          5,
          5,
          5,
          6,
          6,
          5,
          4,
          3,
          4,
          5,
          5,
          6,
          4,
          6,
          5,
          6,
          6,
          5,
          5,
          5,
          5,
          5,
          5,
          5,
          6,
          3,
          6,
          5,
          5,
          5,
          6,
          4,
          6,
          5,
          7,
          5,
          5,
          5,
          5,
          5,
          5,
          5,
          5,
          5,
          5,
          5,
          4,
          5,
          5,
          3,
          5,
          6,
          5,
          4,
          4,
          5,
          4,
          4,
          4,
          3,
          4,
          4,
          4,
          4,
          4,
          3,
          5,
          5
         ],
         "x0": " ",
         "xaxis": "x2",
         "y": [
          8.6,
          12.2,
          13.4,
          17.25,
          24,
          13.2,
          9.6,
          7.5,
          8.2,
          13,
          12.4,
          15.6,
          15.8,
          12.8,
          15.5,
          16.6,
          14.8,
          13,
          16.2,
          16.833333333333332,
          20,
          15.4,
          16.4,
          13.166666666666666,
          22.75,
          16.2,
          14.6,
          16,
          9.4,
          15.2,
          19.4,
          17.8,
          14,
          12.5,
          19.166666666666668,
          30.333333333333332,
          17,
          24.5,
          16.4,
          23.4,
          24.4,
          18,
          17.333333333333332,
          30.833333333333332,
          1,
          24,
          20.6,
          19.166666666666668,
          14.333333333333334,
          22.25,
          1.5,
          35,
          18.833333333333332,
          23.8,
          22.6,
          23,
          1.6666666666666667,
          30.6,
          26.4,
          24.4,
          29,
          14.166666666666666,
          18.333333333333332,
          16.6,
          14,
          14,
          16,
          14.2,
          18.6,
          13.833333333333334,
          28.25,
          16.666666666666668,
          16.4,
          12.5,
          11.166666666666666,
          25.8,
          21.8,
          19.6,
          19.6,
          15.2,
          26.8,
          18.2,
          15.333333333333334,
          22,
          11.833333333333334,
          15.4,
          18,
          17.4,
          12.5,
          24,
          12.5,
          17.4,
          9.142857142857142,
          18.2,
          22.2,
          17.8,
          18.4,
          15.8,
          16.2,
          24.6,
          18.6,
          15.8,
          15.6,
          25.2,
          26,
          17.4,
          12.6,
          8.333333333333334,
          23.8,
          13,
          23.6,
          18,
          13.25,
          17.6,
          24.75,
          17,
          24.5,
          17.333333333333332,
          20.75,
          17.25,
          20.75,
          17,
          10,
          34,
          17.2,
          16
         ],
         "y0": " ",
         "yaxis": "y2"
        },
        {
         "alignmentgroup": "True",
         "hovertemplate": "year=2022<br>NAZWISKO=%{x}<br>faktury_per_osoba=%{y}<extra></extra>",
         "legendgroup": "",
         "marker": {
          "color": "#636efa"
         },
         "name": "",
         "notched": false,
         "offsetgroup": "",
         "orientation": "v",
         "showlegend": false,
         "type": "box",
         "x": [
          5,
          4,
          5,
          4,
          4,
          4,
          4,
          3,
          4,
          4,
          5,
          5,
          5,
          5,
          5,
          5,
          5,
          5,
          5,
          5,
          5,
          5,
          4,
          4,
          4,
          4,
          3,
          3,
          4,
          4,
          4,
          5,
          4,
          5,
          5,
          5,
          5,
          4,
          5,
          5,
          5,
          4,
          5,
          5,
          5,
          5,
          5,
          3,
          4,
          4,
          4,
          4,
          4,
          5,
          5,
          5,
          5,
          4,
          5,
          5,
          4,
          5,
          4,
          5,
          5,
          5,
          5,
          4,
          5,
          5,
          4,
          4,
          3,
          5,
          5,
          4,
          5,
          5,
          5,
          5,
          2,
          2,
          5,
          5,
          5,
          5,
          4,
          4,
          4,
          4,
          4,
          4,
          4,
          4,
          4,
          5,
          4,
          5,
          5,
          5,
          4,
          4,
          3,
          4,
          3,
          5,
          4,
          5,
          4,
          5,
          4,
          5,
          5,
          2,
          3,
          3,
          3,
          3,
          3,
          3,
          3,
          3,
          3
         ],
         "x0": " ",
         "xaxis": "x3",
         "y": [
          9.6,
          9.75,
          10.6,
          24.25,
          21.25,
          15,
          11.25,
          21,
          19.75,
          21,
          13,
          15,
          12,
          17.4,
          12.2,
          16,
          12,
          12,
          20.8,
          13,
          14,
          16.4,
          12,
          21.25,
          22.5,
          18,
          19.666666666666668,
          22.666666666666668,
          26.5,
          18.75,
          19.75,
          14.6,
          15.25,
          20.2,
          15.8,
          18.2,
          11.4,
          13.75,
          17.2,
          17.8,
          13.2,
          20,
          12.6,
          19.8,
          24.4,
          16,
          16.6,
          24.333333333333332,
          27.75,
          22.25,
          24.75,
          26.75,
          20,
          28,
          24.6,
          21,
          18.8,
          26.75,
          33.4,
          22.6,
          24.25,
          16,
          27.75,
          30.2,
          26,
          19.4,
          20,
          22.25,
          23.2,
          14.8,
          13.75,
          12.25,
          27,
          14.8,
          14.6,
          23,
          21.8,
          15,
          19.2,
          16,
          33,
          19,
          19,
          11.8,
          7.2,
          14.4,
          24.75,
          20,
          15,
          18,
          25.5,
          21,
          17.75,
          19,
          16.5,
          21.4,
          21,
          13,
          13.8,
          10.8,
          25.25,
          21,
          24.666666666666668,
          15,
          15.333333333333334,
          20.8,
          19.5,
          12,
          20.5,
          18.8,
          21.25,
          17.6,
          11.4,
          11.5,
          34,
          23.666666666666668,
          24.666666666666668,
          19.666666666666668,
          18.333333333333332,
          26.333333333333332,
          30,
          20,
          24
         ],
         "y0": " ",
         "yaxis": "y3"
        }
       ],
       "layout": {
        "annotations": [
         {
          "font": {},
          "showarrow": false,
          "text": "year=2020",
          "x": 0.15999999999999998,
          "xanchor": "center",
          "xref": "paper",
          "y": 1,
          "yanchor": "bottom",
          "yref": "paper"
         },
         {
          "font": {},
          "showarrow": false,
          "text": "year=2021",
          "x": 0.49999999999999994,
          "xanchor": "center",
          "xref": "paper",
          "y": 1,
          "yanchor": "bottom",
          "yref": "paper"
         },
         {
          "font": {},
          "showarrow": false,
          "text": "year=2022",
          "x": 0.8399999999999999,
          "xanchor": "center",
          "xref": "paper",
          "y": 1,
          "yanchor": "bottom",
          "yref": "paper"
         }
        ],
        "autosize": true,
        "boxmode": "group",
        "legend": {
         "tracegroupgap": 0
        },
        "margin": {
         "t": 60
        },
        "template": {
         "data": {
          "bar": [
           {
            "error_x": {
             "color": "#2a3f5f"
            },
            "error_y": {
             "color": "#2a3f5f"
            },
            "marker": {
             "line": {
              "color": "#E5ECF6",
              "width": 0.5
             },
             "pattern": {
              "fillmode": "overlay",
              "size": 10,
              "solidity": 0.2
             }
            },
            "type": "bar"
           }
          ],
          "barpolar": [
           {
            "marker": {
             "line": {
              "color": "#E5ECF6",
              "width": 0.5
             },
             "pattern": {
              "fillmode": "overlay",
              "size": 10,
              "solidity": 0.2
             }
            },
            "type": "barpolar"
           }
          ],
          "carpet": [
           {
            "aaxis": {
             "endlinecolor": "#2a3f5f",
             "gridcolor": "white",
             "linecolor": "white",
             "minorgridcolor": "white",
             "startlinecolor": "#2a3f5f"
            },
            "baxis": {
             "endlinecolor": "#2a3f5f",
             "gridcolor": "white",
             "linecolor": "white",
             "minorgridcolor": "white",
             "startlinecolor": "#2a3f5f"
            },
            "type": "carpet"
           }
          ],
          "choropleth": [
           {
            "colorbar": {
             "outlinewidth": 0,
             "ticks": ""
            },
            "type": "choropleth"
           }
          ],
          "contour": [
           {
            "colorbar": {
             "outlinewidth": 0,
             "ticks": ""
            },
            "colorscale": [
             [
              0,
              "#0d0887"
             ],
             [
              0.1111111111111111,
              "#46039f"
             ],
             [
              0.2222222222222222,
              "#7201a8"
             ],
             [
              0.3333333333333333,
              "#9c179e"
             ],
             [
              0.4444444444444444,
              "#bd3786"
             ],
             [
              0.5555555555555556,
              "#d8576b"
             ],
             [
              0.6666666666666666,
              "#ed7953"
             ],
             [
              0.7777777777777778,
              "#fb9f3a"
             ],
             [
              0.8888888888888888,
              "#fdca26"
             ],
             [
              1,
              "#f0f921"
             ]
            ],
            "type": "contour"
           }
          ],
          "contourcarpet": [
           {
            "colorbar": {
             "outlinewidth": 0,
             "ticks": ""
            },
            "type": "contourcarpet"
           }
          ],
          "heatmap": [
           {
            "colorbar": {
             "outlinewidth": 0,
             "ticks": ""
            },
            "colorscale": [
             [
              0,
              "#0d0887"
             ],
             [
              0.1111111111111111,
              "#46039f"
             ],
             [
              0.2222222222222222,
              "#7201a8"
             ],
             [
              0.3333333333333333,
              "#9c179e"
             ],
             [
              0.4444444444444444,
              "#bd3786"
             ],
             [
              0.5555555555555556,
              "#d8576b"
             ],
             [
              0.6666666666666666,
              "#ed7953"
             ],
             [
              0.7777777777777778,
              "#fb9f3a"
             ],
             [
              0.8888888888888888,
              "#fdca26"
             ],
             [
              1,
              "#f0f921"
             ]
            ],
            "type": "heatmap"
           }
          ],
          "heatmapgl": [
           {
            "colorbar": {
             "outlinewidth": 0,
             "ticks": ""
            },
            "colorscale": [
             [
              0,
              "#0d0887"
             ],
             [
              0.1111111111111111,
              "#46039f"
             ],
             [
              0.2222222222222222,
              "#7201a8"
             ],
             [
              0.3333333333333333,
              "#9c179e"
             ],
             [
              0.4444444444444444,
              "#bd3786"
             ],
             [
              0.5555555555555556,
              "#d8576b"
             ],
             [
              0.6666666666666666,
              "#ed7953"
             ],
             [
              0.7777777777777778,
              "#fb9f3a"
             ],
             [
              0.8888888888888888,
              "#fdca26"
             ],
             [
              1,
              "#f0f921"
             ]
            ],
            "type": "heatmapgl"
           }
          ],
          "histogram": [
           {
            "marker": {
             "pattern": {
              "fillmode": "overlay",
              "size": 10,
              "solidity": 0.2
             }
            },
            "type": "histogram"
           }
          ],
          "histogram2d": [
           {
            "colorbar": {
             "outlinewidth": 0,
             "ticks": ""
            },
            "colorscale": [
             [
              0,
              "#0d0887"
             ],
             [
              0.1111111111111111,
              "#46039f"
             ],
             [
              0.2222222222222222,
              "#7201a8"
             ],
             [
              0.3333333333333333,
              "#9c179e"
             ],
             [
              0.4444444444444444,
              "#bd3786"
             ],
             [
              0.5555555555555556,
              "#d8576b"
             ],
             [
              0.6666666666666666,
              "#ed7953"
             ],
             [
              0.7777777777777778,
              "#fb9f3a"
             ],
             [
              0.8888888888888888,
              "#fdca26"
             ],
             [
              1,
              "#f0f921"
             ]
            ],
            "type": "histogram2d"
           }
          ],
          "histogram2dcontour": [
           {
            "colorbar": {
             "outlinewidth": 0,
             "ticks": ""
            },
            "colorscale": [
             [
              0,
              "#0d0887"
             ],
             [
              0.1111111111111111,
              "#46039f"
             ],
             [
              0.2222222222222222,
              "#7201a8"
             ],
             [
              0.3333333333333333,
              "#9c179e"
             ],
             [
              0.4444444444444444,
              "#bd3786"
             ],
             [
              0.5555555555555556,
              "#d8576b"
             ],
             [
              0.6666666666666666,
              "#ed7953"
             ],
             [
              0.7777777777777778,
              "#fb9f3a"
             ],
             [
              0.8888888888888888,
              "#fdca26"
             ],
             [
              1,
              "#f0f921"
             ]
            ],
            "type": "histogram2dcontour"
           }
          ],
          "mesh3d": [
           {
            "colorbar": {
             "outlinewidth": 0,
             "ticks": ""
            },
            "type": "mesh3d"
           }
          ],
          "parcoords": [
           {
            "line": {
             "colorbar": {
              "outlinewidth": 0,
              "ticks": ""
             }
            },
            "type": "parcoords"
           }
          ],
          "pie": [
           {
            "automargin": true,
            "type": "pie"
           }
          ],
          "scatter": [
           {
            "fillpattern": {
             "fillmode": "overlay",
             "size": 10,
             "solidity": 0.2
            },
            "type": "scatter"
           }
          ],
          "scatter3d": [
           {
            "line": {
             "colorbar": {
              "outlinewidth": 0,
              "ticks": ""
             }
            },
            "marker": {
             "colorbar": {
              "outlinewidth": 0,
              "ticks": ""
             }
            },
            "type": "scatter3d"
           }
          ],
          "scattercarpet": [
           {
            "marker": {
             "colorbar": {
              "outlinewidth": 0,
              "ticks": ""
             }
            },
            "type": "scattercarpet"
           }
          ],
          "scattergeo": [
           {
            "marker": {
             "colorbar": {
              "outlinewidth": 0,
              "ticks": ""
             }
            },
            "type": "scattergeo"
           }
          ],
          "scattergl": [
           {
            "marker": {
             "colorbar": {
              "outlinewidth": 0,
              "ticks": ""
             }
            },
            "type": "scattergl"
           }
          ],
          "scattermapbox": [
           {
            "marker": {
             "colorbar": {
              "outlinewidth": 0,
              "ticks": ""
             }
            },
            "type": "scattermapbox"
           }
          ],
          "scatterpolar": [
           {
            "marker": {
             "colorbar": {
              "outlinewidth": 0,
              "ticks": ""
             }
            },
            "type": "scatterpolar"
           }
          ],
          "scatterpolargl": [
           {
            "marker": {
             "colorbar": {
              "outlinewidth": 0,
              "ticks": ""
             }
            },
            "type": "scatterpolargl"
           }
          ],
          "scatterternary": [
           {
            "marker": {
             "colorbar": {
              "outlinewidth": 0,
              "ticks": ""
             }
            },
            "type": "scatterternary"
           }
          ],
          "surface": [
           {
            "colorbar": {
             "outlinewidth": 0,
             "ticks": ""
            },
            "colorscale": [
             [
              0,
              "#0d0887"
             ],
             [
              0.1111111111111111,
              "#46039f"
             ],
             [
              0.2222222222222222,
              "#7201a8"
             ],
             [
              0.3333333333333333,
              "#9c179e"
             ],
             [
              0.4444444444444444,
              "#bd3786"
             ],
             [
              0.5555555555555556,
              "#d8576b"
             ],
             [
              0.6666666666666666,
              "#ed7953"
             ],
             [
              0.7777777777777778,
              "#fb9f3a"
             ],
             [
              0.8888888888888888,
              "#fdca26"
             ],
             [
              1,
              "#f0f921"
             ]
            ],
            "type": "surface"
           }
          ],
          "table": [
           {
            "cells": {
             "fill": {
              "color": "#EBF0F8"
             },
             "line": {
              "color": "white"
             }
            },
            "header": {
             "fill": {
              "color": "#C8D4E3"
             },
             "line": {
              "color": "white"
             }
            },
            "type": "table"
           }
          ]
         },
         "layout": {
          "annotationdefaults": {
           "arrowcolor": "#2a3f5f",
           "arrowhead": 0,
           "arrowwidth": 1
          },
          "autotypenumbers": "strict",
          "coloraxis": {
           "colorbar": {
            "outlinewidth": 0,
            "ticks": ""
           }
          },
          "colorscale": {
           "diverging": [
            [
             0,
             "#8e0152"
            ],
            [
             0.1,
             "#c51b7d"
            ],
            [
             0.2,
             "#de77ae"
            ],
            [
             0.3,
             "#f1b6da"
            ],
            [
             0.4,
             "#fde0ef"
            ],
            [
             0.5,
             "#f7f7f7"
            ],
            [
             0.6,
             "#e6f5d0"
            ],
            [
             0.7,
             "#b8e186"
            ],
            [
             0.8,
             "#7fbc41"
            ],
            [
             0.9,
             "#4d9221"
            ],
            [
             1,
             "#276419"
            ]
           ],
           "sequential": [
            [
             0,
             "#0d0887"
            ],
            [
             0.1111111111111111,
             "#46039f"
            ],
            [
             0.2222222222222222,
             "#7201a8"
            ],
            [
             0.3333333333333333,
             "#9c179e"
            ],
            [
             0.4444444444444444,
             "#bd3786"
            ],
            [
             0.5555555555555556,
             "#d8576b"
            ],
            [
             0.6666666666666666,
             "#ed7953"
            ],
            [
             0.7777777777777778,
             "#fb9f3a"
            ],
            [
             0.8888888888888888,
             "#fdca26"
            ],
            [
             1,
             "#f0f921"
            ]
           ],
           "sequentialminus": [
            [
             0,
             "#0d0887"
            ],
            [
             0.1111111111111111,
             "#46039f"
            ],
            [
             0.2222222222222222,
             "#7201a8"
            ],
            [
             0.3333333333333333,
             "#9c179e"
            ],
            [
             0.4444444444444444,
             "#bd3786"
            ],
            [
             0.5555555555555556,
             "#d8576b"
            ],
            [
             0.6666666666666666,
             "#ed7953"
            ],
            [
             0.7777777777777778,
             "#fb9f3a"
            ],
            [
             0.8888888888888888,
             "#fdca26"
            ],
            [
             1,
             "#f0f921"
            ]
           ]
          },
          "colorway": [
           "#636efa",
           "#EF553B",
           "#00cc96",
           "#ab63fa",
           "#FFA15A",
           "#19d3f3",
           "#FF6692",
           "#B6E880",
           "#FF97FF",
           "#FECB52"
          ],
          "font": {
           "color": "#2a3f5f"
          },
          "geo": {
           "bgcolor": "white",
           "lakecolor": "white",
           "landcolor": "#E5ECF6",
           "showlakes": true,
           "showland": true,
           "subunitcolor": "white"
          },
          "hoverlabel": {
           "align": "left"
          },
          "hovermode": "closest",
          "mapbox": {
           "style": "light"
          },
          "paper_bgcolor": "white",
          "plot_bgcolor": "#E5ECF6",
          "polar": {
           "angularaxis": {
            "gridcolor": "white",
            "linecolor": "white",
            "ticks": ""
           },
           "bgcolor": "#E5ECF6",
           "radialaxis": {
            "gridcolor": "white",
            "linecolor": "white",
            "ticks": ""
           }
          },
          "scene": {
           "xaxis": {
            "backgroundcolor": "#E5ECF6",
            "gridcolor": "white",
            "gridwidth": 2,
            "linecolor": "white",
            "showbackground": true,
            "ticks": "",
            "zerolinecolor": "white"
           },
           "yaxis": {
            "backgroundcolor": "#E5ECF6",
            "gridcolor": "white",
            "gridwidth": 2,
            "linecolor": "white",
            "showbackground": true,
            "ticks": "",
            "zerolinecolor": "white"
           },
           "zaxis": {
            "backgroundcolor": "#E5ECF6",
            "gridcolor": "white",
            "gridwidth": 2,
            "linecolor": "white",
            "showbackground": true,
            "ticks": "",
            "zerolinecolor": "white"
           }
          },
          "shapedefaults": {
           "line": {
            "color": "#2a3f5f"
           }
          },
          "ternary": {
           "aaxis": {
            "gridcolor": "white",
            "linecolor": "white",
            "ticks": ""
           },
           "baxis": {
            "gridcolor": "white",
            "linecolor": "white",
            "ticks": ""
           },
           "bgcolor": "#E5ECF6",
           "caxis": {
            "gridcolor": "white",
            "linecolor": "white",
            "ticks": ""
           }
          },
          "title": {
           "x": 0.05
          },
          "xaxis": {
           "automargin": true,
           "gridcolor": "white",
           "linecolor": "white",
           "ticks": "",
           "title": {
            "standoff": 15
           },
           "zerolinecolor": "white",
           "zerolinewidth": 2
          },
          "yaxis": {
           "automargin": true,
           "gridcolor": "white",
           "linecolor": "white",
           "ticks": "",
           "title": {
            "standoff": 15
           },
           "zerolinecolor": "white",
           "zerolinewidth": 2
          }
         }
        },
        "xaxis": {
         "anchor": "y",
         "autorange": true,
         "domain": [
          0,
          0.31999999999999995
         ],
         "range": [
          0.4577600772387159,
          7.5
         ],
         "title": {
          "text": "NAZWISKO"
         },
         "type": "linear"
        },
        "xaxis2": {
         "anchor": "y2",
         "autorange": true,
         "domain": [
          0.33999999999999997,
          0.6599999999999999
         ],
         "matches": "x",
         "range": [
          0.4577600772387159,
          7.5
         ],
         "title": {
          "text": "NAZWISKO"
         },
         "type": "linear"
        },
        "xaxis3": {
         "anchor": "y3",
         "autorange": true,
         "domain": [
          0.6799999999999999,
          0.9999999999999999
         ],
         "matches": "x",
         "range": [
          0.4577600772387159,
          7.5
         ],
         "title": {
          "text": "NAZWISKO"
         },
         "type": "linear"
        },
        "yaxis": {
         "anchor": "x",
         "autorange": true,
         "domain": [
          0,
          1
         ],
         "range": [
          -1.1296296296296298,
          41.46296296296296
         ],
         "title": {
          "text": "faktury_per_osoba"
         },
         "type": "linear"
        },
        "yaxis2": {
         "anchor": "x2",
         "autorange": true,
         "domain": [
          0,
          1
         ],
         "matches": "y",
         "range": [
          -1.1296296296296298,
          41.46296296296296
         ],
         "showticklabels": false,
         "type": "linear"
        },
        "yaxis3": {
         "anchor": "x3",
         "autorange": true,
         "domain": [
          0,
          1
         ],
         "matches": "y",
         "range": [
          -1.1296296296296298,
          41.46296296296296
         ],
         "showticklabels": false,
         "type": "linear"
        }
       }
      },
      "image/png": "[encoded data removed]",
      "text/html": [
       "<div>                            <div id=\"bafb0d2f-ef0b-4b1c-8293-26d4d867eebe\" class=\"plotly-graph-div\" style=\"height:525px; width:100%;\"></div>            <script type=\"text/javascript\">                require([\"plotly\"], function(Plotly) {                    window.PLOTLYENV=window.PLOTLYENV || {};                                    if (document.getElementById(\"bafb0d2f-ef0b-4b1c-8293-26d4d867eebe\")) {                    Plotly.newPlot(                        \"bafb0d2f-ef0b-4b1c-8293-26d4d867eebe\",                        [{\"alignmentgroup\":\"True\",\"hovertemplate\":\"year=2020<br>NAZWISKO=%{x}<br>faktury_per_osoba=%{y}<extra></extra>\",\"legendgroup\":\"\",\"marker\":{\"color\":\"#636efa\"},\"name\":\"\",\"notched\":false,\"offsetgroup\":\"\",\"orientation\":\"v\",\"showlegend\":false,\"x\":[5,5,4,4,4,4,6,4,4,4,4,4,4,5,5,4,5,5,4,4,5,4,5,6,5,5,5,4,4,5,5,5,4,5,5,5,5,5,5,5,4,4,5,5,5,5,5,5,5,6,5,4,4,3,3,3,3,3,3,3,3,3,3,3,3,3,2,2,3,1,3,3,2,3,3,3,2,2,2,4,4,3,3,4,4,3,4,3,4,3,5,3,5,4,4,4,4,4,4,4,4,3,4,4,4,5,3,4,5,5,5,4,3,4,5,5,5,5,5,6,5,5,4,4],\"x0\":\" \",\"xaxis\":\"x\",\"y\":[6.0,9.2,18.25,12.0,12.25,13.5,16.0,13.75,14.0,13.0,6.0,22.5,16.75,12.4,13.2,11.5,19.6,12.6,13.25,13.0,11.2,18.75,10.0,9.666666666666666,11.2,12.2,17.8,20.5,16.5,12.0,11.6,19.6,20.75,14.8,16.4,12.4,18.8,18.4,13.2,13.8,15.75,25.0,16.6,16.8,12.4,15.0,23.8,17.2,15.4,12.333333333333334,15.8,21.25,16.25,15.0,18.0,14.333333333333334,22.333333333333332,17.0,16.0,18.666666666666668,13.333333333333334,14.333333333333334,13.333333333333334,14.666666666666666,12.666666666666666,14.333333333333334,25.0,16.0,8.0,18.0,9.666666666666666,10.0,13.0,15.666666666666666,12.0,16.333333333333332,26.0,18.5,29.0,16.5,16.25,17.666666666666668,16.0,18.0,17.0,27.0,13.25,16.333333333333332,18.0,24.0,14.0,28.333333333333332,11.6,22.5,19.5,16.25,17.0,14.0,21.75,19.75,16.5,22.333333333333332,17.25,29.0,20.5,12.0,20.333333333333332,16.25,22.4,16.4,16.4,12.0,39.333333333333336,21.0,15.4,18.8,16.2,24.8,18.2,16.166666666666668,18.0,15.6,22.5,18.75],\"y0\":\" \",\"yaxis\":\"y\",\"type\":\"box\"},{\"alignmentgroup\":\"True\",\"hovertemplate\":\"year=2021<br>NAZWISKO=%{x}<br>faktury_per_osoba=%{y}<extra></extra>\",\"legendgroup\":\"\",\"marker\":{\"color\":\"#636efa\"},\"name\":\"\",\"notched\":false,\"offsetgroup\":\"\",\"orientation\":\"v\",\"showlegend\":false,\"x\":[5,5,5,4,5,5,5,4,5,6,5,5,5,5,6,5,5,6,5,6,4,5,5,6,4,5,5,5,5,5,5,5,5,6,6,3,5,4,5,5,5,5,6,6,1,6,5,6,6,4,4,4,6,5,5,4,3,5,5,5,5,6,6,5,4,3,4,5,5,6,4,6,5,6,6,5,5,5,5,5,5,5,6,3,6,5,5,5,6,4,6,5,7,5,5,5,5,5,5,5,5,5,5,5,4,5,5,3,5,6,5,4,4,5,4,4,4,3,4,4,4,4,4,3,5,5],\"x0\":\" \",\"xaxis\":\"x2\",\"y\":[8.6,12.2,13.4,17.25,24.0,13.2,9.6,7.5,8.2,13.0,12.4,15.6,15.8,12.8,15.5,16.6,14.8,13.0,16.2,16.833333333333332,20.0,15.4,16.4,13.166666666666666,22.75,16.2,14.6,16.0,9.4,15.2,19.4,17.8,14.0,12.5,19.166666666666668,30.333333333333332,17.0,24.5,16.4,23.4,24.4,18.0,17.333333333333332,30.833333333333332,1.0,24.0,20.6,19.166666666666668,14.333333333333334,22.25,1.5,35.0,18.833333333333332,23.8,22.6,23.0,1.6666666666666667,30.6,26.4,24.4,29.0,14.166666666666666,18.333333333333332,16.6,14.0,14.0,16.0,14.2,18.6,13.833333333333334,28.25,16.666666666666668,16.4,12.5,11.166666666666666,25.8,21.8,19.6,19.6,15.2,26.8,18.2,15.333333333333334,22.0,11.833333333333334,15.4,18.0,17.4,12.5,24.0,12.5,17.4,9.142857142857142,18.2,22.2,17.8,18.4,15.8,16.2,24.6,18.6,15.8,15.6,25.2,26.0,17.4,12.6,8.333333333333334,23.8,13.0,23.6,18.0,13.25,17.6,24.75,17.0,24.5,17.333333333333332,20.75,17.25,20.75,17.0,10.0,34.0,17.2,16.0],\"y0\":\" \",\"yaxis\":\"y2\",\"type\":\"box\"},{\"alignmentgroup\":\"True\",\"hovertemplate\":\"year=2022<br>NAZWISKO=%{x}<br>faktury_per_osoba=%{y}<extra></extra>\",\"legendgroup\":\"\",\"marker\":{\"color\":\"#636efa\"},\"name\":\"\",\"notched\":false,\"offsetgroup\":\"\",\"orientation\":\"v\",\"showlegend\":false,\"x\":[5,4,5,4,4,4,4,3,4,4,5,5,5,5,5,5,5,5,5,5,5,5,4,4,4,4,3,3,4,4,4,5,4,5,5,5,5,4,5,5,5,4,5,5,5,5,5,3,4,4,4,4,4,5,5,5,5,4,5,5,4,5,4,5,5,5,5,4,5,5,4,4,3,5,5,4,5,5,5,5,2,2,5,5,5,5,4,4,4,4,4,4,4,4,4,5,4,5,5,5,4,4,3,4,3,5,4,5,4,5,4,5,5,2,3,3,3,3,3,3,3,3,3],\"x0\":\" \",\"xaxis\":\"x3\",\"y\":[9.6,9.75,10.6,24.25,21.25,15.0,11.25,21.0,19.75,21.0,13.0,15.0,12.0,17.4,12.2,16.0,12.0,12.0,20.8,13.0,14.0,16.4,12.0,21.25,22.5,18.0,19.666666666666668,22.666666666666668,26.5,18.75,19.75,14.6,15.25,20.2,15.8,18.2,11.4,13.75,17.2,17.8,13.2,20.0,12.6,19.8,24.4,16.0,16.6,24.333333333333332,27.75,22.25,24.75,26.75,20.0,28.0,24.6,21.0,18.8,26.75,33.4,22.6,24.25,16.0,27.75,30.2,26.0,19.4,20.0,22.25,23.2,14.8,13.75,12.25,27.0,14.8,14.6,23.0,21.8,15.0,19.2,16.0,33.0,19.0,19.0,11.8,7.2,14.4,24.75,20.0,15.0,18.0,25.5,21.0,17.75,19.0,16.5,21.4,21.0,13.0,13.8,10.8,25.25,21.0,24.666666666666668,15.0,15.333333333333334,20.8,19.5,12.0,20.5,18.8,21.25,17.6,11.4,11.5,34.0,23.666666666666668,24.666666666666668,19.666666666666668,18.333333333333332,26.333333333333332,30.0,20.0,24.0],\"y0\":\" \",\"yaxis\":\"y3\",\"type\":\"box\"}],                        {\"template\":{\"data\":{\"histogram2dcontour\":[{\"type\":\"histogram2dcontour\",\"colorbar\":{\"outlinewidth\":0,\"ticks\":\"\"},\"colorscale\":[[0.0,\"#0d0887\"],[0.1111111111111111,\"#46039f\"],[0.2222222222222222,\"#7201a8\"],[0.3333333333333333,\"#9c179e\"],[0.4444444444444444,\"#bd3786\"],[0.5555555555555556,\"#d8576b\"],[0.6666666666666666,\"#ed7953\"],[0.7777777777777778,\"#fb9f3a\"],[0.8888888888888888,\"#fdca26\"],[1.0,\"#f0f921\"]]}],\"choropleth\":[{\"type\":\"choropleth\",\"colorbar\":{\"outlinewidth\":0,\"ticks\":\"\"}}],\"histogram2d\":[{\"type\":\"histogram2d\",\"colorbar\":{\"outlinewidth\":0,\"ticks\":\"\"},\"colorscale\":[[0.0,\"#0d0887\"],[0.1111111111111111,\"#46039f\"],[0.2222222222222222,\"#7201a8\"],[0.3333333333333333,\"#9c179e\"],[0.4444444444444444,\"#bd3786\"],[0.5555555555555556,\"#d8576b\"],[0.6666666666666666,\"#ed7953\"],[0.7777777777777778,\"#fb9f3a\"],[0.8888888888888888,\"#fdca26\"],[1.0,\"#f0f921\"]]}],\"heatmap\":[{\"type\":\"heatmap\",\"colorbar\":{\"outlinewidth\":0,\"ticks\":\"\"},\"colorscale\":[[0.0,\"#0d0887\"],[0.1111111111111111,\"#46039f\"],[0.2222222222222222,\"#7201a8\"],[0.3333333333333333,\"#9c179e\"],[0.4444444444444444,\"#bd3786\"],[0.5555555555555556,\"#d8576b\"],[0.6666666666666666,\"#ed7953\"],[0.7777777777777778,\"#fb9f3a\"],[0.8888888888888888,\"#fdca26\"],[1.0,\"#f0f921\"]]}],\"heatmapgl\":[{\"type\":\"heatmapgl\",\"colorbar\":{\"outlinewidth\":0,\"ticks\":\"\"},\"colorscale\":[[0.0,\"#0d0887\"],[0.1111111111111111,\"#46039f\"],[0.2222222222222222,\"#7201a8\"],[0.3333333333333333,\"#9c179e\"],[0.4444444444444444,\"#bd3786\"],[0.5555555555555556,\"#d8576b\"],[0.6666666666666666,\"#ed7953\"],[0.7777777777777778,\"#fb9f3a\"],[0.8888888888888888,\"#fdca26\"],[1.0,\"#f0f921\"]]}],\"contourcarpet\":[{\"type\":\"contourcarpet\",\"colorbar\":{\"outlinewidth\":0,\"ticks\":\"\"}}],\"contour\":[{\"type\":\"contour\",\"colorbar\":{\"outlinewidth\":0,\"ticks\":\"\"},\"colorscale\":[[0.0,\"#0d0887\"],[0.1111111111111111,\"#46039f\"],[0.2222222222222222,\"#7201a8\"],[0.3333333333333333,\"#9c179e\"],[0.4444444444444444,\"#bd3786\"],[0.5555555555555556,\"#d8576b\"],[0.6666666666666666,\"#ed7953\"],[0.7777777777777778,\"#fb9f3a\"],[0.8888888888888888,\"#fdca26\"],[1.0,\"#f0f921\"]]}],\"surface\":[{\"type\":\"surface\",\"colorbar\":{\"outlinewidth\":0,\"ticks\":\"\"},\"colorscale\":[[0.0,\"#0d0887\"],[0.1111111111111111,\"#46039f\"],[0.2222222222222222,\"#7201a8\"],[0.3333333333333333,\"#9c179e\"],[0.4444444444444444,\"#bd3786\"],[0.5555555555555556,\"#d8576b\"],[0.6666666666666666,\"#ed7953\"],[0.7777777777777778,\"#fb9f3a\"],[0.8888888888888888,\"#fdca26\"],[1.0,\"#f0f921\"]]}],\"mesh3d\":[{\"type\":\"mesh3d\",\"colorbar\":{\"outlinewidth\":0,\"ticks\":\"\"}}],\"scatter\":[{\"fillpattern\":{\"fillmode\":\"overlay\",\"size\":10,\"solidity\":0.2},\"type\":\"scatter\"}],\"parcoords\":[{\"type\":\"parcoords\",\"line\":{\"colorbar\":{\"outlinewidth\":0,\"ticks\":\"\"}}}],\"scatterpolargl\":[{\"type\":\"scatterpolargl\",\"marker\":{\"colorbar\":{\"outlinewidth\":0,\"ticks\":\"\"}}}],\"bar\":[{\"error_x\":{\"color\":\"#2a3f5f\"},\"error_y\":{\"color\":\"#2a3f5f\"},\"marker\":{\"line\":{\"color\":\"#E5ECF6\",\"width\":0.5},\"pattern\":{\"fillmode\":\"overlay\",\"size\":10,\"solidity\":0.2}},\"type\":\"bar\"}],\"scattergeo\":[{\"type\":\"scattergeo\",\"marker\":{\"colorbar\":{\"outlinewidth\":0,\"ticks\":\"\"}}}],\"scatterpolar\":[{\"type\":\"scatterpolar\",\"marker\":{\"colorbar\":{\"outlinewidth\":0,\"ticks\":\"\"}}}],\"histogram\":[{\"marker\":{\"pattern\":{\"fillmode\":\"overlay\",\"size\":10,\"solidity\":0.2}},\"type\":\"histogram\"}],\"scattergl\":[{\"type\":\"scattergl\",\"marker\":{\"colorbar\":{\"outlinewidth\":0,\"ticks\":\"\"}}}],\"scatter3d\":[{\"type\":\"scatter3d\",\"line\":{\"colorbar\":{\"outlinewidth\":0,\"ticks\":\"\"}},\"marker\":{\"colorbar\":{\"outlinewidth\":0,\"ticks\":\"\"}}}],\"scattermapbox\":[{\"type\":\"scattermapbox\",\"marker\":{\"colorbar\":{\"outlinewidth\":0,\"ticks\":\"\"}}}],\"scatterternary\":[{\"type\":\"scatterternary\",\"marker\":{\"colorbar\":{\"outlinewidth\":0,\"ticks\":\"\"}}}],\"scattercarpet\":[{\"type\":\"scattercarpet\",\"marker\":{\"colorbar\":{\"outlinewidth\":0,\"ticks\":\"\"}}}],\"carpet\":[{\"aaxis\":{\"endlinecolor\":\"#2a3f5f\",\"gridcolor\":\"white\",\"linecolor\":\"white\",\"minorgridcolor\":\"white\",\"startlinecolor\":\"#2a3f5f\"},\"baxis\":{\"endlinecolor\":\"#2a3f5f\",\"gridcolor\":\"white\",\"linecolor\":\"white\",\"minorgridcolor\":\"white\",\"startlinecolor\":\"#2a3f5f\"},\"type\":\"carpet\"}],\"table\":[{\"cells\":{\"fill\":{\"color\":\"#EBF0F8\"},\"line\":{\"color\":\"white\"}},\"header\":{\"fill\":{\"color\":\"#C8D4E3\"},\"line\":{\"color\":\"white\"}},\"type\":\"table\"}],\"barpolar\":[{\"marker\":{\"line\":{\"color\":\"#E5ECF6\",\"width\":0.5},\"pattern\":{\"fillmode\":\"overlay\",\"size\":10,\"solidity\":0.2}},\"type\":\"barpolar\"}],\"pie\":[{\"automargin\":true,\"type\":\"pie\"}]},\"layout\":{\"autotypenumbers\":\"strict\",\"colorway\":[\"#636efa\",\"#EF553B\",\"#00cc96\",\"#ab63fa\",\"#FFA15A\",\"#19d3f3\",\"#FF6692\",\"#B6E880\",\"#FF97FF\",\"#FECB52\"],\"font\":{\"color\":\"#2a3f5f\"},\"hovermode\":\"closest\",\"hoverlabel\":{\"align\":\"left\"},\"paper_bgcolor\":\"white\",\"plot_bgcolor\":\"#E5ECF6\",\"polar\":{\"bgcolor\":\"#E5ECF6\",\"angularaxis\":{\"gridcolor\":\"white\",\"linecolor\":\"white\",\"ticks\":\"\"},\"radialaxis\":{\"gridcolor\":\"white\",\"linecolor\":\"white\",\"ticks\":\"\"}},\"ternary\":{\"bgcolor\":\"#E5ECF6\",\"aaxis\":{\"gridcolor\":\"white\",\"linecolor\":\"white\",\"ticks\":\"\"},\"baxis\":{\"gridcolor\":\"white\",\"linecolor\":\"white\",\"ticks\":\"\"},\"caxis\":{\"gridcolor\":\"white\",\"linecolor\":\"white\",\"ticks\":\"\"}},\"coloraxis\":{\"colorbar\":{\"outlinewidth\":0,\"ticks\":\"\"}},\"colorscale\":{\"sequential\":[[0.0,\"#0d0887\"],[0.1111111111111111,\"#46039f\"],[0.2222222222222222,\"#7201a8\"],[0.3333333333333333,\"#9c179e\"],[0.4444444444444444,\"#bd3786\"],[0.5555555555555556,\"#d8576b\"],[0.6666666666666666,\"#ed7953\"],[0.7777777777777778,\"#fb9f3a\"],[0.8888888888888888,\"#fdca26\"],[1.0,\"#f0f921\"]],\"sequentialminus\":[[0.0,\"#0d0887\"],[0.1111111111111111,\"#46039f\"],[0.2222222222222222,\"#7201a8\"],[0.3333333333333333,\"#9c179e\"],[0.4444444444444444,\"#bd3786\"],[0.5555555555555556,\"#d8576b\"],[0.6666666666666666,\"#ed7953\"],[0.7777777777777778,\"#fb9f3a\"],[0.8888888888888888,\"#fdca26\"],[1.0,\"#f0f921\"]],\"diverging\":[[0,\"#8e0152\"],[0.1,\"#c51b7d\"],[0.2,\"#de77ae\"],[0.3,\"#f1b6da\"],[0.4,\"#fde0ef\"],[0.5,\"#f7f7f7\"],[0.6,\"#e6f5d0\"],[0.7,\"#b8e186\"],[0.8,\"#7fbc41\"],[0.9,\"#4d9221\"],[1,\"#276419\"]]},\"xaxis\":{\"gridcolor\":\"white\",\"linecolor\":\"white\",\"ticks\":\"\",\"title\":{\"standoff\":15},\"zerolinecolor\":\"white\",\"automargin\":true,\"zerolinewidth\":2},\"yaxis\":{\"gridcolor\":\"white\",\"linecolor\":\"white\",\"ticks\":\"\",\"title\":{\"standoff\":15},\"zerolinecolor\":\"white\",\"automargin\":true,\"zerolinewidth\":2},\"scene\":{\"xaxis\":{\"backgroundcolor\":\"#E5ECF6\",\"gridcolor\":\"white\",\"linecolor\":\"white\",\"showbackground\":true,\"ticks\":\"\",\"zerolinecolor\":\"white\",\"gridwidth\":2},\"yaxis\":{\"backgroundcolor\":\"#E5ECF6\",\"gridcolor\":\"white\",\"linecolor\":\"white\",\"showbackground\":true,\"ticks\":\"\",\"zerolinecolor\":\"white\",\"gridwidth\":2},\"zaxis\":{\"backgroundcolor\":\"#E5ECF6\",\"gridcolor\":\"white\",\"linecolor\":\"white\",\"showbackground\":true,\"ticks\":\"\",\"zerolinecolor\":\"white\",\"gridwidth\":2}},\"shapedefaults\":{\"line\":{\"color\":\"#2a3f5f\"}},\"annotationdefaults\":{\"arrowcolor\":\"#2a3f5f\",\"arrowhead\":0,\"arrowwidth\":1},\"geo\":{\"bgcolor\":\"white\",\"landcolor\":\"#E5ECF6\",\"subunitcolor\":\"white\",\"showland\":true,\"showlakes\":true,\"lakecolor\":\"white\"},\"title\":{\"x\":0.05},\"mapbox\":{\"style\":\"light\"}}},\"xaxis\":{\"anchor\":\"y\",\"domain\":[0.0,0.31999999999999995],\"title\":{\"text\":\"NAZWISKO\"}},\"yaxis\":{\"anchor\":\"x\",\"domain\":[0.0,1.0],\"title\":{\"text\":\"faktury_per_osoba\"}},\"xaxis2\":{\"anchor\":\"y2\",\"domain\":[0.33999999999999997,0.6599999999999999],\"matches\":\"x\",\"title\":{\"text\":\"NAZWISKO\"}},\"yaxis2\":{\"anchor\":\"x2\",\"domain\":[0.0,1.0],\"matches\":\"y\",\"showticklabels\":false},\"xaxis3\":{\"anchor\":\"y3\",\"domain\":[0.6799999999999999,0.9999999999999999],\"matches\":\"x\",\"title\":{\"text\":\"NAZWISKO\"}},\"yaxis3\":{\"anchor\":\"x3\",\"domain\":[0.0,1.0],\"matches\":\"y\",\"showticklabels\":false},\"annotations\":[{\"font\":{},\"showarrow\":false,\"text\":\"year=2020\",\"x\":0.15999999999999998,\"xanchor\":\"center\",\"xref\":\"paper\",\"y\":1.0,\"yanchor\":\"bottom\",\"yref\":\"paper\"},{\"font\":{},\"showarrow\":false,\"text\":\"year=2021\",\"x\":0.49999999999999994,\"xanchor\":\"center\",\"xref\":\"paper\",\"y\":1.0,\"yanchor\":\"bottom\",\"yref\":\"paper\"},{\"font\":{},\"showarrow\":false,\"text\":\"year=2022\",\"x\":0.8399999999999999,\"xanchor\":\"center\",\"xref\":\"paper\",\"y\":1.0,\"yanchor\":\"bottom\",\"yref\":\"paper\"}],\"legend\":{\"tracegroupgap\":0},\"margin\":{\"t\":60},\"boxmode\":\"group\"},                        {\"responsive\": true}                    ).then(function(){\n",
       "                            \n",
       "var gd = document.getElementById('bafb0d2f-ef0b-4b1c-8293-26d4d867eebe');\n",
       "var x = new MutationObserver(function (mutations, observer) {{\n",
       "        var display = window.getComputedStyle(gd).display;\n",
       "        if (!display || display === 'none') {{\n",
       "            console.log([gd, 'removed!']);\n",
       "            Plotly.purge(gd);\n",
       "            observer.disconnect();\n",
       "        }}\n",
       "}});\n",
       "\n",
       "// Listen for the removal of the full notebook cells\n",
       "var notebookContainer = gd.closest('#notebook-container');\n",
       "if (notebookContainer) {{\n",
       "    x.observe(notebookContainer, {childList: true});\n",
       "}}\n",
       "\n",
       "// Listen for the clearing of the current output cell\n",
       "var outputEl = gd.closest('.output');\n",
       "if (outputEl) {{\n",
       "    x.observe(outputEl, {childList: true});\n",
       "}}\n",
       "\n",
       "                        })                };                });            </script>        </div>"
      ]
     },
     "metadata": {},
     "output_type": "display_data"
    },
    {
     "data": {
      "text/html": [
       "<div>\n",
       "<style scoped>\n",
       "    .dataframe tbody tr th:only-of-type {\n",
       "        vertical-align: middle;\n",
       "    }\n",
       "\n",
       "    .dataframe tbody tr th {\n",
       "        vertical-align: top;\n",
       "    }\n",
       "\n",
       "    .dataframe thead th {\n",
       "        text-align: right;\n",
       "    }\n",
       "</style>\n",
       "<table border=\"1\" class=\"dataframe\">\n",
       "  <thead>\n",
       "    <tr style=\"text-align: right;\">\n",
       "      <th></th>\n",
       "      <th></th>\n",
       "      <th>FAKTURA</th>\n",
       "      <th>faktury_per_osoba</th>\n",
       "    </tr>\n",
       "    <tr>\n",
       "      <th>year</th>\n",
       "      <th>NAZWISKO</th>\n",
       "      <th></th>\n",
       "      <th></th>\n",
       "    </tr>\n",
       "  </thead>\n",
       "  <tbody>\n",
       "    <tr>\n",
       "      <th rowspan=\"6\" valign=\"top\">2020</th>\n",
       "      <th>1</th>\n",
       "      <td>18.0</td>\n",
       "      <td>18.000000</td>\n",
       "    </tr>\n",
       "    <tr>\n",
       "      <th>2</th>\n",
       "      <td>43.5</td>\n",
       "      <td>21.750000</td>\n",
       "    </tr>\n",
       "    <tr>\n",
       "      <th>3</th>\n",
       "      <td>48.0</td>\n",
       "      <td>16.000000</td>\n",
       "    </tr>\n",
       "    <tr>\n",
       "      <th>4</th>\n",
       "      <td>67.0</td>\n",
       "      <td>16.750000</td>\n",
       "    </tr>\n",
       "    <tr>\n",
       "      <th>5</th>\n",
       "      <td>77.0</td>\n",
       "      <td>15.400000</td>\n",
       "    </tr>\n",
       "    <tr>\n",
       "      <th>6</th>\n",
       "      <td>85.0</td>\n",
       "      <td>14.166667</td>\n",
       "    </tr>\n",
       "    <tr>\n",
       "      <th rowspan=\"6\" valign=\"top\">2021</th>\n",
       "      <th>1</th>\n",
       "      <td>1.0</td>\n",
       "      <td>1.000000</td>\n",
       "    </tr>\n",
       "    <tr>\n",
       "      <th>3</th>\n",
       "      <td>52.0</td>\n",
       "      <td>17.333333</td>\n",
       "    </tr>\n",
       "    <tr>\n",
       "      <th>4</th>\n",
       "      <td>81.5</td>\n",
       "      <td>20.375000</td>\n",
       "    </tr>\n",
       "    <tr>\n",
       "      <th>5</th>\n",
       "      <td>86.0</td>\n",
       "      <td>17.200000</td>\n",
       "    </tr>\n",
       "    <tr>\n",
       "      <th>6</th>\n",
       "      <td>85.5</td>\n",
       "      <td>14.250000</td>\n",
       "    </tr>\n",
       "    <tr>\n",
       "      <th>7</th>\n",
       "      <td>64.0</td>\n",
       "      <td>9.142857</td>\n",
       "    </tr>\n",
       "    <tr>\n",
       "      <th rowspan=\"4\" valign=\"top\">2022</th>\n",
       "      <th>2</th>\n",
       "      <td>38.0</td>\n",
       "      <td>19.000000</td>\n",
       "    </tr>\n",
       "    <tr>\n",
       "      <th>3</th>\n",
       "      <td>71.5</td>\n",
       "      <td>23.833333</td>\n",
       "    </tr>\n",
       "    <tr>\n",
       "      <th>4</th>\n",
       "      <td>82.0</td>\n",
       "      <td>20.500000</td>\n",
       "    </tr>\n",
       "    <tr>\n",
       "      <th>5</th>\n",
       "      <td>80.0</td>\n",
       "      <td>16.000000</td>\n",
       "    </tr>\n",
       "  </tbody>\n",
       "</table>\n",
       "</div>"
      ],
      "text/plain": [
       "               FAKTURA  faktury_per_osoba\n",
       "year NAZWISKO                            \n",
       "2020 1            18.0          18.000000\n",
       "     2            43.5          21.750000\n",
       "     3            48.0          16.000000\n",
       "     4            67.0          16.750000\n",
       "     5            77.0          15.400000\n",
       "     6            85.0          14.166667\n",
       "2021 1             1.0           1.000000\n",
       "     3            52.0          17.333333\n",
       "     4            81.5          20.375000\n",
       "     5            86.0          17.200000\n",
       "     6            85.5          14.250000\n",
       "     7            64.0           9.142857\n",
       "2022 2            38.0          19.000000\n",
       "     3            71.5          23.833333\n",
       "     4            82.0          20.500000\n",
       "     5            80.0          16.000000"
      ]
     },
     "metadata": {},
     "output_type": "display_data"
    },
    {
     "data": {
      "text/html": [
       "<div>\n",
       "<style scoped>\n",
       "    .dataframe tbody tr th:only-of-type {\n",
       "        vertical-align: middle;\n",
       "    }\n",
       "\n",
       "    .dataframe tbody tr th {\n",
       "        vertical-align: top;\n",
       "    }\n",
       "\n",
       "    .dataframe thead tr th {\n",
       "        text-align: left;\n",
       "    }\n",
       "\n",
       "    .dataframe thead tr:last-of-type th {\n",
       "        text-align: right;\n",
       "    }\n",
       "</style>\n",
       "<table border=\"1\" class=\"dataframe\">\n",
       "  <thead>\n",
       "    <tr>\n",
       "      <th></th>\n",
       "      <th colspan=\"3\" halign=\"left\">FAKTURA</th>\n",
       "      <th colspan=\"3\" halign=\"left\">faktury_per_osoba</th>\n",
       "    </tr>\n",
       "    <tr>\n",
       "      <th>year</th>\n",
       "      <th>2020</th>\n",
       "      <th>2021</th>\n",
       "      <th>2022</th>\n",
       "      <th>2020</th>\n",
       "      <th>2021</th>\n",
       "      <th>2022</th>\n",
       "    </tr>\n",
       "    <tr>\n",
       "      <th>NAZWISKO</th>\n",
       "      <th></th>\n",
       "      <th></th>\n",
       "      <th></th>\n",
       "      <th></th>\n",
       "      <th></th>\n",
       "      <th></th>\n",
       "    </tr>\n",
       "  </thead>\n",
       "  <tbody>\n",
       "    <tr>\n",
       "      <th>1</th>\n",
       "      <td>18.0</td>\n",
       "      <td>1.0</td>\n",
       "      <td>NaN</td>\n",
       "      <td>18.000000</td>\n",
       "      <td>1.000000</td>\n",
       "      <td>NaN</td>\n",
       "    </tr>\n",
       "    <tr>\n",
       "      <th>2</th>\n",
       "      <td>43.5</td>\n",
       "      <td>NaN</td>\n",
       "      <td>38.0</td>\n",
       "      <td>21.750000</td>\n",
       "      <td>NaN</td>\n",
       "      <td>19.000000</td>\n",
       "    </tr>\n",
       "    <tr>\n",
       "      <th>3</th>\n",
       "      <td>48.0</td>\n",
       "      <td>52.0</td>\n",
       "      <td>71.5</td>\n",
       "      <td>16.000000</td>\n",
       "      <td>17.333333</td>\n",
       "      <td>23.833333</td>\n",
       "    </tr>\n",
       "    <tr>\n",
       "      <th>4</th>\n",
       "      <td>67.0</td>\n",
       "      <td>81.5</td>\n",
       "      <td>82.0</td>\n",
       "      <td>16.750000</td>\n",
       "      <td>20.375000</td>\n",
       "      <td>20.500000</td>\n",
       "    </tr>\n",
       "    <tr>\n",
       "      <th>5</th>\n",
       "      <td>77.0</td>\n",
       "      <td>86.0</td>\n",
       "      <td>80.0</td>\n",
       "      <td>15.400000</td>\n",
       "      <td>17.200000</td>\n",
       "      <td>16.000000</td>\n",
       "    </tr>\n",
       "    <tr>\n",
       "      <th>6</th>\n",
       "      <td>85.0</td>\n",
       "      <td>85.5</td>\n",
       "      <td>NaN</td>\n",
       "      <td>14.166667</td>\n",
       "      <td>14.250000</td>\n",
       "      <td>NaN</td>\n",
       "    </tr>\n",
       "    <tr>\n",
       "      <th>7</th>\n",
       "      <td>NaN</td>\n",
       "      <td>64.0</td>\n",
       "      <td>NaN</td>\n",
       "      <td>NaN</td>\n",
       "      <td>9.142857</td>\n",
       "      <td>NaN</td>\n",
       "    </tr>\n",
       "  </tbody>\n",
       "</table>\n",
       "</div>"
      ],
      "text/plain": [
       "         FAKTURA             faktury_per_osoba                      \n",
       "year        2020  2021  2022              2020       2021       2022\n",
       "NAZWISKO                                                            \n",
       "1           18.0   1.0   NaN         18.000000   1.000000        NaN\n",
       "2           43.5   NaN  38.0         21.750000        NaN  19.000000\n",
       "3           48.0  52.0  71.5         16.000000  17.333333  23.833333\n",
       "4           67.0  81.5  82.0         16.750000  20.375000  20.500000\n",
       "5           77.0  86.0  80.0         15.400000  17.200000  16.000000\n",
       "6           85.0  85.5   NaN         14.166667  14.250000        NaN\n",
       "7            NaN  64.0   NaN               NaN   9.142857        NaN"
      ]
     },
     "metadata": {},
     "output_type": "display_data"
    }
   ],
   "source": [
    "tmp=df_zamowienia.groupby(['czy_z_kuponow','Z_DNIA','year','month']).agg({'FAKTURA':'nunique',\n",
    "                                                          'NAZWISKO':'nunique'}).reset_index()\n",
    "tmp['faktury_per_osoba']=tmp['FAKTURA']/tmp['NAZWISKO']\n",
    "\n",
    "fig=px.box(tmp.loc[tmp['czy_z_kuponow']=='tak'].loc[tmp['month']<=6],\n",
    "      x='NAZWISKO',\n",
    "      y='FAKTURA',\n",
    "          facet_col='year')\n",
    "fig.write_html(path_to_catalog+'faktury_box_plus_ela.html')\n",
    "fig.show()\n",
    "\n",
    "fig=px.box(tmp.loc[tmp['czy_z_kuponow']=='tak'].loc[tmp['month']<=6],\n",
    "      x='NAZWISKO',\n",
    "      y='faktury_per_osoba',\n",
    "          facet_col='year')\n",
    "fig.write_html(path_to_catalog+'faktury_per_osoba_box_plus_ela.html')\n",
    "fig.show()\n",
    "\n",
    "display(tmp.loc[tmp['czy_z_kuponow']=='tak'].loc[tmp['month']<=6].groupby(['year','NAZWISKO']).agg({'FAKTURA':'median',\n",
    "                                                   'faktury_per_osoba':'median'}).head(50))\n",
    "\n",
    "display(tmp.loc[tmp['czy_z_kuponow']=='tak'].loc[tmp['month']<=6].groupby(['year','NAZWISKO']).agg({'FAKTURA':'median',\n",
    "                                                                                               'faktury_per_osoba':'median'}).reset_index().\\\n",
    "        pivot(columns='year', index='NAZWISKO',values=['FAKTURA','faktury_per_osoba']))\n",
    "tmp.loc[tmp['czy_z_kuponow']=='tak'].loc[tmp['month']<=6].groupby(['year','NAZWISKO']).agg({'FAKTURA':'median',\n",
    "                                                                                               'faktury_per_osoba':'median'}).reset_index().\\\n",
    "        pivot(columns='year', index='NAZWISKO',values=['FAKTURA','faktury_per_osoba']).to_excel(path_to_catalog+'pivot_box_median_plus_ela.xlsx')"
   ]
  },
  {
   "cell_type": "code",
   "execution_count": 23,
   "id": "b3fc13c7-f913-4aae-bebb-231b11743071",
   "metadata": {},
   "outputs": [],
   "source": [
    "tmp=df_zamowienia.groupby(['czy_z_kuponow','Z_DNIA']).agg({'FAKTURA':'nunique',\n",
    "                                                          'NAZWISKO':'nunique'}).reset_index()\n",
    "tmp['faktury_per_osoba']=tmp['FAKTURA']/tmp['NAZWISKO']"
   ]
  },
  {
   "cell_type": "code",
   "execution_count": 70,
   "id": "9ecafa87-7798-4739-8a16-484feb1f6366",
   "metadata": {},
   "outputs": [],
   "source": [
    "def func_raport_pivot(df, year1, year2, month, df_with_minutes_rcp):\n",
    "    df1=df.loc[df['year']==year1].loc[df['month'].isin(month)]\n",
    "    df2=df.loc[df['year']==year2].loc[df['month'].isin(month)]\n",
    "    df_with_minutes_rcp1=df_with_minutes_rcp.loc[df_with_minutes_rcp['year']==year1].loc[df_with_minutes_rcp['month'].isin(month)]\n",
    "    df_with_minutes_rcp2=df_with_minutes_rcp.loc[df_with_minutes_rcp['year']==year2].loc[df_with_minutes_rcp['month'].isin(month)]\n",
    "    \n",
    "    # display(pd.pivot_table(df1,\n",
    "    #               index='NAZWISKO',\n",
    "    #               columns=col,\n",
    "    #               aggfunc=np.sum()))\n",
    "    df_tmp1=df1.groupby(['NAZWISKO','month']).agg({'FAKTURA':'nunique'})\n",
    "    df_tmp1=df_tmp1.rename(columns={'FAKTURA':'FAKTURA_'+str(year1)})\n",
    "    df_tmp2=df2.groupby(['NAZWISKO','month']).agg({'FAKTURA':'nunique'})\n",
    "    df_tmp2=df_tmp2.rename(columns={'FAKTURA':'FAKTURA_'+str(year2)})\n",
    "    df_tmp1_rcp=df_with_minutes_rcp1.loc[df_with_minutes_rcp1['zadanie']=='KUPONY-OBSŁUGA'].groupby(['NAZWISKO','month']).agg({'ile_minut_czynnosc':'sum'})\n",
    "    df_tmp1_rcp=df_tmp1_rcp.rename(columns={'ile_minut_czynnosc':'ile_minut_czynnosc_'+str(year1)})\n",
    "    df_tmp2_rcp=df_with_minutes_rcp2.loc[df_with_minutes_rcp2['zadanie']=='KUPONY-OBSŁUGA'].groupby(['NAZWISKO','month']).agg({'ile_minut_czynnosc':'sum'})\n",
    "    df_tmp2_rcp=df_tmp2_rcp.rename(columns={'ile_minut_czynnosc':'ile_minut_czynnosc_'+str(year2)})\n",
    "    \n",
    "    df_tmp=df_tmp1.merge(df_tmp2,\n",
    "                         how='outer',\n",
    "                         left_index=True, right_index=True).\\\n",
    "                   merge(df_tmp1_rcp,\n",
    "                                 how='left',\n",
    "                                 left_index=True, right_index=True).\\\n",
    "                   merge(df_tmp2_rcp,\n",
    "                                 how='left',\n",
    "                                 left_index=True, right_index=True). reset_index()\n",
    "    for i in [year1, year2]:\n",
    "        df_tmp['ile_minut_czynnosc_'+str(i)]=df_tmp['ile_minut_czynnosc_'+str(i)].apply(lambda x: round(x/60, 1))\n",
    "        df_tmp=df_tmp.rename(columns={'ile_minut_czynnosc_'+str(i) : 'ile_godzin_czynnosc_'+str(i)})\n",
    "        df_tmp['FAKTURA_na_godzine_'+str(i)]=round(df_tmp['FAKTURA_'+str(i)]/df_tmp['ile_godzin_czynnosc_'+str(i)], 2)\n",
    "        \n",
    "    return df_tmp"
   ]
  },
  {
   "cell_type": "code",
   "execution_count": 73,
   "id": "9c477957-9dff-44ae-bc03-85c37726038c",
   "metadata": {},
   "outputs": [
    {
     "data": {
      "text/html": [
       "<div>\n",
       "<style scoped>\n",
       "    .dataframe tbody tr th:only-of-type {\n",
       "        vertical-align: middle;\n",
       "    }\n",
       "\n",
       "    .dataframe tbody tr th {\n",
       "        vertical-align: top;\n",
       "    }\n",
       "\n",
       "    .dataframe thead th {\n",
       "        text-align: right;\n",
       "    }\n",
       "</style>\n",
       "<table border=\"1\" class=\"dataframe\">\n",
       "  <thead>\n",
       "    <tr style=\"text-align: right;\">\n",
       "      <th></th>\n",
       "      <th>NAZWISKO</th>\n",
       "      <th>month</th>\n",
       "      <th>FAKTURA_2021</th>\n",
       "      <th>FAKTURA_2022</th>\n",
       "      <th>ile_godzin_czynnosc_2021</th>\n",
       "      <th>ile_godzin_czynnosc_2022</th>\n",
       "      <th>FAKTURA_na_godzine_2021</th>\n",
       "      <th>FAKTURA_na_godzine_2022</th>\n",
       "    </tr>\n",
       "  </thead>\n",
       "  <tbody>\n",
       "    <tr>\n",
       "      <th>0</th>\n",
       "      <td>A. BUŁAWA</td>\n",
       "      <td>1</td>\n",
       "      <td>1.0</td>\n",
       "      <td>325.0</td>\n",
       "      <td>NaN</td>\n",
       "      <td>156.7</td>\n",
       "      <td>NaN</td>\n",
       "      <td>2.07</td>\n",
       "    </tr>\n",
       "    <tr>\n",
       "      <th>1</th>\n",
       "      <td>A. BUŁAWA</td>\n",
       "      <td>2</td>\n",
       "      <td>1.0</td>\n",
       "      <td>411.0</td>\n",
       "      <td>NaN</td>\n",
       "      <td>156.9</td>\n",
       "      <td>NaN</td>\n",
       "      <td>2.62</td>\n",
       "    </tr>\n",
       "    <tr>\n",
       "      <th>2</th>\n",
       "      <td>A. BUŁAWA</td>\n",
       "      <td>3</td>\n",
       "      <td>5.0</td>\n",
       "      <td>472.0</td>\n",
       "      <td>NaN</td>\n",
       "      <td>180.7</td>\n",
       "      <td>NaN</td>\n",
       "      <td>2.61</td>\n",
       "    </tr>\n",
       "    <tr>\n",
       "      <th>3</th>\n",
       "      <td>A. BUŁAWA</td>\n",
       "      <td>4</td>\n",
       "      <td>2.0</td>\n",
       "      <td>288.0</td>\n",
       "      <td>NaN</td>\n",
       "      <td>132.4</td>\n",
       "      <td>NaN</td>\n",
       "      <td>2.18</td>\n",
       "    </tr>\n",
       "    <tr>\n",
       "      <th>4</th>\n",
       "      <td>A. BUŁAWA</td>\n",
       "      <td>5</td>\n",
       "      <td>NaN</td>\n",
       "      <td>349.0</td>\n",
       "      <td>NaN</td>\n",
       "      <td>146.0</td>\n",
       "      <td>NaN</td>\n",
       "      <td>2.39</td>\n",
       "    </tr>\n",
       "    <tr>\n",
       "      <th>5</th>\n",
       "      <td>A. BUŁAWA</td>\n",
       "      <td>6</td>\n",
       "      <td>412.0</td>\n",
       "      <td>441.0</td>\n",
       "      <td>151.9</td>\n",
       "      <td>156.5</td>\n",
       "      <td>2.71</td>\n",
       "      <td>2.82</td>\n",
       "    </tr>\n",
       "    <tr>\n",
       "      <th>6</th>\n",
       "      <td>B. DURAJ</td>\n",
       "      <td>1</td>\n",
       "      <td>360.0</td>\n",
       "      <td>382.0</td>\n",
       "      <td>161.9</td>\n",
       "      <td>157.3</td>\n",
       "      <td>2.22</td>\n",
       "      <td>2.43</td>\n",
       "    </tr>\n",
       "    <tr>\n",
       "      <th>7</th>\n",
       "      <td>B. DURAJ</td>\n",
       "      <td>2</td>\n",
       "      <td>534.0</td>\n",
       "      <td>318.0</td>\n",
       "      <td>145.0</td>\n",
       "      <td>132.5</td>\n",
       "      <td>3.68</td>\n",
       "      <td>2.40</td>\n",
       "    </tr>\n",
       "    <tr>\n",
       "      <th>8</th>\n",
       "      <td>B. DURAJ</td>\n",
       "      <td>3</td>\n",
       "      <td>769.0</td>\n",
       "      <td>516.0</td>\n",
       "      <td>215.3</td>\n",
       "      <td>148.5</td>\n",
       "      <td>3.57</td>\n",
       "      <td>3.47</td>\n",
       "    </tr>\n",
       "    <tr>\n",
       "      <th>9</th>\n",
       "      <td>B. DURAJ</td>\n",
       "      <td>4</td>\n",
       "      <td>509.0</td>\n",
       "      <td>595.0</td>\n",
       "      <td>151.5</td>\n",
       "      <td>154.8</td>\n",
       "      <td>3.36</td>\n",
       "      <td>3.84</td>\n",
       "    </tr>\n",
       "    <tr>\n",
       "      <th>10</th>\n",
       "      <td>B. DURAJ</td>\n",
       "      <td>5</td>\n",
       "      <td>417.0</td>\n",
       "      <td>444.0</td>\n",
       "      <td>161.4</td>\n",
       "      <td>163.8</td>\n",
       "      <td>2.58</td>\n",
       "      <td>2.71</td>\n",
       "    </tr>\n",
       "    <tr>\n",
       "      <th>11</th>\n",
       "      <td>B. DURAJ</td>\n",
       "      <td>6</td>\n",
       "      <td>408.0</td>\n",
       "      <td>401.0</td>\n",
       "      <td>168.0</td>\n",
       "      <td>115.5</td>\n",
       "      <td>2.43</td>\n",
       "      <td>3.47</td>\n",
       "    </tr>\n",
       "    <tr>\n",
       "      <th>12</th>\n",
       "      <td>E. KUBIENIEC</td>\n",
       "      <td>1</td>\n",
       "      <td>171.0</td>\n",
       "      <td>76.0</td>\n",
       "      <td>163.8</td>\n",
       "      <td>102.1</td>\n",
       "      <td>1.04</td>\n",
       "      <td>0.74</td>\n",
       "    </tr>\n",
       "    <tr>\n",
       "      <th>13</th>\n",
       "      <td>E. KUBIENIEC</td>\n",
       "      <td>2</td>\n",
       "      <td>140.0</td>\n",
       "      <td>136.0</td>\n",
       "      <td>137.3</td>\n",
       "      <td>132.7</td>\n",
       "      <td>1.02</td>\n",
       "      <td>1.02</td>\n",
       "    </tr>\n",
       "    <tr>\n",
       "      <th>14</th>\n",
       "      <td>E. KUBIENIEC</td>\n",
       "      <td>3</td>\n",
       "      <td>378.0</td>\n",
       "      <td>281.0</td>\n",
       "      <td>183.3</td>\n",
       "      <td>174.3</td>\n",
       "      <td>2.06</td>\n",
       "      <td>1.61</td>\n",
       "    </tr>\n",
       "    <tr>\n",
       "      <th>15</th>\n",
       "      <td>E. KUBIENIEC</td>\n",
       "      <td>4</td>\n",
       "      <td>201.0</td>\n",
       "      <td>169.0</td>\n",
       "      <td>154.6</td>\n",
       "      <td>132.8</td>\n",
       "      <td>1.30</td>\n",
       "      <td>1.27</td>\n",
       "    </tr>\n",
       "    <tr>\n",
       "      <th>16</th>\n",
       "      <td>E. KUBIENIEC</td>\n",
       "      <td>5</td>\n",
       "      <td>229.0</td>\n",
       "      <td>126.0</td>\n",
       "      <td>164.4</td>\n",
       "      <td>89.6</td>\n",
       "      <td>1.39</td>\n",
       "      <td>1.41</td>\n",
       "    </tr>\n",
       "    <tr>\n",
       "      <th>17</th>\n",
       "      <td>E. KUBIENIEC</td>\n",
       "      <td>6</td>\n",
       "      <td>146.0</td>\n",
       "      <td>108.0</td>\n",
       "      <td>116.5</td>\n",
       "      <td>73.1</td>\n",
       "      <td>1.25</td>\n",
       "      <td>1.48</td>\n",
       "    </tr>\n",
       "    <tr>\n",
       "      <th>18</th>\n",
       "      <td>I. DRABEK</td>\n",
       "      <td>2</td>\n",
       "      <td>3.0</td>\n",
       "      <td>NaN</td>\n",
       "      <td>NaN</td>\n",
       "      <td>NaN</td>\n",
       "      <td>NaN</td>\n",
       "      <td>NaN</td>\n",
       "    </tr>\n",
       "    <tr>\n",
       "      <th>19</th>\n",
       "      <td>I. DRABEK</td>\n",
       "      <td>3</td>\n",
       "      <td>3.0</td>\n",
       "      <td>NaN</td>\n",
       "      <td>NaN</td>\n",
       "      <td>NaN</td>\n",
       "      <td>NaN</td>\n",
       "      <td>NaN</td>\n",
       "    </tr>\n",
       "    <tr>\n",
       "      <th>20</th>\n",
       "      <td>I. DRABEK</td>\n",
       "      <td>4</td>\n",
       "      <td>4.0</td>\n",
       "      <td>NaN</td>\n",
       "      <td>NaN</td>\n",
       "      <td>NaN</td>\n",
       "      <td>NaN</td>\n",
       "      <td>NaN</td>\n",
       "    </tr>\n",
       "    <tr>\n",
       "      <th>21</th>\n",
       "      <td>I. DRABEK</td>\n",
       "      <td>5</td>\n",
       "      <td>13.0</td>\n",
       "      <td>NaN</td>\n",
       "      <td>NaN</td>\n",
       "      <td>NaN</td>\n",
       "      <td>NaN</td>\n",
       "      <td>NaN</td>\n",
       "    </tr>\n",
       "    <tr>\n",
       "      <th>22</th>\n",
       "      <td>I. DRABEK</td>\n",
       "      <td>6</td>\n",
       "      <td>3.0</td>\n",
       "      <td>NaN</td>\n",
       "      <td>NaN</td>\n",
       "      <td>NaN</td>\n",
       "      <td>NaN</td>\n",
       "      <td>NaN</td>\n",
       "    </tr>\n",
       "    <tr>\n",
       "      <th>23</th>\n",
       "      <td>I. PAŁOSZ</td>\n",
       "      <td>1</td>\n",
       "      <td>237.0</td>\n",
       "      <td>NaN</td>\n",
       "      <td>160.3</td>\n",
       "      <td>NaN</td>\n",
       "      <td>1.48</td>\n",
       "      <td>NaN</td>\n",
       "    </tr>\n",
       "    <tr>\n",
       "      <th>24</th>\n",
       "      <td>I. PAŁOSZ</td>\n",
       "      <td>2</td>\n",
       "      <td>215.0</td>\n",
       "      <td>NaN</td>\n",
       "      <td>126.8</td>\n",
       "      <td>NaN</td>\n",
       "      <td>1.70</td>\n",
       "      <td>NaN</td>\n",
       "    </tr>\n",
       "    <tr>\n",
       "      <th>25</th>\n",
       "      <td>I. PAŁOSZ</td>\n",
       "      <td>3</td>\n",
       "      <td>385.0</td>\n",
       "      <td>NaN</td>\n",
       "      <td>194.3</td>\n",
       "      <td>NaN</td>\n",
       "      <td>1.98</td>\n",
       "      <td>NaN</td>\n",
       "    </tr>\n",
       "    <tr>\n",
       "      <th>26</th>\n",
       "      <td>I. PAŁOSZ</td>\n",
       "      <td>4</td>\n",
       "      <td>224.0</td>\n",
       "      <td>NaN</td>\n",
       "      <td>160.2</td>\n",
       "      <td>NaN</td>\n",
       "      <td>1.40</td>\n",
       "      <td>NaN</td>\n",
       "    </tr>\n",
       "    <tr>\n",
       "      <th>27</th>\n",
       "      <td>I. PAŁOSZ</td>\n",
       "      <td>5</td>\n",
       "      <td>342.0</td>\n",
       "      <td>NaN</td>\n",
       "      <td>143.0</td>\n",
       "      <td>NaN</td>\n",
       "      <td>2.39</td>\n",
       "      <td>NaN</td>\n",
       "    </tr>\n",
       "    <tr>\n",
       "      <th>28</th>\n",
       "      <td>I. PAŁOSZ</td>\n",
       "      <td>6</td>\n",
       "      <td>38.0</td>\n",
       "      <td>NaN</td>\n",
       "      <td>25.1</td>\n",
       "      <td>NaN</td>\n",
       "      <td>1.51</td>\n",
       "      <td>NaN</td>\n",
       "    </tr>\n",
       "    <tr>\n",
       "      <th>29</th>\n",
       "      <td>J. SEMIK</td>\n",
       "      <td>1</td>\n",
       "      <td>298.0</td>\n",
       "      <td>378.0</td>\n",
       "      <td>159.7</td>\n",
       "      <td>156.8</td>\n",
       "      <td>1.87</td>\n",
       "      <td>2.41</td>\n",
       "    </tr>\n",
       "    <tr>\n",
       "      <th>30</th>\n",
       "      <td>J. SEMIK</td>\n",
       "      <td>2</td>\n",
       "      <td>424.0</td>\n",
       "      <td>473.0</td>\n",
       "      <td>157.0</td>\n",
       "      <td>149.2</td>\n",
       "      <td>2.70</td>\n",
       "      <td>3.17</td>\n",
       "    </tr>\n",
       "    <tr>\n",
       "      <th>31</th>\n",
       "      <td>J. SEMIK</td>\n",
       "      <td>3</td>\n",
       "      <td>648.0</td>\n",
       "      <td>620.0</td>\n",
       "      <td>211.9</td>\n",
       "      <td>176.5</td>\n",
       "      <td>3.06</td>\n",
       "      <td>3.51</td>\n",
       "    </tr>\n",
       "    <tr>\n",
       "      <th>32</th>\n",
       "      <td>J. SEMIK</td>\n",
       "      <td>4</td>\n",
       "      <td>461.0</td>\n",
       "      <td>367.0</td>\n",
       "      <td>151.9</td>\n",
       "      <td>140.5</td>\n",
       "      <td>3.03</td>\n",
       "      <td>2.61</td>\n",
       "    </tr>\n",
       "    <tr>\n",
       "      <th>33</th>\n",
       "      <td>J. SEMIK</td>\n",
       "      <td>5</td>\n",
       "      <td>488.0</td>\n",
       "      <td>373.0</td>\n",
       "      <td>159.9</td>\n",
       "      <td>143.2</td>\n",
       "      <td>3.05</td>\n",
       "      <td>2.60</td>\n",
       "    </tr>\n",
       "    <tr>\n",
       "      <th>34</th>\n",
       "      <td>J. SEMIK</td>\n",
       "      <td>6</td>\n",
       "      <td>457.0</td>\n",
       "      <td>453.0</td>\n",
       "      <td>158.9</td>\n",
       "      <td>131.7</td>\n",
       "      <td>2.88</td>\n",
       "      <td>3.44</td>\n",
       "    </tr>\n",
       "    <tr>\n",
       "      <th>35</th>\n",
       "      <td>M. PSZCZÓŁKA</td>\n",
       "      <td>1</td>\n",
       "      <td>246.0</td>\n",
       "      <td>NaN</td>\n",
       "      <td>159.8</td>\n",
       "      <td>NaN</td>\n",
       "      <td>1.54</td>\n",
       "      <td>NaN</td>\n",
       "    </tr>\n",
       "    <tr>\n",
       "      <th>36</th>\n",
       "      <td>M. PSZCZÓŁKA</td>\n",
       "      <td>2</td>\n",
       "      <td>349.0</td>\n",
       "      <td>NaN</td>\n",
       "      <td>158.4</td>\n",
       "      <td>NaN</td>\n",
       "      <td>2.20</td>\n",
       "      <td>NaN</td>\n",
       "    </tr>\n",
       "    <tr>\n",
       "      <th>37</th>\n",
       "      <td>M. PSZCZÓŁKA</td>\n",
       "      <td>3</td>\n",
       "      <td>438.0</td>\n",
       "      <td>NaN</td>\n",
       "      <td>202.6</td>\n",
       "      <td>NaN</td>\n",
       "      <td>2.16</td>\n",
       "      <td>NaN</td>\n",
       "    </tr>\n",
       "    <tr>\n",
       "      <th>38</th>\n",
       "      <td>M. PSZCZÓŁKA</td>\n",
       "      <td>4</td>\n",
       "      <td>351.0</td>\n",
       "      <td>NaN</td>\n",
       "      <td>161.3</td>\n",
       "      <td>NaN</td>\n",
       "      <td>2.18</td>\n",
       "      <td>NaN</td>\n",
       "    </tr>\n",
       "    <tr>\n",
       "      <th>39</th>\n",
       "      <td>M. PSZCZÓŁKA</td>\n",
       "      <td>5</td>\n",
       "      <td>306.0</td>\n",
       "      <td>NaN</td>\n",
       "      <td>151.3</td>\n",
       "      <td>NaN</td>\n",
       "      <td>2.02</td>\n",
       "      <td>NaN</td>\n",
       "    </tr>\n",
       "    <tr>\n",
       "      <th>40</th>\n",
       "      <td>M. PSZCZÓŁKA</td>\n",
       "      <td>6</td>\n",
       "      <td>92.0</td>\n",
       "      <td>NaN</td>\n",
       "      <td>51.2</td>\n",
       "      <td>NaN</td>\n",
       "      <td>1.80</td>\n",
       "      <td>NaN</td>\n",
       "    </tr>\n",
       "    <tr>\n",
       "      <th>41</th>\n",
       "      <td>R. KASPEREK</td>\n",
       "      <td>1</td>\n",
       "      <td>2.0</td>\n",
       "      <td>144.0</td>\n",
       "      <td>NaN</td>\n",
       "      <td>156.8</td>\n",
       "      <td>NaN</td>\n",
       "      <td>0.92</td>\n",
       "    </tr>\n",
       "    <tr>\n",
       "      <th>42</th>\n",
       "      <td>R. KASPEREK</td>\n",
       "      <td>2</td>\n",
       "      <td>3.0</td>\n",
       "      <td>164.0</td>\n",
       "      <td>NaN</td>\n",
       "      <td>157.0</td>\n",
       "      <td>NaN</td>\n",
       "      <td>1.04</td>\n",
       "    </tr>\n",
       "    <tr>\n",
       "      <th>43</th>\n",
       "      <td>R. KASPEREK</td>\n",
       "      <td>3</td>\n",
       "      <td>4.0</td>\n",
       "      <td>378.0</td>\n",
       "      <td>NaN</td>\n",
       "      <td>164.6</td>\n",
       "      <td>NaN</td>\n",
       "      <td>2.30</td>\n",
       "    </tr>\n",
       "    <tr>\n",
       "      <th>44</th>\n",
       "      <td>R. KASPEREK</td>\n",
       "      <td>4</td>\n",
       "      <td>2.0</td>\n",
       "      <td>299.0</td>\n",
       "      <td>NaN</td>\n",
       "      <td>138.1</td>\n",
       "      <td>NaN</td>\n",
       "      <td>2.17</td>\n",
       "    </tr>\n",
       "    <tr>\n",
       "      <th>45</th>\n",
       "      <td>R. KASPEREK</td>\n",
       "      <td>5</td>\n",
       "      <td>2.0</td>\n",
       "      <td>282.0</td>\n",
       "      <td>NaN</td>\n",
       "      <td>142.8</td>\n",
       "      <td>NaN</td>\n",
       "      <td>1.97</td>\n",
       "    </tr>\n",
       "    <tr>\n",
       "      <th>46</th>\n",
       "      <td>R. KASPEREK</td>\n",
       "      <td>6</td>\n",
       "      <td>75.0</td>\n",
       "      <td>110.0</td>\n",
       "      <td>69.5</td>\n",
       "      <td>70.0</td>\n",
       "      <td>1.08</td>\n",
       "      <td>1.57</td>\n",
       "    </tr>\n",
       "  </tbody>\n",
       "</table>\n",
       "</div>"
      ],
      "text/plain": [
       "        NAZWISKO  month  FAKTURA_2021  FAKTURA_2022  ile_godzin_czynnosc_2021  \\\n",
       "0      A. BUŁAWA      1           1.0         325.0                       NaN   \n",
       "1      A. BUŁAWA      2           1.0         411.0                       NaN   \n",
       "2      A. BUŁAWA      3           5.0         472.0                       NaN   \n",
       "3      A. BUŁAWA      4           2.0         288.0                       NaN   \n",
       "4      A. BUŁAWA      5           NaN         349.0                       NaN   \n",
       "5      A. BUŁAWA      6         412.0         441.0                     151.9   \n",
       "6       B. DURAJ      1         360.0         382.0                     161.9   \n",
       "7       B. DURAJ      2         534.0         318.0                     145.0   \n",
       "8       B. DURAJ      3         769.0         516.0                     215.3   \n",
       "9       B. DURAJ      4         509.0         595.0                     151.5   \n",
       "10      B. DURAJ      5         417.0         444.0                     161.4   \n",
       "11      B. DURAJ      6         408.0         401.0                     168.0   \n",
       "12  E. KUBIENIEC      1         171.0          76.0                     163.8   \n",
       "13  E. KUBIENIEC      2         140.0         136.0                     137.3   \n",
       "14  E. KUBIENIEC      3         378.0         281.0                     183.3   \n",
       "15  E. KUBIENIEC      4         201.0         169.0                     154.6   \n",
       "16  E. KUBIENIEC      5         229.0         126.0                     164.4   \n",
       "17  E. KUBIENIEC      6         146.0         108.0                     116.5   \n",
       "18     I. DRABEK      2           3.0           NaN                       NaN   \n",
       "19     I. DRABEK      3           3.0           NaN                       NaN   \n",
       "20     I. DRABEK      4           4.0           NaN                       NaN   \n",
       "21     I. DRABEK      5          13.0           NaN                       NaN   \n",
       "22     I. DRABEK      6           3.0           NaN                       NaN   \n",
       "23     I. PAŁOSZ      1         237.0           NaN                     160.3   \n",
       "24     I. PAŁOSZ      2         215.0           NaN                     126.8   \n",
       "25     I. PAŁOSZ      3         385.0           NaN                     194.3   \n",
       "26     I. PAŁOSZ      4         224.0           NaN                     160.2   \n",
       "27     I. PAŁOSZ      5         342.0           NaN                     143.0   \n",
       "28     I. PAŁOSZ      6          38.0           NaN                      25.1   \n",
       "29      J. SEMIK      1         298.0         378.0                     159.7   \n",
       "30      J. SEMIK      2         424.0         473.0                     157.0   \n",
       "31      J. SEMIK      3         648.0         620.0                     211.9   \n",
       "32      J. SEMIK      4         461.0         367.0                     151.9   \n",
       "33      J. SEMIK      5         488.0         373.0                     159.9   \n",
       "34      J. SEMIK      6         457.0         453.0                     158.9   \n",
       "35  M. PSZCZÓŁKA      1         246.0           NaN                     159.8   \n",
       "36  M. PSZCZÓŁKA      2         349.0           NaN                     158.4   \n",
       "37  M. PSZCZÓŁKA      3         438.0           NaN                     202.6   \n",
       "38  M. PSZCZÓŁKA      4         351.0           NaN                     161.3   \n",
       "39  M. PSZCZÓŁKA      5         306.0           NaN                     151.3   \n",
       "40  M. PSZCZÓŁKA      6          92.0           NaN                      51.2   \n",
       "41   R. KASPEREK      1           2.0         144.0                       NaN   \n",
       "42   R. KASPEREK      2           3.0         164.0                       NaN   \n",
       "43   R. KASPEREK      3           4.0         378.0                       NaN   \n",
       "44   R. KASPEREK      4           2.0         299.0                       NaN   \n",
       "45   R. KASPEREK      5           2.0         282.0                       NaN   \n",
       "46   R. KASPEREK      6          75.0         110.0                      69.5   \n",
       "\n",
       "    ile_godzin_czynnosc_2022  FAKTURA_na_godzine_2021  FAKTURA_na_godzine_2022  \n",
       "0                      156.7                      NaN                     2.07  \n",
       "1                      156.9                      NaN                     2.62  \n",
       "2                      180.7                      NaN                     2.61  \n",
       "3                      132.4                      NaN                     2.18  \n",
       "4                      146.0                      NaN                     2.39  \n",
       "5                      156.5                     2.71                     2.82  \n",
       "6                      157.3                     2.22                     2.43  \n",
       "7                      132.5                     3.68                     2.40  \n",
       "8                      148.5                     3.57                     3.47  \n",
       "9                      154.8                     3.36                     3.84  \n",
       "10                     163.8                     2.58                     2.71  \n",
       "11                     115.5                     2.43                     3.47  \n",
       "12                     102.1                     1.04                     0.74  \n",
       "13                     132.7                     1.02                     1.02  \n",
       "14                     174.3                     2.06                     1.61  \n",
       "15                     132.8                     1.30                     1.27  \n",
       "16                      89.6                     1.39                     1.41  \n",
       "17                      73.1                     1.25                     1.48  \n",
       "18                       NaN                      NaN                      NaN  \n",
       "19                       NaN                      NaN                      NaN  \n",
       "20                       NaN                      NaN                      NaN  \n",
       "21                       NaN                      NaN                      NaN  \n",
       "22                       NaN                      NaN                      NaN  \n",
       "23                       NaN                     1.48                      NaN  \n",
       "24                       NaN                     1.70                      NaN  \n",
       "25                       NaN                     1.98                      NaN  \n",
       "26                       NaN                     1.40                      NaN  \n",
       "27                       NaN                     2.39                      NaN  \n",
       "28                       NaN                     1.51                      NaN  \n",
       "29                     156.8                     1.87                     2.41  \n",
       "30                     149.2                     2.70                     3.17  \n",
       "31                     176.5                     3.06                     3.51  \n",
       "32                     140.5                     3.03                     2.61  \n",
       "33                     143.2                     3.05                     2.60  \n",
       "34                     131.7                     2.88                     3.44  \n",
       "35                       NaN                     1.54                      NaN  \n",
       "36                       NaN                     2.20                      NaN  \n",
       "37                       NaN                     2.16                      NaN  \n",
       "38                       NaN                     2.18                      NaN  \n",
       "39                       NaN                     2.02                      NaN  \n",
       "40                       NaN                     1.80                      NaN  \n",
       "41                     156.8                      NaN                     0.92  \n",
       "42                     157.0                      NaN                     1.04  \n",
       "43                     164.6                      NaN                     2.30  \n",
       "44                     138.1                      NaN                     2.17  \n",
       "45                     142.8                      NaN                     1.97  \n",
       "46                      70.0                     1.08                     1.57  "
      ]
     },
     "metadata": {},
     "output_type": "display_data"
    }
   ],
   "source": [
    "raport_pivot=func_raport_pivot(df_zamowienia.loc[df_zamowienia['czy_z_kuponow']=='tak'], 2021, 2022, [1,2,3,4,5,6], df_with_minutes_rcp)\n",
    "raport_pivot.to_excel(path_to_catalog+'raport_pivot_zamowienia_telefony.xlsx')\n",
    "display(raport_pivot)"
   ]
  },
  {
   "cell_type": "code",
   "execution_count": 37,
   "id": "1be8e390-debd-4ca4-be49-ee46872d6a7a",
   "metadata": {},
   "outputs": [],
   "source": [
    "df_zamowienia.groupby(['year_month','NAZWISKO','czy_z_kuponow']).agg({'FAKTURA':'nunique'}).reset_index().to_excel(path_to_catalog+'zestawienie_faktur_po_mc.xlsx')"
   ]
  },
  {
   "cell_type": "code",
   "execution_count": null,
   "id": "c468a683-0e94-4c82-b85c-e52196f0335a",
   "metadata": {},
   "outputs": [],
   "source": []
  },
  {
   "cell_type": "code",
   "execution_count": null,
   "id": "f62e5ad7-d269-445c-a047-34e9158df6c5",
   "metadata": {},
   "outputs": [],
   "source": []
  },
  {
   "cell_type": "code",
   "execution_count": 106,
   "id": "02b29752-fb44-47e6-9c17-a254009746c6",
   "metadata": {},
   "outputs": [
    {
     "data": {
      "text/plain": [
       "array(['RELOKACJA', 'KUPONY PAKOWANIE AUTOMAT', 'KUPONY PAKOWANIE',\n",
       "       'LISTOWANIE AUTOMAT'], dtype=object)"
      ]
     },
     "metadata": {},
     "output_type": "display_data"
    },
    {
     "data": {
      "text/html": [
       "<div>\n",
       "<style scoped>\n",
       "    .dataframe tbody tr th:only-of-type {\n",
       "        vertical-align: middle;\n",
       "    }\n",
       "\n",
       "    .dataframe tbody tr th {\n",
       "        vertical-align: top;\n",
       "    }\n",
       "\n",
       "    .dataframe thead th {\n",
       "        text-align: right;\n",
       "    }\n",
       "</style>\n",
       "<table border=\"1\" class=\"dataframe\">\n",
       "  <thead>\n",
       "    <tr style=\"text-align: right;\">\n",
       "      <th></th>\n",
       "      <th>ZADANIE</th>\n",
       "      <th>KOD_GR_RCP</th>\n",
       "    </tr>\n",
       "  </thead>\n",
       "  <tbody>\n",
       "    <tr>\n",
       "      <th>19</th>\n",
       "      <td>PRZERWA</td>\n",
       "      <td>KUP</td>\n",
       "    </tr>\n",
       "    <tr>\n",
       "      <th>72</th>\n",
       "      <td>RELOKACJA</td>\n",
       "      <td>KUP</td>\n",
       "    </tr>\n",
       "    <tr>\n",
       "      <th>2792</th>\n",
       "      <td>KUPONY PAKOWANIE AUTOMAT</td>\n",
       "      <td>KUP</td>\n",
       "    </tr>\n",
       "    <tr>\n",
       "      <th>37900</th>\n",
       "      <td>KUPONY PAKOWANIE</td>\n",
       "      <td>KUP</td>\n",
       "    </tr>\n",
       "    <tr>\n",
       "      <th>54883</th>\n",
       "      <td>URLOP</td>\n",
       "      <td>KUP</td>\n",
       "    </tr>\n",
       "    <tr>\n",
       "      <th>96254</th>\n",
       "      <td>CHOROBOWE</td>\n",
       "      <td>KUP</td>\n",
       "    </tr>\n",
       "    <tr>\n",
       "      <th>115664</th>\n",
       "      <td>MAGAZYN -POMOC</td>\n",
       "      <td>KUP</td>\n",
       "    </tr>\n",
       "    <tr>\n",
       "      <th>193015</th>\n",
       "      <td>LISTOWANIE AUTOMAT</td>\n",
       "      <td>KUP</td>\n",
       "    </tr>\n",
       "    <tr>\n",
       "      <th>208335</th>\n",
       "      <td>REMANENT</td>\n",
       "      <td>KUP</td>\n",
       "    </tr>\n",
       "    <tr>\n",
       "      <th>525894</th>\n",
       "      <td>URLOP OKOLICZNOŚCIOWY</td>\n",
       "      <td>KUP</td>\n",
       "    </tr>\n",
       "  </tbody>\n",
       "</table>\n",
       "</div>"
      ],
      "text/plain": [
       "                         ZADANIE KOD_GR_RCP\n",
       "19                       PRZERWA        KUP\n",
       "72                     RELOKACJA        KUP\n",
       "2792    KUPONY PAKOWANIE AUTOMAT        KUP\n",
       "37900           KUPONY PAKOWANIE        KUP\n",
       "54883                      URLOP        KUP\n",
       "96254                  CHOROBOWE        KUP\n",
       "115664            MAGAZYN -POMOC        KUP\n",
       "193015        LISTOWANIE AUTOMAT        KUP\n",
       "208335                  REMANENT        KUP\n",
       "525894     URLOP OKOLICZNOŚCIOWY        KUP"
      ]
     },
     "metadata": {},
     "output_type": "display_data"
    }
   ],
   "source": [
    "arr_lista_zadan=df_rcp.loc[df_rcp['NAZWISKO']=='G. HOWANIEC']['ZADANIE'].unique()\n",
    "for i in ['PRZERWA','URLOP','CHOROBOWE','REMANENT','URLOP OKOLICZNOŚCIOWY', 'MAGAZYN -POMOC']:\n",
    "    arr_lista_zadan=np.delete(arr_lista_zadan, np.where(arr_lista_zadan==i))\n",
    "    \n",
    "display(arr_lista_zadan)    \n",
    "display(df_rcp.loc[df_rcp['NAZWISKO']=='G. HOWANIEC'][['ZADANIE','KOD_GR_RCP']].drop_duplicates())"
   ]
  },
  {
   "cell_type": "code",
   "execution_count": 91,
   "id": "1ab125cb-6eee-4a4c-b044-e8d6c709b856",
   "metadata": {},
   "outputs": [
    {
     "data": {
      "text/html": [
       "<div>\n",
       "<style scoped>\n",
       "    .dataframe tbody tr th:only-of-type {\n",
       "        vertical-align: middle;\n",
       "    }\n",
       "\n",
       "    .dataframe tbody tr th {\n",
       "        vertical-align: top;\n",
       "    }\n",
       "\n",
       "    .dataframe thead th {\n",
       "        text-align: right;\n",
       "    }\n",
       "</style>\n",
       "<table border=\"1\" class=\"dataframe\">\n",
       "  <thead>\n",
       "    <tr style=\"text-align: right;\">\n",
       "      <th></th>\n",
       "      <th>ID_ZAD</th>\n",
       "      <th>DATA</th>\n",
       "      <th>ROZ_DNIA</th>\n",
       "      <th>ZAK_DNIA</th>\n",
       "      <th>GODZ_PL</th>\n",
       "      <th>DATA_ROZ</th>\n",
       "      <th>GODZ_ROZ</th>\n",
       "      <th>DATA_ZAK</th>\n",
       "      <th>GODZ_ZAK</th>\n",
       "      <th>KOD_OPER</th>\n",
       "      <th>date_start</th>\n",
       "      <th>date_finish</th>\n",
       "      <th>KOD_GR_RCP</th>\n",
       "      <th>ZADANIE</th>\n",
       "      <th>NAZWISKO</th>\n",
       "    </tr>\n",
       "  </thead>\n",
       "  <tbody>\n",
       "    <tr>\n",
       "      <th>72</th>\n",
       "      <td>ZP0000000377</td>\n",
       "      <td>2021-02-03</td>\n",
       "      <td></td>\n",
       "      <td></td>\n",
       "      <td></td>\n",
       "      <td>21/02/03</td>\n",
       "      <td>10:18:25</td>\n",
       "      <td>21/02/03</td>\n",
       "      <td>13:30:19</td>\n",
       "      <td>1427</td>\n",
       "      <td>2021-02-03 10:18:00</td>\n",
       "      <td>2021-02-03 13:30:00</td>\n",
       "      <td>KUP</td>\n",
       "      <td>RELOKACJA</td>\n",
       "      <td>G. HOWANIEC</td>\n",
       "    </tr>\n",
       "    <tr>\n",
       "      <th>73</th>\n",
       "      <td>ZP0000006461</td>\n",
       "      <td>2021-02-03</td>\n",
       "      <td></td>\n",
       "      <td></td>\n",
       "      <td></td>\n",
       "      <td>21/02/03</td>\n",
       "      <td>10:18:34</td>\n",
       "      <td>21/02/03</td>\n",
       "      <td>13:30:59</td>\n",
       "      <td>196</td>\n",
       "      <td>2021-02-03 10:18:00</td>\n",
       "      <td>2021-02-03 13:30:00</td>\n",
       "      <td>KUP</td>\n",
       "      <td>LISTOWANIE AUTOMAT</td>\n",
       "      <td>M. MIESZCZAK</td>\n",
       "    </tr>\n",
       "    <tr>\n",
       "      <th>74</th>\n",
       "      <td>ZP0000000377</td>\n",
       "      <td>2021-02-03</td>\n",
       "      <td></td>\n",
       "      <td></td>\n",
       "      <td></td>\n",
       "      <td>21/02/03</td>\n",
       "      <td>10:18:43</td>\n",
       "      <td>21/02/03</td>\n",
       "      <td>13:30:38</td>\n",
       "      <td>1711</td>\n",
       "      <td>2021-02-03 10:18:00</td>\n",
       "      <td>2021-02-03 13:30:00</td>\n",
       "      <td>KUP</td>\n",
       "      <td>RELOKACJA</td>\n",
       "      <td>K. TOMIAK</td>\n",
       "    </tr>\n",
       "    <tr>\n",
       "      <th>78</th>\n",
       "      <td>ZP0000000377</td>\n",
       "      <td>2021-02-03</td>\n",
       "      <td></td>\n",
       "      <td></td>\n",
       "      <td></td>\n",
       "      <td>21/02/03</td>\n",
       "      <td>10:18:50</td>\n",
       "      <td>21/02/03</td>\n",
       "      <td>13:30:39</td>\n",
       "      <td>1954</td>\n",
       "      <td>2021-02-03 10:18:00</td>\n",
       "      <td>2021-02-03 13:30:00</td>\n",
       "      <td>KUP</td>\n",
       "      <td>RELOKACJA</td>\n",
       "      <td>M. PROCHOWNIK</td>\n",
       "    </tr>\n",
       "    <tr>\n",
       "      <th>82</th>\n",
       "      <td>ZP0000000377</td>\n",
       "      <td>2021-02-03</td>\n",
       "      <td></td>\n",
       "      <td></td>\n",
       "      <td></td>\n",
       "      <td>21/02/03</td>\n",
       "      <td>10:19:02</td>\n",
       "      <td>21/02/03</td>\n",
       "      <td>13:30:20</td>\n",
       "      <td>1888</td>\n",
       "      <td>2021-02-03 10:19:00</td>\n",
       "      <td>2021-02-03 13:30:00</td>\n",
       "      <td>KUP</td>\n",
       "      <td>RELOKACJA</td>\n",
       "      <td>R. DRÓŻDŻ</td>\n",
       "    </tr>\n",
       "    <tr>\n",
       "      <th>...</th>\n",
       "      <td>...</td>\n",
       "      <td>...</td>\n",
       "      <td>...</td>\n",
       "      <td>...</td>\n",
       "      <td>...</td>\n",
       "      <td>...</td>\n",
       "      <td>...</td>\n",
       "      <td>...</td>\n",
       "      <td>...</td>\n",
       "      <td>...</td>\n",
       "      <td>...</td>\n",
       "      <td>...</td>\n",
       "      <td>...</td>\n",
       "      <td>...</td>\n",
       "      <td>...</td>\n",
       "    </tr>\n",
       "    <tr>\n",
       "      <th>574500</th>\n",
       "      <td>ZP0000000937</td>\n",
       "      <td>2022-06-03</td>\n",
       "      <td></td>\n",
       "      <td></td>\n",
       "      <td></td>\n",
       "      <td>22/06/03</td>\n",
       "      <td>15:56:38</td>\n",
       "      <td>22/06/03</td>\n",
       "      <td>17:08:00</td>\n",
       "      <td>1931</td>\n",
       "      <td>2022-06-03 15:56:00</td>\n",
       "      <td>2022-06-03 17:08:00</td>\n",
       "      <td>KUP</td>\n",
       "      <td>MAGAZYN -POMOC</td>\n",
       "      <td>E. PALA</td>\n",
       "    </tr>\n",
       "    <tr>\n",
       "      <th>574501</th>\n",
       "      <td>ZP0000000937</td>\n",
       "      <td>2022-06-03</td>\n",
       "      <td></td>\n",
       "      <td></td>\n",
       "      <td></td>\n",
       "      <td>22/06/03</td>\n",
       "      <td>15:56:48</td>\n",
       "      <td>22/06/03</td>\n",
       "      <td>17:07:49</td>\n",
       "      <td>322</td>\n",
       "      <td>2022-06-03 15:56:00</td>\n",
       "      <td>2022-06-03 17:07:00</td>\n",
       "      <td>KUP</td>\n",
       "      <td>MAGAZYN -POMOC</td>\n",
       "      <td>A. OKRZESIK</td>\n",
       "    </tr>\n",
       "    <tr>\n",
       "      <th>574594</th>\n",
       "      <td>ZP0000000377</td>\n",
       "      <td>2022-06-13</td>\n",
       "      <td></td>\n",
       "      <td></td>\n",
       "      <td></td>\n",
       "      <td>22/06/13</td>\n",
       "      <td>05:21:38</td>\n",
       "      <td>22/06/13</td>\n",
       "      <td>13:30:09</td>\n",
       "      <td>1145</td>\n",
       "      <td>2022-06-13 05:21:00</td>\n",
       "      <td>2022-06-13 13:30:00</td>\n",
       "      <td>KUP</td>\n",
       "      <td>RELOKACJA</td>\n",
       "      <td>P. MIKOCIAK</td>\n",
       "    </tr>\n",
       "    <tr>\n",
       "      <th>574840</th>\n",
       "      <td>ZP0000006461</td>\n",
       "      <td>2022-06-21</td>\n",
       "      <td></td>\n",
       "      <td></td>\n",
       "      <td></td>\n",
       "      <td>22/06/21</td>\n",
       "      <td>10:20:31</td>\n",
       "      <td>22/06/21</td>\n",
       "      <td>13:30:20</td>\n",
       "      <td>196</td>\n",
       "      <td>2022-06-21 10:20:00</td>\n",
       "      <td>2022-06-21 13:30:00</td>\n",
       "      <td>KUP</td>\n",
       "      <td>LISTOWANIE AUTOMAT</td>\n",
       "      <td>M. MIESZCZAK</td>\n",
       "    </tr>\n",
       "    <tr>\n",
       "      <th>575281</th>\n",
       "      <td>ZP0000006461</td>\n",
       "      <td>2022-06-10</td>\n",
       "      <td></td>\n",
       "      <td></td>\n",
       "      <td></td>\n",
       "      <td>22/06/10</td>\n",
       "      <td>10:22:33</td>\n",
       "      <td>22/06/10</td>\n",
       "      <td>13:31:12</td>\n",
       "      <td>196</td>\n",
       "      <td>2022-06-10 10:22:00</td>\n",
       "      <td>2022-06-10 13:31:00</td>\n",
       "      <td>KUP</td>\n",
       "      <td>LISTOWANIE AUTOMAT</td>\n",
       "      <td>M. MIESZCZAK</td>\n",
       "    </tr>\n",
       "  </tbody>\n",
       "</table>\n",
       "<p>8960 rows × 15 columns</p>\n",
       "</div>"
      ],
      "text/plain": [
       "              ID_ZAD       DATA ROZ_DNIA ZAK_DNIA GODZ_PL  DATA_ROZ  GODZ_ROZ  \\\n",
       "72      ZP0000000377 2021-02-03                            21/02/03  10:18:25   \n",
       "73      ZP0000006461 2021-02-03                            21/02/03  10:18:34   \n",
       "74      ZP0000000377 2021-02-03                            21/02/03  10:18:43   \n",
       "78      ZP0000000377 2021-02-03                            21/02/03  10:18:50   \n",
       "82      ZP0000000377 2021-02-03                            21/02/03  10:19:02   \n",
       "...              ...        ...      ...      ...     ...       ...       ...   \n",
       "574500  ZP0000000937 2022-06-03                            22/06/03  15:56:38   \n",
       "574501  ZP0000000937 2022-06-03                            22/06/03  15:56:48   \n",
       "574594  ZP0000000377 2022-06-13                            22/06/13  05:21:38   \n",
       "574840  ZP0000006461 2022-06-21                            22/06/21  10:20:31   \n",
       "575281  ZP0000006461 2022-06-10                            22/06/10  10:22:33   \n",
       "\n",
       "        DATA_ZAK  GODZ_ZAK  KOD_OPER          date_start         date_finish  \\\n",
       "72      21/02/03  13:30:19      1427 2021-02-03 10:18:00 2021-02-03 13:30:00   \n",
       "73      21/02/03  13:30:59       196 2021-02-03 10:18:00 2021-02-03 13:30:00   \n",
       "74      21/02/03  13:30:38      1711 2021-02-03 10:18:00 2021-02-03 13:30:00   \n",
       "78      21/02/03  13:30:39      1954 2021-02-03 10:18:00 2021-02-03 13:30:00   \n",
       "82      21/02/03  13:30:20      1888 2021-02-03 10:19:00 2021-02-03 13:30:00   \n",
       "...          ...       ...       ...                 ...                 ...   \n",
       "574500  22/06/03  17:08:00      1931 2022-06-03 15:56:00 2022-06-03 17:08:00   \n",
       "574501  22/06/03  17:07:49       322 2022-06-03 15:56:00 2022-06-03 17:07:00   \n",
       "574594  22/06/13  13:30:09      1145 2022-06-13 05:21:00 2022-06-13 13:30:00   \n",
       "574840  22/06/21  13:30:20       196 2022-06-21 10:20:00 2022-06-21 13:30:00   \n",
       "575281  22/06/10  13:31:12       196 2022-06-10 10:22:00 2022-06-10 13:31:00   \n",
       "\n",
       "       KOD_GR_RCP             ZADANIE       NAZWISKO  \n",
       "72            KUP           RELOKACJA    G. HOWANIEC  \n",
       "73            KUP  LISTOWANIE AUTOMAT   M. MIESZCZAK  \n",
       "74            KUP           RELOKACJA      K. TOMIAK  \n",
       "78            KUP           RELOKACJA  M. PROCHOWNIK  \n",
       "82            KUP           RELOKACJA      R. DRÓŻDŻ  \n",
       "...           ...                 ...            ...  \n",
       "574500        KUP      MAGAZYN -POMOC        E. PALA  \n",
       "574501        KUP      MAGAZYN -POMOC    A. OKRZESIK  \n",
       "574594        KUP           RELOKACJA    P. MIKOCIAK  \n",
       "574840        KUP  LISTOWANIE AUTOMAT   M. MIESZCZAK  \n",
       "575281        KUP  LISTOWANIE AUTOMAT   M. MIESZCZAK  \n",
       "\n",
       "[8960 rows x 15 columns]"
      ]
     },
     "execution_count": 91,
     "metadata": {},
     "output_type": "execute_result"
    }
   ],
   "source": [
    "df_rcp.loc[df_rcp['ZADANIE'].isin(arr_lista_zadan)].loc[df_rcp['KOD_GR_RCP']=='KUP']"
   ]
  },
  {
   "cell_type": "code",
   "execution_count": 92,
   "id": "0e61eb33-5929-4a7d-a7f3-9f2539eed309",
   "metadata": {},
   "outputs": [
    {
     "data": {
      "text/plain": [
       "array(['G. HOWANIEC', 'M. MIESZCZAK', 'K. TOMIAK', 'M. PROCHOWNIK',\n",
       "       'R. DRÓŻDŻ', 'P. MIKOCIAK', 'K. OŻGA', 'K. GRZYBOWSKI', 'M. TKACZ',\n",
       "       'K. WOSZCZEK', 'P. WOJTAS', 'M. ŻUKOWSKI', 'D. LEŚNIAK',\n",
       "       'M. ZEMAN', 'P. MAŚLANKA', 'P. KABAT', 'S. KURAS', 'A. BUŁAWA',\n",
       "       'I. DRABEK', 'B. DURAJ', 'D. CIEŚLAWSKI', 'M. GÓRNY',\n",
       "       'E. MAJCHEREK', 'J. CYGOŃ', 'A. TOMASZEK', 'E. MIKUSZEK-CZUL',\n",
       "       'Z. LEJAWA', 'S. KAPAŁA', 'S. WISŁA', 'A. SZYMAŃSKA', 'P. PUCHACZ',\n",
       "       'P. WIDUCH', 'A. KASTELIK', 'K. RYPIEŃ', 'A. KRZAK', 'S. NISZWIC',\n",
       "       'E. PALA', 'A. OKRZESIK', 'G. ŁUKAŃKO', 'M. PTAK'], dtype=object)"
      ]
     },
     "execution_count": 92,
     "metadata": {},
     "output_type": "execute_result"
    }
   ],
   "source": [
    "df_rcp.loc[df_rcp['ZADANIE'].isin(arr_lista_zadan)].loc[df_rcp['KOD_GR_RCP']=='KUP']['NAZWISKO'].unique()"
   ]
  },
  {
   "cell_type": "code",
   "execution_count": 94,
   "id": "c6e41b60-d53e-41c0-8bc0-5edc55eed0e8",
   "metadata": {},
   "outputs": [
    {
     "data": {
      "text/html": [
       "<div>\n",
       "<style scoped>\n",
       "    .dataframe tbody tr th:only-of-type {\n",
       "        vertical-align: middle;\n",
       "    }\n",
       "\n",
       "    .dataframe tbody tr th {\n",
       "        vertical-align: top;\n",
       "    }\n",
       "\n",
       "    .dataframe thead th {\n",
       "        text-align: right;\n",
       "    }\n",
       "</style>\n",
       "<table border=\"1\" class=\"dataframe\">\n",
       "  <thead>\n",
       "    <tr style=\"text-align: right;\">\n",
       "      <th></th>\n",
       "      <th>ID_ZAD</th>\n",
       "      <th>DATA</th>\n",
       "      <th>ROZ_DNIA</th>\n",
       "      <th>ZAK_DNIA</th>\n",
       "      <th>GODZ_PL</th>\n",
       "      <th>DATA_ROZ</th>\n",
       "      <th>GODZ_ROZ</th>\n",
       "      <th>DATA_ZAK</th>\n",
       "      <th>GODZ_ZAK</th>\n",
       "      <th>KOD_OPER</th>\n",
       "      <th>date_start</th>\n",
       "      <th>date_finish</th>\n",
       "      <th>KOD_GR_RCP</th>\n",
       "      <th>ZADANIE</th>\n",
       "      <th>NAZWISKO</th>\n",
       "    </tr>\n",
       "  </thead>\n",
       "  <tbody>\n",
       "    <tr>\n",
       "      <th>500961</th>\n",
       "      <td>ZP0000000937</td>\n",
       "      <td>2022-03-02</td>\n",
       "      <td></td>\n",
       "      <td></td>\n",
       "      <td></td>\n",
       "      <td>22/03/02</td>\n",
       "      <td>10:59:38</td>\n",
       "      <td>22/03/02</td>\n",
       "      <td>13:30:08</td>\n",
       "      <td>956</td>\n",
       "      <td>2022-03-02 10:59:00</td>\n",
       "      <td>2022-03-02 13:30:00</td>\n",
       "      <td>KUP</td>\n",
       "      <td>MAGAZYN -POMOC</td>\n",
       "      <td>S. NISZWIC</td>\n",
       "    </tr>\n",
       "  </tbody>\n",
       "</table>\n",
       "</div>"
      ],
      "text/plain": [
       "              ID_ZAD       DATA ROZ_DNIA ZAK_DNIA GODZ_PL  DATA_ROZ  GODZ_ROZ  \\\n",
       "500961  ZP0000000937 2022-03-02                            22/03/02  10:59:38   \n",
       "\n",
       "        DATA_ZAK  GODZ_ZAK  KOD_OPER          date_start         date_finish  \\\n",
       "500961  22/03/02  13:30:08       956 2022-03-02 10:59:00 2022-03-02 13:30:00   \n",
       "\n",
       "       KOD_GR_RCP         ZADANIE    NAZWISKO  \n",
       "500961        KUP  MAGAZYN -POMOC  S. NISZWIC  "
      ]
     },
     "execution_count": 94,
     "metadata": {},
     "output_type": "execute_result"
    }
   ],
   "source": [
    "df_rcp.loc[df_rcp['ZADANIE'].isin(arr_lista_zadan)].loc[df_rcp['KOD_GR_RCP']=='KUP'].loc[df_rcp['NAZWISKO']=='S. NISZWIC']"
   ]
  },
  {
   "cell_type": "code",
   "execution_count": 103,
   "id": "6b5c634d-d83d-45de-a928-ad464ca03269",
   "metadata": {},
   "outputs": [],
   "source": [
    "_=['D. CIEŚLAWSKI', 'K. GRZYBOWSKI', 'G. HOWANIEC', 'A. KASTELIK',\n",
    "       'P. MIKOCIAK', 'M. MIESZCZAK', 'K. OŻGA', 'M. PROCHOWNIK',\n",
    "       'M. PTAK', 'P. PUCHACZ', 'M. ŻUKOWSKI']"
   ]
  },
  {
   "cell_type": "code",
   "execution_count": 111,
   "id": "20c57825-7c6f-4284-af50-682cc1b4ebc1",
   "metadata": {},
   "outputs": [
    {
     "data": {
      "text/plain": [
       "array(['D. LEŚNIAK', 'J. CYGOŃ', 'K. TOMIAK', 'K. WOSZCZEK', 'M. TKACZ',\n",
       "       'P. KABAT', 'P. WOJTAS', 'R. DRÓŻDŻ', 'S. KURAS'], dtype=object)"
      ]
     },
     "execution_count": 111,
     "metadata": {},
     "output_type": "execute_result"
    }
   ],
   "source": [
    "df_rcp.loc[df_rcp['ZADANIE'].isin(['RELOKACJA'])].loc[df_rcp['KOD_GR_RCP']=='KUP'].loc[~df_rcp['NAZWISKO'].isin(_)].groupby(['NAZWISKO','ZADANIE']).agg({'DATA':'nunique'}).reset_index()['NAZWISKO'].unique()"
   ]
  },
  {
   "cell_type": "code",
   "execution_count": 105,
   "id": "51951d6b-c2b4-45b3-b86d-381e9c6f5d9e",
   "metadata": {},
   "outputs": [
    {
     "data": {
      "text/html": [
       "<div>\n",
       "<style scoped>\n",
       "    .dataframe tbody tr th:only-of-type {\n",
       "        vertical-align: middle;\n",
       "    }\n",
       "\n",
       "    .dataframe tbody tr th {\n",
       "        vertical-align: top;\n",
       "    }\n",
       "\n",
       "    .dataframe thead th {\n",
       "        text-align: right;\n",
       "    }\n",
       "</style>\n",
       "<table border=\"1\" class=\"dataframe\">\n",
       "  <thead>\n",
       "    <tr style=\"text-align: right;\">\n",
       "      <th></th>\n",
       "      <th></th>\n",
       "      <th>DATA</th>\n",
       "    </tr>\n",
       "    <tr>\n",
       "      <th>NAZWISKO</th>\n",
       "      <th>ZADANIE</th>\n",
       "      <th></th>\n",
       "    </tr>\n",
       "  </thead>\n",
       "  <tbody>\n",
       "    <tr>\n",
       "      <th rowspan=\"2\" valign=\"top\">A. KASTELIK</th>\n",
       "      <th>MAGAZYN -POMOC</th>\n",
       "      <td>1</td>\n",
       "    </tr>\n",
       "    <tr>\n",
       "      <th>RELOKACJA</th>\n",
       "      <td>84</td>\n",
       "    </tr>\n",
       "    <tr>\n",
       "      <th rowspan=\"2\" valign=\"top\">D. CIEŚLAWSKI</th>\n",
       "      <th>MAGAZYN -POMOC</th>\n",
       "      <td>1</td>\n",
       "    </tr>\n",
       "    <tr>\n",
       "      <th>RELOKACJA</th>\n",
       "      <td>165</td>\n",
       "    </tr>\n",
       "    <tr>\n",
       "      <th rowspan=\"5\" valign=\"top\">G. HOWANIEC</th>\n",
       "      <th>KUPONY PAKOWANIE</th>\n",
       "      <td>1</td>\n",
       "    </tr>\n",
       "    <tr>\n",
       "      <th>KUPONY PAKOWANIE AUTOMAT</th>\n",
       "      <td>50</td>\n",
       "    </tr>\n",
       "    <tr>\n",
       "      <th>LISTOWANIE AUTOMAT</th>\n",
       "      <td>2</td>\n",
       "    </tr>\n",
       "    <tr>\n",
       "      <th>MAGAZYN -POMOC</th>\n",
       "      <td>7</td>\n",
       "    </tr>\n",
       "    <tr>\n",
       "      <th>RELOKACJA</th>\n",
       "      <td>566</td>\n",
       "    </tr>\n",
       "    <tr>\n",
       "      <th rowspan=\"2\" valign=\"top\">K. GRZYBOWSKI</th>\n",
       "      <th>MAGAZYN -POMOC</th>\n",
       "      <td>11</td>\n",
       "    </tr>\n",
       "    <tr>\n",
       "      <th>RELOKACJA</th>\n",
       "      <td>467</td>\n",
       "    </tr>\n",
       "    <tr>\n",
       "      <th rowspan=\"3\" valign=\"top\">K. OŻGA</th>\n",
       "      <th>LISTOWANIE AUTOMAT</th>\n",
       "      <td>26</td>\n",
       "    </tr>\n",
       "    <tr>\n",
       "      <th>MAGAZYN -POMOC</th>\n",
       "      <td>4</td>\n",
       "    </tr>\n",
       "    <tr>\n",
       "      <th>RELOKACJA</th>\n",
       "      <td>497</td>\n",
       "    </tr>\n",
       "    <tr>\n",
       "      <th rowspan=\"4\" valign=\"top\">M. MIESZCZAK</th>\n",
       "      <th>KUPONY PAKOWANIE AUTOMAT</th>\n",
       "      <td>1</td>\n",
       "    </tr>\n",
       "    <tr>\n",
       "      <th>LISTOWANIE AUTOMAT</th>\n",
       "      <td>443</td>\n",
       "    </tr>\n",
       "    <tr>\n",
       "      <th>MAGAZYN -POMOC</th>\n",
       "      <td>2</td>\n",
       "    </tr>\n",
       "    <tr>\n",
       "      <th>RELOKACJA</th>\n",
       "      <td>496</td>\n",
       "    </tr>\n",
       "    <tr>\n",
       "      <th rowspan=\"3\" valign=\"top\">M. PROCHOWNIK</th>\n",
       "      <th>KUPONY PAKOWANIE AUTOMAT</th>\n",
       "      <td>1</td>\n",
       "    </tr>\n",
       "    <tr>\n",
       "      <th>MAGAZYN -POMOC</th>\n",
       "      <td>4</td>\n",
       "    </tr>\n",
       "    <tr>\n",
       "      <th>RELOKACJA</th>\n",
       "      <td>371</td>\n",
       "    </tr>\n",
       "    <tr>\n",
       "      <th>M. PTAK</th>\n",
       "      <th>RELOKACJA</th>\n",
       "      <td>52</td>\n",
       "    </tr>\n",
       "    <tr>\n",
       "      <th rowspan=\"2\" valign=\"top\">M. ŻUKOWSKI</th>\n",
       "      <th>KUPONY PAKOWANIE AUTOMAT</th>\n",
       "      <td>1</td>\n",
       "    </tr>\n",
       "    <tr>\n",
       "      <th>RELOKACJA</th>\n",
       "      <td>441</td>\n",
       "    </tr>\n",
       "    <tr>\n",
       "      <th rowspan=\"5\" valign=\"top\">P. MIKOCIAK</th>\n",
       "      <th>KUPONY PAKOWANIE</th>\n",
       "      <td>2</td>\n",
       "    </tr>\n",
       "    <tr>\n",
       "      <th>KUPONY PAKOWANIE AUTOMAT</th>\n",
       "      <td>36</td>\n",
       "    </tr>\n",
       "    <tr>\n",
       "      <th>LISTOWANIE AUTOMAT</th>\n",
       "      <td>346</td>\n",
       "    </tr>\n",
       "    <tr>\n",
       "      <th>MAGAZYN -POMOC</th>\n",
       "      <td>5</td>\n",
       "    </tr>\n",
       "    <tr>\n",
       "      <th>RELOKACJA</th>\n",
       "      <td>503</td>\n",
       "    </tr>\n",
       "    <tr>\n",
       "      <th>P. PUCHACZ</th>\n",
       "      <th>RELOKACJA</th>\n",
       "      <td>83</td>\n",
       "    </tr>\n",
       "  </tbody>\n",
       "</table>\n",
       "</div>"
      ],
      "text/plain": [
       "                                        DATA\n",
       "NAZWISKO      ZADANIE                       \n",
       "A. KASTELIK   MAGAZYN -POMOC               1\n",
       "              RELOKACJA                   84\n",
       "D. CIEŚLAWSKI MAGAZYN -POMOC               1\n",
       "              RELOKACJA                  165\n",
       "G. HOWANIEC   KUPONY PAKOWANIE             1\n",
       "              KUPONY PAKOWANIE AUTOMAT    50\n",
       "              LISTOWANIE AUTOMAT           2\n",
       "              MAGAZYN -POMOC               7\n",
       "              RELOKACJA                  566\n",
       "K. GRZYBOWSKI MAGAZYN -POMOC              11\n",
       "              RELOKACJA                  467\n",
       "K. OŻGA       LISTOWANIE AUTOMAT          26\n",
       "              MAGAZYN -POMOC               4\n",
       "              RELOKACJA                  497\n",
       "M. MIESZCZAK  KUPONY PAKOWANIE AUTOMAT     1\n",
       "              LISTOWANIE AUTOMAT         443\n",
       "              MAGAZYN -POMOC               2\n",
       "              RELOKACJA                  496\n",
       "M. PROCHOWNIK KUPONY PAKOWANIE AUTOMAT     1\n",
       "              MAGAZYN -POMOC               4\n",
       "              RELOKACJA                  371\n",
       "M. PTAK       RELOKACJA                   52\n",
       "M. ŻUKOWSKI   KUPONY PAKOWANIE AUTOMAT     1\n",
       "              RELOKACJA                  441\n",
       "P. MIKOCIAK   KUPONY PAKOWANIE             2\n",
       "              KUPONY PAKOWANIE AUTOMAT    36\n",
       "              LISTOWANIE AUTOMAT         346\n",
       "              MAGAZYN -POMOC               5\n",
       "              RELOKACJA                  503\n",
       "P. PUCHACZ    RELOKACJA                   83"
      ]
     },
     "execution_count": 105,
     "metadata": {},
     "output_type": "execute_result"
    }
   ],
   "source": [
    "df_rcp.loc[df_rcp['ZADANIE'].isin(arr_lista_zadan)].loc[df_rcp['KOD_GR_RCP']=='KUP'].loc[df_rcp['NAZWISKO'].isin(_)].groupby(['NAZWISKO','ZADANIE']).agg({'DATA':'nunique'})"
   ]
  },
  {
   "cell_type": "code",
   "execution_count": null,
   "id": "041131e7-a8dc-4ace-973a-a62e78c63a3c",
   "metadata": {},
   "outputs": [],
   "source": []
  },
  {
   "cell_type": "code",
   "execution_count": null,
   "id": "4684532f-0958-447f-938d-46234d7b83da",
   "metadata": {},
   "outputs": [],
   "source": []
  },
  {
   "cell_type": "code",
   "execution_count": null,
   "id": "603f16cb-1938-47c3-be1c-f3ddfb9f9070",
   "metadata": {},
   "outputs": [],
   "source": []
  },
  {
   "cell_type": "code",
   "execution_count": 124,
   "id": "a6dd83af-4955-4fcb-af0a-b95ec182792a",
   "metadata": {},
   "outputs": [
    {
     "data": {
      "text/plain": [
       "array(['90XXXX', 'QMXXXX', 'QKXXXX', 'QSXXXX', 'O6XXXX', 'QTXXXX',\n",
       "       'QLXXXX', 'QNXXXX', '52XXXX', 'QJXXXX', 'AOXXXX', 'QOXXXX',\n",
       "       'Q4XXXX', 'X3XXXX', 'QPXXXX', 'O8XXXX', 'SCXXXX', '62XXXX',\n",
       "       '22XXXX', 'QIXXXX', 'QUXXXX', 'QQXXXX', 'DYXXXX', 'QGXXXX',\n",
       "       '36XXXX', 'QWXXXX', '29XXXX', 'QRXXXX', 'AJXXXX', '56XXXX',\n",
       "       'QXXXXX', '37XXXX'], dtype=object)"
      ]
     },
     "execution_count": 124,
     "metadata": {},
     "output_type": "execute_result"
    }
   ],
   "source": [
    "df_zamowienia.loc[df_zamowienia['KOD'].str.contains('XXX')]['KOD'].unique()"
   ]
  },
  {
   "cell_type": "code",
   "execution_count": 125,
   "id": "c539178e-e649-4ee5-a2f0-df0aefdd3dd5",
   "metadata": {},
   "outputs": [
    {
     "data": {
      "text/html": [
       "<div>\n",
       "<style scoped>\n",
       "    .dataframe tbody tr th:only-of-type {\n",
       "        vertical-align: middle;\n",
       "    }\n",
       "\n",
       "    .dataframe tbody tr th {\n",
       "        vertical-align: top;\n",
       "    }\n",
       "\n",
       "    .dataframe thead th {\n",
       "        text-align: right;\n",
       "    }\n",
       "</style>\n",
       "<table border=\"1\" class=\"dataframe\">\n",
       "  <thead>\n",
       "    <tr style=\"text-align: right;\">\n",
       "      <th></th>\n",
       "      <th>FAKTURA</th>\n",
       "      <th>Z_DNIA</th>\n",
       "      <th>KOD</th>\n",
       "      <th>KOD_OPER</th>\n",
       "      <th>FAKTURA_KD</th>\n",
       "      <th>OPIS</th>\n",
       "      <th>RODZAJ</th>\n",
       "      <th>TYP_DOKUM</th>\n",
       "      <th>WARTOSC_B_N13</th>\n",
       "      <th>WARTOSC_B_ZAMOW1</th>\n",
       "      <th>year</th>\n",
       "      <th>month</th>\n",
       "      <th>day_of_year</th>\n",
       "      <th>week</th>\n",
       "      <th>week_day</th>\n",
       "      <th>year_month</th>\n",
       "      <th>year_week</th>\n",
       "      <th>year_day</th>\n",
       "      <th>NAZWISKO</th>\n",
       "      <th>czy_z_kuponow</th>\n",
       "    </tr>\n",
       "  </thead>\n",
       "  <tbody>\n",
       "    <tr>\n",
       "      <th>35579</th>\n",
       "      <td>ZO6000246247</td>\n",
       "      <td>2020-10-23</td>\n",
       "      <td>29XXXX</td>\n",
       "      <td>409</td>\n",
       "      <td>nie_pusta</td>\n",
       "      <td>0</td>\n",
       "      <td>RZ</td>\n",
       "      <td>M</td>\n",
       "      <td>582.84</td>\n",
       "      <td>582.84</td>\n",
       "      <td>2020</td>\n",
       "      <td>10</td>\n",
       "      <td>297</td>\n",
       "      <td>43</td>\n",
       "      <td>5</td>\n",
       "      <td>2020-10-01</td>\n",
       "      <td>2020--43</td>\n",
       "      <td>2020--297</td>\n",
       "      <td>E. JANOTA</td>\n",
       "      <td>nie</td>\n",
       "    </tr>\n",
       "    <tr>\n",
       "      <th>43614</th>\n",
       "      <td>ZO6000238247</td>\n",
       "      <td>2020-09-30</td>\n",
       "      <td>29XXXX</td>\n",
       "      <td>432</td>\n",
       "      <td>nie_pusta</td>\n",
       "      <td>0</td>\n",
       "      <td>RZ</td>\n",
       "      <td>M</td>\n",
       "      <td>281.42</td>\n",
       "      <td>281.42</td>\n",
       "      <td>2020</td>\n",
       "      <td>9</td>\n",
       "      <td>274</td>\n",
       "      <td>40</td>\n",
       "      <td>3</td>\n",
       "      <td>2020-09-01</td>\n",
       "      <td>2020--40</td>\n",
       "      <td>2020--274</td>\n",
       "      <td>I. PAŁOSZ</td>\n",
       "      <td>tak</td>\n",
       "    </tr>\n",
       "    <tr>\n",
       "      <th>48673</th>\n",
       "      <td>ZO6000278792</td>\n",
       "      <td>2021-01-20</td>\n",
       "      <td>29XXXX</td>\n",
       "      <td>199</td>\n",
       "      <td>nie_pusta</td>\n",
       "      <td>0</td>\n",
       "      <td>RZ</td>\n",
       "      <td>M</td>\n",
       "      <td>647.82</td>\n",
       "      <td>647.82</td>\n",
       "      <td>2021</td>\n",
       "      <td>1</td>\n",
       "      <td>20</td>\n",
       "      <td>3</td>\n",
       "      <td>3</td>\n",
       "      <td>2021-01-01</td>\n",
       "      <td>2021--03</td>\n",
       "      <td>2021--020</td>\n",
       "      <td>M. PIĄTEK</td>\n",
       "      <td>nie</td>\n",
       "    </tr>\n",
       "    <tr>\n",
       "      <th>53267</th>\n",
       "      <td>ZO6000277498</td>\n",
       "      <td>2021-01-15</td>\n",
       "      <td>29XXXX</td>\n",
       "      <td>199</td>\n",
       "      <td>nie_pusta</td>\n",
       "      <td>0</td>\n",
       "      <td>RZ</td>\n",
       "      <td>M</td>\n",
       "      <td>99.63</td>\n",
       "      <td>99.63</td>\n",
       "      <td>2021</td>\n",
       "      <td>1</td>\n",
       "      <td>15</td>\n",
       "      <td>2</td>\n",
       "      <td>5</td>\n",
       "      <td>2021-01-01</td>\n",
       "      <td>2021--02</td>\n",
       "      <td>2021--015</td>\n",
       "      <td>M. PIĄTEK</td>\n",
       "      <td>nie</td>\n",
       "    </tr>\n",
       "    <tr>\n",
       "      <th>56018</th>\n",
       "      <td>ZO6000266103</td>\n",
       "      <td>2020-12-09</td>\n",
       "      <td>29XXXX</td>\n",
       "      <td>199</td>\n",
       "      <td>nie_pusta</td>\n",
       "      <td>0</td>\n",
       "      <td>RZ</td>\n",
       "      <td>M</td>\n",
       "      <td>420.11</td>\n",
       "      <td>420.11</td>\n",
       "      <td>2020</td>\n",
       "      <td>12</td>\n",
       "      <td>344</td>\n",
       "      <td>50</td>\n",
       "      <td>3</td>\n",
       "      <td>2020-12-01</td>\n",
       "      <td>2020--50</td>\n",
       "      <td>2020--344</td>\n",
       "      <td>M. PIĄTEK</td>\n",
       "      <td>nie</td>\n",
       "    </tr>\n",
       "    <tr>\n",
       "      <th>56019</th>\n",
       "      <td>ZO6000266419</td>\n",
       "      <td>2020-12-09</td>\n",
       "      <td>29XXXX</td>\n",
       "      <td>199</td>\n",
       "      <td>nie_pusta</td>\n",
       "      <td>0</td>\n",
       "      <td>RZ</td>\n",
       "      <td>M</td>\n",
       "      <td>165.50</td>\n",
       "      <td>165.50</td>\n",
       "      <td>2020</td>\n",
       "      <td>12</td>\n",
       "      <td>344</td>\n",
       "      <td>50</td>\n",
       "      <td>3</td>\n",
       "      <td>2020-12-01</td>\n",
       "      <td>2020--50</td>\n",
       "      <td>2020--344</td>\n",
       "      <td>M. PIĄTEK</td>\n",
       "      <td>nie</td>\n",
       "    </tr>\n",
       "    <tr>\n",
       "      <th>59004</th>\n",
       "      <td>ZO6000278134</td>\n",
       "      <td>2021-01-18</td>\n",
       "      <td>29XXXX</td>\n",
       "      <td>199</td>\n",
       "      <td>nie_pusta</td>\n",
       "      <td>0</td>\n",
       "      <td>RZ</td>\n",
       "      <td>M</td>\n",
       "      <td>77.22</td>\n",
       "      <td>77.22</td>\n",
       "      <td>2021</td>\n",
       "      <td>1</td>\n",
       "      <td>18</td>\n",
       "      <td>3</td>\n",
       "      <td>1</td>\n",
       "      <td>2021-01-01</td>\n",
       "      <td>2021--03</td>\n",
       "      <td>2021--018</td>\n",
       "      <td>M. PIĄTEK</td>\n",
       "      <td>nie</td>\n",
       "    </tr>\n",
       "    <tr>\n",
       "      <th>59763</th>\n",
       "      <td>ZO6000279504</td>\n",
       "      <td>2021-01-22</td>\n",
       "      <td>29XXXX</td>\n",
       "      <td>199</td>\n",
       "      <td>nie_pusta</td>\n",
       "      <td>0</td>\n",
       "      <td>RZ</td>\n",
       "      <td>M</td>\n",
       "      <td>232.47</td>\n",
       "      <td>232.47</td>\n",
       "      <td>2021</td>\n",
       "      <td>1</td>\n",
       "      <td>22</td>\n",
       "      <td>3</td>\n",
       "      <td>5</td>\n",
       "      <td>2021-01-01</td>\n",
       "      <td>2021--03</td>\n",
       "      <td>2021--022</td>\n",
       "      <td>M. PIĄTEK</td>\n",
       "      <td>nie</td>\n",
       "    </tr>\n",
       "    <tr>\n",
       "      <th>60532</th>\n",
       "      <td>ZO6000278922</td>\n",
       "      <td>2021-01-20</td>\n",
       "      <td>29XXXX</td>\n",
       "      <td>461</td>\n",
       "      <td>nie_pusta</td>\n",
       "      <td>0</td>\n",
       "      <td>RZ</td>\n",
       "      <td>M</td>\n",
       "      <td>1200.23</td>\n",
       "      <td>1200.23</td>\n",
       "      <td>2021</td>\n",
       "      <td>1</td>\n",
       "      <td>20</td>\n",
       "      <td>3</td>\n",
       "      <td>3</td>\n",
       "      <td>2021-01-01</td>\n",
       "      <td>2021--03</td>\n",
       "      <td>2021--020</td>\n",
       "      <td>J. SEMIK</td>\n",
       "      <td>tak</td>\n",
       "    </tr>\n",
       "    <tr>\n",
       "      <th>71098</th>\n",
       "      <td>ZO6000307609</td>\n",
       "      <td>2021-04-07</td>\n",
       "      <td>29XXXX</td>\n",
       "      <td>199</td>\n",
       "      <td>nie_pusta</td>\n",
       "      <td>0</td>\n",
       "      <td>RZ</td>\n",
       "      <td>M</td>\n",
       "      <td>684.05</td>\n",
       "      <td>684.05</td>\n",
       "      <td>2021</td>\n",
       "      <td>4</td>\n",
       "      <td>97</td>\n",
       "      <td>14</td>\n",
       "      <td>3</td>\n",
       "      <td>2021-04-01</td>\n",
       "      <td>2021--14</td>\n",
       "      <td>2021--097</td>\n",
       "      <td>M. PIĄTEK</td>\n",
       "      <td>nie</td>\n",
       "    </tr>\n",
       "    <tr>\n",
       "      <th>74065</th>\n",
       "      <td>ZO6000286507</td>\n",
       "      <td>2021-02-11</td>\n",
       "      <td>29XXXX</td>\n",
       "      <td>409</td>\n",
       "      <td>nie_pusta</td>\n",
       "      <td>0</td>\n",
       "      <td>RZ</td>\n",
       "      <td>M</td>\n",
       "      <td>2366.32</td>\n",
       "      <td>2366.32</td>\n",
       "      <td>2021</td>\n",
       "      <td>2</td>\n",
       "      <td>42</td>\n",
       "      <td>6</td>\n",
       "      <td>4</td>\n",
       "      <td>2021-02-01</td>\n",
       "      <td>2021--06</td>\n",
       "      <td>2021--042</td>\n",
       "      <td>E. JANOTA</td>\n",
       "      <td>nie</td>\n",
       "    </tr>\n",
       "    <tr>\n",
       "      <th>80361</th>\n",
       "      <td>ZO6000316534</td>\n",
       "      <td>2021-05-06</td>\n",
       "      <td>29XXXX</td>\n",
       "      <td>409</td>\n",
       "      <td>nie_pusta</td>\n",
       "      <td>0</td>\n",
       "      <td>RZ</td>\n",
       "      <td>M</td>\n",
       "      <td>343.79</td>\n",
       "      <td>343.79</td>\n",
       "      <td>2021</td>\n",
       "      <td>5</td>\n",
       "      <td>126</td>\n",
       "      <td>18</td>\n",
       "      <td>4</td>\n",
       "      <td>2021-05-01</td>\n",
       "      <td>2021--18</td>\n",
       "      <td>2021--126</td>\n",
       "      <td>E. JANOTA</td>\n",
       "      <td>nie</td>\n",
       "    </tr>\n",
       "    <tr>\n",
       "      <th>91519</th>\n",
       "      <td>ZO6000337600</td>\n",
       "      <td>2021-07-15</td>\n",
       "      <td>29XXXX</td>\n",
       "      <td>409</td>\n",
       "      <td>nie_pusta</td>\n",
       "      <td>0</td>\n",
       "      <td>RZ</td>\n",
       "      <td>M</td>\n",
       "      <td>2488.50</td>\n",
       "      <td>2488.50</td>\n",
       "      <td>2021</td>\n",
       "      <td>7</td>\n",
       "      <td>196</td>\n",
       "      <td>28</td>\n",
       "      <td>4</td>\n",
       "      <td>2021-07-01</td>\n",
       "      <td>2021--28</td>\n",
       "      <td>2021--196</td>\n",
       "      <td>E. JANOTA</td>\n",
       "      <td>nie</td>\n",
       "    </tr>\n",
       "    <tr>\n",
       "      <th>98906</th>\n",
       "      <td>ZO6000339848</td>\n",
       "      <td>2021-07-23</td>\n",
       "      <td>29XXXX</td>\n",
       "      <td>199</td>\n",
       "      <td>nie_pusta</td>\n",
       "      <td>0</td>\n",
       "      <td>RZ</td>\n",
       "      <td>M</td>\n",
       "      <td>772.32</td>\n",
       "      <td>772.32</td>\n",
       "      <td>2021</td>\n",
       "      <td>7</td>\n",
       "      <td>204</td>\n",
       "      <td>29</td>\n",
       "      <td>5</td>\n",
       "      <td>2021-07-01</td>\n",
       "      <td>2021--29</td>\n",
       "      <td>2021--204</td>\n",
       "      <td>M. PIĄTEK</td>\n",
       "      <td>nie</td>\n",
       "    </tr>\n",
       "    <tr>\n",
       "      <th>107130</th>\n",
       "      <td>ZO6000365465</td>\n",
       "      <td>2021-10-11</td>\n",
       "      <td>29XXXX</td>\n",
       "      <td>409</td>\n",
       "      <td>nie_pusta</td>\n",
       "      <td>0</td>\n",
       "      <td>RZ</td>\n",
       "      <td>M</td>\n",
       "      <td>1495.74</td>\n",
       "      <td>1495.74</td>\n",
       "      <td>2021</td>\n",
       "      <td>10</td>\n",
       "      <td>284</td>\n",
       "      <td>41</td>\n",
       "      <td>1</td>\n",
       "      <td>2021-10-01</td>\n",
       "      <td>2021--41</td>\n",
       "      <td>2021--284</td>\n",
       "      <td>E. JANOTA</td>\n",
       "      <td>nie</td>\n",
       "    </tr>\n",
       "    <tr>\n",
       "      <th>108588</th>\n",
       "      <td>ZO6000362192</td>\n",
       "      <td>2021-10-01</td>\n",
       "      <td>29XXXX</td>\n",
       "      <td>409</td>\n",
       "      <td>nie_pusta</td>\n",
       "      <td>0</td>\n",
       "      <td>RZ</td>\n",
       "      <td>M</td>\n",
       "      <td>2110.83</td>\n",
       "      <td>2110.83</td>\n",
       "      <td>2021</td>\n",
       "      <td>10</td>\n",
       "      <td>274</td>\n",
       "      <td>39</td>\n",
       "      <td>5</td>\n",
       "      <td>2021-10-01</td>\n",
       "      <td>2021--39</td>\n",
       "      <td>2021--274</td>\n",
       "      <td>E. JANOTA</td>\n",
       "      <td>nie</td>\n",
       "    </tr>\n",
       "    <tr>\n",
       "      <th>108618</th>\n",
       "      <td>ZO6000362489</td>\n",
       "      <td>2021-10-04</td>\n",
       "      <td>29XXXX</td>\n",
       "      <td>1948</td>\n",
       "      <td>nie_pusta</td>\n",
       "      <td>0</td>\n",
       "      <td>RZ</td>\n",
       "      <td>M</td>\n",
       "      <td>5764.58</td>\n",
       "      <td>5764.58</td>\n",
       "      <td>2021</td>\n",
       "      <td>10</td>\n",
       "      <td>277</td>\n",
       "      <td>40</td>\n",
       "      <td>1</td>\n",
       "      <td>2021-10-01</td>\n",
       "      <td>2021--40</td>\n",
       "      <td>2021--277</td>\n",
       "      <td>M. PONIKIEWSKA</td>\n",
       "      <td>nie</td>\n",
       "    </tr>\n",
       "    <tr>\n",
       "      <th>109023</th>\n",
       "      <td>ZO6000372405</td>\n",
       "      <td>2021-10-29</td>\n",
       "      <td>29XXXX</td>\n",
       "      <td>1948</td>\n",
       "      <td>nie_pusta</td>\n",
       "      <td>0</td>\n",
       "      <td>RZ</td>\n",
       "      <td>M</td>\n",
       "      <td>355.22</td>\n",
       "      <td>355.22</td>\n",
       "      <td>2021</td>\n",
       "      <td>10</td>\n",
       "      <td>302</td>\n",
       "      <td>43</td>\n",
       "      <td>5</td>\n",
       "      <td>2021-10-01</td>\n",
       "      <td>2021--43</td>\n",
       "      <td>2021--302</td>\n",
       "      <td>M. PONIKIEWSKA</td>\n",
       "      <td>nie</td>\n",
       "    </tr>\n",
       "    <tr>\n",
       "      <th>117966</th>\n",
       "      <td>ZO6000391745</td>\n",
       "      <td>2021-12-09</td>\n",
       "      <td>29XXXX</td>\n",
       "      <td>360</td>\n",
       "      <td>nie_pusta</td>\n",
       "      <td>0</td>\n",
       "      <td>RZ</td>\n",
       "      <td>M</td>\n",
       "      <td>273.98</td>\n",
       "      <td>273.98</td>\n",
       "      <td>2021</td>\n",
       "      <td>12</td>\n",
       "      <td>343</td>\n",
       "      <td>49</td>\n",
       "      <td>4</td>\n",
       "      <td>2021-12-01</td>\n",
       "      <td>2021--49</td>\n",
       "      <td>2021--343</td>\n",
       "      <td>B. SKRZYP</td>\n",
       "      <td>nie</td>\n",
       "    </tr>\n",
       "    <tr>\n",
       "      <th>140565</th>\n",
       "      <td>ZO6000426982</td>\n",
       "      <td>2022-03-23</td>\n",
       "      <td>29XXXX</td>\n",
       "      <td>461</td>\n",
       "      <td>nie_pusta</td>\n",
       "      <td>0</td>\n",
       "      <td>RZ</td>\n",
       "      <td>M</td>\n",
       "      <td>739.78</td>\n",
       "      <td>739.78</td>\n",
       "      <td>2022</td>\n",
       "      <td>3</td>\n",
       "      <td>82</td>\n",
       "      <td>12</td>\n",
       "      <td>3</td>\n",
       "      <td>2022-03-01</td>\n",
       "      <td>2022--12</td>\n",
       "      <td>2022--082</td>\n",
       "      <td>J. SEMIK</td>\n",
       "      <td>tak</td>\n",
       "    </tr>\n",
       "    <tr>\n",
       "      <th>143540</th>\n",
       "      <td>ZO6000443448</td>\n",
       "      <td>2022-05-04</td>\n",
       "      <td>29XXXX</td>\n",
       "      <td>199</td>\n",
       "      <td>nie_pusta</td>\n",
       "      <td>0</td>\n",
       "      <td>RZ</td>\n",
       "      <td>M</td>\n",
       "      <td>1284.49</td>\n",
       "      <td>1284.49</td>\n",
       "      <td>2022</td>\n",
       "      <td>5</td>\n",
       "      <td>124</td>\n",
       "      <td>18</td>\n",
       "      <td>3</td>\n",
       "      <td>2022-05-01</td>\n",
       "      <td>2022--18</td>\n",
       "      <td>2022--124</td>\n",
       "      <td>M. PIĄTEK</td>\n",
       "      <td>nie</td>\n",
       "    </tr>\n",
       "  </tbody>\n",
       "</table>\n",
       "</div>"
      ],
      "text/plain": [
       "             FAKTURA     Z_DNIA     KOD  KOD_OPER FAKTURA_KD  OPIS RODZAJ  \\\n",
       "35579   ZO6000246247 2020-10-23  29XXXX       409  nie_pusta     0     RZ   \n",
       "43614   ZO6000238247 2020-09-30  29XXXX       432  nie_pusta     0     RZ   \n",
       "48673   ZO6000278792 2021-01-20  29XXXX       199  nie_pusta     0     RZ   \n",
       "53267   ZO6000277498 2021-01-15  29XXXX       199  nie_pusta     0     RZ   \n",
       "56018   ZO6000266103 2020-12-09  29XXXX       199  nie_pusta     0     RZ   \n",
       "56019   ZO6000266419 2020-12-09  29XXXX       199  nie_pusta     0     RZ   \n",
       "59004   ZO6000278134 2021-01-18  29XXXX       199  nie_pusta     0     RZ   \n",
       "59763   ZO6000279504 2021-01-22  29XXXX       199  nie_pusta     0     RZ   \n",
       "60532   ZO6000278922 2021-01-20  29XXXX       461  nie_pusta     0     RZ   \n",
       "71098   ZO6000307609 2021-04-07  29XXXX       199  nie_pusta     0     RZ   \n",
       "74065   ZO6000286507 2021-02-11  29XXXX       409  nie_pusta     0     RZ   \n",
       "80361   ZO6000316534 2021-05-06  29XXXX       409  nie_pusta     0     RZ   \n",
       "91519   ZO6000337600 2021-07-15  29XXXX       409  nie_pusta     0     RZ   \n",
       "98906   ZO6000339848 2021-07-23  29XXXX       199  nie_pusta     0     RZ   \n",
       "107130  ZO6000365465 2021-10-11  29XXXX       409  nie_pusta     0     RZ   \n",
       "108588  ZO6000362192 2021-10-01  29XXXX       409  nie_pusta     0     RZ   \n",
       "108618  ZO6000362489 2021-10-04  29XXXX      1948  nie_pusta     0     RZ   \n",
       "109023  ZO6000372405 2021-10-29  29XXXX      1948  nie_pusta     0     RZ   \n",
       "117966  ZO6000391745 2021-12-09  29XXXX       360  nie_pusta     0     RZ   \n",
       "140565  ZO6000426982 2022-03-23  29XXXX       461  nie_pusta     0     RZ   \n",
       "143540  ZO6000443448 2022-05-04  29XXXX       199  nie_pusta     0     RZ   \n",
       "\n",
       "       TYP_DOKUM  WARTOSC_B_N13  WARTOSC_B_ZAMOW1  year  month  day_of_year  \\\n",
       "35579          M         582.84            582.84  2020     10          297   \n",
       "43614          M         281.42            281.42  2020      9          274   \n",
       "48673          M         647.82            647.82  2021      1           20   \n",
       "53267          M          99.63             99.63  2021      1           15   \n",
       "56018          M         420.11            420.11  2020     12          344   \n",
       "56019          M         165.50            165.50  2020     12          344   \n",
       "59004          M          77.22             77.22  2021      1           18   \n",
       "59763          M         232.47            232.47  2021      1           22   \n",
       "60532          M        1200.23           1200.23  2021      1           20   \n",
       "71098          M         684.05            684.05  2021      4           97   \n",
       "74065          M        2366.32           2366.32  2021      2           42   \n",
       "80361          M         343.79            343.79  2021      5          126   \n",
       "91519          M        2488.50           2488.50  2021      7          196   \n",
       "98906          M         772.32            772.32  2021      7          204   \n",
       "107130         M        1495.74           1495.74  2021     10          284   \n",
       "108588         M        2110.83           2110.83  2021     10          274   \n",
       "108618         M        5764.58           5764.58  2021     10          277   \n",
       "109023         M         355.22            355.22  2021     10          302   \n",
       "117966         M         273.98            273.98  2021     12          343   \n",
       "140565         M         739.78            739.78  2022      3           82   \n",
       "143540         M        1284.49           1284.49  2022      5          124   \n",
       "\n",
       "        week  week_day year_month year_week   year_day        NAZWISKO  \\\n",
       "35579     43         5 2020-10-01  2020--43  2020--297       E. JANOTA   \n",
       "43614     40         3 2020-09-01  2020--40  2020--274       I. PAŁOSZ   \n",
       "48673      3         3 2021-01-01  2021--03  2021--020       M. PIĄTEK   \n",
       "53267      2         5 2021-01-01  2021--02  2021--015       M. PIĄTEK   \n",
       "56018     50         3 2020-12-01  2020--50  2020--344       M. PIĄTEK   \n",
       "56019     50         3 2020-12-01  2020--50  2020--344       M. PIĄTEK   \n",
       "59004      3         1 2021-01-01  2021--03  2021--018       M. PIĄTEK   \n",
       "59763      3         5 2021-01-01  2021--03  2021--022       M. PIĄTEK   \n",
       "60532      3         3 2021-01-01  2021--03  2021--020        J. SEMIK   \n",
       "71098     14         3 2021-04-01  2021--14  2021--097       M. PIĄTEK   \n",
       "74065      6         4 2021-02-01  2021--06  2021--042       E. JANOTA   \n",
       "80361     18         4 2021-05-01  2021--18  2021--126       E. JANOTA   \n",
       "91519     28         4 2021-07-01  2021--28  2021--196       E. JANOTA   \n",
       "98906     29         5 2021-07-01  2021--29  2021--204       M. PIĄTEK   \n",
       "107130    41         1 2021-10-01  2021--41  2021--284       E. JANOTA   \n",
       "108588    39         5 2021-10-01  2021--39  2021--274       E. JANOTA   \n",
       "108618    40         1 2021-10-01  2021--40  2021--277  M. PONIKIEWSKA   \n",
       "109023    43         5 2021-10-01  2021--43  2021--302  M. PONIKIEWSKA   \n",
       "117966    49         4 2021-12-01  2021--49  2021--343       B. SKRZYP   \n",
       "140565    12         3 2022-03-01  2022--12  2022--082        J. SEMIK   \n",
       "143540    18         3 2022-05-01  2022--18  2022--124       M. PIĄTEK   \n",
       "\n",
       "       czy_z_kuponow  \n",
       "35579            nie  \n",
       "43614            tak  \n",
       "48673            nie  \n",
       "53267            nie  \n",
       "56018            nie  \n",
       "56019            nie  \n",
       "59004            nie  \n",
       "59763            nie  \n",
       "60532            tak  \n",
       "71098            nie  \n",
       "74065            nie  \n",
       "80361            nie  \n",
       "91519            nie  \n",
       "98906            nie  \n",
       "107130           nie  \n",
       "108588           nie  \n",
       "108618           nie  \n",
       "109023           nie  \n",
       "117966           nie  \n",
       "140565           tak  \n",
       "143540           nie  "
      ]
     },
     "execution_count": 125,
     "metadata": {},
     "output_type": "execute_result"
    }
   ],
   "source": [
    "df_zamowienia.loc[df_zamowienia['KOD'].str.contains('29XXXX')]"
   ]
  },
  {
   "cell_type": "code",
   "execution_count": null,
   "id": "8c9a4134-f98c-4dc6-8b89-5c34a3d783d5",
   "metadata": {},
   "outputs": [],
   "source": []
  }
 ],
 "metadata": {
  "kernelspec": {
   "display_name": "Python 3 (ipykernel)",
   "language": "python",
   "name": "python3"
  },
  "language_info": {
   "codemirror_mode": {
    "name": "ipython",
    "version": 3
   },
   "file_extension": ".py",
   "mimetype": "text/x-python",
   "name": "python",
   "nbconvert_exporter": "python",
   "pygments_lexer": "ipython3",
   "version": "3.9.13"
  }
 },
 "nbformat": 4,
 "nbformat_minor": 5
}
