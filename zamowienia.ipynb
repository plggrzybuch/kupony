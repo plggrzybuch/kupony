{
 "cells": [
  {
   "cell_type": "code",
   "execution_count": 1,
   "id": "54e638bf-5760-4a67-89b1-ec4c357cb022",
   "metadata": {},
   "outputs": [],
   "source": [
    "import pandas as pd\n",
    "pd.set_option('display.max_columns', None)\n",
    "\n",
    "import plotly.express as px\n",
    "import plotly.graph_objects as go\n",
    "from datetime import datetime\n",
    "import numpy as np\n",
    "import missingno as msno\n",
    "import matplotlib.pyplot as plt\n",
    "import seaborn as sns\n",
    "from tqdm import tqdm\n",
    "import warnings\n",
    "warnings.filterwarnings(\"ignore\")\n",
    "\n",
    "sns.set(rc={'figure.figsize':(15,8)})\n",
    "\n",
    "path_to_catalog=r'C:\\Users\\kgrzebien\\Desktop\\python_tasks\\kupony\\zamawiajace\\\\'\n"
   ]
  },
  {
   "cell_type": "code",
   "execution_count": 140,
   "id": "0c2b3959-c19e-440a-89dd-49faaf57ad12",
   "metadata": {},
   "outputs": [],
   "source": [
    "def func_read_data(path, file):\n",
    "    df=pd.read_csv(path+file+'.csv',\n",
    "              encoding='Cp1250',\n",
    "              sep=\"|\")\n",
    "    if 'IS_DELETED' in df.columns:\n",
    "        df=df.loc[df['IS_DELETED']=='N']\n",
    "    return df\n",
    "\n",
    "\n",
    "def func_str_to_float(s):\n",
    "    s=s.astype(str)\n",
    "    s=s.apply(lambda x: x.replace(',','.'))\n",
    "    s=s.astype(float)\n",
    "    return s\n",
    "\n",
    "def func_date(df, min_date, col_date):\n",
    "    df[col_date]=pd.to_datetime(df[col_date], format='%y/%m/%d')\n",
    "    \n",
    "    df=df.loc[df[col_date]>=np.datetime64(min_date)].reset_index().drop('index', axis=1)\n",
    "    df['year']=df[col_date].apply(lambda x: x.year)\n",
    "    df['month']=df[col_date].apply(lambda x: x.month)\n",
    "    df['day_of_year']=df[col_date].apply(lambda x: x.timetuple().tm_yday)\n",
    "    df['week']=df[col_date].apply(lambda x: x.isocalendar()[1])\n",
    "    df['week_day']=df[col_date].apply(lambda x: x.isocalendar()[2])\n",
    "    df['year_month']=df['year'].astype(str)+'-'+df['month'].astype(str)+'-'+'01'\n",
    "    df['year_month']=df['year_month'].apply(lambda x: x[:5]+'0'+x[5:] if len(x)==9 else x)\n",
    "    df['year_month']=pd.to_datetime(df['year_month'], format='%Y-%m-%d')\n",
    "    df['year_week']=df['year'].astype(str)+'--'+df['week'].astype(str)\n",
    "    df['year_week']=df['year_week'].apply(lambda x: x[:6]+'0'+x[6:] if len(x)==7 else x)\n",
    "    df['year_day']=df['year'].astype(str)+'--'+df['day_of_year'].astype(str)\n",
    "    df['year_day']=df['year_day'].apply(lambda x: x[:6]+'0'+x[6:] if len(x)<9 else x)\n",
    "    \n",
    "    return df\n",
    "\n",
    "def func_add_name_workers(df, name_of_file_with_workers):\n",
    "    df_pracownicy=pd.read_excel(name_of_file_with_workers)\n",
    "    df_pracownicy['NUMER']=df_pracownicy['NUMER']#.astype(str)\n",
    "    df_pracownicy=df_pracownicy.rename(columns={'PELNANAZWA':'NAZWISKO'})\n",
    "    df_pracownicy['NAZWISKO']=df_pracownicy['NAZWISKO'].apply(lambda x: x.split(' ')[0][0]+'. '+x.split(' ')[1] if len(x.split(' '))>1 else x)\n",
    "    df=df.merge(df_pracownicy, how='left', left_on='KOD_OPER', right_on='NUMER')\n",
    "    df=df.drop('NUMER', axis=1)\n",
    "    return df\n",
    "\n",
    "def func_typ_dokumentu(df):\n",
    "    df['TYP_DOKUM']=df['TYP_DOKUM'].apply(lambda x: x if x=='M' else 'V')\n",
    "    return df"
   ]
  },
  {
   "cell_type": "code",
   "execution_count": 48,
   "id": "fda4cefe-fa9d-4da9-bb3d-d981c5cc87b2",
   "metadata": {},
   "outputs": [],
   "source": [
    "def func_read_rcp(df_ewid_rcp,\n",
    "                  df_zad_rcp):\n",
    "    df_ewid_rcp=func_date_rcp(df_ewid_rcp)\n",
    "    df_rcp=df_ewid_rcp[['ID_ZAD','DATA','ROZ_DNIA','ZAK_DNIA','GODZ_PL','DATA_ROZ','GODZ_ROZ','DATA_ZAK','GODZ_ZAK','KOD_OPER', 'date_start', 'date_finish']].\\\n",
    "                merge(df_zad_rcp[['ID_ZAD','ZADANIE']].drop_duplicates(),\n",
    "                      how='left', on='ID_ZAD')\n",
    "    \n",
    "    return df_rcp\n",
    "    \n",
    "def func_date_rcp(df):\n",
    "    df=df.loc[df['GODZ_ROZ']!=' '].loc[df['GODZ_ZAK']!=' '].reset_index().drop('index', axis=1)\n",
    "    df['date_start']=df['DATA']+' '+df['GODZ_ROZ']\n",
    "    df['date_start']=pd.to_datetime(df['date_start'], format='%y/%m/%d %H:%M:%S')\n",
    "    df['date_start']=df['date_start'].dt.floor('Min')\n",
    "    df['date_finish']=df['DATA']+' '+df['GODZ_ZAK']\n",
    "    df['date_finish']=pd.to_datetime(df['date_finish'], format='%y/%m/%d %H:%M:%S')\n",
    "    df['date_finish']=df['date_finish'].dt.floor('Min')\n",
    "    df['DATA']=pd.to_datetime(df['DATA'], format='%y/%m/%d')\n",
    "    return df\n",
    "\n",
    "df_grup_rcp=func_read_data('../../RCP_tables/',\n",
    "                           'GRUP_RCP')\n",
    "df_zad_rcp=func_read_data('../../RCP_tables/',\n",
    "                           'ZAD_RCP')\n",
    "df_ewid_rcp=func_read_data('../../RCP_tables/',\n",
    "                           'EWID_RCP')\n",
    "\n",
    "df_rcp=func_read_rcp(df_ewid_rcp, df_zad_rcp)\n",
    "df_rcp=func_add_name_workers(df_rcp, '../../pracownicy.xlsx')"
   ]
  },
  {
   "cell_type": "code",
   "execution_count": 137,
   "id": "f8627c1b-0d8f-4981-b857-c153cf5acf79",
   "metadata": {},
   "outputs": [],
   "source": [
    "def func_minutes_in_work_day_rcp(df, tnaca1_numer):\n",
    "    step=np.datetime64('2000-01-01 00:02:00')-np.datetime64('2000-01-01 00:01:00')\n",
    "    \n",
    "    df_with_minutes=pd.DataFrame(columns=['NAZWISKO', 'DATA', 'ile_minut_czynnosc', 'ile_minut_dzien', 'procent_wykorzystania', 'zadanie'])\n",
    "    \n",
    "    for day in (df.loc[df['NAZWISKO']==tnaca1_numer]['DATA'].unique()):\n",
    "        arr_time_day=np.array([], dtype='datetime64')\n",
    "        arr_time_activity=np.array([], dtype='int')\n",
    "        arr_zadanie=[]\n",
    "        arr_zadanie_group=[]\n",
    "        try:\n",
    "            for i in (df.loc[df['NAZWISKO']==tnaca1_numer].loc[df['DATA']==day].index):\n",
    "                arr_tmp=np.arange(df.loc[i,'date_start'],\n",
    "                                  df.loc[i,'date_finish'],\n",
    "                                 step)\n",
    "                arr_time_day=np.append(arr_time_day, arr_tmp)\n",
    "                arr_time_activity=np.append(arr_time_activity, [len(arr_tmp)])\n",
    "                arr_zadanie=np.append(arr_zadanie, [df.loc[i,'ZADANIE']])\n",
    "\n",
    "            if len(arr_time_day)==0:\n",
    "                display(day)\n",
    "            ile_minut_maksymalnie=(arr_time_day.max()-arr_time_day.min())/np.timedelta64(1,'m')+1\n",
    "            for time_activity, zadanie in zip(arr_time_activity, arr_zadanie ):\n",
    "                df_with_minutes=df_with_minutes.append({'NAZWISKO':tnaca1_numer,\n",
    "                                                        'DATA':day,\n",
    "                                                        'ile_minut_czynnosc':time_activity,\n",
    "                                                        'ile_minut_dzien':ile_minut_maksymalnie,\n",
    "                                                       'procent_wykorzystania':time_activity/ile_minut_maksymalnie*100, \n",
    "                                                        'zadanie':zadanie},\n",
    "                                                       ignore_index=True)\n",
    "        except:\n",
    "            pass\n",
    "        \n",
    "    \n",
    "    return df_with_minutes"
   ]
  },
  {
   "cell_type": "code",
   "execution_count": 138,
   "id": "639ec3c0-7f04-455a-aed1-f609cf6f8a9a",
   "metadata": {},
   "outputs": [
    {
     "name": "stderr",
     "output_type": "stream",
     "text": [
      "100%|████████████████████████████████████████████████████████████████████████████████████| 8/8 [04:32<00:00, 34.09s/it]\n"
     ]
    }
   ],
   "source": [
    "df_with_minutes_rcp=pd.DataFrame()\n",
    "#flaga=0\n",
    "for oper in tqdm(arr_kupony_obsluga_nazwiska):\n",
    "    try:\n",
    "        if oper == 0:\n",
    "            continue\n",
    "\n",
    "        df_with_minutes_tmp=func_minutes_in_work_day_rcp(df_rcp,\n",
    "                                                             oper)\n",
    "        df_with_minutes_rcp=df_with_minutes_rcp.append(df_with_minutes_tmp,\n",
    "                                                          ignore_index=True)\n",
    "    except:\n",
    "        print(oper)\n",
    "        continue"
   ]
  },
  {
   "cell_type": "code",
   "execution_count": 141,
   "id": "f33f284c-3f66-4731-ae5a-5712d64ed6cc",
   "metadata": {},
   "outputs": [],
   "source": [
    "df_with_minutes_rcp=func_date(df_with_minutes_rcp, '2020-01-01', 'DATA')"
   ]
  },
  {
   "cell_type": "code",
   "execution_count": 121,
   "id": "fb716c7d-7bef-4d3c-ad4b-b696423e17ba",
   "metadata": {},
   "outputs": [],
   "source": [
    "df_zamowienia=func_read_data('../zamawiajace/',\n",
    "                             'zamowienia')\n",
    "df_zamowienia=func_date(df_zamowienia, '2020-01-01', 'Z_DNIA')\n",
    "df_zamowienia=func_add_name_workers(df_zamowienia, '../../pracownicy.xlsx')\n",
    "df_zamowienia=func_typ_dokumentu(df_zamowienia)\n",
    "df_zamowienia['WARTOSC_B_N13']=func_str_to_float(df_zamowienia['WARTOSC_B_N13'])\n",
    "df_zamowienia['WARTOSC_B_ZAMOW1']=func_str_to_float(df_zamowienia['WARTOSC_B_ZAMOW1'])\n",
    "df_zamowienia['FAKTURA_KD']=df_zamowienia['FAKTURA_KD'].apply(lambda x: 'nie_pusta' if x!='' else 'pusta')"
   ]
  },
  {
   "cell_type": "code",
   "execution_count": 100,
   "id": "a0b0f1fd-9055-44c3-899a-54805b7744e7",
   "metadata": {},
   "outputs": [
    {
     "data": {
      "text/plain": [
       "array(['M. PSZCZÓŁKA', 'I. PAŁOSZ', 'J. SEMIK', 'B. DURAJ',\n",
       "       'E. KUBIENIEC', 'I. DRABEK', 'R. KASPEREK', 'A. BUŁAWA'],\n",
       "      dtype=object)"
      ]
     },
     "execution_count": 100,
     "metadata": {},
     "output_type": "execute_result"
    }
   ],
   "source": [
    "# for i in ['B. DURAJ','E. KUBIENIEC','I. PAŁOSZ','A. BUŁAWA']:\n",
    "#     display(i, df_rcp.loc[df_rcp['NAZWISKO']==i].groupby('ZADANIE').agg({'DATA':'nunique'}))\n",
    "arr_kupony_obsluga_nazwiska=df_rcp.loc[df_rcp['ZADANIE']=='KUPONY-OBSŁUGA']['NAZWISKO'].unique()\n",
    "#arr_kupony_obsluga_nazwiska=np.delete(arr_kupony_obsluga_nazwiska, np.where(arr_kupony_obsluga_nazwiska=='E. KUBIENIEC'))\n",
    "arr_kupony_obsluga_nazwiska"
   ]
  },
  {
   "cell_type": "code",
   "execution_count": 122,
   "id": "1a280aec-3d9d-45d8-b5f9-305c8a37615d",
   "metadata": {},
   "outputs": [],
   "source": [
    "df_zamowienia.loc[df_zamowienia.loc[df_zamowienia['NAZWISKO'].isin(arr_kupony_obsluga_nazwiska)].index, 'czy_z_kuponow']='tak'\n",
    "df_zamowienia['czy_z_kuponow']=df_zamowienia['czy_z_kuponow'].fillna('nie')"
   ]
  },
  {
   "cell_type": "code",
   "execution_count": 102,
   "id": "9a1ce2d8-2ae3-44ef-957d-88f88f222bb9",
   "metadata": {},
   "outputs": [
    {
     "data": {
      "text/html": [
       "<div>\n",
       "<style scoped>\n",
       "    .dataframe tbody tr th:only-of-type {\n",
       "        vertical-align: middle;\n",
       "    }\n",
       "\n",
       "    .dataframe tbody tr th {\n",
       "        vertical-align: top;\n",
       "    }\n",
       "\n",
       "    .dataframe thead th {\n",
       "        text-align: right;\n",
       "    }\n",
       "</style>\n",
       "<table border=\"1\" class=\"dataframe\">\n",
       "  <thead>\n",
       "    <tr style=\"text-align: right;\">\n",
       "      <th></th>\n",
       "      <th>FAKTURA</th>\n",
       "      <th>proc</th>\n",
       "    </tr>\n",
       "    <tr>\n",
       "      <th>czy_z_kuponow</th>\n",
       "      <th></th>\n",
       "      <th></th>\n",
       "    </tr>\n",
       "  </thead>\n",
       "  <tbody>\n",
       "    <tr>\n",
       "      <th>nie</th>\n",
       "      <td>110219</td>\n",
       "      <td>67.487356</td>\n",
       "    </tr>\n",
       "    <tr>\n",
       "      <th>tak</th>\n",
       "      <td>53099</td>\n",
       "      <td>32.512644</td>\n",
       "    </tr>\n",
       "  </tbody>\n",
       "</table>\n",
       "</div>"
      ],
      "text/plain": [
       "               FAKTURA       proc\n",
       "czy_z_kuponow                    \n",
       "nie             110219  67.487356\n",
       "tak              53099  32.512644"
      ]
     },
     "execution_count": 102,
     "metadata": {},
     "output_type": "execute_result"
    }
   ],
   "source": [
    "tmp=df_zamowienia.groupby(['czy_z_kuponow']).agg({'FAKTURA':'nunique'})\n",
    "tmp['proc']=tmp['FAKTURA']/tmp['FAKTURA'].sum()*100\n",
    "tmp"
   ]
  },
  {
   "cell_type": "code",
   "execution_count": 83,
   "id": "5e2b5091-5452-4bae-a139-e51fe71f7d5f",
   "metadata": {},
   "outputs": [
    {
     "data": {
      "application/vnd.plotly.v1+json": {
       "config": {
        "plotlyServerURL": "https://plot.ly"
       },
       "data": [
        {
         "hovertemplate": "czy_z_kuponow=nie<br>year_month=%{x}<br>FAKTURA=%{y}<extra></extra>",
         "legendgroup": "nie",
         "line": {
          "color": "#636efa",
          "dash": "solid"
         },
         "marker": {
          "symbol": "circle"
         },
         "mode": "lines",
         "name": "nie",
         "orientation": "v",
         "showlegend": true,
         "type": "scatter",
         "x": [
          "2020-01-01T00:00:00",
          "2020-02-01T00:00:00",
          "2020-03-01T00:00:00",
          "2020-04-01T00:00:00",
          "2020-05-01T00:00:00",
          "2020-06-01T00:00:00",
          "2020-07-01T00:00:00",
          "2020-08-01T00:00:00",
          "2020-09-01T00:00:00",
          "2020-10-01T00:00:00",
          "2020-11-01T00:00:00",
          "2020-12-01T00:00:00",
          "2021-01-01T00:00:00",
          "2021-02-01T00:00:00",
          "2021-03-01T00:00:00",
          "2021-04-01T00:00:00",
          "2021-05-01T00:00:00",
          "2021-06-01T00:00:00",
          "2021-07-01T00:00:00",
          "2021-08-01T00:00:00",
          "2021-09-01T00:00:00",
          "2021-10-01T00:00:00",
          "2021-11-01T00:00:00",
          "2021-12-01T00:00:00",
          "2022-01-01T00:00:00",
          "2022-02-01T00:00:00",
          "2022-03-01T00:00:00",
          "2022-04-01T00:00:00",
          "2022-05-01T00:00:00",
          "2022-06-01T00:00:00",
          "2022-07-01T00:00:00"
         ],
         "xaxis": "x",
         "y": [
          2062,
          2237,
          1444,
          654,
          2564,
          3114,
          3243,
          3299,
          3426,
          3982,
          4619,
          4511,
          2546,
          4023,
          5649,
          3028,
          4044,
          3554,
          3461,
          4061,
          3718,
          4223,
          5998,
          4468,
          3562,
          3646,
          4991,
          4517,
          3590,
          3299,
          2686
         ],
         "yaxis": "y"
        },
        {
         "hovertemplate": "czy_z_kuponow=tak<br>year_month=%{x}<br>FAKTURA=%{y}<extra></extra>",
         "legendgroup": "tak",
         "line": {
          "color": "#EF553B",
          "dash": "solid"
         },
         "marker": {
          "symbol": "circle"
         },
         "mode": "lines",
         "name": "tak",
         "orientation": "v",
         "showlegend": true,
         "type": "scatter",
         "x": [
          "2020-01-01T00:00:00",
          "2020-02-01T00:00:00",
          "2020-03-01T00:00:00",
          "2020-04-01T00:00:00",
          "2020-05-01T00:00:00",
          "2020-06-01T00:00:00",
          "2020-07-01T00:00:00",
          "2020-08-01T00:00:00",
          "2020-09-01T00:00:00",
          "2020-10-01T00:00:00",
          "2020-11-01T00:00:00",
          "2020-12-01T00:00:00",
          "2021-01-01T00:00:00",
          "2021-02-01T00:00:00",
          "2021-03-01T00:00:00",
          "2021-04-01T00:00:00",
          "2021-05-01T00:00:00",
          "2021-06-01T00:00:00",
          "2021-07-01T00:00:00",
          "2021-08-01T00:00:00",
          "2021-09-01T00:00:00",
          "2021-10-01T00:00:00",
          "2021-11-01T00:00:00",
          "2021-12-01T00:00:00",
          "2022-01-01T00:00:00",
          "2022-02-01T00:00:00",
          "2022-03-01T00:00:00",
          "2022-04-01T00:00:00",
          "2022-05-01T00:00:00",
          "2022-06-01T00:00:00",
          "2022-07-01T00:00:00"
         ],
         "xaxis": "x",
         "y": [
          1236,
          1438,
          1476,
          845,
          1405,
          1807,
          1843,
          1767,
          2073,
          1983,
          2014,
          1960,
          1315,
          1669,
          2630,
          1754,
          1797,
          1631,
          1780,
          1825,
          1681,
          1922,
          2106,
          1881,
          1305,
          1502,
          2267,
          1718,
          1574,
          1513,
          1382
         ],
         "yaxis": "y"
        }
       ],
       "layout": {
        "autosize": true,
        "legend": {
         "title": {
          "text": "czy_z_kuponow"
         },
         "tracegroupgap": 0
        },
        "margin": {
         "t": 60
        },
        "template": {
         "data": {
          "bar": [
           {
            "error_x": {
             "color": "#2a3f5f"
            },
            "error_y": {
             "color": "#2a3f5f"
            },
            "marker": {
             "line": {
              "color": "#E5ECF6",
              "width": 0.5
             },
             "pattern": {
              "fillmode": "overlay",
              "size": 10,
              "solidity": 0.2
             }
            },
            "type": "bar"
           }
          ],
          "barpolar": [
           {
            "marker": {
             "line": {
              "color": "#E5ECF6",
              "width": 0.5
             },
             "pattern": {
              "fillmode": "overlay",
              "size": 10,
              "solidity": 0.2
             }
            },
            "type": "barpolar"
           }
          ],
          "carpet": [
           {
            "aaxis": {
             "endlinecolor": "#2a3f5f",
             "gridcolor": "white",
             "linecolor": "white",
             "minorgridcolor": "white",
             "startlinecolor": "#2a3f5f"
            },
            "baxis": {
             "endlinecolor": "#2a3f5f",
             "gridcolor": "white",
             "linecolor": "white",
             "minorgridcolor": "white",
             "startlinecolor": "#2a3f5f"
            },
            "type": "carpet"
           }
          ],
          "choropleth": [
           {
            "colorbar": {
             "outlinewidth": 0,
             "ticks": ""
            },
            "type": "choropleth"
           }
          ],
          "contour": [
           {
            "colorbar": {
             "outlinewidth": 0,
             "ticks": ""
            },
            "colorscale": [
             [
              0,
              "#0d0887"
             ],
             [
              0.1111111111111111,
              "#46039f"
             ],
             [
              0.2222222222222222,
              "#7201a8"
             ],
             [
              0.3333333333333333,
              "#9c179e"
             ],
             [
              0.4444444444444444,
              "#bd3786"
             ],
             [
              0.5555555555555556,
              "#d8576b"
             ],
             [
              0.6666666666666666,
              "#ed7953"
             ],
             [
              0.7777777777777778,
              "#fb9f3a"
             ],
             [
              0.8888888888888888,
              "#fdca26"
             ],
             [
              1,
              "#f0f921"
             ]
            ],
            "type": "contour"
           }
          ],
          "contourcarpet": [
           {
            "colorbar": {
             "outlinewidth": 0,
             "ticks": ""
            },
            "type": "contourcarpet"
           }
          ],
          "heatmap": [
           {
            "colorbar": {
             "outlinewidth": 0,
             "ticks": ""
            },
            "colorscale": [
             [
              0,
              "#0d0887"
             ],
             [
              0.1111111111111111,
              "#46039f"
             ],
             [
              0.2222222222222222,
              "#7201a8"
             ],
             [
              0.3333333333333333,
              "#9c179e"
             ],
             [
              0.4444444444444444,
              "#bd3786"
             ],
             [
              0.5555555555555556,
              "#d8576b"
             ],
             [
              0.6666666666666666,
              "#ed7953"
             ],
             [
              0.7777777777777778,
              "#fb9f3a"
             ],
             [
              0.8888888888888888,
              "#fdca26"
             ],
             [
              1,
              "#f0f921"
             ]
            ],
            "type": "heatmap"
           }
          ],
          "heatmapgl": [
           {
            "colorbar": {
             "outlinewidth": 0,
             "ticks": ""
            },
            "colorscale": [
             [
              0,
              "#0d0887"
             ],
             [
              0.1111111111111111,
              "#46039f"
             ],
             [
              0.2222222222222222,
              "#7201a8"
             ],
             [
              0.3333333333333333,
              "#9c179e"
             ],
             [
              0.4444444444444444,
              "#bd3786"
             ],
             [
              0.5555555555555556,
              "#d8576b"
             ],
             [
              0.6666666666666666,
              "#ed7953"
             ],
             [
              0.7777777777777778,
              "#fb9f3a"
             ],
             [
              0.8888888888888888,
              "#fdca26"
             ],
             [
              1,
              "#f0f921"
             ]
            ],
            "type": "heatmapgl"
           }
          ],
          "histogram": [
           {
            "marker": {
             "pattern": {
              "fillmode": "overlay",
              "size": 10,
              "solidity": 0.2
             }
            },
            "type": "histogram"
           }
          ],
          "histogram2d": [
           {
            "colorbar": {
             "outlinewidth": 0,
             "ticks": ""
            },
            "colorscale": [
             [
              0,
              "#0d0887"
             ],
             [
              0.1111111111111111,
              "#46039f"
             ],
             [
              0.2222222222222222,
              "#7201a8"
             ],
             [
              0.3333333333333333,
              "#9c179e"
             ],
             [
              0.4444444444444444,
              "#bd3786"
             ],
             [
              0.5555555555555556,
              "#d8576b"
             ],
             [
              0.6666666666666666,
              "#ed7953"
             ],
             [
              0.7777777777777778,
              "#fb9f3a"
             ],
             [
              0.8888888888888888,
              "#fdca26"
             ],
             [
              1,
              "#f0f921"
             ]
            ],
            "type": "histogram2d"
           }
          ],
          "histogram2dcontour": [
           {
            "colorbar": {
             "outlinewidth": 0,
             "ticks": ""
            },
            "colorscale": [
             [
              0,
              "#0d0887"
             ],
             [
              0.1111111111111111,
              "#46039f"
             ],
             [
              0.2222222222222222,
              "#7201a8"
             ],
             [
              0.3333333333333333,
              "#9c179e"
             ],
             [
              0.4444444444444444,
              "#bd3786"
             ],
             [
              0.5555555555555556,
              "#d8576b"
             ],
             [
              0.6666666666666666,
              "#ed7953"
             ],
             [
              0.7777777777777778,
              "#fb9f3a"
             ],
             [
              0.8888888888888888,
              "#fdca26"
             ],
             [
              1,
              "#f0f921"
             ]
            ],
            "type": "histogram2dcontour"
           }
          ],
          "mesh3d": [
           {
            "colorbar": {
             "outlinewidth": 0,
             "ticks": ""
            },
            "type": "mesh3d"
           }
          ],
          "parcoords": [
           {
            "line": {
             "colorbar": {
              "outlinewidth": 0,
              "ticks": ""
             }
            },
            "type": "parcoords"
           }
          ],
          "pie": [
           {
            "automargin": true,
            "type": "pie"
           }
          ],
          "scatter": [
           {
            "fillpattern": {
             "fillmode": "overlay",
             "size": 10,
             "solidity": 0.2
            },
            "type": "scatter"
           }
          ],
          "scatter3d": [
           {
            "line": {
             "colorbar": {
              "outlinewidth": 0,
              "ticks": ""
             }
            },
            "marker": {
             "colorbar": {
              "outlinewidth": 0,
              "ticks": ""
             }
            },
            "type": "scatter3d"
           }
          ],
          "scattercarpet": [
           {
            "marker": {
             "colorbar": {
              "outlinewidth": 0,
              "ticks": ""
             }
            },
            "type": "scattercarpet"
           }
          ],
          "scattergeo": [
           {
            "marker": {
             "colorbar": {
              "outlinewidth": 0,
              "ticks": ""
             }
            },
            "type": "scattergeo"
           }
          ],
          "scattergl": [
           {
            "marker": {
             "colorbar": {
              "outlinewidth": 0,
              "ticks": ""
             }
            },
            "type": "scattergl"
           }
          ],
          "scattermapbox": [
           {
            "marker": {
             "colorbar": {
              "outlinewidth": 0,
              "ticks": ""
             }
            },
            "type": "scattermapbox"
           }
          ],
          "scatterpolar": [
           {
            "marker": {
             "colorbar": {
              "outlinewidth": 0,
              "ticks": ""
             }
            },
            "type": "scatterpolar"
           }
          ],
          "scatterpolargl": [
           {
            "marker": {
             "colorbar": {
              "outlinewidth": 0,
              "ticks": ""
             }
            },
            "type": "scatterpolargl"
           }
          ],
          "scatterternary": [
           {
            "marker": {
             "colorbar": {
              "outlinewidth": 0,
              "ticks": ""
             }
            },
            "type": "scatterternary"
           }
          ],
          "surface": [
           {
            "colorbar": {
             "outlinewidth": 0,
             "ticks": ""
            },
            "colorscale": [
             [
              0,
              "#0d0887"
             ],
             [
              0.1111111111111111,
              "#46039f"
             ],
             [
              0.2222222222222222,
              "#7201a8"
             ],
             [
              0.3333333333333333,
              "#9c179e"
             ],
             [
              0.4444444444444444,
              "#bd3786"
             ],
             [
              0.5555555555555556,
              "#d8576b"
             ],
             [
              0.6666666666666666,
              "#ed7953"
             ],
             [
              0.7777777777777778,
              "#fb9f3a"
             ],
             [
              0.8888888888888888,
              "#fdca26"
             ],
             [
              1,
              "#f0f921"
             ]
            ],
            "type": "surface"
           }
          ],
          "table": [
           {
            "cells": {
             "fill": {
              "color": "#EBF0F8"
             },
             "line": {
              "color": "white"
             }
            },
            "header": {
             "fill": {
              "color": "#C8D4E3"
             },
             "line": {
              "color": "white"
             }
            },
            "type": "table"
           }
          ]
         },
         "layout": {
          "annotationdefaults": {
           "arrowcolor": "#2a3f5f",
           "arrowhead": 0,
           "arrowwidth": 1
          },
          "autotypenumbers": "strict",
          "coloraxis": {
           "colorbar": {
            "outlinewidth": 0,
            "ticks": ""
           }
          },
          "colorscale": {
           "diverging": [
            [
             0,
             "#8e0152"
            ],
            [
             0.1,
             "#c51b7d"
            ],
            [
             0.2,
             "#de77ae"
            ],
            [
             0.3,
             "#f1b6da"
            ],
            [
             0.4,
             "#fde0ef"
            ],
            [
             0.5,
             "#f7f7f7"
            ],
            [
             0.6,
             "#e6f5d0"
            ],
            [
             0.7,
             "#b8e186"
            ],
            [
             0.8,
             "#7fbc41"
            ],
            [
             0.9,
             "#4d9221"
            ],
            [
             1,
             "#276419"
            ]
           ],
           "sequential": [
            [
             0,
             "#0d0887"
            ],
            [
             0.1111111111111111,
             "#46039f"
            ],
            [
             0.2222222222222222,
             "#7201a8"
            ],
            [
             0.3333333333333333,
             "#9c179e"
            ],
            [
             0.4444444444444444,
             "#bd3786"
            ],
            [
             0.5555555555555556,
             "#d8576b"
            ],
            [
             0.6666666666666666,
             "#ed7953"
            ],
            [
             0.7777777777777778,
             "#fb9f3a"
            ],
            [
             0.8888888888888888,
             "#fdca26"
            ],
            [
             1,
             "#f0f921"
            ]
           ],
           "sequentialminus": [
            [
             0,
             "#0d0887"
            ],
            [
             0.1111111111111111,
             "#46039f"
            ],
            [
             0.2222222222222222,
             "#7201a8"
            ],
            [
             0.3333333333333333,
             "#9c179e"
            ],
            [
             0.4444444444444444,
             "#bd3786"
            ],
            [
             0.5555555555555556,
             "#d8576b"
            ],
            [
             0.6666666666666666,
             "#ed7953"
            ],
            [
             0.7777777777777778,
             "#fb9f3a"
            ],
            [
             0.8888888888888888,
             "#fdca26"
            ],
            [
             1,
             "#f0f921"
            ]
           ]
          },
          "colorway": [
           "#636efa",
           "#EF553B",
           "#00cc96",
           "#ab63fa",
           "#FFA15A",
           "#19d3f3",
           "#FF6692",
           "#B6E880",
           "#FF97FF",
           "#FECB52"
          ],
          "font": {
           "color": "#2a3f5f"
          },
          "geo": {
           "bgcolor": "white",
           "lakecolor": "white",
           "landcolor": "#E5ECF6",
           "showlakes": true,
           "showland": true,
           "subunitcolor": "white"
          },
          "hoverlabel": {
           "align": "left"
          },
          "hovermode": "closest",
          "mapbox": {
           "style": "light"
          },
          "paper_bgcolor": "white",
          "plot_bgcolor": "#E5ECF6",
          "polar": {
           "angularaxis": {
            "gridcolor": "white",
            "linecolor": "white",
            "ticks": ""
           },
           "bgcolor": "#E5ECF6",
           "radialaxis": {
            "gridcolor": "white",
            "linecolor": "white",
            "ticks": ""
           }
          },
          "scene": {
           "xaxis": {
            "backgroundcolor": "#E5ECF6",
            "gridcolor": "white",
            "gridwidth": 2,
            "linecolor": "white",
            "showbackground": true,
            "ticks": "",
            "zerolinecolor": "white"
           },
           "yaxis": {
            "backgroundcolor": "#E5ECF6",
            "gridcolor": "white",
            "gridwidth": 2,
            "linecolor": "white",
            "showbackground": true,
            "ticks": "",
            "zerolinecolor": "white"
           },
           "zaxis": {
            "backgroundcolor": "#E5ECF6",
            "gridcolor": "white",
            "gridwidth": 2,
            "linecolor": "white",
            "showbackground": true,
            "ticks": "",
            "zerolinecolor": "white"
           }
          },
          "shapedefaults": {
           "line": {
            "color": "#2a3f5f"
           }
          },
          "ternary": {
           "aaxis": {
            "gridcolor": "white",
            "linecolor": "white",
            "ticks": ""
           },
           "baxis": {
            "gridcolor": "white",
            "linecolor": "white",
            "ticks": ""
           },
           "bgcolor": "#E5ECF6",
           "caxis": {
            "gridcolor": "white",
            "linecolor": "white",
            "ticks": ""
           }
          },
          "title": {
           "x": 0.05
          },
          "xaxis": {
           "automargin": true,
           "gridcolor": "white",
           "linecolor": "white",
           "ticks": "",
           "title": {
            "standoff": 15
           },
           "zerolinecolor": "white",
           "zerolinewidth": 2
          },
          "yaxis": {
           "automargin": true,
           "gridcolor": "white",
           "linecolor": "white",
           "ticks": "",
           "title": {
            "standoff": 15
           },
           "zerolinecolor": "white",
           "zerolinewidth": 2
          }
         }
        },
        "xaxis": {
         "anchor": "y",
         "autorange": true,
         "domain": [
          0,
          1
         ],
         "range": [
          "2020-01-01",
          "2022-07-01"
         ],
         "title": {
          "text": "year_month"
         },
         "type": "date"
        },
        "yaxis": {
         "anchor": "x",
         "autorange": true,
         "domain": [
          0,
          1
         ],
         "range": [
          357.1111111111111,
          6294.888888888889
         ],
         "title": {
          "text": "FAKTURA"
         },
         "type": "linear"
        }
       }
      },
      "image/png": "[encoded data removed]",
      "text/html": [
       "<div>                            <div id=\"8c457691-7837-4441-b8b2-50dd0b40049b\" class=\"plotly-graph-div\" style=\"height:525px; width:100%;\"></div>            <script type=\"text/javascript\">                require([\"plotly\"], function(Plotly) {                    window.PLOTLYENV=window.PLOTLYENV || {};                                    if (document.getElementById(\"8c457691-7837-4441-b8b2-50dd0b40049b\")) {                    Plotly.newPlot(                        \"8c457691-7837-4441-b8b2-50dd0b40049b\",                        [{\"hovertemplate\":\"czy_z_kuponow=nie<br>year_month=%{x}<br>FAKTURA=%{y}<extra></extra>\",\"legendgroup\":\"nie\",\"line\":{\"color\":\"#636efa\",\"dash\":\"solid\"},\"marker\":{\"symbol\":\"circle\"},\"mode\":\"lines\",\"name\":\"nie\",\"orientation\":\"v\",\"showlegend\":true,\"x\":[\"2020-01-01T00:00:00\",\"2020-02-01T00:00:00\",\"2020-03-01T00:00:00\",\"2020-04-01T00:00:00\",\"2020-05-01T00:00:00\",\"2020-06-01T00:00:00\",\"2020-07-01T00:00:00\",\"2020-08-01T00:00:00\",\"2020-09-01T00:00:00\",\"2020-10-01T00:00:00\",\"2020-11-01T00:00:00\",\"2020-12-01T00:00:00\",\"2021-01-01T00:00:00\",\"2021-02-01T00:00:00\",\"2021-03-01T00:00:00\",\"2021-04-01T00:00:00\",\"2021-05-01T00:00:00\",\"2021-06-01T00:00:00\",\"2021-07-01T00:00:00\",\"2021-08-01T00:00:00\",\"2021-09-01T00:00:00\",\"2021-10-01T00:00:00\",\"2021-11-01T00:00:00\",\"2021-12-01T00:00:00\",\"2022-01-01T00:00:00\",\"2022-02-01T00:00:00\",\"2022-03-01T00:00:00\",\"2022-04-01T00:00:00\",\"2022-05-01T00:00:00\",\"2022-06-01T00:00:00\",\"2022-07-01T00:00:00\"],\"xaxis\":\"x\",\"y\":[2062,2237,1444,654,2564,3114,3243,3299,3426,3982,4619,4511,2546,4023,5649,3028,4044,3554,3461,4061,3718,4223,5998,4468,3562,3646,4991,4517,3590,3299,2686],\"yaxis\":\"y\",\"type\":\"scatter\"},{\"hovertemplate\":\"czy_z_kuponow=tak<br>year_month=%{x}<br>FAKTURA=%{y}<extra></extra>\",\"legendgroup\":\"tak\",\"line\":{\"color\":\"#EF553B\",\"dash\":\"solid\"},\"marker\":{\"symbol\":\"circle\"},\"mode\":\"lines\",\"name\":\"tak\",\"orientation\":\"v\",\"showlegend\":true,\"x\":[\"2020-01-01T00:00:00\",\"2020-02-01T00:00:00\",\"2020-03-01T00:00:00\",\"2020-04-01T00:00:00\",\"2020-05-01T00:00:00\",\"2020-06-01T00:00:00\",\"2020-07-01T00:00:00\",\"2020-08-01T00:00:00\",\"2020-09-01T00:00:00\",\"2020-10-01T00:00:00\",\"2020-11-01T00:00:00\",\"2020-12-01T00:00:00\",\"2021-01-01T00:00:00\",\"2021-02-01T00:00:00\",\"2021-03-01T00:00:00\",\"2021-04-01T00:00:00\",\"2021-05-01T00:00:00\",\"2021-06-01T00:00:00\",\"2021-07-01T00:00:00\",\"2021-08-01T00:00:00\",\"2021-09-01T00:00:00\",\"2021-10-01T00:00:00\",\"2021-11-01T00:00:00\",\"2021-12-01T00:00:00\",\"2022-01-01T00:00:00\",\"2022-02-01T00:00:00\",\"2022-03-01T00:00:00\",\"2022-04-01T00:00:00\",\"2022-05-01T00:00:00\",\"2022-06-01T00:00:00\",\"2022-07-01T00:00:00\"],\"xaxis\":\"x\",\"y\":[1236,1438,1476,845,1405,1807,1843,1767,2073,1983,2014,1960,1315,1669,2630,1754,1797,1631,1780,1825,1681,1922,2106,1881,1305,1502,2267,1718,1574,1513,1382],\"yaxis\":\"y\",\"type\":\"scatter\"}],                        {\"template\":{\"data\":{\"histogram2dcontour\":[{\"type\":\"histogram2dcontour\",\"colorbar\":{\"outlinewidth\":0,\"ticks\":\"\"},\"colorscale\":[[0.0,\"#0d0887\"],[0.1111111111111111,\"#46039f\"],[0.2222222222222222,\"#7201a8\"],[0.3333333333333333,\"#9c179e\"],[0.4444444444444444,\"#bd3786\"],[0.5555555555555556,\"#d8576b\"],[0.6666666666666666,\"#ed7953\"],[0.7777777777777778,\"#fb9f3a\"],[0.8888888888888888,\"#fdca26\"],[1.0,\"#f0f921\"]]}],\"choropleth\":[{\"type\":\"choropleth\",\"colorbar\":{\"outlinewidth\":0,\"ticks\":\"\"}}],\"histogram2d\":[{\"type\":\"histogram2d\",\"colorbar\":{\"outlinewidth\":0,\"ticks\":\"\"},\"colorscale\":[[0.0,\"#0d0887\"],[0.1111111111111111,\"#46039f\"],[0.2222222222222222,\"#7201a8\"],[0.3333333333333333,\"#9c179e\"],[0.4444444444444444,\"#bd3786\"],[0.5555555555555556,\"#d8576b\"],[0.6666666666666666,\"#ed7953\"],[0.7777777777777778,\"#fb9f3a\"],[0.8888888888888888,\"#fdca26\"],[1.0,\"#f0f921\"]]}],\"heatmap\":[{\"type\":\"heatmap\",\"colorbar\":{\"outlinewidth\":0,\"ticks\":\"\"},\"colorscale\":[[0.0,\"#0d0887\"],[0.1111111111111111,\"#46039f\"],[0.2222222222222222,\"#7201a8\"],[0.3333333333333333,\"#9c179e\"],[0.4444444444444444,\"#bd3786\"],[0.5555555555555556,\"#d8576b\"],[0.6666666666666666,\"#ed7953\"],[0.7777777777777778,\"#fb9f3a\"],[0.8888888888888888,\"#fdca26\"],[1.0,\"#f0f921\"]]}],\"heatmapgl\":[{\"type\":\"heatmapgl\",\"colorbar\":{\"outlinewidth\":0,\"ticks\":\"\"},\"colorscale\":[[0.0,\"#0d0887\"],[0.1111111111111111,\"#46039f\"],[0.2222222222222222,\"#7201a8\"],[0.3333333333333333,\"#9c179e\"],[0.4444444444444444,\"#bd3786\"],[0.5555555555555556,\"#d8576b\"],[0.6666666666666666,\"#ed7953\"],[0.7777777777777778,\"#fb9f3a\"],[0.8888888888888888,\"#fdca26\"],[1.0,\"#f0f921\"]]}],\"contourcarpet\":[{\"type\":\"contourcarpet\",\"colorbar\":{\"outlinewidth\":0,\"ticks\":\"\"}}],\"contour\":[{\"type\":\"contour\",\"colorbar\":{\"outlinewidth\":0,\"ticks\":\"\"},\"colorscale\":[[0.0,\"#0d0887\"],[0.1111111111111111,\"#46039f\"],[0.2222222222222222,\"#7201a8\"],[0.3333333333333333,\"#9c179e\"],[0.4444444444444444,\"#bd3786\"],[0.5555555555555556,\"#d8576b\"],[0.6666666666666666,\"#ed7953\"],[0.7777777777777778,\"#fb9f3a\"],[0.8888888888888888,\"#fdca26\"],[1.0,\"#f0f921\"]]}],\"surface\":[{\"type\":\"surface\",\"colorbar\":{\"outlinewidth\":0,\"ticks\":\"\"},\"colorscale\":[[0.0,\"#0d0887\"],[0.1111111111111111,\"#46039f\"],[0.2222222222222222,\"#7201a8\"],[0.3333333333333333,\"#9c179e\"],[0.4444444444444444,\"#bd3786\"],[0.5555555555555556,\"#d8576b\"],[0.6666666666666666,\"#ed7953\"],[0.7777777777777778,\"#fb9f3a\"],[0.8888888888888888,\"#fdca26\"],[1.0,\"#f0f921\"]]}],\"mesh3d\":[{\"type\":\"mesh3d\",\"colorbar\":{\"outlinewidth\":0,\"ticks\":\"\"}}],\"scatter\":[{\"fillpattern\":{\"fillmode\":\"overlay\",\"size\":10,\"solidity\":0.2},\"type\":\"scatter\"}],\"parcoords\":[{\"type\":\"parcoords\",\"line\":{\"colorbar\":{\"outlinewidth\":0,\"ticks\":\"\"}}}],\"scatterpolargl\":[{\"type\":\"scatterpolargl\",\"marker\":{\"colorbar\":{\"outlinewidth\":0,\"ticks\":\"\"}}}],\"bar\":[{\"error_x\":{\"color\":\"#2a3f5f\"},\"error_y\":{\"color\":\"#2a3f5f\"},\"marker\":{\"line\":{\"color\":\"#E5ECF6\",\"width\":0.5},\"pattern\":{\"fillmode\":\"overlay\",\"size\":10,\"solidity\":0.2}},\"type\":\"bar\"}],\"scattergeo\":[{\"type\":\"scattergeo\",\"marker\":{\"colorbar\":{\"outlinewidth\":0,\"ticks\":\"\"}}}],\"scatterpolar\":[{\"type\":\"scatterpolar\",\"marker\":{\"colorbar\":{\"outlinewidth\":0,\"ticks\":\"\"}}}],\"histogram\":[{\"marker\":{\"pattern\":{\"fillmode\":\"overlay\",\"size\":10,\"solidity\":0.2}},\"type\":\"histogram\"}],\"scattergl\":[{\"type\":\"scattergl\",\"marker\":{\"colorbar\":{\"outlinewidth\":0,\"ticks\":\"\"}}}],\"scatter3d\":[{\"type\":\"scatter3d\",\"line\":{\"colorbar\":{\"outlinewidth\":0,\"ticks\":\"\"}},\"marker\":{\"colorbar\":{\"outlinewidth\":0,\"ticks\":\"\"}}}],\"scattermapbox\":[{\"type\":\"scattermapbox\",\"marker\":{\"colorbar\":{\"outlinewidth\":0,\"ticks\":\"\"}}}],\"scatterternary\":[{\"type\":\"scatterternary\",\"marker\":{\"colorbar\":{\"outlinewidth\":0,\"ticks\":\"\"}}}],\"scattercarpet\":[{\"type\":\"scattercarpet\",\"marker\":{\"colorbar\":{\"outlinewidth\":0,\"ticks\":\"\"}}}],\"carpet\":[{\"aaxis\":{\"endlinecolor\":\"#2a3f5f\",\"gridcolor\":\"white\",\"linecolor\":\"white\",\"minorgridcolor\":\"white\",\"startlinecolor\":\"#2a3f5f\"},\"baxis\":{\"endlinecolor\":\"#2a3f5f\",\"gridcolor\":\"white\",\"linecolor\":\"white\",\"minorgridcolor\":\"white\",\"startlinecolor\":\"#2a3f5f\"},\"type\":\"carpet\"}],\"table\":[{\"cells\":{\"fill\":{\"color\":\"#EBF0F8\"},\"line\":{\"color\":\"white\"}},\"header\":{\"fill\":{\"color\":\"#C8D4E3\"},\"line\":{\"color\":\"white\"}},\"type\":\"table\"}],\"barpolar\":[{\"marker\":{\"line\":{\"color\":\"#E5ECF6\",\"width\":0.5},\"pattern\":{\"fillmode\":\"overlay\",\"size\":10,\"solidity\":0.2}},\"type\":\"barpolar\"}],\"pie\":[{\"automargin\":true,\"type\":\"pie\"}]},\"layout\":{\"autotypenumbers\":\"strict\",\"colorway\":[\"#636efa\",\"#EF553B\",\"#00cc96\",\"#ab63fa\",\"#FFA15A\",\"#19d3f3\",\"#FF6692\",\"#B6E880\",\"#FF97FF\",\"#FECB52\"],\"font\":{\"color\":\"#2a3f5f\"},\"hovermode\":\"closest\",\"hoverlabel\":{\"align\":\"left\"},\"paper_bgcolor\":\"white\",\"plot_bgcolor\":\"#E5ECF6\",\"polar\":{\"bgcolor\":\"#E5ECF6\",\"angularaxis\":{\"gridcolor\":\"white\",\"linecolor\":\"white\",\"ticks\":\"\"},\"radialaxis\":{\"gridcolor\":\"white\",\"linecolor\":\"white\",\"ticks\":\"\"}},\"ternary\":{\"bgcolor\":\"#E5ECF6\",\"aaxis\":{\"gridcolor\":\"white\",\"linecolor\":\"white\",\"ticks\":\"\"},\"baxis\":{\"gridcolor\":\"white\",\"linecolor\":\"white\",\"ticks\":\"\"},\"caxis\":{\"gridcolor\":\"white\",\"linecolor\":\"white\",\"ticks\":\"\"}},\"coloraxis\":{\"colorbar\":{\"outlinewidth\":0,\"ticks\":\"\"}},\"colorscale\":{\"sequential\":[[0.0,\"#0d0887\"],[0.1111111111111111,\"#46039f\"],[0.2222222222222222,\"#7201a8\"],[0.3333333333333333,\"#9c179e\"],[0.4444444444444444,\"#bd3786\"],[0.5555555555555556,\"#d8576b\"],[0.6666666666666666,\"#ed7953\"],[0.7777777777777778,\"#fb9f3a\"],[0.8888888888888888,\"#fdca26\"],[1.0,\"#f0f921\"]],\"sequentialminus\":[[0.0,\"#0d0887\"],[0.1111111111111111,\"#46039f\"],[0.2222222222222222,\"#7201a8\"],[0.3333333333333333,\"#9c179e\"],[0.4444444444444444,\"#bd3786\"],[0.5555555555555556,\"#d8576b\"],[0.6666666666666666,\"#ed7953\"],[0.7777777777777778,\"#fb9f3a\"],[0.8888888888888888,\"#fdca26\"],[1.0,\"#f0f921\"]],\"diverging\":[[0,\"#8e0152\"],[0.1,\"#c51b7d\"],[0.2,\"#de77ae\"],[0.3,\"#f1b6da\"],[0.4,\"#fde0ef\"],[0.5,\"#f7f7f7\"],[0.6,\"#e6f5d0\"],[0.7,\"#b8e186\"],[0.8,\"#7fbc41\"],[0.9,\"#4d9221\"],[1,\"#276419\"]]},\"xaxis\":{\"gridcolor\":\"white\",\"linecolor\":\"white\",\"ticks\":\"\",\"title\":{\"standoff\":15},\"zerolinecolor\":\"white\",\"automargin\":true,\"zerolinewidth\":2},\"yaxis\":{\"gridcolor\":\"white\",\"linecolor\":\"white\",\"ticks\":\"\",\"title\":{\"standoff\":15},\"zerolinecolor\":\"white\",\"automargin\":true,\"zerolinewidth\":2},\"scene\":{\"xaxis\":{\"backgroundcolor\":\"#E5ECF6\",\"gridcolor\":\"white\",\"linecolor\":\"white\",\"showbackground\":true,\"ticks\":\"\",\"zerolinecolor\":\"white\",\"gridwidth\":2},\"yaxis\":{\"backgroundcolor\":\"#E5ECF6\",\"gridcolor\":\"white\",\"linecolor\":\"white\",\"showbackground\":true,\"ticks\":\"\",\"zerolinecolor\":\"white\",\"gridwidth\":2},\"zaxis\":{\"backgroundcolor\":\"#E5ECF6\",\"gridcolor\":\"white\",\"linecolor\":\"white\",\"showbackground\":true,\"ticks\":\"\",\"zerolinecolor\":\"white\",\"gridwidth\":2}},\"shapedefaults\":{\"line\":{\"color\":\"#2a3f5f\"}},\"annotationdefaults\":{\"arrowcolor\":\"#2a3f5f\",\"arrowhead\":0,\"arrowwidth\":1},\"geo\":{\"bgcolor\":\"white\",\"landcolor\":\"#E5ECF6\",\"subunitcolor\":\"white\",\"showland\":true,\"showlakes\":true,\"lakecolor\":\"white\"},\"title\":{\"x\":0.05},\"mapbox\":{\"style\":\"light\"}}},\"xaxis\":{\"anchor\":\"y\",\"domain\":[0.0,1.0],\"title\":{\"text\":\"year_month\"}},\"yaxis\":{\"anchor\":\"x\",\"domain\":[0.0,1.0],\"title\":{\"text\":\"FAKTURA\"}},\"legend\":{\"title\":{\"text\":\"czy_z_kuponow\"},\"tracegroupgap\":0},\"margin\":{\"t\":60}},                        {\"responsive\": true}                    ).then(function(){\n",
       "                            \n",
       "var gd = document.getElementById('8c457691-7837-4441-b8b2-50dd0b40049b');\n",
       "var x = new MutationObserver(function (mutations, observer) {{\n",
       "        var display = window.getComputedStyle(gd).display;\n",
       "        if (!display || display === 'none') {{\n",
       "            console.log([gd, 'removed!']);\n",
       "            Plotly.purge(gd);\n",
       "            observer.disconnect();\n",
       "        }}\n",
       "}});\n",
       "\n",
       "// Listen for the removal of the full notebook cells\n",
       "var notebookContainer = gd.closest('#notebook-container');\n",
       "if (notebookContainer) {{\n",
       "    x.observe(notebookContainer, {childList: true});\n",
       "}}\n",
       "\n",
       "// Listen for the clearing of the current output cell\n",
       "var outputEl = gd.closest('.output');\n",
       "if (outputEl) {{\n",
       "    x.observe(outputEl, {childList: true});\n",
       "}}\n",
       "\n",
       "                        })                };                });            </script>        </div>"
      ]
     },
     "metadata": {},
     "output_type": "display_data"
    }
   ],
   "source": [
    "tmp=df_zamowienia.groupby(['czy_z_kuponow','year_month']).agg({'FAKTURA':'nunique',\n",
    "                                                          'NAZWISKO':'nunique'}).reset_index()\n",
    "px.line(tmp,\n",
    "      x='year_month',\n",
    "      y='FAKTURA',\n",
    "      color='czy_z_kuponow')"
   ]
  },
  {
   "cell_type": "code",
   "execution_count": 86,
   "id": "bb606179-10ae-4f22-b299-08863a7d46de",
   "metadata": {},
   "outputs": [
    {
     "data": {
      "application/vnd.plotly.v1+json": {
       "config": {
        "plotlyServerURL": "https://plot.ly"
       },
       "data": [
        {
         "alignmentgroup": "True",
         "hovertemplate": "year_month=%{x}<br>FAKTURA=%{y}<br>NAZWISKO=%{marker.color}<extra></extra>",
         "legendgroup": "",
         "marker": {
          "color": [
           6,
           6,
           6,
           5,
           5,
           7,
           8,
           8,
           7,
           6,
           8,
           8,
           7,
           8,
           8,
           8,
           7,
           8,
           6,
           5,
           5,
           6,
           5,
           5,
           5,
           5,
           5,
           5,
           5,
           5,
           5
          ],
          "coloraxis": "coloraxis",
          "pattern": {
           "shape": ""
          }
         },
         "name": "",
         "offsetgroup": "",
         "orientation": "v",
         "showlegend": false,
         "textposition": "auto",
         "type": "bar",
         "x": [
          "2020-01-01T00:00:00",
          "2020-02-01T00:00:00",
          "2020-03-01T00:00:00",
          "2020-04-01T00:00:00",
          "2020-05-01T00:00:00",
          "2020-06-01T00:00:00",
          "2020-07-01T00:00:00",
          "2020-08-01T00:00:00",
          "2020-09-01T00:00:00",
          "2020-10-01T00:00:00",
          "2020-11-01T00:00:00",
          "2020-12-01T00:00:00",
          "2021-01-01T00:00:00",
          "2021-02-01T00:00:00",
          "2021-03-01T00:00:00",
          "2021-04-01T00:00:00",
          "2021-05-01T00:00:00",
          "2021-06-01T00:00:00",
          "2021-07-01T00:00:00",
          "2021-08-01T00:00:00",
          "2021-09-01T00:00:00",
          "2021-10-01T00:00:00",
          "2021-11-01T00:00:00",
          "2021-12-01T00:00:00",
          "2022-01-01T00:00:00",
          "2022-02-01T00:00:00",
          "2022-03-01T00:00:00",
          "2022-04-01T00:00:00",
          "2022-05-01T00:00:00",
          "2022-06-01T00:00:00",
          "2022-07-01T00:00:00"
         ],
         "xaxis": "x",
         "y": [
          1236,
          1438,
          1476,
          845,
          1405,
          1807,
          1843,
          1767,
          2073,
          1983,
          2014,
          1960,
          1315,
          1669,
          2630,
          1754,
          1797,
          1631,
          1780,
          1825,
          1681,
          1922,
          2106,
          1881,
          1305,
          1502,
          2267,
          1718,
          1574,
          1513,
          1382
         ],
         "yaxis": "y"
        }
       ],
       "layout": {
        "autosize": true,
        "barmode": "relative",
        "coloraxis": {
         "colorbar": {
          "title": {
           "text": "NAZWISKO"
          }
         },
         "colorscale": [
          [
           0,
           "rgb(232, 245, 171)"
          ],
          [
           0.09090909090909091,
           "rgb(220, 219, 137)"
          ],
          [
           0.18181818181818182,
           "rgb(209, 193, 107)"
          ],
          [
           0.2727272727272727,
           "rgb(199, 168, 83)"
          ],
          [
           0.36363636363636365,
           "rgb(186, 143, 66)"
          ],
          [
           0.45454545454545453,
           "rgb(170, 121, 60)"
          ],
          [
           0.5454545454545454,
           "rgb(151, 103, 58)"
          ],
          [
           0.6363636363636364,
           "rgb(129, 87, 56)"
          ],
          [
           0.7272727272727273,
           "rgb(104, 72, 53)"
          ],
          [
           0.8181818181818182,
           "rgb(80, 59, 46)"
          ],
          [
           0.9090909090909091,
           "rgb(57, 45, 37)"
          ],
          [
           1,
           "rgb(34, 30, 27)"
          ]
         ]
        },
        "legend": {
         "tracegroupgap": 0
        },
        "margin": {
         "t": 60
        },
        "template": {
         "data": {
          "bar": [
           {
            "error_x": {
             "color": "#2a3f5f"
            },
            "error_y": {
             "color": "#2a3f5f"
            },
            "marker": {
             "line": {
              "color": "#E5ECF6",
              "width": 0.5
             },
             "pattern": {
              "fillmode": "overlay",
              "size": 10,
              "solidity": 0.2
             }
            },
            "type": "bar"
           }
          ],
          "barpolar": [
           {
            "marker": {
             "line": {
              "color": "#E5ECF6",
              "width": 0.5
             },
             "pattern": {
              "fillmode": "overlay",
              "size": 10,
              "solidity": 0.2
             }
            },
            "type": "barpolar"
           }
          ],
          "carpet": [
           {
            "aaxis": {
             "endlinecolor": "#2a3f5f",
             "gridcolor": "white",
             "linecolor": "white",
             "minorgridcolor": "white",
             "startlinecolor": "#2a3f5f"
            },
            "baxis": {
             "endlinecolor": "#2a3f5f",
             "gridcolor": "white",
             "linecolor": "white",
             "minorgridcolor": "white",
             "startlinecolor": "#2a3f5f"
            },
            "type": "carpet"
           }
          ],
          "choropleth": [
           {
            "colorbar": {
             "outlinewidth": 0,
             "ticks": ""
            },
            "type": "choropleth"
           }
          ],
          "contour": [
           {
            "colorbar": {
             "outlinewidth": 0,
             "ticks": ""
            },
            "colorscale": [
             [
              0,
              "#0d0887"
             ],
             [
              0.1111111111111111,
              "#46039f"
             ],
             [
              0.2222222222222222,
              "#7201a8"
             ],
             [
              0.3333333333333333,
              "#9c179e"
             ],
             [
              0.4444444444444444,
              "#bd3786"
             ],
             [
              0.5555555555555556,
              "#d8576b"
             ],
             [
              0.6666666666666666,
              "#ed7953"
             ],
             [
              0.7777777777777778,
              "#fb9f3a"
             ],
             [
              0.8888888888888888,
              "#fdca26"
             ],
             [
              1,
              "#f0f921"
             ]
            ],
            "type": "contour"
           }
          ],
          "contourcarpet": [
           {
            "colorbar": {
             "outlinewidth": 0,
             "ticks": ""
            },
            "type": "contourcarpet"
           }
          ],
          "heatmap": [
           {
            "colorbar": {
             "outlinewidth": 0,
             "ticks": ""
            },
            "colorscale": [
             [
              0,
              "#0d0887"
             ],
             [
              0.1111111111111111,
              "#46039f"
             ],
             [
              0.2222222222222222,
              "#7201a8"
             ],
             [
              0.3333333333333333,
              "#9c179e"
             ],
             [
              0.4444444444444444,
              "#bd3786"
             ],
             [
              0.5555555555555556,
              "#d8576b"
             ],
             [
              0.6666666666666666,
              "#ed7953"
             ],
             [
              0.7777777777777778,
              "#fb9f3a"
             ],
             [
              0.8888888888888888,
              "#fdca26"
             ],
             [
              1,
              "#f0f921"
             ]
            ],
            "type": "heatmap"
           }
          ],
          "heatmapgl": [
           {
            "colorbar": {
             "outlinewidth": 0,
             "ticks": ""
            },
            "colorscale": [
             [
              0,
              "#0d0887"
             ],
             [
              0.1111111111111111,
              "#46039f"
             ],
             [
              0.2222222222222222,
              "#7201a8"
             ],
             [
              0.3333333333333333,
              "#9c179e"
             ],
             [
              0.4444444444444444,
              "#bd3786"
             ],
             [
              0.5555555555555556,
              "#d8576b"
             ],
             [
              0.6666666666666666,
              "#ed7953"
             ],
             [
              0.7777777777777778,
              "#fb9f3a"
             ],
             [
              0.8888888888888888,
              "#fdca26"
             ],
             [
              1,
              "#f0f921"
             ]
            ],
            "type": "heatmapgl"
           }
          ],
          "histogram": [
           {
            "marker": {
             "pattern": {
              "fillmode": "overlay",
              "size": 10,
              "solidity": 0.2
             }
            },
            "type": "histogram"
           }
          ],
          "histogram2d": [
           {
            "colorbar": {
             "outlinewidth": 0,
             "ticks": ""
            },
            "colorscale": [
             [
              0,
              "#0d0887"
             ],
             [
              0.1111111111111111,
              "#46039f"
             ],
             [
              0.2222222222222222,
              "#7201a8"
             ],
             [
              0.3333333333333333,
              "#9c179e"
             ],
             [
              0.4444444444444444,
              "#bd3786"
             ],
             [
              0.5555555555555556,
              "#d8576b"
             ],
             [
              0.6666666666666666,
              "#ed7953"
             ],
             [
              0.7777777777777778,
              "#fb9f3a"
             ],
             [
              0.8888888888888888,
              "#fdca26"
             ],
             [
              1,
              "#f0f921"
             ]
            ],
            "type": "histogram2d"
           }
          ],
          "histogram2dcontour": [
           {
            "colorbar": {
             "outlinewidth": 0,
             "ticks": ""
            },
            "colorscale": [
             [
              0,
              "#0d0887"
             ],
             [
              0.1111111111111111,
              "#46039f"
             ],
             [
              0.2222222222222222,
              "#7201a8"
             ],
             [
              0.3333333333333333,
              "#9c179e"
             ],
             [
              0.4444444444444444,
              "#bd3786"
             ],
             [
              0.5555555555555556,
              "#d8576b"
             ],
             [
              0.6666666666666666,
              "#ed7953"
             ],
             [
              0.7777777777777778,
              "#fb9f3a"
             ],
             [
              0.8888888888888888,
              "#fdca26"
             ],
             [
              1,
              "#f0f921"
             ]
            ],
            "type": "histogram2dcontour"
           }
          ],
          "mesh3d": [
           {
            "colorbar": {
             "outlinewidth": 0,
             "ticks": ""
            },
            "type": "mesh3d"
           }
          ],
          "parcoords": [
           {
            "line": {
             "colorbar": {
              "outlinewidth": 0,
              "ticks": ""
             }
            },
            "type": "parcoords"
           }
          ],
          "pie": [
           {
            "automargin": true,
            "type": "pie"
           }
          ],
          "scatter": [
           {
            "fillpattern": {
             "fillmode": "overlay",
             "size": 10,
             "solidity": 0.2
            },
            "type": "scatter"
           }
          ],
          "scatter3d": [
           {
            "line": {
             "colorbar": {
              "outlinewidth": 0,
              "ticks": ""
             }
            },
            "marker": {
             "colorbar": {
              "outlinewidth": 0,
              "ticks": ""
             }
            },
            "type": "scatter3d"
           }
          ],
          "scattercarpet": [
           {
            "marker": {
             "colorbar": {
              "outlinewidth": 0,
              "ticks": ""
             }
            },
            "type": "scattercarpet"
           }
          ],
          "scattergeo": [
           {
            "marker": {
             "colorbar": {
              "outlinewidth": 0,
              "ticks": ""
             }
            },
            "type": "scattergeo"
           }
          ],
          "scattergl": [
           {
            "marker": {
             "colorbar": {
              "outlinewidth": 0,
              "ticks": ""
             }
            },
            "type": "scattergl"
           }
          ],
          "scattermapbox": [
           {
            "marker": {
             "colorbar": {
              "outlinewidth": 0,
              "ticks": ""
             }
            },
            "type": "scattermapbox"
           }
          ],
          "scatterpolar": [
           {
            "marker": {
             "colorbar": {
              "outlinewidth": 0,
              "ticks": ""
             }
            },
            "type": "scatterpolar"
           }
          ],
          "scatterpolargl": [
           {
            "marker": {
             "colorbar": {
              "outlinewidth": 0,
              "ticks": ""
             }
            },
            "type": "scatterpolargl"
           }
          ],
          "scatterternary": [
           {
            "marker": {
             "colorbar": {
              "outlinewidth": 0,
              "ticks": ""
             }
            },
            "type": "scatterternary"
           }
          ],
          "surface": [
           {
            "colorbar": {
             "outlinewidth": 0,
             "ticks": ""
            },
            "colorscale": [
             [
              0,
              "#0d0887"
             ],
             [
              0.1111111111111111,
              "#46039f"
             ],
             [
              0.2222222222222222,
              "#7201a8"
             ],
             [
              0.3333333333333333,
              "#9c179e"
             ],
             [
              0.4444444444444444,
              "#bd3786"
             ],
             [
              0.5555555555555556,
              "#d8576b"
             ],
             [
              0.6666666666666666,
              "#ed7953"
             ],
             [
              0.7777777777777778,
              "#fb9f3a"
             ],
             [
              0.8888888888888888,
              "#fdca26"
             ],
             [
              1,
              "#f0f921"
             ]
            ],
            "type": "surface"
           }
          ],
          "table": [
           {
            "cells": {
             "fill": {
              "color": "#EBF0F8"
             },
             "line": {
              "color": "white"
             }
            },
            "header": {
             "fill": {
              "color": "#C8D4E3"
             },
             "line": {
              "color": "white"
             }
            },
            "type": "table"
           }
          ]
         },
         "layout": {
          "annotationdefaults": {
           "arrowcolor": "#2a3f5f",
           "arrowhead": 0,
           "arrowwidth": 1
          },
          "autotypenumbers": "strict",
          "coloraxis": {
           "colorbar": {
            "outlinewidth": 0,
            "ticks": ""
           }
          },
          "colorscale": {
           "diverging": [
            [
             0,
             "#8e0152"
            ],
            [
             0.1,
             "#c51b7d"
            ],
            [
             0.2,
             "#de77ae"
            ],
            [
             0.3,
             "#f1b6da"
            ],
            [
             0.4,
             "#fde0ef"
            ],
            [
             0.5,
             "#f7f7f7"
            ],
            [
             0.6,
             "#e6f5d0"
            ],
            [
             0.7,
             "#b8e186"
            ],
            [
             0.8,
             "#7fbc41"
            ],
            [
             0.9,
             "#4d9221"
            ],
            [
             1,
             "#276419"
            ]
           ],
           "sequential": [
            [
             0,
             "#0d0887"
            ],
            [
             0.1111111111111111,
             "#46039f"
            ],
            [
             0.2222222222222222,
             "#7201a8"
            ],
            [
             0.3333333333333333,
             "#9c179e"
            ],
            [
             0.4444444444444444,
             "#bd3786"
            ],
            [
             0.5555555555555556,
             "#d8576b"
            ],
            [
             0.6666666666666666,
             "#ed7953"
            ],
            [
             0.7777777777777778,
             "#fb9f3a"
            ],
            [
             0.8888888888888888,
             "#fdca26"
            ],
            [
             1,
             "#f0f921"
            ]
           ],
           "sequentialminus": [
            [
             0,
             "#0d0887"
            ],
            [
             0.1111111111111111,
             "#46039f"
            ],
            [
             0.2222222222222222,
             "#7201a8"
            ],
            [
             0.3333333333333333,
             "#9c179e"
            ],
            [
             0.4444444444444444,
             "#bd3786"
            ],
            [
             0.5555555555555556,
             "#d8576b"
            ],
            [
             0.6666666666666666,
             "#ed7953"
            ],
            [
             0.7777777777777778,
             "#fb9f3a"
            ],
            [
             0.8888888888888888,
             "#fdca26"
            ],
            [
             1,
             "#f0f921"
            ]
           ]
          },
          "colorway": [
           "#636efa",
           "#EF553B",
           "#00cc96",
           "#ab63fa",
           "#FFA15A",
           "#19d3f3",
           "#FF6692",
           "#B6E880",
           "#FF97FF",
           "#FECB52"
          ],
          "font": {
           "color": "#2a3f5f"
          },
          "geo": {
           "bgcolor": "white",
           "lakecolor": "white",
           "landcolor": "#E5ECF6",
           "showlakes": true,
           "showland": true,
           "subunitcolor": "white"
          },
          "hoverlabel": {
           "align": "left"
          },
          "hovermode": "closest",
          "mapbox": {
           "style": "light"
          },
          "paper_bgcolor": "white",
          "plot_bgcolor": "#E5ECF6",
          "polar": {
           "angularaxis": {
            "gridcolor": "white",
            "linecolor": "white",
            "ticks": ""
           },
           "bgcolor": "#E5ECF6",
           "radialaxis": {
            "gridcolor": "white",
            "linecolor": "white",
            "ticks": ""
           }
          },
          "scene": {
           "xaxis": {
            "backgroundcolor": "#E5ECF6",
            "gridcolor": "white",
            "gridwidth": 2,
            "linecolor": "white",
            "showbackground": true,
            "ticks": "",
            "zerolinecolor": "white"
           },
           "yaxis": {
            "backgroundcolor": "#E5ECF6",
            "gridcolor": "white",
            "gridwidth": 2,
            "linecolor": "white",
            "showbackground": true,
            "ticks": "",
            "zerolinecolor": "white"
           },
           "zaxis": {
            "backgroundcolor": "#E5ECF6",
            "gridcolor": "white",
            "gridwidth": 2,
            "linecolor": "white",
            "showbackground": true,
            "ticks": "",
            "zerolinecolor": "white"
           }
          },
          "shapedefaults": {
           "line": {
            "color": "#2a3f5f"
           }
          },
          "ternary": {
           "aaxis": {
            "gridcolor": "white",
            "linecolor": "white",
            "ticks": ""
           },
           "baxis": {
            "gridcolor": "white",
            "linecolor": "white",
            "ticks": ""
           },
           "bgcolor": "#E5ECF6",
           "caxis": {
            "gridcolor": "white",
            "linecolor": "white",
            "ticks": ""
           }
          },
          "title": {
           "x": 0.05
          },
          "xaxis": {
           "automargin": true,
           "gridcolor": "white",
           "linecolor": "white",
           "ticks": "",
           "title": {
            "standoff": 15
           },
           "zerolinecolor": "white",
           "zerolinewidth": 2
          },
          "yaxis": {
           "automargin": true,
           "gridcolor": "white",
           "linecolor": "white",
           "ticks": "",
           "title": {
            "standoff": 15
           },
           "zerolinecolor": "white",
           "zerolinewidth": 2
          }
         }
        },
        "xaxis": {
         "anchor": "y",
         "autorange": true,
         "domain": [
          0,
          1
         ],
         "range": [
          "2019-12-18",
          "2022-07-15"
         ],
         "title": {
          "text": "year_month"
         },
         "type": "date"
        },
        "yaxis": {
         "anchor": "x",
         "autorange": true,
         "domain": [
          0,
          1
         ],
         "range": [
          0,
          2768.421052631579
         ],
         "title": {
          "text": "FAKTURA"
         },
         "type": "linear"
        }
       }
      },
      "image/png": "[encoded data removed]",
      "text/html": [
       "<div>                            <div id=\"0d21dce1-b475-4cb4-8b09-6661419e2a1d\" class=\"plotly-graph-div\" style=\"height:525px; width:100%;\"></div>            <script type=\"text/javascript\">                require([\"plotly\"], function(Plotly) {                    window.PLOTLYENV=window.PLOTLYENV || {};                                    if (document.getElementById(\"0d21dce1-b475-4cb4-8b09-6661419e2a1d\")) {                    Plotly.newPlot(                        \"0d21dce1-b475-4cb4-8b09-6661419e2a1d\",                        [{\"alignmentgroup\":\"True\",\"hovertemplate\":\"year_month=%{x}<br>FAKTURA=%{y}<br>NAZWISKO=%{marker.color}<extra></extra>\",\"legendgroup\":\"\",\"marker\":{\"color\":[6,6,6,5,5,7,8,8,7,6,8,8,7,8,8,8,7,8,6,5,5,6,5,5,5,5,5,5,5,5,5],\"coloraxis\":\"coloraxis\",\"pattern\":{\"shape\":\"\"}},\"name\":\"\",\"offsetgroup\":\"\",\"orientation\":\"v\",\"showlegend\":false,\"textposition\":\"auto\",\"x\":[\"2020-01-01T00:00:00\",\"2020-02-01T00:00:00\",\"2020-03-01T00:00:00\",\"2020-04-01T00:00:00\",\"2020-05-01T00:00:00\",\"2020-06-01T00:00:00\",\"2020-07-01T00:00:00\",\"2020-08-01T00:00:00\",\"2020-09-01T00:00:00\",\"2020-10-01T00:00:00\",\"2020-11-01T00:00:00\",\"2020-12-01T00:00:00\",\"2021-01-01T00:00:00\",\"2021-02-01T00:00:00\",\"2021-03-01T00:00:00\",\"2021-04-01T00:00:00\",\"2021-05-01T00:00:00\",\"2021-06-01T00:00:00\",\"2021-07-01T00:00:00\",\"2021-08-01T00:00:00\",\"2021-09-01T00:00:00\",\"2021-10-01T00:00:00\",\"2021-11-01T00:00:00\",\"2021-12-01T00:00:00\",\"2022-01-01T00:00:00\",\"2022-02-01T00:00:00\",\"2022-03-01T00:00:00\",\"2022-04-01T00:00:00\",\"2022-05-01T00:00:00\",\"2022-06-01T00:00:00\",\"2022-07-01T00:00:00\"],\"xaxis\":\"x\",\"y\":[1236,1438,1476,845,1405,1807,1843,1767,2073,1983,2014,1960,1315,1669,2630,1754,1797,1631,1780,1825,1681,1922,2106,1881,1305,1502,2267,1718,1574,1513,1382],\"yaxis\":\"y\",\"type\":\"bar\"}],                        {\"template\":{\"data\":{\"histogram2dcontour\":[{\"type\":\"histogram2dcontour\",\"colorbar\":{\"outlinewidth\":0,\"ticks\":\"\"},\"colorscale\":[[0.0,\"#0d0887\"],[0.1111111111111111,\"#46039f\"],[0.2222222222222222,\"#7201a8\"],[0.3333333333333333,\"#9c179e\"],[0.4444444444444444,\"#bd3786\"],[0.5555555555555556,\"#d8576b\"],[0.6666666666666666,\"#ed7953\"],[0.7777777777777778,\"#fb9f3a\"],[0.8888888888888888,\"#fdca26\"],[1.0,\"#f0f921\"]]}],\"choropleth\":[{\"type\":\"choropleth\",\"colorbar\":{\"outlinewidth\":0,\"ticks\":\"\"}}],\"histogram2d\":[{\"type\":\"histogram2d\",\"colorbar\":{\"outlinewidth\":0,\"ticks\":\"\"},\"colorscale\":[[0.0,\"#0d0887\"],[0.1111111111111111,\"#46039f\"],[0.2222222222222222,\"#7201a8\"],[0.3333333333333333,\"#9c179e\"],[0.4444444444444444,\"#bd3786\"],[0.5555555555555556,\"#d8576b\"],[0.6666666666666666,\"#ed7953\"],[0.7777777777777778,\"#fb9f3a\"],[0.8888888888888888,\"#fdca26\"],[1.0,\"#f0f921\"]]}],\"heatmap\":[{\"type\":\"heatmap\",\"colorbar\":{\"outlinewidth\":0,\"ticks\":\"\"},\"colorscale\":[[0.0,\"#0d0887\"],[0.1111111111111111,\"#46039f\"],[0.2222222222222222,\"#7201a8\"],[0.3333333333333333,\"#9c179e\"],[0.4444444444444444,\"#bd3786\"],[0.5555555555555556,\"#d8576b\"],[0.6666666666666666,\"#ed7953\"],[0.7777777777777778,\"#fb9f3a\"],[0.8888888888888888,\"#fdca26\"],[1.0,\"#f0f921\"]]}],\"heatmapgl\":[{\"type\":\"heatmapgl\",\"colorbar\":{\"outlinewidth\":0,\"ticks\":\"\"},\"colorscale\":[[0.0,\"#0d0887\"],[0.1111111111111111,\"#46039f\"],[0.2222222222222222,\"#7201a8\"],[0.3333333333333333,\"#9c179e\"],[0.4444444444444444,\"#bd3786\"],[0.5555555555555556,\"#d8576b\"],[0.6666666666666666,\"#ed7953\"],[0.7777777777777778,\"#fb9f3a\"],[0.8888888888888888,\"#fdca26\"],[1.0,\"#f0f921\"]]}],\"contourcarpet\":[{\"type\":\"contourcarpet\",\"colorbar\":{\"outlinewidth\":0,\"ticks\":\"\"}}],\"contour\":[{\"type\":\"contour\",\"colorbar\":{\"outlinewidth\":0,\"ticks\":\"\"},\"colorscale\":[[0.0,\"#0d0887\"],[0.1111111111111111,\"#46039f\"],[0.2222222222222222,\"#7201a8\"],[0.3333333333333333,\"#9c179e\"],[0.4444444444444444,\"#bd3786\"],[0.5555555555555556,\"#d8576b\"],[0.6666666666666666,\"#ed7953\"],[0.7777777777777778,\"#fb9f3a\"],[0.8888888888888888,\"#fdca26\"],[1.0,\"#f0f921\"]]}],\"surface\":[{\"type\":\"surface\",\"colorbar\":{\"outlinewidth\":0,\"ticks\":\"\"},\"colorscale\":[[0.0,\"#0d0887\"],[0.1111111111111111,\"#46039f\"],[0.2222222222222222,\"#7201a8\"],[0.3333333333333333,\"#9c179e\"],[0.4444444444444444,\"#bd3786\"],[0.5555555555555556,\"#d8576b\"],[0.6666666666666666,\"#ed7953\"],[0.7777777777777778,\"#fb9f3a\"],[0.8888888888888888,\"#fdca26\"],[1.0,\"#f0f921\"]]}],\"mesh3d\":[{\"type\":\"mesh3d\",\"colorbar\":{\"outlinewidth\":0,\"ticks\":\"\"}}],\"scatter\":[{\"fillpattern\":{\"fillmode\":\"overlay\",\"size\":10,\"solidity\":0.2},\"type\":\"scatter\"}],\"parcoords\":[{\"type\":\"parcoords\",\"line\":{\"colorbar\":{\"outlinewidth\":0,\"ticks\":\"\"}}}],\"scatterpolargl\":[{\"type\":\"scatterpolargl\",\"marker\":{\"colorbar\":{\"outlinewidth\":0,\"ticks\":\"\"}}}],\"bar\":[{\"error_x\":{\"color\":\"#2a3f5f\"},\"error_y\":{\"color\":\"#2a3f5f\"},\"marker\":{\"line\":{\"color\":\"#E5ECF6\",\"width\":0.5},\"pattern\":{\"fillmode\":\"overlay\",\"size\":10,\"solidity\":0.2}},\"type\":\"bar\"}],\"scattergeo\":[{\"type\":\"scattergeo\",\"marker\":{\"colorbar\":{\"outlinewidth\":0,\"ticks\":\"\"}}}],\"scatterpolar\":[{\"type\":\"scatterpolar\",\"marker\":{\"colorbar\":{\"outlinewidth\":0,\"ticks\":\"\"}}}],\"histogram\":[{\"marker\":{\"pattern\":{\"fillmode\":\"overlay\",\"size\":10,\"solidity\":0.2}},\"type\":\"histogram\"}],\"scattergl\":[{\"type\":\"scattergl\",\"marker\":{\"colorbar\":{\"outlinewidth\":0,\"ticks\":\"\"}}}],\"scatter3d\":[{\"type\":\"scatter3d\",\"line\":{\"colorbar\":{\"outlinewidth\":0,\"ticks\":\"\"}},\"marker\":{\"colorbar\":{\"outlinewidth\":0,\"ticks\":\"\"}}}],\"scattermapbox\":[{\"type\":\"scattermapbox\",\"marker\":{\"colorbar\":{\"outlinewidth\":0,\"ticks\":\"\"}}}],\"scatterternary\":[{\"type\":\"scatterternary\",\"marker\":{\"colorbar\":{\"outlinewidth\":0,\"ticks\":\"\"}}}],\"scattercarpet\":[{\"type\":\"scattercarpet\",\"marker\":{\"colorbar\":{\"outlinewidth\":0,\"ticks\":\"\"}}}],\"carpet\":[{\"aaxis\":{\"endlinecolor\":\"#2a3f5f\",\"gridcolor\":\"white\",\"linecolor\":\"white\",\"minorgridcolor\":\"white\",\"startlinecolor\":\"#2a3f5f\"},\"baxis\":{\"endlinecolor\":\"#2a3f5f\",\"gridcolor\":\"white\",\"linecolor\":\"white\",\"minorgridcolor\":\"white\",\"startlinecolor\":\"#2a3f5f\"},\"type\":\"carpet\"}],\"table\":[{\"cells\":{\"fill\":{\"color\":\"#EBF0F8\"},\"line\":{\"color\":\"white\"}},\"header\":{\"fill\":{\"color\":\"#C8D4E3\"},\"line\":{\"color\":\"white\"}},\"type\":\"table\"}],\"barpolar\":[{\"marker\":{\"line\":{\"color\":\"#E5ECF6\",\"width\":0.5},\"pattern\":{\"fillmode\":\"overlay\",\"size\":10,\"solidity\":0.2}},\"type\":\"barpolar\"}],\"pie\":[{\"automargin\":true,\"type\":\"pie\"}]},\"layout\":{\"autotypenumbers\":\"strict\",\"colorway\":[\"#636efa\",\"#EF553B\",\"#00cc96\",\"#ab63fa\",\"#FFA15A\",\"#19d3f3\",\"#FF6692\",\"#B6E880\",\"#FF97FF\",\"#FECB52\"],\"font\":{\"color\":\"#2a3f5f\"},\"hovermode\":\"closest\",\"hoverlabel\":{\"align\":\"left\"},\"paper_bgcolor\":\"white\",\"plot_bgcolor\":\"#E5ECF6\",\"polar\":{\"bgcolor\":\"#E5ECF6\",\"angularaxis\":{\"gridcolor\":\"white\",\"linecolor\":\"white\",\"ticks\":\"\"},\"radialaxis\":{\"gridcolor\":\"white\",\"linecolor\":\"white\",\"ticks\":\"\"}},\"ternary\":{\"bgcolor\":\"#E5ECF6\",\"aaxis\":{\"gridcolor\":\"white\",\"linecolor\":\"white\",\"ticks\":\"\"},\"baxis\":{\"gridcolor\":\"white\",\"linecolor\":\"white\",\"ticks\":\"\"},\"caxis\":{\"gridcolor\":\"white\",\"linecolor\":\"white\",\"ticks\":\"\"}},\"coloraxis\":{\"colorbar\":{\"outlinewidth\":0,\"ticks\":\"\"}},\"colorscale\":{\"sequential\":[[0.0,\"#0d0887\"],[0.1111111111111111,\"#46039f\"],[0.2222222222222222,\"#7201a8\"],[0.3333333333333333,\"#9c179e\"],[0.4444444444444444,\"#bd3786\"],[0.5555555555555556,\"#d8576b\"],[0.6666666666666666,\"#ed7953\"],[0.7777777777777778,\"#fb9f3a\"],[0.8888888888888888,\"#fdca26\"],[1.0,\"#f0f921\"]],\"sequentialminus\":[[0.0,\"#0d0887\"],[0.1111111111111111,\"#46039f\"],[0.2222222222222222,\"#7201a8\"],[0.3333333333333333,\"#9c179e\"],[0.4444444444444444,\"#bd3786\"],[0.5555555555555556,\"#d8576b\"],[0.6666666666666666,\"#ed7953\"],[0.7777777777777778,\"#fb9f3a\"],[0.8888888888888888,\"#fdca26\"],[1.0,\"#f0f921\"]],\"diverging\":[[0,\"#8e0152\"],[0.1,\"#c51b7d\"],[0.2,\"#de77ae\"],[0.3,\"#f1b6da\"],[0.4,\"#fde0ef\"],[0.5,\"#f7f7f7\"],[0.6,\"#e6f5d0\"],[0.7,\"#b8e186\"],[0.8,\"#7fbc41\"],[0.9,\"#4d9221\"],[1,\"#276419\"]]},\"xaxis\":{\"gridcolor\":\"white\",\"linecolor\":\"white\",\"ticks\":\"\",\"title\":{\"standoff\":15},\"zerolinecolor\":\"white\",\"automargin\":true,\"zerolinewidth\":2},\"yaxis\":{\"gridcolor\":\"white\",\"linecolor\":\"white\",\"ticks\":\"\",\"title\":{\"standoff\":15},\"zerolinecolor\":\"white\",\"automargin\":true,\"zerolinewidth\":2},\"scene\":{\"xaxis\":{\"backgroundcolor\":\"#E5ECF6\",\"gridcolor\":\"white\",\"linecolor\":\"white\",\"showbackground\":true,\"ticks\":\"\",\"zerolinecolor\":\"white\",\"gridwidth\":2},\"yaxis\":{\"backgroundcolor\":\"#E5ECF6\",\"gridcolor\":\"white\",\"linecolor\":\"white\",\"showbackground\":true,\"ticks\":\"\",\"zerolinecolor\":\"white\",\"gridwidth\":2},\"zaxis\":{\"backgroundcolor\":\"#E5ECF6\",\"gridcolor\":\"white\",\"linecolor\":\"white\",\"showbackground\":true,\"ticks\":\"\",\"zerolinecolor\":\"white\",\"gridwidth\":2}},\"shapedefaults\":{\"line\":{\"color\":\"#2a3f5f\"}},\"annotationdefaults\":{\"arrowcolor\":\"#2a3f5f\",\"arrowhead\":0,\"arrowwidth\":1},\"geo\":{\"bgcolor\":\"white\",\"landcolor\":\"#E5ECF6\",\"subunitcolor\":\"white\",\"showland\":true,\"showlakes\":true,\"lakecolor\":\"white\"},\"title\":{\"x\":0.05},\"mapbox\":{\"style\":\"light\"}}},\"xaxis\":{\"anchor\":\"y\",\"domain\":[0.0,1.0],\"title\":{\"text\":\"year_month\"}},\"yaxis\":{\"anchor\":\"x\",\"domain\":[0.0,1.0],\"title\":{\"text\":\"FAKTURA\"}},\"coloraxis\":{\"colorbar\":{\"title\":{\"text\":\"NAZWISKO\"}},\"colorscale\":[[0.0,\"rgb(232, 245, 171)\"],[0.09090909090909091,\"rgb(220, 219, 137)\"],[0.18181818181818182,\"rgb(209, 193, 107)\"],[0.2727272727272727,\"rgb(199, 168, 83)\"],[0.36363636363636365,\"rgb(186, 143, 66)\"],[0.45454545454545453,\"rgb(170, 121, 60)\"],[0.5454545454545454,\"rgb(151, 103, 58)\"],[0.6363636363636364,\"rgb(129, 87, 56)\"],[0.7272727272727273,\"rgb(104, 72, 53)\"],[0.8181818181818182,\"rgb(80, 59, 46)\"],[0.9090909090909091,\"rgb(57, 45, 37)\"],[1.0,\"rgb(34, 30, 27)\"]]},\"legend\":{\"tracegroupgap\":0},\"margin\":{\"t\":60},\"barmode\":\"relative\"},                        {\"responsive\": true}                    ).then(function(){\n",
       "                            \n",
       "var gd = document.getElementById('0d21dce1-b475-4cb4-8b09-6661419e2a1d');\n",
       "var x = new MutationObserver(function (mutations, observer) {{\n",
       "        var display = window.getComputedStyle(gd).display;\n",
       "        if (!display || display === 'none') {{\n",
       "            console.log([gd, 'removed!']);\n",
       "            Plotly.purge(gd);\n",
       "            observer.disconnect();\n",
       "        }}\n",
       "}});\n",
       "\n",
       "// Listen for the removal of the full notebook cells\n",
       "var notebookContainer = gd.closest('#notebook-container');\n",
       "if (notebookContainer) {{\n",
       "    x.observe(notebookContainer, {childList: true});\n",
       "}}\n",
       "\n",
       "// Listen for the clearing of the current output cell\n",
       "var outputEl = gd.closest('.output');\n",
       "if (outputEl) {{\n",
       "    x.observe(outputEl, {childList: true});\n",
       "}}\n",
       "\n",
       "                        })                };                });            </script>        </div>"
      ]
     },
     "metadata": {},
     "output_type": "display_data"
    }
   ],
   "source": [
    "tmp=df_zamowienia.groupby(['czy_z_kuponow','year_month']).agg({'FAKTURA':'nunique',\n",
    "                                                          'NAZWISKO':'nunique'}).reset_index()\n",
    "px.bar(tmp.loc[tmp['czy_z_kuponow']=='tak'],\n",
    "      x='year_month',\n",
    "      y='FAKTURA',\n",
    "      color='NAZWISKO',\n",
    "      color_continuous_scale='turbid')"
   ]
  },
  {
   "cell_type": "code",
   "execution_count": 88,
   "id": "a5e3e6b8-1edb-4e5d-9a5f-46ab823d1134",
   "metadata": {},
   "outputs": [
    {
     "data": {
      "application/vnd.plotly.v1+json": {
       "config": {
        "plotlyServerURL": "https://plot.ly"
       },
       "data": [
        {
         "alignmentgroup": "True",
         "hovertemplate": "year_week=%{x}<br>FAKTURA=%{y}<br>NAZWISKO=%{marker.color}<extra></extra>",
         "legendgroup": "",
         "marker": {
          "color": [
           6,
           4,
           6,
           5,
           5,
           6,
           5,
           5,
           5,
           6,
           6,
           4,
           3,
           4,
           4,
           3,
           4,
           5,
           4,
           5,
           4,
           5,
           5,
           7,
           5,
           6,
           5,
           5,
           6,
           7,
           7,
           6,
           5,
           5,
           7,
           6,
           6,
           5,
           6,
           7,
           5,
           6,
           6,
           3,
           7,
           4,
           6,
           7,
           6,
           6,
           8,
           5,
           6,
           5,
           5,
           6,
           7,
           6,
           5,
           6,
           6,
           7,
           8,
           6,
           6,
           6,
           7,
           7,
           5,
           6,
           6,
           7,
           5,
           6,
           6,
           6,
           5,
           4,
           5,
           4,
           6,
           5,
           4,
           3,
           4,
           5,
           5,
           5,
           5,
           5,
           5,
           5,
           4,
           6,
           6,
           4,
           5,
           5,
           5,
           5,
           5,
           5,
           5,
           5,
           5,
           5,
           4,
           5,
           5,
           5,
           5,
           5,
           5,
           5,
           5,
           4,
           5,
           5,
           5,
           5,
           5,
           5,
           5,
           5,
           4,
           5,
           5,
           5,
           5,
           3,
           3,
           5,
           5,
           4,
           3
          ],
          "coloraxis": "coloraxis",
          "pattern": {
           "shape": ""
          }
         },
         "name": "",
         "offsetgroup": "",
         "orientation": "v",
         "showlegend": false,
         "textposition": "auto",
         "type": "bar",
         "x": [
          "2020--01",
          "2020--02",
          "2020--03",
          "2020--04",
          "2020--05",
          "2020--06",
          "2020--07",
          "2020--08",
          "2020--09",
          "2020--10",
          "2020--11",
          "2020--12",
          "2020--13",
          "2020--14",
          "2020--15",
          "2020--16",
          "2020--17",
          "2020--18",
          "2020--19",
          "2020--20",
          "2020--21",
          "2020--22",
          "2020--23",
          "2020--24",
          "2020--25",
          "2020--26",
          "2020--27",
          "2020--28",
          "2020--29",
          "2020--30",
          "2020--31",
          "2020--32",
          "2020--33",
          "2020--34",
          "2020--35",
          "2020--36",
          "2020--37",
          "2020--38",
          "2020--39",
          "2020--40",
          "2020--41",
          "2020--42",
          "2020--43",
          "2020--44",
          "2020--45",
          "2020--46",
          "2020--47",
          "2020--48",
          "2020--49",
          "2020--50",
          "2020--51",
          "2020--52",
          "2020--53",
          "2021--01",
          "2021--02",
          "2021--03",
          "2021--04",
          "2021--05",
          "2021--06",
          "2021--07",
          "2021--08",
          "2021--09",
          "2021--10",
          "2021--11",
          "2021--12",
          "2021--13",
          "2021--14",
          "2021--15",
          "2021--16",
          "2021--17",
          "2021--18",
          "2021--19",
          "2021--20",
          "2021--21",
          "2021--22",
          "2021--23",
          "2021--24",
          "2021--25",
          "2021--26",
          "2021--27",
          "2021--28",
          "2021--29",
          "2021--30",
          "2021--31",
          "2021--32",
          "2021--33",
          "2021--34",
          "2021--35",
          "2021--36",
          "2021--37",
          "2021--38",
          "2021--39",
          "2021--40",
          "2021--41",
          "2021--42",
          "2021--43",
          "2021--44",
          "2021--45",
          "2021--46",
          "2021--47",
          "2021--48",
          "2021--49",
          "2021--50",
          "2021--51",
          "2021--52",
          "2022--01",
          "2022--02",
          "2022--03",
          "2022--04",
          "2022--05",
          "2022--06",
          "2022--07",
          "2022--08",
          "2022--09",
          "2022--10",
          "2022--11",
          "2022--12",
          "2022--13",
          "2022--14",
          "2022--15",
          "2022--16",
          "2022--17",
          "2022--18",
          "2022--19",
          "2022--20",
          "2022--21",
          "2022--22",
          "2022--23",
          "2022--24",
          "2022--25",
          "2022--26",
          "2022--27",
          "2022--28",
          "2022--29",
          "2022--30"
         ],
         "xaxis": "x",
         "y": [
          76,
          224,
          283,
          331,
          322,
          300,
          355,
          399,
          384,
          404,
          435,
          292,
          262,
          208,
          124,
          132,
          232,
          232,
          323,
          357,
          357,
          368,
          384,
          324,
          454,
          480,
          429,
          446,
          345,
          369,
          419,
          407,
          411,
          405,
          437,
          350,
          485,
          490,
          557,
          477,
          454,
          437,
          478,
          435,
          467,
          347,
          447,
          599,
          632,
          627,
          557,
          143,
          155,
          240,
          305,
          361,
          409,
          419,
          372,
          407,
          471,
          619,
          543,
          582,
          637,
          291,
          311,
          437,
          510,
          454,
          329,
          413,
          452,
          499,
          279,
          440,
          405,
          343,
          384,
          406,
          441,
          448,
          369,
          398,
          374,
          418,
          431,
          392,
          367,
          412,
          377,
          399,
          436,
          468,
          481,
          475,
          356,
          393,
          540,
          565,
          609,
          637,
          528,
          200,
          159,
          140,
          350,
          363,
          348,
          369,
          374,
          394,
          383,
          384,
          457,
          486,
          569,
          568,
          567,
          294,
          320,
          426,
          228,
          383,
          399,
          379,
          365,
          418,
          253,
          361,
          360,
          381,
          417,
          386,
          139
         ],
         "yaxis": "y"
        }
       ],
       "layout": {
        "autosize": true,
        "barmode": "relative",
        "coloraxis": {
         "colorbar": {
          "title": {
           "text": "NAZWISKO"
          }
         },
         "colorscale": [
          [
           0,
           "rgb(232, 245, 171)"
          ],
          [
           0.09090909090909091,
           "rgb(220, 219, 137)"
          ],
          [
           0.18181818181818182,
           "rgb(209, 193, 107)"
          ],
          [
           0.2727272727272727,
           "rgb(199, 168, 83)"
          ],
          [
           0.36363636363636365,
           "rgb(186, 143, 66)"
          ],
          [
           0.45454545454545453,
           "rgb(170, 121, 60)"
          ],
          [
           0.5454545454545454,
           "rgb(151, 103, 58)"
          ],
          [
           0.6363636363636364,
           "rgb(129, 87, 56)"
          ],
          [
           0.7272727272727273,
           "rgb(104, 72, 53)"
          ],
          [
           0.8181818181818182,
           "rgb(80, 59, 46)"
          ],
          [
           0.9090909090909091,
           "rgb(57, 45, 37)"
          ],
          [
           1,
           "rgb(34, 30, 27)"
          ]
         ]
        },
        "legend": {
         "tracegroupgap": 0
        },
        "margin": {
         "t": 60
        },
        "template": {
         "data": {
          "bar": [
           {
            "error_x": {
             "color": "#2a3f5f"
            },
            "error_y": {
             "color": "#2a3f5f"
            },
            "marker": {
             "line": {
              "color": "#E5ECF6",
              "width": 0.5
             },
             "pattern": {
              "fillmode": "overlay",
              "size": 10,
              "solidity": 0.2
             }
            },
            "type": "bar"
           }
          ],
          "barpolar": [
           {
            "marker": {
             "line": {
              "color": "#E5ECF6",
              "width": 0.5
             },
             "pattern": {
              "fillmode": "overlay",
              "size": 10,
              "solidity": 0.2
             }
            },
            "type": "barpolar"
           }
          ],
          "carpet": [
           {
            "aaxis": {
             "endlinecolor": "#2a3f5f",
             "gridcolor": "white",
             "linecolor": "white",
             "minorgridcolor": "white",
             "startlinecolor": "#2a3f5f"
            },
            "baxis": {
             "endlinecolor": "#2a3f5f",
             "gridcolor": "white",
             "linecolor": "white",
             "minorgridcolor": "white",
             "startlinecolor": "#2a3f5f"
            },
            "type": "carpet"
           }
          ],
          "choropleth": [
           {
            "colorbar": {
             "outlinewidth": 0,
             "ticks": ""
            },
            "type": "choropleth"
           }
          ],
          "contour": [
           {
            "colorbar": {
             "outlinewidth": 0,
             "ticks": ""
            },
            "colorscale": [
             [
              0,
              "#0d0887"
             ],
             [
              0.1111111111111111,
              "#46039f"
             ],
             [
              0.2222222222222222,
              "#7201a8"
             ],
             [
              0.3333333333333333,
              "#9c179e"
             ],
             [
              0.4444444444444444,
              "#bd3786"
             ],
             [
              0.5555555555555556,
              "#d8576b"
             ],
             [
              0.6666666666666666,
              "#ed7953"
             ],
             [
              0.7777777777777778,
              "#fb9f3a"
             ],
             [
              0.8888888888888888,
              "#fdca26"
             ],
             [
              1,
              "#f0f921"
             ]
            ],
            "type": "contour"
           }
          ],
          "contourcarpet": [
           {
            "colorbar": {
             "outlinewidth": 0,
             "ticks": ""
            },
            "type": "contourcarpet"
           }
          ],
          "heatmap": [
           {
            "colorbar": {
             "outlinewidth": 0,
             "ticks": ""
            },
            "colorscale": [
             [
              0,
              "#0d0887"
             ],
             [
              0.1111111111111111,
              "#46039f"
             ],
             [
              0.2222222222222222,
              "#7201a8"
             ],
             [
              0.3333333333333333,
              "#9c179e"
             ],
             [
              0.4444444444444444,
              "#bd3786"
             ],
             [
              0.5555555555555556,
              "#d8576b"
             ],
             [
              0.6666666666666666,
              "#ed7953"
             ],
             [
              0.7777777777777778,
              "#fb9f3a"
             ],
             [
              0.8888888888888888,
              "#fdca26"
             ],
             [
              1,
              "#f0f921"
             ]
            ],
            "type": "heatmap"
           }
          ],
          "heatmapgl": [
           {
            "colorbar": {
             "outlinewidth": 0,
             "ticks": ""
            },
            "colorscale": [
             [
              0,
              "#0d0887"
             ],
             [
              0.1111111111111111,
              "#46039f"
             ],
             [
              0.2222222222222222,
              "#7201a8"
             ],
             [
              0.3333333333333333,
              "#9c179e"
             ],
             [
              0.4444444444444444,
              "#bd3786"
             ],
             [
              0.5555555555555556,
              "#d8576b"
             ],
             [
              0.6666666666666666,
              "#ed7953"
             ],
             [
              0.7777777777777778,
              "#fb9f3a"
             ],
             [
              0.8888888888888888,
              "#fdca26"
             ],
             [
              1,
              "#f0f921"
             ]
            ],
            "type": "heatmapgl"
           }
          ],
          "histogram": [
           {
            "marker": {
             "pattern": {
              "fillmode": "overlay",
              "size": 10,
              "solidity": 0.2
             }
            },
            "type": "histogram"
           }
          ],
          "histogram2d": [
           {
            "colorbar": {
             "outlinewidth": 0,
             "ticks": ""
            },
            "colorscale": [
             [
              0,
              "#0d0887"
             ],
             [
              0.1111111111111111,
              "#46039f"
             ],
             [
              0.2222222222222222,
              "#7201a8"
             ],
             [
              0.3333333333333333,
              "#9c179e"
             ],
             [
              0.4444444444444444,
              "#bd3786"
             ],
             [
              0.5555555555555556,
              "#d8576b"
             ],
             [
              0.6666666666666666,
              "#ed7953"
             ],
             [
              0.7777777777777778,
              "#fb9f3a"
             ],
             [
              0.8888888888888888,
              "#fdca26"
             ],
             [
              1,
              "#f0f921"
             ]
            ],
            "type": "histogram2d"
           }
          ],
          "histogram2dcontour": [
           {
            "colorbar": {
             "outlinewidth": 0,
             "ticks": ""
            },
            "colorscale": [
             [
              0,
              "#0d0887"
             ],
             [
              0.1111111111111111,
              "#46039f"
             ],
             [
              0.2222222222222222,
              "#7201a8"
             ],
             [
              0.3333333333333333,
              "#9c179e"
             ],
             [
              0.4444444444444444,
              "#bd3786"
             ],
             [
              0.5555555555555556,
              "#d8576b"
             ],
             [
              0.6666666666666666,
              "#ed7953"
             ],
             [
              0.7777777777777778,
              "#fb9f3a"
             ],
             [
              0.8888888888888888,
              "#fdca26"
             ],
             [
              1,
              "#f0f921"
             ]
            ],
            "type": "histogram2dcontour"
           }
          ],
          "mesh3d": [
           {
            "colorbar": {
             "outlinewidth": 0,
             "ticks": ""
            },
            "type": "mesh3d"
           }
          ],
          "parcoords": [
           {
            "line": {
             "colorbar": {
              "outlinewidth": 0,
              "ticks": ""
             }
            },
            "type": "parcoords"
           }
          ],
          "pie": [
           {
            "automargin": true,
            "type": "pie"
           }
          ],
          "scatter": [
           {
            "fillpattern": {
             "fillmode": "overlay",
             "size": 10,
             "solidity": 0.2
            },
            "type": "scatter"
           }
          ],
          "scatter3d": [
           {
            "line": {
             "colorbar": {
              "outlinewidth": 0,
              "ticks": ""
             }
            },
            "marker": {
             "colorbar": {
              "outlinewidth": 0,
              "ticks": ""
             }
            },
            "type": "scatter3d"
           }
          ],
          "scattercarpet": [
           {
            "marker": {
             "colorbar": {
              "outlinewidth": 0,
              "ticks": ""
             }
            },
            "type": "scattercarpet"
           }
          ],
          "scattergeo": [
           {
            "marker": {
             "colorbar": {
              "outlinewidth": 0,
              "ticks": ""
             }
            },
            "type": "scattergeo"
           }
          ],
          "scattergl": [
           {
            "marker": {
             "colorbar": {
              "outlinewidth": 0,
              "ticks": ""
             }
            },
            "type": "scattergl"
           }
          ],
          "scattermapbox": [
           {
            "marker": {
             "colorbar": {
              "outlinewidth": 0,
              "ticks": ""
             }
            },
            "type": "scattermapbox"
           }
          ],
          "scatterpolar": [
           {
            "marker": {
             "colorbar": {
              "outlinewidth": 0,
              "ticks": ""
             }
            },
            "type": "scatterpolar"
           }
          ],
          "scatterpolargl": [
           {
            "marker": {
             "colorbar": {
              "outlinewidth": 0,
              "ticks": ""
             }
            },
            "type": "scatterpolargl"
           }
          ],
          "scatterternary": [
           {
            "marker": {
             "colorbar": {
              "outlinewidth": 0,
              "ticks": ""
             }
            },
            "type": "scatterternary"
           }
          ],
          "surface": [
           {
            "colorbar": {
             "outlinewidth": 0,
             "ticks": ""
            },
            "colorscale": [
             [
              0,
              "#0d0887"
             ],
             [
              0.1111111111111111,
              "#46039f"
             ],
             [
              0.2222222222222222,
              "#7201a8"
             ],
             [
              0.3333333333333333,
              "#9c179e"
             ],
             [
              0.4444444444444444,
              "#bd3786"
             ],
             [
              0.5555555555555556,
              "#d8576b"
             ],
             [
              0.6666666666666666,
              "#ed7953"
             ],
             [
              0.7777777777777778,
              "#fb9f3a"
             ],
             [
              0.8888888888888888,
              "#fdca26"
             ],
             [
              1,
              "#f0f921"
             ]
            ],
            "type": "surface"
           }
          ],
          "table": [
           {
            "cells": {
             "fill": {
              "color": "#EBF0F8"
             },
             "line": {
              "color": "white"
             }
            },
            "header": {
             "fill": {
              "color": "#C8D4E3"
             },
             "line": {
              "color": "white"
             }
            },
            "type": "table"
           }
          ]
         },
         "layout": {
          "annotationdefaults": {
           "arrowcolor": "#2a3f5f",
           "arrowhead": 0,
           "arrowwidth": 1
          },
          "autotypenumbers": "strict",
          "coloraxis": {
           "colorbar": {
            "outlinewidth": 0,
            "ticks": ""
           }
          },
          "colorscale": {
           "diverging": [
            [
             0,
             "#8e0152"
            ],
            [
             0.1,
             "#c51b7d"
            ],
            [
             0.2,
             "#de77ae"
            ],
            [
             0.3,
             "#f1b6da"
            ],
            [
             0.4,
             "#fde0ef"
            ],
            [
             0.5,
             "#f7f7f7"
            ],
            [
             0.6,
             "#e6f5d0"
            ],
            [
             0.7,
             "#b8e186"
            ],
            [
             0.8,
             "#7fbc41"
            ],
            [
             0.9,
             "#4d9221"
            ],
            [
             1,
             "#276419"
            ]
           ],
           "sequential": [
            [
             0,
             "#0d0887"
            ],
            [
             0.1111111111111111,
             "#46039f"
            ],
            [
             0.2222222222222222,
             "#7201a8"
            ],
            [
             0.3333333333333333,
             "#9c179e"
            ],
            [
             0.4444444444444444,
             "#bd3786"
            ],
            [
             0.5555555555555556,
             "#d8576b"
            ],
            [
             0.6666666666666666,
             "#ed7953"
            ],
            [
             0.7777777777777778,
             "#fb9f3a"
            ],
            [
             0.8888888888888888,
             "#fdca26"
            ],
            [
             1,
             "#f0f921"
            ]
           ],
           "sequentialminus": [
            [
             0,
             "#0d0887"
            ],
            [
             0.1111111111111111,
             "#46039f"
            ],
            [
             0.2222222222222222,
             "#7201a8"
            ],
            [
             0.3333333333333333,
             "#9c179e"
            ],
            [
             0.4444444444444444,
             "#bd3786"
            ],
            [
             0.5555555555555556,
             "#d8576b"
            ],
            [
             0.6666666666666666,
             "#ed7953"
            ],
            [
             0.7777777777777778,
             "#fb9f3a"
            ],
            [
             0.8888888888888888,
             "#fdca26"
            ],
            [
             1,
             "#f0f921"
            ]
           ]
          },
          "colorway": [
           "#636efa",
           "#EF553B",
           "#00cc96",
           "#ab63fa",
           "#FFA15A",
           "#19d3f3",
           "#FF6692",
           "#B6E880",
           "#FF97FF",
           "#FECB52"
          ],
          "font": {
           "color": "#2a3f5f"
          },
          "geo": {
           "bgcolor": "white",
           "lakecolor": "white",
           "landcolor": "#E5ECF6",
           "showlakes": true,
           "showland": true,
           "subunitcolor": "white"
          },
          "hoverlabel": {
           "align": "left"
          },
          "hovermode": "closest",
          "mapbox": {
           "style": "light"
          },
          "paper_bgcolor": "white",
          "plot_bgcolor": "#E5ECF6",
          "polar": {
           "angularaxis": {
            "gridcolor": "white",
            "linecolor": "white",
            "ticks": ""
           },
           "bgcolor": "#E5ECF6",
           "radialaxis": {
            "gridcolor": "white",
            "linecolor": "white",
            "ticks": ""
           }
          },
          "scene": {
           "xaxis": {
            "backgroundcolor": "#E5ECF6",
            "gridcolor": "white",
            "gridwidth": 2,
            "linecolor": "white",
            "showbackground": true,
            "ticks": "",
            "zerolinecolor": "white"
           },
           "yaxis": {
            "backgroundcolor": "#E5ECF6",
            "gridcolor": "white",
            "gridwidth": 2,
            "linecolor": "white",
            "showbackground": true,
            "ticks": "",
            "zerolinecolor": "white"
           },
           "zaxis": {
            "backgroundcolor": "#E5ECF6",
            "gridcolor": "white",
            "gridwidth": 2,
            "linecolor": "white",
            "showbackground": true,
            "ticks": "",
            "zerolinecolor": "white"
           }
          },
          "shapedefaults": {
           "line": {
            "color": "#2a3f5f"
           }
          },
          "ternary": {
           "aaxis": {
            "gridcolor": "white",
            "linecolor": "white",
            "ticks": ""
           },
           "baxis": {
            "gridcolor": "white",
            "linecolor": "white",
            "ticks": ""
           },
           "bgcolor": "#E5ECF6",
           "caxis": {
            "gridcolor": "white",
            "linecolor": "white",
            "ticks": ""
           }
          },
          "title": {
           "x": 0.05
          },
          "xaxis": {
           "automargin": true,
           "gridcolor": "white",
           "linecolor": "white",
           "ticks": "",
           "title": {
            "standoff": 15
           },
           "zerolinecolor": "white",
           "zerolinewidth": 2
          },
          "yaxis": {
           "automargin": true,
           "gridcolor": "white",
           "linecolor": "white",
           "ticks": "",
           "title": {
            "standoff": 15
           },
           "zerolinecolor": "white",
           "zerolinewidth": 2
          }
         }
        },
        "xaxis": {
         "anchor": "y",
         "autorange": true,
         "domain": [
          0,
          1
         ],
         "range": [
          -0.5,
          134.5
         ],
         "title": {
          "text": "year_week"
         },
         "type": "category"
        },
        "yaxis": {
         "anchor": "x",
         "autorange": true,
         "domain": [
          0,
          1
         ],
         "range": [
          0,
          670.5263157894736
         ],
         "title": {
          "text": "FAKTURA"
         },
         "type": "linear"
        }
       }
      },
      "image/png": "[encoded data removed]",
      "text/html": [
       "<div>                            <div id=\"d4abb520-6e6f-49c5-8052-534998b51f22\" class=\"plotly-graph-div\" style=\"height:525px; width:100%;\"></div>            <script type=\"text/javascript\">                require([\"plotly\"], function(Plotly) {                    window.PLOTLYENV=window.PLOTLYENV || {};                                    if (document.getElementById(\"d4abb520-6e6f-49c5-8052-534998b51f22\")) {                    Plotly.newPlot(                        \"d4abb520-6e6f-49c5-8052-534998b51f22\",                        [{\"alignmentgroup\":\"True\",\"hovertemplate\":\"year_week=%{x}<br>FAKTURA=%{y}<br>NAZWISKO=%{marker.color}<extra></extra>\",\"legendgroup\":\"\",\"marker\":{\"color\":[6,4,6,5,5,6,5,5,5,6,6,4,3,4,4,3,4,5,4,5,4,5,5,7,5,6,5,5,6,7,7,6,5,5,7,6,6,5,6,7,5,6,6,3,7,4,6,7,6,6,8,5,6,5,5,6,7,6,5,6,6,7,8,6,6,6,7,7,5,6,6,7,5,6,6,6,5,4,5,4,6,5,4,3,4,5,5,5,5,5,5,5,4,6,6,4,5,5,5,5,5,5,5,5,5,5,4,5,5,5,5,5,5,5,5,4,5,5,5,5,5,5,5,5,4,5,5,5,5,3,3,5,5,4,3],\"coloraxis\":\"coloraxis\",\"pattern\":{\"shape\":\"\"}},\"name\":\"\",\"offsetgroup\":\"\",\"orientation\":\"v\",\"showlegend\":false,\"textposition\":\"auto\",\"x\":[\"2020--01\",\"2020--02\",\"2020--03\",\"2020--04\",\"2020--05\",\"2020--06\",\"2020--07\",\"2020--08\",\"2020--09\",\"2020--10\",\"2020--11\",\"2020--12\",\"2020--13\",\"2020--14\",\"2020--15\",\"2020--16\",\"2020--17\",\"2020--18\",\"2020--19\",\"2020--20\",\"2020--21\",\"2020--22\",\"2020--23\",\"2020--24\",\"2020--25\",\"2020--26\",\"2020--27\",\"2020--28\",\"2020--29\",\"2020--30\",\"2020--31\",\"2020--32\",\"2020--33\",\"2020--34\",\"2020--35\",\"2020--36\",\"2020--37\",\"2020--38\",\"2020--39\",\"2020--40\",\"2020--41\",\"2020--42\",\"2020--43\",\"2020--44\",\"2020--45\",\"2020--46\",\"2020--47\",\"2020--48\",\"2020--49\",\"2020--50\",\"2020--51\",\"2020--52\",\"2020--53\",\"2021--01\",\"2021--02\",\"2021--03\",\"2021--04\",\"2021--05\",\"2021--06\",\"2021--07\",\"2021--08\",\"2021--09\",\"2021--10\",\"2021--11\",\"2021--12\",\"2021--13\",\"2021--14\",\"2021--15\",\"2021--16\",\"2021--17\",\"2021--18\",\"2021--19\",\"2021--20\",\"2021--21\",\"2021--22\",\"2021--23\",\"2021--24\",\"2021--25\",\"2021--26\",\"2021--27\",\"2021--28\",\"2021--29\",\"2021--30\",\"2021--31\",\"2021--32\",\"2021--33\",\"2021--34\",\"2021--35\",\"2021--36\",\"2021--37\",\"2021--38\",\"2021--39\",\"2021--40\",\"2021--41\",\"2021--42\",\"2021--43\",\"2021--44\",\"2021--45\",\"2021--46\",\"2021--47\",\"2021--48\",\"2021--49\",\"2021--50\",\"2021--51\",\"2021--52\",\"2022--01\",\"2022--02\",\"2022--03\",\"2022--04\",\"2022--05\",\"2022--06\",\"2022--07\",\"2022--08\",\"2022--09\",\"2022--10\",\"2022--11\",\"2022--12\",\"2022--13\",\"2022--14\",\"2022--15\",\"2022--16\",\"2022--17\",\"2022--18\",\"2022--19\",\"2022--20\",\"2022--21\",\"2022--22\",\"2022--23\",\"2022--24\",\"2022--25\",\"2022--26\",\"2022--27\",\"2022--28\",\"2022--29\",\"2022--30\"],\"xaxis\":\"x\",\"y\":[76,224,283,331,322,300,355,399,384,404,435,292,262,208,124,132,232,232,323,357,357,368,384,324,454,480,429,446,345,369,419,407,411,405,437,350,485,490,557,477,454,437,478,435,467,347,447,599,632,627,557,143,155,240,305,361,409,419,372,407,471,619,543,582,637,291,311,437,510,454,329,413,452,499,279,440,405,343,384,406,441,448,369,398,374,418,431,392,367,412,377,399,436,468,481,475,356,393,540,565,609,637,528,200,159,140,350,363,348,369,374,394,383,384,457,486,569,568,567,294,320,426,228,383,399,379,365,418,253,361,360,381,417,386,139],\"yaxis\":\"y\",\"type\":\"bar\"}],                        {\"template\":{\"data\":{\"histogram2dcontour\":[{\"type\":\"histogram2dcontour\",\"colorbar\":{\"outlinewidth\":0,\"ticks\":\"\"},\"colorscale\":[[0.0,\"#0d0887\"],[0.1111111111111111,\"#46039f\"],[0.2222222222222222,\"#7201a8\"],[0.3333333333333333,\"#9c179e\"],[0.4444444444444444,\"#bd3786\"],[0.5555555555555556,\"#d8576b\"],[0.6666666666666666,\"#ed7953\"],[0.7777777777777778,\"#fb9f3a\"],[0.8888888888888888,\"#fdca26\"],[1.0,\"#f0f921\"]]}],\"choropleth\":[{\"type\":\"choropleth\",\"colorbar\":{\"outlinewidth\":0,\"ticks\":\"\"}}],\"histogram2d\":[{\"type\":\"histogram2d\",\"colorbar\":{\"outlinewidth\":0,\"ticks\":\"\"},\"colorscale\":[[0.0,\"#0d0887\"],[0.1111111111111111,\"#46039f\"],[0.2222222222222222,\"#7201a8\"],[0.3333333333333333,\"#9c179e\"],[0.4444444444444444,\"#bd3786\"],[0.5555555555555556,\"#d8576b\"],[0.6666666666666666,\"#ed7953\"],[0.7777777777777778,\"#fb9f3a\"],[0.8888888888888888,\"#fdca26\"],[1.0,\"#f0f921\"]]}],\"heatmap\":[{\"type\":\"heatmap\",\"colorbar\":{\"outlinewidth\":0,\"ticks\":\"\"},\"colorscale\":[[0.0,\"#0d0887\"],[0.1111111111111111,\"#46039f\"],[0.2222222222222222,\"#7201a8\"],[0.3333333333333333,\"#9c179e\"],[0.4444444444444444,\"#bd3786\"],[0.5555555555555556,\"#d8576b\"],[0.6666666666666666,\"#ed7953\"],[0.7777777777777778,\"#fb9f3a\"],[0.8888888888888888,\"#fdca26\"],[1.0,\"#f0f921\"]]}],\"heatmapgl\":[{\"type\":\"heatmapgl\",\"colorbar\":{\"outlinewidth\":0,\"ticks\":\"\"},\"colorscale\":[[0.0,\"#0d0887\"],[0.1111111111111111,\"#46039f\"],[0.2222222222222222,\"#7201a8\"],[0.3333333333333333,\"#9c179e\"],[0.4444444444444444,\"#bd3786\"],[0.5555555555555556,\"#d8576b\"],[0.6666666666666666,\"#ed7953\"],[0.7777777777777778,\"#fb9f3a\"],[0.8888888888888888,\"#fdca26\"],[1.0,\"#f0f921\"]]}],\"contourcarpet\":[{\"type\":\"contourcarpet\",\"colorbar\":{\"outlinewidth\":0,\"ticks\":\"\"}}],\"contour\":[{\"type\":\"contour\",\"colorbar\":{\"outlinewidth\":0,\"ticks\":\"\"},\"colorscale\":[[0.0,\"#0d0887\"],[0.1111111111111111,\"#46039f\"],[0.2222222222222222,\"#7201a8\"],[0.3333333333333333,\"#9c179e\"],[0.4444444444444444,\"#bd3786\"],[0.5555555555555556,\"#d8576b\"],[0.6666666666666666,\"#ed7953\"],[0.7777777777777778,\"#fb9f3a\"],[0.8888888888888888,\"#fdca26\"],[1.0,\"#f0f921\"]]}],\"surface\":[{\"type\":\"surface\",\"colorbar\":{\"outlinewidth\":0,\"ticks\":\"\"},\"colorscale\":[[0.0,\"#0d0887\"],[0.1111111111111111,\"#46039f\"],[0.2222222222222222,\"#7201a8\"],[0.3333333333333333,\"#9c179e\"],[0.4444444444444444,\"#bd3786\"],[0.5555555555555556,\"#d8576b\"],[0.6666666666666666,\"#ed7953\"],[0.7777777777777778,\"#fb9f3a\"],[0.8888888888888888,\"#fdca26\"],[1.0,\"#f0f921\"]]}],\"mesh3d\":[{\"type\":\"mesh3d\",\"colorbar\":{\"outlinewidth\":0,\"ticks\":\"\"}}],\"scatter\":[{\"fillpattern\":{\"fillmode\":\"overlay\",\"size\":10,\"solidity\":0.2},\"type\":\"scatter\"}],\"parcoords\":[{\"type\":\"parcoords\",\"line\":{\"colorbar\":{\"outlinewidth\":0,\"ticks\":\"\"}}}],\"scatterpolargl\":[{\"type\":\"scatterpolargl\",\"marker\":{\"colorbar\":{\"outlinewidth\":0,\"ticks\":\"\"}}}],\"bar\":[{\"error_x\":{\"color\":\"#2a3f5f\"},\"error_y\":{\"color\":\"#2a3f5f\"},\"marker\":{\"line\":{\"color\":\"#E5ECF6\",\"width\":0.5},\"pattern\":{\"fillmode\":\"overlay\",\"size\":10,\"solidity\":0.2}},\"type\":\"bar\"}],\"scattergeo\":[{\"type\":\"scattergeo\",\"marker\":{\"colorbar\":{\"outlinewidth\":0,\"ticks\":\"\"}}}],\"scatterpolar\":[{\"type\":\"scatterpolar\",\"marker\":{\"colorbar\":{\"outlinewidth\":0,\"ticks\":\"\"}}}],\"histogram\":[{\"marker\":{\"pattern\":{\"fillmode\":\"overlay\",\"size\":10,\"solidity\":0.2}},\"type\":\"histogram\"}],\"scattergl\":[{\"type\":\"scattergl\",\"marker\":{\"colorbar\":{\"outlinewidth\":0,\"ticks\":\"\"}}}],\"scatter3d\":[{\"type\":\"scatter3d\",\"line\":{\"colorbar\":{\"outlinewidth\":0,\"ticks\":\"\"}},\"marker\":{\"colorbar\":{\"outlinewidth\":0,\"ticks\":\"\"}}}],\"scattermapbox\":[{\"type\":\"scattermapbox\",\"marker\":{\"colorbar\":{\"outlinewidth\":0,\"ticks\":\"\"}}}],\"scatterternary\":[{\"type\":\"scatterternary\",\"marker\":{\"colorbar\":{\"outlinewidth\":0,\"ticks\":\"\"}}}],\"scattercarpet\":[{\"type\":\"scattercarpet\",\"marker\":{\"colorbar\":{\"outlinewidth\":0,\"ticks\":\"\"}}}],\"carpet\":[{\"aaxis\":{\"endlinecolor\":\"#2a3f5f\",\"gridcolor\":\"white\",\"linecolor\":\"white\",\"minorgridcolor\":\"white\",\"startlinecolor\":\"#2a3f5f\"},\"baxis\":{\"endlinecolor\":\"#2a3f5f\",\"gridcolor\":\"white\",\"linecolor\":\"white\",\"minorgridcolor\":\"white\",\"startlinecolor\":\"#2a3f5f\"},\"type\":\"carpet\"}],\"table\":[{\"cells\":{\"fill\":{\"color\":\"#EBF0F8\"},\"line\":{\"color\":\"white\"}},\"header\":{\"fill\":{\"color\":\"#C8D4E3\"},\"line\":{\"color\":\"white\"}},\"type\":\"table\"}],\"barpolar\":[{\"marker\":{\"line\":{\"color\":\"#E5ECF6\",\"width\":0.5},\"pattern\":{\"fillmode\":\"overlay\",\"size\":10,\"solidity\":0.2}},\"type\":\"barpolar\"}],\"pie\":[{\"automargin\":true,\"type\":\"pie\"}]},\"layout\":{\"autotypenumbers\":\"strict\",\"colorway\":[\"#636efa\",\"#EF553B\",\"#00cc96\",\"#ab63fa\",\"#FFA15A\",\"#19d3f3\",\"#FF6692\",\"#B6E880\",\"#FF97FF\",\"#FECB52\"],\"font\":{\"color\":\"#2a3f5f\"},\"hovermode\":\"closest\",\"hoverlabel\":{\"align\":\"left\"},\"paper_bgcolor\":\"white\",\"plot_bgcolor\":\"#E5ECF6\",\"polar\":{\"bgcolor\":\"#E5ECF6\",\"angularaxis\":{\"gridcolor\":\"white\",\"linecolor\":\"white\",\"ticks\":\"\"},\"radialaxis\":{\"gridcolor\":\"white\",\"linecolor\":\"white\",\"ticks\":\"\"}},\"ternary\":{\"bgcolor\":\"#E5ECF6\",\"aaxis\":{\"gridcolor\":\"white\",\"linecolor\":\"white\",\"ticks\":\"\"},\"baxis\":{\"gridcolor\":\"white\",\"linecolor\":\"white\",\"ticks\":\"\"},\"caxis\":{\"gridcolor\":\"white\",\"linecolor\":\"white\",\"ticks\":\"\"}},\"coloraxis\":{\"colorbar\":{\"outlinewidth\":0,\"ticks\":\"\"}},\"colorscale\":{\"sequential\":[[0.0,\"#0d0887\"],[0.1111111111111111,\"#46039f\"],[0.2222222222222222,\"#7201a8\"],[0.3333333333333333,\"#9c179e\"],[0.4444444444444444,\"#bd3786\"],[0.5555555555555556,\"#d8576b\"],[0.6666666666666666,\"#ed7953\"],[0.7777777777777778,\"#fb9f3a\"],[0.8888888888888888,\"#fdca26\"],[1.0,\"#f0f921\"]],\"sequentialminus\":[[0.0,\"#0d0887\"],[0.1111111111111111,\"#46039f\"],[0.2222222222222222,\"#7201a8\"],[0.3333333333333333,\"#9c179e\"],[0.4444444444444444,\"#bd3786\"],[0.5555555555555556,\"#d8576b\"],[0.6666666666666666,\"#ed7953\"],[0.7777777777777778,\"#fb9f3a\"],[0.8888888888888888,\"#fdca26\"],[1.0,\"#f0f921\"]],\"diverging\":[[0,\"#8e0152\"],[0.1,\"#c51b7d\"],[0.2,\"#de77ae\"],[0.3,\"#f1b6da\"],[0.4,\"#fde0ef\"],[0.5,\"#f7f7f7\"],[0.6,\"#e6f5d0\"],[0.7,\"#b8e186\"],[0.8,\"#7fbc41\"],[0.9,\"#4d9221\"],[1,\"#276419\"]]},\"xaxis\":{\"gridcolor\":\"white\",\"linecolor\":\"white\",\"ticks\":\"\",\"title\":{\"standoff\":15},\"zerolinecolor\":\"white\",\"automargin\":true,\"zerolinewidth\":2},\"yaxis\":{\"gridcolor\":\"white\",\"linecolor\":\"white\",\"ticks\":\"\",\"title\":{\"standoff\":15},\"zerolinecolor\":\"white\",\"automargin\":true,\"zerolinewidth\":2},\"scene\":{\"xaxis\":{\"backgroundcolor\":\"#E5ECF6\",\"gridcolor\":\"white\",\"linecolor\":\"white\",\"showbackground\":true,\"ticks\":\"\",\"zerolinecolor\":\"white\",\"gridwidth\":2},\"yaxis\":{\"backgroundcolor\":\"#E5ECF6\",\"gridcolor\":\"white\",\"linecolor\":\"white\",\"showbackground\":true,\"ticks\":\"\",\"zerolinecolor\":\"white\",\"gridwidth\":2},\"zaxis\":{\"backgroundcolor\":\"#E5ECF6\",\"gridcolor\":\"white\",\"linecolor\":\"white\",\"showbackground\":true,\"ticks\":\"\",\"zerolinecolor\":\"white\",\"gridwidth\":2}},\"shapedefaults\":{\"line\":{\"color\":\"#2a3f5f\"}},\"annotationdefaults\":{\"arrowcolor\":\"#2a3f5f\",\"arrowhead\":0,\"arrowwidth\":1},\"geo\":{\"bgcolor\":\"white\",\"landcolor\":\"#E5ECF6\",\"subunitcolor\":\"white\",\"showland\":true,\"showlakes\":true,\"lakecolor\":\"white\"},\"title\":{\"x\":0.05},\"mapbox\":{\"style\":\"light\"}}},\"xaxis\":{\"anchor\":\"y\",\"domain\":[0.0,1.0],\"title\":{\"text\":\"year_week\"}},\"yaxis\":{\"anchor\":\"x\",\"domain\":[0.0,1.0],\"title\":{\"text\":\"FAKTURA\"}},\"coloraxis\":{\"colorbar\":{\"title\":{\"text\":\"NAZWISKO\"}},\"colorscale\":[[0.0,\"rgb(232, 245, 171)\"],[0.09090909090909091,\"rgb(220, 219, 137)\"],[0.18181818181818182,\"rgb(209, 193, 107)\"],[0.2727272727272727,\"rgb(199, 168, 83)\"],[0.36363636363636365,\"rgb(186, 143, 66)\"],[0.45454545454545453,\"rgb(170, 121, 60)\"],[0.5454545454545454,\"rgb(151, 103, 58)\"],[0.6363636363636364,\"rgb(129, 87, 56)\"],[0.7272727272727273,\"rgb(104, 72, 53)\"],[0.8181818181818182,\"rgb(80, 59, 46)\"],[0.9090909090909091,\"rgb(57, 45, 37)\"],[1.0,\"rgb(34, 30, 27)\"]]},\"legend\":{\"tracegroupgap\":0},\"margin\":{\"t\":60},\"barmode\":\"relative\"},                        {\"responsive\": true}                    ).then(function(){\n",
       "                            \n",
       "var gd = document.getElementById('d4abb520-6e6f-49c5-8052-534998b51f22');\n",
       "var x = new MutationObserver(function (mutations, observer) {{\n",
       "        var display = window.getComputedStyle(gd).display;\n",
       "        if (!display || display === 'none') {{\n",
       "            console.log([gd, 'removed!']);\n",
       "            Plotly.purge(gd);\n",
       "            observer.disconnect();\n",
       "        }}\n",
       "}});\n",
       "\n",
       "// Listen for the removal of the full notebook cells\n",
       "var notebookContainer = gd.closest('#notebook-container');\n",
       "if (notebookContainer) {{\n",
       "    x.observe(notebookContainer, {childList: true});\n",
       "}}\n",
       "\n",
       "// Listen for the clearing of the current output cell\n",
       "var outputEl = gd.closest('.output');\n",
       "if (outputEl) {{\n",
       "    x.observe(outputEl, {childList: true});\n",
       "}}\n",
       "\n",
       "                        })                };                });            </script>        </div>"
      ]
     },
     "metadata": {},
     "output_type": "display_data"
    }
   ],
   "source": [
    "tmp=df_zamowienia.groupby(['czy_z_kuponow','year_week']).agg({'FAKTURA':'nunique',\n",
    "                                                          'NAZWISKO':'nunique'}).reset_index()\n",
    "px.bar(tmp.loc[tmp['czy_z_kuponow']=='tak'],\n",
    "      x='year_week',\n",
    "      y='FAKTURA',\n",
    "      color='NAZWISKO',\n",
    "      color_continuous_scale='turbid')"
   ]
  },
  {
   "cell_type": "code",
   "execution_count": 110,
   "id": "17cbcc7e-662c-4013-b201-c0193f65adbc",
   "metadata": {},
   "outputs": [
    {
     "data": {
      "application/vnd.plotly.v1+json": {
       "config": {
        "plotlyServerURL": "https://plot.ly"
       },
       "data": [
        {
         "alignmentgroup": "True",
         "hovertemplate": "year_week=%{x}<br>faktury_per_osoba=%{y}<br>NAZWISKO=%{marker.color}<extra></extra>",
         "legendgroup": "",
         "marker": {
          "color": [
           6,
           4,
           6,
           5,
           5,
           6,
           5,
           5,
           5,
           6,
           6,
           4,
           3,
           4,
           4,
           3,
           4,
           5,
           4,
           5,
           4,
           5,
           5,
           7,
           5,
           6,
           5,
           5,
           6,
           7,
           7,
           6,
           5,
           5,
           7,
           6,
           6,
           5,
           6,
           7,
           5,
           6,
           6,
           3,
           7,
           4,
           6,
           7,
           6,
           6,
           8,
           5,
           6,
           5,
           5,
           6,
           7,
           6,
           5,
           6,
           6,
           7,
           8,
           6,
           6,
           6,
           7,
           7,
           5,
           6,
           6,
           7,
           5,
           6,
           6,
           6,
           5,
           4,
           5,
           4,
           6,
           5,
           4,
           3,
           4,
           5,
           5,
           5,
           5,
           5,
           5,
           5,
           4,
           6,
           6,
           4,
           5,
           5,
           5,
           5,
           5,
           5,
           5,
           5,
           5,
           5,
           4,
           5,
           5,
           5,
           5,
           5,
           5,
           5,
           5,
           4,
           5,
           5,
           5,
           5,
           5,
           5,
           5,
           5,
           4,
           5,
           5,
           5,
           5,
           3,
           3,
           5,
           5,
           4,
           3
          ],
          "coloraxis": "coloraxis",
          "pattern": {
           "shape": ""
          }
         },
         "name": "",
         "offsetgroup": "",
         "orientation": "v",
         "showlegend": false,
         "textposition": "auto",
         "type": "bar",
         "x": [
          "2020--01",
          "2020--02",
          "2020--03",
          "2020--04",
          "2020--05",
          "2020--06",
          "2020--07",
          "2020--08",
          "2020--09",
          "2020--10",
          "2020--11",
          "2020--12",
          "2020--13",
          "2020--14",
          "2020--15",
          "2020--16",
          "2020--17",
          "2020--18",
          "2020--19",
          "2020--20",
          "2020--21",
          "2020--22",
          "2020--23",
          "2020--24",
          "2020--25",
          "2020--26",
          "2020--27",
          "2020--28",
          "2020--29",
          "2020--30",
          "2020--31",
          "2020--32",
          "2020--33",
          "2020--34",
          "2020--35",
          "2020--36",
          "2020--37",
          "2020--38",
          "2020--39",
          "2020--40",
          "2020--41",
          "2020--42",
          "2020--43",
          "2020--44",
          "2020--45",
          "2020--46",
          "2020--47",
          "2020--48",
          "2020--49",
          "2020--50",
          "2020--51",
          "2020--52",
          "2020--53",
          "2021--01",
          "2021--02",
          "2021--03",
          "2021--04",
          "2021--05",
          "2021--06",
          "2021--07",
          "2021--08",
          "2021--09",
          "2021--10",
          "2021--11",
          "2021--12",
          "2021--13",
          "2021--14",
          "2021--15",
          "2021--16",
          "2021--17",
          "2021--18",
          "2021--19",
          "2021--20",
          "2021--21",
          "2021--22",
          "2021--23",
          "2021--24",
          "2021--25",
          "2021--26",
          "2021--27",
          "2021--28",
          "2021--29",
          "2021--30",
          "2021--31",
          "2021--32",
          "2021--33",
          "2021--34",
          "2021--35",
          "2021--36",
          "2021--37",
          "2021--38",
          "2021--39",
          "2021--40",
          "2021--41",
          "2021--42",
          "2021--43",
          "2021--44",
          "2021--45",
          "2021--46",
          "2021--47",
          "2021--48",
          "2021--49",
          "2021--50",
          "2021--51",
          "2021--52",
          "2022--01",
          "2022--02",
          "2022--03",
          "2022--04",
          "2022--05",
          "2022--06",
          "2022--07",
          "2022--08",
          "2022--09",
          "2022--10",
          "2022--11",
          "2022--12",
          "2022--13",
          "2022--14",
          "2022--15",
          "2022--16",
          "2022--17",
          "2022--18",
          "2022--19",
          "2022--20",
          "2022--21",
          "2022--22",
          "2022--23",
          "2022--24",
          "2022--25",
          "2022--26",
          "2022--27",
          "2022--28",
          "2022--29",
          "2022--30"
         ],
         "xaxis": "x",
         "y": [
          12.666666666666666,
          56,
          47.166666666666664,
          66.2,
          64.4,
          50,
          71,
          79.8,
          76.8,
          67.33333333333333,
          72.5,
          73,
          87.33333333333333,
          52,
          31,
          44,
          58,
          46.4,
          80.75,
          71.4,
          89.25,
          73.6,
          76.8,
          46.285714285714285,
          90.8,
          80,
          85.8,
          89.2,
          57.5,
          52.714285714285715,
          59.857142857142854,
          67.83333333333333,
          82.2,
          81,
          62.42857142857143,
          58.333333333333336,
          80.83333333333333,
          98,
          92.83333333333333,
          68.14285714285714,
          90.8,
          72.83333333333333,
          79.66666666666667,
          145,
          66.71428571428571,
          86.75,
          74.5,
          85.57142857142857,
          105.33333333333333,
          104.5,
          69.625,
          28.6,
          25.833333333333332,
          48,
          61,
          60.166666666666664,
          58.42857142857143,
          69.83333333333333,
          74.4,
          67.83333333333333,
          78.5,
          88.42857142857143,
          67.875,
          97,
          106.16666666666667,
          48.5,
          44.42857142857143,
          62.42857142857143,
          102,
          75.66666666666667,
          54.833333333333336,
          59,
          90.4,
          83.16666666666667,
          46.5,
          73.33333333333333,
          81,
          85.75,
          76.8,
          101.5,
          73.5,
          89.6,
          92.25,
          132.66666666666666,
          93.5,
          83.6,
          86.2,
          78.4,
          73.4,
          82.4,
          75.4,
          79.8,
          109,
          78,
          80.16666666666667,
          118.75,
          71.2,
          78.6,
          108,
          113,
          121.8,
          127.4,
          105.6,
          40,
          31.8,
          28,
          87.5,
          72.6,
          69.6,
          73.8,
          74.8,
          78.8,
          76.6,
          76.8,
          91.4,
          121.5,
          113.8,
          113.6,
          113.4,
          58.8,
          64,
          85.2,
          45.6,
          76.6,
          99.75,
          75.8,
          73,
          83.6,
          50.6,
          120.33333333333333,
          120,
          76.2,
          83.4,
          96.5,
          46.333333333333336
         ],
         "yaxis": "y"
        }
       ],
       "layout": {
        "autosize": true,
        "barmode": "relative",
        "coloraxis": {
         "colorbar": {
          "title": {
           "text": "NAZWISKO"
          }
         },
         "colorscale": [
          [
           0,
           "rgb(232, 245, 171)"
          ],
          [
           0.09090909090909091,
           "rgb(220, 219, 137)"
          ],
          [
           0.18181818181818182,
           "rgb(209, 193, 107)"
          ],
          [
           0.2727272727272727,
           "rgb(199, 168, 83)"
          ],
          [
           0.36363636363636365,
           "rgb(186, 143, 66)"
          ],
          [
           0.45454545454545453,
           "rgb(170, 121, 60)"
          ],
          [
           0.5454545454545454,
           "rgb(151, 103, 58)"
          ],
          [
           0.6363636363636364,
           "rgb(129, 87, 56)"
          ],
          [
           0.7272727272727273,
           "rgb(104, 72, 53)"
          ],
          [
           0.8181818181818182,
           "rgb(80, 59, 46)"
          ],
          [
           0.9090909090909091,
           "rgb(57, 45, 37)"
          ],
          [
           1,
           "rgb(34, 30, 27)"
          ]
         ]
        },
        "legend": {
         "tracegroupgap": 0
        },
        "margin": {
         "t": 60
        },
        "template": {
         "data": {
          "bar": [
           {
            "error_x": {
             "color": "#2a3f5f"
            },
            "error_y": {
             "color": "#2a3f5f"
            },
            "marker": {
             "line": {
              "color": "#E5ECF6",
              "width": 0.5
             },
             "pattern": {
              "fillmode": "overlay",
              "size": 10,
              "solidity": 0.2
             }
            },
            "type": "bar"
           }
          ],
          "barpolar": [
           {
            "marker": {
             "line": {
              "color": "#E5ECF6",
              "width": 0.5
             },
             "pattern": {
              "fillmode": "overlay",
              "size": 10,
              "solidity": 0.2
             }
            },
            "type": "barpolar"
           }
          ],
          "carpet": [
           {
            "aaxis": {
             "endlinecolor": "#2a3f5f",
             "gridcolor": "white",
             "linecolor": "white",
             "minorgridcolor": "white",
             "startlinecolor": "#2a3f5f"
            },
            "baxis": {
             "endlinecolor": "#2a3f5f",
             "gridcolor": "white",
             "linecolor": "white",
             "minorgridcolor": "white",
             "startlinecolor": "#2a3f5f"
            },
            "type": "carpet"
           }
          ],
          "choropleth": [
           {
            "colorbar": {
             "outlinewidth": 0,
             "ticks": ""
            },
            "type": "choropleth"
           }
          ],
          "contour": [
           {
            "colorbar": {
             "outlinewidth": 0,
             "ticks": ""
            },
            "colorscale": [
             [
              0,
              "#0d0887"
             ],
             [
              0.1111111111111111,
              "#46039f"
             ],
             [
              0.2222222222222222,
              "#7201a8"
             ],
             [
              0.3333333333333333,
              "#9c179e"
             ],
             [
              0.4444444444444444,
              "#bd3786"
             ],
             [
              0.5555555555555556,
              "#d8576b"
             ],
             [
              0.6666666666666666,
              "#ed7953"
             ],
             [
              0.7777777777777778,
              "#fb9f3a"
             ],
             [
              0.8888888888888888,
              "#fdca26"
             ],
             [
              1,
              "#f0f921"
             ]
            ],
            "type": "contour"
           }
          ],
          "contourcarpet": [
           {
            "colorbar": {
             "outlinewidth": 0,
             "ticks": ""
            },
            "type": "contourcarpet"
           }
          ],
          "heatmap": [
           {
            "colorbar": {
             "outlinewidth": 0,
             "ticks": ""
            },
            "colorscale": [
             [
              0,
              "#0d0887"
             ],
             [
              0.1111111111111111,
              "#46039f"
             ],
             [
              0.2222222222222222,
              "#7201a8"
             ],
             [
              0.3333333333333333,
              "#9c179e"
             ],
             [
              0.4444444444444444,
              "#bd3786"
             ],
             [
              0.5555555555555556,
              "#d8576b"
             ],
             [
              0.6666666666666666,
              "#ed7953"
             ],
             [
              0.7777777777777778,
              "#fb9f3a"
             ],
             [
              0.8888888888888888,
              "#fdca26"
             ],
             [
              1,
              "#f0f921"
             ]
            ],
            "type": "heatmap"
           }
          ],
          "heatmapgl": [
           {
            "colorbar": {
             "outlinewidth": 0,
             "ticks": ""
            },
            "colorscale": [
             [
              0,
              "#0d0887"
             ],
             [
              0.1111111111111111,
              "#46039f"
             ],
             [
              0.2222222222222222,
              "#7201a8"
             ],
             [
              0.3333333333333333,
              "#9c179e"
             ],
             [
              0.4444444444444444,
              "#bd3786"
             ],
             [
              0.5555555555555556,
              "#d8576b"
             ],
             [
              0.6666666666666666,
              "#ed7953"
             ],
             [
              0.7777777777777778,
              "#fb9f3a"
             ],
             [
              0.8888888888888888,
              "#fdca26"
             ],
             [
              1,
              "#f0f921"
             ]
            ],
            "type": "heatmapgl"
           }
          ],
          "histogram": [
           {
            "marker": {
             "pattern": {
              "fillmode": "overlay",
              "size": 10,
              "solidity": 0.2
             }
            },
            "type": "histogram"
           }
          ],
          "histogram2d": [
           {
            "colorbar": {
             "outlinewidth": 0,
             "ticks": ""
            },
            "colorscale": [
             [
              0,
              "#0d0887"
             ],
             [
              0.1111111111111111,
              "#46039f"
             ],
             [
              0.2222222222222222,
              "#7201a8"
             ],
             [
              0.3333333333333333,
              "#9c179e"
             ],
             [
              0.4444444444444444,
              "#bd3786"
             ],
             [
              0.5555555555555556,
              "#d8576b"
             ],
             [
              0.6666666666666666,
              "#ed7953"
             ],
             [
              0.7777777777777778,
              "#fb9f3a"
             ],
             [
              0.8888888888888888,
              "#fdca26"
             ],
             [
              1,
              "#f0f921"
             ]
            ],
            "type": "histogram2d"
           }
          ],
          "histogram2dcontour": [
           {
            "colorbar": {
             "outlinewidth": 0,
             "ticks": ""
            },
            "colorscale": [
             [
              0,
              "#0d0887"
             ],
             [
              0.1111111111111111,
              "#46039f"
             ],
             [
              0.2222222222222222,
              "#7201a8"
             ],
             [
              0.3333333333333333,
              "#9c179e"
             ],
             [
              0.4444444444444444,
              "#bd3786"
             ],
             [
              0.5555555555555556,
              "#d8576b"
             ],
             [
              0.6666666666666666,
              "#ed7953"
             ],
             [
              0.7777777777777778,
              "#fb9f3a"
             ],
             [
              0.8888888888888888,
              "#fdca26"
             ],
             [
              1,
              "#f0f921"
             ]
            ],
            "type": "histogram2dcontour"
           }
          ],
          "mesh3d": [
           {
            "colorbar": {
             "outlinewidth": 0,
             "ticks": ""
            },
            "type": "mesh3d"
           }
          ],
          "parcoords": [
           {
            "line": {
             "colorbar": {
              "outlinewidth": 0,
              "ticks": ""
             }
            },
            "type": "parcoords"
           }
          ],
          "pie": [
           {
            "automargin": true,
            "type": "pie"
           }
          ],
          "scatter": [
           {
            "fillpattern": {
             "fillmode": "overlay",
             "size": 10,
             "solidity": 0.2
            },
            "type": "scatter"
           }
          ],
          "scatter3d": [
           {
            "line": {
             "colorbar": {
              "outlinewidth": 0,
              "ticks": ""
             }
            },
            "marker": {
             "colorbar": {
              "outlinewidth": 0,
              "ticks": ""
             }
            },
            "type": "scatter3d"
           }
          ],
          "scattercarpet": [
           {
            "marker": {
             "colorbar": {
              "outlinewidth": 0,
              "ticks": ""
             }
            },
            "type": "scattercarpet"
           }
          ],
          "scattergeo": [
           {
            "marker": {
             "colorbar": {
              "outlinewidth": 0,
              "ticks": ""
             }
            },
            "type": "scattergeo"
           }
          ],
          "scattergl": [
           {
            "marker": {
             "colorbar": {
              "outlinewidth": 0,
              "ticks": ""
             }
            },
            "type": "scattergl"
           }
          ],
          "scattermapbox": [
           {
            "marker": {
             "colorbar": {
              "outlinewidth": 0,
              "ticks": ""
             }
            },
            "type": "scattermapbox"
           }
          ],
          "scatterpolar": [
           {
            "marker": {
             "colorbar": {
              "outlinewidth": 0,
              "ticks": ""
             }
            },
            "type": "scatterpolar"
           }
          ],
          "scatterpolargl": [
           {
            "marker": {
             "colorbar": {
              "outlinewidth": 0,
              "ticks": ""
             }
            },
            "type": "scatterpolargl"
           }
          ],
          "scatterternary": [
           {
            "marker": {
             "colorbar": {
              "outlinewidth": 0,
              "ticks": ""
             }
            },
            "type": "scatterternary"
           }
          ],
          "surface": [
           {
            "colorbar": {
             "outlinewidth": 0,
             "ticks": ""
            },
            "colorscale": [
             [
              0,
              "#0d0887"
             ],
             [
              0.1111111111111111,
              "#46039f"
             ],
             [
              0.2222222222222222,
              "#7201a8"
             ],
             [
              0.3333333333333333,
              "#9c179e"
             ],
             [
              0.4444444444444444,
              "#bd3786"
             ],
             [
              0.5555555555555556,
              "#d8576b"
             ],
             [
              0.6666666666666666,
              "#ed7953"
             ],
             [
              0.7777777777777778,
              "#fb9f3a"
             ],
             [
              0.8888888888888888,
              "#fdca26"
             ],
             [
              1,
              "#f0f921"
             ]
            ],
            "type": "surface"
           }
          ],
          "table": [
           {
            "cells": {
             "fill": {
              "color": "#EBF0F8"
             },
             "line": {
              "color": "white"
             }
            },
            "header": {
             "fill": {
              "color": "#C8D4E3"
             },
             "line": {
              "color": "white"
             }
            },
            "type": "table"
           }
          ]
         },
         "layout": {
          "annotationdefaults": {
           "arrowcolor": "#2a3f5f",
           "arrowhead": 0,
           "arrowwidth": 1
          },
          "autotypenumbers": "strict",
          "coloraxis": {
           "colorbar": {
            "outlinewidth": 0,
            "ticks": ""
           }
          },
          "colorscale": {
           "diverging": [
            [
             0,
             "#8e0152"
            ],
            [
             0.1,
             "#c51b7d"
            ],
            [
             0.2,
             "#de77ae"
            ],
            [
             0.3,
             "#f1b6da"
            ],
            [
             0.4,
             "#fde0ef"
            ],
            [
             0.5,
             "#f7f7f7"
            ],
            [
             0.6,
             "#e6f5d0"
            ],
            [
             0.7,
             "#b8e186"
            ],
            [
             0.8,
             "#7fbc41"
            ],
            [
             0.9,
             "#4d9221"
            ],
            [
             1,
             "#276419"
            ]
           ],
           "sequential": [
            [
             0,
             "#0d0887"
            ],
            [
             0.1111111111111111,
             "#46039f"
            ],
            [
             0.2222222222222222,
             "#7201a8"
            ],
            [
             0.3333333333333333,
             "#9c179e"
            ],
            [
             0.4444444444444444,
             "#bd3786"
            ],
            [
             0.5555555555555556,
             "#d8576b"
            ],
            [
             0.6666666666666666,
             "#ed7953"
            ],
            [
             0.7777777777777778,
             "#fb9f3a"
            ],
            [
             0.8888888888888888,
             "#fdca26"
            ],
            [
             1,
             "#f0f921"
            ]
           ],
           "sequentialminus": [
            [
             0,
             "#0d0887"
            ],
            [
             0.1111111111111111,
             "#46039f"
            ],
            [
             0.2222222222222222,
             "#7201a8"
            ],
            [
             0.3333333333333333,
             "#9c179e"
            ],
            [
             0.4444444444444444,
             "#bd3786"
            ],
            [
             0.5555555555555556,
             "#d8576b"
            ],
            [
             0.6666666666666666,
             "#ed7953"
            ],
            [
             0.7777777777777778,
             "#fb9f3a"
            ],
            [
             0.8888888888888888,
             "#fdca26"
            ],
            [
             1,
             "#f0f921"
            ]
           ]
          },
          "colorway": [
           "#636efa",
           "#EF553B",
           "#00cc96",
           "#ab63fa",
           "#FFA15A",
           "#19d3f3",
           "#FF6692",
           "#B6E880",
           "#FF97FF",
           "#FECB52"
          ],
          "font": {
           "color": "#2a3f5f"
          },
          "geo": {
           "bgcolor": "white",
           "lakecolor": "white",
           "landcolor": "#E5ECF6",
           "showlakes": true,
           "showland": true,
           "subunitcolor": "white"
          },
          "hoverlabel": {
           "align": "left"
          },
          "hovermode": "closest",
          "mapbox": {
           "style": "light"
          },
          "paper_bgcolor": "white",
          "plot_bgcolor": "#E5ECF6",
          "polar": {
           "angularaxis": {
            "gridcolor": "white",
            "linecolor": "white",
            "ticks": ""
           },
           "bgcolor": "#E5ECF6",
           "radialaxis": {
            "gridcolor": "white",
            "linecolor": "white",
            "ticks": ""
           }
          },
          "scene": {
           "xaxis": {
            "backgroundcolor": "#E5ECF6",
            "gridcolor": "white",
            "gridwidth": 2,
            "linecolor": "white",
            "showbackground": true,
            "ticks": "",
            "zerolinecolor": "white"
           },
           "yaxis": {
            "backgroundcolor": "#E5ECF6",
            "gridcolor": "white",
            "gridwidth": 2,
            "linecolor": "white",
            "showbackground": true,
            "ticks": "",
            "zerolinecolor": "white"
           },
           "zaxis": {
            "backgroundcolor": "#E5ECF6",
            "gridcolor": "white",
            "gridwidth": 2,
            "linecolor": "white",
            "showbackground": true,
            "ticks": "",
            "zerolinecolor": "white"
           }
          },
          "shapedefaults": {
           "line": {
            "color": "#2a3f5f"
           }
          },
          "ternary": {
           "aaxis": {
            "gridcolor": "white",
            "linecolor": "white",
            "ticks": ""
           },
           "baxis": {
            "gridcolor": "white",
            "linecolor": "white",
            "ticks": ""
           },
           "bgcolor": "#E5ECF6",
           "caxis": {
            "gridcolor": "white",
            "linecolor": "white",
            "ticks": ""
           }
          },
          "title": {
           "x": 0.05
          },
          "xaxis": {
           "automargin": true,
           "gridcolor": "white",
           "linecolor": "white",
           "ticks": "",
           "title": {
            "standoff": 15
           },
           "zerolinecolor": "white",
           "zerolinewidth": 2
          },
          "yaxis": {
           "automargin": true,
           "gridcolor": "white",
           "linecolor": "white",
           "ticks": "",
           "title": {
            "standoff": 15
           },
           "zerolinecolor": "white",
           "zerolinewidth": 2
          }
         }
        },
        "xaxis": {
         "anchor": "y",
         "autorange": true,
         "domain": [
          0,
          1
         ],
         "range": [
          -0.5,
          134.5
         ],
         "title": {
          "text": "year_week"
         },
         "type": "category"
        },
        "yaxis": {
         "anchor": "x",
         "autorange": true,
         "domain": [
          0,
          1
         ],
         "range": [
          0,
          152.6315789473684
         ],
         "title": {
          "text": "faktury_per_osoba"
         },
         "type": "linear"
        }
       }
      },
      "image/png": "[encoded data removed]",
      "text/html": [
       "<div>                            <div id=\"ba751991-2f77-463b-bdff-fe6f7d413ae7\" class=\"plotly-graph-div\" style=\"height:525px; width:100%;\"></div>            <script type=\"text/javascript\">                require([\"plotly\"], function(Plotly) {                    window.PLOTLYENV=window.PLOTLYENV || {};                                    if (document.getElementById(\"ba751991-2f77-463b-bdff-fe6f7d413ae7\")) {                    Plotly.newPlot(                        \"ba751991-2f77-463b-bdff-fe6f7d413ae7\",                        [{\"alignmentgroup\":\"True\",\"hovertemplate\":\"year_week=%{x}<br>faktury_per_osoba=%{y}<br>NAZWISKO=%{marker.color}<extra></extra>\",\"legendgroup\":\"\",\"marker\":{\"color\":[6,4,6,5,5,6,5,5,5,6,6,4,3,4,4,3,4,5,4,5,4,5,5,7,5,6,5,5,6,7,7,6,5,5,7,6,6,5,6,7,5,6,6,3,7,4,6,7,6,6,8,5,6,5,5,6,7,6,5,6,6,7,8,6,6,6,7,7,5,6,6,7,5,6,6,6,5,4,5,4,6,5,4,3,4,5,5,5,5,5,5,5,4,6,6,4,5,5,5,5,5,5,5,5,5,5,4,5,5,5,5,5,5,5,5,4,5,5,5,5,5,5,5,5,4,5,5,5,5,3,3,5,5,4,3],\"coloraxis\":\"coloraxis\",\"pattern\":{\"shape\":\"\"}},\"name\":\"\",\"offsetgroup\":\"\",\"orientation\":\"v\",\"showlegend\":false,\"textposition\":\"auto\",\"x\":[\"2020--01\",\"2020--02\",\"2020--03\",\"2020--04\",\"2020--05\",\"2020--06\",\"2020--07\",\"2020--08\",\"2020--09\",\"2020--10\",\"2020--11\",\"2020--12\",\"2020--13\",\"2020--14\",\"2020--15\",\"2020--16\",\"2020--17\",\"2020--18\",\"2020--19\",\"2020--20\",\"2020--21\",\"2020--22\",\"2020--23\",\"2020--24\",\"2020--25\",\"2020--26\",\"2020--27\",\"2020--28\",\"2020--29\",\"2020--30\",\"2020--31\",\"2020--32\",\"2020--33\",\"2020--34\",\"2020--35\",\"2020--36\",\"2020--37\",\"2020--38\",\"2020--39\",\"2020--40\",\"2020--41\",\"2020--42\",\"2020--43\",\"2020--44\",\"2020--45\",\"2020--46\",\"2020--47\",\"2020--48\",\"2020--49\",\"2020--50\",\"2020--51\",\"2020--52\",\"2020--53\",\"2021--01\",\"2021--02\",\"2021--03\",\"2021--04\",\"2021--05\",\"2021--06\",\"2021--07\",\"2021--08\",\"2021--09\",\"2021--10\",\"2021--11\",\"2021--12\",\"2021--13\",\"2021--14\",\"2021--15\",\"2021--16\",\"2021--17\",\"2021--18\",\"2021--19\",\"2021--20\",\"2021--21\",\"2021--22\",\"2021--23\",\"2021--24\",\"2021--25\",\"2021--26\",\"2021--27\",\"2021--28\",\"2021--29\",\"2021--30\",\"2021--31\",\"2021--32\",\"2021--33\",\"2021--34\",\"2021--35\",\"2021--36\",\"2021--37\",\"2021--38\",\"2021--39\",\"2021--40\",\"2021--41\",\"2021--42\",\"2021--43\",\"2021--44\",\"2021--45\",\"2021--46\",\"2021--47\",\"2021--48\",\"2021--49\",\"2021--50\",\"2021--51\",\"2021--52\",\"2022--01\",\"2022--02\",\"2022--03\",\"2022--04\",\"2022--05\",\"2022--06\",\"2022--07\",\"2022--08\",\"2022--09\",\"2022--10\",\"2022--11\",\"2022--12\",\"2022--13\",\"2022--14\",\"2022--15\",\"2022--16\",\"2022--17\",\"2022--18\",\"2022--19\",\"2022--20\",\"2022--21\",\"2022--22\",\"2022--23\",\"2022--24\",\"2022--25\",\"2022--26\",\"2022--27\",\"2022--28\",\"2022--29\",\"2022--30\"],\"xaxis\":\"x\",\"y\":[12.666666666666666,56.0,47.166666666666664,66.2,64.4,50.0,71.0,79.8,76.8,67.33333333333333,72.5,73.0,87.33333333333333,52.0,31.0,44.0,58.0,46.4,80.75,71.4,89.25,73.6,76.8,46.285714285714285,90.8,80.0,85.8,89.2,57.5,52.714285714285715,59.857142857142854,67.83333333333333,82.2,81.0,62.42857142857143,58.333333333333336,80.83333333333333,98.0,92.83333333333333,68.14285714285714,90.8,72.83333333333333,79.66666666666667,145.0,66.71428571428571,86.75,74.5,85.57142857142857,105.33333333333333,104.5,69.625,28.6,25.833333333333332,48.0,61.0,60.166666666666664,58.42857142857143,69.83333333333333,74.4,67.83333333333333,78.5,88.42857142857143,67.875,97.0,106.16666666666667,48.5,44.42857142857143,62.42857142857143,102.0,75.66666666666667,54.833333333333336,59.0,90.4,83.16666666666667,46.5,73.33333333333333,81.0,85.75,76.8,101.5,73.5,89.6,92.25,132.66666666666666,93.5,83.6,86.2,78.4,73.4,82.4,75.4,79.8,109.0,78.0,80.16666666666667,118.75,71.2,78.6,108.0,113.0,121.8,127.4,105.6,40.0,31.8,28.0,87.5,72.6,69.6,73.8,74.8,78.8,76.6,76.8,91.4,121.5,113.8,113.6,113.4,58.8,64.0,85.2,45.6,76.6,99.75,75.8,73.0,83.6,50.6,120.33333333333333,120.0,76.2,83.4,96.5,46.333333333333336],\"yaxis\":\"y\",\"type\":\"bar\"}],                        {\"template\":{\"data\":{\"histogram2dcontour\":[{\"type\":\"histogram2dcontour\",\"colorbar\":{\"outlinewidth\":0,\"ticks\":\"\"},\"colorscale\":[[0.0,\"#0d0887\"],[0.1111111111111111,\"#46039f\"],[0.2222222222222222,\"#7201a8\"],[0.3333333333333333,\"#9c179e\"],[0.4444444444444444,\"#bd3786\"],[0.5555555555555556,\"#d8576b\"],[0.6666666666666666,\"#ed7953\"],[0.7777777777777778,\"#fb9f3a\"],[0.8888888888888888,\"#fdca26\"],[1.0,\"#f0f921\"]]}],\"choropleth\":[{\"type\":\"choropleth\",\"colorbar\":{\"outlinewidth\":0,\"ticks\":\"\"}}],\"histogram2d\":[{\"type\":\"histogram2d\",\"colorbar\":{\"outlinewidth\":0,\"ticks\":\"\"},\"colorscale\":[[0.0,\"#0d0887\"],[0.1111111111111111,\"#46039f\"],[0.2222222222222222,\"#7201a8\"],[0.3333333333333333,\"#9c179e\"],[0.4444444444444444,\"#bd3786\"],[0.5555555555555556,\"#d8576b\"],[0.6666666666666666,\"#ed7953\"],[0.7777777777777778,\"#fb9f3a\"],[0.8888888888888888,\"#fdca26\"],[1.0,\"#f0f921\"]]}],\"heatmap\":[{\"type\":\"heatmap\",\"colorbar\":{\"outlinewidth\":0,\"ticks\":\"\"},\"colorscale\":[[0.0,\"#0d0887\"],[0.1111111111111111,\"#46039f\"],[0.2222222222222222,\"#7201a8\"],[0.3333333333333333,\"#9c179e\"],[0.4444444444444444,\"#bd3786\"],[0.5555555555555556,\"#d8576b\"],[0.6666666666666666,\"#ed7953\"],[0.7777777777777778,\"#fb9f3a\"],[0.8888888888888888,\"#fdca26\"],[1.0,\"#f0f921\"]]}],\"heatmapgl\":[{\"type\":\"heatmapgl\",\"colorbar\":{\"outlinewidth\":0,\"ticks\":\"\"},\"colorscale\":[[0.0,\"#0d0887\"],[0.1111111111111111,\"#46039f\"],[0.2222222222222222,\"#7201a8\"],[0.3333333333333333,\"#9c179e\"],[0.4444444444444444,\"#bd3786\"],[0.5555555555555556,\"#d8576b\"],[0.6666666666666666,\"#ed7953\"],[0.7777777777777778,\"#fb9f3a\"],[0.8888888888888888,\"#fdca26\"],[1.0,\"#f0f921\"]]}],\"contourcarpet\":[{\"type\":\"contourcarpet\",\"colorbar\":{\"outlinewidth\":0,\"ticks\":\"\"}}],\"contour\":[{\"type\":\"contour\",\"colorbar\":{\"outlinewidth\":0,\"ticks\":\"\"},\"colorscale\":[[0.0,\"#0d0887\"],[0.1111111111111111,\"#46039f\"],[0.2222222222222222,\"#7201a8\"],[0.3333333333333333,\"#9c179e\"],[0.4444444444444444,\"#bd3786\"],[0.5555555555555556,\"#d8576b\"],[0.6666666666666666,\"#ed7953\"],[0.7777777777777778,\"#fb9f3a\"],[0.8888888888888888,\"#fdca26\"],[1.0,\"#f0f921\"]]}],\"surface\":[{\"type\":\"surface\",\"colorbar\":{\"outlinewidth\":0,\"ticks\":\"\"},\"colorscale\":[[0.0,\"#0d0887\"],[0.1111111111111111,\"#46039f\"],[0.2222222222222222,\"#7201a8\"],[0.3333333333333333,\"#9c179e\"],[0.4444444444444444,\"#bd3786\"],[0.5555555555555556,\"#d8576b\"],[0.6666666666666666,\"#ed7953\"],[0.7777777777777778,\"#fb9f3a\"],[0.8888888888888888,\"#fdca26\"],[1.0,\"#f0f921\"]]}],\"mesh3d\":[{\"type\":\"mesh3d\",\"colorbar\":{\"outlinewidth\":0,\"ticks\":\"\"}}],\"scatter\":[{\"fillpattern\":{\"fillmode\":\"overlay\",\"size\":10,\"solidity\":0.2},\"type\":\"scatter\"}],\"parcoords\":[{\"type\":\"parcoords\",\"line\":{\"colorbar\":{\"outlinewidth\":0,\"ticks\":\"\"}}}],\"scatterpolargl\":[{\"type\":\"scatterpolargl\",\"marker\":{\"colorbar\":{\"outlinewidth\":0,\"ticks\":\"\"}}}],\"bar\":[{\"error_x\":{\"color\":\"#2a3f5f\"},\"error_y\":{\"color\":\"#2a3f5f\"},\"marker\":{\"line\":{\"color\":\"#E5ECF6\",\"width\":0.5},\"pattern\":{\"fillmode\":\"overlay\",\"size\":10,\"solidity\":0.2}},\"type\":\"bar\"}],\"scattergeo\":[{\"type\":\"scattergeo\",\"marker\":{\"colorbar\":{\"outlinewidth\":0,\"ticks\":\"\"}}}],\"scatterpolar\":[{\"type\":\"scatterpolar\",\"marker\":{\"colorbar\":{\"outlinewidth\":0,\"ticks\":\"\"}}}],\"histogram\":[{\"marker\":{\"pattern\":{\"fillmode\":\"overlay\",\"size\":10,\"solidity\":0.2}},\"type\":\"histogram\"}],\"scattergl\":[{\"type\":\"scattergl\",\"marker\":{\"colorbar\":{\"outlinewidth\":0,\"ticks\":\"\"}}}],\"scatter3d\":[{\"type\":\"scatter3d\",\"line\":{\"colorbar\":{\"outlinewidth\":0,\"ticks\":\"\"}},\"marker\":{\"colorbar\":{\"outlinewidth\":0,\"ticks\":\"\"}}}],\"scattermapbox\":[{\"type\":\"scattermapbox\",\"marker\":{\"colorbar\":{\"outlinewidth\":0,\"ticks\":\"\"}}}],\"scatterternary\":[{\"type\":\"scatterternary\",\"marker\":{\"colorbar\":{\"outlinewidth\":0,\"ticks\":\"\"}}}],\"scattercarpet\":[{\"type\":\"scattercarpet\",\"marker\":{\"colorbar\":{\"outlinewidth\":0,\"ticks\":\"\"}}}],\"carpet\":[{\"aaxis\":{\"endlinecolor\":\"#2a3f5f\",\"gridcolor\":\"white\",\"linecolor\":\"white\",\"minorgridcolor\":\"white\",\"startlinecolor\":\"#2a3f5f\"},\"baxis\":{\"endlinecolor\":\"#2a3f5f\",\"gridcolor\":\"white\",\"linecolor\":\"white\",\"minorgridcolor\":\"white\",\"startlinecolor\":\"#2a3f5f\"},\"type\":\"carpet\"}],\"table\":[{\"cells\":{\"fill\":{\"color\":\"#EBF0F8\"},\"line\":{\"color\":\"white\"}},\"header\":{\"fill\":{\"color\":\"#C8D4E3\"},\"line\":{\"color\":\"white\"}},\"type\":\"table\"}],\"barpolar\":[{\"marker\":{\"line\":{\"color\":\"#E5ECF6\",\"width\":0.5},\"pattern\":{\"fillmode\":\"overlay\",\"size\":10,\"solidity\":0.2}},\"type\":\"barpolar\"}],\"pie\":[{\"automargin\":true,\"type\":\"pie\"}]},\"layout\":{\"autotypenumbers\":\"strict\",\"colorway\":[\"#636efa\",\"#EF553B\",\"#00cc96\",\"#ab63fa\",\"#FFA15A\",\"#19d3f3\",\"#FF6692\",\"#B6E880\",\"#FF97FF\",\"#FECB52\"],\"font\":{\"color\":\"#2a3f5f\"},\"hovermode\":\"closest\",\"hoverlabel\":{\"align\":\"left\"},\"paper_bgcolor\":\"white\",\"plot_bgcolor\":\"#E5ECF6\",\"polar\":{\"bgcolor\":\"#E5ECF6\",\"angularaxis\":{\"gridcolor\":\"white\",\"linecolor\":\"white\",\"ticks\":\"\"},\"radialaxis\":{\"gridcolor\":\"white\",\"linecolor\":\"white\",\"ticks\":\"\"}},\"ternary\":{\"bgcolor\":\"#E5ECF6\",\"aaxis\":{\"gridcolor\":\"white\",\"linecolor\":\"white\",\"ticks\":\"\"},\"baxis\":{\"gridcolor\":\"white\",\"linecolor\":\"white\",\"ticks\":\"\"},\"caxis\":{\"gridcolor\":\"white\",\"linecolor\":\"white\",\"ticks\":\"\"}},\"coloraxis\":{\"colorbar\":{\"outlinewidth\":0,\"ticks\":\"\"}},\"colorscale\":{\"sequential\":[[0.0,\"#0d0887\"],[0.1111111111111111,\"#46039f\"],[0.2222222222222222,\"#7201a8\"],[0.3333333333333333,\"#9c179e\"],[0.4444444444444444,\"#bd3786\"],[0.5555555555555556,\"#d8576b\"],[0.6666666666666666,\"#ed7953\"],[0.7777777777777778,\"#fb9f3a\"],[0.8888888888888888,\"#fdca26\"],[1.0,\"#f0f921\"]],\"sequentialminus\":[[0.0,\"#0d0887\"],[0.1111111111111111,\"#46039f\"],[0.2222222222222222,\"#7201a8\"],[0.3333333333333333,\"#9c179e\"],[0.4444444444444444,\"#bd3786\"],[0.5555555555555556,\"#d8576b\"],[0.6666666666666666,\"#ed7953\"],[0.7777777777777778,\"#fb9f3a\"],[0.8888888888888888,\"#fdca26\"],[1.0,\"#f0f921\"]],\"diverging\":[[0,\"#8e0152\"],[0.1,\"#c51b7d\"],[0.2,\"#de77ae\"],[0.3,\"#f1b6da\"],[0.4,\"#fde0ef\"],[0.5,\"#f7f7f7\"],[0.6,\"#e6f5d0\"],[0.7,\"#b8e186\"],[0.8,\"#7fbc41\"],[0.9,\"#4d9221\"],[1,\"#276419\"]]},\"xaxis\":{\"gridcolor\":\"white\",\"linecolor\":\"white\",\"ticks\":\"\",\"title\":{\"standoff\":15},\"zerolinecolor\":\"white\",\"automargin\":true,\"zerolinewidth\":2},\"yaxis\":{\"gridcolor\":\"white\",\"linecolor\":\"white\",\"ticks\":\"\",\"title\":{\"standoff\":15},\"zerolinecolor\":\"white\",\"automargin\":true,\"zerolinewidth\":2},\"scene\":{\"xaxis\":{\"backgroundcolor\":\"#E5ECF6\",\"gridcolor\":\"white\",\"linecolor\":\"white\",\"showbackground\":true,\"ticks\":\"\",\"zerolinecolor\":\"white\",\"gridwidth\":2},\"yaxis\":{\"backgroundcolor\":\"#E5ECF6\",\"gridcolor\":\"white\",\"linecolor\":\"white\",\"showbackground\":true,\"ticks\":\"\",\"zerolinecolor\":\"white\",\"gridwidth\":2},\"zaxis\":{\"backgroundcolor\":\"#E5ECF6\",\"gridcolor\":\"white\",\"linecolor\":\"white\",\"showbackground\":true,\"ticks\":\"\",\"zerolinecolor\":\"white\",\"gridwidth\":2}},\"shapedefaults\":{\"line\":{\"color\":\"#2a3f5f\"}},\"annotationdefaults\":{\"arrowcolor\":\"#2a3f5f\",\"arrowhead\":0,\"arrowwidth\":1},\"geo\":{\"bgcolor\":\"white\",\"landcolor\":\"#E5ECF6\",\"subunitcolor\":\"white\",\"showland\":true,\"showlakes\":true,\"lakecolor\":\"white\"},\"title\":{\"x\":0.05},\"mapbox\":{\"style\":\"light\"}}},\"xaxis\":{\"anchor\":\"y\",\"domain\":[0.0,1.0],\"title\":{\"text\":\"year_week\"}},\"yaxis\":{\"anchor\":\"x\",\"domain\":[0.0,1.0],\"title\":{\"text\":\"faktury_per_osoba\"}},\"coloraxis\":{\"colorbar\":{\"title\":{\"text\":\"NAZWISKO\"}},\"colorscale\":[[0.0,\"rgb(232, 245, 171)\"],[0.09090909090909091,\"rgb(220, 219, 137)\"],[0.18181818181818182,\"rgb(209, 193, 107)\"],[0.2727272727272727,\"rgb(199, 168, 83)\"],[0.36363636363636365,\"rgb(186, 143, 66)\"],[0.45454545454545453,\"rgb(170, 121, 60)\"],[0.5454545454545454,\"rgb(151, 103, 58)\"],[0.6363636363636364,\"rgb(129, 87, 56)\"],[0.7272727272727273,\"rgb(104, 72, 53)\"],[0.8181818181818182,\"rgb(80, 59, 46)\"],[0.9090909090909091,\"rgb(57, 45, 37)\"],[1.0,\"rgb(34, 30, 27)\"]]},\"legend\":{\"tracegroupgap\":0},\"margin\":{\"t\":60},\"barmode\":\"relative\"},                        {\"responsive\": true}                    ).then(function(){\n",
       "                            \n",
       "var gd = document.getElementById('ba751991-2f77-463b-bdff-fe6f7d413ae7');\n",
       "var x = new MutationObserver(function (mutations, observer) {{\n",
       "        var display = window.getComputedStyle(gd).display;\n",
       "        if (!display || display === 'none') {{\n",
       "            console.log([gd, 'removed!']);\n",
       "            Plotly.purge(gd);\n",
       "            observer.disconnect();\n",
       "        }}\n",
       "}});\n",
       "\n",
       "// Listen for the removal of the full notebook cells\n",
       "var notebookContainer = gd.closest('#notebook-container');\n",
       "if (notebookContainer) {{\n",
       "    x.observe(notebookContainer, {childList: true});\n",
       "}}\n",
       "\n",
       "// Listen for the clearing of the current output cell\n",
       "var outputEl = gd.closest('.output');\n",
       "if (outputEl) {{\n",
       "    x.observe(outputEl, {childList: true});\n",
       "}}\n",
       "\n",
       "                        })                };                });            </script>        </div>"
      ]
     },
     "metadata": {},
     "output_type": "display_data"
    }
   ],
   "source": [
    "tmp=df_zamowienia.groupby(['czy_z_kuponow','year_week']).agg({'FAKTURA':'nunique',\n",
    "                                                          'NAZWISKO':'nunique'}).reset_index()\n",
    "tmp['faktury_per_osoba']=tmp['FAKTURA']/tmp['NAZWISKO']\n",
    "px.bar(tmp.loc[tmp['czy_z_kuponow']=='tak'],\n",
    "      x='year_week',\n",
    "      y='faktury_per_osoba',\n",
    "      color='NAZWISKO',\n",
    "      color_continuous_scale='turbid')"
   ]
  },
  {
   "cell_type": "code",
   "execution_count": 177,
   "id": "e0a348fc-90eb-4112-b0aa-1c84b7d1b636",
   "metadata": {},
   "outputs": [
    {
     "data": {
      "application/vnd.plotly.v1+json": {
       "config": {
        "plotlyServerURL": "https://plot.ly"
       },
       "data": [
        {
         "alignmentgroup": "True",
         "hovertemplate": "year=2020<br>NAZWISKO=%{x}<br>FAKTURA=%{y}<extra></extra>",
         "legendgroup": "",
         "marker": {
          "color": "#636efa"
         },
         "name": "",
         "notched": false,
         "offsetgroup": "",
         "orientation": "v",
         "showlegend": false,
         "type": "box",
         "x": [
          5,
          5,
          4,
          4,
          4,
          4,
          6,
          4,
          4,
          4,
          4,
          4,
          4,
          5,
          5,
          4,
          5,
          5,
          4,
          4,
          5,
          4,
          5,
          6,
          5,
          5,
          5,
          4,
          4,
          5,
          5,
          5,
          4,
          5,
          5,
          5,
          5,
          5,
          5,
          5,
          4,
          4,
          5,
          5,
          5,
          5,
          5,
          5,
          5,
          6,
          5,
          4,
          4,
          3,
          3,
          3,
          3,
          3,
          3,
          3,
          3,
          3,
          3,
          3,
          3,
          3,
          2,
          2,
          3,
          1,
          3,
          3,
          2,
          3,
          3,
          3,
          2,
          2,
          2,
          4,
          4,
          3,
          3,
          4,
          4,
          3,
          4,
          3,
          4,
          3,
          5,
          3,
          5,
          4,
          4,
          4,
          4,
          4,
          4,
          4,
          4,
          3,
          4,
          4,
          4,
          5,
          3,
          4,
          5,
          5,
          5,
          4,
          3,
          4,
          5,
          5,
          5,
          5,
          5,
          6,
          5,
          5,
          4,
          4
         ],
         "x0": " ",
         "xaxis": "x",
         "y": [
          30,
          46,
          73,
          48,
          49,
          54,
          96,
          55,
          56,
          52,
          24,
          90,
          67,
          62,
          66,
          46,
          98,
          63,
          53,
          52,
          56,
          75,
          50,
          58,
          56,
          61,
          89,
          82,
          66,
          60,
          58,
          98,
          83,
          74,
          82,
          62,
          94,
          92,
          66,
          69,
          63,
          100,
          83,
          84,
          62,
          75,
          119,
          86,
          77,
          74,
          79,
          85,
          65,
          45,
          54,
          43,
          67,
          51,
          48,
          56,
          40,
          43,
          40,
          44,
          38,
          43,
          50,
          32,
          24,
          18,
          29,
          30,
          26,
          47,
          36,
          49,
          52,
          37,
          58,
          66,
          65,
          53,
          48,
          72,
          68,
          81,
          53,
          49,
          72,
          72,
          70,
          85,
          58,
          90,
          78,
          65,
          68,
          56,
          87,
          79,
          66,
          67,
          69,
          116,
          82,
          60,
          61,
          65,
          112,
          82,
          82,
          48,
          118,
          84,
          77,
          94,
          81,
          124,
          91,
          97,
          90,
          78,
          90,
          75
         ],
         "y0": " ",
         "yaxis": "y"
        },
        {
         "alignmentgroup": "True",
         "hovertemplate": "year=2021<br>NAZWISKO=%{x}<br>FAKTURA=%{y}<extra></extra>",
         "legendgroup": "",
         "marker": {
          "color": "#636efa"
         },
         "name": "",
         "notched": false,
         "offsetgroup": "",
         "orientation": "v",
         "showlegend": false,
         "type": "box",
         "x": [
          5,
          5,
          5,
          4,
          5,
          5,
          5,
          4,
          5,
          6,
          5,
          5,
          5,
          5,
          6,
          5,
          5,
          6,
          5,
          6,
          4,
          5,
          5,
          6,
          4,
          5,
          5,
          5,
          5,
          5,
          5,
          5,
          5,
          6,
          6,
          3,
          5,
          4,
          5,
          5,
          5,
          5,
          6,
          6,
          1,
          6,
          5,
          6,
          6,
          4,
          4,
          4,
          6,
          5,
          5,
          4,
          3,
          5,
          5,
          5,
          5,
          6,
          6,
          5,
          4,
          3,
          4,
          5,
          5,
          6,
          4,
          6,
          5,
          6,
          6,
          5,
          5,
          5,
          5,
          5,
          5,
          5,
          6,
          3,
          6,
          5,
          5,
          5,
          6,
          4,
          6,
          5,
          7,
          5,
          5,
          5,
          5,
          5,
          5,
          5,
          5,
          5,
          5,
          5,
          4,
          5,
          5,
          3,
          5,
          6,
          5,
          4,
          4,
          5,
          4,
          4,
          4,
          3,
          4,
          4,
          4,
          4,
          4,
          3,
          5,
          5
         ],
         "x0": " ",
         "xaxis": "x2",
         "y": [
          43,
          61,
          67,
          69,
          120,
          66,
          48,
          30,
          41,
          78,
          62,
          78,
          79,
          64,
          93,
          83,
          74,
          78,
          81,
          101,
          80,
          77,
          82,
          79,
          91,
          81,
          73,
          80,
          47,
          76,
          97,
          89,
          70,
          75,
          115,
          91,
          85,
          98,
          82,
          117,
          122,
          90,
          104,
          185,
          1,
          144,
          103,
          115,
          86,
          89,
          6,
          140,
          113,
          119,
          113,
          92,
          5,
          153,
          132,
          122,
          145,
          85,
          110,
          83,
          56,
          42,
          64,
          71,
          93,
          83,
          113,
          100,
          82,
          75,
          67,
          129,
          109,
          98,
          98,
          76,
          134,
          91,
          92,
          66,
          71,
          77,
          90,
          87,
          75,
          96,
          75,
          87,
          64,
          91,
          111,
          89,
          92,
          79,
          81,
          123,
          93,
          79,
          78,
          126,
          104,
          87,
          63,
          25,
          119,
          78,
          118,
          72,
          53,
          88,
          99,
          68,
          98,
          52,
          83,
          69,
          83,
          68,
          40,
          102,
          86,
          80
         ],
         "y0": " ",
         "yaxis": "y2"
        },
        {
         "alignmentgroup": "True",
         "hovertemplate": "year=2022<br>NAZWISKO=%{x}<br>FAKTURA=%{y}<extra></extra>",
         "legendgroup": "",
         "marker": {
          "color": "#636efa"
         },
         "name": "",
         "notched": false,
         "offsetgroup": "",
         "orientation": "v",
         "showlegend": false,
         "type": "box",
         "x": [
          5,
          4,
          5,
          4,
          4,
          4,
          4,
          3,
          4,
          4,
          5,
          5,
          5,
          5,
          5,
          5,
          5,
          5,
          5,
          5,
          5,
          5,
          4,
          4,
          4,
          4,
          3,
          3,
          4,
          4,
          4,
          5,
          4,
          5,
          5,
          5,
          5,
          4,
          5,
          5,
          5,
          4,
          5,
          5,
          5,
          5,
          5,
          3,
          4,
          4,
          4,
          4,
          4,
          5,
          5,
          5,
          5,
          4,
          5,
          5,
          4,
          5,
          4,
          5,
          5,
          5,
          5,
          4,
          5,
          5,
          4,
          4,
          3,
          5,
          5,
          4,
          5,
          5,
          5,
          5,
          2,
          2,
          5,
          5,
          5,
          5,
          4,
          4,
          4,
          4,
          4,
          4,
          4,
          4,
          4,
          5,
          4,
          5,
          5,
          5,
          4,
          4,
          3,
          4,
          3,
          5,
          4,
          5,
          4,
          5,
          4,
          5,
          5,
          2,
          3,
          3,
          3,
          3,
          3,
          3,
          3,
          3,
          3
         ],
         "x0": " ",
         "xaxis": "x3",
         "y": [
          48,
          39,
          53,
          97,
          85,
          60,
          45,
          63,
          79,
          84,
          65,
          75,
          60,
          87,
          61,
          80,
          60,
          60,
          104,
          65,
          70,
          82,
          48,
          85,
          90,
          72,
          59,
          68,
          106,
          75,
          79,
          73,
          61,
          101,
          79,
          91,
          57,
          55,
          86,
          89,
          66,
          80,
          63,
          99,
          122,
          80,
          83,
          73,
          111,
          89,
          99,
          107,
          80,
          140,
          123,
          105,
          94,
          107,
          167,
          113,
          97,
          80,
          111,
          151,
          130,
          97,
          100,
          89,
          116,
          74,
          55,
          49,
          81,
          74,
          73,
          92,
          109,
          75,
          96,
          80,
          66,
          38,
          95,
          59,
          36,
          72,
          99,
          80,
          60,
          72,
          102,
          84,
          71,
          76,
          66,
          107,
          84,
          65,
          69,
          54,
          101,
          84,
          74,
          60,
          46,
          104,
          78,
          60,
          82,
          94,
          85,
          88,
          57,
          23,
          102,
          71,
          74,
          59,
          55,
          79,
          90,
          60,
          72
         ],
         "y0": " ",
         "yaxis": "y3"
        }
       ],
       "layout": {
        "annotations": [
         {
          "font": {},
          "showarrow": false,
          "text": "year=2020",
          "x": 0.15999999999999998,
          "xanchor": "center",
          "xref": "paper",
          "y": 1,
          "yanchor": "bottom",
          "yref": "paper"
         },
         {
          "font": {},
          "showarrow": false,
          "text": "year=2021",
          "x": 0.49999999999999994,
          "xanchor": "center",
          "xref": "paper",
          "y": 1,
          "yanchor": "bottom",
          "yref": "paper"
         },
         {
          "font": {},
          "showarrow": false,
          "text": "year=2022",
          "x": 0.8399999999999999,
          "xanchor": "center",
          "xref": "paper",
          "y": 1,
          "yanchor": "bottom",
          "yref": "paper"
         }
        ],
        "autosize": true,
        "boxmode": "group",
        "legend": {
         "tracegroupgap": 0
        },
        "margin": {
         "t": 60
        },
        "template": {
         "data": {
          "bar": [
           {
            "error_x": {
             "color": "#2a3f5f"
            },
            "error_y": {
             "color": "#2a3f5f"
            },
            "marker": {
             "line": {
              "color": "#E5ECF6",
              "width": 0.5
             },
             "pattern": {
              "fillmode": "overlay",
              "size": 10,
              "solidity": 0.2
             }
            },
            "type": "bar"
           }
          ],
          "barpolar": [
           {
            "marker": {
             "line": {
              "color": "#E5ECF6",
              "width": 0.5
             },
             "pattern": {
              "fillmode": "overlay",
              "size": 10,
              "solidity": 0.2
             }
            },
            "type": "barpolar"
           }
          ],
          "carpet": [
           {
            "aaxis": {
             "endlinecolor": "#2a3f5f",
             "gridcolor": "white",
             "linecolor": "white",
             "minorgridcolor": "white",
             "startlinecolor": "#2a3f5f"
            },
            "baxis": {
             "endlinecolor": "#2a3f5f",
             "gridcolor": "white",
             "linecolor": "white",
             "minorgridcolor": "white",
             "startlinecolor": "#2a3f5f"
            },
            "type": "carpet"
           }
          ],
          "choropleth": [
           {
            "colorbar": {
             "outlinewidth": 0,
             "ticks": ""
            },
            "type": "choropleth"
           }
          ],
          "contour": [
           {
            "colorbar": {
             "outlinewidth": 0,
             "ticks": ""
            },
            "colorscale": [
             [
              0,
              "#0d0887"
             ],
             [
              0.1111111111111111,
              "#46039f"
             ],
             [
              0.2222222222222222,
              "#7201a8"
             ],
             [
              0.3333333333333333,
              "#9c179e"
             ],
             [
              0.4444444444444444,
              "#bd3786"
             ],
             [
              0.5555555555555556,
              "#d8576b"
             ],
             [
              0.6666666666666666,
              "#ed7953"
             ],
             [
              0.7777777777777778,
              "#fb9f3a"
             ],
             [
              0.8888888888888888,
              "#fdca26"
             ],
             [
              1,
              "#f0f921"
             ]
            ],
            "type": "contour"
           }
          ],
          "contourcarpet": [
           {
            "colorbar": {
             "outlinewidth": 0,
             "ticks": ""
            },
            "type": "contourcarpet"
           }
          ],
          "heatmap": [
           {
            "colorbar": {
             "outlinewidth": 0,
             "ticks": ""
            },
            "colorscale": [
             [
              0,
              "#0d0887"
             ],
             [
              0.1111111111111111,
              "#46039f"
             ],
             [
              0.2222222222222222,
              "#7201a8"
             ],
             [
              0.3333333333333333,
              "#9c179e"
             ],
             [
              0.4444444444444444,
              "#bd3786"
             ],
             [
              0.5555555555555556,
              "#d8576b"
             ],
             [
              0.6666666666666666,
              "#ed7953"
             ],
             [
              0.7777777777777778,
              "#fb9f3a"
             ],
             [
              0.8888888888888888,
              "#fdca26"
             ],
             [
              1,
              "#f0f921"
             ]
            ],
            "type": "heatmap"
           }
          ],
          "heatmapgl": [
           {
            "colorbar": {
             "outlinewidth": 0,
             "ticks": ""
            },
            "colorscale": [
             [
              0,
              "#0d0887"
             ],
             [
              0.1111111111111111,
              "#46039f"
             ],
             [
              0.2222222222222222,
              "#7201a8"
             ],
             [
              0.3333333333333333,
              "#9c179e"
             ],
             [
              0.4444444444444444,
              "#bd3786"
             ],
             [
              0.5555555555555556,
              "#d8576b"
             ],
             [
              0.6666666666666666,
              "#ed7953"
             ],
             [
              0.7777777777777778,
              "#fb9f3a"
             ],
             [
              0.8888888888888888,
              "#fdca26"
             ],
             [
              1,
              "#f0f921"
             ]
            ],
            "type": "heatmapgl"
           }
          ],
          "histogram": [
           {
            "marker": {
             "pattern": {
              "fillmode": "overlay",
              "size": 10,
              "solidity": 0.2
             }
            },
            "type": "histogram"
           }
          ],
          "histogram2d": [
           {
            "colorbar": {
             "outlinewidth": 0,
             "ticks": ""
            },
            "colorscale": [
             [
              0,
              "#0d0887"
             ],
             [
              0.1111111111111111,
              "#46039f"
             ],
             [
              0.2222222222222222,
              "#7201a8"
             ],
             [
              0.3333333333333333,
              "#9c179e"
             ],
             [
              0.4444444444444444,
              "#bd3786"
             ],
             [
              0.5555555555555556,
              "#d8576b"
             ],
             [
              0.6666666666666666,
              "#ed7953"
             ],
             [
              0.7777777777777778,
              "#fb9f3a"
             ],
             [
              0.8888888888888888,
              "#fdca26"
             ],
             [
              1,
              "#f0f921"
             ]
            ],
            "type": "histogram2d"
           }
          ],
          "histogram2dcontour": [
           {
            "colorbar": {
             "outlinewidth": 0,
             "ticks": ""
            },
            "colorscale": [
             [
              0,
              "#0d0887"
             ],
             [
              0.1111111111111111,
              "#46039f"
             ],
             [
              0.2222222222222222,
              "#7201a8"
             ],
             [
              0.3333333333333333,
              "#9c179e"
             ],
             [
              0.4444444444444444,
              "#bd3786"
             ],
             [
              0.5555555555555556,
              "#d8576b"
             ],
             [
              0.6666666666666666,
              "#ed7953"
             ],
             [
              0.7777777777777778,
              "#fb9f3a"
             ],
             [
              0.8888888888888888,
              "#fdca26"
             ],
             [
              1,
              "#f0f921"
             ]
            ],
            "type": "histogram2dcontour"
           }
          ],
          "mesh3d": [
           {
            "colorbar": {
             "outlinewidth": 0,
             "ticks": ""
            },
            "type": "mesh3d"
           }
          ],
          "parcoords": [
           {
            "line": {
             "colorbar": {
              "outlinewidth": 0,
              "ticks": ""
             }
            },
            "type": "parcoords"
           }
          ],
          "pie": [
           {
            "automargin": true,
            "type": "pie"
           }
          ],
          "scatter": [
           {
            "fillpattern": {
             "fillmode": "overlay",
             "size": 10,
             "solidity": 0.2
            },
            "type": "scatter"
           }
          ],
          "scatter3d": [
           {
            "line": {
             "colorbar": {
              "outlinewidth": 0,
              "ticks": ""
             }
            },
            "marker": {
             "colorbar": {
              "outlinewidth": 0,
              "ticks": ""
             }
            },
            "type": "scatter3d"
           }
          ],
          "scattercarpet": [
           {
            "marker": {
             "colorbar": {
              "outlinewidth": 0,
              "ticks": ""
             }
            },
            "type": "scattercarpet"
           }
          ],
          "scattergeo": [
           {
            "marker": {
             "colorbar": {
              "outlinewidth": 0,
              "ticks": ""
             }
            },
            "type": "scattergeo"
           }
          ],
          "scattergl": [
           {
            "marker": {
             "colorbar": {
              "outlinewidth": 0,
              "ticks": ""
             }
            },
            "type": "scattergl"
           }
          ],
          "scattermapbox": [
           {
            "marker": {
             "colorbar": {
              "outlinewidth": 0,
              "ticks": ""
             }
            },
            "type": "scattermapbox"
           }
          ],
          "scatterpolar": [
           {
            "marker": {
             "colorbar": {
              "outlinewidth": 0,
              "ticks": ""
             }
            },
            "type": "scatterpolar"
           }
          ],
          "scatterpolargl": [
           {
            "marker": {
             "colorbar": {
              "outlinewidth": 0,
              "ticks": ""
             }
            },
            "type": "scatterpolargl"
           }
          ],
          "scatterternary": [
           {
            "marker": {
             "colorbar": {
              "outlinewidth": 0,
              "ticks": ""
             }
            },
            "type": "scatterternary"
           }
          ],
          "surface": [
           {
            "colorbar": {
             "outlinewidth": 0,
             "ticks": ""
            },
            "colorscale": [
             [
              0,
              "#0d0887"
             ],
             [
              0.1111111111111111,
              "#46039f"
             ],
             [
              0.2222222222222222,
              "#7201a8"
             ],
             [
              0.3333333333333333,
              "#9c179e"
             ],
             [
              0.4444444444444444,
              "#bd3786"
             ],
             [
              0.5555555555555556,
              "#d8576b"
             ],
             [
              0.6666666666666666,
              "#ed7953"
             ],
             [
              0.7777777777777778,
              "#fb9f3a"
             ],
             [
              0.8888888888888888,
              "#fdca26"
             ],
             [
              1,
              "#f0f921"
             ]
            ],
            "type": "surface"
           }
          ],
          "table": [
           {
            "cells": {
             "fill": {
              "color": "#EBF0F8"
             },
             "line": {
              "color": "white"
             }
            },
            "header": {
             "fill": {
              "color": "#C8D4E3"
             },
             "line": {
              "color": "white"
             }
            },
            "type": "table"
           }
          ]
         },
         "layout": {
          "annotationdefaults": {
           "arrowcolor": "#2a3f5f",
           "arrowhead": 0,
           "arrowwidth": 1
          },
          "autotypenumbers": "strict",
          "coloraxis": {
           "colorbar": {
            "outlinewidth": 0,
            "ticks": ""
           }
          },
          "colorscale": {
           "diverging": [
            [
             0,
             "#8e0152"
            ],
            [
             0.1,
             "#c51b7d"
            ],
            [
             0.2,
             "#de77ae"
            ],
            [
             0.3,
             "#f1b6da"
            ],
            [
             0.4,
             "#fde0ef"
            ],
            [
             0.5,
             "#f7f7f7"
            ],
            [
             0.6,
             "#e6f5d0"
            ],
            [
             0.7,
             "#b8e186"
            ],
            [
             0.8,
             "#7fbc41"
            ],
            [
             0.9,
             "#4d9221"
            ],
            [
             1,
             "#276419"
            ]
           ],
           "sequential": [
            [
             0,
             "#0d0887"
            ],
            [
             0.1111111111111111,
             "#46039f"
            ],
            [
             0.2222222222222222,
             "#7201a8"
            ],
            [
             0.3333333333333333,
             "#9c179e"
            ],
            [
             0.4444444444444444,
             "#bd3786"
            ],
            [
             0.5555555555555556,
             "#d8576b"
            ],
            [
             0.6666666666666666,
             "#ed7953"
            ],
            [
             0.7777777777777778,
             "#fb9f3a"
            ],
            [
             0.8888888888888888,
             "#fdca26"
            ],
            [
             1,
             "#f0f921"
            ]
           ],
           "sequentialminus": [
            [
             0,
             "#0d0887"
            ],
            [
             0.1111111111111111,
             "#46039f"
            ],
            [
             0.2222222222222222,
             "#7201a8"
            ],
            [
             0.3333333333333333,
             "#9c179e"
            ],
            [
             0.4444444444444444,
             "#bd3786"
            ],
            [
             0.5555555555555556,
             "#d8576b"
            ],
            [
             0.6666666666666666,
             "#ed7953"
            ],
            [
             0.7777777777777778,
             "#fb9f3a"
            ],
            [
             0.8888888888888888,
             "#fdca26"
            ],
            [
             1,
             "#f0f921"
            ]
           ]
          },
          "colorway": [
           "#636efa",
           "#EF553B",
           "#00cc96",
           "#ab63fa",
           "#FFA15A",
           "#19d3f3",
           "#FF6692",
           "#B6E880",
           "#FF97FF",
           "#FECB52"
          ],
          "font": {
           "color": "#2a3f5f"
          },
          "geo": {
           "bgcolor": "white",
           "lakecolor": "white",
           "landcolor": "#E5ECF6",
           "showlakes": true,
           "showland": true,
           "subunitcolor": "white"
          },
          "hoverlabel": {
           "align": "left"
          },
          "hovermode": "closest",
          "mapbox": {
           "style": "light"
          },
          "paper_bgcolor": "white",
          "plot_bgcolor": "#E5ECF6",
          "polar": {
           "angularaxis": {
            "gridcolor": "white",
            "linecolor": "white",
            "ticks": ""
           },
           "bgcolor": "#E5ECF6",
           "radialaxis": {
            "gridcolor": "white",
            "linecolor": "white",
            "ticks": ""
           }
          },
          "scene": {
           "xaxis": {
            "backgroundcolor": "#E5ECF6",
            "gridcolor": "white",
            "gridwidth": 2,
            "linecolor": "white",
            "showbackground": true,
            "ticks": "",
            "zerolinecolor": "white"
           },
           "yaxis": {
            "backgroundcolor": "#E5ECF6",
            "gridcolor": "white",
            "gridwidth": 2,
            "linecolor": "white",
            "showbackground": true,
            "ticks": "",
            "zerolinecolor": "white"
           },
           "zaxis": {
            "backgroundcolor": "#E5ECF6",
            "gridcolor": "white",
            "gridwidth": 2,
            "linecolor": "white",
            "showbackground": true,
            "ticks": "",
            "zerolinecolor": "white"
           }
          },
          "shapedefaults": {
           "line": {
            "color": "#2a3f5f"
           }
          },
          "ternary": {
           "aaxis": {
            "gridcolor": "white",
            "linecolor": "white",
            "ticks": ""
           },
           "baxis": {
            "gridcolor": "white",
            "linecolor": "white",
            "ticks": ""
           },
           "bgcolor": "#E5ECF6",
           "caxis": {
            "gridcolor": "white",
            "linecolor": "white",
            "ticks": ""
           }
          },
          "title": {
           "x": 0.05
          },
          "xaxis": {
           "automargin": true,
           "gridcolor": "white",
           "linecolor": "white",
           "ticks": "",
           "title": {
            "standoff": 15
           },
           "zerolinecolor": "white",
           "zerolinewidth": 2
          },
          "yaxis": {
           "automargin": true,
           "gridcolor": "white",
           "linecolor": "white",
           "ticks": "",
           "title": {
            "standoff": 15
           },
           "zerolinecolor": "white",
           "zerolinewidth": 2
          }
         }
        },
        "xaxis": {
         "anchor": "y",
         "autorange": true,
         "domain": [
          0,
          0.31999999999999995
         ],
         "range": [
          0.44958225295303944,
          7.5
         ],
         "title": {
          "text": "NAZWISKO"
         },
         "type": "linear"
        },
        "xaxis2": {
         "anchor": "y2",
         "autorange": true,
         "domain": [
          0.33999999999999997,
          0.6599999999999999
         ],
         "matches": "x",
         "range": [
          0.44958225295303944,
          7.5
         ],
         "title": {
          "text": "NAZWISKO"
         },
         "type": "linear"
        },
        "xaxis3": {
         "anchor": "y3",
         "autorange": true,
         "domain": [
          0.6799999999999999,
          0.9999999999999999
         ],
         "matches": "x",
         "range": [
          0.44958225295303944,
          7.5
         ],
         "title": {
          "text": "NAZWISKO"
         },
         "type": "linear"
        },
        "yaxis": {
         "anchor": "x",
         "autorange": true,
         "domain": [
          0,
          1
         ],
         "range": [
          -9.222222222222221,
          195.22222222222223
         ],
         "title": {
          "text": "FAKTURA"
         },
         "type": "linear"
        },
        "yaxis2": {
         "anchor": "x2",
         "autorange": true,
         "domain": [
          0,
          1
         ],
         "matches": "y",
         "range": [
          -9.222222222222221,
          195.22222222222223
         ],
         "showticklabels": false,
         "type": "linear"
        },
        "yaxis3": {
         "anchor": "x3",
         "autorange": true,
         "domain": [
          0,
          1
         ],
         "matches": "y",
         "range": [
          -9.222222222222221,
          195.22222222222223
         ],
         "showticklabels": false,
         "type": "linear"
        }
       }
      },
      "image/png": "[encoded data removed]",
      "text/html": [
       "<div>                            <div id=\"7b847714-20aa-47c8-8379-e74213a60c4b\" class=\"plotly-graph-div\" style=\"height:525px; width:100%;\"></div>            <script type=\"text/javascript\">                require([\"plotly\"], function(Plotly) {                    window.PLOTLYENV=window.PLOTLYENV || {};                                    if (document.getElementById(\"7b847714-20aa-47c8-8379-e74213a60c4b\")) {                    Plotly.newPlot(                        \"7b847714-20aa-47c8-8379-e74213a60c4b\",                        [{\"alignmentgroup\":\"True\",\"hovertemplate\":\"year=2020<br>NAZWISKO=%{x}<br>FAKTURA=%{y}<extra></extra>\",\"legendgroup\":\"\",\"marker\":{\"color\":\"#636efa\"},\"name\":\"\",\"notched\":false,\"offsetgroup\":\"\",\"orientation\":\"v\",\"showlegend\":false,\"x\":[5,5,4,4,4,4,6,4,4,4,4,4,4,5,5,4,5,5,4,4,5,4,5,6,5,5,5,4,4,5,5,5,4,5,5,5,5,5,5,5,4,4,5,5,5,5,5,5,5,6,5,4,4,3,3,3,3,3,3,3,3,3,3,3,3,3,2,2,3,1,3,3,2,3,3,3,2,2,2,4,4,3,3,4,4,3,4,3,4,3,5,3,5,4,4,4,4,4,4,4,4,3,4,4,4,5,3,4,5,5,5,4,3,4,5,5,5,5,5,6,5,5,4,4],\"x0\":\" \",\"xaxis\":\"x\",\"y\":[30,46,73,48,49,54,96,55,56,52,24,90,67,62,66,46,98,63,53,52,56,75,50,58,56,61,89,82,66,60,58,98,83,74,82,62,94,92,66,69,63,100,83,84,62,75,119,86,77,74,79,85,65,45,54,43,67,51,48,56,40,43,40,44,38,43,50,32,24,18,29,30,26,47,36,49,52,37,58,66,65,53,48,72,68,81,53,49,72,72,70,85,58,90,78,65,68,56,87,79,66,67,69,116,82,60,61,65,112,82,82,48,118,84,77,94,81,124,91,97,90,78,90,75],\"y0\":\" \",\"yaxis\":\"y\",\"type\":\"box\"},{\"alignmentgroup\":\"True\",\"hovertemplate\":\"year=2021<br>NAZWISKO=%{x}<br>FAKTURA=%{y}<extra></extra>\",\"legendgroup\":\"\",\"marker\":{\"color\":\"#636efa\"},\"name\":\"\",\"notched\":false,\"offsetgroup\":\"\",\"orientation\":\"v\",\"showlegend\":false,\"x\":[5,5,5,4,5,5,5,4,5,6,5,5,5,5,6,5,5,6,5,6,4,5,5,6,4,5,5,5,5,5,5,5,5,6,6,3,5,4,5,5,5,5,6,6,1,6,5,6,6,4,4,4,6,5,5,4,3,5,5,5,5,6,6,5,4,3,4,5,5,6,4,6,5,6,6,5,5,5,5,5,5,5,6,3,6,5,5,5,6,4,6,5,7,5,5,5,5,5,5,5,5,5,5,5,4,5,5,3,5,6,5,4,4,5,4,4,4,3,4,4,4,4,4,3,5,5],\"x0\":\" \",\"xaxis\":\"x2\",\"y\":[43,61,67,69,120,66,48,30,41,78,62,78,79,64,93,83,74,78,81,101,80,77,82,79,91,81,73,80,47,76,97,89,70,75,115,91,85,98,82,117,122,90,104,185,1,144,103,115,86,89,6,140,113,119,113,92,5,153,132,122,145,85,110,83,56,42,64,71,93,83,113,100,82,75,67,129,109,98,98,76,134,91,92,66,71,77,90,87,75,96,75,87,64,91,111,89,92,79,81,123,93,79,78,126,104,87,63,25,119,78,118,72,53,88,99,68,98,52,83,69,83,68,40,102,86,80],\"y0\":\" \",\"yaxis\":\"y2\",\"type\":\"box\"},{\"alignmentgroup\":\"True\",\"hovertemplate\":\"year=2022<br>NAZWISKO=%{x}<br>FAKTURA=%{y}<extra></extra>\",\"legendgroup\":\"\",\"marker\":{\"color\":\"#636efa\"},\"name\":\"\",\"notched\":false,\"offsetgroup\":\"\",\"orientation\":\"v\",\"showlegend\":false,\"x\":[5,4,5,4,4,4,4,3,4,4,5,5,5,5,5,5,5,5,5,5,5,5,4,4,4,4,3,3,4,4,4,5,4,5,5,5,5,4,5,5,5,4,5,5,5,5,5,3,4,4,4,4,4,5,5,5,5,4,5,5,4,5,4,5,5,5,5,4,5,5,4,4,3,5,5,4,5,5,5,5,2,2,5,5,5,5,4,4,4,4,4,4,4,4,4,5,4,5,5,5,4,4,3,4,3,5,4,5,4,5,4,5,5,2,3,3,3,3,3,3,3,3,3],\"x0\":\" \",\"xaxis\":\"x3\",\"y\":[48,39,53,97,85,60,45,63,79,84,65,75,60,87,61,80,60,60,104,65,70,82,48,85,90,72,59,68,106,75,79,73,61,101,79,91,57,55,86,89,66,80,63,99,122,80,83,73,111,89,99,107,80,140,123,105,94,107,167,113,97,80,111,151,130,97,100,89,116,74,55,49,81,74,73,92,109,75,96,80,66,38,95,59,36,72,99,80,60,72,102,84,71,76,66,107,84,65,69,54,101,84,74,60,46,104,78,60,82,94,85,88,57,23,102,71,74,59,55,79,90,60,72],\"y0\":\" \",\"yaxis\":\"y3\",\"type\":\"box\"}],                        {\"template\":{\"data\":{\"histogram2dcontour\":[{\"type\":\"histogram2dcontour\",\"colorbar\":{\"outlinewidth\":0,\"ticks\":\"\"},\"colorscale\":[[0.0,\"#0d0887\"],[0.1111111111111111,\"#46039f\"],[0.2222222222222222,\"#7201a8\"],[0.3333333333333333,\"#9c179e\"],[0.4444444444444444,\"#bd3786\"],[0.5555555555555556,\"#d8576b\"],[0.6666666666666666,\"#ed7953\"],[0.7777777777777778,\"#fb9f3a\"],[0.8888888888888888,\"#fdca26\"],[1.0,\"#f0f921\"]]}],\"choropleth\":[{\"type\":\"choropleth\",\"colorbar\":{\"outlinewidth\":0,\"ticks\":\"\"}}],\"histogram2d\":[{\"type\":\"histogram2d\",\"colorbar\":{\"outlinewidth\":0,\"ticks\":\"\"},\"colorscale\":[[0.0,\"#0d0887\"],[0.1111111111111111,\"#46039f\"],[0.2222222222222222,\"#7201a8\"],[0.3333333333333333,\"#9c179e\"],[0.4444444444444444,\"#bd3786\"],[0.5555555555555556,\"#d8576b\"],[0.6666666666666666,\"#ed7953\"],[0.7777777777777778,\"#fb9f3a\"],[0.8888888888888888,\"#fdca26\"],[1.0,\"#f0f921\"]]}],\"heatmap\":[{\"type\":\"heatmap\",\"colorbar\":{\"outlinewidth\":0,\"ticks\":\"\"},\"colorscale\":[[0.0,\"#0d0887\"],[0.1111111111111111,\"#46039f\"],[0.2222222222222222,\"#7201a8\"],[0.3333333333333333,\"#9c179e\"],[0.4444444444444444,\"#bd3786\"],[0.5555555555555556,\"#d8576b\"],[0.6666666666666666,\"#ed7953\"],[0.7777777777777778,\"#fb9f3a\"],[0.8888888888888888,\"#fdca26\"],[1.0,\"#f0f921\"]]}],\"heatmapgl\":[{\"type\":\"heatmapgl\",\"colorbar\":{\"outlinewidth\":0,\"ticks\":\"\"},\"colorscale\":[[0.0,\"#0d0887\"],[0.1111111111111111,\"#46039f\"],[0.2222222222222222,\"#7201a8\"],[0.3333333333333333,\"#9c179e\"],[0.4444444444444444,\"#bd3786\"],[0.5555555555555556,\"#d8576b\"],[0.6666666666666666,\"#ed7953\"],[0.7777777777777778,\"#fb9f3a\"],[0.8888888888888888,\"#fdca26\"],[1.0,\"#f0f921\"]]}],\"contourcarpet\":[{\"type\":\"contourcarpet\",\"colorbar\":{\"outlinewidth\":0,\"ticks\":\"\"}}],\"contour\":[{\"type\":\"contour\",\"colorbar\":{\"outlinewidth\":0,\"ticks\":\"\"},\"colorscale\":[[0.0,\"#0d0887\"],[0.1111111111111111,\"#46039f\"],[0.2222222222222222,\"#7201a8\"],[0.3333333333333333,\"#9c179e\"],[0.4444444444444444,\"#bd3786\"],[0.5555555555555556,\"#d8576b\"],[0.6666666666666666,\"#ed7953\"],[0.7777777777777778,\"#fb9f3a\"],[0.8888888888888888,\"#fdca26\"],[1.0,\"#f0f921\"]]}],\"surface\":[{\"type\":\"surface\",\"colorbar\":{\"outlinewidth\":0,\"ticks\":\"\"},\"colorscale\":[[0.0,\"#0d0887\"],[0.1111111111111111,\"#46039f\"],[0.2222222222222222,\"#7201a8\"],[0.3333333333333333,\"#9c179e\"],[0.4444444444444444,\"#bd3786\"],[0.5555555555555556,\"#d8576b\"],[0.6666666666666666,\"#ed7953\"],[0.7777777777777778,\"#fb9f3a\"],[0.8888888888888888,\"#fdca26\"],[1.0,\"#f0f921\"]]}],\"mesh3d\":[{\"type\":\"mesh3d\",\"colorbar\":{\"outlinewidth\":0,\"ticks\":\"\"}}],\"scatter\":[{\"fillpattern\":{\"fillmode\":\"overlay\",\"size\":10,\"solidity\":0.2},\"type\":\"scatter\"}],\"parcoords\":[{\"type\":\"parcoords\",\"line\":{\"colorbar\":{\"outlinewidth\":0,\"ticks\":\"\"}}}],\"scatterpolargl\":[{\"type\":\"scatterpolargl\",\"marker\":{\"colorbar\":{\"outlinewidth\":0,\"ticks\":\"\"}}}],\"bar\":[{\"error_x\":{\"color\":\"#2a3f5f\"},\"error_y\":{\"color\":\"#2a3f5f\"},\"marker\":{\"line\":{\"color\":\"#E5ECF6\",\"width\":0.5},\"pattern\":{\"fillmode\":\"overlay\",\"size\":10,\"solidity\":0.2}},\"type\":\"bar\"}],\"scattergeo\":[{\"type\":\"scattergeo\",\"marker\":{\"colorbar\":{\"outlinewidth\":0,\"ticks\":\"\"}}}],\"scatterpolar\":[{\"type\":\"scatterpolar\",\"marker\":{\"colorbar\":{\"outlinewidth\":0,\"ticks\":\"\"}}}],\"histogram\":[{\"marker\":{\"pattern\":{\"fillmode\":\"overlay\",\"size\":10,\"solidity\":0.2}},\"type\":\"histogram\"}],\"scattergl\":[{\"type\":\"scattergl\",\"marker\":{\"colorbar\":{\"outlinewidth\":0,\"ticks\":\"\"}}}],\"scatter3d\":[{\"type\":\"scatter3d\",\"line\":{\"colorbar\":{\"outlinewidth\":0,\"ticks\":\"\"}},\"marker\":{\"colorbar\":{\"outlinewidth\":0,\"ticks\":\"\"}}}],\"scattermapbox\":[{\"type\":\"scattermapbox\",\"marker\":{\"colorbar\":{\"outlinewidth\":0,\"ticks\":\"\"}}}],\"scatterternary\":[{\"type\":\"scatterternary\",\"marker\":{\"colorbar\":{\"outlinewidth\":0,\"ticks\":\"\"}}}],\"scattercarpet\":[{\"type\":\"scattercarpet\",\"marker\":{\"colorbar\":{\"outlinewidth\":0,\"ticks\":\"\"}}}],\"carpet\":[{\"aaxis\":{\"endlinecolor\":\"#2a3f5f\",\"gridcolor\":\"white\",\"linecolor\":\"white\",\"minorgridcolor\":\"white\",\"startlinecolor\":\"#2a3f5f\"},\"baxis\":{\"endlinecolor\":\"#2a3f5f\",\"gridcolor\":\"white\",\"linecolor\":\"white\",\"minorgridcolor\":\"white\",\"startlinecolor\":\"#2a3f5f\"},\"type\":\"carpet\"}],\"table\":[{\"cells\":{\"fill\":{\"color\":\"#EBF0F8\"},\"line\":{\"color\":\"white\"}},\"header\":{\"fill\":{\"color\":\"#C8D4E3\"},\"line\":{\"color\":\"white\"}},\"type\":\"table\"}],\"barpolar\":[{\"marker\":{\"line\":{\"color\":\"#E5ECF6\",\"width\":0.5},\"pattern\":{\"fillmode\":\"overlay\",\"size\":10,\"solidity\":0.2}},\"type\":\"barpolar\"}],\"pie\":[{\"automargin\":true,\"type\":\"pie\"}]},\"layout\":{\"autotypenumbers\":\"strict\",\"colorway\":[\"#636efa\",\"#EF553B\",\"#00cc96\",\"#ab63fa\",\"#FFA15A\",\"#19d3f3\",\"#FF6692\",\"#B6E880\",\"#FF97FF\",\"#FECB52\"],\"font\":{\"color\":\"#2a3f5f\"},\"hovermode\":\"closest\",\"hoverlabel\":{\"align\":\"left\"},\"paper_bgcolor\":\"white\",\"plot_bgcolor\":\"#E5ECF6\",\"polar\":{\"bgcolor\":\"#E5ECF6\",\"angularaxis\":{\"gridcolor\":\"white\",\"linecolor\":\"white\",\"ticks\":\"\"},\"radialaxis\":{\"gridcolor\":\"white\",\"linecolor\":\"white\",\"ticks\":\"\"}},\"ternary\":{\"bgcolor\":\"#E5ECF6\",\"aaxis\":{\"gridcolor\":\"white\",\"linecolor\":\"white\",\"ticks\":\"\"},\"baxis\":{\"gridcolor\":\"white\",\"linecolor\":\"white\",\"ticks\":\"\"},\"caxis\":{\"gridcolor\":\"white\",\"linecolor\":\"white\",\"ticks\":\"\"}},\"coloraxis\":{\"colorbar\":{\"outlinewidth\":0,\"ticks\":\"\"}},\"colorscale\":{\"sequential\":[[0.0,\"#0d0887\"],[0.1111111111111111,\"#46039f\"],[0.2222222222222222,\"#7201a8\"],[0.3333333333333333,\"#9c179e\"],[0.4444444444444444,\"#bd3786\"],[0.5555555555555556,\"#d8576b\"],[0.6666666666666666,\"#ed7953\"],[0.7777777777777778,\"#fb9f3a\"],[0.8888888888888888,\"#fdca26\"],[1.0,\"#f0f921\"]],\"sequentialminus\":[[0.0,\"#0d0887\"],[0.1111111111111111,\"#46039f\"],[0.2222222222222222,\"#7201a8\"],[0.3333333333333333,\"#9c179e\"],[0.4444444444444444,\"#bd3786\"],[0.5555555555555556,\"#d8576b\"],[0.6666666666666666,\"#ed7953\"],[0.7777777777777778,\"#fb9f3a\"],[0.8888888888888888,\"#fdca26\"],[1.0,\"#f0f921\"]],\"diverging\":[[0,\"#8e0152\"],[0.1,\"#c51b7d\"],[0.2,\"#de77ae\"],[0.3,\"#f1b6da\"],[0.4,\"#fde0ef\"],[0.5,\"#f7f7f7\"],[0.6,\"#e6f5d0\"],[0.7,\"#b8e186\"],[0.8,\"#7fbc41\"],[0.9,\"#4d9221\"],[1,\"#276419\"]]},\"xaxis\":{\"gridcolor\":\"white\",\"linecolor\":\"white\",\"ticks\":\"\",\"title\":{\"standoff\":15},\"zerolinecolor\":\"white\",\"automargin\":true,\"zerolinewidth\":2},\"yaxis\":{\"gridcolor\":\"white\",\"linecolor\":\"white\",\"ticks\":\"\",\"title\":{\"standoff\":15},\"zerolinecolor\":\"white\",\"automargin\":true,\"zerolinewidth\":2},\"scene\":{\"xaxis\":{\"backgroundcolor\":\"#E5ECF6\",\"gridcolor\":\"white\",\"linecolor\":\"white\",\"showbackground\":true,\"ticks\":\"\",\"zerolinecolor\":\"white\",\"gridwidth\":2},\"yaxis\":{\"backgroundcolor\":\"#E5ECF6\",\"gridcolor\":\"white\",\"linecolor\":\"white\",\"showbackground\":true,\"ticks\":\"\",\"zerolinecolor\":\"white\",\"gridwidth\":2},\"zaxis\":{\"backgroundcolor\":\"#E5ECF6\",\"gridcolor\":\"white\",\"linecolor\":\"white\",\"showbackground\":true,\"ticks\":\"\",\"zerolinecolor\":\"white\",\"gridwidth\":2}},\"shapedefaults\":{\"line\":{\"color\":\"#2a3f5f\"}},\"annotationdefaults\":{\"arrowcolor\":\"#2a3f5f\",\"arrowhead\":0,\"arrowwidth\":1},\"geo\":{\"bgcolor\":\"white\",\"landcolor\":\"#E5ECF6\",\"subunitcolor\":\"white\",\"showland\":true,\"showlakes\":true,\"lakecolor\":\"white\"},\"title\":{\"x\":0.05},\"mapbox\":{\"style\":\"light\"}}},\"xaxis\":{\"anchor\":\"y\",\"domain\":[0.0,0.31999999999999995],\"title\":{\"text\":\"NAZWISKO\"}},\"yaxis\":{\"anchor\":\"x\",\"domain\":[0.0,1.0],\"title\":{\"text\":\"FAKTURA\"}},\"xaxis2\":{\"anchor\":\"y2\",\"domain\":[0.33999999999999997,0.6599999999999999],\"matches\":\"x\",\"title\":{\"text\":\"NAZWISKO\"}},\"yaxis2\":{\"anchor\":\"x2\",\"domain\":[0.0,1.0],\"matches\":\"y\",\"showticklabels\":false},\"xaxis3\":{\"anchor\":\"y3\",\"domain\":[0.6799999999999999,0.9999999999999999],\"matches\":\"x\",\"title\":{\"text\":\"NAZWISKO\"}},\"yaxis3\":{\"anchor\":\"x3\",\"domain\":[0.0,1.0],\"matches\":\"y\",\"showticklabels\":false},\"annotations\":[{\"font\":{},\"showarrow\":false,\"text\":\"year=2020\",\"x\":0.15999999999999998,\"xanchor\":\"center\",\"xref\":\"paper\",\"y\":1.0,\"yanchor\":\"bottom\",\"yref\":\"paper\"},{\"font\":{},\"showarrow\":false,\"text\":\"year=2021\",\"x\":0.49999999999999994,\"xanchor\":\"center\",\"xref\":\"paper\",\"y\":1.0,\"yanchor\":\"bottom\",\"yref\":\"paper\"},{\"font\":{},\"showarrow\":false,\"text\":\"year=2022\",\"x\":0.8399999999999999,\"xanchor\":\"center\",\"xref\":\"paper\",\"y\":1.0,\"yanchor\":\"bottom\",\"yref\":\"paper\"}],\"legend\":{\"tracegroupgap\":0},\"margin\":{\"t\":60},\"boxmode\":\"group\"},                        {\"responsive\": true}                    ).then(function(){\n",
       "                            \n",
       "var gd = document.getElementById('7b847714-20aa-47c8-8379-e74213a60c4b');\n",
       "var x = new MutationObserver(function (mutations, observer) {{\n",
       "        var display = window.getComputedStyle(gd).display;\n",
       "        if (!display || display === 'none') {{\n",
       "            console.log([gd, 'removed!']);\n",
       "            Plotly.purge(gd);\n",
       "            observer.disconnect();\n",
       "        }}\n",
       "}});\n",
       "\n",
       "// Listen for the removal of the full notebook cells\n",
       "var notebookContainer = gd.closest('#notebook-container');\n",
       "if (notebookContainer) {{\n",
       "    x.observe(notebookContainer, {childList: true});\n",
       "}}\n",
       "\n",
       "// Listen for the clearing of the current output cell\n",
       "var outputEl = gd.closest('.output');\n",
       "if (outputEl) {{\n",
       "    x.observe(outputEl, {childList: true});\n",
       "}}\n",
       "\n",
       "                        })                };                });            </script>        </div>"
      ]
     },
     "metadata": {},
     "output_type": "display_data"
    },
    {
     "data": {
      "application/vnd.plotly.v1+json": {
       "config": {
        "plotlyServerURL": "https://plot.ly"
       },
       "data": [
        {
         "alignmentgroup": "True",
         "hovertemplate": "year=2020<br>NAZWISKO=%{x}<br>faktury_per_osoba=%{y}<extra></extra>",
         "legendgroup": "",
         "marker": {
          "color": "#636efa"
         },
         "name": "",
         "notched": false,
         "offsetgroup": "",
         "orientation": "v",
         "showlegend": false,
         "type": "box",
         "x": [
          5,
          5,
          4,
          4,
          4,
          4,
          6,
          4,
          4,
          4,
          4,
          4,
          4,
          5,
          5,
          4,
          5,
          5,
          4,
          4,
          5,
          4,
          5,
          6,
          5,
          5,
          5,
          4,
          4,
          5,
          5,
          5,
          4,
          5,
          5,
          5,
          5,
          5,
          5,
          5,
          4,
          4,
          5,
          5,
          5,
          5,
          5,
          5,
          5,
          6,
          5,
          4,
          4,
          3,
          3,
          3,
          3,
          3,
          3,
          3,
          3,
          3,
          3,
          3,
          3,
          3,
          2,
          2,
          3,
          1,
          3,
          3,
          2,
          3,
          3,
          3,
          2,
          2,
          2,
          4,
          4,
          3,
          3,
          4,
          4,
          3,
          4,
          3,
          4,
          3,
          5,
          3,
          5,
          4,
          4,
          4,
          4,
          4,
          4,
          4,
          4,
          3,
          4,
          4,
          4,
          5,
          3,
          4,
          5,
          5,
          5,
          4,
          3,
          4,
          5,
          5,
          5,
          5,
          5,
          6,
          5,
          5,
          4,
          4
         ],
         "x0": " ",
         "xaxis": "x",
         "y": [
          6,
          9.2,
          18.25,
          12,
          12.25,
          13.5,
          16,
          13.75,
          14,
          13,
          6,
          22.5,
          16.75,
          12.4,
          13.2,
          11.5,
          19.6,
          12.6,
          13.25,
          13,
          11.2,
          18.75,
          10,
          9.666666666666666,
          11.2,
          12.2,
          17.8,
          20.5,
          16.5,
          12,
          11.6,
          19.6,
          20.75,
          14.8,
          16.4,
          12.4,
          18.8,
          18.4,
          13.2,
          13.8,
          15.75,
          25,
          16.6,
          16.8,
          12.4,
          15,
          23.8,
          17.2,
          15.4,
          12.333333333333334,
          15.8,
          21.25,
          16.25,
          15,
          18,
          14.333333333333334,
          22.333333333333332,
          17,
          16,
          18.666666666666668,
          13.333333333333334,
          14.333333333333334,
          13.333333333333334,
          14.666666666666666,
          12.666666666666666,
          14.333333333333334,
          25,
          16,
          8,
          18,
          9.666666666666666,
          10,
          13,
          15.666666666666666,
          12,
          16.333333333333332,
          26,
          18.5,
          29,
          16.5,
          16.25,
          17.666666666666668,
          16,
          18,
          17,
          27,
          13.25,
          16.333333333333332,
          18,
          24,
          14,
          28.333333333333332,
          11.6,
          22.5,
          19.5,
          16.25,
          17,
          14,
          21.75,
          19.75,
          16.5,
          22.333333333333332,
          17.25,
          29,
          20.5,
          12,
          20.333333333333332,
          16.25,
          22.4,
          16.4,
          16.4,
          12,
          39.333333333333336,
          21,
          15.4,
          18.8,
          16.2,
          24.8,
          18.2,
          16.166666666666668,
          18,
          15.6,
          22.5,
          18.75
         ],
         "y0": " ",
         "yaxis": "y"
        },
        {
         "alignmentgroup": "True",
         "hovertemplate": "year=2021<br>NAZWISKO=%{x}<br>faktury_per_osoba=%{y}<extra></extra>",
         "legendgroup": "",
         "marker": {
          "color": "#636efa"
         },
         "name": "",
         "notched": false,
         "offsetgroup": "",
         "orientation": "v",
         "showlegend": false,
         "type": "box",
         "x": [
          5,
          5,
          5,
          4,
          5,
          5,
          5,
          4,
          5,
          6,
          5,
          5,
          5,
          5,
          6,
          5,
          5,
          6,
          5,
          6,
          4,
          5,
          5,
          6,
          4,
          5,
          5,
          5,
          5,
          5,
          5,
          5,
          5,
          6,
          6,
          3,
          5,
          4,
          5,
          5,
          5,
          5,
          6,
          6,
          1,
          6,
          5,
          6,
          6,
          4,
          4,
          4,
          6,
          5,
          5,
          4,
          3,
          5,
          5,
          5,
          5,
          6,
          6,
          5,
          4,
          3,
          4,
          5,
          5,
          6,
          4,
          6,
          5,
          6,
          6,
          5,
          5,
          5,
          5,
          5,
          5,
          5,
          6,
          3,
          6,
          5,
          5,
          5,
          6,
          4,
          6,
          5,
          7,
          5,
          5,
          5,
          5,
          5,
          5,
          5,
          5,
          5,
          5,
          5,
          4,
          5,
          5,
          3,
          5,
          6,
          5,
          4,
          4,
          5,
          4,
          4,
          4,
          3,
          4,
          4,
          4,
          4,
          4,
          3,
          5,
          5
         ],
         "x0": " ",
         "xaxis": "x2",
         "y": [
          8.6,
          12.2,
          13.4,
          17.25,
          24,
          13.2,
          9.6,
          7.5,
          8.2,
          13,
          12.4,
          15.6,
          15.8,
          12.8,
          15.5,
          16.6,
          14.8,
          13,
          16.2,
          16.833333333333332,
          20,
          15.4,
          16.4,
          13.166666666666666,
          22.75,
          16.2,
          14.6,
          16,
          9.4,
          15.2,
          19.4,
          17.8,
          14,
          12.5,
          19.166666666666668,
          30.333333333333332,
          17,
          24.5,
          16.4,
          23.4,
          24.4,
          18,
          17.333333333333332,
          30.833333333333332,
          1,
          24,
          20.6,
          19.166666666666668,
          14.333333333333334,
          22.25,
          1.5,
          35,
          18.833333333333332,
          23.8,
          22.6,
          23,
          1.6666666666666667,
          30.6,
          26.4,
          24.4,
          29,
          14.166666666666666,
          18.333333333333332,
          16.6,
          14,
          14,
          16,
          14.2,
          18.6,
          13.833333333333334,
          28.25,
          16.666666666666668,
          16.4,
          12.5,
          11.166666666666666,
          25.8,
          21.8,
          19.6,
          19.6,
          15.2,
          26.8,
          18.2,
          15.333333333333334,
          22,
          11.833333333333334,
          15.4,
          18,
          17.4,
          12.5,
          24,
          12.5,
          17.4,
          9.142857142857142,
          18.2,
          22.2,
          17.8,
          18.4,
          15.8,
          16.2,
          24.6,
          18.6,
          15.8,
          15.6,
          25.2,
          26,
          17.4,
          12.6,
          8.333333333333334,
          23.8,
          13,
          23.6,
          18,
          13.25,
          17.6,
          24.75,
          17,
          24.5,
          17.333333333333332,
          20.75,
          17.25,
          20.75,
          17,
          10,
          34,
          17.2,
          16
         ],
         "y0": " ",
         "yaxis": "y2"
        },
        {
         "alignmentgroup": "True",
         "hovertemplate": "year=2022<br>NAZWISKO=%{x}<br>faktury_per_osoba=%{y}<extra></extra>",
         "legendgroup": "",
         "marker": {
          "color": "#636efa"
         },
         "name": "",
         "notched": false,
         "offsetgroup": "",
         "orientation": "v",
         "showlegend": false,
         "type": "box",
         "x": [
          5,
          4,
          5,
          4,
          4,
          4,
          4,
          3,
          4,
          4,
          5,
          5,
          5,
          5,
          5,
          5,
          5,
          5,
          5,
          5,
          5,
          5,
          4,
          4,
          4,
          4,
          3,
          3,
          4,
          4,
          4,
          5,
          4,
          5,
          5,
          5,
          5,
          4,
          5,
          5,
          5,
          4,
          5,
          5,
          5,
          5,
          5,
          3,
          4,
          4,
          4,
          4,
          4,
          5,
          5,
          5,
          5,
          4,
          5,
          5,
          4,
          5,
          4,
          5,
          5,
          5,
          5,
          4,
          5,
          5,
          4,
          4,
          3,
          5,
          5,
          4,
          5,
          5,
          5,
          5,
          2,
          2,
          5,
          5,
          5,
          5,
          4,
          4,
          4,
          4,
          4,
          4,
          4,
          4,
          4,
          5,
          4,
          5,
          5,
          5,
          4,
          4,
          3,
          4,
          3,
          5,
          4,
          5,
          4,
          5,
          4,
          5,
          5,
          2,
          3,
          3,
          3,
          3,
          3,
          3,
          3,
          3,
          3
         ],
         "x0": " ",
         "xaxis": "x3",
         "y": [
          9.6,
          9.75,
          10.6,
          24.25,
          21.25,
          15,
          11.25,
          21,
          19.75,
          21,
          13,
          15,
          12,
          17.4,
          12.2,
          16,
          12,
          12,
          20.8,
          13,
          14,
          16.4,
          12,
          21.25,
          22.5,
          18,
          19.666666666666668,
          22.666666666666668,
          26.5,
          18.75,
          19.75,
          14.6,
          15.25,
          20.2,
          15.8,
          18.2,
          11.4,
          13.75,
          17.2,
          17.8,
          13.2,
          20,
          12.6,
          19.8,
          24.4,
          16,
          16.6,
          24.333333333333332,
          27.75,
          22.25,
          24.75,
          26.75,
          20,
          28,
          24.6,
          21,
          18.8,
          26.75,
          33.4,
          22.6,
          24.25,
          16,
          27.75,
          30.2,
          26,
          19.4,
          20,
          22.25,
          23.2,
          14.8,
          13.75,
          12.25,
          27,
          14.8,
          14.6,
          23,
          21.8,
          15,
          19.2,
          16,
          33,
          19,
          19,
          11.8,
          7.2,
          14.4,
          24.75,
          20,
          15,
          18,
          25.5,
          21,
          17.75,
          19,
          16.5,
          21.4,
          21,
          13,
          13.8,
          10.8,
          25.25,
          21,
          24.666666666666668,
          15,
          15.333333333333334,
          20.8,
          19.5,
          12,
          20.5,
          18.8,
          21.25,
          17.6,
          11.4,
          11.5,
          34,
          23.666666666666668,
          24.666666666666668,
          19.666666666666668,
          18.333333333333332,
          26.333333333333332,
          30,
          20,
          24
         ],
         "y0": " ",
         "yaxis": "y3"
        }
       ],
       "layout": {
        "annotations": [
         {
          "font": {},
          "showarrow": false,
          "text": "year=2020",
          "x": 0.15999999999999998,
          "xanchor": "center",
          "xref": "paper",
          "y": 1,
          "yanchor": "bottom",
          "yref": "paper"
         },
         {
          "font": {},
          "showarrow": false,
          "text": "year=2021",
          "x": 0.49999999999999994,
          "xanchor": "center",
          "xref": "paper",
          "y": 1,
          "yanchor": "bottom",
          "yref": "paper"
         },
         {
          "font": {},
          "showarrow": false,
          "text": "year=2022",
          "x": 0.8399999999999999,
          "xanchor": "center",
          "xref": "paper",
          "y": 1,
          "yanchor": "bottom",
          "yref": "paper"
         }
        ],
        "autosize": true,
        "boxmode": "group",
        "legend": {
         "tracegroupgap": 0
        },
        "margin": {
         "t": 60
        },
        "template": {
         "data": {
          "bar": [
           {
            "error_x": {
             "color": "#2a3f5f"
            },
            "error_y": {
             "color": "#2a3f5f"
            },
            "marker": {
             "line": {
              "color": "#E5ECF6",
              "width": 0.5
             },
             "pattern": {
              "fillmode": "overlay",
              "size": 10,
              "solidity": 0.2
             }
            },
            "type": "bar"
           }
          ],
          "barpolar": [
           {
            "marker": {
             "line": {
              "color": "#E5ECF6",
              "width": 0.5
             },
             "pattern": {
              "fillmode": "overlay",
              "size": 10,
              "solidity": 0.2
             }
            },
            "type": "barpolar"
           }
          ],
          "carpet": [
           {
            "aaxis": {
             "endlinecolor": "#2a3f5f",
             "gridcolor": "white",
             "linecolor": "white",
             "minorgridcolor": "white",
             "startlinecolor": "#2a3f5f"
            },
            "baxis": {
             "endlinecolor": "#2a3f5f",
             "gridcolor": "white",
             "linecolor": "white",
             "minorgridcolor": "white",
             "startlinecolor": "#2a3f5f"
            },
            "type": "carpet"
           }
          ],
          "choropleth": [
           {
            "colorbar": {
             "outlinewidth": 0,
             "ticks": ""
            },
            "type": "choropleth"
           }
          ],
          "contour": [
           {
            "colorbar": {
             "outlinewidth": 0,
             "ticks": ""
            },
            "colorscale": [
             [
              0,
              "#0d0887"
             ],
             [
              0.1111111111111111,
              "#46039f"
             ],
             [
              0.2222222222222222,
              "#7201a8"
             ],
             [
              0.3333333333333333,
              "#9c179e"
             ],
             [
              0.4444444444444444,
              "#bd3786"
             ],
             [
              0.5555555555555556,
              "#d8576b"
             ],
             [
              0.6666666666666666,
              "#ed7953"
             ],
             [
              0.7777777777777778,
              "#fb9f3a"
             ],
             [
              0.8888888888888888,
              "#fdca26"
             ],
             [
              1,
              "#f0f921"
             ]
            ],
            "type": "contour"
           }
          ],
          "contourcarpet": [
           {
            "colorbar": {
             "outlinewidth": 0,
             "ticks": ""
            },
            "type": "contourcarpet"
           }
          ],
          "heatmap": [
           {
            "colorbar": {
             "outlinewidth": 0,
             "ticks": ""
            },
            "colorscale": [
             [
              0,
              "#0d0887"
             ],
             [
              0.1111111111111111,
              "#46039f"
             ],
             [
              0.2222222222222222,
              "#7201a8"
             ],
             [
              0.3333333333333333,
              "#9c179e"
             ],
             [
              0.4444444444444444,
              "#bd3786"
             ],
             [
              0.5555555555555556,
              "#d8576b"
             ],
             [
              0.6666666666666666,
              "#ed7953"
             ],
             [
              0.7777777777777778,
              "#fb9f3a"
             ],
             [
              0.8888888888888888,
              "#fdca26"
             ],
             [
              1,
              "#f0f921"
             ]
            ],
            "type": "heatmap"
           }
          ],
          "heatmapgl": [
           {
            "colorbar": {
             "outlinewidth": 0,
             "ticks": ""
            },
            "colorscale": [
             [
              0,
              "#0d0887"
             ],
             [
              0.1111111111111111,
              "#46039f"
             ],
             [
              0.2222222222222222,
              "#7201a8"
             ],
             [
              0.3333333333333333,
              "#9c179e"
             ],
             [
              0.4444444444444444,
              "#bd3786"
             ],
             [
              0.5555555555555556,
              "#d8576b"
             ],
             [
              0.6666666666666666,
              "#ed7953"
             ],
             [
              0.7777777777777778,
              "#fb9f3a"
             ],
             [
              0.8888888888888888,
              "#fdca26"
             ],
             [
              1,
              "#f0f921"
             ]
            ],
            "type": "heatmapgl"
           }
          ],
          "histogram": [
           {
            "marker": {
             "pattern": {
              "fillmode": "overlay",
              "size": 10,
              "solidity": 0.2
             }
            },
            "type": "histogram"
           }
          ],
          "histogram2d": [
           {
            "colorbar": {
             "outlinewidth": 0,
             "ticks": ""
            },
            "colorscale": [
             [
              0,
              "#0d0887"
             ],
             [
              0.1111111111111111,
              "#46039f"
             ],
             [
              0.2222222222222222,
              "#7201a8"
             ],
             [
              0.3333333333333333,
              "#9c179e"
             ],
             [
              0.4444444444444444,
              "#bd3786"
             ],
             [
              0.5555555555555556,
              "#d8576b"
             ],
             [
              0.6666666666666666,
              "#ed7953"
             ],
             [
              0.7777777777777778,
              "#fb9f3a"
             ],
             [
              0.8888888888888888,
              "#fdca26"
             ],
             [
              1,
              "#f0f921"
             ]
            ],
            "type": "histogram2d"
           }
          ],
          "histogram2dcontour": [
           {
            "colorbar": {
             "outlinewidth": 0,
             "ticks": ""
            },
            "colorscale": [
             [
              0,
              "#0d0887"
             ],
             [
              0.1111111111111111,
              "#46039f"
             ],
             [
              0.2222222222222222,
              "#7201a8"
             ],
             [
              0.3333333333333333,
              "#9c179e"
             ],
             [
              0.4444444444444444,
              "#bd3786"
             ],
             [
              0.5555555555555556,
              "#d8576b"
             ],
             [
              0.6666666666666666,
              "#ed7953"
             ],
             [
              0.7777777777777778,
              "#fb9f3a"
             ],
             [
              0.8888888888888888,
              "#fdca26"
             ],
             [
              1,
              "#f0f921"
             ]
            ],
            "type": "histogram2dcontour"
           }
          ],
          "mesh3d": [
           {
            "colorbar": {
             "outlinewidth": 0,
             "ticks": ""
            },
            "type": "mesh3d"
           }
          ],
          "parcoords": [
           {
            "line": {
             "colorbar": {
              "outlinewidth": 0,
              "ticks": ""
             }
            },
            "type": "parcoords"
           }
          ],
          "pie": [
           {
            "automargin": true,
            "type": "pie"
           }
          ],
          "scatter": [
           {
            "fillpattern": {
             "fillmode": "overlay",
             "size": 10,
             "solidity": 0.2
            },
            "type": "scatter"
           }
          ],
          "scatter3d": [
           {
            "line": {
             "colorbar": {
              "outlinewidth": 0,
              "ticks": ""
             }
            },
            "marker": {
             "colorbar": {
              "outlinewidth": 0,
              "ticks": ""
             }
            },
            "type": "scatter3d"
           }
          ],
          "scattercarpet": [
           {
            "marker": {
             "colorbar": {
              "outlinewidth": 0,
              "ticks": ""
             }
            },
            "type": "scattercarpet"
           }
          ],
          "scattergeo": [
           {
            "marker": {
             "colorbar": {
              "outlinewidth": 0,
              "ticks": ""
             }
            },
            "type": "scattergeo"
           }
          ],
          "scattergl": [
           {
            "marker": {
             "colorbar": {
              "outlinewidth": 0,
              "ticks": ""
             }
            },
            "type": "scattergl"
           }
          ],
          "scattermapbox": [
           {
            "marker": {
             "colorbar": {
              "outlinewidth": 0,
              "ticks": ""
             }
            },
            "type": "scattermapbox"
           }
          ],
          "scatterpolar": [
           {
            "marker": {
             "colorbar": {
              "outlinewidth": 0,
              "ticks": ""
             }
            },
            "type": "scatterpolar"
           }
          ],
          "scatterpolargl": [
           {
            "marker": {
             "colorbar": {
              "outlinewidth": 0,
              "ticks": ""
             }
            },
            "type": "scatterpolargl"
           }
          ],
          "scatterternary": [
           {
            "marker": {
             "colorbar": {
              "outlinewidth": 0,
              "ticks": ""
             }
            },
            "type": "scatterternary"
           }
          ],
          "surface": [
           {
            "colorbar": {
             "outlinewidth": 0,
             "ticks": ""
            },
            "colorscale": [
             [
              0,
              "#0d0887"
             ],
             [
              0.1111111111111111,
              "#46039f"
             ],
             [
              0.2222222222222222,
              "#7201a8"
             ],
             [
              0.3333333333333333,
              "#9c179e"
             ],
             [
              0.4444444444444444,
              "#bd3786"
             ],
             [
              0.5555555555555556,
              "#d8576b"
             ],
             [
              0.6666666666666666,
              "#ed7953"
             ],
             [
              0.7777777777777778,
              "#fb9f3a"
             ],
             [
              0.8888888888888888,
              "#fdca26"
             ],
             [
              1,
              "#f0f921"
             ]
            ],
            "type": "surface"
           }
          ],
          "table": [
           {
            "cells": {
             "fill": {
              "color": "#EBF0F8"
             },
             "line": {
              "color": "white"
             }
            },
            "header": {
             "fill": {
              "color": "#C8D4E3"
             },
             "line": {
              "color": "white"
             }
            },
            "type": "table"
           }
          ]
         },
         "layout": {
          "annotationdefaults": {
           "arrowcolor": "#2a3f5f",
           "arrowhead": 0,
           "arrowwidth": 1
          },
          "autotypenumbers": "strict",
          "coloraxis": {
           "colorbar": {
            "outlinewidth": 0,
            "ticks": ""
           }
          },
          "colorscale": {
           "diverging": [
            [
             0,
             "#8e0152"
            ],
            [
             0.1,
             "#c51b7d"
            ],
            [
             0.2,
             "#de77ae"
            ],
            [
             0.3,
             "#f1b6da"
            ],
            [
             0.4,
             "#fde0ef"
            ],
            [
             0.5,
             "#f7f7f7"
            ],
            [
             0.6,
             "#e6f5d0"
            ],
            [
             0.7,
             "#b8e186"
            ],
            [
             0.8,
             "#7fbc41"
            ],
            [
             0.9,
             "#4d9221"
            ],
            [
             1,
             "#276419"
            ]
           ],
           "sequential": [
            [
             0,
             "#0d0887"
            ],
            [
             0.1111111111111111,
             "#46039f"
            ],
            [
             0.2222222222222222,
             "#7201a8"
            ],
            [
             0.3333333333333333,
             "#9c179e"
            ],
            [
             0.4444444444444444,
             "#bd3786"
            ],
            [
             0.5555555555555556,
             "#d8576b"
            ],
            [
             0.6666666666666666,
             "#ed7953"
            ],
            [
             0.7777777777777778,
             "#fb9f3a"
            ],
            [
             0.8888888888888888,
             "#fdca26"
            ],
            [
             1,
             "#f0f921"
            ]
           ],
           "sequentialminus": [
            [
             0,
             "#0d0887"
            ],
            [
             0.1111111111111111,
             "#46039f"
            ],
            [
             0.2222222222222222,
             "#7201a8"
            ],
            [
             0.3333333333333333,
             "#9c179e"
            ],
            [
             0.4444444444444444,
             "#bd3786"
            ],
            [
             0.5555555555555556,
             "#d8576b"
            ],
            [
             0.6666666666666666,
             "#ed7953"
            ],
            [
             0.7777777777777778,
             "#fb9f3a"
            ],
            [
             0.8888888888888888,
             "#fdca26"
            ],
            [
             1,
             "#f0f921"
            ]
           ]
          },
          "colorway": [
           "#636efa",
           "#EF553B",
           "#00cc96",
           "#ab63fa",
           "#FFA15A",
           "#19d3f3",
           "#FF6692",
           "#B6E880",
           "#FF97FF",
           "#FECB52"
          ],
          "font": {
           "color": "#2a3f5f"
          },
          "geo": {
           "bgcolor": "white",
           "lakecolor": "white",
           "landcolor": "#E5ECF6",
           "showlakes": true,
           "showland": true,
           "subunitcolor": "white"
          },
          "hoverlabel": {
           "align": "left"
          },
          "hovermode": "closest",
          "mapbox": {
           "style": "light"
          },
          "paper_bgcolor": "white",
          "plot_bgcolor": "#E5ECF6",
          "polar": {
           "angularaxis": {
            "gridcolor": "white",
            "linecolor": "white",
            "ticks": ""
           },
           "bgcolor": "#E5ECF6",
           "radialaxis": {
            "gridcolor": "white",
            "linecolor": "white",
            "ticks": ""
           }
          },
          "scene": {
           "xaxis": {
            "backgroundcolor": "#E5ECF6",
            "gridcolor": "white",
            "gridwidth": 2,
            "linecolor": "white",
            "showbackground": true,
            "ticks": "",
            "zerolinecolor": "white"
           },
           "yaxis": {
            "backgroundcolor": "#E5ECF6",
            "gridcolor": "white",
            "gridwidth": 2,
            "linecolor": "white",
            "showbackground": true,
            "ticks": "",
            "zerolinecolor": "white"
           },
           "zaxis": {
            "backgroundcolor": "#E5ECF6",
            "gridcolor": "white",
            "gridwidth": 2,
            "linecolor": "white",
            "showbackground": true,
            "ticks": "",
            "zerolinecolor": "white"
           }
          },
          "shapedefaults": {
           "line": {
            "color": "#2a3f5f"
           }
          },
          "ternary": {
           "aaxis": {
            "gridcolor": "white",
            "linecolor": "white",
            "ticks": ""
           },
           "baxis": {
            "gridcolor": "white",
            "linecolor": "white",
            "ticks": ""
           },
           "bgcolor": "#E5ECF6",
           "caxis": {
            "gridcolor": "white",
            "linecolor": "white",
            "ticks": ""
           }
          },
          "title": {
           "x": 0.05
          },
          "xaxis": {
           "automargin": true,
           "gridcolor": "white",
           "linecolor": "white",
           "ticks": "",
           "title": {
            "standoff": 15
           },
           "zerolinecolor": "white",
           "zerolinewidth": 2
          },
          "yaxis": {
           "automargin": true,
           "gridcolor": "white",
           "linecolor": "white",
           "ticks": "",
           "title": {
            "standoff": 15
           },
           "zerolinecolor": "white",
           "zerolinewidth": 2
          }
         }
        },
        "xaxis": {
         "anchor": "y",
         "autorange": true,
         "domain": [
          0,
          0.31999999999999995
         ],
         "range": [
          0.44958225295303944,
          7.5
         ],
         "title": {
          "text": "NAZWISKO"
         },
         "type": "linear"
        },
        "xaxis2": {
         "anchor": "y2",
         "autorange": true,
         "domain": [
          0.33999999999999997,
          0.6599999999999999
         ],
         "matches": "x",
         "range": [
          0.44958225295303944,
          7.5
         ],
         "title": {
          "text": "NAZWISKO"
         },
         "type": "linear"
        },
        "xaxis3": {
         "anchor": "y3",
         "autorange": true,
         "domain": [
          0.6799999999999999,
          0.9999999999999999
         ],
         "matches": "x",
         "range": [
          0.44958225295303944,
          7.5
         ],
         "title": {
          "text": "NAZWISKO"
         },
         "type": "linear"
        },
        "yaxis": {
         "anchor": "x",
         "autorange": true,
         "domain": [
          0,
          1
         ],
         "range": [
          -1.1296296296296298,
          41.46296296296296
         ],
         "title": {
          "text": "faktury_per_osoba"
         },
         "type": "linear"
        },
        "yaxis2": {
         "anchor": "x2",
         "autorange": true,
         "domain": [
          0,
          1
         ],
         "matches": "y",
         "range": [
          -1.1296296296296298,
          41.46296296296296
         ],
         "showticklabels": false,
         "type": "linear"
        },
        "yaxis3": {
         "anchor": "x3",
         "autorange": true,
         "domain": [
          0,
          1
         ],
         "matches": "y",
         "range": [
          -1.1296296296296298,
          41.46296296296296
         ],
         "showticklabels": false,
         "type": "linear"
        }
       }
      },
      "image/png": "[encoded data removed]",
      "text/html": [
       "<div>                            <div id=\"fd579987-86ad-4036-8afe-f48f8c487c6c\" class=\"plotly-graph-div\" style=\"height:525px; width:100%;\"></div>            <script type=\"text/javascript\">                require([\"plotly\"], function(Plotly) {                    window.PLOTLYENV=window.PLOTLYENV || {};                                    if (document.getElementById(\"fd579987-86ad-4036-8afe-f48f8c487c6c\")) {                    Plotly.newPlot(                        \"fd579987-86ad-4036-8afe-f48f8c487c6c\",                        [{\"alignmentgroup\":\"True\",\"hovertemplate\":\"year=2020<br>NAZWISKO=%{x}<br>faktury_per_osoba=%{y}<extra></extra>\",\"legendgroup\":\"\",\"marker\":{\"color\":\"#636efa\"},\"name\":\"\",\"notched\":false,\"offsetgroup\":\"\",\"orientation\":\"v\",\"showlegend\":false,\"x\":[5,5,4,4,4,4,6,4,4,4,4,4,4,5,5,4,5,5,4,4,5,4,5,6,5,5,5,4,4,5,5,5,4,5,5,5,5,5,5,5,4,4,5,5,5,5,5,5,5,6,5,4,4,3,3,3,3,3,3,3,3,3,3,3,3,3,2,2,3,1,3,3,2,3,3,3,2,2,2,4,4,3,3,4,4,3,4,3,4,3,5,3,5,4,4,4,4,4,4,4,4,3,4,4,4,5,3,4,5,5,5,4,3,4,5,5,5,5,5,6,5,5,4,4],\"x0\":\" \",\"xaxis\":\"x\",\"y\":[6.0,9.2,18.25,12.0,12.25,13.5,16.0,13.75,14.0,13.0,6.0,22.5,16.75,12.4,13.2,11.5,19.6,12.6,13.25,13.0,11.2,18.75,10.0,9.666666666666666,11.2,12.2,17.8,20.5,16.5,12.0,11.6,19.6,20.75,14.8,16.4,12.4,18.8,18.4,13.2,13.8,15.75,25.0,16.6,16.8,12.4,15.0,23.8,17.2,15.4,12.333333333333334,15.8,21.25,16.25,15.0,18.0,14.333333333333334,22.333333333333332,17.0,16.0,18.666666666666668,13.333333333333334,14.333333333333334,13.333333333333334,14.666666666666666,12.666666666666666,14.333333333333334,25.0,16.0,8.0,18.0,9.666666666666666,10.0,13.0,15.666666666666666,12.0,16.333333333333332,26.0,18.5,29.0,16.5,16.25,17.666666666666668,16.0,18.0,17.0,27.0,13.25,16.333333333333332,18.0,24.0,14.0,28.333333333333332,11.6,22.5,19.5,16.25,17.0,14.0,21.75,19.75,16.5,22.333333333333332,17.25,29.0,20.5,12.0,20.333333333333332,16.25,22.4,16.4,16.4,12.0,39.333333333333336,21.0,15.4,18.8,16.2,24.8,18.2,16.166666666666668,18.0,15.6,22.5,18.75],\"y0\":\" \",\"yaxis\":\"y\",\"type\":\"box\"},{\"alignmentgroup\":\"True\",\"hovertemplate\":\"year=2021<br>NAZWISKO=%{x}<br>faktury_per_osoba=%{y}<extra></extra>\",\"legendgroup\":\"\",\"marker\":{\"color\":\"#636efa\"},\"name\":\"\",\"notched\":false,\"offsetgroup\":\"\",\"orientation\":\"v\",\"showlegend\":false,\"x\":[5,5,5,4,5,5,5,4,5,6,5,5,5,5,6,5,5,6,5,6,4,5,5,6,4,5,5,5,5,5,5,5,5,6,6,3,5,4,5,5,5,5,6,6,1,6,5,6,6,4,4,4,6,5,5,4,3,5,5,5,5,6,6,5,4,3,4,5,5,6,4,6,5,6,6,5,5,5,5,5,5,5,6,3,6,5,5,5,6,4,6,5,7,5,5,5,5,5,5,5,5,5,5,5,4,5,5,3,5,6,5,4,4,5,4,4,4,3,4,4,4,4,4,3,5,5],\"x0\":\" \",\"xaxis\":\"x2\",\"y\":[8.6,12.2,13.4,17.25,24.0,13.2,9.6,7.5,8.2,13.0,12.4,15.6,15.8,12.8,15.5,16.6,14.8,13.0,16.2,16.833333333333332,20.0,15.4,16.4,13.166666666666666,22.75,16.2,14.6,16.0,9.4,15.2,19.4,17.8,14.0,12.5,19.166666666666668,30.333333333333332,17.0,24.5,16.4,23.4,24.4,18.0,17.333333333333332,30.833333333333332,1.0,24.0,20.6,19.166666666666668,14.333333333333334,22.25,1.5,35.0,18.833333333333332,23.8,22.6,23.0,1.6666666666666667,30.6,26.4,24.4,29.0,14.166666666666666,18.333333333333332,16.6,14.0,14.0,16.0,14.2,18.6,13.833333333333334,28.25,16.666666666666668,16.4,12.5,11.166666666666666,25.8,21.8,19.6,19.6,15.2,26.8,18.2,15.333333333333334,22.0,11.833333333333334,15.4,18.0,17.4,12.5,24.0,12.5,17.4,9.142857142857142,18.2,22.2,17.8,18.4,15.8,16.2,24.6,18.6,15.8,15.6,25.2,26.0,17.4,12.6,8.333333333333334,23.8,13.0,23.6,18.0,13.25,17.6,24.75,17.0,24.5,17.333333333333332,20.75,17.25,20.75,17.0,10.0,34.0,17.2,16.0],\"y0\":\" \",\"yaxis\":\"y2\",\"type\":\"box\"},{\"alignmentgroup\":\"True\",\"hovertemplate\":\"year=2022<br>NAZWISKO=%{x}<br>faktury_per_osoba=%{y}<extra></extra>\",\"legendgroup\":\"\",\"marker\":{\"color\":\"#636efa\"},\"name\":\"\",\"notched\":false,\"offsetgroup\":\"\",\"orientation\":\"v\",\"showlegend\":false,\"x\":[5,4,5,4,4,4,4,3,4,4,5,5,5,5,5,5,5,5,5,5,5,5,4,4,4,4,3,3,4,4,4,5,4,5,5,5,5,4,5,5,5,4,5,5,5,5,5,3,4,4,4,4,4,5,5,5,5,4,5,5,4,5,4,5,5,5,5,4,5,5,4,4,3,5,5,4,5,5,5,5,2,2,5,5,5,5,4,4,4,4,4,4,4,4,4,5,4,5,5,5,4,4,3,4,3,5,4,5,4,5,4,5,5,2,3,3,3,3,3,3,3,3,3],\"x0\":\" \",\"xaxis\":\"x3\",\"y\":[9.6,9.75,10.6,24.25,21.25,15.0,11.25,21.0,19.75,21.0,13.0,15.0,12.0,17.4,12.2,16.0,12.0,12.0,20.8,13.0,14.0,16.4,12.0,21.25,22.5,18.0,19.666666666666668,22.666666666666668,26.5,18.75,19.75,14.6,15.25,20.2,15.8,18.2,11.4,13.75,17.2,17.8,13.2,20.0,12.6,19.8,24.4,16.0,16.6,24.333333333333332,27.75,22.25,24.75,26.75,20.0,28.0,24.6,21.0,18.8,26.75,33.4,22.6,24.25,16.0,27.75,30.2,26.0,19.4,20.0,22.25,23.2,14.8,13.75,12.25,27.0,14.8,14.6,23.0,21.8,15.0,19.2,16.0,33.0,19.0,19.0,11.8,7.2,14.4,24.75,20.0,15.0,18.0,25.5,21.0,17.75,19.0,16.5,21.4,21.0,13.0,13.8,10.8,25.25,21.0,24.666666666666668,15.0,15.333333333333334,20.8,19.5,12.0,20.5,18.8,21.25,17.6,11.4,11.5,34.0,23.666666666666668,24.666666666666668,19.666666666666668,18.333333333333332,26.333333333333332,30.0,20.0,24.0],\"y0\":\" \",\"yaxis\":\"y3\",\"type\":\"box\"}],                        {\"template\":{\"data\":{\"histogram2dcontour\":[{\"type\":\"histogram2dcontour\",\"colorbar\":{\"outlinewidth\":0,\"ticks\":\"\"},\"colorscale\":[[0.0,\"#0d0887\"],[0.1111111111111111,\"#46039f\"],[0.2222222222222222,\"#7201a8\"],[0.3333333333333333,\"#9c179e\"],[0.4444444444444444,\"#bd3786\"],[0.5555555555555556,\"#d8576b\"],[0.6666666666666666,\"#ed7953\"],[0.7777777777777778,\"#fb9f3a\"],[0.8888888888888888,\"#fdca26\"],[1.0,\"#f0f921\"]]}],\"choropleth\":[{\"type\":\"choropleth\",\"colorbar\":{\"outlinewidth\":0,\"ticks\":\"\"}}],\"histogram2d\":[{\"type\":\"histogram2d\",\"colorbar\":{\"outlinewidth\":0,\"ticks\":\"\"},\"colorscale\":[[0.0,\"#0d0887\"],[0.1111111111111111,\"#46039f\"],[0.2222222222222222,\"#7201a8\"],[0.3333333333333333,\"#9c179e\"],[0.4444444444444444,\"#bd3786\"],[0.5555555555555556,\"#d8576b\"],[0.6666666666666666,\"#ed7953\"],[0.7777777777777778,\"#fb9f3a\"],[0.8888888888888888,\"#fdca26\"],[1.0,\"#f0f921\"]]}],\"heatmap\":[{\"type\":\"heatmap\",\"colorbar\":{\"outlinewidth\":0,\"ticks\":\"\"},\"colorscale\":[[0.0,\"#0d0887\"],[0.1111111111111111,\"#46039f\"],[0.2222222222222222,\"#7201a8\"],[0.3333333333333333,\"#9c179e\"],[0.4444444444444444,\"#bd3786\"],[0.5555555555555556,\"#d8576b\"],[0.6666666666666666,\"#ed7953\"],[0.7777777777777778,\"#fb9f3a\"],[0.8888888888888888,\"#fdca26\"],[1.0,\"#f0f921\"]]}],\"heatmapgl\":[{\"type\":\"heatmapgl\",\"colorbar\":{\"outlinewidth\":0,\"ticks\":\"\"},\"colorscale\":[[0.0,\"#0d0887\"],[0.1111111111111111,\"#46039f\"],[0.2222222222222222,\"#7201a8\"],[0.3333333333333333,\"#9c179e\"],[0.4444444444444444,\"#bd3786\"],[0.5555555555555556,\"#d8576b\"],[0.6666666666666666,\"#ed7953\"],[0.7777777777777778,\"#fb9f3a\"],[0.8888888888888888,\"#fdca26\"],[1.0,\"#f0f921\"]]}],\"contourcarpet\":[{\"type\":\"contourcarpet\",\"colorbar\":{\"outlinewidth\":0,\"ticks\":\"\"}}],\"contour\":[{\"type\":\"contour\",\"colorbar\":{\"outlinewidth\":0,\"ticks\":\"\"},\"colorscale\":[[0.0,\"#0d0887\"],[0.1111111111111111,\"#46039f\"],[0.2222222222222222,\"#7201a8\"],[0.3333333333333333,\"#9c179e\"],[0.4444444444444444,\"#bd3786\"],[0.5555555555555556,\"#d8576b\"],[0.6666666666666666,\"#ed7953\"],[0.7777777777777778,\"#fb9f3a\"],[0.8888888888888888,\"#fdca26\"],[1.0,\"#f0f921\"]]}],\"surface\":[{\"type\":\"surface\",\"colorbar\":{\"outlinewidth\":0,\"ticks\":\"\"},\"colorscale\":[[0.0,\"#0d0887\"],[0.1111111111111111,\"#46039f\"],[0.2222222222222222,\"#7201a8\"],[0.3333333333333333,\"#9c179e\"],[0.4444444444444444,\"#bd3786\"],[0.5555555555555556,\"#d8576b\"],[0.6666666666666666,\"#ed7953\"],[0.7777777777777778,\"#fb9f3a\"],[0.8888888888888888,\"#fdca26\"],[1.0,\"#f0f921\"]]}],\"mesh3d\":[{\"type\":\"mesh3d\",\"colorbar\":{\"outlinewidth\":0,\"ticks\":\"\"}}],\"scatter\":[{\"fillpattern\":{\"fillmode\":\"overlay\",\"size\":10,\"solidity\":0.2},\"type\":\"scatter\"}],\"parcoords\":[{\"type\":\"parcoords\",\"line\":{\"colorbar\":{\"outlinewidth\":0,\"ticks\":\"\"}}}],\"scatterpolargl\":[{\"type\":\"scatterpolargl\",\"marker\":{\"colorbar\":{\"outlinewidth\":0,\"ticks\":\"\"}}}],\"bar\":[{\"error_x\":{\"color\":\"#2a3f5f\"},\"error_y\":{\"color\":\"#2a3f5f\"},\"marker\":{\"line\":{\"color\":\"#E5ECF6\",\"width\":0.5},\"pattern\":{\"fillmode\":\"overlay\",\"size\":10,\"solidity\":0.2}},\"type\":\"bar\"}],\"scattergeo\":[{\"type\":\"scattergeo\",\"marker\":{\"colorbar\":{\"outlinewidth\":0,\"ticks\":\"\"}}}],\"scatterpolar\":[{\"type\":\"scatterpolar\",\"marker\":{\"colorbar\":{\"outlinewidth\":0,\"ticks\":\"\"}}}],\"histogram\":[{\"marker\":{\"pattern\":{\"fillmode\":\"overlay\",\"size\":10,\"solidity\":0.2}},\"type\":\"histogram\"}],\"scattergl\":[{\"type\":\"scattergl\",\"marker\":{\"colorbar\":{\"outlinewidth\":0,\"ticks\":\"\"}}}],\"scatter3d\":[{\"type\":\"scatter3d\",\"line\":{\"colorbar\":{\"outlinewidth\":0,\"ticks\":\"\"}},\"marker\":{\"colorbar\":{\"outlinewidth\":0,\"ticks\":\"\"}}}],\"scattermapbox\":[{\"type\":\"scattermapbox\",\"marker\":{\"colorbar\":{\"outlinewidth\":0,\"ticks\":\"\"}}}],\"scatterternary\":[{\"type\":\"scatterternary\",\"marker\":{\"colorbar\":{\"outlinewidth\":0,\"ticks\":\"\"}}}],\"scattercarpet\":[{\"type\":\"scattercarpet\",\"marker\":{\"colorbar\":{\"outlinewidth\":0,\"ticks\":\"\"}}}],\"carpet\":[{\"aaxis\":{\"endlinecolor\":\"#2a3f5f\",\"gridcolor\":\"white\",\"linecolor\":\"white\",\"minorgridcolor\":\"white\",\"startlinecolor\":\"#2a3f5f\"},\"baxis\":{\"endlinecolor\":\"#2a3f5f\",\"gridcolor\":\"white\",\"linecolor\":\"white\",\"minorgridcolor\":\"white\",\"startlinecolor\":\"#2a3f5f\"},\"type\":\"carpet\"}],\"table\":[{\"cells\":{\"fill\":{\"color\":\"#EBF0F8\"},\"line\":{\"color\":\"white\"}},\"header\":{\"fill\":{\"color\":\"#C8D4E3\"},\"line\":{\"color\":\"white\"}},\"type\":\"table\"}],\"barpolar\":[{\"marker\":{\"line\":{\"color\":\"#E5ECF6\",\"width\":0.5},\"pattern\":{\"fillmode\":\"overlay\",\"size\":10,\"solidity\":0.2}},\"type\":\"barpolar\"}],\"pie\":[{\"automargin\":true,\"type\":\"pie\"}]},\"layout\":{\"autotypenumbers\":\"strict\",\"colorway\":[\"#636efa\",\"#EF553B\",\"#00cc96\",\"#ab63fa\",\"#FFA15A\",\"#19d3f3\",\"#FF6692\",\"#B6E880\",\"#FF97FF\",\"#FECB52\"],\"font\":{\"color\":\"#2a3f5f\"},\"hovermode\":\"closest\",\"hoverlabel\":{\"align\":\"left\"},\"paper_bgcolor\":\"white\",\"plot_bgcolor\":\"#E5ECF6\",\"polar\":{\"bgcolor\":\"#E5ECF6\",\"angularaxis\":{\"gridcolor\":\"white\",\"linecolor\":\"white\",\"ticks\":\"\"},\"radialaxis\":{\"gridcolor\":\"white\",\"linecolor\":\"white\",\"ticks\":\"\"}},\"ternary\":{\"bgcolor\":\"#E5ECF6\",\"aaxis\":{\"gridcolor\":\"white\",\"linecolor\":\"white\",\"ticks\":\"\"},\"baxis\":{\"gridcolor\":\"white\",\"linecolor\":\"white\",\"ticks\":\"\"},\"caxis\":{\"gridcolor\":\"white\",\"linecolor\":\"white\",\"ticks\":\"\"}},\"coloraxis\":{\"colorbar\":{\"outlinewidth\":0,\"ticks\":\"\"}},\"colorscale\":{\"sequential\":[[0.0,\"#0d0887\"],[0.1111111111111111,\"#46039f\"],[0.2222222222222222,\"#7201a8\"],[0.3333333333333333,\"#9c179e\"],[0.4444444444444444,\"#bd3786\"],[0.5555555555555556,\"#d8576b\"],[0.6666666666666666,\"#ed7953\"],[0.7777777777777778,\"#fb9f3a\"],[0.8888888888888888,\"#fdca26\"],[1.0,\"#f0f921\"]],\"sequentialminus\":[[0.0,\"#0d0887\"],[0.1111111111111111,\"#46039f\"],[0.2222222222222222,\"#7201a8\"],[0.3333333333333333,\"#9c179e\"],[0.4444444444444444,\"#bd3786\"],[0.5555555555555556,\"#d8576b\"],[0.6666666666666666,\"#ed7953\"],[0.7777777777777778,\"#fb9f3a\"],[0.8888888888888888,\"#fdca26\"],[1.0,\"#f0f921\"]],\"diverging\":[[0,\"#8e0152\"],[0.1,\"#c51b7d\"],[0.2,\"#de77ae\"],[0.3,\"#f1b6da\"],[0.4,\"#fde0ef\"],[0.5,\"#f7f7f7\"],[0.6,\"#e6f5d0\"],[0.7,\"#b8e186\"],[0.8,\"#7fbc41\"],[0.9,\"#4d9221\"],[1,\"#276419\"]]},\"xaxis\":{\"gridcolor\":\"white\",\"linecolor\":\"white\",\"ticks\":\"\",\"title\":{\"standoff\":15},\"zerolinecolor\":\"white\",\"automargin\":true,\"zerolinewidth\":2},\"yaxis\":{\"gridcolor\":\"white\",\"linecolor\":\"white\",\"ticks\":\"\",\"title\":{\"standoff\":15},\"zerolinecolor\":\"white\",\"automargin\":true,\"zerolinewidth\":2},\"scene\":{\"xaxis\":{\"backgroundcolor\":\"#E5ECF6\",\"gridcolor\":\"white\",\"linecolor\":\"white\",\"showbackground\":true,\"ticks\":\"\",\"zerolinecolor\":\"white\",\"gridwidth\":2},\"yaxis\":{\"backgroundcolor\":\"#E5ECF6\",\"gridcolor\":\"white\",\"linecolor\":\"white\",\"showbackground\":true,\"ticks\":\"\",\"zerolinecolor\":\"white\",\"gridwidth\":2},\"zaxis\":{\"backgroundcolor\":\"#E5ECF6\",\"gridcolor\":\"white\",\"linecolor\":\"white\",\"showbackground\":true,\"ticks\":\"\",\"zerolinecolor\":\"white\",\"gridwidth\":2}},\"shapedefaults\":{\"line\":{\"color\":\"#2a3f5f\"}},\"annotationdefaults\":{\"arrowcolor\":\"#2a3f5f\",\"arrowhead\":0,\"arrowwidth\":1},\"geo\":{\"bgcolor\":\"white\",\"landcolor\":\"#E5ECF6\",\"subunitcolor\":\"white\",\"showland\":true,\"showlakes\":true,\"lakecolor\":\"white\"},\"title\":{\"x\":0.05},\"mapbox\":{\"style\":\"light\"}}},\"xaxis\":{\"anchor\":\"y\",\"domain\":[0.0,0.31999999999999995],\"title\":{\"text\":\"NAZWISKO\"}},\"yaxis\":{\"anchor\":\"x\",\"domain\":[0.0,1.0],\"title\":{\"text\":\"faktury_per_osoba\"}},\"xaxis2\":{\"anchor\":\"y2\",\"domain\":[0.33999999999999997,0.6599999999999999],\"matches\":\"x\",\"title\":{\"text\":\"NAZWISKO\"}},\"yaxis2\":{\"anchor\":\"x2\",\"domain\":[0.0,1.0],\"matches\":\"y\",\"showticklabels\":false},\"xaxis3\":{\"anchor\":\"y3\",\"domain\":[0.6799999999999999,0.9999999999999999],\"matches\":\"x\",\"title\":{\"text\":\"NAZWISKO\"}},\"yaxis3\":{\"anchor\":\"x3\",\"domain\":[0.0,1.0],\"matches\":\"y\",\"showticklabels\":false},\"annotations\":[{\"font\":{},\"showarrow\":false,\"text\":\"year=2020\",\"x\":0.15999999999999998,\"xanchor\":\"center\",\"xref\":\"paper\",\"y\":1.0,\"yanchor\":\"bottom\",\"yref\":\"paper\"},{\"font\":{},\"showarrow\":false,\"text\":\"year=2021\",\"x\":0.49999999999999994,\"xanchor\":\"center\",\"xref\":\"paper\",\"y\":1.0,\"yanchor\":\"bottom\",\"yref\":\"paper\"},{\"font\":{},\"showarrow\":false,\"text\":\"year=2022\",\"x\":0.8399999999999999,\"xanchor\":\"center\",\"xref\":\"paper\",\"y\":1.0,\"yanchor\":\"bottom\",\"yref\":\"paper\"}],\"legend\":{\"tracegroupgap\":0},\"margin\":{\"t\":60},\"boxmode\":\"group\"},                        {\"responsive\": true}                    ).then(function(){\n",
       "                            \n",
       "var gd = document.getElementById('fd579987-86ad-4036-8afe-f48f8c487c6c');\n",
       "var x = new MutationObserver(function (mutations, observer) {{\n",
       "        var display = window.getComputedStyle(gd).display;\n",
       "        if (!display || display === 'none') {{\n",
       "            console.log([gd, 'removed!']);\n",
       "            Plotly.purge(gd);\n",
       "            observer.disconnect();\n",
       "        }}\n",
       "}});\n",
       "\n",
       "// Listen for the removal of the full notebook cells\n",
       "var notebookContainer = gd.closest('#notebook-container');\n",
       "if (notebookContainer) {{\n",
       "    x.observe(notebookContainer, {childList: true});\n",
       "}}\n",
       "\n",
       "// Listen for the clearing of the current output cell\n",
       "var outputEl = gd.closest('.output');\n",
       "if (outputEl) {{\n",
       "    x.observe(outputEl, {childList: true});\n",
       "}}\n",
       "\n",
       "                        })                };                });            </script>        </div>"
      ]
     },
     "metadata": {},
     "output_type": "display_data"
    },
    {
     "data": {
      "text/html": [
       "<div>\n",
       "<style scoped>\n",
       "    .dataframe tbody tr th:only-of-type {\n",
       "        vertical-align: middle;\n",
       "    }\n",
       "\n",
       "    .dataframe tbody tr th {\n",
       "        vertical-align: top;\n",
       "    }\n",
       "\n",
       "    .dataframe thead th {\n",
       "        text-align: right;\n",
       "    }\n",
       "</style>\n",
       "<table border=\"1\" class=\"dataframe\">\n",
       "  <thead>\n",
       "    <tr style=\"text-align: right;\">\n",
       "      <th></th>\n",
       "      <th></th>\n",
       "      <th>FAKTURA</th>\n",
       "      <th>faktury_per_osoba</th>\n",
       "    </tr>\n",
       "    <tr>\n",
       "      <th>year</th>\n",
       "      <th>NAZWISKO</th>\n",
       "      <th></th>\n",
       "      <th></th>\n",
       "    </tr>\n",
       "  </thead>\n",
       "  <tbody>\n",
       "    <tr>\n",
       "      <th rowspan=\"6\" valign=\"top\">2020</th>\n",
       "      <th>1</th>\n",
       "      <td>18.0</td>\n",
       "      <td>18.000000</td>\n",
       "    </tr>\n",
       "    <tr>\n",
       "      <th>2</th>\n",
       "      <td>43.5</td>\n",
       "      <td>21.750000</td>\n",
       "    </tr>\n",
       "    <tr>\n",
       "      <th>3</th>\n",
       "      <td>48.0</td>\n",
       "      <td>16.000000</td>\n",
       "    </tr>\n",
       "    <tr>\n",
       "      <th>4</th>\n",
       "      <td>67.0</td>\n",
       "      <td>16.750000</td>\n",
       "    </tr>\n",
       "    <tr>\n",
       "      <th>5</th>\n",
       "      <td>77.0</td>\n",
       "      <td>15.400000</td>\n",
       "    </tr>\n",
       "    <tr>\n",
       "      <th>6</th>\n",
       "      <td>85.0</td>\n",
       "      <td>14.166667</td>\n",
       "    </tr>\n",
       "    <tr>\n",
       "      <th rowspan=\"6\" valign=\"top\">2021</th>\n",
       "      <th>1</th>\n",
       "      <td>1.0</td>\n",
       "      <td>1.000000</td>\n",
       "    </tr>\n",
       "    <tr>\n",
       "      <th>3</th>\n",
       "      <td>52.0</td>\n",
       "      <td>17.333333</td>\n",
       "    </tr>\n",
       "    <tr>\n",
       "      <th>4</th>\n",
       "      <td>81.5</td>\n",
       "      <td>20.375000</td>\n",
       "    </tr>\n",
       "    <tr>\n",
       "      <th>5</th>\n",
       "      <td>86.0</td>\n",
       "      <td>17.200000</td>\n",
       "    </tr>\n",
       "    <tr>\n",
       "      <th>6</th>\n",
       "      <td>85.5</td>\n",
       "      <td>14.250000</td>\n",
       "    </tr>\n",
       "    <tr>\n",
       "      <th>7</th>\n",
       "      <td>64.0</td>\n",
       "      <td>9.142857</td>\n",
       "    </tr>\n",
       "    <tr>\n",
       "      <th rowspan=\"4\" valign=\"top\">2022</th>\n",
       "      <th>2</th>\n",
       "      <td>38.0</td>\n",
       "      <td>19.000000</td>\n",
       "    </tr>\n",
       "    <tr>\n",
       "      <th>3</th>\n",
       "      <td>71.5</td>\n",
       "      <td>23.833333</td>\n",
       "    </tr>\n",
       "    <tr>\n",
       "      <th>4</th>\n",
       "      <td>82.0</td>\n",
       "      <td>20.500000</td>\n",
       "    </tr>\n",
       "    <tr>\n",
       "      <th>5</th>\n",
       "      <td>80.0</td>\n",
       "      <td>16.000000</td>\n",
       "    </tr>\n",
       "  </tbody>\n",
       "</table>\n",
       "</div>"
      ],
      "text/plain": [
       "               FAKTURA  faktury_per_osoba\n",
       "year NAZWISKO                            \n",
       "2020 1            18.0          18.000000\n",
       "     2            43.5          21.750000\n",
       "     3            48.0          16.000000\n",
       "     4            67.0          16.750000\n",
       "     5            77.0          15.400000\n",
       "     6            85.0          14.166667\n",
       "2021 1             1.0           1.000000\n",
       "     3            52.0          17.333333\n",
       "     4            81.5          20.375000\n",
       "     5            86.0          17.200000\n",
       "     6            85.5          14.250000\n",
       "     7            64.0           9.142857\n",
       "2022 2            38.0          19.000000\n",
       "     3            71.5          23.833333\n",
       "     4            82.0          20.500000\n",
       "     5            80.0          16.000000"
      ]
     },
     "metadata": {},
     "output_type": "display_data"
    },
    {
     "data": {
      "text/html": [
       "<div>\n",
       "<style scoped>\n",
       "    .dataframe tbody tr th:only-of-type {\n",
       "        vertical-align: middle;\n",
       "    }\n",
       "\n",
       "    .dataframe tbody tr th {\n",
       "        vertical-align: top;\n",
       "    }\n",
       "\n",
       "    .dataframe thead tr th {\n",
       "        text-align: left;\n",
       "    }\n",
       "\n",
       "    .dataframe thead tr:last-of-type th {\n",
       "        text-align: right;\n",
       "    }\n",
       "</style>\n",
       "<table border=\"1\" class=\"dataframe\">\n",
       "  <thead>\n",
       "    <tr>\n",
       "      <th></th>\n",
       "      <th colspan=\"3\" halign=\"left\">FAKTURA</th>\n",
       "      <th colspan=\"3\" halign=\"left\">faktury_per_osoba</th>\n",
       "    </tr>\n",
       "    <tr>\n",
       "      <th>year</th>\n",
       "      <th>2020</th>\n",
       "      <th>2021</th>\n",
       "      <th>2022</th>\n",
       "      <th>2020</th>\n",
       "      <th>2021</th>\n",
       "      <th>2022</th>\n",
       "    </tr>\n",
       "    <tr>\n",
       "      <th>NAZWISKO</th>\n",
       "      <th></th>\n",
       "      <th></th>\n",
       "      <th></th>\n",
       "      <th></th>\n",
       "      <th></th>\n",
       "      <th></th>\n",
       "    </tr>\n",
       "  </thead>\n",
       "  <tbody>\n",
       "    <tr>\n",
       "      <th>1</th>\n",
       "      <td>18.0</td>\n",
       "      <td>1.0</td>\n",
       "      <td>NaN</td>\n",
       "      <td>18.000000</td>\n",
       "      <td>1.000000</td>\n",
       "      <td>NaN</td>\n",
       "    </tr>\n",
       "    <tr>\n",
       "      <th>2</th>\n",
       "      <td>43.5</td>\n",
       "      <td>NaN</td>\n",
       "      <td>38.0</td>\n",
       "      <td>21.750000</td>\n",
       "      <td>NaN</td>\n",
       "      <td>19.000000</td>\n",
       "    </tr>\n",
       "    <tr>\n",
       "      <th>3</th>\n",
       "      <td>48.0</td>\n",
       "      <td>52.0</td>\n",
       "      <td>71.5</td>\n",
       "      <td>16.000000</td>\n",
       "      <td>17.333333</td>\n",
       "      <td>23.833333</td>\n",
       "    </tr>\n",
       "    <tr>\n",
       "      <th>4</th>\n",
       "      <td>67.0</td>\n",
       "      <td>81.5</td>\n",
       "      <td>82.0</td>\n",
       "      <td>16.750000</td>\n",
       "      <td>20.375000</td>\n",
       "      <td>20.500000</td>\n",
       "    </tr>\n",
       "    <tr>\n",
       "      <th>5</th>\n",
       "      <td>77.0</td>\n",
       "      <td>86.0</td>\n",
       "      <td>80.0</td>\n",
       "      <td>15.400000</td>\n",
       "      <td>17.200000</td>\n",
       "      <td>16.000000</td>\n",
       "    </tr>\n",
       "    <tr>\n",
       "      <th>6</th>\n",
       "      <td>85.0</td>\n",
       "      <td>85.5</td>\n",
       "      <td>NaN</td>\n",
       "      <td>14.166667</td>\n",
       "      <td>14.250000</td>\n",
       "      <td>NaN</td>\n",
       "    </tr>\n",
       "    <tr>\n",
       "      <th>7</th>\n",
       "      <td>NaN</td>\n",
       "      <td>64.0</td>\n",
       "      <td>NaN</td>\n",
       "      <td>NaN</td>\n",
       "      <td>9.142857</td>\n",
       "      <td>NaN</td>\n",
       "    </tr>\n",
       "  </tbody>\n",
       "</table>\n",
       "</div>"
      ],
      "text/plain": [
       "         FAKTURA             faktury_per_osoba                      \n",
       "year        2020  2021  2022              2020       2021       2022\n",
       "NAZWISKO                                                            \n",
       "1           18.0   1.0   NaN         18.000000   1.000000        NaN\n",
       "2           43.5   NaN  38.0         21.750000        NaN  19.000000\n",
       "3           48.0  52.0  71.5         16.000000  17.333333  23.833333\n",
       "4           67.0  81.5  82.0         16.750000  20.375000  20.500000\n",
       "5           77.0  86.0  80.0         15.400000  17.200000  16.000000\n",
       "6           85.0  85.5   NaN         14.166667  14.250000        NaN\n",
       "7            NaN  64.0   NaN               NaN   9.142857        NaN"
      ]
     },
     "metadata": {},
     "output_type": "display_data"
    }
   ],
   "source": [
    "tmp=df_zamowienia.groupby(['czy_z_kuponow','Z_DNIA','year','month']).agg({'FAKTURA':'nunique',\n",
    "                                                          'NAZWISKO':'nunique'}).reset_index()\n",
    "tmp['faktury_per_osoba']=tmp['FAKTURA']/tmp['NAZWISKO']\n",
    "\n",
    "fig=px.box(tmp.loc[tmp['czy_z_kuponow']=='tak'].loc[tmp['month']<=6],\n",
    "      x='NAZWISKO',\n",
    "      y='FAKTURA',\n",
    "          facet_col='year')\n",
    "fig.show()\n",
    "fig=px.box(tmp.loc[tmp['czy_z_kuponow']=='tak'].loc[tmp['month']<=6],\n",
    "      x='NAZWISKO',\n",
    "      y='faktury_per_osoba',\n",
    "          facet_col='year')\n",
    "fig.show()\n",
    "\n",
    "display(tmp.loc[tmp['czy_z_kuponow']=='tak'].loc[tmp['month']<=6].groupby(['year','NAZWISKO']).agg({'FAKTURA':'median',\n",
    "                                                   'faktury_per_osoba':'median'}).head(50))\n",
    "\n",
    "display(tmp.loc[tmp['czy_z_kuponow']=='tak'].loc[tmp['month']<=6].groupby(['year','NAZWISKO']).agg({'FAKTURA':'median',\n",
    "                                                                                               'faktury_per_osoba':'median'}).reset_index().\\\n",
    "        pivot(columns='year', index='NAZWISKO',values=['FAKTURA','faktury_per_osoba']))"
   ]
  },
  {
   "cell_type": "code",
   "execution_count": null,
   "id": "b3fc13c7-f913-4aae-bebb-231b11743071",
   "metadata": {},
   "outputs": [],
   "source": [
    "tmp=df_zamowienia.groupby(['czy_z_kuponow','Z_DNIA']).agg({'FAKTURA':'nunique',\n",
    "                                                          'NAZWISKO':'nunique'}).reset_index()\n",
    "tmp['faktury_per_osoba']=tmp['FAKTURA']/tmp['NAZWISKO']"
   ]
  },
  {
   "cell_type": "code",
   "execution_count": 159,
   "id": "9ecafa87-7798-4739-8a16-484feb1f6366",
   "metadata": {},
   "outputs": [],
   "source": [
    "def func_raport_pivot(df, year1, year2, month, df_with_minutes_rcp):\n",
    "    df1=df.loc[df['year']==year1].loc[df['month'].isin(month)]\n",
    "    df2=df.loc[df['year']==year2].loc[df['month'].isin(month)]\n",
    "    df_with_minutes_rcp1=df_with_minutes_rcp.loc[df_with_minutes_rcp['year']==year1].loc[df_with_minutes_rcp['month'].isin(month)]\n",
    "    df_with_minutes_rcp2=df_with_minutes_rcp.loc[df_with_minutes_rcp['year']==year2].loc[df_with_minutes_rcp['month'].isin(month)]\n",
    "    \n",
    "    # display(pd.pivot_table(df1,\n",
    "    #               index='NAZWISKO',\n",
    "    #               columns=col,\n",
    "    #               aggfunc=np.sum()))\n",
    "    df_tmp1=df1.groupby(['NAZWISKO','month']).agg({'FAKTURA':'nunique'})\n",
    "    df_tmp1=df_tmp1.rename(columns={'FAKTURA':'FAKTURA_'+str(year1)})\n",
    "    df_tmp2=df2.groupby(['NAZWISKO','month']).agg({'FAKTURA':'nunique'})\n",
    "    df_tmp2=df_tmp2.rename(columns={'FAKTURA':'FAKTURA_'+str(year2)})\n",
    "    df_tmp1_rcp=df_with_minutes_rcp1.loc[df_with_minutes_rcp1['zadanie']=='KUPONY-OBSŁUGA'].groupby(['NAZWISKO','month']).agg({'ile_minut_czynnosc':'sum'})\n",
    "    df_tmp1_rcp=df_tmp1_rcp.rename(columns={'ile_minut_czynnosc':'ile_minut_czynnosc_'+str(year1)})\n",
    "    df_tmp2_rcp=df_with_minutes_rcp2.loc[df_with_minutes_rcp2['zadanie']=='KUPONY-OBSŁUGA'].groupby(['NAZWISKO','month']).agg({'ile_minut_czynnosc':'sum'})\n",
    "    df_tmp2_rcp=df_tmp2_rcp.rename(columns={'ile_minut_czynnosc':'ile_minut_czynnosc_'+str(year2)})\n",
    "    \n",
    "    display(df_tmp1.merge(df_tmp2,\n",
    "                         how='outer',\n",
    "                         left_index=True, right_index=True).\\\n",
    "                   merge(df_tmp1_rcp,\n",
    "                                 how='left',\n",
    "                                 left_index=True, right_index=True).\\\n",
    "                   merge(df_tmp2_rcp,\n",
    "                                 how='left',\n",
    "                                 left_index=True, right_index=True))\n",
    "    return"
   ]
  },
  {
   "cell_type": "code",
   "execution_count": 160,
   "id": "9c477957-9dff-44ae-bc03-85c37726038c",
   "metadata": {},
   "outputs": [
    {
     "data": {
      "text/html": [
       "<div>\n",
       "<style scoped>\n",
       "    .dataframe tbody tr th:only-of-type {\n",
       "        vertical-align: middle;\n",
       "    }\n",
       "\n",
       "    .dataframe tbody tr th {\n",
       "        vertical-align: top;\n",
       "    }\n",
       "\n",
       "    .dataframe thead th {\n",
       "        text-align: right;\n",
       "    }\n",
       "</style>\n",
       "<table border=\"1\" class=\"dataframe\">\n",
       "  <thead>\n",
       "    <tr style=\"text-align: right;\">\n",
       "      <th></th>\n",
       "      <th></th>\n",
       "      <th>FAKTURA_2021</th>\n",
       "      <th>FAKTURA_2022</th>\n",
       "      <th>ile_minut_czynnosc_2021</th>\n",
       "      <th>ile_minut_czynnosc_2022</th>\n",
       "    </tr>\n",
       "    <tr>\n",
       "      <th>NAZWISKO</th>\n",
       "      <th>month</th>\n",
       "      <th></th>\n",
       "      <th></th>\n",
       "      <th></th>\n",
       "      <th></th>\n",
       "    </tr>\n",
       "  </thead>\n",
       "  <tbody>\n",
       "    <tr>\n",
       "      <th rowspan=\"6\" valign=\"top\">A. BUŁAWA</th>\n",
       "      <th>1</th>\n",
       "      <td>1.0</td>\n",
       "      <td>325.0</td>\n",
       "      <td>NaN</td>\n",
       "      <td>9404</td>\n",
       "    </tr>\n",
       "    <tr>\n",
       "      <th>2</th>\n",
       "      <td>1.0</td>\n",
       "      <td>411.0</td>\n",
       "      <td>NaN</td>\n",
       "      <td>9414</td>\n",
       "    </tr>\n",
       "    <tr>\n",
       "      <th>3</th>\n",
       "      <td>5.0</td>\n",
       "      <td>472.0</td>\n",
       "      <td>NaN</td>\n",
       "      <td>10842</td>\n",
       "    </tr>\n",
       "    <tr>\n",
       "      <th>4</th>\n",
       "      <td>2.0</td>\n",
       "      <td>288.0</td>\n",
       "      <td>NaN</td>\n",
       "      <td>7947</td>\n",
       "    </tr>\n",
       "    <tr>\n",
       "      <th>5</th>\n",
       "      <td>NaN</td>\n",
       "      <td>349.0</td>\n",
       "      <td>NaN</td>\n",
       "      <td>8761</td>\n",
       "    </tr>\n",
       "    <tr>\n",
       "      <th>6</th>\n",
       "      <td>412.0</td>\n",
       "      <td>441.0</td>\n",
       "      <td>9113</td>\n",
       "      <td>9391</td>\n",
       "    </tr>\n",
       "    <tr>\n",
       "      <th rowspan=\"6\" valign=\"top\">B. DURAJ</th>\n",
       "      <th>1</th>\n",
       "      <td>360.0</td>\n",
       "      <td>382.0</td>\n",
       "      <td>9712</td>\n",
       "      <td>9441</td>\n",
       "    </tr>\n",
       "    <tr>\n",
       "      <th>2</th>\n",
       "      <td>534.0</td>\n",
       "      <td>318.0</td>\n",
       "      <td>8698</td>\n",
       "      <td>7952</td>\n",
       "    </tr>\n",
       "    <tr>\n",
       "      <th>3</th>\n",
       "      <td>769.0</td>\n",
       "      <td>516.0</td>\n",
       "      <td>12921</td>\n",
       "      <td>8912</td>\n",
       "    </tr>\n",
       "    <tr>\n",
       "      <th>4</th>\n",
       "      <td>509.0</td>\n",
       "      <td>595.0</td>\n",
       "      <td>9091</td>\n",
       "      <td>9286</td>\n",
       "    </tr>\n",
       "    <tr>\n",
       "      <th>5</th>\n",
       "      <td>417.0</td>\n",
       "      <td>444.0</td>\n",
       "      <td>9682</td>\n",
       "      <td>9825</td>\n",
       "    </tr>\n",
       "    <tr>\n",
       "      <th>6</th>\n",
       "      <td>408.0</td>\n",
       "      <td>401.0</td>\n",
       "      <td>10082</td>\n",
       "      <td>6933</td>\n",
       "    </tr>\n",
       "    <tr>\n",
       "      <th rowspan=\"6\" valign=\"top\">E. KUBIENIEC</th>\n",
       "      <th>1</th>\n",
       "      <td>171.0</td>\n",
       "      <td>76.0</td>\n",
       "      <td>9829</td>\n",
       "      <td>6128</td>\n",
       "    </tr>\n",
       "    <tr>\n",
       "      <th>2</th>\n",
       "      <td>140.0</td>\n",
       "      <td>136.0</td>\n",
       "      <td>8239</td>\n",
       "      <td>7959</td>\n",
       "    </tr>\n",
       "    <tr>\n",
       "      <th>3</th>\n",
       "      <td>378.0</td>\n",
       "      <td>281.0</td>\n",
       "      <td>10998</td>\n",
       "      <td>10456</td>\n",
       "    </tr>\n",
       "    <tr>\n",
       "      <th>4</th>\n",
       "      <td>201.0</td>\n",
       "      <td>169.0</td>\n",
       "      <td>9274</td>\n",
       "      <td>7968</td>\n",
       "    </tr>\n",
       "    <tr>\n",
       "      <th>5</th>\n",
       "      <td>229.0</td>\n",
       "      <td>126.0</td>\n",
       "      <td>9867</td>\n",
       "      <td>5378</td>\n",
       "    </tr>\n",
       "    <tr>\n",
       "      <th>6</th>\n",
       "      <td>146.0</td>\n",
       "      <td>108.0</td>\n",
       "      <td>6993</td>\n",
       "      <td>4387</td>\n",
       "    </tr>\n",
       "    <tr>\n",
       "      <th rowspan=\"5\" valign=\"top\">I. DRABEK</th>\n",
       "      <th>2</th>\n",
       "      <td>3.0</td>\n",
       "      <td>NaN</td>\n",
       "      <td>NaN</td>\n",
       "      <td>NaN</td>\n",
       "    </tr>\n",
       "    <tr>\n",
       "      <th>3</th>\n",
       "      <td>3.0</td>\n",
       "      <td>NaN</td>\n",
       "      <td>NaN</td>\n",
       "      <td>NaN</td>\n",
       "    </tr>\n",
       "    <tr>\n",
       "      <th>4</th>\n",
       "      <td>4.0</td>\n",
       "      <td>NaN</td>\n",
       "      <td>NaN</td>\n",
       "      <td>NaN</td>\n",
       "    </tr>\n",
       "    <tr>\n",
       "      <th>5</th>\n",
       "      <td>13.0</td>\n",
       "      <td>NaN</td>\n",
       "      <td>NaN</td>\n",
       "      <td>NaN</td>\n",
       "    </tr>\n",
       "    <tr>\n",
       "      <th>6</th>\n",
       "      <td>3.0</td>\n",
       "      <td>NaN</td>\n",
       "      <td>NaN</td>\n",
       "      <td>NaN</td>\n",
       "    </tr>\n",
       "    <tr>\n",
       "      <th rowspan=\"6\" valign=\"top\">I. PAŁOSZ</th>\n",
       "      <th>1</th>\n",
       "      <td>237.0</td>\n",
       "      <td>NaN</td>\n",
       "      <td>9618</td>\n",
       "      <td>NaN</td>\n",
       "    </tr>\n",
       "    <tr>\n",
       "      <th>2</th>\n",
       "      <td>215.0</td>\n",
       "      <td>NaN</td>\n",
       "      <td>7606</td>\n",
       "      <td>NaN</td>\n",
       "    </tr>\n",
       "    <tr>\n",
       "      <th>3</th>\n",
       "      <td>385.0</td>\n",
       "      <td>NaN</td>\n",
       "      <td>11657</td>\n",
       "      <td>NaN</td>\n",
       "    </tr>\n",
       "    <tr>\n",
       "      <th>4</th>\n",
       "      <td>224.0</td>\n",
       "      <td>NaN</td>\n",
       "      <td>9610</td>\n",
       "      <td>NaN</td>\n",
       "    </tr>\n",
       "    <tr>\n",
       "      <th>5</th>\n",
       "      <td>342.0</td>\n",
       "      <td>NaN</td>\n",
       "      <td>8579</td>\n",
       "      <td>NaN</td>\n",
       "    </tr>\n",
       "    <tr>\n",
       "      <th>6</th>\n",
       "      <td>38.0</td>\n",
       "      <td>NaN</td>\n",
       "      <td>1505</td>\n",
       "      <td>NaN</td>\n",
       "    </tr>\n",
       "    <tr>\n",
       "      <th rowspan=\"6\" valign=\"top\">J. SEMIK</th>\n",
       "      <th>1</th>\n",
       "      <td>298.0</td>\n",
       "      <td>378.0</td>\n",
       "      <td>9583</td>\n",
       "      <td>9407</td>\n",
       "    </tr>\n",
       "    <tr>\n",
       "      <th>2</th>\n",
       "      <td>424.0</td>\n",
       "      <td>473.0</td>\n",
       "      <td>9422</td>\n",
       "      <td>8949</td>\n",
       "    </tr>\n",
       "    <tr>\n",
       "      <th>3</th>\n",
       "      <td>648.0</td>\n",
       "      <td>620.0</td>\n",
       "      <td>12717</td>\n",
       "      <td>10592</td>\n",
       "    </tr>\n",
       "    <tr>\n",
       "      <th>4</th>\n",
       "      <td>461.0</td>\n",
       "      <td>367.0</td>\n",
       "      <td>9117</td>\n",
       "      <td>8431</td>\n",
       "    </tr>\n",
       "    <tr>\n",
       "      <th>5</th>\n",
       "      <td>488.0</td>\n",
       "      <td>373.0</td>\n",
       "      <td>9592</td>\n",
       "      <td>8592</td>\n",
       "    </tr>\n",
       "    <tr>\n",
       "      <th>6</th>\n",
       "      <td>457.0</td>\n",
       "      <td>453.0</td>\n",
       "      <td>9535</td>\n",
       "      <td>7903</td>\n",
       "    </tr>\n",
       "    <tr>\n",
       "      <th rowspan=\"6\" valign=\"top\">M. PSZCZÓŁKA</th>\n",
       "      <th>1</th>\n",
       "      <td>246.0</td>\n",
       "      <td>NaN</td>\n",
       "      <td>9587</td>\n",
       "      <td>NaN</td>\n",
       "    </tr>\n",
       "    <tr>\n",
       "      <th>2</th>\n",
       "      <td>349.0</td>\n",
       "      <td>NaN</td>\n",
       "      <td>9506</td>\n",
       "      <td>NaN</td>\n",
       "    </tr>\n",
       "    <tr>\n",
       "      <th>3</th>\n",
       "      <td>438.0</td>\n",
       "      <td>NaN</td>\n",
       "      <td>12158</td>\n",
       "      <td>NaN</td>\n",
       "    </tr>\n",
       "    <tr>\n",
       "      <th>4</th>\n",
       "      <td>351.0</td>\n",
       "      <td>NaN</td>\n",
       "      <td>9680</td>\n",
       "      <td>NaN</td>\n",
       "    </tr>\n",
       "    <tr>\n",
       "      <th>5</th>\n",
       "      <td>306.0</td>\n",
       "      <td>NaN</td>\n",
       "      <td>9077</td>\n",
       "      <td>NaN</td>\n",
       "    </tr>\n",
       "    <tr>\n",
       "      <th>6</th>\n",
       "      <td>92.0</td>\n",
       "      <td>NaN</td>\n",
       "      <td>3072</td>\n",
       "      <td>NaN</td>\n",
       "    </tr>\n",
       "    <tr>\n",
       "      <th rowspan=\"6\" valign=\"top\">R. KASPEREK</th>\n",
       "      <th>1</th>\n",
       "      <td>2.0</td>\n",
       "      <td>144.0</td>\n",
       "      <td>NaN</td>\n",
       "      <td>9408</td>\n",
       "    </tr>\n",
       "    <tr>\n",
       "      <th>2</th>\n",
       "      <td>3.0</td>\n",
       "      <td>164.0</td>\n",
       "      <td>NaN</td>\n",
       "      <td>9422</td>\n",
       "    </tr>\n",
       "    <tr>\n",
       "      <th>3</th>\n",
       "      <td>4.0</td>\n",
       "      <td>378.0</td>\n",
       "      <td>NaN</td>\n",
       "      <td>9875</td>\n",
       "    </tr>\n",
       "    <tr>\n",
       "      <th>4</th>\n",
       "      <td>2.0</td>\n",
       "      <td>299.0</td>\n",
       "      <td>NaN</td>\n",
       "      <td>8288</td>\n",
       "    </tr>\n",
       "    <tr>\n",
       "      <th>5</th>\n",
       "      <td>2.0</td>\n",
       "      <td>282.0</td>\n",
       "      <td>NaN</td>\n",
       "      <td>8567</td>\n",
       "    </tr>\n",
       "    <tr>\n",
       "      <th>6</th>\n",
       "      <td>75.0</td>\n",
       "      <td>110.0</td>\n",
       "      <td>4169</td>\n",
       "      <td>4203</td>\n",
       "    </tr>\n",
       "  </tbody>\n",
       "</table>\n",
       "</div>"
      ],
      "text/plain": [
       "                    FAKTURA_2021  FAKTURA_2022 ile_minut_czynnosc_2021  \\\n",
       "NAZWISKO     month                                                       \n",
       "A. BUŁAWA    1               1.0         325.0                     NaN   \n",
       "             2               1.0         411.0                     NaN   \n",
       "             3               5.0         472.0                     NaN   \n",
       "             4               2.0         288.0                     NaN   \n",
       "             5               NaN         349.0                     NaN   \n",
       "             6             412.0         441.0                    9113   \n",
       "B. DURAJ     1             360.0         382.0                    9712   \n",
       "             2             534.0         318.0                    8698   \n",
       "             3             769.0         516.0                   12921   \n",
       "             4             509.0         595.0                    9091   \n",
       "             5             417.0         444.0                    9682   \n",
       "             6             408.0         401.0                   10082   \n",
       "E. KUBIENIEC 1             171.0          76.0                    9829   \n",
       "             2             140.0         136.0                    8239   \n",
       "             3             378.0         281.0                   10998   \n",
       "             4             201.0         169.0                    9274   \n",
       "             5             229.0         126.0                    9867   \n",
       "             6             146.0         108.0                    6993   \n",
       "I. DRABEK    2               3.0           NaN                     NaN   \n",
       "             3               3.0           NaN                     NaN   \n",
       "             4               4.0           NaN                     NaN   \n",
       "             5              13.0           NaN                     NaN   \n",
       "             6               3.0           NaN                     NaN   \n",
       "I. PAŁOSZ    1             237.0           NaN                    9618   \n",
       "             2             215.0           NaN                    7606   \n",
       "             3             385.0           NaN                   11657   \n",
       "             4             224.0           NaN                    9610   \n",
       "             5             342.0           NaN                    8579   \n",
       "             6              38.0           NaN                    1505   \n",
       "J. SEMIK     1             298.0         378.0                    9583   \n",
       "             2             424.0         473.0                    9422   \n",
       "             3             648.0         620.0                   12717   \n",
       "             4             461.0         367.0                    9117   \n",
       "             5             488.0         373.0                    9592   \n",
       "             6             457.0         453.0                    9535   \n",
       "M. PSZCZÓŁKA 1             246.0           NaN                    9587   \n",
       "             2             349.0           NaN                    9506   \n",
       "             3             438.0           NaN                   12158   \n",
       "             4             351.0           NaN                    9680   \n",
       "             5             306.0           NaN                    9077   \n",
       "             6              92.0           NaN                    3072   \n",
       "R. KASPEREK  1               2.0         144.0                     NaN   \n",
       "             2               3.0         164.0                     NaN   \n",
       "             3               4.0         378.0                     NaN   \n",
       "             4               2.0         299.0                     NaN   \n",
       "             5               2.0         282.0                     NaN   \n",
       "             6              75.0         110.0                    4169   \n",
       "\n",
       "                   ile_minut_czynnosc_2022  \n",
       "NAZWISKO     month                          \n",
       "A. BUŁAWA    1                        9404  \n",
       "             2                        9414  \n",
       "             3                       10842  \n",
       "             4                        7947  \n",
       "             5                        8761  \n",
       "             6                        9391  \n",
       "B. DURAJ     1                        9441  \n",
       "             2                        7952  \n",
       "             3                        8912  \n",
       "             4                        9286  \n",
       "             5                        9825  \n",
       "             6                        6933  \n",
       "E. KUBIENIEC 1                        6128  \n",
       "             2                        7959  \n",
       "             3                       10456  \n",
       "             4                        7968  \n",
       "             5                        5378  \n",
       "             6                        4387  \n",
       "I. DRABEK    2                         NaN  \n",
       "             3                         NaN  \n",
       "             4                         NaN  \n",
       "             5                         NaN  \n",
       "             6                         NaN  \n",
       "I. PAŁOSZ    1                         NaN  \n",
       "             2                         NaN  \n",
       "             3                         NaN  \n",
       "             4                         NaN  \n",
       "             5                         NaN  \n",
       "             6                         NaN  \n",
       "J. SEMIK     1                        9407  \n",
       "             2                        8949  \n",
       "             3                       10592  \n",
       "             4                        8431  \n",
       "             5                        8592  \n",
       "             6                        7903  \n",
       "M. PSZCZÓŁKA 1                         NaN  \n",
       "             2                         NaN  \n",
       "             3                         NaN  \n",
       "             4                         NaN  \n",
       "             5                         NaN  \n",
       "             6                         NaN  \n",
       "R. KASPEREK  1                        9408  \n",
       "             2                        9422  \n",
       "             3                        9875  \n",
       "             4                        8288  \n",
       "             5                        8567  \n",
       "             6                        4203  "
      ]
     },
     "metadata": {},
     "output_type": "display_data"
    }
   ],
   "source": [
    "func_raport_pivot(df_zamowienia.loc[df_zamowienia['czy_z_kuponow']=='tak'], 2021, 2022, [1,2,3,4,5,6], df_with_minutes_rcp)"
   ]
  },
  {
   "cell_type": "code",
   "execution_count": 128,
   "id": "1be8e390-debd-4ca4-be49-ee46872d6a7a",
   "metadata": {},
   "outputs": [
    {
     "data": {
      "text/plain": [
       "163318"
      ]
     },
     "execution_count": 128,
     "metadata": {},
     "output_type": "execute_result"
    }
   ],
   "source": [
    "df_zamowienia['FAKTURA'].nunique()"
   ]
  },
  {
   "cell_type": "code",
   "execution_count": 152,
   "id": "04569e77-cd19-42ce-abe7-d67af0da4527",
   "metadata": {},
   "outputs": [
    {
     "data": {
      "text/html": [
       "<div>\n",
       "<style scoped>\n",
       "    .dataframe tbody tr th:only-of-type {\n",
       "        vertical-align: middle;\n",
       "    }\n",
       "\n",
       "    .dataframe tbody tr th {\n",
       "        vertical-align: top;\n",
       "    }\n",
       "\n",
       "    .dataframe thead th {\n",
       "        text-align: right;\n",
       "    }\n",
       "</style>\n",
       "<table border=\"1\" class=\"dataframe\">\n",
       "  <thead>\n",
       "    <tr style=\"text-align: right;\">\n",
       "      <th></th>\n",
       "      <th>ID_ZAD</th>\n",
       "      <th>DATA</th>\n",
       "      <th>ROZ_DNIA</th>\n",
       "      <th>ZAK_DNIA</th>\n",
       "      <th>GODZ_PL</th>\n",
       "      <th>DATA_ROZ</th>\n",
       "      <th>GODZ_ROZ</th>\n",
       "      <th>DATA_ZAK</th>\n",
       "      <th>GODZ_ZAK</th>\n",
       "      <th>KOD_OPER</th>\n",
       "      <th>date_start</th>\n",
       "      <th>date_finish</th>\n",
       "      <th>ZADANIE</th>\n",
       "      <th>NAZWISKO</th>\n",
       "    </tr>\n",
       "  </thead>\n",
       "  <tbody>\n",
       "    <tr>\n",
       "      <th>15591</th>\n",
       "      <td>ZP0000000023</td>\n",
       "      <td>2020-01-02</td>\n",
       "      <td></td>\n",
       "      <td></td>\n",
       "      <td></td>\n",
       "      <td>20/01/29</td>\n",
       "      <td>06:00:00</td>\n",
       "      <td>20/01/29</td>\n",
       "      <td>14:00:00</td>\n",
       "      <td>506</td>\n",
       "      <td>2020-01-02 06:00:00</td>\n",
       "      <td>2020-01-02 14:00:00</td>\n",
       "      <td>URLOP</td>\n",
       "      <td>M. PSZCZÓŁKA</td>\n",
       "    </tr>\n",
       "    <tr>\n",
       "      <th>1689</th>\n",
       "      <td>ZP0000000952</td>\n",
       "      <td>2020-01-03</td>\n",
       "      <td></td>\n",
       "      <td></td>\n",
       "      <td></td>\n",
       "      <td>20/01/03</td>\n",
       "      <td>07:30:25</td>\n",
       "      <td>20/01/03</td>\n",
       "      <td>16:00:35</td>\n",
       "      <td>506</td>\n",
       "      <td>2020-01-03 07:30:00</td>\n",
       "      <td>2020-01-03 16:00:00</td>\n",
       "      <td>KUPONY-OBSŁUGA</td>\n",
       "      <td>M. PSZCZÓŁKA</td>\n",
       "    </tr>\n",
       "    <tr>\n",
       "      <th>3984</th>\n",
       "      <td>ZP0000000952</td>\n",
       "      <td>2020-01-07</td>\n",
       "      <td></td>\n",
       "      <td></td>\n",
       "      <td></td>\n",
       "      <td>20/01/07</td>\n",
       "      <td>07:30:44</td>\n",
       "      <td>20/01/07</td>\n",
       "      <td>16:30:16</td>\n",
       "      <td>506</td>\n",
       "      <td>2020-01-07 07:30:00</td>\n",
       "      <td>2020-01-07 16:30:00</td>\n",
       "      <td>KUPONY-OBSŁUGA</td>\n",
       "      <td>M. PSZCZÓŁKA</td>\n",
       "    </tr>\n",
       "    <tr>\n",
       "      <th>1201</th>\n",
       "      <td>ZP0000000952</td>\n",
       "      <td>2020-01-08</td>\n",
       "      <td></td>\n",
       "      <td></td>\n",
       "      <td></td>\n",
       "      <td>20/01/08</td>\n",
       "      <td>07:37:17</td>\n",
       "      <td>20/01/08</td>\n",
       "      <td>15:59:54</td>\n",
       "      <td>506</td>\n",
       "      <td>2020-01-08 07:37:00</td>\n",
       "      <td>2020-01-08 15:59:00</td>\n",
       "      <td>KUPONY-OBSŁUGA</td>\n",
       "      <td>M. PSZCZÓŁKA</td>\n",
       "    </tr>\n",
       "    <tr>\n",
       "      <th>5684</th>\n",
       "      <td>ZP0000000952</td>\n",
       "      <td>2020-01-09</td>\n",
       "      <td></td>\n",
       "      <td></td>\n",
       "      <td></td>\n",
       "      <td>20/01/09</td>\n",
       "      <td>07:42:21</td>\n",
       "      <td>20/01/09</td>\n",
       "      <td>16:29:56</td>\n",
       "      <td>506</td>\n",
       "      <td>2020-01-09 07:42:00</td>\n",
       "      <td>2020-01-09 16:29:00</td>\n",
       "      <td>KUPONY-OBSŁUGA</td>\n",
       "      <td>M. PSZCZÓŁKA</td>\n",
       "    </tr>\n",
       "    <tr>\n",
       "      <th>...</th>\n",
       "      <td>...</td>\n",
       "      <td>...</td>\n",
       "      <td>...</td>\n",
       "      <td>...</td>\n",
       "      <td>...</td>\n",
       "      <td>...</td>\n",
       "      <td>...</td>\n",
       "      <td>...</td>\n",
       "      <td>...</td>\n",
       "      <td>...</td>\n",
       "      <td>...</td>\n",
       "      <td>...</td>\n",
       "      <td>...</td>\n",
       "      <td>...</td>\n",
       "    </tr>\n",
       "    <tr>\n",
       "      <th>428394</th>\n",
       "      <td>ZP0000045804</td>\n",
       "      <td>2021-11-05</td>\n",
       "      <td></td>\n",
       "      <td></td>\n",
       "      <td></td>\n",
       "      <td>21/11/05</td>\n",
       "      <td>06:00:00</td>\n",
       "      <td>21/11/05</td>\n",
       "      <td>14:00:00</td>\n",
       "      <td>506</td>\n",
       "      <td>2021-11-05 06:00:00</td>\n",
       "      <td>2021-11-05 14:00:00</td>\n",
       "      <td>ZASIŁEK</td>\n",
       "      <td>M. PSZCZÓŁKA</td>\n",
       "    </tr>\n",
       "    <tr>\n",
       "      <th>428395</th>\n",
       "      <td>ZP0000045804</td>\n",
       "      <td>2021-11-08</td>\n",
       "      <td></td>\n",
       "      <td></td>\n",
       "      <td></td>\n",
       "      <td>21/11/08</td>\n",
       "      <td>06:00:00</td>\n",
       "      <td>21/11/08</td>\n",
       "      <td>14:00:00</td>\n",
       "      <td>506</td>\n",
       "      <td>2021-11-08 06:00:00</td>\n",
       "      <td>2021-11-08 14:00:00</td>\n",
       "      <td>ZASIŁEK</td>\n",
       "      <td>M. PSZCZÓŁKA</td>\n",
       "    </tr>\n",
       "    <tr>\n",
       "      <th>428396</th>\n",
       "      <td>ZP0000045804</td>\n",
       "      <td>2021-11-09</td>\n",
       "      <td></td>\n",
       "      <td></td>\n",
       "      <td></td>\n",
       "      <td>21/11/09</td>\n",
       "      <td>06:00:00</td>\n",
       "      <td>21/11/09</td>\n",
       "      <td>14:00:00</td>\n",
       "      <td>506</td>\n",
       "      <td>2021-11-09 06:00:00</td>\n",
       "      <td>2021-11-09 14:00:00</td>\n",
       "      <td>ZASIŁEK</td>\n",
       "      <td>M. PSZCZÓŁKA</td>\n",
       "    </tr>\n",
       "    <tr>\n",
       "      <th>428397</th>\n",
       "      <td>ZP0000045804</td>\n",
       "      <td>2021-11-10</td>\n",
       "      <td></td>\n",
       "      <td></td>\n",
       "      <td></td>\n",
       "      <td>21/11/10</td>\n",
       "      <td>06:00:00</td>\n",
       "      <td>21/11/10</td>\n",
       "      <td>14:00:00</td>\n",
       "      <td>506</td>\n",
       "      <td>2021-11-10 06:00:00</td>\n",
       "      <td>2021-11-10 14:00:00</td>\n",
       "      <td>ZASIŁEK</td>\n",
       "      <td>M. PSZCZÓŁKA</td>\n",
       "    </tr>\n",
       "    <tr>\n",
       "      <th>428398</th>\n",
       "      <td>ZP0000045804</td>\n",
       "      <td>2021-11-12</td>\n",
       "      <td></td>\n",
       "      <td></td>\n",
       "      <td></td>\n",
       "      <td>21/11/12</td>\n",
       "      <td>06:00:00</td>\n",
       "      <td>21/11/12</td>\n",
       "      <td>14:00:00</td>\n",
       "      <td>506</td>\n",
       "      <td>2021-11-12 06:00:00</td>\n",
       "      <td>2021-11-12 14:00:00</td>\n",
       "      <td>ZASIŁEK</td>\n",
       "      <td>M. PSZCZÓŁKA</td>\n",
       "    </tr>\n",
       "  </tbody>\n",
       "</table>\n",
       "<p>476 rows × 14 columns</p>\n",
       "</div>"
      ],
      "text/plain": [
       "              ID_ZAD       DATA ROZ_DNIA ZAK_DNIA GODZ_PL  DATA_ROZ  GODZ_ROZ  \\\n",
       "15591   ZP0000000023 2020-01-02                            20/01/29  06:00:00   \n",
       "1689    ZP0000000952 2020-01-03                            20/01/03  07:30:25   \n",
       "3984    ZP0000000952 2020-01-07                            20/01/07  07:30:44   \n",
       "1201    ZP0000000952 2020-01-08                            20/01/08  07:37:17   \n",
       "5684    ZP0000000952 2020-01-09                            20/01/09  07:42:21   \n",
       "...              ...        ...      ...      ...     ...       ...       ...   \n",
       "428394  ZP0000045804 2021-11-05                            21/11/05  06:00:00   \n",
       "428395  ZP0000045804 2021-11-08                            21/11/08  06:00:00   \n",
       "428396  ZP0000045804 2021-11-09                            21/11/09  06:00:00   \n",
       "428397  ZP0000045804 2021-11-10                            21/11/10  06:00:00   \n",
       "428398  ZP0000045804 2021-11-12                            21/11/12  06:00:00   \n",
       "\n",
       "        DATA_ZAK  GODZ_ZAK  KOD_OPER          date_start         date_finish  \\\n",
       "15591   20/01/29  14:00:00       506 2020-01-02 06:00:00 2020-01-02 14:00:00   \n",
       "1689    20/01/03  16:00:35       506 2020-01-03 07:30:00 2020-01-03 16:00:00   \n",
       "3984    20/01/07  16:30:16       506 2020-01-07 07:30:00 2020-01-07 16:30:00   \n",
       "1201    20/01/08  15:59:54       506 2020-01-08 07:37:00 2020-01-08 15:59:00   \n",
       "5684    20/01/09  16:29:56       506 2020-01-09 07:42:00 2020-01-09 16:29:00   \n",
       "...          ...       ...       ...                 ...                 ...   \n",
       "428394  21/11/05  14:00:00       506 2021-11-05 06:00:00 2021-11-05 14:00:00   \n",
       "428395  21/11/08  14:00:00       506 2021-11-08 06:00:00 2021-11-08 14:00:00   \n",
       "428396  21/11/09  14:00:00       506 2021-11-09 06:00:00 2021-11-09 14:00:00   \n",
       "428397  21/11/10  14:00:00       506 2021-11-10 06:00:00 2021-11-10 14:00:00   \n",
       "428398  21/11/12  14:00:00       506 2021-11-12 06:00:00 2021-11-12 14:00:00   \n",
       "\n",
       "               ZADANIE      NAZWISKO  \n",
       "15591            URLOP  M. PSZCZÓŁKA  \n",
       "1689    KUPONY-OBSŁUGA  M. PSZCZÓŁKA  \n",
       "3984    KUPONY-OBSŁUGA  M. PSZCZÓŁKA  \n",
       "1201    KUPONY-OBSŁUGA  M. PSZCZÓŁKA  \n",
       "5684    KUPONY-OBSŁUGA  M. PSZCZÓŁKA  \n",
       "...                ...           ...  \n",
       "428394         ZASIŁEK  M. PSZCZÓŁKA  \n",
       "428395         ZASIŁEK  M. PSZCZÓŁKA  \n",
       "428396         ZASIŁEK  M. PSZCZÓŁKA  \n",
       "428397         ZASIŁEK  M. PSZCZÓŁKA  \n",
       "428398         ZASIŁEK  M. PSZCZÓŁKA  \n",
       "\n",
       "[476 rows x 14 columns]"
      ]
     },
     "execution_count": 152,
     "metadata": {},
     "output_type": "execute_result"
    }
   ],
   "source": [
    "df_rcp.loc[df_rcp['NAZWISKO']=='M. PSZCZÓŁKA'].sort_values(by='DATA')"
   ]
  },
  {
   "cell_type": "code",
   "execution_count": 182,
   "id": "e176fec2-f6e9-4b49-9427-6360b7cde6c2",
   "metadata": {},
   "outputs": [
    {
     "data": {
      "text/html": [
       "<div>\n",
       "<style scoped>\n",
       "    .dataframe tbody tr th:only-of-type {\n",
       "        vertical-align: middle;\n",
       "    }\n",
       "\n",
       "    .dataframe tbody tr th {\n",
       "        vertical-align: top;\n",
       "    }\n",
       "\n",
       "    .dataframe thead th {\n",
       "        text-align: right;\n",
       "    }\n",
       "</style>\n",
       "<table border=\"1\" class=\"dataframe\">\n",
       "  <thead>\n",
       "    <tr style=\"text-align: right;\">\n",
       "      <th></th>\n",
       "      <th>RECNO</th>\n",
       "      <th>IS_DELETED</th>\n",
       "      <th>ID_ZAD</th>\n",
       "      <th>ID_ZAD_PG</th>\n",
       "      <th>ID_ZAD_IND</th>\n",
       "      <th>ID_ZAD_DOD</th>\n",
       "      <th>DATA</th>\n",
       "      <th>ROZ_DNIA</th>\n",
       "      <th>ZAK_DNIA</th>\n",
       "      <th>GODZ_PL</th>\n",
       "      <th>DATA_ROZ</th>\n",
       "      <th>GODZ_ROZ</th>\n",
       "      <th>DATA_ZAK</th>\n",
       "      <th>GODZ_ZAK</th>\n",
       "      <th>KOD_OPER</th>\n",
       "      <th>IE$0</th>\n",
       "      <th>IE$1</th>\n",
       "      <th>IE$2</th>\n",
       "      <th>IE$3</th>\n",
       "      <th>DATA_DNIA</th>\n",
       "      <th>IE$4</th>\n",
       "      <th>IE$5</th>\n",
       "      <th>KOD_GR_RCP</th>\n",
       "      <th>IL_JEDN</th>\n",
       "      <th>ID_DOK</th>\n",
       "      <th>NR_DOK</th>\n",
       "      <th>ID_POZ_DOK</th>\n",
       "      <th>OP_POZ_DOK</th>\n",
       "    </tr>\n",
       "  </thead>\n",
       "  <tbody>\n",
       "    <tr>\n",
       "      <th>5910</th>\n",
       "      <td>20853</td>\n",
       "      <td>N</td>\n",
       "      <td>ZP0000000002</td>\n",
       "      <td></td>\n",
       "      <td></td>\n",
       "      <td></td>\n",
       "      <td>17/05/04</td>\n",
       "      <td>08:00:00</td>\n",
       "      <td></td>\n",
       "      <td></td>\n",
       "      <td>12/01/01</td>\n",
       "      <td></td>\n",
       "      <td>12/01/01</td>\n",
       "      <td></td>\n",
       "      <td>506</td>\n",
       "      <td></td>\n",
       "      <td></td>\n",
       "      <td></td>\n",
       "      <td>ZP0000000002 50630170504</td>\n",
       "      <td>17/05/04</td>\n",
       "      <td>ZP0000000002</td>\n",
       "      <td>50630170504</td>\n",
       "      <td>KUP</td>\n",
       "      <td>0</td>\n",
       "      <td></td>\n",
       "      <td></td>\n",
       "      <td>0</td>\n",
       "      <td></td>\n",
       "    </tr>\n",
       "    <tr>\n",
       "      <th>6929</th>\n",
       "      <td>21073</td>\n",
       "      <td>N</td>\n",
       "      <td>ZP0000000003</td>\n",
       "      <td></td>\n",
       "      <td></td>\n",
       "      <td></td>\n",
       "      <td>17/05/04</td>\n",
       "      <td></td>\n",
       "      <td>16:31:04</td>\n",
       "      <td></td>\n",
       "      <td>12/01/01</td>\n",
       "      <td></td>\n",
       "      <td>12/01/01</td>\n",
       "      <td></td>\n",
       "      <td>506</td>\n",
       "      <td></td>\n",
       "      <td></td>\n",
       "      <td></td>\n",
       "      <td>ZP0000000003 50630170504</td>\n",
       "      <td>17/05/04</td>\n",
       "      <td>ZP0000000003</td>\n",
       "      <td>50630170504</td>\n",
       "      <td>KUP</td>\n",
       "      <td>0</td>\n",
       "      <td></td>\n",
       "      <td></td>\n",
       "      <td>0</td>\n",
       "      <td></td>\n",
       "    </tr>\n",
       "    <tr>\n",
       "      <th>5767</th>\n",
       "      <td>21580</td>\n",
       "      <td>N</td>\n",
       "      <td>ZP0000000003</td>\n",
       "      <td></td>\n",
       "      <td></td>\n",
       "      <td></td>\n",
       "      <td>17/05/05</td>\n",
       "      <td></td>\n",
       "      <td>16:30:04</td>\n",
       "      <td></td>\n",
       "      <td>12/01/01</td>\n",
       "      <td></td>\n",
       "      <td>12/01/01</td>\n",
       "      <td></td>\n",
       "      <td>506</td>\n",
       "      <td></td>\n",
       "      <td></td>\n",
       "      <td></td>\n",
       "      <td>ZP0000000003 50630170505</td>\n",
       "      <td>17/05/05</td>\n",
       "      <td>ZP0000000003</td>\n",
       "      <td>50630170505</td>\n",
       "      <td>KUP</td>\n",
       "      <td>0</td>\n",
       "      <td></td>\n",
       "      <td></td>\n",
       "      <td>0</td>\n",
       "      <td></td>\n",
       "    </tr>\n",
       "    <tr>\n",
       "      <th>6053</th>\n",
       "      <td>21200</td>\n",
       "      <td>N</td>\n",
       "      <td>ZP0000000002</td>\n",
       "      <td></td>\n",
       "      <td></td>\n",
       "      <td></td>\n",
       "      <td>17/05/05</td>\n",
       "      <td>07:40:12</td>\n",
       "      <td></td>\n",
       "      <td></td>\n",
       "      <td>12/01/01</td>\n",
       "      <td></td>\n",
       "      <td>12/01/01</td>\n",
       "      <td></td>\n",
       "      <td>506</td>\n",
       "      <td></td>\n",
       "      <td></td>\n",
       "      <td></td>\n",
       "      <td>ZP0000000002 50630170505</td>\n",
       "      <td>17/05/05</td>\n",
       "      <td>ZP0000000002</td>\n",
       "      <td>50630170505</td>\n",
       "      <td>KUP</td>\n",
       "      <td>0</td>\n",
       "      <td></td>\n",
       "      <td></td>\n",
       "      <td>0</td>\n",
       "      <td></td>\n",
       "    </tr>\n",
       "    <tr>\n",
       "      <th>6722</th>\n",
       "      <td>22411</td>\n",
       "      <td>N</td>\n",
       "      <td>ZP0000000003</td>\n",
       "      <td></td>\n",
       "      <td></td>\n",
       "      <td></td>\n",
       "      <td>17/05/08</td>\n",
       "      <td></td>\n",
       "      <td>16:30:09</td>\n",
       "      <td></td>\n",
       "      <td>12/01/01</td>\n",
       "      <td></td>\n",
       "      <td>12/01/01</td>\n",
       "      <td></td>\n",
       "      <td>506</td>\n",
       "      <td></td>\n",
       "      <td></td>\n",
       "      <td></td>\n",
       "      <td>ZP0000000003 50630170508</td>\n",
       "      <td>17/05/08</td>\n",
       "      <td>ZP0000000003</td>\n",
       "      <td>50630170508</td>\n",
       "      <td>KUP</td>\n",
       "      <td>0</td>\n",
       "      <td></td>\n",
       "      <td></td>\n",
       "      <td>0</td>\n",
       "      <td></td>\n",
       "    </tr>\n",
       "    <tr>\n",
       "      <th>...</th>\n",
       "      <td>...</td>\n",
       "      <td>...</td>\n",
       "      <td>...</td>\n",
       "      <td>...</td>\n",
       "      <td>...</td>\n",
       "      <td>...</td>\n",
       "      <td>...</td>\n",
       "      <td>...</td>\n",
       "      <td>...</td>\n",
       "      <td>...</td>\n",
       "      <td>...</td>\n",
       "      <td>...</td>\n",
       "      <td>...</td>\n",
       "      <td>...</td>\n",
       "      <td>...</td>\n",
       "      <td>...</td>\n",
       "      <td>...</td>\n",
       "      <td>...</td>\n",
       "      <td>...</td>\n",
       "      <td>...</td>\n",
       "      <td>...</td>\n",
       "      <td>...</td>\n",
       "      <td>...</td>\n",
       "      <td>...</td>\n",
       "      <td>...</td>\n",
       "      <td>...</td>\n",
       "      <td>...</td>\n",
       "      <td>...</td>\n",
       "    </tr>\n",
       "    <tr>\n",
       "      <th>961852</th>\n",
       "      <td>1457740</td>\n",
       "      <td>N</td>\n",
       "      <td>ZP0000045804</td>\n",
       "      <td></td>\n",
       "      <td></td>\n",
       "      <td></td>\n",
       "      <td>21/11/05</td>\n",
       "      <td></td>\n",
       "      <td></td>\n",
       "      <td></td>\n",
       "      <td>21/11/05</td>\n",
       "      <td>06:00:00</td>\n",
       "      <td>21/11/05</td>\n",
       "      <td>14:00:00</td>\n",
       "      <td>506</td>\n",
       "      <td></td>\n",
       "      <td></td>\n",
       "      <td></td>\n",
       "      <td>ZP0000045804 50620211105</td>\n",
       "      <td>12/01/01</td>\n",
       "      <td>ZP0000045804</td>\n",
       "      <td>50620211105</td>\n",
       "      <td>KUP</td>\n",
       "      <td>0</td>\n",
       "      <td></td>\n",
       "      <td></td>\n",
       "      <td>0</td>\n",
       "      <td></td>\n",
       "    </tr>\n",
       "    <tr>\n",
       "      <th>961853</th>\n",
       "      <td>1457741</td>\n",
       "      <td>N</td>\n",
       "      <td>ZP0000045804</td>\n",
       "      <td></td>\n",
       "      <td></td>\n",
       "      <td></td>\n",
       "      <td>21/11/08</td>\n",
       "      <td></td>\n",
       "      <td></td>\n",
       "      <td></td>\n",
       "      <td>21/11/08</td>\n",
       "      <td>06:00:00</td>\n",
       "      <td>21/11/08</td>\n",
       "      <td>14:00:00</td>\n",
       "      <td>506</td>\n",
       "      <td></td>\n",
       "      <td></td>\n",
       "      <td></td>\n",
       "      <td>ZP0000045804 50620211108</td>\n",
       "      <td>12/01/01</td>\n",
       "      <td>ZP0000045804</td>\n",
       "      <td>50620211108</td>\n",
       "      <td>KUP</td>\n",
       "      <td>0</td>\n",
       "      <td></td>\n",
       "      <td></td>\n",
       "      <td>0</td>\n",
       "      <td></td>\n",
       "    </tr>\n",
       "    <tr>\n",
       "      <th>961854</th>\n",
       "      <td>1457742</td>\n",
       "      <td>N</td>\n",
       "      <td>ZP0000045804</td>\n",
       "      <td></td>\n",
       "      <td></td>\n",
       "      <td></td>\n",
       "      <td>21/11/09</td>\n",
       "      <td></td>\n",
       "      <td></td>\n",
       "      <td></td>\n",
       "      <td>21/11/09</td>\n",
       "      <td>06:00:00</td>\n",
       "      <td>21/11/09</td>\n",
       "      <td>14:00:00</td>\n",
       "      <td>506</td>\n",
       "      <td></td>\n",
       "      <td></td>\n",
       "      <td></td>\n",
       "      <td>ZP0000045804 50620211109</td>\n",
       "      <td>12/01/01</td>\n",
       "      <td>ZP0000045804</td>\n",
       "      <td>50620211109</td>\n",
       "      <td>KUP</td>\n",
       "      <td>0</td>\n",
       "      <td></td>\n",
       "      <td></td>\n",
       "      <td>0</td>\n",
       "      <td></td>\n",
       "    </tr>\n",
       "    <tr>\n",
       "      <th>961855</th>\n",
       "      <td>1457743</td>\n",
       "      <td>N</td>\n",
       "      <td>ZP0000045804</td>\n",
       "      <td></td>\n",
       "      <td></td>\n",
       "      <td></td>\n",
       "      <td>21/11/10</td>\n",
       "      <td></td>\n",
       "      <td></td>\n",
       "      <td></td>\n",
       "      <td>21/11/10</td>\n",
       "      <td>06:00:00</td>\n",
       "      <td>21/11/10</td>\n",
       "      <td>14:00:00</td>\n",
       "      <td>506</td>\n",
       "      <td></td>\n",
       "      <td></td>\n",
       "      <td></td>\n",
       "      <td>ZP0000045804 50620211110</td>\n",
       "      <td>12/01/01</td>\n",
       "      <td>ZP0000045804</td>\n",
       "      <td>50620211110</td>\n",
       "      <td>KUP</td>\n",
       "      <td>0</td>\n",
       "      <td></td>\n",
       "      <td></td>\n",
       "      <td>0</td>\n",
       "      <td></td>\n",
       "    </tr>\n",
       "    <tr>\n",
       "      <th>961856</th>\n",
       "      <td>1457744</td>\n",
       "      <td>N</td>\n",
       "      <td>ZP0000045804</td>\n",
       "      <td></td>\n",
       "      <td></td>\n",
       "      <td></td>\n",
       "      <td>21/11/12</td>\n",
       "      <td></td>\n",
       "      <td></td>\n",
       "      <td></td>\n",
       "      <td>21/11/12</td>\n",
       "      <td>06:00:00</td>\n",
       "      <td>21/11/12</td>\n",
       "      <td>14:00:00</td>\n",
       "      <td>506</td>\n",
       "      <td></td>\n",
       "      <td></td>\n",
       "      <td></td>\n",
       "      <td>ZP0000045804 50620211112</td>\n",
       "      <td>12/01/01</td>\n",
       "      <td>ZP0000045804</td>\n",
       "      <td>50620211112</td>\n",
       "      <td>KUP</td>\n",
       "      <td>0</td>\n",
       "      <td></td>\n",
       "      <td></td>\n",
       "      <td>0</td>\n",
       "      <td></td>\n",
       "    </tr>\n",
       "  </tbody>\n",
       "</table>\n",
       "<p>2346 rows × 28 columns</p>\n",
       "</div>"
      ],
      "text/plain": [
       "          RECNO IS_DELETED        ID_ZAD ID_ZAD_PG ID_ZAD_IND ID_ZAD_DOD  \\\n",
       "5910      20853          N  ZP0000000002                                   \n",
       "6929      21073          N  ZP0000000003                                   \n",
       "5767      21580          N  ZP0000000003                                   \n",
       "6053      21200          N  ZP0000000002                                   \n",
       "6722      22411          N  ZP0000000003                                   \n",
       "...         ...        ...           ...       ...        ...        ...   \n",
       "961852  1457740          N  ZP0000045804                                   \n",
       "961853  1457741          N  ZP0000045804                                   \n",
       "961854  1457742          N  ZP0000045804                                   \n",
       "961855  1457743          N  ZP0000045804                                   \n",
       "961856  1457744          N  ZP0000045804                                   \n",
       "\n",
       "            DATA  ROZ_DNIA  ZAK_DNIA GODZ_PL  DATA_ROZ  GODZ_ROZ  DATA_ZAK  \\\n",
       "5910    17/05/04  08:00:00                    12/01/01            12/01/01   \n",
       "6929    17/05/04            16:31:04          12/01/01            12/01/01   \n",
       "5767    17/05/05            16:30:04          12/01/01            12/01/01   \n",
       "6053    17/05/05  07:40:12                    12/01/01            12/01/01   \n",
       "6722    17/05/08            16:30:09          12/01/01            12/01/01   \n",
       "...          ...       ...       ...     ...       ...       ...       ...   \n",
       "961852  21/11/05                              21/11/05  06:00:00  21/11/05   \n",
       "961853  21/11/08                              21/11/08  06:00:00  21/11/08   \n",
       "961854  21/11/09                              21/11/09  06:00:00  21/11/09   \n",
       "961855  21/11/10                              21/11/10  06:00:00  21/11/10   \n",
       "961856  21/11/12                              21/11/12  06:00:00  21/11/12   \n",
       "\n",
       "        GODZ_ZAK  KOD_OPER IE$0 IE$1 IE$2                      IE$3 DATA_DNIA  \\\n",
       "5910                   506                 ZP0000000002 50630170504  17/05/04   \n",
       "6929                   506                 ZP0000000003 50630170504  17/05/04   \n",
       "5767                   506                 ZP0000000003 50630170505  17/05/05   \n",
       "6053                   506                 ZP0000000002 50630170505  17/05/05   \n",
       "6722                   506                 ZP0000000003 50630170508  17/05/08   \n",
       "...          ...       ...  ...  ...  ...                       ...       ...   \n",
       "961852  14:00:00       506                 ZP0000045804 50620211105  12/01/01   \n",
       "961853  14:00:00       506                 ZP0000045804 50620211108  12/01/01   \n",
       "961854  14:00:00       506                 ZP0000045804 50620211109  12/01/01   \n",
       "961855  14:00:00       506                 ZP0000045804 50620211110  12/01/01   \n",
       "961856  14:00:00       506                 ZP0000045804 50620211112  12/01/01   \n",
       "\n",
       "                                                    IE$4          IE$5  \\\n",
       "5910                                        ZP0000000002   50630170504   \n",
       "6929                                        ZP0000000003   50630170504   \n",
       "5767                                        ZP0000000003   50630170505   \n",
       "6053                                        ZP0000000002   50630170505   \n",
       "6722                                        ZP0000000003   50630170508   \n",
       "...                                                  ...           ...   \n",
       "961852                                      ZP0000045804   50620211105   \n",
       "961853                                      ZP0000045804   50620211108   \n",
       "961854                                      ZP0000045804   50620211109   \n",
       "961855                                      ZP0000045804   50620211110   \n",
       "961856                                      ZP0000045804   50620211112   \n",
       "\n",
       "       KOD_GR_RCP  IL_JEDN ID_DOK NR_DOK  ID_POZ_DOK OP_POZ_DOK  \n",
       "5910          KUP        0                         0             \n",
       "6929          KUP        0                         0             \n",
       "5767          KUP        0                         0             \n",
       "6053          KUP        0                         0             \n",
       "6722          KUP        0                         0             \n",
       "...           ...      ...    ...    ...         ...        ...  \n",
       "961852        KUP        0                         0             \n",
       "961853        KUP        0                         0             \n",
       "961854        KUP        0                         0             \n",
       "961855        KUP        0                         0             \n",
       "961856        KUP        0                         0             \n",
       "\n",
       "[2346 rows x 28 columns]"
      ]
     },
     "execution_count": 182,
     "metadata": {},
     "output_type": "execute_result"
    }
   ],
   "source": [
    "df_ewid_rcp.loc[df_ewid_rcp['KOD_OPER']==506].sort_values(by='DATA')"
   ]
  },
  {
   "cell_type": "code",
   "execution_count": 186,
   "id": "275db9cb-5f5a-44d1-aad8-8aab90141c80",
   "metadata": {},
   "outputs": [
    {
     "data": {
      "text/html": [
       "<div>\n",
       "<style scoped>\n",
       "    .dataframe tbody tr th:only-of-type {\n",
       "        vertical-align: middle;\n",
       "    }\n",
       "\n",
       "    .dataframe tbody tr th {\n",
       "        vertical-align: top;\n",
       "    }\n",
       "\n",
       "    .dataframe thead th {\n",
       "        text-align: right;\n",
       "    }\n",
       "</style>\n",
       "<table border=\"1\" class=\"dataframe\">\n",
       "  <thead>\n",
       "    <tr style=\"text-align: right;\">\n",
       "      <th></th>\n",
       "      <th>FAKTURA</th>\n",
       "      <th>Z_DNIA</th>\n",
       "      <th>KOD</th>\n",
       "      <th>KOD_OPER</th>\n",
       "      <th>FAKTURA_KD</th>\n",
       "      <th>OPIS</th>\n",
       "      <th>RODZAJ</th>\n",
       "      <th>TYP_DOKUM</th>\n",
       "      <th>WARTOSC_B_N13</th>\n",
       "      <th>WARTOSC_B_ZAMOW1</th>\n",
       "      <th>year</th>\n",
       "      <th>month</th>\n",
       "      <th>day_of_year</th>\n",
       "      <th>week</th>\n",
       "      <th>week_day</th>\n",
       "      <th>year_month</th>\n",
       "      <th>year_week</th>\n",
       "      <th>year_day</th>\n",
       "      <th>NAZWISKO</th>\n",
       "      <th>czy_z_kuponow</th>\n",
       "    </tr>\n",
       "  </thead>\n",
       "  <tbody>\n",
       "    <tr>\n",
       "      <th>142325</th>\n",
       "      <td>ZO6000452927</td>\n",
       "      <td>2022-06-02</td>\n",
       "      <td>4062</td>\n",
       "      <td>152</td>\n",
       "      <td>nie_pusta</td>\n",
       "      <td>3</td>\n",
       "      <td>RZ</td>\n",
       "      <td>V</td>\n",
       "      <td>369.43</td>\n",
       "      <td>349.75</td>\n",
       "      <td>2022</td>\n",
       "      <td>6</td>\n",
       "      <td>153</td>\n",
       "      <td>22</td>\n",
       "      <td>4</td>\n",
       "      <td>2022-06-01</td>\n",
       "      <td>2022--22</td>\n",
       "      <td>2022--153</td>\n",
       "      <td>B. DURAJ</td>\n",
       "      <td>tak</td>\n",
       "    </tr>\n",
       "    <tr>\n",
       "      <th>142361</th>\n",
       "      <td>ZO6000453343</td>\n",
       "      <td>2022-06-03</td>\n",
       "      <td>4520</td>\n",
       "      <td>152</td>\n",
       "      <td>nie_pusta</td>\n",
       "      <td>0</td>\n",
       "      <td>RZ</td>\n",
       "      <td>V</td>\n",
       "      <td>189.30</td>\n",
       "      <td>189.30</td>\n",
       "      <td>2022</td>\n",
       "      <td>6</td>\n",
       "      <td>154</td>\n",
       "      <td>22</td>\n",
       "      <td>5</td>\n",
       "      <td>2022-06-01</td>\n",
       "      <td>2022--22</td>\n",
       "      <td>2022--154</td>\n",
       "      <td>B. DURAJ</td>\n",
       "      <td>tak</td>\n",
       "    </tr>\n",
       "    <tr>\n",
       "      <th>142572</th>\n",
       "      <td>ZO6000453667</td>\n",
       "      <td>2022-06-06</td>\n",
       "      <td>J93002</td>\n",
       "      <td>152</td>\n",
       "      <td>nie_pusta</td>\n",
       "      <td>0</td>\n",
       "      <td>RZ</td>\n",
       "      <td>V</td>\n",
       "      <td>577.61</td>\n",
       "      <td>577.61</td>\n",
       "      <td>2022</td>\n",
       "      <td>6</td>\n",
       "      <td>157</td>\n",
       "      <td>23</td>\n",
       "      <td>1</td>\n",
       "      <td>2022-06-01</td>\n",
       "      <td>2022--23</td>\n",
       "      <td>2022--157</td>\n",
       "      <td>B. DURAJ</td>\n",
       "      <td>tak</td>\n",
       "    </tr>\n",
       "    <tr>\n",
       "      <th>143404</th>\n",
       "      <td>ZO6000452747</td>\n",
       "      <td>2022-06-02</td>\n",
       "      <td>J93002</td>\n",
       "      <td>152</td>\n",
       "      <td>nie_pusta</td>\n",
       "      <td>21</td>\n",
       "      <td>RZ</td>\n",
       "      <td>V</td>\n",
       "      <td>466.79</td>\n",
       "      <td>466.79</td>\n",
       "      <td>2022</td>\n",
       "      <td>6</td>\n",
       "      <td>153</td>\n",
       "      <td>22</td>\n",
       "      <td>4</td>\n",
       "      <td>2022-06-01</td>\n",
       "      <td>2022--22</td>\n",
       "      <td>2022--153</td>\n",
       "      <td>B. DURAJ</td>\n",
       "      <td>tak</td>\n",
       "    </tr>\n",
       "    <tr>\n",
       "      <th>143405</th>\n",
       "      <td>ZO6000452758</td>\n",
       "      <td>2022-06-02</td>\n",
       "      <td>5038</td>\n",
       "      <td>152</td>\n",
       "      <td>nie_pusta</td>\n",
       "      <td>33</td>\n",
       "      <td>RZ</td>\n",
       "      <td>V</td>\n",
       "      <td>288.16</td>\n",
       "      <td>268.48</td>\n",
       "      <td>2022</td>\n",
       "      <td>6</td>\n",
       "      <td>153</td>\n",
       "      <td>22</td>\n",
       "      <td>4</td>\n",
       "      <td>2022-06-01</td>\n",
       "      <td>2022--22</td>\n",
       "      <td>2022--153</td>\n",
       "      <td>B. DURAJ</td>\n",
       "      <td>tak</td>\n",
       "    </tr>\n",
       "    <tr>\n",
       "      <th>...</th>\n",
       "      <td>...</td>\n",
       "      <td>...</td>\n",
       "      <td>...</td>\n",
       "      <td>...</td>\n",
       "      <td>...</td>\n",
       "      <td>...</td>\n",
       "      <td>...</td>\n",
       "      <td>...</td>\n",
       "      <td>...</td>\n",
       "      <td>...</td>\n",
       "      <td>...</td>\n",
       "      <td>...</td>\n",
       "      <td>...</td>\n",
       "      <td>...</td>\n",
       "      <td>...</td>\n",
       "      <td>...</td>\n",
       "      <td>...</td>\n",
       "      <td>...</td>\n",
       "      <td>...</td>\n",
       "      <td>...</td>\n",
       "    </tr>\n",
       "    <tr>\n",
       "      <th>163258</th>\n",
       "      <td>ZO6000454613</td>\n",
       "      <td>2022-06-08</td>\n",
       "      <td>3663</td>\n",
       "      <td>152</td>\n",
       "      <td>nie_pusta</td>\n",
       "      <td>3</td>\n",
       "      <td>RZ</td>\n",
       "      <td>V</td>\n",
       "      <td>294.46</td>\n",
       "      <td>274.78</td>\n",
       "      <td>2022</td>\n",
       "      <td>6</td>\n",
       "      <td>159</td>\n",
       "      <td>23</td>\n",
       "      <td>3</td>\n",
       "      <td>2022-06-01</td>\n",
       "      <td>2022--23</td>\n",
       "      <td>2022--159</td>\n",
       "      <td>B. DURAJ</td>\n",
       "      <td>tak</td>\n",
       "    </tr>\n",
       "    <tr>\n",
       "      <th>163280</th>\n",
       "      <td>ZO6000458464</td>\n",
       "      <td>2022-06-22</td>\n",
       "      <td>K72051</td>\n",
       "      <td>152</td>\n",
       "      <td>nie_pusta</td>\n",
       "      <td>7</td>\n",
       "      <td>RZ</td>\n",
       "      <td>V</td>\n",
       "      <td>412.05</td>\n",
       "      <td>392.37</td>\n",
       "      <td>2022</td>\n",
       "      <td>6</td>\n",
       "      <td>173</td>\n",
       "      <td>25</td>\n",
       "      <td>3</td>\n",
       "      <td>2022-06-01</td>\n",
       "      <td>2022--25</td>\n",
       "      <td>2022--173</td>\n",
       "      <td>B. DURAJ</td>\n",
       "      <td>tak</td>\n",
       "    </tr>\n",
       "    <tr>\n",
       "      <th>163298</th>\n",
       "      <td>ZO6000454637</td>\n",
       "      <td>2022-06-08</td>\n",
       "      <td>6089</td>\n",
       "      <td>152</td>\n",
       "      <td>nie_pusta</td>\n",
       "      <td>0</td>\n",
       "      <td>RZ</td>\n",
       "      <td>V</td>\n",
       "      <td>352.27</td>\n",
       "      <td>332.59</td>\n",
       "      <td>2022</td>\n",
       "      <td>6</td>\n",
       "      <td>159</td>\n",
       "      <td>23</td>\n",
       "      <td>3</td>\n",
       "      <td>2022-06-01</td>\n",
       "      <td>2022--23</td>\n",
       "      <td>2022--159</td>\n",
       "      <td>B. DURAJ</td>\n",
       "      <td>tak</td>\n",
       "    </tr>\n",
       "    <tr>\n",
       "      <th>163303</th>\n",
       "      <td>ZO6000460212</td>\n",
       "      <td>2022-06-28</td>\n",
       "      <td>90XXXX</td>\n",
       "      <td>152</td>\n",
       "      <td>nie_pusta</td>\n",
       "      <td>20</td>\n",
       "      <td>RZ</td>\n",
       "      <td>M</td>\n",
       "      <td>153.86</td>\n",
       "      <td>153.86</td>\n",
       "      <td>2022</td>\n",
       "      <td>6</td>\n",
       "      <td>179</td>\n",
       "      <td>26</td>\n",
       "      <td>2</td>\n",
       "      <td>2022-06-01</td>\n",
       "      <td>2022--26</td>\n",
       "      <td>2022--179</td>\n",
       "      <td>B. DURAJ</td>\n",
       "      <td>tak</td>\n",
       "    </tr>\n",
       "    <tr>\n",
       "      <th>163316</th>\n",
       "      <td>ZO6000458478</td>\n",
       "      <td>2022-06-22</td>\n",
       "      <td>4589</td>\n",
       "      <td>152</td>\n",
       "      <td>nie_pusta</td>\n",
       "      <td>3</td>\n",
       "      <td>RZ</td>\n",
       "      <td>V</td>\n",
       "      <td>273.80</td>\n",
       "      <td>273.80</td>\n",
       "      <td>2022</td>\n",
       "      <td>6</td>\n",
       "      <td>173</td>\n",
       "      <td>25</td>\n",
       "      <td>3</td>\n",
       "      <td>2022-06-01</td>\n",
       "      <td>2022--25</td>\n",
       "      <td>2022--173</td>\n",
       "      <td>B. DURAJ</td>\n",
       "      <td>tak</td>\n",
       "    </tr>\n",
       "  </tbody>\n",
       "</table>\n",
       "<p>401 rows × 20 columns</p>\n",
       "</div>"
      ],
      "text/plain": [
       "             FAKTURA     Z_DNIA     KOD  KOD_OPER FAKTURA_KD  OPIS RODZAJ  \\\n",
       "142325  ZO6000452927 2022-06-02    4062       152  nie_pusta     3     RZ   \n",
       "142361  ZO6000453343 2022-06-03    4520       152  nie_pusta     0     RZ   \n",
       "142572  ZO6000453667 2022-06-06  J93002       152  nie_pusta     0     RZ   \n",
       "143404  ZO6000452747 2022-06-02  J93002       152  nie_pusta    21     RZ   \n",
       "143405  ZO6000452758 2022-06-02    5038       152  nie_pusta    33     RZ   \n",
       "...              ...        ...     ...       ...        ...   ...    ...   \n",
       "163258  ZO6000454613 2022-06-08    3663       152  nie_pusta     3     RZ   \n",
       "163280  ZO6000458464 2022-06-22  K72051       152  nie_pusta     7     RZ   \n",
       "163298  ZO6000454637 2022-06-08    6089       152  nie_pusta     0     RZ   \n",
       "163303  ZO6000460212 2022-06-28  90XXXX       152  nie_pusta    20     RZ   \n",
       "163316  ZO6000458478 2022-06-22    4589       152  nie_pusta     3     RZ   \n",
       "\n",
       "       TYP_DOKUM  WARTOSC_B_N13  WARTOSC_B_ZAMOW1  year  month  day_of_year  \\\n",
       "142325         V         369.43            349.75  2022      6          153   \n",
       "142361         V         189.30            189.30  2022      6          154   \n",
       "142572         V         577.61            577.61  2022      6          157   \n",
       "143404         V         466.79            466.79  2022      6          153   \n",
       "143405         V         288.16            268.48  2022      6          153   \n",
       "...          ...            ...               ...   ...    ...          ...   \n",
       "163258         V         294.46            274.78  2022      6          159   \n",
       "163280         V         412.05            392.37  2022      6          173   \n",
       "163298         V         352.27            332.59  2022      6          159   \n",
       "163303         M         153.86            153.86  2022      6          179   \n",
       "163316         V         273.80            273.80  2022      6          173   \n",
       "\n",
       "        week  week_day year_month year_week   year_day  NAZWISKO czy_z_kuponow  \n",
       "142325    22         4 2022-06-01  2022--22  2022--153  B. DURAJ           tak  \n",
       "142361    22         5 2022-06-01  2022--22  2022--154  B. DURAJ           tak  \n",
       "142572    23         1 2022-06-01  2022--23  2022--157  B. DURAJ           tak  \n",
       "143404    22         4 2022-06-01  2022--22  2022--153  B. DURAJ           tak  \n",
       "143405    22         4 2022-06-01  2022--22  2022--153  B. DURAJ           tak  \n",
       "...      ...       ...        ...       ...        ...       ...           ...  \n",
       "163258    23         3 2022-06-01  2022--23  2022--159  B. DURAJ           tak  \n",
       "163280    25         3 2022-06-01  2022--25  2022--173  B. DURAJ           tak  \n",
       "163298    23         3 2022-06-01  2022--23  2022--159  B. DURAJ           tak  \n",
       "163303    26         2 2022-06-01  2022--26  2022--179  B. DURAJ           tak  \n",
       "163316    25         3 2022-06-01  2022--25  2022--173  B. DURAJ           tak  \n",
       "\n",
       "[401 rows x 20 columns]"
      ]
     },
     "execution_count": 186,
     "metadata": {},
     "output_type": "execute_result"
    }
   ],
   "source": [
    "df_zamowienia.loc[df_zamowienia['year']==2022].loc[df_zamowienia['month']==6].loc[df_zamowienia['KOD_OPER']==152]#.groupby(['RODZAJ']).agg({'FAKTURA':'nunique'})"
   ]
  },
  {
   "cell_type": "code",
   "execution_count": null,
   "id": "25cf4522-48d6-4ad4-b44b-e3e4bf1108be",
   "metadata": {},
   "outputs": [],
   "source": []
  }
 ],
 "metadata": {
  "kernelspec": {
   "display_name": "Python 3 (ipykernel)",
   "language": "python",
   "name": "python3"
  },
  "language_info": {
   "codemirror_mode": {
    "name": "ipython",
    "version": 3
   },
   "file_extension": ".py",
   "mimetype": "text/x-python",
   "name": "python",
   "nbconvert_exporter": "python",
   "pygments_lexer": "ipython3",
   "version": "3.9.13"
  }
 },
 "nbformat": 4,
 "nbformat_minor": 5
}
